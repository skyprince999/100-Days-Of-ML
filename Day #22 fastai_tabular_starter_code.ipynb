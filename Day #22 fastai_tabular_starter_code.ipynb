{
 "cells": [
  {
   "cell_type": "markdown",
   "metadata": {
    "colab_type": "text",
    "id": "view-in-github"
   },
   "source": [
    "<a href=\"https://colab.research.google.com/github/skyprince999/100-Days-Of-ML/blob/master/Day_22_fastai_tabular_starter_code.ipynb\" target=\"_parent\"><img src=\"https://colab.research.google.com/assets/colab-badge.svg\" alt=\"Open In Colab\"/></a>"
   ]
  },
  {
   "cell_type": "markdown",
   "metadata": {
    "colab_type": "text",
    "id": "ecQkBRa--9er"
   },
   "source": [
    "# Context\n",
    "\n",
    "Traditionally we transfer categorical variables to one-hot encoding. The disadvantage is that this assumes independence among entities & creates a sparse matrix. This can lead to out-of-memory (OOM) while training. \n",
    "\n",
    "Entity embeddings instead use a vector to represent each entity. So each categorical variable is represented as a vector of floating points. Embeddings can does capture richer relationships & complexities. \n",
    "\n",
    "\n",
    "**Related paper**\n",
    "(Entity Embeddings of Categorical Variables)[https://arxiv.org/abs/1604.06737] \n",
    "Rachal Thomas' blog on Fast.ai (Categorical Embeddings)[https://www.fast.ai/2018/04/29/categorical-embeddings/]\n",
    "\n",
    "# Process flow\n",
    "\n",
    ">> I am running this on CPU, but you can add a GPU for faster training (*around 3x speedup*)\n",
    "\n",
    "1. Feature engineering is done for each store (store_id). Features are similar to this (notebook by kkiler)[https://www.kaggle.com/kneroma/m5-first-public-notebook-under-0-50] \n",
    "2. `TabularList` is used to create a DataBunch for store_id = 1\n",
    "3. Model is trained for a single store\n",
    "4. Separate models are trained for each store (*Not shown here. Models are stored in a public dataset*)\n",
    "5. Test data is processed\n",
    "6. (Trained models)[https://www.kaggle.com/skylord/m5-forecasting-models] are used to then predict for each store in the test data\n",
    "\n"
   ]
  },
  {
   "cell_type": "code",
   "execution_count": 0,
   "metadata": {
    "_cell_guid": "b1076dfc-b9ad-4769-8c92-a6c4dae69d19",
    "_uuid": "8f2839f25d086af736a60e9eeb907d3b93b6e0e5",
    "colab": {},
    "colab_type": "code",
    "id": "DnxFg_2t-9ex"
   },
   "outputs": [],
   "source": [
    "from  datetime import datetime, timedelta\n",
    "import time\n",
    "import gc\n",
    "import numpy as np, pandas as pd\n",
    "import gc"
   ]
  },
  {
   "cell_type": "code",
   "execution_count": 0,
   "metadata": {
    "colab": {},
    "colab_type": "code",
    "id": "3CbPuSuw-9fB"
   },
   "outputs": [],
   "source": [
    "from fastai import *      # import * is considered as a bad coding practice! will have to change this!\n",
    "from fastai.tabular import *"
   ]
  },
  {
   "cell_type": "code",
   "execution_count": 0,
   "metadata": {
    "_cell_guid": "79c7e3d0-c299-4dcb-8224-4455121ee9b0",
    "_uuid": "d629ff2d2480ee46fbb7e2d37f6b5fab8052498a",
    "colab": {},
    "colab_type": "code",
    "id": "jnxV9e7I-9fL"
   },
   "outputs": [],
   "source": [
    "start_nb = time.time()"
   ]
  },
  {
   "cell_type": "code",
   "execution_count": 0,
   "metadata": {
    "colab": {},
    "colab_type": "code",
    "id": "50tR6UyJ-9fW"
   },
   "outputs": [],
   "source": [
    "CAL_DTYPES={\"event_name_1\": \"category\", \"event_name_2\": \"category\", \"event_type_1\": \"category\", \n",
    "         \"event_type_2\": \"category\", \"weekday\": \"category\", 'wm_yr_wk': 'int16', \"wday\": \"int16\",\n",
    "        \"month\": \"int16\", \"year\": \"int16\", \"snap_CA\": \"float32\", 'snap_TX': 'float32', 'snap_WI': 'float32' }\n",
    "PRICE_DTYPES = {\"store_id\": \"category\", \"item_id\": \"category\", \"wm_yr_wk\": \"int16\",\"sell_price\":\"float32\" }\n",
    "\n",
    "pd.options.display.max_columns = 50\n",
    "h = 28 \n",
    "max_lags = 70\n",
    "tr_last = 1913\n",
    "fday = datetime(2016,4, 25) "
   ]
  },
  {
   "cell_type": "markdown",
   "metadata": {
    "colab_type": "text",
    "id": "sh-19Bul-9ff"
   },
   "source": [
    "# Define helper functions"
   ]
  },
  {
   "cell_type": "code",
   "execution_count": 0,
   "metadata": {
    "colab": {},
    "colab_type": "code",
    "id": "Z2IqG7tJ-9fh"
   },
   "outputs": [],
   "source": [
    "def create_dt(is_train = True, nrows = None, first_day = 1200, store_id = None):\n",
    "    \n",
    "    start = time.time()\n",
    "    if store_id == None and is_train:\n",
    "        print(\"ERROR: No store_id provided.Please provide an id [0-9]\")\n",
    "        return None\n",
    "        \n",
    "    prices = pd.read_csv(\"../input/m5-forecasting-accuracy/sell_prices.csv\", dtype = PRICE_DTYPES)\n",
    "    \n",
    "    \n",
    "    for col, col_dtype in PRICE_DTYPES.items():\n",
    "        if col_dtype == \"category\":\n",
    "            prices[col] = prices[col].cat.codes.astype(\"int16\")\n",
    "            prices[col] -= prices[col].min()\n",
    "            \n",
    "    cal = pd.read_csv(\"../input/m5-forecasting-accuracy/calendar.csv\", dtype = CAL_DTYPES)\n",
    "    cal[\"date\"] = pd.to_datetime(cal[\"date\"])\n",
    "    for col, col_dtype in CAL_DTYPES.items():\n",
    "        if col_dtype == \"category\":\n",
    "            cal[col] = cal[col].cat.codes.astype(\"int16\")\n",
    "            cal[col] -= cal[col].min()\n",
    "    \n",
    "    # Filter out the values for store_id\n",
    "    if is_train:\n",
    "        prices = prices[prices['store_id'] == store_id]\n",
    "        \n",
    "    print(f\"Shape of Store - {store_id} dataframe : \", prices.shape)\n",
    "    \n",
    "    \n",
    "    start_day = max(1 if is_train  else tr_last-max_lags, first_day)\n",
    "    numcols = [f\"d_{day}\" for day in range(start_day,tr_last+1)]\n",
    "    catcols = ['id', 'item_id', 'dept_id','store_id', 'cat_id', 'state_id']\n",
    "    dtype = {numcol:\"float32\" for numcol in numcols} \n",
    "    dtype.update({col: \"category\" for col in catcols if col != \"id\"})\n",
    "    dt = pd.read_csv(\"../input/m5-forecasting-accuracy/sales_train_validation.csv\", \n",
    "                     nrows = nrows, usecols = catcols + numcols, dtype = dtype)\n",
    "    \n",
    "    for col in catcols:\n",
    "        if col != \"id\":\n",
    "            dt[col] = dt[col].cat.codes.astype(\"int16\")\n",
    "            dt[col] -= dt[col].min()\n",
    "    \n",
    "    if not is_train:\n",
    "        for day in range(tr_last+1, tr_last+ 28 +1):\n",
    "            dt[f\"d_{day}\"] = np.nan\n",
    "    \n",
    "    dt = pd.melt(dt,\n",
    "                  id_vars = catcols,\n",
    "                  value_vars = [col for col in dt.columns if col.startswith(\"d_\")],\n",
    "                  var_name = \"d\",\n",
    "                  value_name = \"sales\")\n",
    "    \n",
    "    dt = dt.merge(cal, on= \"d\", copy = False)\n",
    "    dt = dt.merge(prices, on = [\"store_id\", \"item_id\", \"wm_yr_wk\"], copy = False)\n",
    "    end = time.time()\n",
    "    \n",
    "    print(\"Processing time: \", (end-start))\n",
    "    return dt"
   ]
  },
  {
   "cell_type": "code",
   "execution_count": 0,
   "metadata": {
    "colab": {},
    "colab_type": "code",
    "id": "GeU0DCFX-9fs"
   },
   "outputs": [],
   "source": [
    "def create_fea(dt):\n",
    "    start = time.time()\n",
    "    lags = [7, 28]\n",
    "    lag_cols = [f\"lag_{lag}\" for lag in lags ]\n",
    "    for lag, lag_col in zip(lags, lag_cols):\n",
    "        dt[lag_col] = dt[[\"id\",\"sales\"]].groupby(\"id\")[\"sales\"].shift(lag)\n",
    "\n",
    "    wins = [7, 28]\n",
    "    for win in wins :\n",
    "        for lag,lag_col in zip(lags, lag_cols):\n",
    "            dt[f\"rmean_{lag}_{win}\"] = dt[[\"id\", lag_col]].groupby(\"id\")[lag_col].transform(lambda x : x.rolling(win).mean())\n",
    "   \n",
    "    \n",
    "    date_features = {\n",
    "        \n",
    "        \"wday\": \"weekday\",\n",
    "        \"week\": \"weekofyear\",\n",
    "        \"month\": \"month\",\n",
    "        \"quarter\": \"quarter\",\n",
    "        \"year\": \"year\",\n",
    "        \"mday\": \"day\",\n",
    "#         \"ime\": \"is_month_end\",\n",
    "#         \"ims\": \"is_month_start\",\n",
    "    }\n",
    "    \n",
    "#     dt.drop([\"d\", \"wm_yr_wk\", \"weekday\"], axis=1, inplace = True)\n",
    "    \n",
    "    for date_feat_name, date_feat_func in date_features.items():\n",
    "        if date_feat_name in dt.columns:\n",
    "            dt[date_feat_name] = dt[date_feat_name].astype(\"int16\")\n",
    "        else:\n",
    "            dt[date_feat_name] = getattr(dt[\"date\"].dt, date_feat_func).astype(\"int16\")\n",
    "    \n",
    "    # Drop NA values\n",
    "    dt.dropna(inplace = True)     \n",
    "    \n",
    "    # Sort the dataframe on 'saledate' so we can easily create a validation set that data is in the 'future' of what's in the training set\n",
    "    dt = dt.sort_values(by='date', ascending=False)\n",
    "    dt = dt.reset_index(drop=True)\n",
    "    end = time.time()\n",
    "    print(\"Processing time: \", (end- start))\n",
    "    \n",
    "    return dt"
   ]
  },
  {
   "cell_type": "code",
   "execution_count": 0,
   "metadata": {
    "colab": {},
    "colab_type": "code",
    "id": "za_DxRms-9f1"
   },
   "outputs": [],
   "source": [
    "import shutil\n",
    "\n",
    "def checkDiskSpace():\n",
    "    total, used, free = shutil.disk_usage(\"/\")\n",
    "    \n",
    "    free = (free // (2**30))\n",
    "    \n",
    "    if free < 10:\n",
    "        return -1\n",
    "    else:\n",
    "        return 0 \n",
    "         \n",
    "\n",
    "# print(\"Total: %d GiB\" % (total // (2**30)))\n",
    "# print(\"Used: %d GiB\" % (used // (2**30)))\n",
    "# print(\"Free: %d GiB\" % (free // (2**30)))"
   ]
  },
  {
   "cell_type": "markdown",
   "metadata": {
    "colab_type": "text",
    "id": "sK0MY8Pb-9gD"
   },
   "source": [
    "# Pre-processing of train data"
   ]
  },
  {
   "cell_type": "code",
   "execution_count": 0,
   "metadata": {
    "colab": {},
    "colab_type": "code",
    "id": "UBDuS79Y-9gF"
   },
   "outputs": [],
   "source": [
    "cat_feats = ['item_id', 'dept_id','store_id', 'cat_id', 'state_id'] + [\"event_name_1\", \"event_name_2\", \"event_type_1\", \"event_type_2\"]\n",
    "useless_cols = [\"id\", \"date\", \"sales\",\"d\", \"wm_yr_wk\", \"weekday\"]\n",
    "#train_cols = df.columns[~df.columns.isin(useless_cols)]"
   ]
  },
  {
   "cell_type": "code",
   "execution_count": 0,
   "metadata": {
    "colab": {},
    "colab_type": "code",
    "id": "y7Hq9FOO-9gP"
   },
   "outputs": [],
   "source": [
    "FIRST_DAY = 1 # If you want to load all the data set it to '1' -->  Great  memory overflow  risk !"
   ]
  },
  {
   "cell_type": "code",
   "execution_count": 0,
   "metadata": {
    "colab": {},
    "colab_type": "code",
    "id": "PhOAzMyr-9gY",
    "outputId": "1f91e83c-f62d-4514-88cc-4c9f3343b86e"
   },
   "outputs": [
    {
     "name": "stdout",
     "output_type": "stream",
     "text": [
      "Shape of Store - 1 dataframe :  (637395, 4)\n",
      "Processing time:  62.7872998714447\n",
      "Processing time:  25.003514289855957\n",
      "(4108081, 31)\n",
      "2011-03-25 00:00:00 2016-04-24 00:00:00\n"
     ]
    }
   ],
   "source": [
    "idx = 1\n",
    "train_df = create_dt(is_train=True, first_day= FIRST_DAY, store_id = idx)\n",
    "train_df = create_fea(train_df)\n",
    "print(train_df.shape)\n",
    "print(train_df['date'].min(), train_df['date'].max())"
   ]
  },
  {
   "cell_type": "code",
   "execution_count": 0,
   "metadata": {
    "colab": {},
    "colab_type": "code",
    "id": "VuIlKcG1-9gn"
   },
   "outputs": [],
   "source": [
    "# Sort by date (used for train/validation splits)\n",
    "train_df.sort_values(by='date', inplace=True)\n",
    "\n",
    "# convert sales value to log scale\n",
    "train_df['sales'] = np.log(train_df['sales'] + 1)  # Taking logarithm values for sales\n"
   ]
  },
  {
   "cell_type": "code",
   "execution_count": 0,
   "metadata": {
    "colab": {},
    "colab_type": "code",
    "id": "I8x-omXA-9gy",
    "outputId": "9c23b74e-a267-4083-f7ab-4ebc34a0425a"
   },
   "outputs": [
    {
     "name": "stdout",
     "output_type": "stream",
     "text": [
      "64020\n"
     ]
    }
   ],
   "source": [
    "\n",
    "# Calculate where we should cut the validation set. We pick the most recent 'n' records in training set \n",
    "# where n is the number of entries in test set. \n",
    "\n",
    "cut = train_df['date'][(train_df['date'] == train_df['date'][62500])].index.max()\n",
    "print(cut)\n",
    "valid_idx = range(cut)\n"
   ]
  },
  {
   "cell_type": "code",
   "execution_count": 0,
   "metadata": {
    "colab": {},
    "colab_type": "code",
    "id": "M5P6q3j--9g7"
   },
   "outputs": [],
   "source": [
    "# Define categorical, continous & dependent variables\n",
    "\n",
    "cat_vars = ['wm_yr_wk', 'weekday', 'wday', 'month', 'year', 'event_name_1',\n",
    "           'event_type_1', 'event_name_2', 'event_type_2', 'snap_CA', 'snap_TX',\n",
    "           'snap_WI', 'week', 'quarter', 'mday']\n",
    "\n",
    "cont_vars = ['lag_7', 'lag_28', 'rmean_7_7', 'rmean_28_7',\n",
    "           'rmean_7_28', 'rmean_28_28', 'sell_price']\n",
    "\n",
    "dep_var = 'sales'\n"
   ]
  },
  {
   "cell_type": "code",
   "execution_count": 0,
   "metadata": {
    "colab": {},
    "colab_type": "code",
    "id": "y0vFmAly-9hD",
    "outputId": "a3830822-3a09-410d-b840-06984447a444"
   },
   "outputs": [
    {
     "name": "stdout",
     "output_type": "stream",
     "text": [
      "tensor([0.0000, 6.5152])\n"
     ]
    }
   ],
   "source": [
    "# We want to limit the price range for our prediction to be within the history sale price range, so we need to calculate the y_range\n",
    "# Note that we multiplied the maximum of 'SalePrice' by 1.2 so when we apply sigmoid, the upper limit will also be covered. \n",
    "max_y = np.max(train_df['sales'])*1.2\n",
    "y_range = torch.tensor([0, max_y], device=defaults.device)\n",
    "print(y_range)"
   ]
  },
  {
   "cell_type": "markdown",
   "metadata": {
    "colab_type": "text",
    "id": "b5MB2m-m-9hM"
   },
   "source": [
    "# Model training"
   ]
  },
  {
   "cell_type": "code",
   "execution_count": 0,
   "metadata": {
    "colab": {},
    "colab_type": "code",
    "id": "OWi6dVKl-9hO"
   },
   "outputs": [],
   "source": [
    "\n",
    "# Defining pre-processing we want for our fast.ai DataBunch\n",
    "procs=[FillMissing, Categorify, Normalize]\n",
    "\n",
    "# Use fast.ai datablock api to put our training data into the DataBunch, getting ready for training\n",
    "data = (TabularList.from_df(train_df, cat_names=cat_vars, cont_names=cont_vars, procs=procs)\n",
    "                       .split_by_idx(valid_idx)\n",
    "                       .label_from_df(dep_var)\n",
    "                       .databunch())\n",
    "\n",
    "\n",
    "# Create our tabular learner. The dense layer is 1000 and 500 two layer NN. We used dropout, hai \n",
    "learn = tabular_learner(data, layers=[512,256, 128], ps=[0.05,0.01, 0.5], emb_drop=0.04, \n",
    "                            y_range=y_range, metrics=rmse)\n"
   ]
  },
  {
   "cell_type": "code",
   "execution_count": 0,
   "metadata": {
    "colab": {},
    "colab_type": "code",
    "id": "Uw7PzG3h-9hX",
    "outputId": "be7b0fc6-53b4-4427-e84d-8a244ad7a7ce"
   },
   "outputs": [
    {
     "data": {
      "text/html": [
       "\n",
       "    <div>\n",
       "        <style>\n",
       "            /* Turns off some styling */\n",
       "            progress {\n",
       "                /* gets rid of default border in Firefox and Opera. */\n",
       "                border: none;\n",
       "                /* Needs to be in here for Safari polyfill so background images work as expected. */\n",
       "                background-size: auto;\n",
       "            }\n",
       "            .progress-bar-interrupted, .progress-bar-interrupted::-webkit-progress-bar {\n",
       "                background: #F44336;\n",
       "            }\n",
       "        </style>\n",
       "      <progress value='0' class='' max='1' style='width:300px; height:20px; vertical-align: middle;'></progress>\n",
       "      0.00% [0/1 00:00<00:00]\n",
       "    </div>\n",
       "    \n",
       "<table border=\"1\" class=\"dataframe\">\n",
       "  <thead>\n",
       "    <tr style=\"text-align: left;\">\n",
       "      <th>epoch</th>\n",
       "      <th>train_loss</th>\n",
       "      <th>valid_loss</th>\n",
       "      <th>root_mean_squared_error</th>\n",
       "      <th>time</th>\n",
       "    </tr>\n",
       "  </thead>\n",
       "  <tbody>\n",
       "  </tbody>\n",
       "</table><p>\n",
       "\n",
       "    <div>\n",
       "        <style>\n",
       "            /* Turns off some styling */\n",
       "            progress {\n",
       "                /* gets rid of default border in Firefox and Opera. */\n",
       "                border: none;\n",
       "                /* Needs to be in here for Safari polyfill so background images work as expected. */\n",
       "                background-size: auto;\n",
       "            }\n",
       "            .progress-bar-interrupted, .progress-bar-interrupted::-webkit-progress-bar {\n",
       "                background: #F44336;\n",
       "            }\n",
       "        </style>\n",
       "      <progress value='99' class='' max='63188' style='width:300px; height:20px; vertical-align: middle;'></progress>\n",
       "      0.16% [99/63188 00:04<49:28 3.9863]\n",
       "    </div>\n",
       "    "
      ],
      "text/plain": [
       "<IPython.core.display.HTML object>"
      ]
     },
     "metadata": {
      "tags": []
     },
     "output_type": "display_data"
    },
    {
     "name": "stdout",
     "output_type": "stream",
     "text": [
      "LR Finder is complete, type {learner_name}.recorder.plot() to see the graph.\n"
     ]
    }
   ],
   "source": [
    "learn.lr_find()"
   ]
  },
  {
   "cell_type": "code",
   "execution_count": 0,
   "metadata": {
    "colab": {},
    "colab_type": "code",
    "id": "coT6T2Ib-9hh",
    "outputId": "ec750321-0153-4537-a890-31c4902202a9"
   },
   "outputs": [
    {
     "data": {
      "image/png": "[encoded data removed]",
      "text/plain": [
       "<Figure size 432x288 with 1 Axes>"
      ]
     },
     "metadata": {
      "needs_background": "light",
      "tags": []
     },
     "output_type": "display_data"
    }
   ],
   "source": [
    "# Plot the learning rates\n",
    "learn.recorder.plot()"
   ]
  },
  {
   "cell_type": "code",
   "execution_count": 0,
   "metadata": {
    "colab": {},
    "colab_type": "code",
    "id": "obZ4gREh-9hs"
   },
   "outputs": [],
   "source": [
    "# learn.fit_one_cycle(3, 1e-2, wd=0.2)\n",
    "    \n",
    "# print(f\"Saving model...export_{idx}\")\n",
    "# learn.export(file = Path(f\"/kaggle/working/export_{idx}.pkl\")) # Save the model\n"
   ]
  },
  {
   "cell_type": "code",
   "execution_count": 0,
   "metadata": {
    "colab": {},
    "colab_type": "code",
    "id": "Q5sbW-xW-9h0"
   },
   "outputs": [],
   "source": [
    "learn = load_learner('/kaggle/input/m5-forecasting-models/', file=f'export_{idx}.pkl')"
   ]
  },
  {
   "cell_type": "code",
   "execution_count": 0,
   "metadata": {
    "colab": {},
    "colab_type": "code",
    "id": "L4kfxka2-9h9",
    "outputId": "2658cbdb-35e2-4a29-94a8-1abecaaba38a"
   },
   "outputs": [
    {
     "name": "stdout",
     "output_type": "stream",
     "text": [
      "Shape of Store - None dataframe :  (6841121, 4)\n",
      "Processing time:  11.380295515060425\n",
      "Processing time:  104.87205600738525\n",
      "CPU times: user 1min 54s, sys: 2.01 s, total: 1min 56s\n",
      "Wall time: 1min 56s\n"
     ]
    }
   ],
   "source": [
    "%%time\n",
    "te = create_dt(False)\n",
    "te = create_fea(te)"
   ]
  },
  {
   "cell_type": "code",
   "execution_count": 0,
   "metadata": {
    "colab": {},
    "colab_type": "code",
    "id": "ArhYwuFh-9iF",
    "outputId": "85eeb657-4424-4448-e697-3aa434b5afe7"
   },
   "outputs": [
    {
     "name": "stdout",
     "output_type": "stream",
     "text": [
      "(487840, 31)\n"
     ]
    },
    {
     "data": {
      "text/html": [
       "<div>\n",
       "<style scoped>\n",
       "    .dataframe tbody tr th:only-of-type {\n",
       "        vertical-align: middle;\n",
       "    }\n",
       "\n",
       "    .dataframe tbody tr th {\n",
       "        vertical-align: top;\n",
       "    }\n",
       "\n",
       "    .dataframe thead th {\n",
       "        text-align: right;\n",
       "    }\n",
       "</style>\n",
       "<table border=\"1\" class=\"dataframe\">\n",
       "  <thead>\n",
       "    <tr style=\"text-align: right;\">\n",
       "      <th></th>\n",
       "      <th>id</th>\n",
       "      <th>item_id</th>\n",
       "      <th>dept_id</th>\n",
       "      <th>store_id</th>\n",
       "      <th>cat_id</th>\n",
       "      <th>state_id</th>\n",
       "      <th>d</th>\n",
       "      <th>sales</th>\n",
       "      <th>date</th>\n",
       "      <th>wm_yr_wk</th>\n",
       "      <th>weekday</th>\n",
       "      <th>wday</th>\n",
       "      <th>month</th>\n",
       "      <th>year</th>\n",
       "      <th>event_name_1</th>\n",
       "      <th>event_type_1</th>\n",
       "      <th>event_name_2</th>\n",
       "      <th>event_type_2</th>\n",
       "      <th>snap_CA</th>\n",
       "      <th>snap_TX</th>\n",
       "      <th>snap_WI</th>\n",
       "      <th>sell_price</th>\n",
       "      <th>lag_7</th>\n",
       "      <th>lag_28</th>\n",
       "      <th>rmean_7_7</th>\n",
       "      <th>rmean_28_7</th>\n",
       "      <th>rmean_7_28</th>\n",
       "      <th>rmean_28_28</th>\n",
       "      <th>week</th>\n",
       "      <th>quarter</th>\n",
       "      <th>mday</th>\n",
       "    </tr>\n",
       "  </thead>\n",
       "  <tbody>\n",
       "    <tr>\n",
       "      <th>0</th>\n",
       "      <td>FOODS_3_827_WI_3_validation</td>\n",
       "      <td>3048</td>\n",
       "      <td>6</td>\n",
       "      <td>9</td>\n",
       "      <td>2</td>\n",
       "      <td>2</td>\n",
       "      <td>d_1913</td>\n",
       "      <td>0.0</td>\n",
       "      <td>2016-04-24</td>\n",
       "      <td>11613</td>\n",
       "      <td>3</td>\n",
       "      <td>2</td>\n",
       "      <td>4</td>\n",
       "      <td>2016</td>\n",
       "      <td>0</td>\n",
       "      <td>0</td>\n",
       "      <td>0</td>\n",
       "      <td>0</td>\n",
       "      <td>0.0</td>\n",
       "      <td>0.0</td>\n",
       "      <td>0.0</td>\n",
       "      <td>1.00</td>\n",
       "      <td>0.0</td>\n",
       "      <td>5.0</td>\n",
       "      <td>0.000000</td>\n",
       "      <td>2.428571</td>\n",
       "      <td>1.678571</td>\n",
       "      <td>1.964286</td>\n",
       "      <td>16</td>\n",
       "      <td>2</td>\n",
       "      <td>24</td>\n",
       "    </tr>\n",
       "    <tr>\n",
       "      <th>1</th>\n",
       "      <td>HOUSEHOLD_2_257_TX_1_validation</td>\n",
       "      <td>1352</td>\n",
       "      <td>3</td>\n",
       "      <td>4</td>\n",
       "      <td>1</td>\n",
       "      <td>1</td>\n",
       "      <td>d_1913</td>\n",
       "      <td>2.0</td>\n",
       "      <td>2016-04-24</td>\n",
       "      <td>11613</td>\n",
       "      <td>3</td>\n",
       "      <td>2</td>\n",
       "      <td>4</td>\n",
       "      <td>2016</td>\n",
       "      <td>0</td>\n",
       "      <td>0</td>\n",
       "      <td>0</td>\n",
       "      <td>0</td>\n",
       "      <td>0.0</td>\n",
       "      <td>0.0</td>\n",
       "      <td>0.0</td>\n",
       "      <td>7.43</td>\n",
       "      <td>0.0</td>\n",
       "      <td>1.0</td>\n",
       "      <td>0.285714</td>\n",
       "      <td>1.000000</td>\n",
       "      <td>0.500000</td>\n",
       "      <td>0.607143</td>\n",
       "      <td>16</td>\n",
       "      <td>2</td>\n",
       "      <td>24</td>\n",
       "    </tr>\n",
       "    <tr>\n",
       "      <th>2</th>\n",
       "      <td>HOUSEHOLD_2_264_TX_1_validation</td>\n",
       "      <td>1359</td>\n",
       "      <td>3</td>\n",
       "      <td>4</td>\n",
       "      <td>1</td>\n",
       "      <td>1</td>\n",
       "      <td>d_1913</td>\n",
       "      <td>0.0</td>\n",
       "      <td>2016-04-24</td>\n",
       "      <td>11613</td>\n",
       "      <td>3</td>\n",
       "      <td>2</td>\n",
       "      <td>4</td>\n",
       "      <td>2016</td>\n",
       "      <td>0</td>\n",
       "      <td>0</td>\n",
       "      <td>0</td>\n",
       "      <td>0</td>\n",
       "      <td>0.0</td>\n",
       "      <td>0.0</td>\n",
       "      <td>0.0</td>\n",
       "      <td>7.98</td>\n",
       "      <td>0.0</td>\n",
       "      <td>0.0</td>\n",
       "      <td>0.142857</td>\n",
       "      <td>0.428571</td>\n",
       "      <td>0.321429</td>\n",
       "      <td>0.428571</td>\n",
       "      <td>16</td>\n",
       "      <td>2</td>\n",
       "      <td>24</td>\n",
       "    </tr>\n",
       "    <tr>\n",
       "      <th>3</th>\n",
       "      <td>HOUSEHOLD_2_263_TX_1_validation</td>\n",
       "      <td>1358</td>\n",
       "      <td>3</td>\n",
       "      <td>4</td>\n",
       "      <td>1</td>\n",
       "      <td>1</td>\n",
       "      <td>d_1913</td>\n",
       "      <td>0.0</td>\n",
       "      <td>2016-04-24</td>\n",
       "      <td>11613</td>\n",
       "      <td>3</td>\n",
       "      <td>2</td>\n",
       "      <td>4</td>\n",
       "      <td>2016</td>\n",
       "      <td>0</td>\n",
       "      <td>0</td>\n",
       "      <td>0</td>\n",
       "      <td>0</td>\n",
       "      <td>0.0</td>\n",
       "      <td>0.0</td>\n",
       "      <td>0.0</td>\n",
       "      <td>3.97</td>\n",
       "      <td>0.0</td>\n",
       "      <td>0.0</td>\n",
       "      <td>0.000000</td>\n",
       "      <td>0.428571</td>\n",
       "      <td>0.178571</td>\n",
       "      <td>0.214286</td>\n",
       "      <td>16</td>\n",
       "      <td>2</td>\n",
       "      <td>24</td>\n",
       "    </tr>\n",
       "    <tr>\n",
       "      <th>4</th>\n",
       "      <td>HOUSEHOLD_2_262_TX_1_validation</td>\n",
       "      <td>1357</td>\n",
       "      <td>3</td>\n",
       "      <td>4</td>\n",
       "      <td>1</td>\n",
       "      <td>1</td>\n",
       "      <td>d_1913</td>\n",
       "      <td>1.0</td>\n",
       "      <td>2016-04-24</td>\n",
       "      <td>11613</td>\n",
       "      <td>3</td>\n",
       "      <td>2</td>\n",
       "      <td>4</td>\n",
       "      <td>2016</td>\n",
       "      <td>0</td>\n",
       "      <td>0</td>\n",
       "      <td>0</td>\n",
       "      <td>0</td>\n",
       "      <td>0.0</td>\n",
       "      <td>0.0</td>\n",
       "      <td>0.0</td>\n",
       "      <td>10.97</td>\n",
       "      <td>0.0</td>\n",
       "      <td>1.0</td>\n",
       "      <td>0.428571</td>\n",
       "      <td>0.285714</td>\n",
       "      <td>0.357143</td>\n",
       "      <td>0.392857</td>\n",
       "      <td>16</td>\n",
       "      <td>2</td>\n",
       "      <td>24</td>\n",
       "    </tr>\n",
       "  </tbody>\n",
       "</table>\n",
       "</div>"
      ],
      "text/plain": [
       "                                id  item_id  dept_id  store_id  cat_id  \\\n",
       "0      FOODS_3_827_WI_3_validation     3048        6         9       2   \n",
       "1  HOUSEHOLD_2_257_TX_1_validation     1352        3         4       1   \n",
       "2  HOUSEHOLD_2_264_TX_1_validation     1359        3         4       1   \n",
       "3  HOUSEHOLD_2_263_TX_1_validation     1358        3         4       1   \n",
       "4  HOUSEHOLD_2_262_TX_1_validation     1357        3         4       1   \n",
       "\n",
       "   state_id       d  sales       date  wm_yr_wk  weekday  wday  month  year  \\\n",
       "0         2  d_1913    0.0 2016-04-24     11613        3     2      4  2016   \n",
       "1         1  d_1913    2.0 2016-04-24     11613        3     2      4  2016   \n",
       "2         1  d_1913    0.0 2016-04-24     11613        3     2      4  2016   \n",
       "3         1  d_1913    0.0 2016-04-24     11613        3     2      4  2016   \n",
       "4         1  d_1913    1.0 2016-04-24     11613        3     2      4  2016   \n",
       "\n",
       "   event_name_1  event_type_1  event_name_2  event_type_2  snap_CA  snap_TX  \\\n",
       "0             0             0             0             0      0.0      0.0   \n",
       "1             0             0             0             0      0.0      0.0   \n",
       "2             0             0             0             0      0.0      0.0   \n",
       "3             0             0             0             0      0.0      0.0   \n",
       "4             0             0             0             0      0.0      0.0   \n",
       "\n",
       "   snap_WI  sell_price  lag_7  lag_28  rmean_7_7  rmean_28_7  rmean_7_28  \\\n",
       "0      0.0        1.00    0.0     5.0   0.000000    2.428571    1.678571   \n",
       "1      0.0        7.43    0.0     1.0   0.285714    1.000000    0.500000   \n",
       "2      0.0        7.98    0.0     0.0   0.142857    0.428571    0.321429   \n",
       "3      0.0        3.97    0.0     0.0   0.000000    0.428571    0.178571   \n",
       "4      0.0       10.97    0.0     1.0   0.428571    0.285714    0.357143   \n",
       "\n",
       "   rmean_28_28  week  quarter  mday  \n",
       "0     1.964286    16        2    24  \n",
       "1     0.607143    16        2    24  \n",
       "2     0.428571    16        2    24  \n",
       "3     0.214286    16        2    24  \n",
       "4     0.392857    16        2    24  "
      ]
     },
     "execution_count": 21,
     "metadata": {
      "tags": []
     },
     "output_type": "execute_result"
    }
   ],
   "source": [
    "print(te.shape)\n",
    "te.head()"
   ]
  },
  {
   "cell_type": "markdown",
   "metadata": {
    "colab_type": "text",
    "id": "wWMQ6ur4-9iN"
   },
   "source": [
    "# Lets predict with a sample test row"
   ]
  },
  {
   "cell_type": "code",
   "execution_count": 0,
   "metadata": {
    "colab": {},
    "colab_type": "code",
    "id": "uqDfRK3t-9iO",
    "outputId": "5dc56ac0-2af2-4087-b27e-12a81c95dafe"
   },
   "outputs": [
    {
     "data": {
      "text/plain": [
       "tensor([0.4182])"
      ]
     },
     "execution_count": 23,
     "metadata": {
      "tags": []
     },
     "output_type": "execute_result"
    }
   ],
   "source": [
    "learn.predict(te.loc[1])[1]"
   ]
  },
  {
   "cell_type": "code",
   "execution_count": 0,
   "metadata": {
    "colab": {},
    "colab_type": "code",
    "id": "2eXO8UAQ-9iY",
    "outputId": "e2c04575-8763-440c-d4ba-5679a9b3c98e"
   },
   "outputs": [
    {
     "name": "stdout",
     "output_type": "stream",
     "text": [
      "Raw prediction:  (FloatItem [0.418167], tensor([0.4182]), tensor([0.4182]))\n",
      "Taking exponentials:  tensor([0.5192])\n"
     ]
    }
   ],
   "source": [
    "print(\"Raw prediction: \",learn.predict(te.loc[1]))\n",
    "print(\"Taking exponentials: \",(np.exp(learn.predict(te.loc[1])[1]) -1) )\n"
   ]
  },
  {
   "cell_type": "code",
   "execution_count": 0,
   "metadata": {
    "colab": {},
    "colab_type": "code",
    "id": "2g9zoqhr-9ig",
    "outputId": "ac56a9a1-2ef9-4f32-9700-a8bff4b7cb4f"
   },
   "outputs": [
    {
     "name": "stdout",
     "output_type": "stream",
     "text": [
      "Notebook processing time:  241.76258730888367\n"
     ]
    }
   ],
   "source": [
    "end_nb = time.time()\n",
    "\n",
    "print(\"Notebook processing time: \", (end_nb- start_nb))"
   ]
  },
  {
   "cell_type": "code",
   "execution_count": 0,
   "metadata": {
    "colab": {},
    "colab_type": "code",
    "id": "mV_IkVFY-9jq"
   },
   "outputs": [],
   "source": []
  }
 ],
 "metadata": {
  "colab": {
   "include_colab_link": true,
   "name": "Day 22#fastai-tabular-starter-code.ipynb",
   "provenance": []
  },
  "kernelspec": {
   "display_name": "Python 3",
   "language": "python",
   "name": "python3"
  },
  "language_info": {
   "codemirror_mode": {
    "name": "ipython",
    "version": 3
   },
   "file_extension": ".py",
   "mimetype": "text/x-python",
   "name": "python",
   "nbconvert_exporter": "python",
   "pygments_lexer": "ipython3",
   "version": "3.7.6"
  }
 },
 "nbformat": 4,
 "nbformat_minor": 1
}
