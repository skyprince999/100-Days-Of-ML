{
  "nbformat": 4,
  "nbformat_minor": 0,
  "metadata": {
    "colab": {
      "name": "Day 14# Using twint for OSINT.ipynb",
      "provenance": [],
      "collapsed_sections": [],
      "authorship_tag": "ABX9TyP+KhZ9u8Xva09P5b3TkiUq",
      "include_colab_link": true
    },
    "kernelspec": {
      "name": "python3",
      "display_name": "Python 3"
    }
  },
  "cells": [
    {
      "cell_type": "markdown",
      "metadata": {
        "id": "view-in-github",
        "colab_type": "text"
      },
      "source": [
        "<a href=\"https://colab.research.google.com/github/skyprince999/100-Days-Of-ML/blob/master/Day_14_Using_twint_for_OSINT.ipynb\" target=\"_parent\"><img src=\"https://colab.research.google.com/assets/colab-badge.svg\" alt=\"Open In Colab\"/></a>"
      ]
    },
    {
      "cell_type": "markdown",
      "metadata": {
        "id": "-j1UCPW3Bc_k",
        "colab_type": "text"
      },
      "source": [
        "This notebook walks you over the twint package. Covering some of the basic tools & functions used to gather information"
      ]
    },
    {
      "cell_type": "code",
      "metadata": {
        "id": "Ednu-FNXBCC7",
        "colab_type": "code",
        "colab": {}
      },
      "source": [
        "!pip install twint"
      ],
      "execution_count": 0,
      "outputs": []
    },
    {
      "cell_type": "code",
      "metadata": {
        "id": "jobsZax_BXSu",
        "colab_type": "code",
        "colab": {}
      },
      "source": [
        "import twint"
      ],
      "execution_count": 0,
      "outputs": []
    },
    {
      "cell_type": "code",
      "metadata": {
        "id": "VNMXgCkwqIdm",
        "colab_type": "code",
        "colab": {}
      },
      "source": [
        "c = twint.Config() # Initalizes the twint object"
      ],
      "execution_count": 0,
      "outputs": []
    },
    {
      "cell_type": "code",
      "metadata": {
        "id": "jf1jxEroBYpq",
        "colab_type": "code",
        "colab": {}
      },
      "source": [
        "c.Username = \"pmoindia\" \n",
        "c.Search = \"trump\"# This searches for a specific keyword within the twitter handle \n",
        "c.Store_object = True\n",
        "c.Hide_output = True \n",
        "twint.run.Search(c)"
      ],
      "execution_count": 0,
      "outputs": []
    },
    {
      "cell_type": "code",
      "metadata": {
        "id": "2xtZ7N98CqBE",
        "colab_type": "code",
        "outputId": "55386351-e65e-469d-860a-38b6dbfb6a18",
        "colab": {
          "base_uri": "https://localhost:8080/",
          "height": 51
        }
      },
      "source": [
        "tweets = twint.output.tweets_list # Get tweet list & check number of tweets extracted\n",
        "print(type(tweets))\n",
        "print(len(tweets))"
      ],
      "execution_count": 5,
      "outputs": [
        {
          "output_type": "stream",
          "text": [
            "<class 'list'>\n",
            "25\n"
          ],
          "name": "stdout"
        }
      ]
    },
    {
      "cell_type": "code",
      "metadata": {
        "id": "wW3or81mCVGe",
        "colab_type": "code",
        "colab": {}
      },
      "source": [
        "#Get a particular handles list of followers\n",
        "\n",
        "c = twint.Config()\n",
        "c.Username = \"aksgupta123\"\n",
        "twint.run.Followers(c)"
      ],
      "execution_count": 0,
      "outputs": []
    },
    {
      "cell_type": "markdown",
      "metadata": {
        "id": "7fz_uN1EqYZk",
        "colab_type": "text"
      },
      "source": [
        "Find followers of a user who have atleast 100 followers "
      ]
    },
    {
      "cell_type": "code",
      "metadata": {
        "id": "_wPHATNSGlK8",
        "colab_type": "code",
        "colab": {}
      },
      "source": [
        "import twint\n",
        "\n",
        "# get the followers first\n",
        "c = twint.Config()\n",
        "c.Username = \"aksgupta123\"\n",
        "c.Store_object = True\n",
        "c.User_full = True #This creates as slower more detailed search"
      ],
      "execution_count": 0,
      "outputs": []
    },
    {
      "cell_type": "code",
      "metadata": {
        "id": "j48AmNX7qpfc",
        "colab_type": "code",
        "colab": {}
      },
      "source": [
        "twint.run.Followers(c)\n",
        "\n",
        "# save them in a list\n",
        "target_followers = twint.output.users_list"
      ],
      "execution_count": 0,
      "outputs": []
    },
    {
      "cell_type": "code",
      "metadata": {
        "id": "ueGlso5eqwo8",
        "colab_type": "code",
        "colab": {}
      },
      "source": [
        "len(target_followers)"
      ],
      "execution_count": 0,
      "outputs": []
    },
    {
      "cell_type": "code",
      "metadata": {
        "id": "-4TZYZ5KrSCW",
        "colab_type": "code",
        "colab": {}
      },
      "source": [
        "target_followers[:5]"
      ],
      "execution_count": 0,
      "outputs": []
    },
    {
      "cell_type": "code",
      "metadata": {
        "id": "eXct451mrd5m",
        "colab_type": "code",
        "colab": {
          "base_uri": "https://localhost:8080/",
          "height": 34
        },
        "outputId": "89ab269c-5762-4991-e572-488e0ca8bdf4"
      },
      "source": [
        "# iterate over them and save in a new list\n",
        "K_followers = []\n",
        "\n",
        "for user in target_followers:\n",
        "    if user.followers >= 100:\n",
        "        K_followers.append(user)\n",
        "\n",
        "print(len(K_followers))"
      ],
      "execution_count": 11,
      "outputs": [
        {
          "output_type": "stream",
          "text": [
            "62\n"
          ],
          "name": "stdout"
        }
      ]
    },
    {
      "cell_type": "code",
      "metadata": {
        "id": "hS1dt56Rrozh",
        "colab_type": "code",
        "colab": {}
      },
      "source": [
        "# now we can save them in an CSV file, for example\n",
        "with open('K_followers.csv', 'w') as output:\n",
        "    output.write('id,username,followers, following\\n')\n",
        "    for u in K_followers:\n",
        "        output.write('{},{},{},{}\\n'.format(u.id, u.username, u.followers, u.following))"
      ],
      "execution_count": 0,
      "outputs": []
    },
    {
      "cell_type": "code",
      "metadata": {
        "id": "hpI7OtcIrywU",
        "colab_type": "code",
        "colab": {
          "base_uri": "https://localhost:8080/",
          "height": 51
        },
        "outputId": "2f52a361-a3e4-4af7-a2c6-b1923647ab96"
      },
      "source": [
        "# The returned object contains information about the user, and we can use it to find other details like the number of tweets, avatar etc.\n",
        "print(\"For user id: {} which has the username: \".format(u.id, u.username) )\n",
        "print(\"Number of tweets are: \",u.tweets)"
      ],
      "execution_count": 18,
      "outputs": [
        {
          "output_type": "stream",
          "text": [
            "For user id: 335244658 which has the username: \n",
            "Number of tweets are:  292\n"
          ],
          "name": "stdout"
        }
      ]
    },
    {
      "cell_type": "code",
      "metadata": {
        "id": "b4N2L844r3QA",
        "colab_type": "code",
        "colab": {
          "base_uri": "https://localhost:8080/",
          "height": 71
        },
        "outputId": "6ec9a1f6-db9c-4abc-e10a-3a2c3c8378f0"
      },
      "source": [
        "import twint\n",
        "\n",
        "custom_query = \"\"\n",
        "hashtags = {}\n",
        "\n",
        "with open('K_followers.csv', 'r') as input:\n",
        "    # we can ignore the first row\n",
        "    input.readline()\n",
        "    line = input.readline()\n",
        "    while line:\n",
        "        user = line.split(',')[1]\n",
        "        hashtags.update({user: {}})\n",
        "        custom_query += \"from:{} OR \".format(user)\n",
        "        line = input.readline()\n",
        "    print(custom_query)\n",
        "    custom_query = custom_query[:-4]\n",
        "    print(custom_query)"
      ],
      "execution_count": 19,
      "outputs": [
        {
          "output_type": "stream",
          "text": [
            "from:gpucollective OR from:b13akash OR from:wcwcwcwcwc888 OR from:cnvrg_io OR from:hisxlnc4u OR from:larrykim OR from:BrucCatherine OR from:cloud_haxor OR from:DumpDeonar OR from:SamsoniteTrades OR from:RoadsOfMumbai OR from:marcialove911 OR from:educator OR from:speshio OR from:analyticspeaks OR from:RapiDels_IN OR from:DataScienceBe OR from:culture_startup OR from:hemantsatamMT OR from:chikakuworld OR from:kidzik OR from:xchangekaro OR from:noramayc OR from:randal_olson OR from:mmalohlava OR from:BrandonCorman OR from:Alchetron OR from:urstartups OR from:NDMicrosystems OR from:Zuchedge OR from:CCRAProgram OR from:HappyAnalytics OR from:ariffatehi OR from:DataconomyJobs OR from:dhruvbhushan OR from:ITMKS OR from:EzraPenland OR from:invpire OR from:Shukranpune OR from:sin_c_here OR from:AnvitAwasthee OR from:cahemantacharya OR from:GSBeachResort OR from:smart_mumbaikar OR from:volvopackages OR from:bala_83 OR from:vineetpatawari OR from:pranavten OR from:deadpresident OR from:stevenplace OR from:acaaccounting OR from:GetYourStocks OR from:RealValuestocks OR from:JingStation5 OR from:Stocktwits OR from:thinkgeek OR from:ar_nisha OR from:mallikasherawat OR from:ImMugdha OR from:Ellora_Shirdi OR from:SoniaMegha OR from:Daisydl4 OR \n",
            "from:gpucollective OR from:b13akash OR from:wcwcwcwcwc888 OR from:cnvrg_io OR from:hisxlnc4u OR from:larrykim OR from:BrucCatherine OR from:cloud_haxor OR from:DumpDeonar OR from:SamsoniteTrades OR from:RoadsOfMumbai OR from:marcialove911 OR from:educator OR from:speshio OR from:analyticspeaks OR from:RapiDels_IN OR from:DataScienceBe OR from:culture_startup OR from:hemantsatamMT OR from:chikakuworld OR from:kidzik OR from:xchangekaro OR from:noramayc OR from:randal_olson OR from:mmalohlava OR from:BrandonCorman OR from:Alchetron OR from:urstartups OR from:NDMicrosystems OR from:Zuchedge OR from:CCRAProgram OR from:HappyAnalytics OR from:ariffatehi OR from:DataconomyJobs OR from:dhruvbhushan OR from:ITMKS OR from:EzraPenland OR from:invpire OR from:Shukranpune OR from:sin_c_here OR from:AnvitAwasthee OR from:cahemantacharya OR from:GSBeachResort OR from:smart_mumbaikar OR from:volvopackages OR from:bala_83 OR from:vineetpatawari OR from:pranavten OR from:deadpresident OR from:stevenplace OR from:acaaccounting OR from:GetYourStocks OR from:RealValuestocks OR from:JingStation5 OR from:Stocktwits OR from:thinkgeek OR from:ar_nisha OR from:mallikasherawat OR from:ImMugdha OR from:Ellora_Shirdi OR from:SoniaMegha OR from:Daisydl4\n"
          ],
          "name": "stdout"
        }
      ]
    },
    {
      "cell_type": "code",
      "metadata": {
        "id": "XpGOaTH8tUGd",
        "colab_type": "code",
        "colab": {}
      },
      "source": [
        "c = twint.Config()\n",
        "c.Custom_query = custom_query\n",
        "c.Store_object = True\n",
        "c.Store_csv = True\n",
        "c.Output = \"tweets.csv\"\n",
        "\n",
        "# we want to hide the output, there will be a lot of tweets and the terminal might crash\n",
        "c.Hide_output = True"
      ],
      "execution_count": 0,
      "outputs": []
    },
    {
      "cell_type": "code",
      "metadata": {
        "id": "4BD86QvdtrpU",
        "colab_type": "code",
        "colab": {}
      },
      "source": [
        "print(hashtags)"
      ],
      "execution_count": 0,
      "outputs": []
    },
    {
      "cell_type": "code",
      "metadata": {
        "id": "rmECIkC_tdCH",
        "colab_type": "code",
        "colab": {}
      },
      "source": [
        "twint.run.Search(c) # Run the search & store the tweets in a list\n",
        "\n",
        "tweets = twint.output.tweets_list\n",
        "print(len(tweets))\n",
        "tweets[:5]"
      ],
      "execution_count": 0,
      "outputs": []
    },
    {
      "cell_type": "code",
      "metadata": {
        "id": "rpxdVaVTt2Uw",
        "colab_type": "code",
        "colab": {}
      },
      "source": [
        "# now we have all the tweets, let's elaborate the data\n",
        "\n",
        "# first iterate over the tweets\n",
        "for t in tweets:\n",
        "    # then iterate over the hashtags of that single tweet\n",
        "    for h in t.hashtags:\n",
        "        # increment the count if the hashtag already exists, otherwise initialize it to 1\n",
        "        try:\n",
        "            hashtags[t.username][h] += 1\n",
        "        except KeyError:\n",
        "            print(t.username)\n",
        "            continue\n",
        "            #hashtags[t.username].update({h: 1})\n",
        "            "
      ],
      "execution_count": 0,
      "outputs": []
    },
    {
      "cell_type": "code",
      "metadata": {
        "id": "EHqK7Q-9uAth",
        "colab_type": "code",
        "colab": {}
      },
      "source": [
        "# now save the data\n",
        "with open('hashtags.csv', 'w') as output:\n",
        "    output.write('username,hashtag,count\\n')\n",
        "    for user in hashtags:\n",
        "        for h in hashtags[user]:\n",
        "            output.write('{},{},{}\\n'.format(user, h, hashtags[user][h]))"
      ],
      "execution_count": 0,
      "outputs": []
    },
    {
      "cell_type": "code",
      "metadata": {
        "id": "nHtEaH8quJMO",
        "colab_type": "code",
        "colab": {}
      },
      "source": [
        ""
      ],
      "execution_count": 0,
      "outputs": []
    }
  ]
}