{
  "nbformat": 4,
  "nbformat_minor": 0,
  "metadata": {
    "colab": {
      "name": "Day 14# Using twint for OSINT.ipynb",
      "provenance": [],
      "authorship_tag": "ABX9TyMR8u+TKbKeNpl6rtBuDBS9",
      "include_colab_link": true
    },
    "kernelspec": {
      "name": "python3",
      "display_name": "Python 3"
    }
  },
  "cells": [
    {
      "cell_type": "markdown",
      "metadata": {
        "id": "view-in-github",
        "colab_type": "text"
      },
      "source": [
        "<a href=\"https://colab.research.google.com/github/skyprince999/100-Days-Of-ML/blob/master/Day_14_Using_twint_for_OSINT.ipynb\" target=\"_parent\"><img src=\"https://colab.research.google.com/assets/colab-badge.svg\" alt=\"Open In Colab\"/></a>"
      ]
    },
    {
      "cell_type": "markdown",
      "metadata": {
        "id": "-j1UCPW3Bc_k",
        "colab_type": "text"
      },
      "source": [
        "This notebook walks you over the twint package. Covering some of the basic tools & functions used to gather information"
      ]
    },
    {
      "cell_type": "code",
      "metadata": {
        "id": "Ednu-FNXBCC7",
        "colab_type": "code",
        "colab": {
          "base_uri": "https://localhost:8080/",
          "height": 1000
        },
        "outputId": "43cabd40-afb3-44c7-e5db-7503fbff2828"
      },
      "source": [
        "!pip install twint"
      ],
      "execution_count": 1,
      "outputs": [
        {
          "output_type": "stream",
          "text": [
            "Collecting twint\n",
            "  Downloading https://files.pythonhosted.org/packages/09/c5/fdf691338f38dd7b25a3be24c596fd00f35c4d26c074e1936870b4c89e16/twint-2.1.15.tar.gz\n",
            "Collecting aiohttp\n",
            "\u001b[?25l  Downloading https://files.pythonhosted.org/packages/7c/39/7eb5f98d24904e0f6d3edb505d4aa60e3ef83c0a58d6fe18244a51757247/aiohttp-3.6.2-cp36-cp36m-manylinux1_x86_64.whl (1.2MB)\n",
            "\u001b[K     |████████████████████████████████| 1.2MB 7.8MB/s \n",
            "\u001b[?25hCollecting aiodns\n",
            "  Downloading https://files.pythonhosted.org/packages/da/01/8f2d49b441573fd2478833bdba91cf0b853b4c750a1fbb9e98de1b94bb22/aiodns-2.0.0-py2.py3-none-any.whl\n",
            "Requirement already satisfied: beautifulsoup4 in /usr/local/lib/python3.6/dist-packages (from twint) (4.6.3)\n",
            "Collecting cchardet\n",
            "\u001b[?25l  Downloading https://files.pythonhosted.org/packages/fa/4e/847feebfc3e71c773b23ee06c74687b8c50a5a6d6aaff452a0a4f4eb9a32/cchardet-2.1.5-cp36-cp36m-manylinux1_x86_64.whl (241kB)\n",
            "\u001b[K     |████████████████████████████████| 245kB 55.5MB/s \n",
            "\u001b[?25hCollecting elasticsearch\n",
            "\u001b[?25l  Downloading https://files.pythonhosted.org/packages/10/60/0c79dde3e81beffeed422599d9ac65419289095186d37a3201739d52a57d/elasticsearch-7.5.1-py2.py3-none-any.whl (86kB)\n",
            "\u001b[K     |████████████████████████████████| 92kB 12.2MB/s \n",
            "\u001b[?25hRequirement already satisfied: pysocks in /usr/local/lib/python3.6/dist-packages (from twint) (1.7.1)\n",
            "Requirement already satisfied: pandas in /usr/local/lib/python3.6/dist-packages (from twint) (0.25.3)\n",
            "Collecting aiohttp_socks\n",
            "  Downloading https://files.pythonhosted.org/packages/be/6d/329e5ec21409ff9448efc50a3674b5331f47ffe44de9f792728145d54bd0/aiohttp_socks-0.3.4-py3-none-any.whl\n",
            "Collecting schedule\n",
            "  Downloading https://files.pythonhosted.org/packages/57/22/3a709462eb02412bd1145f6e53604f36bba191e3e4e397bea4a718fec38c/schedule-0.6.0-py2.py3-none-any.whl\n",
            "Requirement already satisfied: geopy in /usr/local/lib/python3.6/dist-packages (from twint) (1.17.0)\n",
            "Collecting fake-useragent\n",
            "  Downloading https://files.pythonhosted.org/packages/d1/79/af647635d6968e2deb57a208d309f6069d31cb138066d7e821e575112a80/fake-useragent-0.1.11.tar.gz\n",
            "Collecting googletransx\n",
            "  Downloading https://files.pythonhosted.org/packages/27/e1/77cd530afec7944d40c5bdd260bcc111be4012b045c82d4e3ffec90b2a42/googletransx-2.4.2.tar.gz\n",
            "Collecting async-timeout<4.0,>=3.0\n",
            "  Downloading https://files.pythonhosted.org/packages/e1/1e/5a4441be21b0726c4464f3f23c8b19628372f606755a9d2e46c187e65ec4/async_timeout-3.0.1-py3-none-any.whl\n",
            "Requirement already satisfied: chardet<4.0,>=2.0 in /usr/local/lib/python3.6/dist-packages (from aiohttp->twint) (3.0.4)\n",
            "Collecting multidict<5.0,>=4.5\n",
            "\u001b[?25l  Downloading https://files.pythonhosted.org/packages/30/2e/3ab2f1fb72571f75013db323a3799d505d99f3bc203513604f1ffb9b7858/multidict-4.7.5-cp36-cp36m-manylinux1_x86_64.whl (148kB)\n",
            "\u001b[K     |████████████████████████████████| 153kB 58.1MB/s \n",
            "\u001b[?25hRequirement already satisfied: typing-extensions>=3.6.5; python_version < \"3.7\" in /usr/local/lib/python3.6/dist-packages (from aiohttp->twint) (3.6.6)\n",
            "Collecting yarl<2.0,>=1.0\n",
            "\u001b[?25l  Downloading https://files.pythonhosted.org/packages/95/8f/0209fc5d975f839344c33c822ff2f7ef80f6b1e984673a5a68f960bfa583/yarl-1.4.2-cp36-cp36m-manylinux1_x86_64.whl (252kB)\n",
            "\u001b[K     |████████████████████████████████| 256kB 58.3MB/s \n",
            "\u001b[?25hCollecting idna-ssl>=1.0; python_version < \"3.7\"\n",
            "  Downloading https://files.pythonhosted.org/packages/46/03/07c4894aae38b0de52b52586b24bf189bb83e4ddabfe2e2c8f2419eec6f4/idna-ssl-1.1.0.tar.gz\n",
            "Requirement already satisfied: attrs>=17.3.0 in /usr/local/lib/python3.6/dist-packages (from aiohttp->twint) (19.3.0)\n",
            "Collecting pycares>=3.0.0\n",
            "\u001b[?25l  Downloading https://files.pythonhosted.org/packages/43/2d/7f4984a23f6e99cf6a8b20ddc59308efb209fe81e79c97af65e9b30eefae/pycares-3.1.1-cp36-cp36m-manylinux2010_x86_64.whl (228kB)\n",
            "\u001b[K     |████████████████████████████████| 235kB 52.1MB/s \n",
            "\u001b[?25hRequirement already satisfied: typing; python_version < \"3.7\" in /usr/local/lib/python3.6/dist-packages (from aiodns->twint) (3.6.6)\n",
            "Requirement already satisfied: urllib3>=1.21.1 in /usr/local/lib/python3.6/dist-packages (from elasticsearch->twint) (1.24.3)\n",
            "Requirement already satisfied: pytz>=2017.2 in /usr/local/lib/python3.6/dist-packages (from pandas->twint) (2018.9)\n",
            "Requirement already satisfied: numpy>=1.13.3 in /usr/local/lib/python3.6/dist-packages (from pandas->twint) (1.17.5)\n",
            "Requirement already satisfied: python-dateutil>=2.6.1 in /usr/local/lib/python3.6/dist-packages (from pandas->twint) (2.6.1)\n",
            "Requirement already satisfied: geographiclib<2,>=1.49 in /usr/local/lib/python3.6/dist-packages (from geopy->twint) (1.50)\n",
            "Requirement already satisfied: requests in /usr/local/lib/python3.6/dist-packages (from googletransx->twint) (2.21.0)\n",
            "Requirement already satisfied: idna>=2.0 in /usr/local/lib/python3.6/dist-packages (from yarl<2.0,>=1.0->aiohttp->twint) (2.8)\n",
            "Requirement already satisfied: cffi>=1.5.0 in /usr/local/lib/python3.6/dist-packages (from pycares>=3.0.0->aiodns->twint) (1.14.0)\n",
            "Requirement already satisfied: six>=1.5 in /usr/local/lib/python3.6/dist-packages (from python-dateutil>=2.6.1->pandas->twint) (1.12.0)\n",
            "Requirement already satisfied: certifi>=2017.4.17 in /usr/local/lib/python3.6/dist-packages (from requests->googletransx->twint) (2019.11.28)\n",
            "Requirement already satisfied: pycparser in /usr/local/lib/python3.6/dist-packages (from cffi>=1.5.0->pycares>=3.0.0->aiodns->twint) (2.19)\n",
            "Building wheels for collected packages: twint, fake-useragent, googletransx, idna-ssl\n",
            "  Building wheel for twint (setup.py) ... \u001b[?25l\u001b[?25hdone\n",
            "  Created wheel for twint: filename=twint-2.1.15-cp36-none-any.whl size=33270 sha256=b0dfaa713bba429a78325a49f0bd6d0391b4188b08c830d7dd6c0352a44cd307\n",
            "  Stored in directory: /root/.cache/pip/wheels/5a/c7/4f/2c8719f481035bd3c4d9b296bc0378bc21059503f4051b1df8\n",
            "  Building wheel for fake-useragent (setup.py) ... \u001b[?25l\u001b[?25hdone\n",
            "  Created wheel for fake-useragent: filename=fake_useragent-0.1.11-cp36-none-any.whl size=13484 sha256=2dec715241c88384311c596424842ca818af1ab4cdbc6de387742f341d581558\n",
            "  Stored in directory: /root/.cache/pip/wheels/5e/63/09/d1dc15179f175357d3f5c00cbffbac37f9e8690d80545143ff\n",
            "  Building wheel for googletransx (setup.py) ... \u001b[?25l\u001b[?25hdone\n",
            "  Created wheel for googletransx: filename=googletransx-2.4.2-cp36-none-any.whl size=15969 sha256=99b2c94ce6ade4f98120d80c328de006c23d9767ffa9e1e2aac4732d71107640\n",
            "  Stored in directory: /root/.cache/pip/wheels/04/63/5f/75e7e94eb62517946116a783e4cd8970c4789c990bbc732616\n",
            "  Building wheel for idna-ssl (setup.py) ... \u001b[?25l\u001b[?25hdone\n",
            "  Created wheel for idna-ssl: filename=idna_ssl-1.1.0-cp36-none-any.whl size=3162 sha256=dfac32abdfccef2d631b3303ecc6bb43eb58486a3edf328c8d7ab77f6fbdb338\n",
            "  Stored in directory: /root/.cache/pip/wheels/d3/00/b3/32d613e19e08a739751dd6bf998cfed277728f8b2127ad4eb7\n",
            "Successfully built twint fake-useragent googletransx idna-ssl\n",
            "Installing collected packages: async-timeout, multidict, yarl, idna-ssl, aiohttp, pycares, aiodns, cchardet, elasticsearch, aiohttp-socks, schedule, fake-useragent, googletransx, twint\n",
            "Successfully installed aiodns-2.0.0 aiohttp-3.6.2 aiohttp-socks-0.3.4 async-timeout-3.0.1 cchardet-2.1.5 elasticsearch-7.5.1 fake-useragent-0.1.11 googletransx-2.4.2 idna-ssl-1.1.0 multidict-4.7.5 pycares-3.1.1 schedule-0.6.0 twint-2.1.15 yarl-1.4.2\n"
          ],
          "name": "stdout"
        }
      ]
    },
    {
      "cell_type": "code",
      "metadata": {
        "id": "jobsZax_BXSu",
        "colab_type": "code",
        "colab": {}
      },
      "source": [
        "import twint"
      ],
      "execution_count": 0,
      "outputs": []
    },
    {
      "cell_type": "code",
      "metadata": {
        "id": "jf1jxEroBYpq",
        "colab_type": "code",
        "colab": {
          "base_uri": "https://localhost:8080/",
          "height": 462
        },
        "outputId": "60428e05-3eef-4662-cdcf-228fa2bad91d"
      },
      "source": [
        "c = twint.Config() # Initalizes the twint object\n",
        "\n",
        "c.Username = \"pmoindia\" \n",
        "c.Search = \"trump\"# This searches for a specific keyword within the twitter handle \n",
        "c.Store_object = True\n",
        "twint.run.Search(c)"
      ],
      "execution_count": 13,
      "outputs": [
        {
          "output_type": "stream",
          "text": [
            "1232214868167557122 2020-02-25 08:04:52 UTC <PMOIndia> President Trump ने ड्रग्स और ओपी-ऑयड crisis से लड़ाई को प्राथमिकता दी है।  आज हमारे बीच Drug trafficking, narco–terrorism  और organized crime जैसी गम्भीर समस्याओं के बारे में एक नए mechanism पर भी  सहमति हुई है: PM @narendramodi pic.twitter.com/pkrfi2C0NQ\n",
            "1232214834608930817 2020-02-25 08:04:44 UTC <PMOIndia> यह संबंध, 21वीं सदी की सबसे महत्वपूर्ण पार्टनरशिप्स में है।     और इसलिए आज राष्ट्रपति Trump और मैंने हमारे सम्बन्धों को Comprehensive Global Strategic Partnership के स्तर पर ले जाने का निर्णय लिया है: PM @narendramodi pic.twitter.com/Mt3UsybfCj\n",
            "1232214806477672448 2020-02-25 08:04:37 UTC <PMOIndia> कल मोटेरा में राष्ट्रपति Trump का unprecedented और Historical Welcome हमेशा याद रखा जाएगा ।   कल ये फिर से स्पष्ट हुआ कि अमेरिका और भारत के संबद्ध सिर्फ दो सरकारों के बीच नहीं हैं, बल्कि People-driven हैं, People-centric हैं: PM @narendramodi pic.twitter.com/WxD69RpUpg\n",
            "1232213275141525504 2020-02-25 07:58:32 UTC <PMOIndia> राष्ट्रपति ट्रम्प और उनके डेलीगेशन का भारत में एक बार फिर हार्दिक स्वागत है। मुझे विशेष ख़ुशी है की इस यात्रा पर वो अपने परिवार के साथ आए हैं।   पिछले आठ महीनों में राष्ट्रपति Trump और मेरे बीच ये पाँचवी मुलाक़ात है: PM @narendramodi pic.twitter.com/iejCGJO0OR\n",
            "1231936055529459713 2020-02-24 13:36:58 UTC <PMOIndia> Ahmedabad says #NamasteTrump!   @realDonaldTrump @WhiteHouse pic.twitter.com/ET1x7toIGO\n",
            "1231845576334958592 2020-02-24 07:37:26 UTC <PMOIndia> Electric Atmosphere at Motera Stadium as people eagerly wait to welcome President @realDonaldTrump #NamasteTrump pic.twitter.com/9VyxlynZWU\n",
            "1231844901098262528 2020-02-24 07:34:45 UTC <PMOIndia> India welcomes you, @POTUS @realDonaldTrump and @FLOTUS @MELANIATRUMP! pic.twitter.com/e53AfhRznm\n",
            "1176546725345071107 2019-09-24 17:19:33 UTC <PMOIndia> Memories from Houston, where history was made!   PM @narendramodi presented a framed photograph from the #HowdyModi event to @POTUS @realDonaldTrump.   President Trump thanked PM Modi for this gesture.  pic.twitter.com/jP3QjpU4uW\n",
            "1176532268845805570 2019-09-24 16:22:06 UTC <PMOIndia> PM @narendramodi and @POTUS @realDonaldTrump meet on the sidelines of the @UN session in New York. This comes days after both leaders were together at the #HowdyModi programme in Houston. pic.twitter.com/fgNd5eX7WN\n",
            "1175108984723988480 2019-09-20 18:06:29 UTC <PMOIndia> PM @narendramodi leaves for USA. During this visit he will be taking part in multiple programmes including addressing the @UN General Assembly, the Community Programme in Houston and talks with @POTUS @realDonaldTrump.  pic.twitter.com/DZf8i3wBaM\n",
            "1165954499749584897 2019-08-26 11:49:49 UTC <PMOIndia> PM @narendramodi and @POTUS @realDonaldTrump had a meeting in Biarritz. They had productive discussions on several subjects.  pic.twitter.com/xotq8bu6oa\n",
            "1163460195307028482 2019-08-19 14:38:21 UTC <PMOIndia> The Prime Minister stated that he appreciated remaining in regular touch with President @realDonaldTrump.\n",
            "1163459601989165056 2019-08-19 14:35:59 UTC <PMOIndia> Prime Minister @narendramodi had a telephone conversation today with @POTUS H.E. Mr. Donald Trump. Their thirty-minute conversation covered bilateral and regional matters and was marked by the warmth and cordiality which characterises the relations between the two leaders.\n",
            "1144415735302635520 2019-06-28 01:22:28 UTC <PMOIndia> PM @narendramodi and @POTUS held talks on the sidelines of the #G20 Summit in Osaka.   Both leaders discussed various bilateral and global issues. @realDonaldTrump  pic.twitter.com/XXpFzOLKsZ\n",
            "1143820987223269376 2019-06-26 09:59:09 UTC <PMOIndia> The Prime Minister thanked Secretary Pompeo for his warm greetings and requested him to convey his thanks also to President Trump for his good wishes.\n",
            "1143820980604694528 2019-06-26 09:59:07 UTC <PMOIndia> U.S. Secretary of State Michael R. Pompeo called on Prime Minister @narendramodi this morning.   Secretary Pompeo conveyed greetings of @POTUS @realDonaldTrump to the Prime Minister and congratulated the Prime Minister on his electoral victory. @SecPompeo pic.twitter.com/9DWk60A2d7\n",
            "1082474643527794689 2019-01-08 03:10:41 UTC <PMOIndia> PM ⁦@narendramodi⁩ and ⁦@POTUS⁩ Donald Trump exchange greetings and discuss aspects relating to India-USA ties. ⁦@realDonaldTrump⁩  https://nm4.in/2QvaCVG   via NaMo App pic.twitter.com/Z6rENShSnt\n",
            "1068563003035897856 2018-11-30 17:50:47 UTC <PMOIndia> A historic meeting on the sidelines of the G-20 Summit.  PM @AbeShinzo, @POTUS @realDonaldTrump and PM @narendramodi at the first ever meeting of the JAI (Japan, America India) trilateral.   Close cooperation among these nations augurs well for world peace and stability. pic.twitter.com/m0YETdBnnc\n",
            "930009039282388992 2017-11-13 09:46:48 UTC <PMOIndia> Prime Minister @narendramodi and President @realDonaldTrump held talks in Manila.  pic.twitter.com/GLkiYJZgMk\n",
            "879472324054929408 2017-06-26 22:51:56 UTC <PMOIndia> President @realDonaldTrump showed PM @narendramodi a copy of President Lincoln's famous Gettysburg address and the desk on which he wrote it\n",
            "879472087122952192 2017-06-26 22:51:00 UTC <PMOIndia> President Trump gave PM @narendramodi a guided tour of President's residence quarters in White House including Lincoln bedroom.\n",
            "879452770088108032 2017-06-26 21:34:14 UTC <PMOIndia> Great honour to welcome the leader of the world's largest democracy: @POTUS @realDonaldTrump during the joint press meet\n",
            "879426643743223809 2017-06-26 19:50:25 UTC <PMOIndia> President @realDonaldTrump has welcomed me with immense warmth. I thank him for the welcome: PM @narendramodi\n",
            "846548527811608576 2017-03-28 02:24:31 UTC <PMOIndia> US President HE Mr. @realDonaldTrump called PM @narendramodi to convey his felicitations on the electoral results. @POTUS\n",
            "833992010642100225 2017-02-21 10:49:24 UTC <PMOIndia> PM recalled his positive conversation with President @realDonaldTrump and the shared commitment to further strengthen India-US ties.\n"
          ],
          "name": "stdout"
        }
      ]
    },
    {
      "cell_type": "code",
      "metadata": {
        "id": "2xtZ7N98CqBE",
        "colab_type": "code",
        "colab": {
          "base_uri": "https://localhost:8080/",
          "height": 51
        },
        "outputId": "68ea5c55-13ed-4554-ee22-9344f0b82f9d"
      },
      "source": [
        "tweets = twint.output.tweets_list # Get tweet list & check number of tweets extracted\n",
        "print(type(tweets))\n",
        "print(len(tweets))"
      ],
      "execution_count": 14,
      "outputs": [
        {
          "output_type": "stream",
          "text": [
            "<class 'list'>\n",
            "25\n"
          ],
          "name": "stdout"
        }
      ]
    },
    {
      "cell_type": "code",
      "metadata": {
        "id": "CHk3AXpkDXtl",
        "colab_type": "code",
        "colab": {
          "base_uri": "https://localhost:8080/",
          "height": 34
        },
        "outputId": "af71e105-585f-4c64-9de6-5e5cb5d4012b"
      },
      "source": [
        ""
      ],
      "execution_count": 10,
      "outputs": [
        {
          "output_type": "execute_result",
          "data": {
            "text/plain": [
              "list"
            ]
          },
          "metadata": {
            "tags": []
          },
          "execution_count": 10
        }
      ]
    },
    {
      "cell_type": "code",
      "metadata": {
        "id": "wW3or81mCVGe",
        "colab_type": "code",
        "colab": {}
      },
      "source": [
        "55tgbuoj0import twint\n",
        "\n",
        "c = twint.Config()\n",
        "c.Username = \"pmoindia\"\n",
        "\n",
        "twint.run.Followers(c)"
      ],
      "execution_count": 0,
      "outputs": []
    }
  ]
}