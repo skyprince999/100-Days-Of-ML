{
 "cells": [
  {
   "cell_type": "markdown",
   "metadata": {
    "colab_type": "text",
    "id": "view-in-github"
   },
   "source": [
    "<a href=\"https://colab.research.google.com/github/skyprince999/100-Days-Of-ML/blob/master/Day%2029%23%20Hydrating_Streaming_AWS_Kinesis.ipynb\" target=\"_parent\"><img src=\"https://colab.research.google.com/assets/colab-badge.svg\" alt=\"Open In Colab\"/></a>"
   ]
  },
  {
   "cell_type": "markdown",
   "metadata": {
    "colab_type": "text",
    "id": "KJEvcm5cfbQ2"
   },
   "source": [
    "Tweet IDs from the repository are hydrated and instead of storing to disk are piped to a AWS Kinesis data-stream. \n",
    "\n",
    "From there they are read into a Spark streaming context for processing.\n",
    "\n",
    "The following attributes are extracted from the tweets -\n",
    "\n",
    "1. User Id\n",
    "2. User mentions\n",
    "3. hashtags\n",
    "4. full text of tweet\n",
    "5. sentiment analysis using text-blob\n",
    "\n"
   ]
  },
  {
   "cell_type": "code",
   "execution_count": null,
   "metadata": {
    "colab": {},
    "colab_type": "code",
    "id": "eiAarujuQ9aC"
   },
   "outputs": [],
   "source": [
    "!git clone https://github.com/echen102/COVID-19-TweetIDs"
   ]
  },
  {
   "cell_type": "code",
   "execution_count": null,
   "metadata": {
    "colab": {},
    "colab_type": "code",
    "id": "nPBlO-5EZGoM"
   },
   "outputs": [],
   "source": [
    "#Twarc is used to hydrate the tweets- don't run this\n",
    "!pip install twarc\n",
    "!twarc configure"
   ]
  },
  {
   "cell_type": "code",
   "execution_count": null,
   "metadata": {
    "colab": {},
    "colab_type": "code",
    "id": "km7uehYYaiHI"
   },
   "outputs": [],
   "source": [
    " \n",
    "import boto3\n",
    "import json\n",
    "import time\n",
    "\n",
    "from random import random"
   ]
  },
  {
   "cell_type": "code",
   "execution_count": null,
   "metadata": {
    "colab": {},
    "colab_type": "code",
    "id": "xrkDOSnyY6Ou"
   },
   "outputs": [],
   "source": [
    "import gzip\n",
    "import json\n",
    "\n",
    "from tqdm import tqdm\n",
    "from twarc import Twarc\n",
    "from pathlib import Path\n",
    "\n",
    "twarc = Twarc()\n",
    "data_dirs = ['COVID-19-TweetIDs/2020-01', 'COVID-19-TweetIDs/2020-02', 'COVID-19-TweetIDs/2020-03', \n",
    "             'COVID-19-TweetIDs/2020-04', 'COVID-19-TweetIDs/2020-05', 'COVID-19-TweetIDs/2020-06']    \n",
    "    "
   ]
  },
  {
   "cell_type": "code",
   "execution_count": null,
   "metadata": {
    "colab": {},
    "colab_type": "code",
    "id": "bgloY2BgY94q"
   },
   "outputs": [],
   "source": [
    "def main():\n",
    "    for data_dir in data_dirs:\n",
    "        for path in Path(data_dir).iterdir():\n",
    "            if path.name.endswith('.txt'):\n",
    "                hydrate(path)\n"
   ]
  },
  {
   "cell_type": "code",
   "execution_count": null,
   "metadata": {
    "colab": {},
    "colab_type": "code",
    "id": "4FGcDFw5ZmqF"
   },
   "outputs": [],
   "source": [
    "def _reader_generator(reader):\n",
    "    b = reader(1024 * 1024)\n",
    "    while b:\n",
    "        yield b\n",
    "        b = reader(1024 * 1024)\n"
   ]
  },
  {
   "cell_type": "code",
   "execution_count": null,
   "metadata": {
    "colab": {},
    "colab_type": "code",
    "id": "1Ohqak60ZpBK"
   },
   "outputs": [],
   "source": [
    "def raw_newline_count(fname):\n",
    "    \"\"\"\n",
    "    Counts number of lines in file\n",
    "    \"\"\"\n",
    "    f = open(fname, 'rb')\n",
    "    f_gen = _reader_generator(f.raw.read)\n",
    "    return sum(buf.count(b'\\n') for buf in f_gen)\n"
   ]
  },
  {
   "cell_type": "code",
   "execution_count": null,
   "metadata": {
    "colab": {},
    "colab_type": "code",
    "id": "yrhKxdtbc7dC"
   },
   "outputs": [],
   "source": [
    "def get_record(tweet):\n",
    "  \"\"\"\n",
    "  Return data bytes\n",
    "  \"\"\"\n",
    "  record = json.dumps(tweet)\n",
    "\n",
    "  return {'Data': bytes(record, 'utf-8') }  # << Use this if sending to a Firehose\n",
    "  #return [{'Data': bytes(record, 'utf-8'), 'PartitionKey': 'partition_key'}] # << This isto be used if passing the data to a Kinesis DataStream"
   ]
  },
  {
   "cell_type": "code",
   "execution_count": null,
   "metadata": {
    "colab": {},
    "colab_type": "code",
    "id": "MV8SY3uoZruH"
   },
   "outputs": [],
   "source": [
    "def hydrate(id_file):\n",
    "    # create kinesis client connection\n",
    "    kinesis_client = boto3.client('firehose', # Change this to kinesis if you are using a Data stream \n",
    "                                  region_name='us-east-1',  # enter the region\n",
    "                                  aws_access_key_id='##########################',  # fill your AWS access key id\n",
    "                                  aws_secret_access_key='######################################')  # fill you aws secret access key\n",
    "\n",
    "    print('hydrating {}'.format(id_file))\n",
    "\n",
    "    gzip_path = id_file.with_suffix('.jsonl.gz')\n",
    "    if gzip_path.is_file():\n",
    "        print('skipping json file already exists: {}'.format(gzip_path))\n",
    "        return\n",
    "\n",
    "    num_ids = raw_newline_count(id_file)\n",
    "\n",
    "    with gzip.open(gzip_path, 'w') as output:\n",
    "        with tqdm(total=num_ids) as pbar:\n",
    "            for tweet in twarc.hydrate(id_file.open()):\n",
    "                output.write(json.dumps(tweet).encode('utf8') + b\"\\n\")\n",
    "                record = get_record(tweet)\n",
    "                #kinesis_client.put_record(StreamName=\"covid-stream\", Records= record) # << This is for a Kinesis Data Stream\n",
    "                kinesis_client.put_record(DeliveryStreamName=\"covid-stream\", Record= record) # << This is for a Firehose\n",
    "                pbar.update(1)\n"
   ]
  },
  {
   "cell_type": "code",
   "execution_count": null,
   "metadata": {
    "colab": {},
    "colab_type": "code",
    "id": "BP5eUrGPZu7l"
   },
   "outputs": [],
   "source": [
    "if __name__ == \"__main__\":\n",
    "    main()"
   ]
  },
  {
   "cell_type": "code",
   "execution_count": null,
   "metadata": {
    "colab": {},
    "colab_type": "code",
    "id": "kZVuPb8Nc2nn"
   },
   "outputs": [],
   "source": [
    "# !rm -f COVID-19-TweetIDs/2020-01/coronavirus-tweet-id-2020-01-23-04.jsonl.gz\n",
    "# !ls COVID-19-TweetIDs/2020-01/coronavirus-tweet-id-2020-01-23-04.*"
   ]
  },
  {
   "cell_type": "code",
   "execution_count": null,
   "metadata": {
    "colab": {},
    "colab_type": "code",
    "id": "6bEe4s1-iTqP"
   },
   "outputs": [],
   "source": [
    "!ls COVID-19-TweetIDs/2020-01/*.jsonl*\n"
   ]
  },
  {
   "cell_type": "code",
   "execution_count": null,
   "metadata": {
    "colab": {},
    "colab_type": "code",
    "id": "FMzvWMzGzske"
   },
   "outputs": [],
   "source": []
  }
 ],
 "metadata": {
  "colab": {
   "authorship_tag": "ABX9TyPCvsJYvFWEkYODxIJ8t9s8",
   "collapsed_sections": [],
   "include_colab_link": true,
   "name": "Hydrating_Streaming_AWS_Kinesis.ipynb",
   "provenance": []
  },
  "kernelspec": {
   "display_name": "Python 3",
   "language": "python",
   "name": "python3"
  },
  "language_info": {
   "codemirror_mode": {
    "name": "ipython",
    "version": 3
   },
   "file_extension": ".py",
   "mimetype": "text/x-python",
   "name": "python",
   "nbconvert_exporter": "python",
   "pygments_lexer": "ipython3",
   "version": "3.7.6"
  }
 },
 "nbformat": 4,
 "nbformat_minor": 1
}
