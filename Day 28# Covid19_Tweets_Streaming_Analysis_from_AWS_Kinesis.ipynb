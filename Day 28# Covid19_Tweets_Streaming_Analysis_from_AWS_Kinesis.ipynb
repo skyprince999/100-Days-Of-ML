{
  "nbformat": 4,
  "nbformat_minor": 0,
  "metadata": {
    "name": "Covid19 Tweets-Streaming Analysis from AWS Kinesis",
    "notebookId": 2942331328381448,
    "colab": {
      "name": "Covid19 Tweets-Streaming Analysis from AWS Kinesis.ipynb",
      "provenance": [],
      "collapsed_sections": [],
      "include_colab_link": true
    }
  },
  "cells": [
    {
      "cell_type": "markdown",
      "metadata": {
        "id": "view-in-github",
        "colab_type": "text"
      },
      "source": [
        "<a href=\"https://colab.research.google.com/github/skyprince999/100-Days-Of-ML/blob/master/Day%2028%23%20Covid19_Tweets_Streaming_Analysis_from_AWS_Kinesis.ipynb\" target=\"_parent\"><img src=\"https://colab.research.google.com/assets/colab-badge.svg\" alt=\"Open In Colab\"/></a>"
      ]
    },
    {
      "cell_type": "markdown",
      "metadata": {
        "id": "jGb8vrR5FLxK",
        "colab_type": "text"
      },
      "source": [
        "This was executed in a Databricks environment"
      ]
    },
    {
      "cell_type": "code",
      "metadata": {
        "id": "VwDhPguZFGJL",
        "colab_type": "code",
        "colab": {},
        "outputId": "a1249b0a-2c48-42ec-cf0c-8944d5817eeb"
      },
      "source": [
        "import sys\n",
        "from pyspark import SparkContext\n",
        "from pyspark.sql import SparkSession\n",
        "from pyspark.streaming import StreamingContext\n",
        "from pyspark.streaming.kinesis import KinesisUtils, InitialPositionInStream\n",
        "from pyspark.sql.types import *"
      ],
      "execution_count": null,
      "outputs": [
        {
          "output_type": "display_data",
          "data": {
            "text/html": [
              "<style scoped>\n",
              "  .ansiout {\n",
              "    display: block;\n",
              "    unicode-bidi: embed;\n",
              "    white-space: pre-wrap;\n",
              "    word-wrap: break-word;\n",
              "    word-break: break-all;\n",
              "    font-family: \"Source Code Pro\", \"Menlo\", monospace;;\n",
              "    font-size: 13px;\n",
              "    color: #555;\n",
              "    margin-left: 4px;\n",
              "    line-height: 19px;\n",
              "  }\n",
              "</style>\n",
              "<div class=\"ansiout\"></div>"
            ]
          },
          "metadata": {
            "tags": []
          }
        }
      ]
    },
    {
      "cell_type": "code",
      "metadata": {
        "id": "sFIsDwM0FGJQ",
        "colab_type": "code",
        "colab": {},
        "outputId": "6587f6c0-57f9-441a-f926-a74fcc1b17b9"
      },
      "source": [
        "spark = SparkSession.builder\\\n",
        "                    .master(\"local\")\\\n",
        "                    .appName(\"Structured Streaming\")\\\n",
        "                    .getOrCreate()"
      ],
      "execution_count": null,
      "outputs": [
        {
          "output_type": "display_data",
          "data": {
            "text/html": [
              "<style scoped>\n",
              "  .ansiout {\n",
              "    display: block;\n",
              "    unicode-bidi: embed;\n",
              "    white-space: pre-wrap;\n",
              "    word-wrap: break-word;\n",
              "    word-break: break-all;\n",
              "    font-family: \"Source Code Pro\", \"Menlo\", monospace;;\n",
              "    font-size: 13px;\n",
              "    color: #555;\n",
              "    margin-left: 4px;\n",
              "    line-height: 19px;\n",
              "  }\n",
              "</style>\n",
              "<div class=\"ansiout\"></div>"
            ]
          },
          "metadata": {
            "tags": []
          }
        }
      ]
    },
    {
      "cell_type": "code",
      "metadata": {
        "id": "jGvIqSYOFGJT",
        "colab_type": "code",
        "colab": {},
        "outputId": "aa7c6a92-6837-4198-96ab-8032ff81a6f3"
      },
      "source": [
        "pythonSchema = StructType() \\\n",
        "          .add(\"id\", StringType(), True) \\\n",
        "          .add(\"tweet\", StringType(), True) \\\n",
        "          .add(\"ts\", StringType(), True)\n",
        "awsAccessKeyId = \"#########################\" # update the access key\n",
        "awsSecretKey = \"###########################\"   # update the secret key\n",
        "kinesisStreamName = \"covid-stream\"  # update the kinesis stream name\n",
        "kinesisRegion = \"us-east-1\"\n",
        "kinesisDF = spark \\\n",
        "  .readStream \\\n",
        "  .format(\"kinesis\") \\\n",
        "  .option(\"streamName\", kinesisStreamName)\\\n",
        "  .option(\"region\", kinesisRegion) \\\n",
        "  .option(\"initialPosition\", \"LATEST\") \\\n",
        "  .option(\"format\", \"json\") \\\n",
        "  .option(\"awsAccessKey\", awsAccessKeyId)\\\n",
        "  .option(\"awsSecretKey\", awsSecretKey) \\\n",
        "  .option(\"inferSchema\", \"true\") \\\n",
        "  .load()"
      ],
      "execution_count": null,
      "outputs": [
        {
          "output_type": "display_data",
          "data": {
            "text/html": [
              "<style scoped>\n",
              "  .ansiout {\n",
              "    display: block;\n",
              "    unicode-bidi: embed;\n",
              "    white-space: pre-wrap;\n",
              "    word-wrap: break-word;\n",
              "    word-break: break-all;\n",
              "    font-family: \"Source Code Pro\", \"Menlo\", monospace;;\n",
              "    font-size: 13px;\n",
              "    color: #555;\n",
              "    margin-left: 4px;\n",
              "    line-height: 19px;\n",
              "  }\n",
              "</style>\n",
              "<div class=\"ansiout\"></div>"
            ]
          },
          "metadata": {
            "tags": []
          }
        }
      ]
    },
    {
      "cell_type": "code",
      "metadata": {
        "id": "bP4kJUUAFGJV",
        "colab_type": "code",
        "colab": {},
        "outputId": "f0cd422a-b127-4735-df87-904f44682a67"
      },
      "source": [
        "df = kinesisDF \\\n",
        "  .writeStream \\\n",
        "  .format(\"memory\") \\\n",
        "  .outputMode(\"append\") \\\n",
        "  .queryName(\"tweets\")  \\\n",
        "  .start()"
      ],
      "execution_count": null,
      "outputs": [
        {
          "output_type": "display_data",
          "data": {
            "text/html": [
              "<style scoped>\n",
              "  .ansiout {\n",
              "    display: block;\n",
              "    unicode-bidi: embed;\n",
              "    white-space: pre-wrap;\n",
              "    word-wrap: break-word;\n",
              "    word-break: break-all;\n",
              "    font-family: \"Source Code Pro\", \"Menlo\", monospace;;\n",
              "    font-size: 13px;\n",
              "    color: #555;\n",
              "    margin-left: 4px;\n",
              "    line-height: 19px;\n",
              "  }\n",
              "</style>\n",
              "<div class=\"ansiout\"></div>"
            ]
          },
          "metadata": {
            "tags": []
          }
        }
      ]
    },
    {
      "cell_type": "code",
      "metadata": {
        "id": "NM8wVvhKFGJY",
        "colab_type": "code",
        "colab": {},
        "outputId": "525e37db-db45-4c53-dad9-464f7671b212"
      },
      "source": [
        "df.status\n"
      ],
      "execution_count": null,
      "outputs": [
        {
          "output_type": "display_data",
          "data": {
            "text/html": [
              "<style scoped>\n",
              "  .ansiout {\n",
              "    display: block;\n",
              "    unicode-bidi: embed;\n",
              "    white-space: pre-wrap;\n",
              "    word-wrap: break-word;\n",
              "    word-break: break-all;\n",
              "    font-family: \"Source Code Pro\", \"Menlo\", monospace;;\n",
              "    font-size: 13px;\n",
              "    color: #555;\n",
              "    margin-left: 4px;\n",
              "    line-height: 19px;\n",
              "  }\n",
              "</style>\n",
              "<div class=\"ansiout\">Out[5]: {&#39;message&#39;: &#39;Getting offsets from KinesisV2[covid-stream]&#39;,\n",
              " &#39;isDataAvailable&#39;: False,\n",
              " &#39;isTriggerActive&#39;: True}</div>"
            ]
          },
          "metadata": {
            "tags": []
          }
        }
      ]
    },
    {
      "cell_type": "code",
      "metadata": {
        "id": "-gPzz6unFGJb",
        "colab_type": "code",
        "colab": {},
        "outputId": "e805580e-90d8-4d79-fe18-dad388094eed"
      },
      "source": [
        "%sql\n",
        "\n",
        "select partitionKey, cast(data as string) from tweets;"
      ],
      "execution_count": null,
      "outputs": [
        {
          "output_type": "display_data",
          "data": {
            "text/html": [
              "<style scoped>\n",
              "  .table-result-container {\n",
              "    max-height: 300px;\n",
              "    overflow: auto;\n",
              "  }\n",
              "  table, th, td {\n",
              "    border: 1px solid black;\n",
              "    border-collapse: collapse;\n",
              "  }\n",
              "  th, td {\n",
              "    padding: 5px;\n",
              "  }\n",
              "  th {\n",
              "    text-align: left;\n",
              "  }\n",
              "</style><div class='table-result-container'><table class='table-result'><thead style='background-color: white'><tr><th>partitionKey</th><th>data</th></tr></thead><tbody></tbody></table></div>"
            ]
          },
          "metadata": {
            "tags": []
          }
        }
      ]
    },
    {
      "cell_type": "code",
      "metadata": {
        "id": "7WCUddpLFGJd",
        "colab_type": "code",
        "colab": {},
        "outputId": "a2401d0a-c4a0-40e5-dc24-562728f3b718"
      },
      "source": [
        "tweets = spark.sql(\"select cast(data as string) from tweets\")"
      ],
      "execution_count": null,
      "outputs": [
        {
          "output_type": "display_data",
          "data": {
            "text/html": [
              "<style scoped>\n",
              "  .ansiout {\n",
              "    display: block;\n",
              "    unicode-bidi: embed;\n",
              "    white-space: pre-wrap;\n",
              "    word-wrap: break-word;\n",
              "    word-break: break-all;\n",
              "    font-family: \"Source Code Pro\", \"Menlo\", monospace;;\n",
              "    font-size: 13px;\n",
              "    color: #555;\n",
              "    margin-left: 4px;\n",
              "    line-height: 19px;\n",
              "  }\n",
              "</style>\n",
              "<div class=\"ansiout\"></div>"
            ]
          },
          "metadata": {
            "tags": []
          }
        }
      ]
    },
    {
      "cell_type": "code",
      "metadata": {
        "id": "5TwpZqUBFGJh",
        "colab_type": "code",
        "colab": {},
        "outputId": "76e3b969-4d96-4280-dc2c-02e05f30bdc2"
      },
      "source": [
        "tweets.show(5)"
      ],
      "execution_count": null,
      "outputs": [
        {
          "output_type": "display_data",
          "data": {
            "text/html": [
              "<style scoped>\n",
              "  .ansiout {\n",
              "    display: block;\n",
              "    unicode-bidi: embed;\n",
              "    white-space: pre-wrap;\n",
              "    word-wrap: break-word;\n",
              "    word-break: break-all;\n",
              "    font-family: \"Source Code Pro\", \"Menlo\", monospace;;\n",
              "    font-size: 13px;\n",
              "    color: #555;\n",
              "    margin-left: 4px;\n",
              "    line-height: 19px;\n",
              "  }\n",
              "</style>\n",
              "<div class=\"ansiout\">+----+\n",
              "data|\n",
              "+----+\n",
              "+----+\n",
              "\n",
              "</div>"
            ]
          },
          "metadata": {
            "tags": []
          }
        }
      ]
    },
    {
      "cell_type": "code",
      "metadata": {
        "id": "AnRbq4K2FGJj",
        "colab_type": "code",
        "colab": {},
        "outputId": "f36149e9-9e9f-4c2e-ff8b-ddfd02bd430b"
      },
      "source": [
        "tweets.count()"
      ],
      "execution_count": null,
      "outputs": [
        {
          "output_type": "display_data",
          "data": {
            "text/html": [
              "<style scoped>\n",
              "  .ansiout {\n",
              "    display: block;\n",
              "    unicode-bidi: embed;\n",
              "    white-space: pre-wrap;\n",
              "    word-wrap: break-word;\n",
              "    word-break: break-all;\n",
              "    font-family: \"Source Code Pro\", \"Menlo\", monospace;;\n",
              "    font-size: 13px;\n",
              "    color: #555;\n",
              "    margin-left: 4px;\n",
              "    line-height: 19px;\n",
              "  }\n",
              "</style>\n",
              "<div class=\"ansiout\">Out[18]: 1022</div>"
            ]
          },
          "metadata": {
            "tags": []
          }
        }
      ]
    },
    {
      "cell_type": "code",
      "metadata": {
        "id": "P0H3aAsZFGJm",
        "colab_type": "code",
        "colab": {},
        "outputId": "ee7072d5-940e-4a0f-d12b-dccd5c3876e2"
      },
      "source": [
        "from pyspark.sql.functions import UserDefinedFunction\n",
        "from pyspark.sql.types import StringType\n",
        "from pyspark.sql.types import IntegerType\n",
        "from pyspark.sql.functions import *\n",
        "\n"
      ],
      "execution_count": null,
      "outputs": [
        {
          "output_type": "display_data",
          "data": {
            "text/html": [
              "<style scoped>\n",
              "  .ansiout {\n",
              "    display: block;\n",
              "    unicode-bidi: embed;\n",
              "    white-space: pre-wrap;\n",
              "    word-wrap: break-word;\n",
              "    word-break: break-all;\n",
              "    font-family: \"Source Code Pro\", \"Menlo\", monospace;;\n",
              "    font-size: 13px;\n",
              "    color: #555;\n",
              "    margin-left: 4px;\n",
              "    line-height: 19px;\n",
              "  }\n",
              "</style>\n",
              "<div class=\"ansiout\"></div>"
            ]
          },
          "metadata": {
            "tags": []
          }
        }
      ]
    },
    {
      "cell_type": "code",
      "metadata": {
        "id": "Ja2RrGcnFGJo",
        "colab_type": "code",
        "colab": {},
        "outputId": "f8623008-b990-4b70-ba6b-7987bceb5c1b"
      },
      "source": [
        "from datetime import datetime\n",
        "import json\n",
        "\n",
        "def user(text):\n",
        "  data = json.loads(text)\n",
        "  return data['user']['screen_name']\n",
        "\n",
        "def hashtag(text):\n",
        "  data = json.loads(text)\n",
        "  hashtags = data['entities']['hashtags']\n",
        "  return [h['text'] for h in hashtags]\n",
        "  #return text[0]\n",
        "\n",
        "def user_mention(text):\n",
        "  data = json.loads(text)\n",
        "  userm = data['entities']['user_mentions']\n",
        "  return [h['screen_name'] for h in userm]\n",
        "\n",
        "def full_text(text):\n",
        "  data =json.loads(text)\n",
        "  return data['full_text']\n",
        "\n",
        "def get_datetime(text):\n",
        "  monthKey = {'Jan': '01', 'Feb': '02', 'Mar': '03', 'Apr': '04', 'May': '05', 'Jun': '06'}\n",
        "  data = json.loads(text)['created_at'] #text # \n",
        "  year = data[-4:]\n",
        "  month = data[4:7]\n",
        "  month = monthKey[month]\n",
        "  date = data[8:10]\n",
        "  hour = data[11:13]\n",
        "  minute = data[14:16]\n",
        "  constructDate = date + '-' + month + '-' + year + '  ' + hour + ':' + minute\n",
        "  #print(year, month, date, hour, minute)\n",
        "  return constructDate#datetime(year, month, date, hour, minute)\n",
        "  "
      ],
      "execution_count": null,
      "outputs": [
        {
          "output_type": "display_data",
          "data": {
            "text/html": [
              "<style scoped>\n",
              "  .ansiout {\n",
              "    display: block;\n",
              "    unicode-bidi: embed;\n",
              "    white-space: pre-wrap;\n",
              "    word-wrap: break-word;\n",
              "    word-break: break-all;\n",
              "    font-family: \"Source Code Pro\", \"Menlo\", monospace;;\n",
              "    font-size: 13px;\n",
              "    color: #555;\n",
              "    margin-left: 4px;\n",
              "    line-height: 19px;\n",
              "  }\n",
              "</style>\n",
              "<div class=\"ansiout\"></div>"
            ]
          },
          "metadata": {
            "tags": []
          }
        }
      ]
    },
    {
      "cell_type": "code",
      "metadata": {
        "id": "nPb8V_5kFGJr",
        "colab_type": "code",
        "colab": {},
        "outputId": "1d0a4ca5-b430-4660-ffbb-6a6e93282b91"
      },
      "source": [
        "# # Define your function\n",
        "# getID = UserDefinedFunction(lambda x: parse_tweet(x)[0], StringType())\n",
        "# getTs = UserDefinedFunction(lambda x: parse_tweet(x)[1], StringType())\n",
        "# getTweet = UserDefinedFunction(lambda x: parse_tweet(x)[2], StringType())\n",
        "\n",
        "from pyspark.sql.types import ArrayType, DateType\n",
        "\n",
        "# Define your function\n",
        "getSN = UserDefinedFunction(lambda x: user(x), StringType())\n",
        "getHash = UserDefinedFunction(lambda x: hashtag(x), ArrayType(StringType()))\n",
        "getUM = UserDefinedFunction(lambda x: user_mention(x), ArrayType(StringType()))\n",
        "getFT = UserDefinedFunction(lambda x: full_text(x), StringType())\n",
        "getTime = UserDefinedFunction(lambda x: get_datetime(x), StringType())"
      ],
      "execution_count": null,
      "outputs": [
        {
          "output_type": "display_data",
          "data": {
            "text/html": [
              "<style scoped>\n",
              "  .ansiout {\n",
              "    display: block;\n",
              "    unicode-bidi: embed;\n",
              "    white-space: pre-wrap;\n",
              "    word-wrap: break-word;\n",
              "    word-break: break-all;\n",
              "    font-family: \"Source Code Pro\", \"Menlo\", monospace;;\n",
              "    font-size: 13px;\n",
              "    color: #555;\n",
              "    margin-left: 4px;\n",
              "    line-height: 19px;\n",
              "  }\n",
              "</style>\n",
              "<div class=\"ansiout\"></div>"
            ]
          },
          "metadata": {
            "tags": []
          }
        }
      ]
    },
    {
      "cell_type": "code",
      "metadata": {
        "id": "GbM0GP_nFGJt",
        "colab_type": "code",
        "colab": {},
        "outputId": "8f8c110f-1df4-4e0b-9c11-23b893c9ab5c"
      },
      "source": [
        "user = (tweets.withColumn('user', getSN(col('data')))\n",
        "             .withColumn('hashtags', getHash(col('data')))\n",
        "             .withColumn('user_mention', getUM(col('data')))\n",
        "             .withColumn('full_text', getFT(col('data')))\n",
        "             .withColumn('parseDate', getTime(col('data')))\n",
        "             .select('parseDate', 'user', 'hashtags', 'user_mention', 'full_text')\n",
        "             )\n",
        "user.show(5)"
      ],
      "execution_count": null,
      "outputs": [
        {
          "output_type": "display_data",
          "data": {
            "text/html": [
              "<style scoped>\n",
              "  .ansiout {\n",
              "    display: block;\n",
              "    unicode-bidi: embed;\n",
              "    white-space: pre-wrap;\n",
              "    word-wrap: break-word;\n",
              "    word-break: break-all;\n",
              "    font-family: \"Source Code Pro\", \"Menlo\", monospace;;\n",
              "    font-size: 13px;\n",
              "    color: #555;\n",
              "    margin-left: 4px;\n",
              "    line-height: 19px;\n",
              "  }\n",
              "</style>\n",
              "<div class=\"ansiout\">+-----------------+---------------+--------------------+--------------------+--------------------+\n",
              "        parseDate|           user|            hashtags|        user_mention|           full_text|\n",
              "+-----------------+---------------+--------------------+--------------------+--------------------+\n",
              "31-01-2020  05:09| mybabewoodzyou|                  []|         [noppatjak]|RT @noppatjak: รา...|\n",
              "31-01-2020  05:09|UnseenJapanSite|                  []|                  []|&#34;All they need to...|\n",
              "31-01-2020  05:09|   KevinHarley5|                  []|  [CNNPolitics, CNN]|@CNNPolitics @CNN...|\n",
              "31-01-2020  05:09|     wiggyagogo|[closetheborder, ...|[SkyNewsAust, Sen...|@SkyNewsAust @Sen...|\n",
              "31-01-2020  05:09|HeavenSmileLisa|                  []|         [08escaper]|RT @08escaper: ไม...|\n",
              "+-----------------+---------------+--------------------+--------------------+--------------------+\n",
              "only showing top 5 rows\n",
              "\n",
              "</div>"
            ]
          },
          "metadata": {
            "tags": []
          }
        }
      ]
    },
    {
      "cell_type": "code",
      "metadata": {
        "id": "2BTSORnNFGJw",
        "colab_type": "code",
        "colab": {},
        "outputId": "99180a7d-dbad-4809-9602-fe070f7607c8"
      },
      "source": [
        "import textblob\n",
        "from textblob import TextBlob\n",
        "\n",
        "def get_sentiment(text):\n",
        "    \n",
        "    tweet = TextBlob(text)\n",
        "    if tweet.sentiment.polarity < 0:\n",
        "      sentiment = \"negative\"\n",
        "    elif tweet.sentiment.polarity == 0:\n",
        "        sentiment = \"neutral\"\n",
        "    else:\n",
        "        sentiment = \"positive\"\n",
        "    return sentiment"
      ],
      "execution_count": null,
      "outputs": [
        {
          "output_type": "display_data",
          "data": {
            "text/html": [
              "<style scoped>\n",
              "  .ansiout {\n",
              "    display: block;\n",
              "    unicode-bidi: embed;\n",
              "    white-space: pre-wrap;\n",
              "    word-wrap: break-word;\n",
              "    word-break: break-all;\n",
              "    font-family: \"Source Code Pro\", \"Menlo\", monospace;;\n",
              "    font-size: 13px;\n",
              "    color: #555;\n",
              "    margin-left: 4px;\n",
              "    line-height: 19px;\n",
              "  }\n",
              "</style>\n",
              "<div class=\"ansiout\"></div>"
            ]
          },
          "metadata": {
            "tags": []
          }
        }
      ]
    },
    {
      "cell_type": "code",
      "metadata": {
        "id": "u5DQqiJeFGJy",
        "colab_type": "code",
        "colab": {},
        "outputId": "44efd4b8-673d-439a-9b77-71a886b6e9ff"
      },
      "source": [
        "# Define your function\n",
        "getSentiment = UserDefinedFunction(lambda x: get_sentiment(x), StringType())\n",
        "\n",
        "# Apply the UDF using withColumn\n",
        "tweets_proc = user.withColumn('sentiment', getSentiment(col(\"full_text\")))"
      ],
      "execution_count": null,
      "outputs": [
        {
          "output_type": "display_data",
          "data": {
            "text/html": [
              "<style scoped>\n",
              "  .ansiout {\n",
              "    display: block;\n",
              "    unicode-bidi: embed;\n",
              "    white-space: pre-wrap;\n",
              "    word-wrap: break-word;\n",
              "    word-break: break-all;\n",
              "    font-family: \"Source Code Pro\", \"Menlo\", monospace;;\n",
              "    font-size: 13px;\n",
              "    color: #555;\n",
              "    margin-left: 4px;\n",
              "    line-height: 19px;\n",
              "  }\n",
              "</style>\n",
              "<div class=\"ansiout\"></div>"
            ]
          },
          "metadata": {
            "tags": []
          }
        }
      ]
    },
    {
      "cell_type": "code",
      "metadata": {
        "id": "O7kSuE5KFGJ0",
        "colab_type": "code",
        "colab": {},
        "outputId": "672d316c-c2ed-414a-fdfc-f608330e6080"
      },
      "source": [
        "tweets_proc.show()"
      ],
      "execution_count": null,
      "outputs": [
        {
          "output_type": "display_data",
          "data": {
            "text/html": [
              "<style scoped>\n",
              "  .ansiout {\n",
              "    display: block;\n",
              "    unicode-bidi: embed;\n",
              "    white-space: pre-wrap;\n",
              "    word-wrap: break-word;\n",
              "    word-break: break-all;\n",
              "    font-family: \"Source Code Pro\", \"Menlo\", monospace;;\n",
              "    font-size: 13px;\n",
              "    color: #555;\n",
              "    margin-left: 4px;\n",
              "    line-height: 19px;\n",
              "  }\n",
              "</style>\n",
              "<div class=\"ansiout\">+-----------------+---------------+--------------------+--------------------+--------------------+---------+\n",
              "        parseDate|           user|            hashtags|        user_mention|           full_text|sentiment|\n",
              "+-----------------+---------------+--------------------+--------------------+--------------------+---------+\n",
              "31-01-2020  05:09| mybabewoodzyou|                  []|         [noppatjak]|RT @noppatjak: รา...|  neutral|\n",
              "31-01-2020  05:09|UnseenJapanSite|                  []|                  []|&#34;All they need to...|  neutral|\n",
              "31-01-2020  05:09|   KevinHarley5|                  []|  [CNNPolitics, CNN]|@CNNPolitics @CNN...| negative|\n",
              "31-01-2020  05:09|     wiggyagogo|[closetheborder, ...|[SkyNewsAust, Sen...|@SkyNewsAust @Sen...|  neutral|\n",
              "31-01-2020  05:09|HeavenSmileLisa|                  []|         [08escaper]|RT @08escaper: ไม...|  neutral|\n",
              "31-01-2020  05:09|     prawitting|       [ไวรัสโคโรนา]|    [fm91trafficpro]|RT @fm91trafficpr...|  neutral|\n",
              "31-01-2020  05:09|   RebellionIII|                  []|                  []|There should be a...| positive|\n",
              "31-01-2020  05:09|     annarizaaa|[coronavirus, Cor...|         [choculate]|RT @choculate: Re...| positive|\n",
              "31-01-2020  05:09|       yoninvon|                  []|   [MedwinTruefaith]|RT @MedwinTruefai...| positive|\n",
              "31-01-2020  05:09|     albert1776|                  []|     [DougieTrucker]|RT @DougieTrucker...| positive|\n",
              "31-01-2020  05:09|    1EthanCheng|                  []|                  []|Prng mamamatay mu...|  neutral|\n",
              "31-01-2020  05:09|        Infiben|                  []|        [zornitsaxx]|RT @zornitsaxx: W...|  neutral|\n",
              "31-01-2020  05:09|    gongjuboi_i|                  []|         [boom13003]|RT @boom13003: หู...|  neutral|\n",
              "31-01-2020  05:09| BoiseYankeeGuy|                  []|                  []|CNN is like f#ck ...|  neutral|\n",
              "31-01-2020  05:09|         _bbbry|                  []|      [Iamhunter_69]|RT @Iamhunter_69:...|  neutral|\n",
              "31-01-2020  05:09|  Swapnil4India|       [coronavirus]|      [IndoPac_Info]|RT @IndoPac_Info:...|  neutral|\n",
              "31-01-2020  05:09|jeetttrrrrooooo|                  []|     [KorteSupremo_]|RT @KorteSupremo_...| negative|\n",
              "31-01-2020  05:09|       SMNook92|              [Lisa]|       [hallyukstar]|RT @hallyukstar: ...|  neutral|\n",
              "31-01-2020  05:09|     Mike_chen2|                  []|       [walterolson]|@walterolson In G...| negative|\n",
              "31-01-2020  05:09|       soneiko_|                  []|       [hanifjamals]|RT @hanifjamals: ...|  neutral|\n",
              "+-----------------+---------------+--------------------+--------------------+--------------------+---------+\n",
              "only showing top 20 rows\n",
              "\n",
              "</div>"
            ]
          },
          "metadata": {
            "tags": []
          }
        }
      ]
    },
    {
      "cell_type": "code",
      "metadata": {
        "id": "uwkX9ltEFGJ3",
        "colab_type": "code",
        "colab": {},
        "outputId": "a7954fa1-f4a5-4644-d2bc-d3b7633a03e3"
      },
      "source": [
        "tweets_proc.count()"
      ],
      "execution_count": null,
      "outputs": [
        {
          "output_type": "display_data",
          "data": {
            "text/html": [
              "<style scoped>\n",
              "  .ansiout {\n",
              "    display: block;\n",
              "    unicode-bidi: embed;\n",
              "    white-space: pre-wrap;\n",
              "    word-wrap: break-word;\n",
              "    word-break: break-all;\n",
              "    font-family: \"Source Code Pro\", \"Menlo\", monospace;;\n",
              "    font-size: 13px;\n",
              "    color: #555;\n",
              "    margin-left: 4px;\n",
              "    line-height: 19px;\n",
              "  }\n",
              "</style>\n",
              "<div class=\"ansiout\">Out[21]: 2579</div>"
            ]
          },
          "metadata": {
            "tags": []
          }
        }
      ]
    },
    {
      "cell_type": "code",
      "metadata": {
        "id": "zVIhnEqfFGJ5",
        "colab_type": "code",
        "colab": {},
        "outputId": "9e413825-50d2-43f2-e35c-51a75b8b5ebb"
      },
      "source": [
        "display(tweets_proc)"
      ],
      "execution_count": null,
      "outputs": [
        {
          "output_type": "display_data",
          "data": {
            "text/html": [
              "<style scoped>\n",
              "  .table-result-container {\n",
              "    max-height: 300px;\n",
              "    overflow: auto;\n",
              "  }\n",
              "  table, th, td {\n",
              "    border: 1px solid black;\n",
              "    border-collapse: collapse;\n",
              "  }\n",
              "  th, td {\n",
              "    padding: 5px;\n",
              "  }\n",
              "  th {\n",
              "    text-align: left;\n",
              "  }\n",
              "</style><div class='table-result-container'><table class='table-result'><thead style='background-color: white'><tr><th>parseDate</th><th>user</th><th>hashtags</th><th>user_mention</th><th>full_text</th><th>sentiment</th></tr></thead><tbody><tr><td>31-01-2020  05:09</td><td>mybabewoodzyou</td><td>List()</td><td>List(noppatjak)</td><td>RT @noppatjak: ราคามาตรฐานของหน้ากากอนามัย (แบบปกติ ไม่ใช่ N95) คือชิ้นละ 2 บาท</td><td>neutral</td></tr><tr><td>31-01-2020  05:09</td><td>UnseenJapanSite</td><td>List()</td><td>List()</td><td>\"All they need to do is declare coronavirus a designated infectious disease. Literally no need to change the constitution. They should focus instead on enforcing two-week quarantines and not bunking folks together.\" (2/2)</td><td>neutral</td></tr><tr><td>31-01-2020  05:09</td><td>KevinHarley5</td><td>List()</td><td>List(CNNPolitics, CNN)</td><td>@CNNPolitics @CNN stupidity is astonishing. Diversity in tackling the Coronavirus. Just when they can’t get any dumber, this...</td><td>negative</td></tr><tr><td>31-01-2020  05:09</td><td>wiggyagogo</td><td>List(closetheborder, auspol)</td><td>List(SkyNewsAust, SenPaterson)</td><td>@SkyNewsAust @SenPaterson Who’s evidence your relying on? China’s? #closetheborder #auspol</td><td>neutral</td></tr><tr><td>31-01-2020  05:09</td><td>HeavenSmileLisa</td><td>List()</td><td>List(08escaper)</td><td>RT @08escaper: ไม่ใช่ของไทยแต่อยากแบ่งปั่น\n",
              "\n",
              "วิธีป้องกันตัวจากไวรัสโคโลน่าสายพันธุ์ใหม่\n",
              "1. ล้างมือ/ฆ่าเชื้อบนมืออย่างถูกต้อง\n",
              "2. ใส่หน้ากากใน…</td><td>neutral</td></tr><tr><td>31-01-2020  05:09</td><td>prawitting</td><td>List(ไวรัสโคโรนา)</td><td>List(fm91trafficpro)</td><td>RT @fm91trafficpro: องค์การอนามัยโลก (WHO) ประกาศยกระดับ #ไวรัสโคโรนา เป็น “ภาวะฉุกเฉินด้านสาธารณสุขของโลก” หลังพบผู้ติดเชื้อเพิ่ม10 เท่าใน…</td><td>neutral</td></tr><tr><td>31-01-2020  05:09</td><td>RebellionIII</td><td>List()</td><td>List()</td><td>There should be a bottom line for everything. When I bought the N95 mask a few days ago, many places were sold out. I finally found a bucket of N95 masks in a remote shop. The shop knew that the Chinese needed to pay 50% off the sales. I took 30% of the stock in the shop. This https://t.co/Zw43XhTFJo</td><td>positive</td></tr><tr><td>31-01-2020  05:09</td><td>annarizaaa</td><td>List(coronavirus, CoronavirusOutbreak)</td><td>List(choculate)</td><td>RT @choculate: Really appreciated the humanity act! \n",
              " \n",
              "#coronavirus #CoronavirusOutbreak https://t.co/C5rZTlPj2y</td><td>positive</td></tr><tr><td>31-01-2020  05:09</td><td>yoninvon</td><td>List()</td><td>List(MedwinTruefaith)</td><td>RT @MedwinTruefaith: Taiwan is making sure China won’t get their face masks. 👏👏👏 😆\n",
              "\n",
              "Tayo, takot ma-hurt ang Tsina. 😩👎 https://t.co/KvwanmCc…</td><td>positive</td></tr><tr><td>31-01-2020  05:09</td><td>albert1776</td><td>List()</td><td>List(DougieTrucker)</td><td>RT @DougieTrucker: GOOD NIGHT AMERICA\n",
              "    AND THE WORLD\n",
              "BE SAFE.        BE ALERT\n",
              "\n",
              "SWEET DREAMS\n",
              "                 SLEEP TIGHT\n",
              "\n",
              "PRAY FOR THE C…</td><td>positive</td></tr><tr><td>31-01-2020  05:09</td><td>1EthanCheng</td><td>List()</td><td>List()</td><td>Prng mamamatay muna ata ako sa workload na binibigay nila bago sa corona virus ah</td><td>neutral</td></tr><tr><td>31-01-2020  05:09</td><td>Infiben</td><td>List()</td><td>List(zornitsaxx)</td><td>RT @zornitsaxx: WHO ประกาศให้ coronavirus เป็นภาวะฉุกเฉินทั่วโลก โดยเหตุผลหลักสำหรับการประกาศนี้ไม่ใช่เพราะเป็นเรื่องที่เกิดขึ้นในประเทศจีน…</td><td>neutral</td></tr><tr><td>31-01-2020  05:09</td><td>gongjuboi_i</td><td>List()</td><td>List(boom13003)</td><td>RT @boom13003: หูย Music Core กับ Inkigayo วีคนี้ จะอัดการแสดงของศิลปินอย่างเดียวโดยไม่ให้มีแฟนๆหรือผู้ชมเข้าไปดูการอัดรายการเลย เพราะไวรัส…</td><td>neutral</td></tr><tr><td>31-01-2020  05:09</td><td>BoiseYankeeGuy</td><td>List()</td><td>List()</td><td>CNN is like f#ck it...  Why not? https://t.co/Sm0001hwWZ</td><td>neutral</td></tr><tr><td>31-01-2020  05:09</td><td>_bbbry</td><td>List()</td><td>List(Iamhunter_69)</td><td>RT @Iamhunter_69: Ways to Prevent NCoV\n",
              "\n",
              "1. Proper hygiene\n",
              "2. Wear Face mask in crowded area\n",
              "3. Vote wisely\n",
              "\n",
              "Lastly don't vote for Bobong Go…</td><td>neutral</td></tr><tr><td>31-01-2020  05:09</td><td>Swapnil4India</td><td>List(coronavirus)</td><td>List(IndoPac_Info)</td><td>RT @IndoPac_Info: #coronavirus: \n",
              "\n",
              "Global health emergency declared by World Health Organisation, reversing earlier decision on outbreak\n",
              "\n",
              "De…</td><td>neutral</td></tr><tr><td>31-01-2020  05:09</td><td>jeetttrrrrooooo</td><td>List()</td><td>List(KorteSupremo_)</td><td>RT @KorteSupremo_: Banning people from China is not racism. It’s a preemptive measure enshrined in Article 3 Sec. 6 of our constitution:\n",
              "\n",
              "”…</td><td>negative</td></tr><tr><td>31-01-2020  05:09</td><td>SMNook92</td><td>List(Lisa)</td><td>List(hallyukstar)</td><td>RT @hallyukstar: YG แจ้งการยกเลิกคิวกิจกรรมของ ลิซ่า 'BLACKPINK' ในจีน จากสถานการณ์การแพร่ระบาดของไวรัสโคโรน่าสายพันธุ์ใหม่ 2019\n",
              "--\n",
              "#Lisa #…</td><td>neutral</td></tr><tr><td>31-01-2020  05:09</td><td>Mike_chen2</td><td>List()</td><td>List(walterolson)</td><td>@walterolson In Guangdong, China, they sometimes boil whole lettuce leaves and serve it with a bit of oyster sauce. It’s terrible.</td><td>negative</td></tr><tr><td>31-01-2020  05:09</td><td>soneiko_</td><td>List()</td><td>List(hanifjamals)</td><td>RT @hanifjamals: Kat sini boleh la rilek, cuba la lepak kat China tengok boleh tak duduk tenang camni.</td><td>neutral</td></tr><tr><td>31-01-2020  05:09</td><td>tarek_alim</td><td>List(كورونا)</td><td>List(dC00R)</td><td>RT @dC00R: الكمامة أم جنيه لا تحمي من فيروس #كورونا الكمامة الخاصة بفيروسات كورونا إسمها N95 وسعرها٣ دولار،يعني ٥٠ جنيه\n",
              "يعني لما الست وزيرة…</td><td>neutral</td></tr><tr><td>31-01-2020  05:09</td><td>4Tchat</td><td>List(CHINESEBAN, NCOV)</td><td>List(melissaramilla)</td><td>RT @melissaramilla: TANG INA NYONG MGA CHINESE KAYO MAG SILAYAS KAYO SA BANSA NAMIN!!! #CHINESEBAN #NCOV</td><td>neutral</td></tr><tr><td>31-01-2020  05:09</td><td>samkelemaseko</td><td>List(CoronaVirus)</td><td>List(Chriseldalewis)</td><td>RT @Chriseldalewis: #CoronaVirus The World Health Organisation says that 170 people have so far died and there are more than 7800 confirmed…</td><td>positive</td></tr><tr><td>31-01-2020  05:09</td><td>FamigliaPollo</td><td>List(coronavirus)</td><td>List(AntonioSocci1)</td><td>RT @AntonioSocci1: I due turisti cinesi col #coronavirus provenivano proprio da Wuhan ed erano, in Italia, in comitiva, da otto giorni. Dom…</td><td>negative</td></tr><tr><td>31-01-2020  05:09</td><td>AnMar005</td><td>List()</td><td>List(miguelm_barrios)</td><td>RT @miguelm_barrios: Por favor, sean responsables. De nada sirve hablar sospechas. Lo único que consiguen es generar alarma en la población…</td><td>neutral</td></tr><tr><td>31-01-2020  05:09</td><td>hongkongmacauer</td><td>List(Coronavirus)</td><td>List(NZZ)</td><td>RT @NZZ: Leere Strassen, leere Supermärkte und überfüllte Spitäler: Das #Coronavirus dominiert den Alltag in China. Unser Korrespondent @Mu…</td><td>neutral</td></tr><tr><td>31-01-2020  05:09</td><td>DDSpeaksTruth</td><td>List()</td><td>List(DDSpeaksTruth)</td><td>RT @DDSpeaksTruth: SEE Patent! CORONAVIRUS: A Globalist Bioweapon Created by DARPA &amp; Partners | SOTN: Alternative News, Analysis &amp; Commenta…</td><td>neutral</td></tr><tr><td>31-01-2020  05:09</td><td>chiusrs</td><td>List()</td><td>List(cnnphilippines)</td><td>RT @cnnphilippines: BREAKING: There are now 56 people under observation for suspected novel coronavirus https://t.co/6CaSOZBHv5</td><td>neutral</td></tr><tr><td>31-01-2020  05:09</td><td>RainingCloudss</td><td>List(CoronavirusOutbreak)</td><td>List(thepapercn)</td><td>RT @thepapercn: Finding solidarity in isolation! Staying indoors due to the #CoronavirusOutbreak, residents at some communities in Wuhan sa…</td><td>negative</td></tr><tr><td>31-01-2020  05:09</td><td>SmirkingJulian_</td><td>List(resist)</td><td>List(CarlaBurlando, kellyjohnsonhas, CNNPolitics)</td><td>RT @CarlaBurlando: @kellyjohnsonhas @CNNPolitics This is unacceptable! Protest the racist patriarchy by getting Corona virus! #resist</td><td>neutral</td></tr><tr><td>31-01-2020  05:09</td><td>realkgstevens1</td><td>List()</td><td>List(realDonaldTrump)</td><td>RT @realDonaldTrump: Working closely with China and others on Coronavirus outbreak. Only 5 people in U.S., all in good recovery.</td><td>positive</td></tr><tr><td>31-01-2020  05:09</td><td>beschuit_p</td><td>List()</td><td>List(rivm)</td><td>@rivm en GGD zijn zwaaaaar laks en ongeïnformeerd bezig geweest. \n",
              "\n",
              "https://t.co/9qG5jo6zMX</td><td>neutral</td></tr><tr><td>31-01-2020  05:09</td><td>fernandezkxth</td><td>List()</td><td>List(Abi_Valte)</td><td>RT @Abi_Valte: Ah next week pa pala. Di kasi masyadong important. https://t.co/KGdVIPaa7B</td><td>positive</td></tr><tr><td>31-01-2020  05:09</td><td>sheeicoronel</td><td>List()</td><td>List(soyunargento)</td><td>RT @soyunargento: Posible caso de coronavirus en pergamino</td><td>neutral</td></tr><tr><td>31-01-2020  05:09</td><td>SaosychO_O</td><td>List()</td><td>List(zornitsaxx)</td><td>RT @zornitsaxx: WHO ประกาศให้ coronavirus เป็นภาวะฉุกเฉินทั่วโลก โดยเหตุผลหลักสำหรับการประกาศนี้ไม่ใช่เพราะเป็นเรื่องที่เกิดขึ้นในประเทศจีน…</td><td>neutral</td></tr><tr><td>31-01-2020  05:09</td><td>CensoredToday</td><td>List()</td><td>List()</td><td>Coronavirus Declared Global Health Emergency By WHO As Virus Continues To Spread\n",
              "https://t.co/NifbrhYL2f\n",
              "Coronavirus Declared Global Health Emergency By WHO As Virus Continues ... https://t.co/AirNyrZ1AH</td><td>neutral</td></tr><tr><td>31-01-2020  05:09</td><td>gmulaaaa</td><td>List()</td><td>List(TheFooCommunity)</td><td>RT @TheFooCommunity: ME AFTER I HEARD THAT CORONAVIRUS IS IN CALIFORNIA https://t.co/HBU7gjPHfd</td><td>neutral</td></tr><tr><td>31-01-2020  05:09</td><td>GreggNdegwa</td><td>List()</td><td>List(makaumutua, KenyaAirways)</td><td>RT @makaumutua: It makes ZERO sense for @KenyaAirways to fly to China if Hong Kong — itself a part of China — has banned travel to Mainland…</td><td>positive</td></tr><tr><td>31-01-2020  05:09</td><td>renjunolafx</td><td>List()</td><td>List(pr_moph)</td><td>RT @pr_moph: รายงานข่าวกรณีโรคปอดอักเสบจากเชื้อไวรัสโคโรนาสายพันธุ์ใหม่ 2019 (Novel Coronavirus;2019-nCoV) ประจำวันที่ 31 มกราคม 2563 https…</td><td>neutral</td></tr><tr><td>31-01-2020  05:09</td><td>xsushiteix</td><td>List()</td><td>List(Helenjunet)</td><td>RT @Helenjunet: Oh corona https://t.co/mbme9c6A0y</td><td>neutral</td></tr><tr><td>31-01-2020  05:09</td><td>Xanne_67</td><td>List()</td><td>List(TheLaSallian)</td><td>RT @TheLaSallian: JUST IN: DLSU imposes a travel ban to China for faculty and staff members due to the novel coronavirus outbreak, which wa…</td><td>negative</td></tr><tr><td>31-01-2020  05:09</td><td>sxlzy11</td><td>List()</td><td>List(mrbcyber, nzherald)</td><td>RT @mrbcyber: Coronavirus: China accused of 'burning bodies in secret', via @nzherald https://t.co/1rTirk6u4s</td><td>negative</td></tr><tr><td>31-01-2020  05:09</td><td>omgtemothy</td><td>List()</td><td>List(glenncharlsbls)</td><td>RT @glenncharlsbls: Let’s all be educated about the nCoV. Read articles from credible sources and read it fully and not just headlines. Let…</td><td>positive</td></tr><tr><td>31-01-2020  05:09</td><td>comma_chameleon</td><td>List()</td><td>List(TorontoStar)</td><td>On Friday's @torontostar A1: Ottawa aims to ban some single-use plastics by next year; coronavirus is declared a global health emergency; murder trial opens in 2017 death of Tess Richey; and an unusual defence in Trump's impeachment trial. https://t.co/YreWeT6DJ0</td><td>positive</td></tr><tr><td>31-01-2020  05:09</td><td>kukkurovaca</td><td>List()</td><td>List(kathbarbadoro)</td><td>RT @kathbarbadoro: Coronavirus is scary enough to make Americans racist about Chinese people but not scary enough to make Americans start w…</td><td>negative</td></tr><tr><td>31-01-2020  05:09</td><td>Meltyy_MTY</td><td>List()</td><td>List(amablitz)</td><td>RT @amablitz: Tengo miedo que llegue alguien, me estornude en la cara y me diga “Bienvenida al mundo del Coronavirus”</td><td>neutral</td></tr><tr><td>31-01-2020  05:09</td><td>HQEDphd</td><td>List()</td><td>List()</td><td>Who trusts Sen. Lamar Alexander and his Cowardly Coronavirus Coverup?\n",
              "\n",
              "Not America.</td><td>neutral</td></tr><tr><td>31-01-2020  05:09</td><td>pjkbae</td><td>List()</td><td>List(_joaqomartinez)</td><td>RT @_joaqomartinez: -Con un posible caso de coronavirus detectado en Pergamino, profesor Cocoon diría ud. que es momento de entregarse al p…</td><td>neutral</td></tr><tr><td>31-01-2020  05:09</td><td>mykagogo</td><td>List()</td><td>List(Magnethic_flux)</td><td>RT @Magnethic_flux: what's the best precautionary measure that the PH govt has employed to protect the filipino people from the coronavirus…</td><td>positive</td></tr><tr><td>31-01-2020  05:09</td><td>GuilleOZurita</td><td>List()</td><td>List(JAVM94, gerardodiosda12, Reporte_Indigo, m_ebrard)</td><td>@JAVM94 @gerardodiosda12 @Reporte_Indigo @m_ebrard Tampoco dije eso, mejor que se queden allá o tengan extrema precaución, no vale la pena arriesgarse, si China aún no tiene cura, ¿qué te hace pensar que nosotros la tenemos?</td><td>neutral</td></tr><tr><td>31-01-2020  05:09</td><td>stoptheRINO</td><td>List()</td><td>List(AriFleischer)</td><td>RT @AriFleischer: Did you know that the Obama-Biden administration in 2016 fined JP Morgan $264 million for hiring the unqualified kids of…</td><td>neutral</td></tr><tr><td>31-01-2020  05:09</td><td>stephiealpha</td><td>List()</td><td>List(DickGordonDG)</td><td>Around bambang and tayuman every store has a sign on front with “N95/surgical mask/face mask out of stock” Binili po ba lahat ng gobyerno para dalhin sa China?? @DickGordonDG https://t.co/hZ5cZanXUB</td><td>neutral</td></tr><tr><td>31-01-2020  05:09</td><td>enriqabel</td><td>List()</td><td>List(_mtzas)</td><td>RT @_mtzas: Un miembro del equipo médico de la Universidad de Xinjiang en Urumqi se despide de su familia antes de partir a Wuhan para ayud…</td><td>neutral</td></tr><tr><td>31-01-2020  05:09</td><td>yourfavbadgal</td><td>List(CoronaVirus)</td><td>List(SoMexicans)</td><td>RT @SoMexicans: The Simpsons have done it again 🤯 #CoronaVirus https://t.co/hOsmxdrRhg</td><td>neutral</td></tr><tr><td>31-01-2020  05:09</td><td>jimmed03</td><td>List()</td><td>List(Echinanews)</td><td>RT @Echinanews: 3 Medical workers of Wuhan Union Hospital diagnosed with the novel coronavirus (2019-nCoV) pneumonia are cured and discharg…</td><td>positive</td></tr><tr><td>31-01-2020  05:09</td><td>mnaseer999</td><td>List(coronarvirus)</td><td>List(Gounder_mahan)</td><td>RT @Gounder_mahan: #coronarvirus: Watch this video👇and you'll feel the HUMANITY ❤ Even a small action can be appreciated...! \n",
              " \n",
              "#coronaviru…</td><td>positive</td></tr><tr><td>31-01-2020  05:09</td><td>IP_Kapuki</td><td>List()</td><td>List(pr_moph)</td><td>RT @pr_moph: รายงานข่าวกรณีโรคปอดอักเสบจากเชื้อไวรัสโคโรนาสายพันธุ์ใหม่ 2019 (Novel Coronavirus;2019-nCoV) ประจำวันที่ 31 มกราคม 2563 https…</td><td>neutral</td></tr><tr><td>31-01-2020  05:09</td><td>CherishedSolace</td><td>List()</td><td>List(ColumbiaBugle)</td><td>RT @ColumbiaBugle: Tucker Carlson: Health-Records Company &amp; Drugmaker Secretly Pushed Opioids To Doctors\n",
              "\n",
              "\"The opioid epidemic at this poin…</td><td>negative</td></tr><tr><td>31-01-2020  05:09</td><td>mrssagdeo</td><td>List()</td><td>List(BoriaMajumdar, airindiain)</td><td>RT @BoriaMajumdar: A friend in China just informed that @airindiain is sending its flight and crew to get the Indians back from Wuhan. Assu…</td><td>neutral</td></tr><tr><td>31-01-2020  05:09</td><td>annjomon</td><td>List()</td><td>List()</td><td>Nakaka praning ka corona virus ha bwiset ka mawala kna dito sa pinas god is good i know..</td><td>positive</td></tr><tr><td>31-01-2020  05:09</td><td>turovalencia</td><td>List()</td><td>List(pepcpam, inquirerdotnet)</td><td>@pepcpam @inquirerdotnet I realy hope the administration knows what GLOBAL EMERGENCY means. And to all DDS, you are part of this emergency. Let me make this clear corona virus  does not give a F&amp;#K whether you are DDS or dilawan. Once you contract it you are screwed.</td><td>positive</td></tr><tr><td>31-01-2020  05:09</td><td>Agustina_salbal</td><td>List()</td><td>List(ManuelGabino32, RedLopezDiaz)</td><td>RT @ManuelGabino32: @RedLopezDiaz China dijo que construiría un hospital en 10 días para los afectados y aquí ni han terminado el remplazo…</td><td>neutral</td></tr><tr><td>31-01-2020  05:09</td><td>Bobstrulavitch</td><td>List()</td><td>List()</td><td>coronavirus data https://t.co/LSnNIs9sle</td><td>neutral</td></tr><tr><td>31-01-2020  05:09</td><td>Antibabyexecut1</td><td>List()</td><td>List(MattWalshBlog)</td><td>RT @MattWalshBlog: I was starving and a guy with 40 sandwiches gave me one, but it was the equivalent of a guy with 1 sandwich giving me a…</td><td>neutral</td></tr><tr><td>31-01-2020  05:09</td><td>marianaazarcoya</td><td>List()</td><td>List(SamIbarguen)</td><td>@SamIbarguen Viene directo desde china y ya está listo mi funeral</td><td>neutral</td></tr><tr><td>31-01-2020  05:09</td><td>ninaflx</td><td>List()</td><td>List(Abi_Valte)</td><td>RT @Abi_Valte: Ah next week pa pala. Di kasi masyadong important.</td><td>positive</td></tr><tr><td>31-01-2020  05:09</td><td>yasirsabir</td><td>List()</td><td>List(sherryrehman, CathayPak)</td><td>@sherryrehman @CathayPak https://t.co/kcbvGX2Bee</td><td>neutral</td></tr><tr><td>31-01-2020  05:09</td><td>aehtlabnmnt05</td><td>List()</td><td>List(liyantamares)</td><td>RT @liyantamares: and let our response be: SANA ALL https://t.co/MNUt3FzP9R</td><td>neutral</td></tr><tr><td>31-01-2020  05:09</td><td>ConstanceLyon7</td><td>List()</td><td>List()</td><td>does any of this have anything to do with bill gates shyte to water machine-to tote to the third World Nations of the World https://t.co/JiN4eBwoKr</td><td>neutral</td></tr><tr><td>31-01-2020  05:09</td><td>kavllucia</td><td>List()</td><td>List(noppatjak)</td><td>RT @noppatjak: ราคามาตรฐานของหน้ากากอนามัย (แบบปกติ ไม่ใช่ N95) คือชิ้นละ 2 บาท</td><td>neutral</td></tr><tr><td>31-01-2020  05:09</td><td>MarkArtugz</td><td>List()</td><td>List(SCMPNews)</td><td>RT @SCMPNews: A doctor explains the proper way to wash your hands and put on a face mask, amid the China coronavirus outbreak https://t.co/…</td><td>neutral</td></tr><tr><td>31-01-2020  05:09</td><td>jamain_nur</td><td>List(koronavirus, 2019nCov)</td><td>List(hmetromy)</td><td>RT @hmetromy: Bersihkan barang dibeli dari China bagi mengelak penularan #koronavirus baharu #2019nCov https://t.co/AFLIuaJSYB</td><td>neutral</td></tr><tr><td>31-01-2020  05:09</td><td>humblequeend</td><td>List()</td><td>List(helloalegria)</td><td>RT @helloalegria: coronavirus has been racialised as a \"chinese\" illness and for this reason chinese people, regardless of their proximity…</td><td>neutral</td></tr><tr><td>31-01-2020  05:09</td><td>shazmikk</td><td>List()</td><td>List(umarsaif)</td><td>RT @umarsaif: Coronavirus declared global health emergency by WHO https://t.co/QQDye9JatE</td><td>neutral</td></tr><tr><td>31-01-2020  05:09</td><td>doeeyeskook</td><td>List()</td><td>List()</td><td>Due to the outbreak i'm genuinely worried for the boys😭</td><td>positive</td></tr><tr><td>31-01-2020  05:09</td><td>yyy_k_k</td><td>List()</td><td>List(nytopinion)</td><td>RT @nytopinion: Instead of having an adult conversation with the Chinese people about the coronavirus and putting in place reasonable polic…</td><td>positive</td></tr><tr><td>31-01-2020  05:09</td><td>Jeabmissyou</td><td>List(Lisa)</td><td>List(hallyukstar)</td><td>RT @hallyukstar: YG แจ้งการยกเลิกคิวกิจกรรมของ ลิซ่า 'BLACKPINK' ในจีน จากสถานการณ์การแพร่ระบาดของไวรัสโคโรน่าสายพันธุ์ใหม่ 2019\n",
              "--\n",
              "#Lisa #…</td><td>neutral</td></tr><tr><td>31-01-2020  05:09</td><td>nurulnnnadihah</td><td>List()</td><td>List(BBCBreaking)</td><td>RT @BBCBreaking: Coronavirus is declared global emergency by World Health Organization as outbreak continues to spread outside China https:…</td><td>neutral</td></tr><tr><td>31-01-2020  05:09</td><td>YungQues11</td><td>List()</td><td>List(Cxmaron)</td><td>RT @Cxmaron: https://t.co/Li8oU7PpZt</td><td>neutral</td></tr><tr><td>31-01-2020  05:09</td><td>fonnnji30</td><td>List(Lisa)</td><td>List(hallyukstar)</td><td>RT @hallyukstar: YG แจ้งการยกเลิกคิวกิจกรรมของ ลิซ่า 'BLACKPINK' ในจีน จากสถานการณ์การแพร่ระบาดของไวรัสโคโรน่าสายพันธุ์ใหม่ 2019\n",
              "--\n",
              "#Lisa #…</td><td>neutral</td></tr><tr><td>31-01-2020  05:09</td><td>Amalsdd</td><td>List()</td><td>List(guardian)</td><td>RT @guardian: How does coronavirus spread and how can you protect yourself? https://t.co/fv2DEvY0rR</td><td>neutral</td></tr><tr><td>31-01-2020  05:09</td><td>santeira</td><td>List()</td><td>List(marinagamba1909)</td><td>@marinagamba1909 Kisahnyaaa. Patut da jadi macam agen propaganda China. US bijak tak ikut.</td><td>negative</td></tr><tr><td>31-01-2020  05:09</td><td>TheMoenot</td><td>List()</td><td>List(Kate_OKeeffe)</td><td>RT @Kate_OKeeffe: NEW: The arrested Harvard prof is tip of the iceberg. When the Texas A&amp;M system investigated how much Chinese money its f…</td><td>positive</td></tr><tr><td>31-01-2020  05:09</td><td>xomandan</td><td>List()</td><td>List(neecahn)</td><td>@neecahn tiati virus Corona ce</td><td>neutral</td></tr><tr><td>31-01-2020  05:09</td><td>NuranishaS</td><td>List()</td><td>List(JPenerangan, JaPenWPKL)</td><td>RT @JPenerangan: Info On Wheel\n",
              "Jabatan Penerangan Malaysia, 30 Jan 2020, WP K. Lumpur [1/2]\n",
              "@JaPenWPKL \n",
              "🔶 P.122 Seputeh\n",
              "🔶 P.121 Lembah Pant…</td><td>neutral</td></tr><tr><td>31-01-2020  05:09</td><td>witchertrois</td><td>List()</td><td>List()</td><td>Early Transmission Dynamics in Wuhan, China, of Novel Coronavirus–Infected Pneumonia | NEJM https://t.co/RNOKC4OPBx</td><td>positive</td></tr><tr><td>31-01-2020  05:09</td><td>dvnn_r</td><td>List()</td><td>List(winklebaddie)</td><td>RT @winklebaddie: City of El Paso officials have confirmed a case of coronavirus within the Canutillo community. Check to follow updates: h…</td><td>positive</td></tr><tr><td>31-01-2020  05:09</td><td>qbayyinah91</td><td>List()</td><td>List()</td><td>Coronavirus: closure of Russia-China border sparks trade fears https://t.co/vG6PRDt7lg</td><td>neutral</td></tr><tr><td>31-01-2020  05:09</td><td>shayhonest</td><td>List()</td><td>List(DonaIdJTrummp)</td><td>RT @DonaIdJTrummp: The Simpsons did it again they predicted the coronavirus https://t.co/J8Vu27jIDJ</td><td>neutral</td></tr><tr><td>31-01-2020  05:09</td><td>wpokay</td><td>List()</td><td>List()</td><td>Google launches 'SOS Alert' with WHO in response to the coronavirus https://t.co/DeBAdrcaMT</td><td>neutral</td></tr><tr><td>31-01-2020  05:09</td><td>handra87</td><td>List()</td><td>List()</td><td>Inside a Coronavirus Evacuation: How 195 Americans Got Out of Wuhan https://t.co/5mJ03qnPoM</td><td>neutral</td></tr><tr><td>31-01-2020  05:09</td><td>always_meandyou</td><td>List()</td><td>List(macronikki)</td><td>RT @macronikki: Here they go again. Fixated on Leni. Ang tanong what is DUTERTE doing to contain this epidemic? Aber. https://t.co/m9RNeJdd…</td><td>neutral</td></tr><tr><td>31-01-2020  05:09</td><td>menesesmx</td><td>List()</td><td>List(ferbelaunzaran)</td><td>RT @ferbelaunzaran: Mala suerte para los mexicanos varados que Evo Moráles no esté en China👇</td><td>neutral</td></tr><tr><td>31-01-2020  05:09</td><td>district_cola</td><td>List()</td><td>List(WHO, DrTedros, WHOWPRO, WHOSEARO, pahowho, WHO_Europe, WHOEMRO, WHOAFRO)</td><td>RT @WHO: @DrTedros @WHOWPRO @WHOSEARO @pahowho @WHO_Europe @WHOEMRO @WHOAFRO 🚨BREAKING🚨\n",
              "\n",
              "\"For all of these reasons, I am declaring a public…</td><td>neutral</td></tr><tr><td>31-01-2020  05:09</td><td>ntv</td><td>List(coronavirus)</td><td>List()</td><td>Çin yurt dışındaki Wuhanlıları geri getirecek #coronavirus \n",
              "https://t.co/Ck92IKCNX0 https://t.co/yMOzOvONui</td><td>neutral</td></tr><tr><td>31-01-2020  05:09</td><td>daringsarip</td><td>List()</td><td>List(aikoBM)</td><td>@aikoBM So Allah na malai limo. Gyanan mambu i ipkaluk amie. So connecting flight pala to Wuhan na saya eran tyago sa Davao International Airport. Kahapon na nagkakaubosan na daw ng mask dito. Apya sa mga neighboring cities amie na ubos na din daw</td><td>neutral</td></tr><tr><td>31-01-2020  05:09</td><td>SoyAria</td><td>List(Coronavirus)</td><td>List(segregustavo)</td><td>RT @segregustavo: #Coronavirus\n",
              "\n",
              "URGENTE\n",
              "\n",
              "Argentina Inmune\n",
              "\n",
              "La OMS declara emergencia global por el Coronavirus y se esperan corrientes migr…</td><td>neutral</td></tr><tr><td>31-01-2020  05:09</td><td>zamou7</td><td>List(coronavirus)</td><td>List(walidou1er)</td><td>RT @walidou1er: Sentant que vous vous posez des questions sur le #coronavirus, voici un élément de réponse :\n",
              "- Peut-on attraper le coronavi…</td><td>neutral</td></tr><tr><td>31-01-2020  05:09</td><td>Caaaro_jara</td><td>List()</td><td>List(Caviar_Marolio)</td><td>RT @Caviar_Marolio: En Pergamino hay una china tosiendo murciélagos crudos.\n",
              "\n",
              "Se activó el protocolo, le están pegando con una alpargata en…</td><td>neutral</td></tr><tr><td>31-01-2020  05:09</td><td>wing69434331</td><td>List()</td><td>List(LowyInstitute)</td><td>RT @LowyInstitute: As Hong Kong wards off coronavirus, authorities struggle to win trust | Vivienne Chow https://t.co/gy9s2w0h4X</td><td>positive</td></tr><tr><td>31-01-2020  05:09</td><td>isabelleibanez</td><td>List(coronavirus, CoronavirusOutbreak)</td><td>List(choculate)</td><td>RT @choculate: Really appreciated the humanity act! \n",
              " \n",
              "#coronavirus #CoronavirusOutbreak https://t.co/C5rZTlPj2y</td><td>positive</td></tr><tr><td>31-01-2020  05:09</td><td>eka_anjani97</td><td>List()</td><td>List(corona)</td><td>@pndwjya Hai jelek @corona</td><td>neutral</td></tr><tr><td>31-01-2020  05:09</td><td>ShiCityMe</td><td>List()</td><td>List(helloalegria)</td><td>RT @helloalegria: coronavirus has been racialised as a \"chinese\" illness and for this reason chinese people, regardless of their proximity…</td><td>neutral</td></tr><tr><td>31-01-2020  05:09</td><td>Dukeof_Kendall</td><td>List()</td><td>List(OrwellNGoode)</td><td>RT @OrwellNGoode: Because tackling a deadly virus needs affirmative action.</td><td>positive</td></tr><tr><td>31-01-2020  05:09</td><td>AUMExchange</td><td>List()</td><td>List()</td><td>Chevron asks staff to postpone all non-essential travel to China https://t.co/JNE6zZndOb https://t.co/DAM3zfNWez</td><td>neutral</td></tr><tr><td>31-01-2020  05:09</td><td>oddjoseph</td><td>List()</td><td>List(barnabychuck)</td><td>RT @barnabychuck: Is it racist to suggest a ban on flights?    NO.\n",
              "\n",
              "Is it racist to criticize Wuhan residents for traveling overseas?    NO…</td><td>neutral</td></tr><tr><td>31-01-2020  05:09</td><td>mclouiiis</td><td>List()</td><td>List(barnabychuck)</td><td>RT @barnabychuck: Is it racist to suggest a ban on flights?    NO.\n",
              "\n",
              "Is it racist to criticize Wuhan residents for traveling overseas?    NO…</td><td>neutral</td></tr><tr><td>31-01-2020  05:09</td><td>653A_C60</td><td>List()</td><td>List(flightradar24)</td><td>RT @flightradar24: An Air India 747 is currently en route from Mumbai to Delhi to collect medical supplies. It will then fly to Wuhan to br…</td><td>positive</td></tr><tr><td>31-01-2020  05:09</td><td>jorroser</td><td>List()</td><td>List(doctormacias)</td><td>RT @doctormacias: La OMS declara la emergencia sanitaria internacional por el brote de coronavirus en China.  https://t.co/13sLm8bjk6</td><td>neutral</td></tr><tr><td>31-01-2020  05:09</td><td>stereographic07</td><td>List()</td><td>List(meinmokhtar)</td><td>RT @meinmokhtar: Macam mana nak avoid close contact ni. Takut nnt cina bersin, nak elak kena tuduh racist and xenophobic plak. Sebab dekat…</td><td>neutral</td></tr><tr><td>31-01-2020  05:09</td><td>FactBot_</td><td>List(FactBot)</td><td>List()</td><td>Facebook, Skype and even Twitter are all banned in China.        #FactBot</td><td>neutral</td></tr><tr><td>31-01-2020  05:09</td><td>b4faruk</td><td>List()</td><td>List(milligazetecom)</td><td>RT @milligazetecom: Corona virüs bir ülkeye daha sıçradı\n",
              "https://t.co/yz0mgphwKn</td><td>neutral</td></tr><tr><td>31-01-2020  05:09</td><td>janussess_13</td><td>List()</td><td>List(econcepcion)</td><td>RT @econcepcion: Take that, Bong Go! Gising din si Tita Leni and her kuda has more TAPANG AT MALASAKIT! \n",
              "\n",
              "Can you just let her work on this…</td><td>positive</td></tr><tr><td>31-01-2020  05:09</td><td>alyanna171</td><td>List(Coronavirus)</td><td>List()</td><td>RT @Arslan_Crickter: She is a volunteer lady doctor ❤️ going to wuhaan city...to treat #Coronavirus patients 😥This is a potential suicide m…</td><td>neutral</td></tr><tr><td>31-01-2020  05:09</td><td>WolphstarrL</td><td>List(sickness, disease, outbreak, endemic, virus)</td><td>List()</td><td>Dudes take this Corona Virus to serious. 😳 seriously 😳 —————————————\n",
              "Starring 3nyc jammincamerin kevondadotconnector #viralvideos#skits#funnies#health#homiesbelike #sickness #disease #outbreak #endemic #virus… https://t.co/etTBAf6jXh</td><td>negative</td></tr><tr><td>31-01-2020  05:09</td><td>alrodriguez09</td><td>List()</td><td>List(IvanDuque)</td><td>Saquen a ese desgraciado de @IvanDuque ¿hasta cuándo el Pueblo Colombiano seguirá viviendo en la miseria humana que le impone su oligarquía, apoyada desde los EEUU? Es hora de que abran los ojos y terminen de reaccionar ante la arremetida neoliberal, fascista, criminal y genocida https://t.co/BZ6f7rrBo4</td><td>negative</td></tr><tr><td>31-01-2020  05:09</td><td>GWN65743123</td><td>List()</td><td>List(nobluk)</td><td>RT @nobluk: ตัวนี้เค้าบอกกรองฝุ่นและเชื้อโรคที่ลอยในอากาศได้ถึง 99% ความละเอียดแผ่นกรอง 0.1 ไมครอน (ดีกว่าN95) กล่องนึงมี 3 ชิ้น นุ่นซื้อมา…</td><td>neutral</td></tr><tr><td>31-01-2020  05:09</td><td>Mardianaa___</td><td>List()</td><td>List(milosususejuk)</td><td>RT @milosususejuk: Pray for our unsung heroes as well, the MLT (medical lab technologist). They put their life at risks handling all potent…</td><td>neutral</td></tr><tr><td>31-01-2020  05:09</td><td>CodyOHannah</td><td>List()</td><td>List()</td><td>WHO declares coronavirus global emergency; State Department raises travel warning to highest level https://t.co/O9nACNmR8E https://t.co/3ZTpX5PY3k</td><td>neutral</td></tr><tr><td>31-01-2020  05:09</td><td>emanuelduarte_d</td><td>List()</td><td>List(porquetendencia)</td><td>RT @porquetendencia: \"Pergamino\":\n",
              "Porque informan que en el Hospital San José activaron el protocolo de Coronavirus tras atender a una muje…</td><td>neutral</td></tr><tr><td>31-01-2020  05:09</td><td>JonBownePolitix</td><td>List()</td><td>List(Echinanews, MFA_China)</td><td>RT @Echinanews: China's Foreign Ministry Spokesperson @MFA_China on Friday said considering the practical difficulties Chinese citizens fro…</td><td>negative</td></tr><tr><td>31-01-2020  05:09</td><td>kuojounuo</td><td>List()</td><td>List(wordpressdotcom)</td><td>10 ĐIỀU KINH KHỦNG về VIRUS CORONA - 11 tỉnh thành Việt Nam NGUY CƠ THÀNH Ổ DỊCH https://t.co/IhxS3yCbzc qua @wordpressdotcom</td><td>neutral</td></tr><tr><td>31-01-2020  05:09</td><td>Loulwig</td><td>List()</td><td>List(kathbarbadoro)</td><td>RT @kathbarbadoro: Coronavirus is scary enough to make Americans racist about Chinese people but not scary enough to make Americans start w…</td><td>negative</td></tr><tr><td>31-01-2020  05:09</td><td>mmxxxd04</td><td>List()</td><td>List(spin9)</td><td>RT @spin9: ตอนนั้น SARS ใช้เวลา 9 เดือน จึงจะยุติทุกอย่าง\n",
              "\n",
              "ตอนนี้ Wuhan ยังผ่านไปไม่ถึง 2 เดือน\n",
              "\n",
              "และมีจำนวนผู้ติดเชื้อมากกว่า SARS แล้ว\n",
              "\n",
              "เร…</td><td>neutral</td></tr><tr><td>31-01-2020  05:09</td><td>FireBang_21</td><td>List()</td><td>List(WHO, DrTedros, WHOWPRO, WHOSEARO, pahowho, WHO_Europe, WHOEMRO, WHOAFRO)</td><td>RT @WHO: @DrTedros @WHOWPRO @WHOSEARO @pahowho @WHO_Europe @WHOEMRO @WHOAFRO \"The main reason for this declaration is not because of what i…</td><td>positive</td></tr><tr><td>31-01-2020  05:09</td><td>SitiMdSobri</td><td>List()</td><td>List(501Awani)</td><td>RT @501Awani: Penularan koronavirus, nCoV telah diisytiharkan sebagai situasi kecemasan antarabangsa. Pengisytiharan itu dibuat Pertubuhan…</td><td>neutral</td></tr><tr><td>31-01-2020  05:09</td><td>tech_vius</td><td>List()</td><td>List(abc_tecnologia)</td><td>RT @abc_tecnologia: Coronavirus: así es el robot que se encarga de llevar comida a la gente en cuarentena en China https://t.co/H15rmMaDYg</td><td>neutral</td></tr><tr><td>31-01-2020  05:09</td><td>morningloriax</td><td>List()</td><td>List()</td><td>RT @YIAMNA: แต่ถ้าอยากใส่จริง ๆ เพื่อความสบายใจ ก็ใส่หน้ากากแบบธรรมดานี่แหละ เพราะมันกัน droplet ได้ก็พอแล้ว ส่วน N95 ไว้ใกล้ชิดผู้ป่วยจริง…</td><td>neutral</td></tr><tr><td>31-01-2020  05:09</td><td>CassieReneeVee</td><td>List()</td><td>List(KingTrillaX)</td><td>RT @KingTrillaX: The fact that there’s no way to cure this CoronaVirus and there’s still open travel to and from CHINA</td><td>neutral</td></tr><tr><td>31-01-2020  05:09</td><td>irfan0224</td><td>List()</td><td>List(spectatorindex)</td><td>RT @spectatorindex: BREAKING: World Health Organisation declares coronavirus crisis a public emergency of international concern</td><td>neutral</td></tr><tr><td>31-01-2020  05:09</td><td>ariel_sweeney</td><td>List()</td><td>List(benshapiro)</td><td>RT @benshapiro: So just to get this straight, CNN is objecting to a task force designed to stop an epidemic by focusing on...ethnic diversi…</td><td>positive</td></tr><tr><td>31-01-2020  05:09</td><td>Andy15521388</td><td>List(CoronavirusOutbreak, Communist, China)</td><td>List(steve_hanke)</td><td>RT @steve_hanke: The #CoronavirusOutbreak focuses on failures of China's #Communist state. #China is a powder keg. My old friend @DanHennin…</td><td>positive</td></tr><tr><td>31-01-2020  05:09</td><td>TanusreeJain</td><td>List()</td><td>List(cnnphilippines)</td><td>RT @cnnphilippines: LOOK: Novel coronavirus (2019-nCov) has now spread to every region within mainland China after Tibet confirmed its firs…</td><td>positive</td></tr><tr><td>31-01-2020  05:09</td><td>rhdiddl0192</td><td>List()</td><td>List(clefjy)</td><td>RT @clefjy: WHO사무총장 연설 전문\n",
              "\n",
              "마지막 문장이 인상적이다.\n",
              "\n",
              "불안보단 객관적 사실이,\n",
              "소문보단 과학이,\n",
              "낙인찍기보단 연대가 필요한 시기입니다\n",
              "\n",
              "This is the time for facts, not fear.\n",
              "This is the…</td><td>neutral</td></tr><tr><td>31-01-2020  05:09</td><td>wu_nigel</td><td>List()</td><td>List(SenTomCotton)</td><td>RT @SenTomCotton: The Wuhan coronavirus is a catastrophe on the scale of Chernobyl for China, only Chernobyl was localized. The coronavirus…</td><td>neutral</td></tr><tr><td>31-01-2020  05:09</td><td>AcerbiJacob</td><td>List(WuhanCoronavirus)</td><td>List()</td><td>#WuhanCoronavirus https://t.co/xjDabR0BvI</td><td>neutral</td></tr><tr><td>31-01-2020  05:09</td><td>minimALessandro</td><td>List(coronavirus)</td><td>List()</td><td>Ieri sono andato a letto che vi sapevo col diploma liceale, stamane mi sveglio e vi trovo specializzati in virologia\n",
              "\n",
              "#coronavirus</td><td>neutral</td></tr><tr><td>31-01-2020  05:09</td><td>bellatheyy</td><td>List()</td><td>List()</td><td>gidul ong sa terminal kay para safe sa ncov. chour 😂 https://t.co/JKpNYobIqT</td><td>positive</td></tr><tr><td>31-01-2020  05:09</td><td>rafaelcruise_</td><td>List()</td><td>List()</td><td>ay hindi ko rin alam. bakit hindi natin gawing presidente si Leni para malaman natin? https://t.co/hyK0Z1EhTM</td><td>neutral</td></tr><tr><td>31-01-2020  05:09</td><td>mikiwasuk</td><td>List()</td><td>List(ayrton1697)</td><td>RT @ayrton1697: Prendan fuego el hospital estamos a tiempo</td><td>neutral</td></tr><tr><td>31-01-2020  05:09</td><td>blvckrawr</td><td>List()</td><td>List()</td><td>RT @ayahpermandian: *Virus Corona menyebar*\n",
              "\n",
              "Warga Dunia: \"Kita harus memakai masker sebagai langkah pengamanan\" *memakai masker\n",
              "\n",
              "Warga RRC…</td><td>neutral</td></tr><tr><td>31-01-2020  05:09</td><td>rlvilla_</td><td>List()</td><td>List(frrecklles)</td><td>RT @frrecklles: I feel like the only person on earth who is not stressed about the coronavirus at all??? Like I literally could not care le…</td><td>neutral</td></tr><tr><td>31-01-2020  05:09</td><td>ShereeSwears</td><td>List()</td><td>List(davidpaulk)</td><td>RT @davidpaulk: Found on WeChat, where humor in the face of a deadly epidemic has not been extinguished: https://t.co/cvHFkUQY6L</td><td>negative</td></tr><tr><td>31-01-2020  05:09</td><td>ChuckRhoades4</td><td>List()</td><td>List(fmogopodi16)</td><td>RT @fmogopodi16: Kana if Corona is sexually transmitted waii a re lebaleng ka chaba ya Botswana ..</td><td>positive</td></tr><tr><td>31-01-2020  05:09</td><td>charriceasantos</td><td>List()</td><td>List(Magnethic_flux)</td><td>RT @Magnethic_flux: what's the best precautionary measure that the PH govt has employed to protect the filipino people from the coronavirus…</td><td>positive</td></tr><tr><td>31-01-2020  05:09</td><td>kukluxcats</td><td>List()</td><td>List(detikcom)</td><td>RT @detikcom: \"Jangan bepergian ke China karena novel coronavirus yang pertama teridentifikasi di Wuhan, China,\" demikian bunyi larangan pe…</td><td>neutral</td></tr><tr><td>31-01-2020  05:09</td><td>_kaimessenger11</td><td>List()</td><td>List(SkyNewsBreak)</td><td>RT @SkyNewsBreak: The World Health Organisation has declared the coronavirus outbreak is a global public health emergency of international…</td><td>neutral</td></tr><tr><td>31-01-2020  05:09</td><td>translatorbali</td><td>List(nCov)</td><td>List(MFA_China, FP_Champagne, FP_Champagne)</td><td>@MFA_China @FP_Champagne Canadian FM François Champagne @FP_Champagne in phone call with FM Wang Yi expressed confidence in China's capability to win the fight against #nCov epidemic, saying Canada ready to help. FM Wang hopes Canada will follow WHO advice and not put any travel or trade restriction. https://t.co/hP9hVhOeKr</td><td>positive</td></tr><tr><td>31-01-2020  05:09</td><td>minavesguerra</td><td>List()</td><td>List(ek_phwriter)</td><td>RT @ek_phwriter: https://t.co/RSXW4QI5JY  We have one ALREADY, the Research Institute for Tropical Medicine RITM. Give them a much higher b…</td><td>positive</td></tr><tr><td>31-01-2020  05:09</td><td>nqhsnaa</td><td>List()</td><td>List(HermyRahim)</td><td>RT @HermyRahim: Bendera ni kebanggaan negara mereka. Negara masing masing. Bila bendera kita dipermainkan tahu pulak marah, bila china dema…</td><td>neutral</td></tr><tr><td>31-01-2020  05:09</td><td>FearlessFaqihah</td><td>List(ICYMI, AWANInews, fajarAWANI)</td><td>List(501Awani)</td><td>RT @501Awani: WHO isytihar koronavirus kecemasan kesihatan global\n",
              "https://t.co/i00oTD8iJq\n",
              "#ICYMI #AWANInews #fajarAWANI https://t.co/ix6xK2…</td><td>neutral</td></tr><tr><td>31-01-2020  05:09</td><td>nratiqahazlin</td><td>List()</td><td>List(501Awani)</td><td>RT @501Awani: Penularan koronavirus, nCoV telah diisytiharkan sebagai situasi kecemasan antarabangsa. Pengisytiharan itu dibuat Pertubuhan…</td><td>neutral</td></tr><tr><td>31-01-2020  05:09</td><td>benjatognolo</td><td>List()</td><td>List()</td><td>Como que hay un posible caso de coronavirus en Argentina cuando vea tosiendo a alguien voy a estar asi https://t.co/fwFjqdg98K</td><td>neutral</td></tr><tr><td>31-01-2020  05:09</td><td>triciacredo_</td><td>List()</td><td>List(KasamangChad)</td><td>RT @KasamangChad: HA BAKIT MAY PA QUIZ BEE??</td><td>neutral</td></tr><tr><td>31-01-2020  05:09</td><td>dingobabyboy</td><td>List()</td><td>List(BullfrogJim, StateBanjo, PoliticEpic, rightingpodcast, GOADS_, j1mwinter, nbcsnl)</td><td>@BullfrogJim @StateBanjo @mcflordensen @PoliticEpic @rightingpodcast @GOADS_ @j1mwinter @nbcsnl 1. There is a world of difference between saying ‘certain Jews do x’ and ‘the Jews do x’. One can be factually true, the other is a generalization of a hugely diverse group of people; bigoted by definition.\n",
              "\n",
              "2. Jews dominate communism in China? Please. 🤦‍♂️\n",
              "\n",
              "3. The vast majority of</td><td>positive</td></tr><tr><td>31-01-2020  05:09</td><td>kimyifen</td><td>List()</td><td>List(kathbarbadoro)</td><td>RT @kathbarbadoro: Coronavirus is scary enough to make Americans racist about Chinese people but not scary enough to make Americans start w…</td><td>negative</td></tr><tr><td>31-01-2020  05:09</td><td>PigeonRuby7</td><td>List()</td><td>List(keipierremulot)</td><td>RT @keipierremulot: マスクでもなんでも売れて消費が伸びたことになればいい、その程度の頭でしょうね。 https://t.co/z6Ke5CeKjA</td><td>neutral</td></tr><tr><td>31-01-2020  05:09</td><td>riaaan_x</td><td>List(coronavirus, CoronavirusOutbreak)</td><td>List(choculate)</td><td>RT @choculate: Really appreciated the humanity act! \n",
              " \n",
              "#coronavirus #CoronavirusOutbreak https://t.co/C5rZTlPj2y</td><td>positive</td></tr><tr><td>31-01-2020  05:09</td><td>Eliza41344082</td><td>List()</td><td>List(EpochTimes)</td><td>RT @EpochTimes: “Imagine being a Wuhan citizen…they can't get any medical treatments…they can only sit and wait to die.” Follow 👉@EpochTime…</td><td>neutral</td></tr><tr><td>31-01-2020  05:09</td><td>nigseu</td><td>List()</td><td>List(lovelyfulgar)</td><td>RT @lovelyfulgar: Oo, may right akong magalit &amp; maging “OA” sa coronavirus na yan dahil umpisa palang hindi na maganda yung desisyon ni dut…</td><td>positive</td></tr><tr><td>31-01-2020  05:09</td><td>Ja_Cardenas04</td><td>List()</td><td>List(amablitz)</td><td>RT @amablitz: Tengo miedo que llegue alguien, me estornude en la cara y me diga “Bienvenida al mundo del Coronavirus”</td><td>neutral</td></tr><tr><td>31-01-2020  05:09</td><td>FrEe_ThOuGhTs_1</td><td>List(Coronavirus, Cina, Africa)</td><td>List(SuperFiammetta)</td><td>RT @SuperFiammetta: #Coronavirus.La #Cina ha colonizzato l'#Africa:fermate gli sbarchi,non è possibile che l'interesse personale (o l'ideol…</td><td>neutral</td></tr><tr><td>31-01-2020  05:09</td><td>_mrtsclc</td><td>List()</td><td>List(giasison, psmidorg)</td><td>RT @giasison: Sharing again the right way to wear a mask. A joint effort initiative of @psmidorg and the Philippine Hospital Infection Cont…</td><td>positive</td></tr><tr><td>31-01-2020  05:09</td><td>GREATERREST</td><td>List()</td><td>List(luknoklukka)</td><td>RT @luknoklukka: สรุปควรซื้อดีไหมที่กรองจมูก? https://t.co/bGlZJ4gaJW</td><td>neutral</td></tr><tr><td>31-01-2020  05:09</td><td>srciemnosc</td><td>List()</td><td>List(Nistagmus_)</td><td>@Nistagmus_ Puro coronavirus! ya fué!</td><td>neutral</td></tr><tr><td>31-01-2020  05:09</td><td>chyIerIeiqhs</td><td>List()</td><td>List(ChuBailiang)</td><td>RT @ChuBailiang: China's national coronavirus crisis, forcing so many people indoors for days on end, is already inspiring a rich outpourin…</td><td>positive</td></tr><tr><td>31-01-2020  05:09</td><td>goldenline9497</td><td>List()</td><td>List()</td><td>very well said 👏 https://t.co/P4KgCqvgnZ</td><td>positive</td></tr><tr><td>31-01-2020  05:09</td><td>btripathybjp</td><td>List()</td><td>List()</td><td>Won't oppose China publicly for oppressing Muslims, because China helps us :-Imran Khan !\n",
              "\n",
              "This man is good for nothing because he can sell his own people where he sees interests  !</td><td>positive</td></tr><tr><td>31-01-2020  05:09</td><td>dandelionstudio</td><td>List(confuciustemple, nanjing, china, travel)</td><td>List()</td><td>Confucius Temple area, Nanjing, China. #confuciustemple #nanjing #china #travel https://t.co/Quug3busO1</td><td>neutral</td></tr><tr><td>31-01-2020  05:09</td><td>Neinnara</td><td>List()</td><td>List(noppatjak)</td><td>RT @noppatjak: ราคามาตรฐานของหน้ากากอนามัย (แบบปกติ ไม่ใช่ N95) คือชิ้นละ 2 บาท</td><td>neutral</td></tr><tr><td>31-01-2020  05:09</td><td>mamaschwen</td><td>List()</td><td>List(SecPrensaSV)</td><td>RT @SecPrensaSV: El viceministro de Operaciones del @minsalud, @FranAlabi, informa desde el hospital Saldaña que hasta el momento el país n…</td><td>neutral</td></tr><tr><td>31-01-2020  05:09</td><td>AntoStanBts</td><td>List(China)</td><td>List(Finanzas_Time)</td><td>RT @Finanzas_Time: #China 🇨🇳\n",
              "\n",
              "Los monos 🙈🙉🐵 del Monte Emei acostumbrados a ser alimentados por miles de turistas a diario se encuentran aba…</td><td>neutral</td></tr><tr><td>31-01-2020  05:09</td><td>mylifesuckco</td><td>List()</td><td>List(501Awani)</td><td>RT @501Awani: Seramai 14 pengunjung dari wilayah Hubei, China yang cuba mendarat di Lapangan Terbang Antarabangsa Kuala Lumpur (KLIA) Tidak…</td><td>neutral</td></tr><tr><td>31-01-2020  05:09</td><td>GhoshPratyushna</td><td>List()</td><td>List(WordOfTheGod)</td><td>RT @WordOfTheGod: What Corona Virus did to Wuhan City\n",
              "\n",
              "Arnab &amp; Sudhir is doing it to Indian Journalsim\n",
              "\n",
              "You decide which virus is more dead…</td><td>positive</td></tr><tr><td>31-01-2020  05:09</td><td>manggarxz</td><td>List()</td><td>List(MOHDHAZIMMOKHTA)</td><td>RT @MOHDHAZIMMOKHTA: Tp tidak kat Malaysia. Menteri2 Malaysia esp pm nya kebal dr wabak ini. Biar rakyat mati asalkan tauke2 hotel, sy pela…</td><td>neutral</td></tr><tr><td>31-01-2020  05:09</td><td>En24_News</td><td>List()</td><td>List()</td><td>First two cases of coronavirus in Italy https://t.co/DR6QI8nHN8 https://t.co/TxIblnCO2C</td><td>positive</td></tr><tr><td>31-01-2020  05:09</td><td>iztyl90</td><td>List()</td><td>List(NerdKid_94)</td><td>RT @NerdKid_94: I have sacrificed 1 hour and 15 minutes to listen to the whole meeting and this thread is my summary of the conference.\n",
              "\n",
              "*T…</td><td>positive</td></tr><tr><td>31-01-2020  05:09</td><td>CeleryCaraway</td><td>List()</td><td>List(tedlieu)</td><td>RT @tedlieu: Why does Jared Kushner still have a security clearance?</td><td>neutral</td></tr><tr><td>31-01-2020  05:09</td><td>Rajesh75883184</td><td>List()</td><td>List(Miraa713)</td><td>RT @Miraa713: 😥😫😫😪😪\n",
              "Heartbreaking💔💔</td><td>neutral</td></tr><tr><td>31-01-2020  05:09</td><td>JoeWahome</td><td>List()</td><td>List(helloalegria)</td><td>RT @helloalegria: coronavirus has been racialised as a \"chinese\" illness and for this reason chinese people, regardless of their proximity…</td><td>neutral</td></tr><tr><td>31-01-2020  05:09</td><td>MishakhanK</td><td>List(CoronavirusOutbreak)</td><td>List(jvtnjc)</td><td>RT @jvtnjc: ⚠️⚠️⚠️ Doctor’sadvise about Coronavirus #CoronavirusOutbreak https://t.co/AIKRRhutKC</td><td>neutral</td></tr><tr><td>31-01-2020  05:09</td><td>strom77</td><td>List()</td><td>List(soytaniagomez)</td><td>RT @soytaniagomez: Marcelo Ebrard dice que no se justificaría ir a Wuhan, China, por 4 estudiantes mexicanos, porque \"son aviones muy grand…</td><td>neutral</td></tr><tr><td>31-01-2020  05:09</td><td>indomilkmelon</td><td>List(Coronavirus)</td><td>List(UN, WHO)</td><td>RT @UN: NEWS: #Coronavirus declared a public health emergency of international concern by @WHO. \n",
              "\n",
              "Global outbreak includes 98 cases in 18 c…</td><td>neutral</td></tr><tr><td>31-01-2020  05:09</td><td>agrotechniccal</td><td>List()</td><td>List()</td><td>Ya está muy trillado... pero ni así se sensibilizan...  y porqué llevaron y trajeron a Evo Morales SOLITO en avión? https://t.co/ehskPikofR</td><td>neutral</td></tr><tr><td>31-01-2020  05:09</td><td>goswamivijay986</td><td>List(BodoAccord)</td><td>List(madhukishwar)</td><td>RT @madhukishwar: Why is no TV channel discussing historic #BodoAccord &amp;letting the nation get to know two young heroes who made it possibl…</td><td>positive</td></tr><tr><td>31-01-2020  05:09</td><td>alwaysyibo</td><td>List(MoDaoZuShi, Untamed, LanWangji)</td><td>List(wenwen11113)</td><td>RT @wenwen11113: #MoDaoZuShi #Untamed #LanWangji \n",
              "\n",
              "So China is building temp hospitals and CCTV online has a live streaming channel of this…</td><td>positive</td></tr><tr><td>31-01-2020  05:09</td><td>VIKBataille</td><td>List()</td><td>List(YouTube)</td><td>213 dead, 9,692 cases of coronavirus confirmed in China https://t.co/RcZxuIX4JQ via @YouTube</td><td>positive</td></tr><tr><td>31-01-2020  05:09</td><td>_SKTZ_</td><td>List()</td><td>List(INTERRO)</td><td>RT @INTERRO: Heads-up to anyone flying to the Six Invitational over the next few weeks: if other NA airports are in the same state of affai…</td><td>negative</td></tr><tr><td>31-01-2020  05:09</td><td>jebeess34</td><td>List()</td><td>List(DianaPickard4, hiddeninmo1, jebeess34)</td><td>RT @DianaPickard4: @hiddeninmo1 @jebeess34 I also posted a story from Canada that China stole vials from Canada.  Also the Gates talked abo…</td><td>neutral</td></tr><tr><td>31-01-2020  05:09</td><td>MaihenH</td><td>List(Wuhan, Coronavirus, Wuhan)</td><td>List()</td><td>ATENCION | Un ciudadano de #Wuhan habla sobre el #Coronavirus, y dice que los síntomas del virus no coinciden con lo que dicen las autoridades. \"Imagina que eres de #Wuhan... no puedes recibir tratamiento médico, ni siquiera un diagnóstico. Solo sentarse y esperar a morir\". https://t.co/jqrqlvDmi1</td><td>neutral</td></tr><tr><td>31-01-2020  05:09</td><td>YelichSwift</td><td>List()</td><td>List(Archerpjmn)</td><td>RT @Archerpjmn: STOP👏USING👏CORONAVIRUS👏 TO👏DRAG👏KOREAN👏ARTISTS\n",
              "\n",
              "STOP👏USING👏CORONAVIRUS👏 TO👏DRAG👏KOREAN👏ARTISTS\n",
              "\n",
              "STOP👏USING👏CORONAVIRUS👏 TO👏…</td><td>neutral</td></tr><tr><td>31-01-2020  05:09</td><td>live_love_XD</td><td>List()</td><td>List(InigoAbellar)</td><td>RT @InigoAbellar: The first case of Corona Virus is in San Lazaro Hospital, in the capital city of Manila, and approximately 9 mins away fr…</td><td>negative</td></tr><tr><td>31-01-2020  05:09</td><td>_altheamg</td><td>List()</td><td>List(annanaong)</td><td>RT @annanaong: “try to avoid people...”\n",
              "\n",
              "introvert — “this is what i’ve been training for”</td><td>neutral</td></tr><tr><td>31-01-2020  05:09</td><td>blacksheep0310</td><td>List()</td><td>List(ogie_rosa)</td><td>RT @ogie_rosa: Ulit-ulit nyong dinedepensahan ang Tsina sa pagnanakaw ng isla/taklobo, pagpasok ng illegal workers, di pagbayad ng buwis ng…</td><td>negative</td></tr><tr><td>31-01-2020  05:09</td><td>Natalia01Mateo</td><td>List()</td><td>List()</td><td>Is anyone waking up yet? This is Liberal Utopia. Enjoy. https://t.co/Vxq8NoRdSH</td><td>positive</td></tr><tr><td>31-01-2020  05:09</td><td>Sciaccaaa</td><td>List()</td><td>List(guisodemondongo)</td><td>RT @guisodemondongo: Ustedes son muy chicos y no se acuerdan, pero en 2003 todos íbamos a morir con el SARS, después en 2006 con la gripe a…</td><td>neutral</td></tr><tr><td>31-01-2020  05:09</td><td>Manuel17281370</td><td>List()</td><td>List(dbongino)</td><td>RT @dbongino: This is a real tweet. I’m not kidding. The intellectual lightweights at CNN really thought this unbelievably stupid tweet was…</td><td>negative</td></tr><tr><td>31-01-2020  05:09</td><td>p_cr99</td><td>List()</td><td>List(soytaniagomez)</td><td>RT @soytaniagomez: Marcelo Ebrard dice que no se justificaría ir a Wuhan, China, por 4 estudiantes mexicanos, porque \"son aviones muy grand…</td><td>neutral</td></tr><tr><td>31-01-2020  05:09</td><td>tchromyt</td><td>List()</td><td>List(KayaJones)</td><td>RT @KayaJones: I’m praying for China 🇨🇳 and everyone around the globe 🌎 this should be taken seriously. https://t.co/GpvofQVKoT</td><td>negative</td></tr><tr><td>31-01-2020  05:09</td><td>_peraltapat</td><td>List()</td><td>List(ronaldgem)</td><td>RT @ronaldgem: *Taal Volcano erupts*\n",
              "\n",
              "Congress: *blames PHIVOLCS*\n",
              "\n",
              "*Coronavirus outbreak*\n",
              "\n",
              "Congress: 😌\n",
              "\n",
              "*Kobe Bryant dies*\n",
              "\n",
              "Speaker of the…</td><td>neutral</td></tr><tr><td>31-01-2020  05:09</td><td>MightyMonita</td><td>List()</td><td>List(LILIPRATICUS)</td><td>@LILIPRATICUS Maraming binentang face mask ang government sa china. Parang feeling ko big factor din un kaya mas madaling maubos mga masks ngayun😔</td><td>neutral</td></tr><tr><td>31-01-2020  05:09</td><td>belizanrs</td><td>List()</td><td>List()</td><td>si la china de pergamino tiene coronavirus tan al horno en la zona loco asi k me tendré ke quedar en claro jaja</td><td>neutral</td></tr><tr><td>31-01-2020  05:09</td><td>seemoonaek</td><td>List()</td><td>List(zornitsaxx)</td><td>RT @zornitsaxx: WHO ประกาศให้ coronavirus เป็นภาวะฉุกเฉินทั่วโลก โดยเหตุผลหลักสำหรับการประกาศนี้ไม่ใช่เพราะเป็นเรื่องที่เกิดขึ้นในประเทศจีน…</td><td>neutral</td></tr><tr><td>31-01-2020  05:09</td><td>hcdjeong</td><td>List()</td><td>List(TheLaurenChen)</td><td>RT @TheLaurenChen: Nice try CNN, but most people don't value diversity over the possibility of LITERAL DEATH??!? https://t.co/1eMVs8ymWX</td><td>positive</td></tr><tr><td>31-01-2020  05:09</td><td>Bundanya_hwi</td><td>List()</td><td>List()</td><td>Please cancel 😭😭😭😭 https://t.co/ojMbcBoNSj</td><td>neutral</td></tr><tr><td>31-01-2020  05:09</td><td>shlnddd</td><td>List()</td><td>List()</td><td>31 palang guys e??? don't panic jsq 31 palang yan safe tayo https://t.co/4HIs4kuroH</td><td>positive</td></tr><tr><td>31-01-2020  05:09</td><td>MentalKnife</td><td>List()</td><td>List(manyapan)</td><td>RT @manyapan: Medical staff at the dedicated isolation ward of Wuhan's People's Hospital wish everyone a Happy New Year, saying: \"We're her…</td><td>positive</td></tr><tr><td>31-01-2020  05:09</td><td>khyunkie</td><td>List()</td><td>List(chadfelixg)</td><td>RT @chadfelixg: Are you shaming him for donating *millions* to fighting a new disease?\n",
              "\n",
              "Really?</td><td>positive</td></tr><tr><td>31-01-2020  05:09</td><td>w_lemn</td><td>List()</td><td>List(DogsareLoyal1s)</td><td>RT @DogsareLoyal1s: Japanese Bus Driver WHO HAS NOT BEEN TO CHINA Comes Down with Virus\n",
              "This was the first person in Japan diagnosed with t…</td><td>positive</td></tr><tr><td>31-01-2020  05:09</td><td>eybramkarlotan</td><td>List()</td><td>List(GoyYLarrazabal)</td><td>RT @GoyYLarrazabal: HOW?  Nobody knows her name.  \n",
              "Nohody kmows how she looks.\n",
              "Nobody knows what airlines she took.\n",
              "Nobody knows where she…</td><td>neutral</td></tr><tr><td>31-01-2020  05:09</td><td>CodyOHannah</td><td>List()</td><td>List()</td><td>State Dept. issues highest advisory: 'Do not travel to China' amid coronavirus outbreak https://t.co/X1AAdmebp9 https://t.co/4ePjiFZC2J</td><td>neutral</td></tr><tr><td>31-01-2020  05:09</td><td>fuck_pldt</td><td>List()</td><td>List(theklmanuel)</td><td>RT @theklmanuel: Filipinos: Coronavirus!!!\n",
              "\n",
              "Admin: hmm drugs?\n",
              "\n",
              "Filipinos: Taal!!!\n",
              "\n",
              "Admin: why u cancelled Bato’s visa?\n",
              "\n",
              "Filipinos: People a…</td><td>neutral</td></tr><tr><td>31-01-2020  05:09</td><td>IvoO_04</td><td>List()</td><td>List(LittleViejo)</td><td>@LittleViejo Nooo!!! Estaba pendiente del supuesto caso sospechoso del coronavirus ✌😥 descartado... hace unos minutos</td><td>neutral</td></tr><tr><td>31-01-2020  05:09</td><td>Akosimelbin</td><td>List()</td><td>List(BobOngHugots)</td><td>RT @BobOngHugots: 📌CORONAVIRUS\n",
              "\n",
              "DEATHS\n",
              "\n",
              "🇨🇳 China 170\n",
              "\n",
              "CONFIRMED CASES\n",
              "\n",
              "🇨🇳China 7,711\n",
              "🇺🇸US 5\n",
              "🇦🇺Australia 7\n",
              "🇫🇷France 4\n",
              "🇩🇪Germany 4\n",
              "🇳🇵Nepal 1…</td><td>positive</td></tr><tr><td>31-01-2020  05:09</td><td>maryredd</td><td>List(coronavirus)</td><td>List(CGTNOfficial)</td><td>RT @CGTNOfficial: Expert: Prevention of new #coronavirus harder than SARS https://t.co/jvYx8t2NDP</td><td>positive</td></tr><tr><td>31-01-2020  05:09</td><td>DaneCloud2</td><td>List()</td><td>List(KellyannePolls)</td><td>RT @KellyannePolls: Great news for the USA:\n",
              "\n",
              "Overdose deaths are down\n",
              "Life expectancy is up</td><td>positive</td></tr><tr><td>31-01-2020  05:09</td><td>iscoiii</td><td>List()</td><td>List()</td><td>\"10 days\" we are fucked. https://t.co/jq7TP7xbor</td><td>negative</td></tr><tr><td>31-01-2020  05:09</td><td>fahauai</td><td>List()</td><td>List(chucasica)</td><td>RT @chucasica: รัฐบาลไม่ยอมเบรคนักท่องเที่ยวจีนเพราะกลัวขาดรายได้ สรุปตอนนี้ไทยถูกวิเคราะห์ว่าเป็นสถานที่เสี่ยงไวรัสโคโรน่าอันดับ 1 คราวนี้…</td><td>neutral</td></tr><tr><td>31-01-2020  05:09</td><td>fuchsiagirl</td><td>List()</td><td>List(InigoAbellar)</td><td>RT @InigoAbellar: The first case of Corona Virus is in San Lazaro Hospital, in the capital city of Manila, and approximately 9 mins away fr…</td><td>negative</td></tr><tr><td>31-01-2020  05:09</td><td>choerrycoloured</td><td>List()</td><td>List(Chronotope)</td><td>RT @Chronotope: Anytime a rich person donates money, this is how you should report it. https://t.co/HSXzXB4lKG</td><td>positive</td></tr><tr><td>31-01-2020  05:09</td><td>ManuelPSev</td><td>List()</td><td>List()</td><td>Are you stupid or something? He just collapsed from for all we know any ailment. Since he’s Chinese and wearing a mask, you assume it’s coronavirus immediately? Then tweet that they’ll die?\n",
              "\n",
              "Stop spreading speculation and fake news. If you can’t help, just shut it! https://t.co/UANxL8zTZB</td><td>negative</td></tr><tr><td>31-01-2020  05:09</td><td>AjayMis01542075</td><td>List()</td><td>List(spectatorindex)</td><td>RT @spectatorindex: BREAKING: Italy halts flights to and from China</td><td>neutral</td></tr><tr><td>31-01-2020  05:09</td><td>charlesblaize2</td><td>List()</td><td>List(helloalegria)</td><td>RT @helloalegria: coronavirus has been racialised as a \"chinese\" illness and for this reason chinese people, regardless of their proximity…</td><td>neutral</td></tr><tr><td>31-01-2020  05:09</td><td>blabladeces</td><td>List(coronavirus)</td><td>List(BojorquezMarce)</td><td>RT @BojorquezMarce: La OMS declara la alerta internacional ante la imparable expansión del #coronavirus. \n",
              "Por otro lado, las personas dedic…</td><td>neutral</td></tr><tr><td>31-01-2020  05:09</td><td>namusikarn</td><td>List(BREAKING)</td><td>List(AFP)</td><td>RT @AFP: #BREAKING Italy suspends all China flights after coronavirus cases confirmed, PM says https://t.co/I9JPPNAuBJ</td><td>positive</td></tr><tr><td>31-01-2020  05:09</td><td>vhynzed_soid</td><td>List()</td><td>List(KasamangChad)</td><td>RT @KasamangChad: HA BAKIT MAY PA QUIZ BEE??</td><td>neutral</td></tr><tr><td>31-01-2020  05:09</td><td>factorsuperk</td><td>List()</td><td>List(spectatorindex)</td><td>RT @spectatorindex: BREAKING: Over 15,000 cases of  suspected coronavirus in China</td><td>neutral</td></tr><tr><td>31-01-2020  05:09</td><td>drlindapearson</td><td>List()</td><td>List(FMRMOUNTIE)</td><td>RT @FMRMOUNTIE: I’m not a fan of Rebel antics but I do appreciate Ezra LEVANT’s position in this circumstance. The fact that an author is b…</td><td>neutral</td></tr><tr><td>31-01-2020  05:09</td><td>BuenosDiasOM</td><td>List()</td><td>List(JPColmenarejo, eruizescudero, ComunidadMadrid, JPColmenarejo, ondamadrid)</td><td>Los españoles de Wuhan llegan a Madrid\n",
              "\n",
              "A las 8:35 @JPColmenarejo entrevista a @eruizescudero consejero de Sanidad de la @ComunidadMadrid\n",
              "\n",
              "Escucha a @JPColmenarejo en directo en @ondamadrid \n",
              "📻  101.3-106 FM\n",
              "https://t.co/ycbjnFWtny https://t.co/TertEivkMb</td><td>neutral</td></tr><tr><td>31-01-2020  05:09</td><td>Rancher2112</td><td>List()</td><td>List(FarmerNC)</td><td>RT @FarmerNC: Must do it over the weekend to protect markets. One of these weekends could be something else unexpected. Its time. https://t…</td><td>positive</td></tr><tr><td>31-01-2020  05:09</td><td>trstnaleksandar</td><td>List()</td><td>List(lovelyfulgar)</td><td>RT @lovelyfulgar: Oo, may right akong magalit &amp; maging “OA” sa coronavirus na yan dahil umpisa palang hindi na maganda yung desisyon ni dut…</td><td>positive</td></tr><tr><td>31-01-2020  05:09</td><td>kentj_shua</td><td>List()</td><td>List(cheesecakeula)</td><td>RT @cheesecakeula: fucking idiot. our expectations are low pERO YOU NEVER FAIL TO DISAPPOINT EACH AND EVERY ONE OF US WITH EVERY DECISIONS…</td><td>negative</td></tr><tr><td>31-01-2020  05:09</td><td>Marybeezzz</td><td>List()</td><td>List(DuterteWatchdog)</td><td>RT @DuterteWatchdog: Because the President is so much under pressure, he is just landing in Davao (Thursday, 9:30pm) in these minutes to sl…</td><td>positive</td></tr><tr><td>31-01-2020  05:09</td><td>fanyrdz2323</td><td>List()</td><td>List(EduardoOlmosC)</td><td>RT @EduardoOlmosC: La OMS declara “emergencia de salud pública internacional” por brote de coronavirus  https://t.co/Rr6sLkBAmP</td><td>neutral</td></tr><tr><td>31-01-2020  05:09</td><td>Mtojing</td><td>List()</td><td>List(RTultimahora)</td><td>RT @RTultimahora: La OMS declara que el coronavirus constituye una emergencia de salud pública de preocupación internacional https://t.co/w…</td><td>neutral</td></tr><tr><td>31-01-2020  05:09</td><td>soleil_cruz</td><td>List()</td><td>List(amfmrtnz)</td><td>RT @amfmrtnz: Lokohan ba to? Hubei province, specially Wuhan City, is already on lockdown. No travelers will ever come out of that area bec…</td><td>positive</td></tr><tr><td>31-01-2020  05:09</td><td>Asil_Networks</td><td>List(coronavirus)</td><td>List(ActualidadRT)</td><td>RT @ActualidadRT: Precisan el período de incubación del #coronavirus\n",
              "https://t.co/exxqNAtUaK</td><td>neutral</td></tr><tr><td>31-01-2020  05:09</td><td>RealAlisonPoole</td><td>List()</td><td>List()</td><td>Australian government  update on spread of coronavirus \n",
              "Coronavirus update at a glance https://t.co/xVZ5tHuOiz</td><td>neutral</td></tr><tr><td>31-01-2020  05:09</td><td>atielm0</td><td>List()</td><td>List(DrAmalinaBakri)</td><td>RT @DrAmalinaBakri: Worth a read if you’re interested.</td><td>positive</td></tr><tr><td>31-01-2020  05:09</td><td>perrogrosero</td><td>List()</td><td>List(gonecatt)</td><td>@gonecatt Coronavirus</td><td>neutral</td></tr><tr><td>31-01-2020  05:09</td><td>victorgomezgzz_</td><td>List()</td><td>List(barbiesolist)</td><td>@barbiesolist Es que el coronavirus me puso bien ocioso</td><td>neutral</td></tr><tr><td>31-01-2020  05:09</td><td>seleneaylward</td><td>List()</td><td>List(PutaDeManila)</td><td>RT @PutaDeManila: Imagine how near the patient diagnosed with nCov in San Lazaro Hospital to the millions of students, employees, and the r…</td><td>positive</td></tr><tr><td>31-01-2020  05:09</td><td>BulimeWilliam</td><td>List()</td><td>List(jaliluzaid)</td><td>RT @jaliluzaid: Kama China wametumia masaa 48 kujenga hii Hospitali ukiwaita kujenga nyumba si unapiga Trip Posta - Makumbusho unakuta wame…</td><td>neutral</td></tr><tr><td>31-01-2020  05:09</td><td>naufalsincere</td><td>List()</td><td>List(RahulGandhi)</td><td>RT @RahulGandhi: In China, the Coronavirus has killed hundreds of people. My thoughts are with the families of the victims &amp; the millions w…</td><td>negative</td></tr><tr><td>31-01-2020  05:09</td><td>AIR_CAV</td><td>List()</td><td>List(MisterAntiBully)</td><td>RT @MisterAntiBully: This guy is trying to report from Wuhan with the government hunting him as WHO kisses Xi's ass.  Unreal. https://t.co/…</td><td>neutral</td></tr><tr><td>31-01-2020  05:09</td><td>TradingMzansi</td><td>List()</td><td>List(NickKunze2)</td><td>RT @NickKunze2: Good morning from Joburg where Asian markets are mostly in the green as investors digested Chinese official manufacturing d…</td><td>positive</td></tr><tr><td>31-01-2020  05:09</td><td>HugaWendy</td><td>List(China)</td><td>List(SecPompeo, StateDept)</td><td>RT @SecPompeo: .@StateDept is increasing the #China Travel Advisory to Level 4 – Do Not Travel. This is due to the spread of the novel #cor…</td><td>negative</td></tr><tr><td>31-01-2020  05:09</td><td>paulinekateee</td><td>List()</td><td>List(OutsiderLooksIn)</td><td>RT @OutsiderLooksIn: Good morning. I’ll be live tweeting the lecture I am attending this morning about 2019-NCoV. \n",
              "\n",
              "Please be guided.</td><td>positive</td></tr><tr><td>31-01-2020  05:09</td><td>brianhill78</td><td>List()</td><td>List()</td><td>Zombie corona\n",
              "\n",
              "Is de Corona outbreak het begin van de  Zombie Apocalypse? 🤪 https://t.co/bz5iwdt6qA</td><td>neutral</td></tr><tr><td>31-01-2020  05:09</td><td>AmitPhartiyal93</td><td>List()</td><td>List(jordwalke)</td><td>RT @jordwalke: Give developers fast laptops. But give app developers old/slow phones. “What do you mean it’s slow? It’s butter smooth on my…</td><td>negative</td></tr><tr><td>31-01-2020  05:09</td><td>AlmightyRamsey</td><td>List(jakevsgib)</td><td>List()</td><td>Okay first of all wtf did i even watch? Jake comes out with a gas mask as if he's infected with the corona virus or something. Second, gib mate why you ducking that much?? You couldn't even balance yourself. This was just a cringe fest. Excited for Ksi vs Jake now #jakevsgib</td><td>positive</td></tr><tr><td>31-01-2020  05:09</td><td>DoctorBenjy</td><td>List()</td><td>List()</td><td>This tweet is the real winner of this 'fight'. Thank goodness I normally stay up until around this time. Goodnight x https://t.co/QwDHkyw0GC</td><td>positive</td></tr><tr><td>31-01-2020  05:09</td><td>anjeong</td><td>List()</td><td>List(2019_nCoV_ko)</td><td>RT @2019_nCoV_ko: 미국 국무부가 중국 본토 전역에 대해 여행경보 4단계 DO NOT TRAVEL (여행하지 마시오)를 발령했습니다. https://t.co/iQPUvUkX31</td><td>neutral</td></tr><tr><td>31-01-2020  05:09</td><td>dada1599</td><td>List()</td><td>List(nobluk)</td><td>RT @nobluk: ตัวนี้เค้าบอกกรองฝุ่นและเชื้อโรคที่ลอยในอากาศได้ถึง 99% ความละเอียดแผ่นกรอง 0.1 ไมครอน (ดีกว่าN95) กล่องนึงมี 3 ชิ้น นุ่นซื้อมา…</td><td>neutral</td></tr><tr><td>31-01-2020  05:09</td><td>ohmySnafu</td><td>List()</td><td>List(KING5Seattle)</td><td>RT @KING5Seattle: Can you open packages shipped from Wuhan, China, during the coronavirus outbreak? https://t.co/0nyIV97NuT</td><td>neutral</td></tr><tr><td>31-01-2020  05:09</td><td>EnochYawehTruth</td><td>List()</td><td>List(MarkDice)</td><td>RT @MarkDice: Too many white people are trying to find a cure for Coronavirus! 😂</td><td>positive</td></tr><tr><td>31-01-2020  05:09</td><td>UNICAESRADIO</td><td>List()</td><td>List(nayibbukele)</td><td>Presidente @nayibbukele afirmó que ya se ejecuta un plan de emergencia por alerta internacional de coronavirus. \n",
              "\n",
              "Descartó que no hay casos confirmados en el país.\n",
              "\n",
              "Se han tomado medidas, unos shows que venían de China al país, se han cancelado, agregó. https://t.co/gqeN1e6oNd</td><td>neutral</td></tr><tr><td>31-01-2020  05:09</td><td>da_recaido3</td><td>List()</td><td>List()</td><td>\"Don't worry, I don't spead corona virus\"</td><td>neutral</td></tr><tr><td>31-01-2020  05:09</td><td>Syarbel</td><td>List()</td><td>List(spectatorindex)</td><td>RT @spectatorindex: BREAKING: Over 3000 new suspected cases of coronavirus in China announced today</td><td>positive</td></tr><tr><td>31-01-2020  05:09</td><td>MaruchizE</td><td>List()</td><td>List()</td><td>Colombia, ¿No puedes pasar 5 segundos sin humillarte solo? https://t.co/Q6ZyE6u2XW https://t.co/qHrxiFf5XM</td><td>neutral</td></tr><tr><td>31-01-2020  05:09</td><td>gutierreztine</td><td>List()</td><td>List(balloon_wanted)</td><td>RT @balloon_wanted: YG Entertainment shares that BLACKPINK's Lisa will not be traveling to China for filming of Idol Producer\n",
              "\n",
              "In addition,…</td><td>neutral</td></tr><tr><td>31-01-2020  05:09</td><td>SouthsideFoo</td><td>List()</td><td>List(catcontentonly)</td><td>RT @catcontentonly: Your racist jokes about dying of coronavirus are all so tired. The flu killed 80,000 ppl in the US in 2018 alone, but I…</td><td>negative</td></tr><tr><td>31-01-2020  05:09</td><td>nsangqx</td><td>List()</td><td>List(blessxiaojun)</td><td>RT @blessxiaojun: the shanghai theatre academy coat. one of china’s most prestigious schools, only the best of the best get in. xiaojun’s m…</td><td>positive</td></tr><tr><td>31-01-2020  05:09</td><td>elma0901</td><td>List()</td><td>List(SenMarkey, StateDept)</td><td>RT @SenMarkey: That’s why I called on @StateDept last week to push for Taiwan’s inclusion in the World Health Organization. China’s abuse o…</td><td>neutral</td></tr><tr><td>31-01-2020  05:09</td><td>hongkongmacauer</td><td>List()</td><td>List(welt)</td><td>RT @welt: 38 Tote binnen einer Nacht in China https://t.co/gBAOvOocy0 https://t.co/tvXDdPbvSF</td><td>neutral</td></tr><tr><td>31-01-2020  05:09</td><td>NuranishaS</td><td>List()</td><td>List(JPenerangan, JapenPerlis)</td><td>RT @JPenerangan: Jabatan Penerangan Malaysia, 30 Januari 2020, Negeri Perlis\n",
              "🔶 Parlimen Kangar \n",
              "@japenperlis \n",
              "\n",
              "Fokus penyampaian maklumat p…</td><td>neutral</td></tr><tr><td>31-01-2020  05:09</td><td>hamanaeh</td><td>List()</td><td>List(joeyalarilla)</td><td>RT @joeyalarilla: Here’s the thing: China will do what’s best for China. That’s a given. Every country is supposed to do what’s best for it…</td><td>positive</td></tr><tr><td>31-01-2020  05:09</td><td>Maymumi1</td><td>List()</td><td>List(spin9)</td><td>RT @spin9: ตอนนั้น SARS ใช้เวลา 9 เดือน จึงจะยุติทุกอย่าง\n",
              "\n",
              "ตอนนี้ Wuhan ยังผ่านไปไม่ถึง 2 เดือน\n",
              "\n",
              "และมีจำนวนผู้ติดเชื้อมากกว่า SARS แล้ว\n",
              "\n",
              "เร…</td><td>neutral</td></tr><tr><td>31-01-2020  05:09</td><td>treasureomma</td><td>List()</td><td>List(balloon_wanted)</td><td>RT @balloon_wanted: YG Entertainment shares that BLACKPINK's Lisa will not be traveling to China for filming of Idol Producer\n",
              "\n",
              "In addition,…</td><td>neutral</td></tr><tr><td>31-01-2020  05:09</td><td>hamanaeh</td><td>List()</td><td>List(quiingi)</td><td>RT @quiingi: Ang pinaka-mahirap maintindihan sa gobyernong ito ay kung kelan dapat magmatigas at mag mala-diktador ay dun sila nawawalan ng…</td><td>neutral</td></tr><tr><td>31-01-2020  05:09</td><td>Rickealization</td><td>List()</td><td>List(markantonv)</td><td>@markantonv What is the fatality rate of NCOV compare to MERSCOV and SARS??</td><td>neutral</td></tr><tr><td>31-01-2020  05:09</td><td>JoviYovi</td><td>List()</td><td>List()</td><td>Hmm https://t.co/bFp9ZX4pVw</td><td>neutral</td></tr><tr><td>31-01-2020  05:09</td><td>hamanaeh</td><td>List()</td><td>List()</td><td>RT @made_lineart: Let's pray for our country, I just saw the news about the confirmation of coronavirus here in the Philippines. Take care,…</td><td>neutral</td></tr><tr><td>31-01-2020  05:09</td><td>hamanaeh</td><td>List()</td><td>List(marianicolee_)</td><td>RT @marianicolee_: wow they laughed at me for buying mask bec i told them im scared of coronavirus? dai pa man daa nakaka abot sa bicol? ma…</td><td>positive</td></tr><tr><td>31-01-2020  05:09</td><td>maranathanacii</td><td>List()</td><td>List(RamyInocencio, CGTNOfficial)</td><td>RT @RamyInocencio: NEW: Chinese doctor treating patients for coronavirus dies from coronavirus. State run @CGTNOfficial tweeted Liang Wudon…</td><td>positive</td></tr><tr><td>31-01-2020  05:09</td><td>vicrenjeeh17</td><td>List(coronavirus, CoronavirusOutbreak)</td><td>List(choculate)</td><td>RT @choculate: Really appreciated the humanity act! \n",
              " \n",
              "#coronavirus #CoronavirusOutbreak https://t.co/C5rZTlPj2y</td><td>positive</td></tr><tr><td>31-01-2020  05:09</td><td>NetworksManager</td><td>List()</td><td>List(FangJingru, neuronewy)</td><td>RT @FangJingru: @neuronewy I am just trying to think ahead. Believe it or not, 10 days ago 🇨🇳people thought only those went to Huanan fish…</td><td>neutral</td></tr><tr><td>31-01-2020  05:09</td><td>samsunseshaber</td><td>List()</td><td>List()</td><td>Corona virüs, Çin’den gelen kargolarla bulaşır mı? https://t.co/rNtfCGYQOU</td><td>neutral</td></tr><tr><td>31-01-2020  05:09</td><td>Marita_1010</td><td>List()</td><td>List(AussiePatriotQ)</td><td>RT @AussiePatriotQ: Pompeo names ‘the central threat of our times’ and guess what it is… It’s the Chinese Communist Party — RT World News h…</td><td>neutral</td></tr><tr><td>31-01-2020  05:09</td><td>Kwunjai_SJJMG</td><td>List()</td><td>List(Flagfrogfiz)</td><td>RT @Flagfrogfiz: ขณะนี้กำลังเป็นข่าวใหญ่เลยครับ ทางการอิตาลีได้ออกคำสั่งปิดตายเรือสำราญที่มีขนาดใหญ่อันดับ 5 ของโลก เนื่องจากพบนักท่องเที่ย…</td><td>neutral</td></tr><tr><td>31-01-2020  05:09</td><td>lala111116</td><td>List()</td><td>List(gustavoeloy635)</td><td>RT @gustavoeloy635: Ginès, manga de inùtil , activa el protocolo en los aeropuertos , llego una china a Pergamino con sìntomas de coronavir…</td><td>neutral</td></tr><tr><td>31-01-2020  05:09</td><td>sebnemkoken</td><td>List()</td><td>List(WHO, DrTedros, WHOWPRO, WHOSEARO, pahowho, WHO_Europe, WHOEMRO, WHOAFRO)</td><td>RT @WHO: @DrTedros @WHOWPRO @WHOSEARO @pahowho @WHO_Europe @WHOEMRO @WHOAFRO 🚨BREAKING🚨\n",
              "\n",
              "\"For all of these reasons, I am declaring a public…</td><td>neutral</td></tr><tr><td>31-01-2020  05:09</td><td>_poeticsky</td><td>List()</td><td>List()</td><td>https://t.co/oC9HHu0n8j https://t.co/asJDe1Giko</td><td>neutral</td></tr><tr><td>31-01-2020  05:09</td><td>edgarcia0827</td><td>List()</td><td>List(helloalegria)</td><td>RT @helloalegria: coronavirus has been racialised as a \"chinese\" illness and for this reason chinese people, regardless of their proximity…</td><td>neutral</td></tr><tr><td>31-01-2020  05:09</td><td>Malutuuu</td><td>List()</td><td>List()</td><td>Kakatakot yung corona virus huhuhuh</td><td>neutral</td></tr><tr><td>31-01-2020  05:09</td><td>BillyRoyle01</td><td>List()</td><td>List(boyd_knox99)</td><td>RT @boyd_knox99: Some people may just scroll past this and dismiss it but this is genuinely a rat stood up washing itself with soap like a…</td><td>positive</td></tr><tr><td>31-01-2020  05:09</td><td>sousibrown</td><td>List()</td><td>List(davidfrum)</td><td>RT @davidfrum: Maybe Democratic candidates could promise to waive tariffs on Chinese products if the Chinese authorities released damaging…</td><td>neutral</td></tr><tr><td>31-01-2020  05:09</td><td>erltyyy</td><td>List()</td><td>List(DiviTarun)</td><td>RT @DiviTarun: WHO declared world health emergency.\n",
              "\n",
              "Corona is spreading rapidly. One case reported in India too. Stay safe. \n",
              "\n",
              "#Coronavirus…</td><td>positive</td></tr><tr><td>31-01-2020  05:09</td><td>whdks_</td><td>List()</td><td>List(Joycemlcy)</td><td>RT @Joycemlcy: PEEPS IM TELLING U HINDI CORONAVIRUS PAPATAY SATIN, YUNG GOVERNMENT INCOMPETENCE PO MISMO.</td><td>neutral</td></tr><tr><td>31-01-2020  05:09</td><td>AXL_Hakim</td><td>List(AWATNINews)</td><td>List()</td><td>RT @501Awatni: #AWATNINews [VIRAL] ‘Saya tetap utamakan keselamatan’ Kebolehan berbahasa Mandarin buka pintu rezeki, Kaharuddin Mazlan masi…</td><td>neutral</td></tr><tr><td>31-01-2020  05:09</td><td>PratikreddyN</td><td>List()</td><td>List(Architizer)</td><td>RT @Architizer: Explore the stunning bronze-clad Shui Cultural Center in Sandu, Qiannan, China, designed by local firm West-Line Studio. #P…</td><td>positive</td></tr><tr><td>31-01-2020  05:09</td><td>CubbyPanpan</td><td>List()</td><td>List(chinitoboi17)</td><td>RT @chinitoboi17: Repost.\n",
              "This is from a doctor in HK who consulted w/his friend (who currently works on SARS prevention research) on some…</td><td>neutral</td></tr><tr><td>31-01-2020  05:09</td><td>fortusangeline</td><td>List()</td><td>List()</td><td>Grabe mga napanood kong videos kawawa yung mga doctor dun sa Wuhan 😭💔</td><td>neutral</td></tr><tr><td>31-01-2020  05:09</td><td>O5_hammer</td><td>List()</td><td>List(Ex_Armydoc)</td><td>RT @Ex_Armydoc: 기사는 좋은 기사인데, 기사와 별개로 마스크 이렇게 겹쳐 쓰면 안돼요...ㅠㅠ N95를 낀 상태에서 다른 마스크를 겹치는 것도 의미가 없는데, 심지어 일반 마스크를 안에 끼면 N95가 피부와 밀착되지 않고 틈만 생기는 거…</td><td>neutral</td></tr><tr><td>31-01-2020  05:09</td><td>johnnycageblade</td><td>List()</td><td>List()</td><td>Dont let that Coronavirus shit fool ya.. that shit man-made..China was jus protestin fa the past few months tha government couldnt do shit with the protesters..now all of a sudden nikkas gettin sick so they wont go outside💤..everybody kno Chinese people Elite,they made that shit</td><td>negative</td></tr><tr><td>31-01-2020  05:09</td><td>Siuyu72059570</td><td>List(coronavirus)</td><td>List(SolomonYue)</td><td>RT @SolomonYue: NOT ANYMORE after Emperor Shithole's Chernobyl. #coronavirus has wakened many inside🇨🇳. It reminds the world that🇨🇳CCP cove…</td><td>positive</td></tr><tr><td>31-01-2020  05:09</td><td>7_jenkinson</td><td>List()</td><td>List(LesStonehouse)</td><td>RT @LesStonehouse: Once Upon a Time in a Land far far away there were huge fires, massive dust storms,  dangerous cyclones,big floods.. Mas…</td><td>positive</td></tr><tr><td>31-01-2020  05:09</td><td>gangbadoy</td><td>List(CoronaVirusPH)</td><td>List()</td><td>Can someone send the #CoronaVirusPH a Google calendar notification - na next week na daw. https://t.co/Yro7TRitVD</td><td>neutral</td></tr><tr><td>31-01-2020  05:09</td><td>rosiveloved18</td><td>List()</td><td>List()</td><td>RT @fancibwl: En china lo de comer animales vivos, raros para nosotros es parte de su cultura y saben a que se debe esa cultura? A la pobre…</td><td>neutral</td></tr><tr><td>31-01-2020  05:09</td><td>MishakhanK</td><td>List(coronarvirus)</td><td>List(Gounder_mahan)</td><td>RT @Gounder_mahan: #coronarvirus: Watch this video👇and you'll feel the HUMANITY ❤ Even a small action can be appreciated...! \n",
              " \n",
              "#coronaviru…</td><td>positive</td></tr><tr><td>31-01-2020  05:09</td><td>translatorbali</td><td>List()</td><td>List(translatorbali, MFA_China, FP_Champagne, FP_Champagne)</td><td>RT @translatorbali: @MFA_China @FP_Champagne Canadian FM François Champagne @FP_Champagne in phone call with FM Wang Yi expressed confidenc…</td><td>neutral</td></tr><tr><td>31-01-2020  05:09</td><td>alldaeevrydae</td><td>List()</td><td>List()</td><td>This coming from a dude who looks like a corpse https://t.co/dpNj16EFO5</td><td>neutral</td></tr><tr><td>31-01-2020  05:09</td><td>eruqiiz</td><td>List()</td><td>List(sinchaichao)</td><td>RT @sinchaichao: จีนประกาศ ประชาชนคนไหนวิจารณ์เรื่องโคโรน่าไวรัสในทางร้าย ในโซเชียลมีเดีย จับติดคุก 7 ปี มีหลายคนถูกจับ รวมหมอด้วย \n",
              "\n",
              "https:…</td><td>neutral</td></tr><tr><td>31-01-2020  05:09</td><td>horacioTDF</td><td>List()</td><td>List(ginesggarcia, diegoguelar, msalnacion)</td><td>@ginesggarcia el embajador @diegoguelar advirtió sobre la llegada del coronavirus a la Argentina y pidió al @msalnacion aplicar un protocolo para pasajeros que viajan y regresan de China  🇦🇷🇨🇳\n",
              "\n",
              "https://t.co/rUWfvAlVtg https://t.co/UN5g3DycvQ</td><td>neutral</td></tr><tr><td>31-01-2020  05:09</td><td>windsisle</td><td>List()</td><td>List(Ex_Armydoc)</td><td>RT @Ex_Armydoc: 뭔가 감염 이슈만 생기면 갑자기 마스크 쓰신 분들이 확 증가하는데, 굳이 N95나 KF94 같은 걸 구입하신 다음 갑갑하다고 와이어 딱 맞게 피팅 안 하거나 뒤의 후크 안 걸거나 심지어 코 나오게 쓰신 분들을 보면 약간…</td><td>neutral</td></tr><tr><td>31-01-2020  05:09</td><td>CruxDemila</td><td>List()</td><td>List(inquirerdotnet)</td><td>RT @inquirerdotnet: Travelers coming from China should go straight to Malacañang from the airport if the government still sees no need to i…</td><td>positive</td></tr><tr><td>31-01-2020  05:09</td><td>patxmrcd</td><td>List()</td><td>List(HarveyKeh)</td><td>RT @HarveyKeh: Sa mga nagpapanic ngayon dahil andito na nga ang Coronavirus, sana makita ninyo kung gaano kahalaga na bumoto tayo ng mga pi…</td><td>neutral</td></tr><tr><td>31-01-2020  05:09</td><td>Apolo_Rosado17</td><td>List(coronavirus)</td><td>List(Salud_Ec)</td><td>RT @Salud_Ec: 🚨COMUNICADO| Actualización Estado actual paciente caso sospechoso #coronavirus https://t.co/aoa8zPQZMB</td><td>neutral</td></tr><tr><td>31-01-2020  05:09</td><td>AEL_inTheVault</td><td>List(HKers, coronavirus)</td><td>List(lukedepulford)</td><td>RT @lukedepulford: #HKers! Please help me verify. \n",
              "\n",
              "I’m getting lots of messages saying there aren’t enough high quality #coronavirus masks…</td><td>positive</td></tr><tr><td>31-01-2020  05:09</td><td>MartinFabrici12</td><td>List()</td><td>List(Os18Rooo)</td><td>@Os18Rooo Ayer la OMS declaró la emergencia internacional , hace 15 días atrás apenas era una gripe que solo estaba en China y solo habian 20 infectados y no había muertos genio</td><td>neutral</td></tr><tr><td>31-01-2020  05:09</td><td>Daniel_Plante</td><td>List()</td><td>List(LibertyBlitz)</td><td>RT @LibertyBlitz: Poll time:\n",
              "Is the Trump administration brushing off coronavirus mainly because they’re afraid the stock market might fall?</td><td>negative</td></tr><tr><td>31-01-2020  05:09</td><td>xSymmetry_</td><td>List()</td><td>List(kathbarbadoro)</td><td>RT @kathbarbadoro: Coronavirus is scary enough to make Americans racist about Chinese people but not scary enough to make Americans start w…</td><td>negative</td></tr><tr><td>31-01-2020  05:09</td><td>sreshthamondal</td><td>List(China)</td><td>List(WHO, DrTedros, WHOWPRO, WHOSEARO, pahowho, WHO_Europe, WHOEMRO, WHOAFRO)</td><td>RT @WHO: @DrTedros @WHOWPRO @WHOSEARO @pahowho @WHO_Europe @WHOEMRO @WHOAFRO \"So far we have not seen any deaths outside #China, for which…</td><td>positive</td></tr><tr><td>31-01-2020  05:09</td><td>UTobyM</td><td>List(Tibet)</td><td>List(clara111)</td><td>RT @clara111: Human Rights in #Tibet are simply ignored.There is no excuse for making this cultural genocide\n",
              "\n",
              "Destruction of Tibet’s nation…</td><td>positive</td></tr><tr><td>31-01-2020  05:09</td><td>jcsgrc_</td><td>List()</td><td>List(sarahelago)</td><td>RT @sarahelago: Nasa China ang epicenter ng nCoV outbreak, pinakamaraming kaso, tumataas death toll, kaya pinakamalaki ang banta sa atin. S…</td><td>neutral</td></tr><tr><td>31-01-2020  05:09</td><td>withisianx</td><td>List(WHO, GlobalHealthEmergency, CoronavirusOutbreak)</td><td>List()</td><td>You'd think WHO would be smart enough to declare the global health emergency early on so that countries block all flights. But no they had to take their sweet time. Now the cat is already out of the box, with all claws out! \n",
              "\n",
              "#WHO #GlobalHealthEmergency #CoronavirusOutbreak https://t.co/U80jlnOq0W</td><td>positive</td></tr><tr><td>31-01-2020  05:09</td><td>Ganga43402487</td><td>List(China, WHO)</td><td>List(chitraSD)</td><td>RT @chitraSD: #China is a very powerful country in geopolitics. #WHO’s weight is rather limited even in the multilateral health world. Coun…</td><td>positive</td></tr><tr><td>31-01-2020  05:09</td><td>M_EdgardoTellez</td><td>List()</td><td>List(WHO, DrTedros, WHOWPRO, WHOSEARO, pahowho, WHO_Europe, WHOEMRO, WHOAFRO)</td><td>RT @WHO: @DrTedros @WHOWPRO @WHOSEARO @pahowho @WHO_Europe @WHOEMRO @WHOAFRO 🚨BREAKING🚨\n",
              "\n",
              "\"For all of these reasons, I am declaring a public…</td><td>neutral</td></tr><tr><td>31-01-2020  05:09</td><td>hamanaeh</td><td>List()</td><td>List(HarveyKeh)</td><td>RT @HarveyKeh: Sa mga nagpapanic ngayon dahil andito na nga ang Coronavirus, sana makita ninyo kung gaano kahalaga na bumoto tayo ng mga pi…</td><td>neutral</td></tr><tr><td>31-01-2020  05:09</td><td>Ami_Laaksonen</td><td>List(koronavirus)</td><td>List()</td><td>Mistä tiedetään, että korona-virus ei kestä pitkään?\n",
              "\n",
              "Se on Made on China.\n",
              "\n",
              "#koronavirus</td><td>neutral</td></tr><tr><td>31-01-2020  05:09</td><td>ddavidperez22</td><td>List()</td><td>List(petrogustavo)</td><td>RT @petrogustavo: El presidente debería poner el avión presidencial para evacuar hasta el último colombiano de Wuhan, pero solo se lo prest…</td><td>neutral</td></tr><tr><td>31-01-2020  05:09</td><td>pcyoutts</td><td>List()</td><td>List(tdbem)</td><td>RT @tdbem: o corona vírus se chegar no brasil não vai entrar nem no top 5 maiores problemas que a gente tem</td><td>negative</td></tr><tr><td>31-01-2020  05:09</td><td>lado_mx</td><td>List(Coronavirus)</td><td>List()</td><td>#Coronavirus: La epidemia del coronavirus alcanzaría su punto máximo en febrero y puede ser más contagiosa que el SARS: lo último que se sabe so. https://t.co/RRaCWsNlE2</td><td>neutral</td></tr><tr><td>31-01-2020  05:09</td><td>Hasbarat</td><td>List()</td><td>List(vdare)</td><td>RT @vdare: Treason, by any other word. https://t.co/X0PZ1iYcyL</td><td>negative</td></tr><tr><td>31-01-2020  05:09</td><td>Aoex_may</td><td>List()</td><td>List(LAILINTIM)</td><td>RT @LAILINTIM: กุว่าอีกนิดนะซึงยอนจะซื้อหน้ากาก N95 แจกแล้วไลฟ์สอนล้างมือให้ถูกวิธี แนะนำให้ใช้ alcohol-based แสนดีขนาดนี้ลงสมัครประธาน WHO…</td><td>neutral</td></tr><tr><td>31-01-2020  05:09</td><td>syafiqmildan</td><td>List()</td><td>List(AzzamIzzulhaq)</td><td>RT @AzzamIzzulhaq: Seluruh relawan kami sudah meninggalkan China. Alhamdulillah. https://t.co/8X8Kp3FDEV</td><td>neutral</td></tr><tr><td>31-01-2020  05:09</td><td>watashiwafitri_</td><td>List()</td><td>List(501Awani)</td><td>RT @501Awani: Penularan koronavirus, nCoV telah diisytiharkan sebagai situasi kecemasan antarabangsa. Pengisytiharan itu dibuat Pertubuhan…</td><td>neutral</td></tr><tr><td>31-01-2020  05:09</td><td>florazulina</td><td>List(china)</td><td>List(Desdemona_jna, ginesggarcia)</td><td>RT @Desdemona_jna: El chino de mi super viajo a #china el  lunes. Cuando vuelva controla magoya. Póngase los largos @ginesggarcia  o deberá…</td><td>positive</td></tr><tr><td>31-01-2020  05:09</td><td>aura_rdrgz</td><td>List()</td><td>List(_ajeshag)</td><td>@_ajeshag nako may coronavirus kna</td><td>neutral</td></tr><tr><td>31-01-2020  05:09</td><td>mreikasalve</td><td>List()</td><td>List(ogie_rosa)</td><td>RT @ogie_rosa: Ulit-ulit nyong dinedepensahan ang Tsina sa pagnanakaw ng isla/taklobo, pagpasok ng illegal workers, di pagbayad ng buwis ng…</td><td>negative</td></tr><tr><td>31-01-2020  05:09</td><td>hamanaeh</td><td>List()</td><td>List(kuyaaisko)</td><td>RT @kuyaaisko: See? Russia is a close ally of China too (if we can really call China our ally 🥴) but they chose to prioritize their citizen…</td><td>positive</td></tr><tr><td>31-01-2020  05:09</td><td>KallathiyanMan1</td><td>List(AirIndia, Coronavirus)</td><td>List(vikatan)</td><td>RT @vikatan: ஸ்பெஷல் மெடிக்கல் கிட்.. வைரஸ் இருந்தால் `நோ' அனுமதி!- இந்தியர்களை மீட்க சீனா பறக்கும் ஏர் இந்தியா #AirIndia #Coronavirus #chi…</td><td>neutral</td></tr><tr><td>31-01-2020  05:09</td><td>Daniglezo1</td><td>List()</td><td>List(soytaniagomez)</td><td>RT @soytaniagomez: Marcelo Ebrard dice que no se justificaría ir a Wuhan, China, por 4 estudiantes mexicanos, porque \"son aviones muy grand…</td><td>neutral</td></tr><tr><td>31-01-2020  05:09</td><td>makham0912</td><td>List()</td><td>List(ThaiPBS)</td><td>RT @ThaiPBS: สรุปแถลงการณ์ขององค์การอนามัยโลก (WHO) ทำไมต้องประกาศให้ไวรัสโคโรนาสายพันธุ์ใหม่2019-nCoV เป็นภาวะฉุกเฉินด้านสาธารณสุขระหว่างป…</td><td>neutral</td></tr><tr><td>31-01-2020  05:09</td><td>CJKJ_American</td><td>List()</td><td>List(almsadventures)</td><td>RT @almsadventures: You can’t make this stuff up.</td><td>neutral</td></tr><tr><td>31-01-2020  05:09</td><td>patty_london</td><td>List()</td><td>List()</td><td>Si hubiera dicho: están en cuarentena, cuando pase, vamos por ustedes. Hasta bien parado sale. Más su motivo fue \"son aviones muy grandes\", grande les ha quedado el puesto. Son una caterva de imbéciles -ellos y quien los defienda-. No fuera Evo, porque no les importaría nada. https://t.co/ZO8FOmgL0J</td><td>neutral</td></tr><tr><td>31-01-2020  05:09</td><td>tita_fany</td><td>List()</td><td>List(PhYoungSone)</td><td>RT @PhYoungSone: Ayan mga beshies and mumshies according kay Doc. \n",
              "\n",
              "Nakakatuwa kumpleto ang SONE fandom ng profession. Pwede na tayong bumu…</td><td>neutral</td></tr><tr><td>31-01-2020  05:09</td><td>Killuwubaku</td><td>List()</td><td>List(Henrytado)</td><td>RT @Henrytado: Corona virus é uma das nossas menores preocupações.........</td><td>neutral</td></tr><tr><td>31-01-2020  05:09</td><td>Yinmar76198880</td><td>List()</td><td>List()</td><td>Fighting Wuhan,China💪💪💪</td><td>neutral</td></tr><tr><td>31-01-2020  05:09</td><td>Ajax2847</td><td>List()</td><td>List(SophistsAwake)</td><td>RT @SophistsAwake: Seriously? Do you think anyone lying on their death bead cares about the skin color of the researchers who might assist…</td><td>negative</td></tr><tr><td>31-01-2020  05:09</td><td>castroloops</td><td>List()</td><td>List(soytaniagomez)</td><td>RT @soytaniagomez: Marcelo Ebrard dice que no se justificaría ir a Wuhan, China, por 4 estudiantes mexicanos, porque \"son aviones muy grand…</td><td>neutral</td></tr><tr><td>31-01-2020  05:09</td><td>thebrooke_show</td><td>List()</td><td>List(KING5Seattle)</td><td>RT @KING5Seattle: Can you open packages shipped from Wuhan, China, during the coronavirus outbreak? https://t.co/0nyIV97NuT</td><td>neutral</td></tr><tr><td>31-01-2020  05:09</td><td>JumperNull</td><td>List()</td><td>List(mazrieva)</td><td>RT @mazrieva: Deplu AS Kamis malam (30/1) mengingatkan warga AS untuk tidak melakukan perjalanan ke Tiongkok seiring melonjaknya kasus viru…</td><td>neutral</td></tr><tr><td>31-01-2020  05:09</td><td>mydaytiwa</td><td>List()</td><td>List()</td><td>Yup, it's just clam https://t.co/gbTfdoAnWK</td><td>neutral</td></tr><tr><td>31-01-2020  05:09</td><td>Florcitaslilas1</td><td>List()</td><td>List()</td><td>Una China infectada en Pergamino? \n",
              "QUE CHUCHO MANUCHO</td><td>neutral</td></tr><tr><td>31-01-2020  05:09</td><td>RonJellison</td><td>List()</td><td>List(alexsalvinews)</td><td>RT @alexsalvinews: BREAKING: The State Dept. issues a travel advisory telling Americans not to travel to China because of the public health…</td><td>neutral</td></tr><tr><td>31-01-2020  05:09</td><td>malihahasan2</td><td>List(coronavirus)</td><td>List(globaltimesnews)</td><td>RT @globaltimesnews: How do Chinese people kill time at home amid the coronavirus outbreak? Due to the #coronavirus outbreak, #SpringFestiv…</td><td>negative</td></tr><tr><td>31-01-2020  05:09</td><td>akramaliIYC</td><td>List()</td><td>List(RahulGandhi)</td><td>RT @RahulGandhi: In China, the Coronavirus has killed hundreds of people. My thoughts are with the families of the victims &amp; the millions w…</td><td>negative</td></tr><tr><td>31-01-2020  05:09</td><td>ValenCarras</td><td>List()</td><td>List()</td><td>che nunca somos noticia por algo bueno vieron https://t.co/IjUV3A78Gs</td><td>neutral</td></tr><tr><td>31-01-2020  05:09</td><td>Grummz</td><td>List()</td><td>List(RealSexyCyborg)</td><td>RT @RealSexyCyborg: We'll beat this💪 https://t.co/HAQWbN3ttB</td><td>neutral</td></tr><tr><td>31-01-2020  05:09</td><td>darrenldrs</td><td>List()</td><td>List(KasamangChad)</td><td>RT @KasamangChad: HA BAKIT MAY PA QUIZ BEE??</td><td>neutral</td></tr><tr><td>31-01-2020  05:09</td><td>Andy15521388</td><td>List()</td><td>List(WSJ)</td><td>RT @WSJ: China has lavished money on U.S. researchers, sparking a debate about national security and academic freedom https://t.co/G8lG6Gow…</td><td>neutral</td></tr><tr><td>31-01-2020  05:09</td><td>EmanueleTapina1</td><td>List(coronavirus)</td><td>List()</td><td>Se non andate più nei ristoranti cinesi, vie cinesi e negozi cinesi per paura del #coronavirus , pensate che le vostre banconote posso essere passate per mani cinesi e posso essere contaminate, datele a me che ci penso io ad smaltirle. 😂😂😂</td><td>neutral</td></tr><tr><td>31-01-2020  05:09</td><td>Ad_Antifa</td><td>List()</td><td>List(safiranand)</td><td>RT @safiranand: Just got this: \n",
              "\n",
              "HIV drug, a Protease inhibitor Nelfinavir cures the first case of Wuhan CoV in China ! \n",
              "https://t.co/SZCOf…</td><td>positive</td></tr><tr><td>31-01-2020  05:09</td><td>JayDeeAB</td><td>List()</td><td>List(umarsaif)</td><td>RT @umarsaif: Coronavirus declared global health emergency by WHO https://t.co/QQDye9JatE</td><td>neutral</td></tr><tr><td>31-01-2020  05:09</td><td>vaehanna</td><td>List()</td><td>List(iamramizxrami)</td><td>RT @iamramizxrami: From my friend's apartment in Wuhan, China. People from the neighborhood chanting from their apartments \"Wuhan add oil\"…</td><td>neutral</td></tr><tr><td>31-01-2020  05:09</td><td>JohnLSandy</td><td>List()</td><td>List(donttrythis)</td><td>RT @donttrythis: This is a government official actually describing the worldwide outbreak of a virulent contagion as an opportunity for bus…</td><td>neutral</td></tr><tr><td>31-01-2020  05:09</td><td>kontarOP</td><td>List()</td><td>List(demikebenaran, fmtoday)</td><td>@demikebenaran the racist @fmtoday &amp; 1 indian racist writer A Koeyteowraisen says Malaysia will be dark if all chinese go back to china tomorrow. Yes can go &amp; u'oll can burn all the shops built under unfair mat saleh arrangement.</td><td>negative</td></tr><tr><td>31-01-2020  05:09</td><td>zyrusHmab</td><td>List()</td><td>List(noppatjak)</td><td>RT @noppatjak: ราคามาตรฐานของหน้ากากอนามัย (แบบปกติ ไม่ใช่ N95) คือชิ้นละ 2 บาท</td><td>neutral</td></tr><tr><td>31-01-2020  05:09</td><td>ChxmicalSpellz</td><td>List(coronavirus)</td><td>List(manyapan)</td><td>RT @manyapan: How to survive staying indoors during #coronavirus lockdown according to these very important videos making their rounds on C…</td><td>positive</td></tr><tr><td>31-01-2020  05:09</td><td>DirkHafermann</td><td>List(coronavirus)</td><td>List()</td><td>Die meinen das ernst. Die meinen das wirklich ernst! #coronavirus https://t.co/JC2nTm3PKY</td><td>neutral</td></tr><tr><td>31-01-2020  05:09</td><td>YuanSpeaking</td><td>List()</td><td>List(WHO, DrTedros, WHOWPRO, WHOSEARO, pahowho, WHO_Europe, WHOEMRO, WHOAFRO)</td><td>RT @WHO: @DrTedros @WHOWPRO @WHOSEARO @pahowho @WHO_Europe @WHOEMRO @WHOAFRO \"We must remember that these are people, not numbers. \n",
              "\n",
              "More i…</td><td>positive</td></tr><tr><td>31-01-2020  05:09</td><td>Madi_Kier</td><td>List()</td><td>List(mixeduppasha, emcheng29, helloalegria)</td><td>RT @mixeduppasha: @emcheng29 @helloalegria @asianpocunite Kind of reminded me when the Chinese do that the African people in China\n",
              "\n",
              "they th…</td><td>positive</td></tr><tr><td>31-01-2020  05:09</td><td>snies98</td><td>List()</td><td>List(nobluk)</td><td>RT @nobluk: ตัวนี้เค้าบอกกรองฝุ่นและเชื้อโรคที่ลอยในอากาศได้ถึง 99% ความละเอียดแผ่นกรอง 0.1 ไมครอน (ดีกว่าN95) กล่องนึงมี 3 ชิ้น นุ่นซื้อมา…</td><td>neutral</td></tr><tr><td>31-01-2020  05:09</td><td>chuen2</td><td>List()</td><td>List(BloombergAsia)</td><td>RT @BloombergAsia: BREAKING: Japan tells citizens to avoid unnecessary travel to China because of virus https://t.co/WBzrP9J3F9 https://t.c…</td><td>negative</td></tr><tr><td>31-01-2020  05:09</td><td>patosoydel41</td><td>List()</td><td>List(nachomdeo)</td><td>RT @nachomdeo: Alerta: en el hospital San José de Pergamino se atendió a una ciudadana china con síntomas compatibles con el Coronavirus. S…</td><td>neutral</td></tr><tr><td>31-01-2020  05:09</td><td>zulaikhardzn</td><td>List()</td><td>List(helloalegria)</td><td>RT @helloalegria: coronavirus has been racialised as a \"chinese\" illness and for this reason chinese people, regardless of their proximity…</td><td>neutral</td></tr><tr><td>31-01-2020  05:09</td><td>akpturkiyesi</td><td>List()</td><td>List(cinhabernet)</td><td>RT @cinhabernet: Ölü sayısı 200'ü geçti\n",
              "\n",
              "📌Çin'de ölü sayısı: 213\n",
              "📌Vaka sayısı: 9,692\n",
              "📌İyileşen: 171\n",
              "\n",
              "▶️Türk Hava Yolları Pekin, Guangzhou,…</td><td>neutral</td></tr><tr><td>31-01-2020  05:09</td><td>Cinto_1912</td><td>List(ÚltimaHora, coronavirus)</td><td>List(Cinto_1912, Noticias_crc)</td><td>RT @Cinto_1912: @Noticias_crc #ÚltimaHora | Actualización de datos de #coronavirus\n",
              "\n",
              "🇨🇳 9,692 Contagiados en China\n",
              "🗺 129 Contagiados alreded…</td><td>neutral</td></tr><tr><td>31-01-2020  05:09</td><td>Jakob_Glogauer</td><td>List()</td><td>List(kinsellawarren, CTV)</td><td>RT @kinsellawarren: I know Peter. We were neighbors. The notion that he is even remotely racist is ridiculous. It is insane. ⁦@CTV deserves…</td><td>negative</td></tr><tr><td>31-01-2020  05:09</td><td>Rxiyxx</td><td>List(فيروس_كورونا, كورونا_الصين, coronarvirus)</td><td>List(3bid95)</td><td>RT @3bid95: #فيروس_كورونا #كورونا_الصين #coronarvirus \n",
              "Yesterday, China was holding millions of Uighur Muslims and torturing them. Today, t…</td><td>neutral</td></tr><tr><td>31-01-2020  05:09</td><td>_Guinhocrf</td><td>List()</td><td>List(ogabriel_mirand)</td><td>RT @ogabriel_mirand: eu queria que vocês vissem minha cara assistindo isso</td><td>neutral</td></tr><tr><td>31-01-2020  05:09</td><td>sueljoy</td><td>List()</td><td>List(balloon_wanted)</td><td>RT @balloon_wanted: YG Entertainment shares that BLACKPINK's Lisa will not be traveling to China for filming of Idol Producer\n",
              "\n",
              "In addition,…</td><td>neutral</td></tr><tr><td>31-01-2020  05:09</td><td>Julieta52124609</td><td>List()</td><td>List(g_bouillon, m_ebrard)</td><td>RT @g_bouillon: ¿oye @m_ebrard si andan ustedes tan \"ahorrativos\" por qué enviaron un avión de la FAM por Evo Morales que ni es mexicano?</td><td>neutral</td></tr><tr><td>31-01-2020  05:09</td><td>MooreJR__</td><td>List()</td><td>List(Mazigburugburu1)</td><td>RT @Mazigburugburu1: It took China 10 days to complete a 1000 bed hospital that would have taken Nigeria 60 years from 1960 to abandon at l…</td><td>positive</td></tr><tr><td>31-01-2020  05:09</td><td>jayneilouise</td><td>List()</td><td>List(antonioguterres)</td><td>RT @antonioguterres: Desert locusts are extremely dangerous. Triggered by the climate crisis, the outbreak is making the dire food security…</td><td>negative</td></tr><tr><td>31-01-2020  05:09</td><td>MeliHenrquez1</td><td>List(coronavirus, ElSalvador)</td><td>List(prensagrafica)</td><td>RT @prensagrafica: Viceministro de Salud descarta caso sospechoso de #coronavirus en #ElSalvador, a la salida del Hospital Saldaña. Vídeo L…</td><td>neutral</td></tr><tr><td>31-01-2020  05:09</td><td>YNTKI_Official</td><td>List(India, market, profit, sales, British)</td><td>List(daily_nyk, TataMotors)</td><td>RT @daily_nyk: #India’s .@TataMotors Ltd on Thursday beat #market expectation for quarterly #profit, as #sales for the maker of #British #l…</td><td>neutral</td></tr><tr><td>31-01-2020  05:09</td><td>cagney1991</td><td>List()</td><td>List(kylegriffin1)</td><td>RT @kylegriffin1: In late 2017, CNBC filed a Freedom of Information Act request for details about Jared Kushner's secretive meeting in Chin…</td><td>negative</td></tr><tr><td>31-01-2020  05:09</td><td>3_margelys</td><td>List()</td><td>List(soniachocron)</td><td>RT @soniachocron: Buenas tardes\n",
              "La novedad en el frente es que he recibido 2 alertas muy serios sobre el coronavirus\n",
              "Se transmite por ojos…</td><td>neutral</td></tr><tr><td>31-01-2020  05:09</td><td>bearly_</td><td>List()</td><td>List(processic)</td><td>RT @processic: - ปัจจุบันการนำเข้าหน้ากากอนามัย  ได้รับการยกเว้นภาษีอากรนำเข้า\n",
              "\n",
              "-  N95 ยังต้องขอใบอนุญาตรับรองจากอย.\n",
              "\n",
              "- การหิ้วหน้ากากอนามั…</td><td>neutral</td></tr><tr><td>31-01-2020  05:09</td><td>Nicostatus</td><td>List(coronavirus)</td><td>List(AJA_Cortes)</td><td>RT @AJA_Cortes: This #coronavirus is a global zeitgeist moment \n",
              "\n",
              "Is China under reporting it and covering it up?\n",
              "\n",
              "Is western media under re…</td><td>neutral</td></tr><tr><td>31-01-2020  05:09</td><td>banuesmer</td><td>List(SonDakika, THY, koronavirus)</td><td>List(hakana)</td><td>RT @hakana: #SonDakika #THY #koronavirus salgınından dolayı Çin seferlerini 9 Şubat’a kadar durdurdu.</td><td>neutral</td></tr><tr><td>31-01-2020  05:09</td><td>UNoticias</td><td>List()</td><td>List()</td><td>Los pasos fronterizos con China serán cerrados desde el 31 de enero https://t.co/XTNTdpOIos</td><td>neutral</td></tr><tr><td>31-01-2020  05:09</td><td>molly19571009</td><td>List()</td><td>List(camomillem0703)</td><td>RT @camomillem0703: 【随時更新】新型肺炎の発生状況Last update: 30 January 2020 at 8:55 p.m. ET(前回より約1時間半後)\n",
              "★黒竜江省,広東省,四川省のプレスリリースが不正確だった模様。こういう国が出す情報を元にするの…</td><td>neutral</td></tr><tr><td>31-01-2020  05:09</td><td>JetJetU</td><td>List()</td><td>List(eugenegu)</td><td>RT @eugenegu: The WHO declaring that the Wuhan coronavirus is a public health emergency of international concern is appropriate, and we sho…</td><td>positive</td></tr><tr><td>31-01-2020  05:09</td><td>Kmoeti</td><td>List()</td><td>List()</td><td>“This week, my ethnicity has made me feel like I was part of a threatening and diseased mass. To see me as someone who carries the virus just because of my race is, well, just racist” https://t.co/32EvhPCxV8</td><td>negative</td></tr><tr><td>31-01-2020  05:09</td><td>dontbeshaken</td><td>List()</td><td>List(opeymanipopcorn, rapplerdotcom)</td><td>@opeymanipopcorn @rapplerdotcom other countries who have more numbers of ncov cases  banned chinese recently lang din. E dahil wala k namang pakialam sa mga chinese at feeling mo di nila deserve tulungan kaya ayan reaction mo.</td><td>positive</td></tr><tr><td>31-01-2020  05:09</td><td>carina38925315</td><td>List()</td><td>List()</td><td>Japan firms delay restarting China operations after holiday as virus spreads | The Japan Times https://t.co/js5UpImKxD</td><td>neutral</td></tr><tr><td>31-01-2020  05:09</td><td>nov_vvvvvv</td><td>List(AltoMiedoGuacho)</td><td>List(xleizax)</td><td>RT @xleizax: entrando a tuiter // leyendo que puede haber un caso de coronavirus en arg #AltoMiedoGuacho https://t.co/WE9MD4DobK</td><td>neutral</td></tr><tr><td>31-01-2020  05:09</td><td>Heris43130602</td><td>List()</td><td>List(Bebeeeeen_)</td><td>@iniakuwidi @Bebeeeeen_ Ga ada isninya..? Ga niat isi virus corona gitu???</td><td>neutral</td></tr><tr><td>31-01-2020  05:09</td><td>sera14570503</td><td>List()</td><td>List(NatGeo)</td><td>RT @NatGeo: Images of sick, suffering animals in markets have created the impression that buying live wild animals for eating is a megascal…</td><td>negative</td></tr><tr><td>31-01-2020  05:09</td><td>waanjai_reen</td><td>List()</td><td>List(Lisa71247870, noelia1771)</td><td>RT @Lisa71247870: @noelia1771 Especially this time with coronavirus breakout, I truly very worried about him. Because the environment, lots…</td><td>positive</td></tr><tr><td>31-01-2020  05:09</td><td>a___aa69</td><td>List()</td><td>List(nobluk)</td><td>RT @nobluk: ตัวนี้เค้าบอกกรองฝุ่นและเชื้อโรคที่ลอยในอากาศได้ถึง 99% ความละเอียดแผ่นกรอง 0.1 ไมครอน (ดีกว่าN95) กล่องนึงมี 3 ชิ้น นุ่นซื้อมา…</td><td>neutral</td></tr><tr><td>31-01-2020  05:09</td><td>thedarknesswol</td><td>List()</td><td>List(MabelLaraNews)</td><td>RT @MabelLaraNews: Nosotros todos tan expertos en coronavirus, y en el Bajo Baudó más de 100 niños están sufriendo de una extraña enfermeda…</td><td>neutral</td></tr><tr><td>31-01-2020  05:09</td><td>pinkrab12910795</td><td>List(WuhanCoronavirus)</td><td>List(HimalayaGlobal)</td><td>RT @HimalayaGlobal: Just taking the car for drive and you see this😱\n",
              "\n",
              "How many have died from #WuhanCoronavirus ? \n",
              "Thousands waited to be tr…</td><td>positive</td></tr><tr><td>31-01-2020  05:09</td><td>rajagopalan8</td><td>List(BodoPeaceAccord)</td><td>List(AnuragAtul)</td><td>RT @AnuragAtul: #BodoPeaceAccord , The Will power of 2 young Gentleman , it should be discussed on all News Channels/ SM , spread positivis…</td><td>positive</td></tr><tr><td>31-01-2020  05:09</td><td>anonlullaby</td><td>List(Coronavirus)</td><td>List(UN, WHO)</td><td>RT @UN: NEWS: #Coronavirus declared a public health emergency of international concern by @WHO. \n",
              "\n",
              "Global outbreak includes 98 cases in 18 c…</td><td>neutral</td></tr><tr><td>31-01-2020  05:09</td><td>gaelle_belrose</td><td>List()</td><td>List(magicbroomsaint)</td><td>RT @magicbroomsaint: 200131 • Saint’s Weibo Update \n",
              "\n",
              "Eng Trans:\n",
              "\n",
              "Hello, everyone! I am the Thai actor, Saint, Huang Mingming. Wuhan fightin…</td><td>neutral</td></tr><tr><td>31-01-2020  05:09</td><td>missbluewitch09</td><td>List(staysafe, novelcoronavirus, prayforchina, staystrong)</td><td>List()</td><td>To the Chinese doctors who are treating the novel Coronavirus please stay safe and keep up the good job. Don't forget to take your much needed rest also..\n",
              "\n",
              "#staysafe\n",
              "#novelcoronavirus\n",
              "#prayforchina\n",
              "#staystrong</td><td>positive</td></tr><tr><td>31-01-2020  05:09</td><td>ltoons</td><td>List(CoronavirusOutbreak)</td><td>List(kryptokoi)</td><td>RT @kryptokoi: People Are Actually Being Barricaded In Their Homes By The Chinese Government #CoronavirusOutbreak  \n",
              "\n",
              "Coronavirus Special -…</td><td>positive</td></tr><tr><td>31-01-2020  05:09</td><td>pajarracoonfire</td><td>List()</td><td>List()</td><td>@noemiotero3 Sin embargo ayer el inepto seguia en su postura, solo volvieron para currar, de laburar nada , imaginate echaron equipos técnicos de años de carrera , para meter a la militancia choriplanera, en Ruanda se nos cagan de risa https://t.co/Vy4HGOnjyv</td><td>neutral</td></tr><tr><td>31-01-2020  05:09</td><td>MishakhanK</td><td>List()</td><td>List(DiviTarun)</td><td>RT @DiviTarun: WHO declared world health emergency.\n",
              "\n",
              "Corona is spreading rapidly. One case reported in India too. Stay safe. \n",
              "\n",
              "#Coronavirus…</td><td>positive</td></tr><tr><td>31-01-2020  05:09</td><td>lilacmiel</td><td>List()</td><td>List(davidfrum)</td><td>RT @davidfrum: Maybe Democratic candidates could promise to waive tariffs on Chinese products if the Chinese authorities released damaging…</td><td>neutral</td></tr><tr><td>31-01-2020  05:09</td><td>marcflores83</td><td>List(Coronavirus)</td><td>List(longbeachgriffy)</td><td>RT @longbeachgriffy: When a Chinese person sneezes...\n",
              "#Coronavirus https://t.co/TXRQVnlMXi</td><td>neutral</td></tr><tr><td>31-01-2020  05:09</td><td>Shivaku22896328</td><td>List()</td><td>List()</td><td>\"World Health Organization declares coronavirus outbreak a public health emergency\"  https://t.co/mMfSLFfU5M</td><td>neutral</td></tr><tr><td>31-01-2020  05:09</td><td>NewsbytesHindi</td><td>List()</td><td>List()</td><td>WHO ने चीन के कोरोना वायरस को घोषित किया अंतरराष्ट्रीय स्वास्थ्य इमरजेंसी, अब तक 213 मौतें\n",
              "https://t.co/0SWLVRiFEe</td><td>neutral</td></tr><tr><td>31-01-2020  05:09</td><td>ethnjnr</td><td>List()</td><td>List(Magnethic_flux)</td><td>RT @Magnethic_flux: what's the best precautionary measure that the PH govt has employed to protect the filipino people from the coronavirus…</td><td>positive</td></tr><tr><td>31-01-2020  05:09</td><td>nanatsuyoru__</td><td>List()</td><td>List(fourteencrowns)</td><td>@fourteencrowns ahahaa get it!! corona like the beer!!!</td><td>neutral</td></tr><tr><td>31-01-2020  05:09</td><td>andhellster</td><td>List()</td><td>List(Julianaramirez6)</td><td>RT @Julianaramirez6: Con la evacuación de los colombianos en Wuhan, el Gobierno Duque ha desbloqueado un nuevo nivel de miserable.</td><td>negative</td></tr><tr><td>31-01-2020  05:09</td><td>Jeffro847</td><td>List(CoronaVirus)</td><td>List(PeterSweden7)</td><td>RT @PeterSweden7: BREAKING🚨\n",
              "\n",
              "The World Health Organization has declared the #CoronaVirus outbreak a global public health emergency.\n",
              "\n",
              "Retwee…</td><td>neutral</td></tr><tr><td>31-01-2020  05:09</td><td>inainot__</td><td>List()</td><td>List()</td><td>RT @ayahpermandian: *Virus Corona menyebar*\n",
              "\n",
              "Warga Dunia: \"Kita harus memakai masker sebagai langkah pengamanan\" *memakai masker\n",
              "\n",
              "Warga RRC…</td><td>neutral</td></tr><tr><td>31-01-2020  05:09</td><td>Alix39</td><td>List()</td><td>List(lopezdoriga)</td><td>RT @lopezdoriga: No se justificaría ir a China por cuatro mexicanos, “son aviones muy grandes”; explicó Marcelo Ebrard\n",
              "\n",
              "¿Qué opinan? \n",
              "\n",
              "http…</td><td>neutral</td></tr><tr><td>31-01-2020  05:09</td><td>dgoldstein23</td><td>List()</td><td>List(SASBurnerAcct)</td><td>RT @SASBurnerAcct: When you order something on Amazon and open it and see “Made from China” https://t.co/weW5RLPwSY</td><td>neutral</td></tr><tr><td>31-01-2020  05:09</td><td>MmtrqkKhan</td><td>List()</td><td>List(RahulGandhi)</td><td>RT @RahulGandhi: In China, the Coronavirus has killed hundreds of people. My thoughts are with the families of the victims &amp; the millions w…</td><td>negative</td></tr><tr><td>31-01-2020  05:09</td><td>Hypowoman</td><td>List(EverydayHero, coronavirus)</td><td>List(ChinaDaily)</td><td>RT @ChinaDaily: #EverydayHero Medical workers from across the country are heading for Wuhan, the epicenter of the novel #coronavirus outbre…</td><td>neutral</td></tr><tr><td>31-01-2020  05:09</td><td>ddaengtan7</td><td>List(CoronavirusOutbreak)</td><td>List(EmekaOkoloH2)</td><td>RT @EmekaOkoloH2: #CoronavirusOutbreak Good News 🥳🥳🥳\n",
              "\n",
              "1st good News:\n",
              "\n",
              "China has developed a testing kit for CoronaVirus &amp; will have it dis…</td><td>positive</td></tr><tr><td>31-01-2020  05:09</td><td>lanwangjji</td><td>List()</td><td>List(wangxianling)</td><td>RT @wangxianling: Wow, MXTX said she planned all the MDZS houses on a map of China! 😲 These places are REAL (ish)!\n",
              "\n",
              "Jin: Lanling, Shandong…</td><td>positive</td></tr><tr><td>31-01-2020  05:09</td><td>hanafi_nasri</td><td>List()</td><td>List(IjamKloppo)</td><td>RT @IjamKloppo: *Wanita Wuhan dikuarantin di hospital kerajaan di Manila.\n",
              "\n",
              "There, I fixed it for you. Dumbass.</td><td>positive</td></tr><tr><td>31-01-2020  05:09</td><td>hadiashidd</td><td>List()</td><td>List(alvinlie21)</td><td>RT @alvinlie21: Wabah Virus Corona: \n",
              "WHO Umumkan Status Darurat Dunia\n",
              " https://t.co/Rfyvk2zKU4</td><td>neutral</td></tr><tr><td>31-01-2020  05:09</td><td>myblackpinklife</td><td>List()</td><td>List(BLACKPINK_Bar)</td><td>RT @BLACKPINK_Bar: C-BLINKs raised money （23,575.17 yuan）through us and our group members donated 3,000 yuan to help the coronavirus in Wuh…</td><td>neutral</td></tr><tr><td>31-01-2020  05:09</td><td>winghanching1</td><td>List(BoycottChina)</td><td>List(SalonTrans, AndrewSErickson)</td><td>RT @SalonTrans: 🇺🇸海軍戰爭學院 戰略學教授\n",
              "艾立信  Professor @AndrewSErickson : \n",
              "“專制政權就像只剩下兩隻大拇指的廢人一樣笨手笨腳。它們能夠採取强制行動，而不能對政府的槓桿作用進行微調。”\n",
              "#BoycottChina #2019…</td><td>neutral</td></tr><tr><td>31-01-2020  05:09</td><td>pandaclariza</td><td>List()</td><td>List(BLACKPINK_Bar, ygent_official, ygofficialblink)</td><td>RT @BLACKPINK_Bar: @ygent_official @ygofficialblink \n",
              "C-BLINKs raised money （23,575.17 yuan）through us and our group members donated 3,000 y…</td><td>neutral</td></tr><tr><td>31-01-2020  05:09</td><td>YISUSTXD1</td><td>List()</td><td>List(LicTraviata)</td><td>RT @LicTraviata: Es un virus\n",
              "Se contagia por el aire y el agua\n",
              "Ataca a todos los estratos sociales\n",
              "Sus portadores parecen estar sanos\n",
              "Ha ma…</td><td>neutral</td></tr><tr><td>31-01-2020  05:09</td><td>Alynnachr</td><td>List()</td><td>List(ABSCBNNews)</td><td>RT @ABSCBNNews: Ipagbabawal nang pumasok sa Pilipinas ang mga biyahero mula Hubei sa China isang araw matapos makumpirmang may kaso na ng 2…</td><td>neutral</td></tr><tr><td>31-01-2020  05:09</td><td>misyluka</td><td>List()</td><td>List(akyoshi09)</td><td>RT @akyoshi09: 🆘🆘🆘 Como puede ser que todas las puertas se cierren!?\n",
              "Que humanos tan miserables el creer que un 🐶 es desechable! 🤬\n",
              "#ULTIMAH…</td><td>neutral</td></tr><tr><td>31-01-2020  05:09</td><td>Waheed_MUGH</td><td>List()</td><td>List(umarsaif)</td><td>RT @umarsaif: Coronavirus declared global health emergency by WHO https://t.co/QQDye9JatE</td><td>neutral</td></tr><tr><td>31-01-2020  05:09</td><td>_madelinedavis</td><td>List()</td><td>List(maaba_g)</td><td>RT @maaba_g: the corona virus doesn’t give you an excuse to be racist towards asians lmfaoooo</td><td>negative</td></tr><tr><td>31-01-2020  05:09</td><td>Santiagolowell3</td><td>List()</td><td>List(cnni)</td><td>RT @cnni: Italy's Prime Minister Giuseppe Conte announced that all air traffic to and from China has been stopped in an effort to halt the…</td><td>neutral</td></tr><tr><td>31-01-2020  05:09</td><td>romboutv</td><td>List()</td><td>List(andrewpprice)</td><td>@andrewpprice This one is interesting, its from 2004, with the outbreak of the big bird flue back then. https://t.co/PWcMLck7PI</td><td>positive</td></tr><tr><td>31-01-2020  05:09</td><td>muzaliii</td><td>List(coronavirus, CoronavirusOutbreak)</td><td>List(choculate)</td><td>RT @choculate: Really appreciated the humanity act! \n",
              " \n",
              "#coronavirus #CoronavirusOutbreak https://t.co/C5rZTlPj2y</td><td>positive</td></tr><tr><td>31-01-2020  05:09</td><td>fkyouZK</td><td>List()</td><td>List(helloalegria)</td><td>RT @helloalegria: coronavirus has been racialised as a \"chinese\" illness and for this reason chinese people, regardless of their proximity…</td><td>neutral</td></tr><tr><td>31-01-2020  05:09</td><td>yayaddy</td><td>List(LISA)</td><td>List(9lisa77_)</td><td>RT @9lisa77_: YG Entertainment shares that #LISA will not travel to China to film YouthWithYou because it was recently canceled due to an o…</td><td>negative</td></tr><tr><td>31-01-2020  05:09</td><td>mirabriannexxxx</td><td>List(coronavirus)</td><td>List(Clickforlife100)</td><td>RT @Clickforlife100: Update on corona virus Please read #coronavirus https://t.co/6NBFc5xx0A</td><td>neutral</td></tr><tr><td>31-01-2020  05:09</td><td>Australia77777</td><td>List()</td><td>List(nalalandoz)</td><td>RT @nalalandoz: 飛行員要求針對新型冠狀病毒提供防護措施</td><td>neutral</td></tr><tr><td>31-01-2020  05:09</td><td>26_millet</td><td>List(Lisa)</td><td>List(hallyukstar)</td><td>RT @hallyukstar: YG แจ้งการยกเลิกคิวกิจกรรมของ ลิซ่า 'BLACKPINK' ในจีน จากสถานการณ์การแพร่ระบาดของไวรัสโคโรน่าสายพันธุ์ใหม่ 2019\n",
              "--\n",
              "#Lisa #…</td><td>neutral</td></tr><tr><td>31-01-2020  05:09</td><td>YinLi83204473</td><td>List()</td><td>List(vicenews)</td><td>RT @vicenews: Chinese authorities are cracking down on negative media coverage and social media commentary about the coronavirus outbreak,…</td><td>negative</td></tr><tr><td>31-01-2020  05:09</td><td>isabel_farley</td><td>List()</td><td>List(pburelli)</td><td>RT @pburelli: EEUU 🇺🇸advierte a sus ciudadanos que no deben viajar a China 🇨🇳 y recomienda a quienes están allá que hagan todos los esfuerz…</td><td>neutral</td></tr><tr><td>31-01-2020  05:09</td><td>nabor_merino</td><td>List()</td><td>List(RepDeFiFidonia)</td><td>RT @RepDeFiFidonia: Que raro 🤔\n",
              "\n",
              "No se enviaría un avión por 4 mexicanos que pueden salir de la zona de Wuhan, China (18 en total), porque n…</td><td>neutral</td></tr><tr><td>31-01-2020  05:09</td><td>DMVecinal</td><td>List()</td><td>List(NewsweekEspanol)</td><td>RT @NewsweekEspanol: Wuhan se ha convertido en un pueblo fantasma, después de que las autoridades instaran a la población a no salir de sus…</td><td>neutral</td></tr><tr><td>31-01-2020  05:09</td><td>ShibakoTeam</td><td>List()</td><td>List(katsuyatakasu)</td><td>RT @katsuyatakasu: よかった。気が変わらないうちに帰ってもらおう。 https://t.co/Mhy3Hk6Wyr</td><td>neutral</td></tr><tr><td>31-01-2020  05:09</td><td>KBbmxx</td><td>List()</td><td>List(kimbobby_th)</td><td>RT @kimbobby_th: เพื่อสุขภาพและความปลอดภัยของศิลปิน สตาฟ แฟนคลับ และคนอื่นๆ พวกเราขอเรียกร้องให้ YGE พิจารณาที่จะยกเลิก/เลื่อนกำหนดการเกี่ย…</td><td>neutral</td></tr><tr><td>31-01-2020  05:09</td><td>grovej3t</td><td>List()</td><td>List(ronaldgem)</td><td>RT @ronaldgem: JANUARY 21 - The woman who has the first confirmed case of the novel coronavirus arrived in the Philippines from Wuhan, Chin…</td><td>positive</td></tr><tr><td>31-01-2020  05:09</td><td>zaumuller</td><td>List(Germany)</td><td>List(Schuldensuehner)</td><td>RT @Schuldensuehner: Good morning from #Germany where savers are being hit hard. Real yields (10y Bund yields-inflation) has dropped below…</td><td>positive</td></tr><tr><td>31-01-2020  05:09</td><td>ArianaeNicki</td><td>List()</td><td>List(gasfeer_)</td><td>RT @gasfeer_: a dengue ao descobrir que o corona virus chegou ao Brasil\n",
              "\n",
              " https://t.co/uA33rf8TKk</td><td>neutral</td></tr><tr><td>31-01-2020  05:09</td><td>fujiringo616</td><td>List()</td><td>List(soIamnowhere2)</td><td>RT @soIamnowhere2: 連仔之前咪話\n",
              "要硬塞「武漢肺炎」/「中国肺炎」個名比佢既\n",
              "WSJ而家直接叫「共黨肺炎」\n",
              "好似仲勁🙈\n",
              "https://t.co/lAIJvIJXBk https://t.co/OZvWRbcZxw</td><td>neutral</td></tr><tr><td>31-01-2020  05:09</td><td>Grziazz</td><td>List(หน้ากากอนามัยn95, หน้ากากอนามัยญี่ปุ่น, หน้ากากกันฝุ่น)</td><td>List(samit257489)</td><td>RT @samit257489: หากไปซื้อหน้ากากอนามัยแล้วพบว่าเขาขายเกินราคาโปรดโทรแจ้ง #หน้ากากอนามัยn95 #หน้ากากอนามัยญี่ปุ่น #หน้ากากกันฝุ่น #โรคปอดอั…</td><td>neutral</td></tr><tr><td>31-01-2020  05:09</td><td>LandNoli</td><td>List()</td><td>List(Sunshin58249206, LandNoli, SuperiorZulu)</td><td>RT @Sunshin58249206: @LandNoli @SuperiorZulu \n",
              "Can the media stop this Corona Virus nonsense and tell us about this 300billion that was lost…</td><td>neutral</td></tr><tr><td>31-01-2020  05:09</td><td>marshahagerty</td><td>List()</td><td>List(deefizzy)</td><td>RT @deefizzy: i can get this perfume bottle from China for 30 cents...you'd think with Tana money and the care she seems to have for her fa…</td><td>neutral</td></tr><tr><td>31-01-2020  05:09</td><td>jhnamaral</td><td>List()</td><td>List()</td><td>Thank you, China, you’re wonderful https://t.co/ecu3r7M1D2</td><td>positive</td></tr><tr><td>31-01-2020  05:09</td><td>DirvijayR</td><td>List(coronavirusindia)</td><td>List(MoHFW_INDIA)</td><td>RT @MoHFW_INDIA: #coronavirusindia :\n",
              "\n",
              "Help us to help YOU.\n",
              "\n",
              "A 24*7 HelpLine number is operational to provide information on queries regardi…</td><td>neutral</td></tr><tr><td>31-01-2020  05:09</td><td>talaymam</td><td>List()</td><td>List(Martha_Vickers)</td><td>RT @Martha_Vickers: Sokakta ölmüş bir adam \n",
              "Wuhan korona virus krizini anlatan görüntü</td><td>neutral</td></tr><tr><td>31-01-2020  05:09</td><td>hominmochi</td><td>List()</td><td>List(amasehimika147)</td><td>RT @amasehimika147: 今年の年運コード210のゲートを通して「耳の尖った悪魔」は、日本全国に新型コロナウイルスを撒き散らしていくでしょう。\n",
              "\n",
              "チャーター第2便到着、13人が体調不良　210人帰国（朝日新聞）2020年1月30日\n",
              "https://t.co/O5V…</td><td>neutral</td></tr><tr><td>31-01-2020  05:09</td><td>yngvehere</td><td>List()</td><td>List()</td><td>RT @oshprintt: can someone explain to me how tf exo's are on hiatus, some serving in military, one busy in china  they're sabotaged by sm ,…</td><td>neutral</td></tr><tr><td>31-01-2020  05:09</td><td>omeza58307419</td><td>List(30Ene, Coronavirus, coronavirus)</td><td>List(ReporteYa)</td><td>RT @ReporteYa: #30Ene #Coronavirus \"En total, hay 7834 casos confirmados de #coronavirus, un 99% de ellos en China. 170 personas ha muerto,…</td><td>neutral</td></tr><tr><td>31-01-2020  05:09</td><td>Chinesepop</td><td>List()</td><td>List()</td><td>Explainer: What is a super spreader of diseases like the Wuhan coronavirus?\n",
              "https://t.co/2EuwUldvIH\n",
              "\n",
              "Download the TODAY app at https://t.co/pzP2j5QBya</td><td>positive</td></tr><tr><td>31-01-2020  05:09</td><td>eesanjenews</td><td>List(WHO, Declares, GlobalEmergency, Wuhan, Coronavirus, Spreads)</td><td>List()</td><td>ಕೊರೊನಾ ವೈರಸ್‍ಗೆ 225 ಬಲಿ, ಜಾಗತಿಕ ತುರ್ತು ಪರಿಸ್ಥಿತಿ ಘೋಷಣೆ..!\n",
              "https://t.co/dL1dd0HHih\n",
              "\n",
              "#WHO #Declares #GlobalEmergency  #Wuhan #Coronavirus #Spreads</td><td>neutral</td></tr><tr><td>31-01-2020  05:09</td><td>Fischer_India_</td><td>List(coronavirus, coronavirusoutbreak, coronaviruses, coronavirus2020, coronavirusnews, safe, infection, coughing, sneezing, fever, cough, worldhealthorganization, worldhealth)</td><td>List()</td><td>Here’s what you need to know about the Corona Virus Safety tips!!! Share and Spread the Awareness. Be safe.\n",
              "\n",
              "#coronavirus #coronavirusoutbreak #coronaviruses #coronavirus2020 #coronavirusnews #safe #infection #coughing #sneezing #fever #cough #worldhealthorganization #worldhealth https://t.co/bNVCN6RNjH</td><td>positive</td></tr><tr><td>31-01-2020  05:09</td><td>maritochez</td><td>List()</td><td>List()</td><td>Ya nos alcanzó el destino ! https://t.co/ahMFmhGkdT</td><td>neutral</td></tr><tr><td>31-01-2020  05:09</td><td>Factuallyaccur2</td><td>List()</td><td>List()</td><td>What a stupid fucking tweet https://t.co/p6gfeQvkA0</td><td>negative</td></tr><tr><td>31-01-2020  05:09</td><td>ProBryan_</td><td>List()</td><td>List()</td><td>😕😕😕 https://t.co/QWN5eZ7tpK</td><td>neutral</td></tr><tr><td>31-01-2020  05:09</td><td>BryanGallegos88</td><td>List(Coronavirus)</td><td>List(ericgrod)</td><td>@ericgrod #Coronavirus 🧐</td><td>neutral</td></tr><tr><td>31-01-2020  05:09</td><td>Beyaglu</td><td>List()</td><td>List(dbongino)</td><td>RT @dbongino: This is a real tweet. I’m not kidding. The intellectual lightweights at CNN really thought this unbelievably stupid tweet was…</td><td>negative</td></tr><tr><td>31-01-2020  05:09</td><td>nnyxim</td><td>List()</td><td>List(zornitsaxx)</td><td>RT @zornitsaxx: WHO ประกาศให้ coronavirus เป็นภาวะฉุกเฉินทั่วโลก โดยเหตุผลหลักสำหรับการประกาศนี้ไม่ใช่เพราะเป็นเรื่องที่เกิดขึ้นในประเทศจีน…</td><td>neutral</td></tr><tr><td>31-01-2020  05:09</td><td>IxzelJimnez</td><td>List(coronavirus, Coronavirusmexico)</td><td>List(Gerry_AMM)</td><td>RT @Gerry_AMM: https://t.co/AqvLtYqDDJ\n",
              "Este es el tracker de la enfermedad más preciso que he visto #coronavirus #Coronavirusmexico</td><td>neutral</td></tr><tr><td>31-01-2020  05:09</td><td>seannps</td><td>List()</td><td>List(MrVop)</td><td>RT @MrVop: WHO ประกาศให้การ​ระบาด​ของ 2019-nCoV​เป็น​ภาวะฉุกเฉินด้านสุขภาพระดับโลกแล้ว https://t.co/5HAurtGtbt</td><td>neutral</td></tr><tr><td>31-01-2020  05:09</td><td>boho_joshua19</td><td>List()</td><td>List(PoliticalShort)</td><td>RT @PoliticalShort: \"We had 9 open investigations of classified leaks in the past 3 years. We have 27 investigations open today. The leaks…</td><td>negative</td></tr><tr><td>31-01-2020  05:09</td><td>ElAlam_Vnz</td><td>List()</td><td>List(NZStuff)</td><td>RT @NZStuff: Coronavirus is not 'Chinese' - don't racialise it because we all have to be prepared https://t.co/SVVM2eRETL</td><td>neutral</td></tr><tr><td>31-01-2020  05:09</td><td>PakNgai</td><td>List(Corona)</td><td>List(SZ)</td><td>RT @SZ: Bislang ist aus Russland zwar noch keine Infektion mit dem #Corona-Virus bekannt. Trotzdem beschließt Moskau nun, die Grenze zu Chi…</td><td>neutral</td></tr><tr><td>31-01-2020  05:09</td><td>FacuCorvexx</td><td>List()</td><td>List(_joaqomartinez)</td><td>RT @_joaqomartinez: -Con un posible caso de coronavirus detectado en Pergamino, profesor Cocoon diría ud. que es momento de entregarse al p…</td><td>neutral</td></tr><tr><td>31-01-2020  05:09</td><td>Rosana_Laurelli</td><td>List()</td><td>List(tdbem)</td><td>RT @tdbem: o corona vírus se chegar no brasil não vai entrar nem no top 5 maiores problemas que a gente tem</td><td>negative</td></tr><tr><td>31-01-2020  05:09</td><td>AuroraShion</td><td>List()</td><td>List(noblepuchuu)</td><td>RT @noblepuchuu: The amount of sinophobia and xenophobia on my TL about this is disgusting. Y’all will die from the flu before you die from…</td><td>negative</td></tr><tr><td>31-01-2020  05:09</td><td>treehows</td><td>List()</td><td>List(emtpyvase)</td><td>RT @emtpyvase: someone said “this is what happened when rats heard about the corona virus they dont wanna take the blame again” LMAOOOOOO h…</td><td>neutral</td></tr><tr><td>31-01-2020  05:09</td><td>tankokleongleo1</td><td>List()</td><td>List()</td><td>Wuhan coronavirus: Your most-asked questions https://t.co/UbpDjBvwbS</td><td>neutral</td></tr><tr><td>31-01-2020  05:09</td><td>abellamarjy</td><td>List()</td><td>List(lovedsinner21)</td><td>RT @lovedsinner21: Can the government produce another million of masks then distribute (or even sell in the cheapest cost) them to the fami…</td><td>neutral</td></tr><tr><td>31-01-2020  05:09</td><td>edwardtabaquin_</td><td>List()</td><td>List(helloalegria)</td><td>RT @helloalegria: coronavirus has been racialised as a \"chinese\" illness and for this reason chinese people, regardless of their proximity…</td><td>neutral</td></tr><tr><td>31-01-2020  05:09</td><td>queenbee_xxii</td><td>List()</td><td>List(HoverthroneKing)</td><td>RT @HoverthroneKing: China bullies you, China disregards your laws, China disrespects your historic sites, China takes your territorial rig…</td><td>neutral</td></tr><tr><td>31-01-2020  05:09</td><td>Bazilis</td><td>List()</td><td>List()</td><td>Britský evakuační let... B747 od Vamos. Nakonec ty B747 a A380 ještě k něčemu jsou :-) https://t.co/snbpH2hz9F</td><td>positive</td></tr><tr><td>31-01-2020  05:09</td><td>tlrnsibesnick05</td><td>List()</td><td>List(gmanews)</td><td>RT @gmanews: BREAKING: President Rodrigo Duterte approves temporary travel ban to those who will be coming from Wuhan City and the entire H…</td><td>neutral</td></tr><tr><td>31-01-2020  05:09</td><td>manggarxz</td><td>List()</td><td>List(AKUANAKWATAN)</td><td>RT @AKUANAKWATAN: Tanda tanda terkena virus corona\n",
              "\n",
              "1. Janji manipesto tapi mungkir janji\n",
              "2. Cakap selalu bohong\n",
              "3. Suka u-turn ke 360 turn…</td><td>neutral</td></tr><tr><td>31-01-2020  05:09</td><td>hongkongmacauer</td><td>List(Corona)</td><td>List(SZ)</td><td>RT @SZ: Bislang ist aus Russland zwar noch keine Infektion mit dem #Corona-Virus bekannt. Trotzdem beschließt Moskau nun, die Grenze zu Chi…</td><td>neutral</td></tr><tr><td>31-01-2020  05:09</td><td>ahhbraham</td><td>List(AHORA)</td><td>List(WalhallaMann)</td><td>RT @WalhallaMann: #AHORA\n",
              "\n",
              "🔴 URGENTE: Hospital San José de Pergamino en las afueras de Buenos Aires, Argentina activa un protocolo de emerge…</td><td>neutral</td></tr><tr><td>31-01-2020  05:09</td><td>Jianthesaint</td><td>List()</td><td>List()</td><td>Naku wag na po. Nakakahiya naman. Focus na lang po tayo sa Kobe exhibit. https://t.co/b512Nygru3</td><td>neutral</td></tr><tr><td>31-01-2020  05:09</td><td>caparica1975</td><td>List(referencias, ifttt, feedly)</td><td>List()</td><td>Coronavirus Is Now a Public Health Emergency—What Does That Mean? https://t.co/buO8BM4G9P #referencias #ifttt #feedly</td><td>negative</td></tr><tr><td>31-01-2020  05:09</td><td>kurweezy_</td><td>List()</td><td>List(atrupar)</td><td>RT @atrupar: Secretary Wilbur Ross says coronavirus will be good for [checks notes] American jobs: \"I think it will help to accelerate the…</td><td>positive</td></tr><tr><td>31-01-2020  05:09</td><td>edwxrdz</td><td>List()</td><td>List(249Tae)</td><td>RT @249Tae: Man if y’all don’t throw dat bitch in da water</td><td>neutral</td></tr><tr><td>31-01-2020  05:09</td><td>audrey12091</td><td>List()</td><td>List(SenTomCotton)</td><td>RT @SenTomCotton: The Wuhan coronavirus is a catastrophe on the scale of Chernobyl for China, only Chernobyl was localized. The coronavirus…</td><td>neutral</td></tr><tr><td>31-01-2020  05:09</td><td>PnglimaAwang1</td><td>List()</td><td>List(umnoonline)</td><td>RT @umnoonline: Pandemik Koronavirus: Pemimpin PH Jangan Serlahkan Kedangkalan, Kebodohan Sendiri https://t.co/L6RsRjzQBb</td><td>neutral</td></tr><tr><td>31-01-2020  05:09</td><td>anirz01</td><td>List()</td><td>List(WHO)</td><td>When @WHO announced coronavirus epidemic as a global emergency, it sounded so much like not to offend China, and reluctant to do so. Agree economy matters, but human lives matter more.</td><td>positive</td></tr><tr><td>31-01-2020  05:09</td><td>exploit334</td><td>List()</td><td>List(_nat)</td><td>RT @_nat: ま、ヨーロッパの人権意識なんて所詮ファッションだよね。＞新型コロナウイルス　伊の国立音楽院「すべての東洋人へのレッスン中止」 https://t.co/IeKeVTm6nO</td><td>neutral</td></tr><tr><td>31-01-2020  05:09</td><td>canadaknife</td><td>List(China)</td><td>List(DrTedros)</td><td>RT @DrTedros: In many ways, #China is actually setting a new standard for outbreak response. Our greatest concern is the potential for the…</td><td>positive</td></tr><tr><td>31-01-2020  05:09</td><td>__sssxo</td><td>List()</td><td>List(ManilaPIO)</td><td>RT @ManilaPIO: CORONAVIRUS PREVENTION TIPS: Kindly see the list of recommendations to prevent the spread of viruses according to the Depart…</td><td>positive</td></tr><tr><td>31-01-2020  05:09</td><td>DogComment</td><td>List()</td><td>List()</td><td>Si el virus Wuhan se originó en los murciélagos, será uno de los muchos que los animales tolerarán sin efectos nocivos, tal vez debido a un sistema inmune inusual. https://t.co/VnZkrHMs42</td><td>neutral</td></tr><tr><td>31-01-2020  05:09</td><td>jjpisforever</td><td>List()</td><td>List()</td><td>Duterte acting like he gives a shit about the Philippines but in reality he isn't doing us any favors. Imposing a travel ban from Wuhan when it's already in lockdown?! Nice 🙄</td><td>positive</td></tr><tr><td>31-01-2020  05:09</td><td>janeleynjeeel</td><td>List()</td><td>List(gmanews)</td><td>RT @gmanews: The official name of the disease is 2019 novel coronavirus acute respiratory disease (2019-nCoV ARD), according to DOH Usec. E…</td><td>positive</td></tr><tr><td>31-01-2020  05:09</td><td>mylo1979</td><td>List()</td><td>List(Chriseldalewis)</td><td>RT @Chriseldalewis: Health Minister Dr Zweli Mkhize has arrived. He is to brief the media in Johannesburg on South Africa's plans following…</td><td>neutral</td></tr><tr><td>31-01-2020  05:09</td><td>NuranishaS</td><td>List()</td><td>List(JPenerangan, japenperak)</td><td>RT @JPenerangan: Jabatan Penerangan Malaysia, 30 Jan 2020, Negeri Perak [2/2]@japenperak \n",
              "🔶 Pengkalan Hulu\n",
              "🔶 Parit Buntar\n",
              "🔶 Daerah Kinta\n",
              "\n",
              "F…</td><td>neutral</td></tr><tr><td>31-01-2020  05:09</td><td>LoreyJeanene</td><td>List()</td><td>List(WhipClyburn)</td><td>RT @WhipClyburn: This President's trade war w/ China is hurting Americans.\n",
              "\n",
              "It’s forcing Boeing to cut production for the second time at it…</td><td>neutral</td></tr><tr><td>31-01-2020  05:09</td><td>devalara44</td><td>List()</td><td>List(jamesmassola)</td><td>RT @jamesmassola: Medical experts raise concerns about Indonesia's ability to detect novel coronavirus. The reagents - chemicals used in sp…</td><td>neutral</td></tr><tr><td>31-01-2020  05:09</td><td>karalyneporter</td><td>List()</td><td>List(KaizokuNigga)</td><td>RT @KaizokuNigga: This nigga is our one and only hope against the coronavirus https://t.co/tRrK5QblMO</td><td>neutral</td></tr><tr><td>31-01-2020  05:09</td><td>AL3X830</td><td>List()</td><td>List(CNNEE)</td><td>RT @CNNEE: En Wuhan, las personas que se ven fuera de sus casas están en los pocos supermercados abiertos, donde cada vez es más difícil en…</td><td>neutral</td></tr><tr><td>31-01-2020  05:09</td><td>wing69434331</td><td>List(Chinese, Communist, HongKongProtesters)</td><td>List(steve_hanke)</td><td>RT @steve_hanke: Pro-#Chinese, #Communist thugs brutalize #HongKongProtesters peacefully protesting China's influence in HK. Intimidation i…</td><td>positive</td></tr><tr><td>31-01-2020  05:09</td><td>la_pomme_noir</td><td>List(Chine, coronarvirus)</td><td>List(Conflits_FR)</td><td>RT @Conflits_FR: 🔴 ÉPIDÉMIE : Bilan en #Chine du #coronarvirus\n",
              "- 9 171 patients infectés dans le 🗺 \n",
              "- 12 167 cas suspects \n",
              "- 213 morts\n",
              "- 1…</td><td>neutral</td></tr><tr><td>31-01-2020  05:09</td><td>faezmir</td><td>List()</td><td>List(WHOMalaysia)</td><td>RT @WHOMalaysia: WHO is declaring the 2019-novel corona virus a Public Health Emergency of International Concern. ⬇️</td><td>neutral</td></tr><tr><td>31-01-2020  05:09</td><td>atheerfalharbi</td><td>List(فيروس_كورونا)</td><td>List(WHOEMRO)</td><td>RT @WHOEMRO: منظمة الصحة العالمية تعلن فاشية #فيروس_كورونا المستجد طارئة صحة عامة تثير قلقاً دوليا</td><td>neutral</td></tr><tr><td>31-01-2020  05:09</td><td>MSAnsar72582467</td><td>List(coronavirus, Africa)</td><td>List(WHOAFRO, WHO)</td><td>RT @WHOAFRO: There are currently no confirmed cases of #coronavirus in #Africa, but @WHO recommends taking preventive actions while traveli…</td><td>negative</td></tr><tr><td>31-01-2020  05:09</td><td>MadameWoo69</td><td>List()</td><td>List()</td><td>Trump says Coronavirus outbreak will ‘have a very good ending for us’ https://t.co/gdEMscKwT4</td><td>positive</td></tr><tr><td>31-01-2020  05:09</td><td>mpssolafna</td><td>List()</td><td>List(doctormacias)</td><td>RT @doctormacias: 2019 nCoV \n",
              "Debemos actuar ahora para ayudar a los países a prepararse.\n",
              "\n",
              "Este es el momento de los hechos, no del miedo.…</td><td>neutral</td></tr><tr><td>31-01-2020  05:09</td><td>wellingtonchira</td><td>List()</td><td>List(theworldindex)</td><td>RT @theworldindex: The Most Innovative Economies 2020\n",
              "\n",
              "1.🇩🇪Germany\n",
              "2.🇰🇷S. Korea\n",
              "3.🇸🇬Singapore\n",
              "4.🇨🇭Switzerland\n",
              "5.🇸🇪Sweden\n",
              "6.🇮🇱Israel\n",
              "7.🇫🇮Fin…</td><td>positive</td></tr><tr><td>31-01-2020  05:09</td><td>twt_zuhdi</td><td>List(coronarvirus)</td><td>List(KKMPutrajaya)</td><td>RT @KKMPutrajaya: WHO mengisytiharkan wabak novel #coronarvirus di Wuhan sebagai kecemasan kesihatan global (PHEIC) selepas mengadakan mesy…</td><td>neutral</td></tr><tr><td>31-01-2020  05:09</td><td>erusaremu464</td><td>List()</td><td>List(katsuyatakasu)</td><td>RT @katsuyatakasu: よかった。気が変わらないうちに帰ってもらおう。 https://t.co/Mhy3Hk6Wyr</td><td>neutral</td></tr><tr><td>31-01-2020  05:09</td><td>kerrbilog</td><td>List()</td><td>List()</td><td>RT @juleshatt: I DONT WANT TO DIE A VIRGIN\n",
              "\n",
              "BAN THE FLIGHTS FROM CHINA</td><td>neutral</td></tr><tr><td>31-01-2020  05:09</td><td>NorthDallas8</td><td>List()</td><td>List()</td><td>疫情蔓延，世界为中国的独裁统治付出代价 https://t.co/PYmDhXaStg</td><td>neutral</td></tr><tr><td>31-01-2020  05:09</td><td>Snowlily518</td><td>List(Wuhan)</td><td>List(HimalayaGlobal)</td><td>RT @HimalayaGlobal: Dr. Hu Ming, director of ICU at #Wuhan Pulmonary Hospital, received a phone call in an interview and wept silently: the…</td><td>neutral</td></tr><tr><td>31-01-2020  05:09</td><td>kdytherabbit</td><td>List()</td><td>List(kathbarbadoro)</td><td>RT @kathbarbadoro: Coronavirus is scary enough to make Americans racist about Chinese people but not scary enough to make Americans start w…</td><td>negative</td></tr><tr><td>31-01-2020  05:09</td><td>rcarvnaaa</td><td>List()</td><td>List(kuyaaisko)</td><td>RT @kuyaaisko: See? Russia is a close ally of China too (if we can really call China our ally 🥴) but they chose to prioritize their citizen…</td><td>positive</td></tr><tr><td>31-01-2020  05:09</td><td>QuantumFG</td><td>List()</td><td>List(chrismd10, AnEsonGib)</td><td>@chrismd10 @AnEsonGib Off to China we go</td><td>neutral</td></tr><tr><td>31-01-2020  05:09</td><td>johnnybgud64</td><td>List()</td><td>List(leeleeb50)</td><td>RT @leeleeb50: Today I received a free vaccine for Hepatitis A.\n",
              "\n",
              "There has been an outbreak (625 cases) in South Carolina so DHEC (Health D…</td><td>positive</td></tr><tr><td>31-01-2020  05:09</td><td>DrKrahenbuhl</td><td>List(news)</td><td>List(CNNPolitics)</td><td>@CNNPolitics Why are you so drunk on Critical Theory bullshit that you think this is #news \n",
              "\n",
              "Grow up you ignorant fools!!!\n",
              "\n",
              "Report on news - Coronavirus, check; Trump assembles a team to plan for dealing with it, ok; the teams skin pigmentation has NOTHING to do with it's ability to succeed</td><td>neutral</td></tr><tr><td>31-01-2020  05:09</td><td>DrRamanaprasadv</td><td>List(corona, Symptoms, prevention)</td><td>List()</td><td>#corona virus infection #Symptoms #prevention https://t.co/Vj28Z138M5</td><td>neutral</td></tr><tr><td>31-01-2020  05:09</td><td>hermosa_thi</td><td>List()</td><td>List(sofi_zai)</td><td>RT @sofi_zai: that frog is from wuhan</td><td>neutral</td></tr><tr><td>31-01-2020  05:09</td><td>IbrahimMuqsit</td><td>List()</td><td>List(Chronotope)</td><td>RT @Chronotope: Anytime a rich person donates money, this is how you should report it. https://t.co/HSXzXB4lKG</td><td>positive</td></tr><tr><td>31-01-2020  05:09</td><td>Omid_Madjdi</td><td>List(IslamicRepublicofIran, coronavirus)</td><td>List()</td><td>So far,  #IslamicRepublicofIran was more lethal than #coronavirus.\n",
              "Let's hope both of them stop killing people.</td><td>positive</td></tr><tr><td>31-01-2020  05:09</td><td>_neguere</td><td>List()</td><td>List()</td><td>Medo, pois estive lá hoje https://t.co/tlULON0CtE</td><td>neutral</td></tr><tr><td>31-01-2020  05:09</td><td>writtenbyjuh</td><td>List()</td><td>List(gasfeer_)</td><td>RT @gasfeer_: a dengue ao descobrir que o corona virus chegou ao Brasil\n",
              "\n",
              " https://t.co/uA33rf8TKk</td><td>neutral</td></tr><tr><td>31-01-2020  05:09</td><td>imakulpeopleman</td><td>List()</td><td>List(CNNPolitics)</td><td>@CNNPolitics Time to pull a rabbit out of your hat! What is it? Coronavirus diversity! Go with it!</td><td>neutral</td></tr><tr><td>31-01-2020  05:09</td><td>Aboosh</td><td>List()</td><td>List(spectatorindex)</td><td>RT @spectatorindex: BREAKING: Over 15,000 cases of  suspected coronavirus in China</td><td>neutral</td></tr><tr><td>31-01-2020  05:09</td><td>ediliamol</td><td>List(China)</td><td>List(Finanzas_Time)</td><td>RT @Finanzas_Time: #China 🇨🇳\n",
              "\n",
              "Sólo con ver la reacción manteniendo la distancia (a pesar de estar perfectamente equipados) de estos dos san…</td><td>neutral</td></tr><tr><td>31-01-2020  05:09</td><td>Diurpagissa</td><td>List()</td><td>List(ValLisitsa)</td><td>RT @ValLisitsa: В США наконец придумали название для нового вируса - КОММУНИСТИЧЕСКИЙ КОРОНАВИРУС. https://t.co/aZWgf38dSg</td><td>neutral</td></tr><tr><td>31-01-2020  05:09</td><td>MauroGM3</td><td>List()</td><td>List()</td><td>This is infuriating. I’m sorry this happened to this child &amp; parent. https://t.co/ZCHahGDmy6</td><td>negative</td></tr><tr><td>31-01-2020  05:09</td><td>tlamelo_tsogwan</td><td>List()</td><td>List()</td><td>Rona ba di sinus remo mathateng setse re tshaba le go ethimola. Batho ga ba re lebe sentle, hae nna le ene China ga ke itse gore o foo kae moo map'ng. Le sone sefofane ga ke itse gore aa se palamelwa ka koo mojeng kana kako molemeng</td><td>neutral</td></tr><tr><td>31-01-2020  05:09</td><td>HannsPnB</td><td>List()</td><td>List(KasamangChad)</td><td>RT @KasamangChad: HA BAKIT MAY PA QUIZ BEE??</td><td>neutral</td></tr><tr><td>31-01-2020  05:09</td><td>KLKcanna</td><td>List()</td><td>List()</td><td>Cause everybody is dying 😂 https://t.co/TDofCWbrlR</td><td>neutral</td></tr><tr><td>31-01-2020  05:09</td><td>DamatoRicardo</td><td>List()</td><td>List()</td><td>100,000 Chinese \"Under Observation\" As Coronavirus Deaths Soar; State Dept Issues \"Do Not Travel\" To China\" Advisory | Zero Hedge https://t.co/WqNQ9fwe44</td><td>neutral</td></tr><tr><td>31-01-2020  05:09</td><td>godlylisaa</td><td>List()</td><td>List(kuyaaisko)</td><td>RT @kuyaaisko: See? Russia is a close ally of China too (if we can really call China our ally 🥴) but they chose to prioritize their citizen…</td><td>positive</td></tr><tr><td>31-01-2020  05:09</td><td>shardi596</td><td>List()</td><td>List()</td><td>First case of coronavirus spread by a person showing no symptoms - STAT https://t.co/4tVLa4OT0q</td><td>positive</td></tr><tr><td>31-01-2020  05:09</td><td>mariabeatrizz__</td><td>List()</td><td>List(HarveyKeh)</td><td>RT @HarveyKeh: Sa mga nagpapanic ngayon dahil andito na nga ang Coronavirus, sana makita ninyo kung gaano kahalaga na bumoto tayo ng mga pi…</td><td>neutral</td></tr><tr><td>31-01-2020  05:09</td><td>CeciliaConcilio</td><td>List()</td><td>List(DeniseMaerker)</td><td>RT @DeniseMaerker: En China así van los trabajos de construcción del hospital para pacientes contagiados de coronavirus; prevén tenerlo lis…</td><td>neutral</td></tr><tr><td>31-01-2020  05:09</td><td>Varun_Kothuri</td><td>List()</td><td>List(VishnuNDTV, airindiain)</td><td>RT @VishnuNDTV: 1. As the WHO declares the coronovirus a global health emergency, lets spare a thought for the @airindiain pilots, crew mem…</td><td>neutral</td></tr><tr><td>31-01-2020  05:09</td><td>strom77</td><td>List()</td><td>List(elbaronnews, evoespueblo)</td><td>RT @elbaronnews: 📢\n",
              "-Ahhh pero para traer al cabeza pulguienta de @evoespueblo no hubo bronca violando espacios aéreos, trayendo un narcotra…</td><td>neutral</td></tr><tr><td>31-01-2020  05:09</td><td>myfocusonme28</td><td>List()</td><td>List()</td><td>No me importa si la gente se burla por mis estúpidos miedos pero me acuesto todos los días pensando en un apocalipsis zombie, y esto del coronavirus... 🙄😂🙊</td><td>neutral</td></tr><tr><td>31-01-2020  05:09</td><td>CTenunan</td><td>List(coronavirus, CoronavirusOutbreak)</td><td>List(choculate)</td><td>RT @choculate: Really appreciated the humanity act! \n",
              " \n",
              "#coronavirus #CoronavirusOutbreak https://t.co/C5rZTlPj2y</td><td>positive</td></tr><tr><td>31-01-2020  05:09</td><td>HugaWendy</td><td>List()</td><td>List(CBSNews)</td><td>RT @CBSNews: Pilot union sues American Airlines to stop service to China https://t.co/s62FcGovGy https://t.co/YEkA2RkTCa</td><td>neutral</td></tr><tr><td>31-01-2020  05:09</td><td>pogee_sana</td><td>List()</td><td>List()</td><td>sana pari coronavirus meron ka narin</td><td>neutral</td></tr><tr><td>31-01-2020  05:09</td><td>RudraBhawani</td><td>List()</td><td>List(arifaajakia)</td><td>RT @arifaajakia: American Movie Contagion was released in 2011 speaks of Coronavirus-like virus, begins spreading from China to the rest of…</td><td>neutral</td></tr><tr><td>31-01-2020  05:09</td><td>Eve_lynn_96</td><td>List(ForbesUnder30)</td><td>List(Forbes)</td><td>RT @Forbes: Mammoth Biosciences, a company founded by #ForbesUnder30 members that uses gene-editing technology Crispr for disease testing,…</td><td>neutral</td></tr><tr><td>31-01-2020  05:09</td><td>crl_lsnd</td><td>List()</td><td>List(47Ronan)</td><td>RT @47Ronan: My friend who works at WHO is so frustrated about the first case of coronavirus.\n",
              "\n",
              "\"Namasyal pa ng Cebu at Dumaguete si ate Chi…</td><td>negative</td></tr><tr><td>31-01-2020  05:09</td><td>rjsprrs_</td><td>List()</td><td>List(vance_larena)</td><td>RT @vance_larena: They say that nCoV is at least 10x worse than SARS. \n",
              "\n",
              "The way things are going, the GOV’T is 10x worse than any virus.</td><td>negative</td></tr><tr><td>31-01-2020  05:09</td><td>dontbearsehole</td><td>List()</td><td>List(noppatjak)</td><td>RT @noppatjak: ราคามาตรฐานของหน้ากากอนามัย (แบบปกติ ไม่ใช่ N95) คือชิ้นละ 2 บาท</td><td>neutral</td></tr><tr><td>31-01-2020  05:09</td><td>cammisoledad18</td><td>List()</td><td>List(LucasScuteri)</td><td>RT @LucasScuteri: un gustazo gente nos vemos en otra vida</td><td>neutral</td></tr><tr><td>31-01-2020  05:09</td><td>GUILLER35556323</td><td>List()</td><td>List(noelia_arauz)</td><td>RT @noelia_arauz: Presentan comisión interinstitucional ante emergencia de importancia internacional por el coronavirus. Ministerio de salu…</td><td>neutral</td></tr><tr><td>31-01-2020  05:09</td><td>jdawggyy</td><td>List()</td><td>List()</td><td>RT @eldelmustang_: How the fuck that virus from china get here before my W-2 Forms smh</td><td>negative</td></tr><tr><td>31-01-2020  05:09</td><td>scarHKnumber1</td><td>List(China, WuhanCoronavirusis, coronavirus)</td><td>List(JenniferHYChan)</td><td>RT @JenniferHYChan: A #China woman suspected to be infected with #WuhanCoronavirusis being taken away. \n",
              "\n",
              "#coronavirus \n",
              ".\n",
              " https://t.co/nofW…</td><td>neutral</td></tr><tr><td>31-01-2020  05:09</td><td>OHMYGODLISA</td><td>List()</td><td>List(Magnethic_flux)</td><td>RT @Magnethic_flux: DOH: stay away from crowded places to lessen the risk of coronavirus\n",
              "\n",
              "filipinos who commute: https://t.co/x48vn1pbTi</td><td>neutral</td></tr><tr><td>31-01-2020  05:09</td><td>Jathwrone</td><td>List(nCoV2020, nCoV, CoronavirusOutbreak, coronavirusindia)</td><td>List(env_cleanindia)</td><td>RT @env_cleanindia: Useful information ‼️\n",
              "Different types of masks. #nCoV2020 #nCoV #CoronavirusOutbreak #coronavirusindia #WuhanCoronaviru…</td><td>positive</td></tr><tr><td>31-01-2020  05:09</td><td>OffbeatChina</td><td>List()</td><td>List(iChinadian)</td><td>RT @iChinadian: BBC News - Coronavirus: Cement mixers become celebrities in China lockdown https://t.co/0mmXVyBUit</td><td>neutral</td></tr><tr><td>31-01-2020  05:09</td><td>MollyMcCluskey1</td><td>List()</td><td>List(amarasxx)</td><td>RT @amarasxx: gonna watch every episode of the Simpsons so I know what’s coming up in the world x</td><td>neutral</td></tr><tr><td>31-01-2020  05:09</td><td>stormtracker017</td><td>List()</td><td>List(AriFleischer)</td><td>RT @AriFleischer: Did you know that the Obama-Biden administration in 2016 fined JP Morgan $264 million for hiring the unqualified kids of…</td><td>neutral</td></tr><tr><td>31-01-2020  05:09</td><td>LuvGodFamUSA</td><td>List()</td><td>List(realDonaldTrump)</td><td>RT @realDonaldTrump: Working closely with China and others on Coronavirus outbreak. Only 5 people in U.S., all in good recovery.</td><td>positive</td></tr><tr><td>31-01-2020  05:09</td><td>CaughtInTheMid2</td><td>List(coronavirus)</td><td>List(AngelaBelcamino, realDonaldTrump)</td><td>RT @AngelaBelcamino: @realDonaldTrump Trump supporters are saying that they're not concerned about the #coronavirus cuz they drink Budweise…</td><td>neutral</td></tr><tr><td>31-01-2020  05:09</td><td>chokoolate_</td><td>List()</td><td>List(MalacananEvents)</td><td>@MalacananEvents Hello Coronavirus, we welcome you with open arms, feel free to visit malacañang and infect everyonw there, dont forget to stop by the President's office!</td><td>positive</td></tr><tr><td>31-01-2020  05:09</td><td>Mumu_n_d</td><td>List()</td><td>List(zornitsaxx)</td><td>RT @zornitsaxx: WHO ประกาศให้ coronavirus เป็นภาวะฉุกเฉินทั่วโลก โดยเหตุผลหลักสำหรับการประกาศนี้ไม่ใช่เพราะเป็นเรื่องที่เกิดขึ้นในประเทศจีน…</td><td>neutral</td></tr><tr><td>31-01-2020  05:09</td><td>markhazzard12</td><td>List()</td><td>List(francisabraham, PinoyAkoBlog)</td><td>RT @francisabraham: @PinoyAkoBlog Meron na. Huwag mo na raw alisin ang yung N95 mo. Mas maganda ka raw. Tapos mg shades na na rin.</td><td>negative</td></tr><tr><td>31-01-2020  05:09</td><td>mew_patiphim19</td><td>List(ไวรัสโคโรนาสายพันธุ์ใหม่2019)</td><td>List(thestandardth)</td><td>RT @thestandardth: องค์การอนามัยโลก (WHO) ประกาศให้การแพร่ระบาดของเชื้อ #ไวรัสโคโรนาสายพันธุ์ใหม่2019 เป็นภาวะฉุกเฉินทางด้านสาธารณสุขระหว่า…</td><td>neutral</td></tr><tr><td>31-01-2020  05:09</td><td>akhetaton11</td><td>List(coronavirus)</td><td>List(MinisteroSalute)</td><td>RT @MinisteroSalute: Primi due casi confermati di nuovo #coronavirus in Italia. Si tratta di due turisti cinesi ricoverati  all'Istituto Sp…</td><td>negative</td></tr><tr><td>31-01-2020  05:09</td><td>Andy15521388</td><td>List()</td><td>List(PENamerica)</td><td>RT @PENamerica: Sweden’s leading newspapers and broadcasters have together called on their government to take stronger action against China…</td><td>positive</td></tr><tr><td>31-01-2020  05:09</td><td>anilcaglyan</td><td>List()</td><td>List(WHO, DrTedros, WHOWPRO, WHOSEARO, pahowho, WHO_Europe, WHOEMRO, WHOAFRO)</td><td>RT @WHO: @DrTedros @WHOWPRO @WHOSEARO @pahowho @WHO_Europe @WHOEMRO @WHOAFRO 🚨BREAKING🚨\n",
              "\n",
              "\"For all of these reasons, I am declaring a public…</td><td>neutral</td></tr><tr><td>31-01-2020  05:09</td><td>andresd407</td><td>List()</td><td>List(fergiraldow)</td><td>RT @fergiraldow: DÍA CÍVICO EN COLOMBIA!!\n",
              "Gustavo Petro acaba de ser nombrado embajador en China. https://t.co/nW9rwhad3K</td><td>neutral</td></tr><tr><td>31-01-2020  05:09</td><td>ABSCBNNews</td><td>List(nCoV, coronavirus)</td><td>List(kristinesabillo)</td><td>@kristinesabillo WHO: Right now, we are looking at approximately 25% of #nCoV patients having severe symptoms. #coronavirus</td><td>negative</td></tr><tr><td>31-01-2020  05:09</td><td>Gaby_Rodrz</td><td>List()</td><td>List()</td><td>The virus 🦠 will affect Disney’s B.O this year https://t.co/eBIjKzAlqB</td><td>neutral</td></tr><tr><td>31-01-2020  05:09</td><td>ktsuji</td><td>List()</td><td>List(SCMPNews)</td><td>Coronavirus will hammer Hong Kong home prices, say analysts https://t.co/S1qLKqFZTA via @scmpnews</td><td>neutral</td></tr><tr><td>31-01-2020  05:09</td><td>hamanaeh</td><td>List()</td><td>List(liampclancy1)</td><td>RT @liampclancy1: China is the source of the contagion and has largest population of cases and therefore represent the highest risk to the…</td><td>neutral</td></tr><tr><td>31-01-2020  05:09</td><td>bekhyonz</td><td>List()</td><td>List(rapplerdotcom, janellaparis_)</td><td>RT @rapplerdotcom: BREAKING: Now 31 persons under investigation for 2019-nCoV as of noon today, January 31. | via @janellaparis_ \n",
              "\n",
              "Story to…</td><td>neutral</td></tr><tr><td>31-01-2020  05:09</td><td>Connectionary</td><td>List()</td><td>List(RoseDC11, RandPaul, AdamSchiff)</td><td>RT @RoseDC11: HOLY FRIGGIN COW!👇🏻👇🏻👇🏻\n",
              "\n",
              "THIS\n",
              "\n",
              "WAS\n",
              "\n",
              "✨✨BRILLIANT✨✨\n",
              "\n",
              "@RandPaul\n",
              "\n",
              "THANK YOU SIR!♥️🇺🇸\n",
              "\n",
              "I think this motivated @AdamSchiff  to LOSE…</td><td>neutral</td></tr><tr><td>31-01-2020  05:09</td><td>jaclyntheresej</td><td>List()</td><td>List(ABSCBNNews)</td><td>RT @ABSCBNNews: BREAKING: World Health Organization chief Tedros Adhanom Ghebreyesus has declared the new coronavirus outbreak a global hea…</td><td>positive</td></tr><tr><td>31-01-2020  05:09</td><td>itsmejasperg</td><td>List()</td><td>List(joshcoloreeed)</td><td>RT @joshcoloreeed: Overheard a conversation\n",
              "Ate girl: oa kayo ang mga tao ga mask nga layo raman ang virus sa cdo\n",
              "\n",
              "Ate??? This epidemic is…</td><td>neutral</td></tr><tr><td>31-01-2020  05:09</td><td>iskodoggo</td><td>List()</td><td>List()</td><td>pag talaga itong nCov eh maa-outlive pa ni enrile, di ko na alam. \n",
              "\n",
              "Baka need na maexamine ang human genome niya, baka talaga nasa katawan niya ang lunas sa lahat ng sakit sa mundo.</td><td>neutral</td></tr><tr><td>31-01-2020  05:09</td><td>InfoMarrueccos</td><td>List(Medidastomadas)</td><td>List()</td><td>#“VirusCorona”:  #Medidastomadas y por tomar https://t.co/RTNHLJu4JP</td><td>neutral</td></tr><tr><td>31-01-2020  05:09</td><td>zephyr9673</td><td>List(coronavirus)</td><td>List(WHOWPRO)</td><td>RT @WHOWPRO: The total number of confirmed cases of the 2019 novel #coronavirus reported from mainland China 🇨🇳 to date is 9,692.\n",
              "\n",
              "This inc…</td><td>positive</td></tr><tr><td>31-01-2020  05:09</td><td>lightning_rebel</td><td>List()</td><td>List()</td><td>Sorry but,  the people can't be blamed https://t.co/DE5YqCI1KY</td><td>negative</td></tr><tr><td>31-01-2020  05:09</td><td>jasonburke103</td><td>List()</td><td>List()</td><td>Seriously they will eat absolutely anything over there 🤢 https://t.co/aSmrYVkeBk</td><td>negative</td></tr><tr><td>31-01-2020  05:09</td><td>UmairKoDvavi</td><td>List(BusinessNews, coronavirus)</td><td>List(mpocHQ)</td><td>RT @mpocHQ: #BusinessNews: Commodity market impact from the #coronavirus in China \n",
              "https://t.co/EWqn0GKWVf https://t.co/6JrcD5KvaU</td><td>neutral</td></tr><tr><td>31-01-2020  05:09</td><td>rhainananana</td><td>List()</td><td>List()</td><td>Indeed https://t.co/8ExI1uQvQ7</td><td>neutral</td></tr><tr><td>31-01-2020  05:09</td><td>Pavneet__Kaur</td><td>List()</td><td>List(WHO, DrTedros, WHOWPRO, WHOSEARO, pahowho, WHO_Europe, WHOEMRO, WHOAFRO)</td><td>RT @WHO: @DrTedros @WHOWPRO @WHOSEARO @pahowho @WHO_Europe @WHOEMRO @WHOAFRO \"I also offer my profound respect and thanks to the thousands…</td><td>positive</td></tr><tr><td>31-01-2020  05:09</td><td>j34werner</td><td>List()</td><td>List(Medical_Niyi)</td><td>RT @Medical_Niyi: From just oct 1st 2019 to January 18th 2020 at least 8,200 people have died from the flu and over 15 million people have…</td><td>negative</td></tr><tr><td>31-01-2020  05:09</td><td>queenmancenido</td><td>List(coronavirus, CoronavirusOutbreak)</td><td>List(choculate)</td><td>RT @choculate: Really appreciated the humanity act! \n",
              " \n",
              "#coronavirus #CoronavirusOutbreak https://t.co/C5rZTlPj2y</td><td>positive</td></tr><tr><td>31-01-2020  05:09</td><td>Rodrigo17679602</td><td>List()</td><td>List()</td><td>En China el corona virus y acá en argentina los buitres</td><td>neutral</td></tr><tr><td>31-01-2020  05:09</td><td>MrFrankBaraan</td><td>List()</td><td>List(atomaraullo)</td><td>RT @atomaraullo: WHO declares global public health emergency.\n",
              "\n",
              "“Our greatest concern is the potential for the virus to spread to countries…</td><td>positive</td></tr><tr><td>31-01-2020  05:09</td><td>1ForgivenFlower</td><td>List()</td><td>List(nicolasubi)</td><td>RT @nicolasubi: ur rave mask won’t protect u against the coronavirus sir</td><td>neutral</td></tr><tr><td>31-01-2020  05:09</td><td>hey_immichelle</td><td>List()</td><td>List(camilarz_)</td><td>RT @camilarz_: a mi si me da miedo el coronavirus por eso tendré que dejar los besos de 3 por un rato</td><td>neutral</td></tr><tr><td>31-01-2020  05:09</td><td>Mentimoen</td><td>List()</td><td>List()</td><td>Warga China banyak yg terkurung di rumah, memerlukan hiburan. Pembangunan rumah sakit Wuhan disiarkan langsung. Akhirnya mrk anggap mesin2 berat yg ada di lokasi sebagai idol/hero. Dan mrk voting untuk mesin yg paling populer. 😁😁 https://t.co/s2pgEhInsi</td><td>neutral</td></tr><tr><td>31-01-2020  05:09</td><td>michllecarolina</td><td>List()</td><td>List(elcomerciocom)</td><td>RT @elcomerciocom: 42 personas se monitorean en Ecuador por sospecha de coronavirus » https://t.co/2CpfqPaXI3 https://t.co/96x8THGAwV</td><td>neutral</td></tr><tr><td>31-01-2020  05:09</td><td>Villagee15Life</td><td>List()</td><td>List(ABC7)</td><td>RT @ABC7: TRAVEL WARNING: U.S. State Dept. issues \"do not travel\" to China warning amid rapid spread of coronavirus https://t.co/Wu6phG88Dn</td><td>neutral</td></tr><tr><td>31-01-2020  05:09</td><td>H3YYAEYA</td><td>List()</td><td>List(VhieCaval)</td><td>RT @VhieCaval: Galit ako, I swear!\n",
              "\n",
              "If this epidemic becomes full blown in our country, we shld crucify you, Duterte, and all of you, enabl…</td><td>positive</td></tr><tr><td>31-01-2020  05:09</td><td>rabbi_crazy</td><td>List(LISA)</td><td>List(BLACKPINKAsia)</td><td>RT @BLACKPINKAsia: 200131 The recording of &lt;Youth With You 2&gt; in China, which LISA is a part of, will be postponed indefinitely. #LISA\n",
              "\n",
              "Thi…</td><td>neutral</td></tr><tr><td>31-01-2020  05:09</td><td>2a392a1a95fe40e</td><td>List()</td><td>List(Adiinson)</td><td>RT @Adiinson: Hoy una señora de dijo: ¡Ay  ya comencé a tomar Amoxicilina por si me agarra el coronavirus, cada vez que tengo una virosis m…</td><td>neutral</td></tr><tr><td>31-01-2020  05:09</td><td>Haslizajee</td><td>List()</td><td>List(sofi_zai)</td><td>RT @sofi_zai: that frog is from wuhan</td><td>neutral</td></tr><tr><td>31-01-2020  05:09</td><td>GigaquitJean</td><td>List()</td><td>List()</td><td>Futangina https://t.co/TCC3gM1MBL</td><td>neutral</td></tr><tr><td>31-01-2020  05:09</td><td>CHIKURA_Ayumu</td><td>List()</td><td>List()</td><td>N95って一個500円くらいするんだっけ。結核病棟ですら入り口の簡易ロッカーに置いて何度か個人用に使いまわしていたものな</td><td>neutral</td></tr><tr><td>31-01-2020  05:09</td><td>NuranishaS</td><td>List()</td><td>List(JPenerangan, japenperak)</td><td>RT @JPenerangan: Jabatan Penerangan Malaysia, 30 Januari 2020, Negeri Perak [1/2]@japenperak \n",
              "🔶 Daerah Perak Tengah\n",
              "🔶 Daerah Batang Padang…</td><td>neutral</td></tr><tr><td>31-01-2020  05:09</td><td>richiesesma</td><td>List()</td><td>List()</td><td>no mames, de aquí a nuevo aviso 😣 https://t.co/QWwSRQvRLO</td><td>neutral</td></tr><tr><td>31-01-2020  05:09</td><td>syafiqminion</td><td>List()</td><td>List(HermyRahim)</td><td>RT @HermyRahim: Bendera ni kebanggaan negara mereka. Negara masing masing. Bila bendera kita dipermainkan tahu pulak marah, bila china dema…</td><td>neutral</td></tr><tr><td>31-01-2020  05:09</td><td>OldGreyHorror</td><td>List()</td><td>List(TheRickWilson)</td><td>@TheRickWilson I'd say get ready for a LOT more \"[COUNTRY X], if you're listening...\" https://t.co/E0U9gPgGJ8</td><td>positive</td></tr><tr><td>31-01-2020  05:09</td><td>dgerardovc</td><td>List()</td><td>List(_Karen81)</td><td>@_Karen81 Puedo apostar?, Te fuiste a estudiar a wuhan...</td><td>neutral</td></tr><tr><td>31-01-2020  05:09</td><td>Plutarc55653388</td><td>List()</td><td>List(Romana_FARC, petrogustavo)</td><td>RT @Romana_FARC: No creo que la sopa de murciélago sea la causa del corona virus, el Camarada @petrogustavo lleva años comiéndose a @Gustav…</td><td>neutral</td></tr><tr><td>31-01-2020  05:09</td><td>street_times</td><td>List()</td><td>List()</td><td>Mapping the spread of coronavirus epidemic\n",
              "\n",
              "After cancelling dates in Portugal and UK due to injury, Madonna has reportedly resumed her Madame X world tour in London. https://t.co/1h2nkwVwiX</td><td>negative</td></tr><tr><td>31-01-2020  05:09</td><td>Its_Jazel</td><td>List()</td><td>List(liyantamares)</td><td>RT @liyantamares: and let our response be: SANA ALL</td><td>neutral</td></tr><tr><td>31-01-2020  05:09</td><td>honey_gloom</td><td>List()</td><td>List(kathbarbadoro)</td><td>RT @kathbarbadoro: Coronavirus is scary enough to make Americans racist about Chinese people but not scary enough to make Americans start w…</td><td>negative</td></tr><tr><td>31-01-2020  05:09</td><td>lleynangeil</td><td>List()</td><td>List(sarahelago)</td><td>RT @sarahelago: Nasa China ang epicenter ng nCoV outbreak, pinakamaraming kaso, tumataas death toll, kaya pinakamalaki ang banta sa atin. S…</td><td>neutral</td></tr><tr><td>31-01-2020  05:09</td><td>erinathequeen</td><td>List()</td><td>List()</td><td>RT @thearamohd: why the topeng muka seems weird yall , like panties??</td><td>negative</td></tr><tr><td>31-01-2020  05:09</td><td>live_love_XD</td><td>List()</td><td>List(InigoAbellar)</td><td>RT @InigoAbellar: Since we're all on the topic of a possible outbreak, please stay vigilant. Keep your hands clean and wear face-masks at a…</td><td>positive</td></tr><tr><td>31-01-2020  05:09</td><td>khidirruslin</td><td>List()</td><td>List(KKMPutrajaya)</td><td>So what next @KKMPutrajaya ? https://t.co/q6WbJf4ba0</td><td>neutral</td></tr><tr><td>31-01-2020  05:09</td><td>nikilshyamsukha</td><td>List()</td><td>List(MihirkJha)</td><td>@MihirkJha 400+ only in Wuhan city many more @ Wuhan Province(forgot the name of the province) there is another AI flight going to China today evening or tomorrow.</td><td>positive</td></tr><tr><td>31-01-2020  05:09</td><td>RobertoBaios</td><td>List()</td><td>List(badenschweiz, prensagrafica, FranAlabi)</td><td>RT @badenschweiz: @prensagrafica @FranAlabi Que ridiculo !! No hay vuelos directos de China. Todas las Aerolíneas ahora existentes podrían…</td><td>neutral</td></tr><tr><td>31-01-2020  05:09</td><td>Yeonfeeling</td><td>List(Lisa)</td><td>List(hallyukstar)</td><td>RT @hallyukstar: YG แจ้งการยกเลิกคิวกิจกรรมของ ลิซ่า 'BLACKPINK' ในจีน จากสถานการณ์การแพร่ระบาดของไวรัสโคโรน่าสายพันธุ์ใหม่ 2019\n",
              "--\n",
              "#Lisa #…</td><td>neutral</td></tr><tr><td>31-01-2020  05:09</td><td>kc36115278</td><td>List()</td><td>List(SenTomCotton)</td><td>RT @SenTomCotton: China is still lying about the spread of coronavirus, as they have from the start. \n",
              "\n",
              "We now know the first case manifeste…</td><td>positive</td></tr><tr><td>31-01-2020  05:09</td><td>theyounghwang</td><td>List()</td><td>List(PhYoungSone)</td><td>RT @PhYoungSone: Ayan mga beshies and mumshies according kay Doc. \n",
              "\n",
              "Nakakatuwa kumpleto ang SONE fandom ng profession. Pwede na tayong bumu…</td><td>neutral</td></tr><tr><td>31-01-2020  05:09</td><td>violetarivas5</td><td>List(Noticias, coronavirus)</td><td>List(elsalvadorcom)</td><td>RT @elsalvadorcom: #Noticias Ministerio de Salud activa protocolo por posible caso de #coronavirus en El Salvador 👉 https://t.co/UWbaODM0Zg…</td><td>neutral</td></tr><tr><td>31-01-2020  05:09</td><td>Kamal35142610</td><td>List()</td><td>List(republikaonline)</td><td>RT @republikaonline: Singapura melaporkan kembali tiga korban terinfeksi virus Corona pada Jumat (31/1) https://t.co/9s5sJ82Y5D</td><td>neutral</td></tr><tr><td>31-01-2020  05:09</td><td>FerLlanasM</td><td>List()</td><td>List(camilarz_)</td><td>RT @camilarz_: a mi si me da miedo el coronavirus por eso tendré que dejar los besos de 3 por un rato</td><td>neutral</td></tr><tr><td>31-01-2020  05:09</td><td>kabirLfc</td><td>List()</td><td>List(501Awani)</td><td>RT @501Awani: Terlalu cemas, seorang pemandu e-hailing bertindak menghalau penumpang dari Wuhan, China kerana bimbang dijangkiti.\n",
              "\n",
              "#AWANIBy…</td><td>neutral</td></tr><tr><td>31-01-2020  05:09</td><td>F4phantomphan89</td><td>List()</td><td>List()</td><td>Japan's ANA may consider halting China flights: Jiji citing CEO https://t.co/Xsk0enDcYH</td><td>neutral</td></tr><tr><td>31-01-2020  05:09</td><td>cnchikutuma</td><td>List()</td><td>List(Kate_OKeeffe)</td><td>RT @Kate_OKeeffe: NEW: The arrested Harvard prof is tip of the iceberg. When the Texas A&amp;M system investigated how much Chinese money its f…</td><td>positive</td></tr><tr><td>31-01-2020  05:09</td><td>Eusebius64</td><td>List()</td><td>List(timeshighered)</td><td>RT @timeshighered: Scientists emphasise the need for greater cooperation and transparency as they rush to study the rapidly spreading Wuhan…</td><td>positive</td></tr><tr><td>31-01-2020  05:09</td><td>Abrilnaiara18</td><td>List()</td><td>List(pablomoliina17)</td><td>RT @pablomoliina17: bueno supuestamente llegó el coronavirus a argentina pensé que eramos amigos y que solo te reproducias por países prime…</td><td>neutral</td></tr><tr><td>31-01-2020  05:09</td><td>codyfernesito</td><td>List()</td><td>List()</td><td>no puedo creer esta foto por dios erradico el coronavirus https://t.co/hpESOjLkm2</td><td>neutral</td></tr><tr><td>31-01-2020  05:09</td><td>LinAussie</td><td>List()</td><td>List(DannyjClayton, corona)</td><td>RT @DannyjClayton: Dear @corona \n",
              "Thank you for contributing to brilliant adventures of mine around the world.\n",
              "Sorry to hear about your loss…</td><td>positive</td></tr><tr><td>31-01-2020  05:09</td><td>marshmarian6</td><td>List()</td><td>List(ogie_rosa)</td><td>RT @ogie_rosa: Ulit-ulit nyong dinedepensahan ang Tsina sa pagnanakaw ng isla/taklobo, pagpasok ng illegal workers, di pagbayad ng buwis ng…</td><td>negative</td></tr><tr><td>31-01-2020  05:09</td><td>JohnCorcoran333</td><td>List()</td><td>List(benshapiro)</td><td>RT @benshapiro: So just to get this straight, CNN is objecting to a task force designed to stop an epidemic by focusing on...ethnic diversi…</td><td>positive</td></tr><tr><td>31-01-2020  05:09</td><td>Ohnaw21</td><td>List(China)</td><td>List(SenRubioPress, CNASdc)</td><td>RT @SenRubioPress: .@CNASdc report makes clear that responding to the #China challenge is far riskier and more costly than most in Washingt…</td><td>positive</td></tr><tr><td>31-01-2020  05:09</td><td>tlrnsibesnick05</td><td>List()</td><td>List(iamkarendavila)</td><td>RT @iamkarendavila: Temporary BAN is just those coming from Hubei province, not yet - all coming from mainland CHINA</td><td>neutral</td></tr><tr><td>31-01-2020  05:09</td><td>EnesOrhan</td><td>List()</td><td>List(tafrali_adem, SokMarketler, SokMarketMIM)</td><td>@tafrali_adem @MrByHaron @SokMarketler @SokMarketMIM Corona virüsü cansız yüzeylerdede durabiliyor dünya sağlık örgütünün açıklaması.</td><td>neutral</td></tr><tr><td>31-01-2020  05:09</td><td>marisavega</td><td>List()</td><td>List(edufeiok)</td><td>@edufeiok Más data:https://t.co/xgK7EAtfhA https://t.co/bx9S5TAYtg</td><td>neutral</td></tr><tr><td>31-01-2020  05:09</td><td>Stephanie_Brist</td><td>List()</td><td>List()</td><td>What the fuck https://t.co/cyZBOTzhz7</td><td>negative</td></tr><tr><td>31-01-2020  05:09</td><td>vinrisuenna</td><td>List()</td><td>List()</td><td>Apapun yg dia buat slalu ngakak😭🤣 https://t.co/EsaJQxfhzF</td><td>neutral</td></tr><tr><td>31-01-2020  05:09</td><td>kissiacarolinaa</td><td>List()</td><td>List()</td><td>RT @euvitorassis: Andiroba, copaíba e banha de sucuriju se juntando contra o corona vírus 🦠 https://t.co/wqW50NuAVu</td><td>neutral</td></tr><tr><td>31-01-2020  05:09</td><td>smileyoonhan</td><td>List()</td><td>List(two_oh_teen)</td><td>RT @two_oh_teen: I hope hotel companies and international/domestic airlines allow customers to cancel their bookings &amp; flights upon submiss…</td><td>neutral</td></tr><tr><td>31-01-2020  05:09</td><td>Rhythmic_Spirit</td><td>List()</td><td>List(Polska82)</td><td>RT @Polska82: In South Africa, 57 people a day dies of a virus called the African National Congress. This virus has been a plaque for the l…</td><td>neutral</td></tr><tr><td>31-01-2020  05:09</td><td>tikatikitikekk</td><td>List()</td><td>List(Ladya______)</td><td>RT @Ladya______: Penjelasan virus Corona dari pakar kehidupan wkwk https://t.co/CrB3SyWgZf</td><td>neutral</td></tr><tr><td>31-01-2020  05:09</td><td>Energiazonapura</td><td>List()</td><td>List(patgow)</td><td>RT @patgow: Lo que es estudiar. https://t.co/wzstETDa64</td><td>neutral</td></tr><tr><td>31-01-2020  05:09</td><td>Eddyrace1</td><td>List()</td><td>List(ewarren)</td><td>RT @ewarren: This continues to be one of the hardest questions I've ever had to answer. No child should have to go to school afraid for the…</td><td>negative</td></tr><tr><td>31-01-2020  05:09</td><td>bollen_olie</td><td>List()</td><td>List()</td><td>Yang gue tau dalam bible itu penyakit sampar pada ternak (perjanjian lama) tapi mungkin harus tanya ke orang2 theologia yg lebih paham https://t.co/V9bY1HlRst</td><td>neutral</td></tr><tr><td>31-01-2020  05:09</td><td>LuliRossino</td><td>List()</td><td>List()</td><td>Qué. Me descompongo https://t.co/neQ0d0DLcL</td><td>neutral</td></tr><tr><td>31-01-2020  05:09</td><td>robertkaye11</td><td>List()</td><td>List(OldTime58084241)</td><td>RT @OldTime58084241: Hang on, Bridgette McKenzie can use a RAAF plane $40+K to fly to a Gun expo, but ordinary Aussies caught in WUHAN have…</td><td>positive</td></tr><tr><td>31-01-2020  05:09</td><td>daydayfury</td><td>List(CoronavirusOutbreak)</td><td>List(htommy998)</td><td>RT @htommy998: 1/30  #CoronavirusOutbreak\n",
              "\n",
              "Many coronavirus infected people showed no obvious symptoms. They fell into coma suddenly while…</td><td>positive</td></tr><tr><td>31-01-2020  05:09</td><td>renjunolafx</td><td>List(Lisa)</td><td>List(hallyukstar)</td><td>RT @hallyukstar: YG แจ้งการยกเลิกคิวกิจกรรมของ ลิซ่า 'BLACKPINK' ในจีน จากสถานการณ์การแพร่ระบาดของไวรัสโคโรน่าสายพันธุ์ใหม่ 2019\n",
              "--\n",
              "#Lisa #…</td><td>neutral</td></tr><tr><td>31-01-2020  05:09</td><td>SScentia</td><td>List()</td><td>List(OutsiderLooksIn)</td><td>RT @OutsiderLooksIn: Ayun. Taong ER pa naman ako mamaya hanggang bukas. \n",
              "\n",
              "Pero ayun na nga, HINDI AIRBORNE ang 2019-NCoV. Wala siya sa hang…</td><td>neutral</td></tr><tr><td>31-01-2020  05:09</td><td>punk_assnerd</td><td>List(coronavirus)</td><td>List(AsapSCIENCE)</td><td>RT @AsapSCIENCE: Using the #coronavirus to enact racism about Chinese food practices is misguided, especially if you understand western mea…</td><td>neutral</td></tr><tr><td>31-01-2020  05:09</td><td>itzones0</td><td>List()</td><td>List()</td><td>RT @Noor___044: Wife saying goodbye to her husband, a doctor, before he goes outside with the purpose of serving people in Wuhan city, Chin…</td><td>neutral</td></tr><tr><td>31-01-2020  05:09</td><td>salvagetweep</td><td>List()</td><td>List(nichomaingi)</td><td>RT @nichomaingi: It is taking centuries for Kenya Airways to suspend flights to China risking Kenyans to exposure of the deadly Coronavirus…</td><td>negative</td></tr><tr><td>31-01-2020  05:09</td><td>hunnie9488</td><td>List()</td><td>List(zornitsaxx)</td><td>RT @zornitsaxx: WHO ประกาศให้ coronavirus เป็นภาวะฉุกเฉินทั่วโลก โดยเหตุผลหลักสำหรับการประกาศนี้ไม่ใช่เพราะเป็นเรื่องที่เกิดขึ้นในประเทศจีน…</td><td>neutral</td></tr><tr><td>31-01-2020  05:09</td><td>klemosy</td><td>List()</td><td>List(AlArabiya_Eng)</td><td>RT @AlArabiya_Eng: The US State Department warns Americans against China travel, as the death toll from a fast spreading virus rose to over…</td><td>positive</td></tr><tr><td>31-01-2020  05:09</td><td>Thea_G_Sinclair</td><td>List()</td><td>List(BarrysChins)</td><td>@BarrysChins It makes me go Wuhan Clan</td><td>neutral</td></tr><tr><td>31-01-2020  05:09</td><td>RaijuuTB</td><td>List(CoronavirusOutbreak)</td><td>List(htommy998)</td><td>RT @htommy998: 1/30  #CoronavirusOutbreak\n",
              "\n",
              "Many coronavirus infected people showed no obvious symptoms. They fell into coma suddenly while…</td><td>positive</td></tr><tr><td>31-01-2020  05:09</td><td>bxtchy_xox</td><td>List()</td><td>List(williamlegate)</td><td>RT @williamlegate: Donald Trump has a personal responsibility to visit &amp; embrace all people in the US who contract the coronavirus!</td><td>neutral</td></tr><tr><td>31-01-2020  05:09</td><td>aniemanimo</td><td>List()</td><td>List()</td><td>tuta is aso in short sunod sunuran siya ng president ng china, sabihin niyo hindi, pero for me sa nakikita ko talaga sa nangyayari between china and ph anlaki niyang tuta should i say hindi lang si duterte isama pa mga kampo niya sa gov't🥴</td><td>neutral</td></tr><tr><td>31-01-2020  05:09</td><td>JohnHui1050</td><td>List(WuhanCoronavirus)</td><td>List(RamyInocencio)</td><td>RT @RamyInocencio: NEW (THREAD 1/7): China #WuhanCoronavirus infections jump 29% to 7711, just 387 fewer than the total number of global SA…</td><td>positive</td></tr><tr><td>31-01-2020  05:09</td><td>RingoMai1</td><td>List()</td><td>List(danharris)</td><td>RT @danharris: Many in China (and Hong Kong) are angry as hell with their CCP overlords. Should we be talking about regime change? https://…</td><td>neutral</td></tr><tr><td>31-01-2020  05:09</td><td>Gotfan55</td><td>List()</td><td>List(PneumoniaWuhan)</td><td>RT @PneumoniaWuhan: Avian Flu Diary: WHO Interim Advice On The Community, Home, Healthcare Use of Masks For nCoV2019s https://t.co/fdcrUtOy…</td><td>neutral</td></tr><tr><td>31-01-2020  05:09</td><td>peachybrets</td><td>List()</td><td>List(bethangsioco)</td><td>RT @bethangsioco: You know it’s very urgent when the President sets a meeting with key stakeholders ‘NEXT WEEK’. \n",
              "\n",
              "I wonder whose birthday…</td><td>positive</td></tr><tr><td>31-01-2020  05:09</td><td>HugaWendy</td><td>List()</td><td>List(Reuters)</td><td>RT @Reuters: Pilots, flight attendants demand flights to China stop as virus fear mounts worldwide https://t.co/v1PL5LRDDD https://t.co/ski…</td><td>neutral</td></tr><tr><td>31-01-2020  05:09</td><td>HZokre</td><td>List(Hongkong, coronavirus)</td><td>List(SoumerD)</td><td>RT @SoumerD: Hundreds of people queuing outside a drugstore in central #Hongkong to buy face masks as #coronavirus death toll rises #Corona…</td><td>neutral</td></tr><tr><td>31-01-2020  05:09</td><td>JeffBerk3</td><td>List()</td><td>List(DonaldJTrumpJr)</td><td>RT @DonaldJTrumpJr: 🙄🙄🙄 It never ends people... it never ends.</td><td>neutral</td></tr><tr><td>31-01-2020  05:09</td><td>zelaya_sul</td><td>List()</td><td>List(Miky_Altamirano)</td><td>RT @Miky_Altamirano: Si el coronavirus llega Nicaragua valimos verga.</td><td>neutral</td></tr><tr><td>31-01-2020  05:09</td><td>morlarn</td><td>List()</td><td>List(noppatjak)</td><td>RT @noppatjak: ราคามาตรฐานของหน้ากากอนามัย (แบบปกติ ไม่ใช่ N95) คือชิ้นละ 2 บาท</td><td>neutral</td></tr><tr><td>31-01-2020  05:09</td><td>takaino562</td><td>List()</td><td>List(katsuyatakasu)</td><td>RT @katsuyatakasu: よかった。気が変わらないうちに帰ってもらおう。</td><td>neutral</td></tr><tr><td>31-01-2020  05:09</td><td>beaveery</td><td>List()</td><td>List(diaspora_is_red)</td><td>RT @diaspora_is_red: Western corporate media every 5 minutes:</td><td>neutral</td></tr><tr><td>31-01-2020  05:09</td><td>PastorTillis</td><td>List(coronarvirus)</td><td>List(andrew_sluder)</td><td>RT @andrew_sluder: CORONAVIRUS EMERGENCY BROADCAST!!! #coronarvirus \n",
              "\n",
              "https://t.co/jGlQg7TPly</td><td>neutral</td></tr><tr><td>31-01-2020  05:09</td><td>AnnieLa02102760</td><td>List(BoycottChina)</td><td>List(SalonTrans, AndrewSErickson)</td><td>RT @SalonTrans: 🇺🇸海軍戰爭學院 戰略學教授\n",
              "艾立信  Professor @AndrewSErickson : \n",
              "“專制政權就像只剩下兩隻大拇指的廢人一樣笨手笨腳。它們能夠採取强制行動，而不能對政府的槓桿作用進行微調。”\n",
              "#BoycottChina #2019…</td><td>neutral</td></tr><tr><td>31-01-2020  05:09</td><td>penquibeardog</td><td>List()</td><td>List(YaxueCao)</td><td>RT @YaxueCao: 直到一年前甚至几个月前，很多人不看好蔡英文政府减少台湾经济与中国的关系的政策，现在看来，这个政策在取得成功。中国取消了自由行，但去年台湾游客人数增加7%。很多台商搬回岛内，蔡英文的亚洲硅谷计划也在显示成效。她的政府执政四年消除了赤字。台湾第四季度GD…</td><td>neutral</td></tr><tr><td>31-01-2020  05:09</td><td>itsmecarisa</td><td>List()</td><td>List()</td><td>RT @ShakuurMoon: Comportement agressif première partie de la phase zombie ça</td><td>neutral</td></tr><tr><td>31-01-2020  05:09</td><td>HughBriss3</td><td>List()</td><td>List(vdare)</td><td>RT @vdare: Treason, by any other word.</td><td>negative</td></tr><tr><td>31-01-2020  05:09</td><td>kealableza</td><td>List()</td><td>List(SCPh_PIO)</td><td>RT @SCPh_PIO: Advisory on the Novel Coronavirus for Court Personnel https://t.co/oJvMw5N88A</td><td>neutral</td></tr><tr><td>31-01-2020  05:09</td><td>jaztor</td><td>List(CORONAVIRUS)</td><td>List(OliverLopezCano)</td><td>RT @OliverLopezCano: 🚨#CORONAVIRUS ¡ALERTA MUNDIAL! | Muchos sin pararle bola ni la atención que merece a esto. Yo en particular tengo días…</td><td>positive</td></tr><tr><td>31-01-2020  05:09</td><td>livvv07</td><td>List(GibvsPaul)</td><td>List(americaneedshim)</td><td>RT @americaneedshim: When you’re fighting Gib at 11 but you’re travelling to China at 12 #GibvsPaul https://t.co/rC97h3JVld</td><td>neutral</td></tr><tr><td>31-01-2020  05:09</td><td>andresmanueliii</td><td>List()</td><td>List()</td><td>GUESSING GAME BA ‘TO BAKIT KAMI TINATANONG NIYO https://t.co/opi4Zx8Rua</td><td>negative</td></tr><tr><td>31-01-2020  05:09</td><td>TREPADORADE4aT</td><td>List()</td><td>List(Jodorowskys, m_ebrard)</td><td>RT @Jodorowskys: https://t.co/kmpaYxy1h8\n",
              "\n",
              "Quiubo pinche inútil @m_ebrard no eres más que un pelele!!!</td><td>neutral</td></tr><tr><td>31-01-2020  05:09</td><td>2019_nCOV_infos</td><td>List(Wuhan, coronarvirus)</td><td>List()</td><td>RT @shravyamishka: Reaction to death of elderly man on the streets of #Wuhan highlights fear pervading the epicentre of #coronarvirus https…</td><td>neutral</td></tr><tr><td>31-01-2020  05:09</td><td>Stefanny1807011</td><td>List()</td><td>List(AlexRiosXI)</td><td>RT @AlexRiosXI: Casi se quema Australia, por poco se desata la tercera guerra mundial y una puta pandemia de Coronavirus tiene al mundo en…</td><td>neutral</td></tr><tr><td>31-01-2020  05:09</td><td>yasirsabir</td><td>List()</td><td>List(Phoenixxl, sherryrehman, CathayPak)</td><td>@Phoenixxl @sherryrehman @CathayPak https://t.co/kcbvGX2Bee</td><td>neutral</td></tr><tr><td>31-01-2020  05:09</td><td>jt_mag_os</td><td>List(Coronavirus)</td><td>List()</td><td>#Coronavirus Map: Tracking the Spread of the Outbreak. https://t.co/ZUwzt88cXZ</td><td>neutral</td></tr><tr><td>31-01-2020  05:09</td><td>OnlyThePersons</td><td>List(coronarvirus)</td><td>List(adamscrabble)</td><td>RT @adamscrabble: 🔥 DOCUMENTARY THREAD EXPLAINING THE CORONA VIRUS #coronarvirus what we know so far using the most informed mathematical m…</td><td>positive</td></tr><tr><td>31-01-2020  05:09</td><td>Zahkeimaa</td><td>List()</td><td>List()</td><td>😭😭😩ahhh https://t.co/3GO92I5ULO</td><td>neutral</td></tr><tr><td>31-01-2020  05:09</td><td>drawandstrike</td><td>List()</td><td>List(AriFleischer)</td><td>RT @AriFleischer: Did you know that the Obama-Biden administration in 2016 fined JP Morgan $264 million for hiring the unqualified kids of…</td><td>neutral</td></tr><tr><td>31-01-2020  05:09</td><td>achonk83</td><td>List()</td><td>List(niriansyah)</td><td>RT @niriansyah: https://t.co/4JPqR67vm9</td><td>neutral</td></tr><tr><td>31-01-2020  05:09</td><td>dianeeelopezzz</td><td>List()</td><td>List()</td><td>HUHUHUHUHUHUHUHUHUHUHU https://t.co/oOWKYxrMjc</td><td>neutral</td></tr><tr><td>31-01-2020  05:09</td><td>nyx_vllmr</td><td>List(Coronavirus)</td><td>List()</td><td>RT @Arslan_Crickter: She is a volunteer lady doctor ❤️ going to wuhaan city...to treat #Coronavirus patients 😥This is a potential suicide m…</td><td>neutral</td></tr><tr><td>31-01-2020  05:09</td><td>mary17tweets</td><td>List()</td><td>List(AP)</td><td>RT @AP: BREAKING: The U.S. State Department advises against all travel to China due to virus outbreak. https://t.co/0POh5q7BgR</td><td>negative</td></tr><tr><td>31-01-2020  05:09</td><td>grabeehkalei</td><td>List()</td><td>List()</td><td>From 56 now it's down to 31. Sana these PUIs are not infected yet of the virus. https://t.co/iOqeyZml9N</td><td>negative</td></tr><tr><td>31-01-2020  05:09</td><td>N5SwUiVJfmeZlBq</td><td>List()</td><td>List(Raihana3178)</td><td>RT @Raihana3178: Made in china 😂😂😂😂😂😂😂 https://t.co/4x6cEQ6SCV</td><td>neutral</td></tr><tr><td>31-01-2020  05:09</td><td>DarkRedman</td><td>List(Wuhan)</td><td>List(LPLdirect)</td><td>RT @LPLdirect: 🇨🇳 [FLASH] - Une lutte a éclaté tout à l'heure sur le chantier de l'hôpital en construction à #Wuhan. On ignore pour l'insta…</td><td>neutral</td></tr><tr><td>31-01-2020  05:09</td><td>EdgyGreenArrow</td><td>List()</td><td>List()</td><td>4 per customer? So you’re telling me one customer can buy 4 masks from Canadian Tire and we don’t even know if he or she will give the other 3 to someone else or just keep it for them self. https://t.co/ppZ3kC22TW</td><td>negative</td></tr><tr><td>31-01-2020  05:09</td><td>EyeLaserClinic</td><td>List(coronavirus, wuhan)</td><td>List(KopunF, TexasTamaulipas, LogoCentrifuge)</td><td>The Cape Town Ophthalmologist is out! https://t.co/rWRc4siZNI Stories via @KopunF @TexasTamaulipas @LogoCentrifuge #coronavirus #wuhan</td><td>neutral</td></tr><tr><td>31-01-2020  05:09</td><td>TheKenDude</td><td>List()</td><td>List(CNNPolitics)</td><td>@CNNPolitics ATTENTION CHINA:\n",
              "\n",
              "The Corona Virus can be fought with \"DIVERSITY\".\n",
              "\n",
              "HOORAY!\n",
              "\n",
              "WE ARE SAVED!</td><td>neutral</td></tr><tr><td>31-01-2020  05:09</td><td>einna__</td><td>List()</td><td>List(goodbeanalt)</td><td>RT @goodbeanalt: if I caught the coronavirus I would simply throw it back</td><td>neutral</td></tr><tr><td>31-01-2020  05:09</td><td>Purrpatrol</td><td>List(Coronavirus, Wuhan)</td><td>List(wiking1)</td><td>RT @wiking1: #Coronavirus #Wuhan.\n",
              "We are definitely not told the truth. https://t.co/W6LFn7E2Fp</td><td>neutral</td></tr><tr><td>31-01-2020  05:09</td><td>jenolicious_</td><td>List()</td><td>List(jysungboo, nctconfess)</td><td>@jysungboo @nctconfess Rocket girls, jebolan produce 101 china</td><td>neutral</td></tr><tr><td>31-01-2020  05:09</td><td>sp_dash68</td><td>List(NovelCoronavirus)</td><td>List(dpradhanbjp)</td><td>RT @dpradhanbjp: The #NovelCoronavirus outbreak in China has claimed lives of many.\n",
              "\n",
              "GoI has issued advisory for travellers returning from…</td><td>positive</td></tr><tr><td>31-01-2020  05:09</td><td>Topdamducandi</td><td>List(gaymovie, Gaysàigòn, Botmen, Topdam, sexgay)</td><td>List()</td><td>Đầu năm tránh CORONA ! Ở  NHÀ CHO RONA ( RA DÔ )! AN TOÀN NHỠ ! #gaymovie  #Gaysàigòn #Botmen #Topdam #sexgay ................. buôn bán ế quá ai mua gì KM cho con kiu anh giao hàng !ahihihihi https://t.co/Idj467jQrH</td><td>neutral</td></tr><tr><td>31-01-2020  05:09</td><td>snrhytie</td><td>List()</td><td>List(Hfnz9)</td><td>RT @Hfnz9: Ampun tuanku. Harap hantar lah dua orang doctor pakar malaysia pergi ke China untuk menolong disana. Patik cadangan Dr mahathir…</td><td>neutral</td></tr><tr><td>31-01-2020  05:09</td><td>snrhytie</td><td>List()</td><td>List(giibbsm)</td><td>RT @giibbsm: aku berdoa agar virus ini dijauhkan daripada menyentuh kedua ibu bapaku, adik-beradikku, saudara mara, rakan-rakan kenalanku d…</td><td>neutral</td></tr><tr><td>31-01-2020  05:09</td><td>94hobilali97</td><td>List()</td><td>List(9lili97)</td><td>RT @9lili97: [BLACKPINK member LISA China program got postponed] BLACKPINK member LISA will not participate in the recording of YouthWithYo…</td><td>negative</td></tr><tr><td>31-01-2020  05:09</td><td>itssnotyours</td><td>List()</td><td>List(cursedkidd)</td><td>@cursedkidd Fix kena virus corona lu ngab</td><td>neutral</td></tr><tr><td>31-01-2020  05:09</td><td>tsekeselepe</td><td>List()</td><td>List(spectatorindex)</td><td>RT @spectatorindex: BREAKING: World Health Organisation declares coronavirus crisis a public emergency of international concern</td><td>neutral</td></tr><tr><td>31-01-2020  05:09</td><td>kusipat77</td><td>List()</td><td>List(spin9)</td><td>RT @spin9: สายการบิน British Airways ประกาศยกเลิกทุกเที่ยวบินเข้าออกจีนแล้ว มีผลทันที และแบนยาวถึงสิ้นเดือน ก.พ.\n",
              "\n",
              "โดยปกติ BA มีเที่ยวบินตรง…</td><td>neutral</td></tr><tr><td>31-01-2020  05:09</td><td>oliveirap_</td><td>List()</td><td>List(barceIlos)</td><td>RT @barceIlos: gente nesse carnaval USEM LOLÓ PELA SAUDE DE VCS sério não existe coronavirus que sobreviva a um ambiente inóspito como o co…</td><td>neutral</td></tr><tr><td>31-01-2020  05:09</td><td>samirarevalop</td><td>List()</td><td>List(VidadefanAvril2, AvrilLavigne)</td><td>RT @VidadefanAvril2: Lendas! Fãs da @AvrilLavigne na China arrecadaram 4630 dólares para comprar máscaras e outros materiais médicos. Eles…</td><td>neutral</td></tr><tr><td>31-01-2020  05:09</td><td>Rowan_kitsune</td><td>List()</td><td>List(StefanMolyneux)</td><td>RT @StefanMolyneux: How do you know coronavirus is dangerous?\n",
              "\n",
              "The media is downplaying it -\n",
              "\n",
              "unlike prior illnesses, Y2K, acid rain, clima…</td><td>negative</td></tr><tr><td>31-01-2020  05:09</td><td>Andy15521388</td><td>List()</td><td>List(nytopinion)</td><td>RT @nytopinion: Instead of having an adult conversation with the Chinese people about the coronavirus and putting in place reasonable polic…</td><td>positive</td></tr><tr><td>31-01-2020  05:09</td><td>swmrs_issa</td><td>List()</td><td>List(theklmanuel)</td><td>RT @theklmanuel: Yes, I agree Senator. It’s hard to single out China where 5,997/6,065 (98.87%) of worldwide cases, with 9,239 additional s…</td><td>negative</td></tr><tr><td>31-01-2020  05:09</td><td>ItsLinuel</td><td>List()</td><td>List()</td><td>Baka pati nCoV sa akin isisi 🙃</td><td>neutral</td></tr><tr><td>31-01-2020  05:09</td><td>prateekksaxena</td><td>List()</td><td>List(ANI)</td><td>RT @ANI: Air India Spokesperson: Air India special flight will depart today from Delhi for Wuhan (China) for the evacuation of Indians. #Co…</td><td>positive</td></tr><tr><td>31-01-2020  05:09</td><td>jaymie1023</td><td>List()</td><td>List(KingTrillaX)</td><td>RT @KingTrillaX: The fact that there’s no way to cure this CoronaVirus and there’s still open travel to and from CHINA</td><td>neutral</td></tr><tr><td>31-01-2020  05:09</td><td>brickredburner</td><td>List()</td><td>List(tracyalloway)</td><td>RT @tracyalloway: Please no.</td><td>neutral</td></tr><tr><td>31-01-2020  05:09</td><td>milkyi3</td><td>List()</td><td>List(Dawn_Kopecki)</td><td>RT @Dawn_Kopecki: BREAKING: CDC confirms first human-to-human transmission of coronavirus in US https://t.co/P0stBTMWCD</td><td>positive</td></tr><tr><td>31-01-2020  05:09</td><td>RobertoBaios</td><td>List()</td><td>List(lcampos_50, badenschweiz, prensagrafica, FranAlabi)</td><td>RT @lcampos_50: @badenschweiz @prensagrafica @FranAlabi Exacto, diferente es un pasajero que inició su vuelo en China y después de uno o va…</td><td>neutral</td></tr><tr><td>31-01-2020  05:09</td><td>frenati1</td><td>List(coronavirus)</td><td>List(sono_farmaci)</td><td>RT @sono_farmaci: Per il #coronavirus i medici di famiglia consigliano di fare il vaccino antinfluenzale.\n",
              "\n",
              "In un manicomio le risposte sare…</td><td>neutral</td></tr><tr><td>31-01-2020  05:09</td><td>nearwho007</td><td>List()</td><td>List(PDChina)</td><td>@PDChina China was going to rewrite Qoran \n",
              "Now being fucked by Corona\n",
              "  China is satanic design based on suppression of humanity and human character.</td><td>negative</td></tr><tr><td>31-01-2020  05:09</td><td>NWMoldRemoval</td><td>List(Vaccine, coronavirus, CoronavirusOutbreak)</td><td>List(alienknitter1, ScottGottliebMD)</td><td>@alienknitter1 @ScottGottliebMD #Vaccine isn't going to be possible more than likely. This is a #coronavirus just like SARS and MERS. They have had 17+ years to create a vaccine for SARS and 7+ for MERS and haven't been successful for either. #CoronavirusOutbreak</td><td>positive</td></tr><tr><td>31-01-2020  05:09</td><td>Mbnawwm93</td><td>List()</td><td>List(zornitsaxx)</td><td>RT @zornitsaxx: WHO ประกาศให้ coronavirus เป็นภาวะฉุกเฉินทั่วโลก โดยเหตุผลหลักสำหรับการประกาศนี้ไม่ใช่เพราะเป็นเรื่องที่เกิดขึ้นในประเทศจีน…</td><td>neutral</td></tr><tr><td>31-01-2020  05:09</td><td>Ros_gdjn</td><td>List()</td><td>List(cliall)</td><td>RT @cliall: Vous êtes tétanisés par le coronavirus mais sachez que les glaciers en arctique renferment des virus vieux de 75 ans et devinez…</td><td>neutral</td></tr><tr><td>31-01-2020  05:09</td><td>ChasBavolar</td><td>List()</td><td>List(benshapiro)</td><td>RT @benshapiro: So just to get this straight, CNN is objecting to a task force designed to stop an epidemic by focusing on...ethnic diversi…</td><td>positive</td></tr><tr><td>31-01-2020  05:09</td><td>mimi_dodo96</td><td>List()</td><td>List(SotyDonghun)</td><td>RT @SotyDonghun: Cómo prevenir el coronavirus guía por chan:\n",
              "️1. lavarse las manos\n",
              "2. usar máscaras \n",
              "3. Choice: ver a A.C.E  \n",
              "chan: ok, per…</td><td>positive</td></tr><tr><td>31-01-2020  05:09</td><td>AAguilarorta</td><td>List()</td><td>List(YouTube)</td><td>OMS declara emergencia mundial por coronavirus https://t.co/RidnczYdbV vía @YouTube</td><td>neutral</td></tr><tr><td>31-01-2020  05:09</td><td>Jack_Shields20</td><td>List()</td><td>List(MattWalshBlog)</td><td>RT @MattWalshBlog: I was starving and a guy with 40 sandwiches gave me one, but it was the equivalent of a guy with 1 sandwich giving me a…</td><td>neutral</td></tr><tr><td>31-01-2020  05:09</td><td>william_wagner3</td><td>List(coronavirus)</td><td>List(WiseTakes)</td><td>RT @WiseTakes: If #coronavirus brings on the zombie apocalypse, I hope we get the slow \"Walking Dead\" Zombies and not those damn super-fast…</td><td>negative</td></tr><tr><td>31-01-2020  05:09</td><td>harrycausing23</td><td>List()</td><td>List(liyantamares)</td><td>RT @liyantamares: and let our response be: SANA ALL</td><td>neutral</td></tr><tr><td>31-01-2020  05:09</td><td>moonnewstamil</td><td>List(CoronaVirus, WuhanVirus, China, coronavirusindia, TamilNadu)</td><td>List()</td><td>திருவண்ணாமலையில் ஒருவருக்கு  கொரோனா வைரஸ்   பரிசோதனை\n",
              "#CoronaVirus  #WuhanVirus ##China  #coronavirusindia #TamilNadu</td><td>neutral</td></tr><tr><td>31-01-2020  05:09</td><td>arnoldgalagaran</td><td>List()</td><td>List(manilabulletin)</td><td>RT @manilabulletin: Dead man lies on an empty street at China’s virus ground zero https://t.co/AUvbNcQXD8 https://t.co/BCGQUOqNUd</td><td>negative</td></tr><tr><td>31-01-2020  05:09</td><td>mdakml_</td><td>List(ICYMI, AWANInews, fajarAWANI)</td><td>List(501Awani)</td><td>RT @501Awani: WHO isytihar koronavirus kecemasan kesihatan global\n",
              "https://t.co/i00oTD8iJq\n",
              "#ICYMI #AWANInews #fajarAWANI https://t.co/ix6xK2…</td><td>neutral</td></tr><tr><td>31-01-2020  05:09</td><td>PublicHealthMap</td><td>List()</td><td>List(DeptSaludPR)</td><td>RT @DeptSaludPR: Salud en estrecha colaboración con los organismos internacionales ante declaración de emergencia de la OMS por el coronavi…</td><td>neutral</td></tr><tr><td>31-01-2020  05:09</td><td>SiChesterDiyan</td><td>List()</td><td>List(atomaraullo)</td><td>RT @atomaraullo: WHO declares global public health emergency.\n",
              "\n",
              "“Our greatest concern is the potential for the virus to spread to countries…</td><td>positive</td></tr><tr><td>31-01-2020  05:09</td><td>thrillhouse666</td><td>List()</td><td>List()</td><td>Rule 34 of social media: if it’s a hashtag, there’s a ‘gram of it https://t.co/Ui979M6KB8</td><td>positive</td></tr><tr><td>31-01-2020  05:09</td><td>PakNgai</td><td>List()</td><td>List(welt)</td><td>RT @welt: 38 Tote binnen einer Nacht in China https://t.co/gBAOvOocy0 https://t.co/tvXDdPbvSF</td><td>neutral</td></tr><tr><td>31-01-2020  05:09</td><td>Sohelsd313</td><td>List()</td><td>List(Praecursator007)</td><td>RT @Praecursator007: How to tackle Coronavirus and any other potential viruses from animals. Always eat HALAL!!!!! See the wisdom behind wh…</td><td>negative</td></tr><tr><td>31-01-2020  05:09</td><td>NuranishaS</td><td>List()</td><td>List(JPenerangan, PenangJapen)</td><td>RT @JPenerangan: Info On Wheels Jabatan Penerangan Malaysia 30 Januari 2020, [2/2] @PenangJapen \n",
              "\n",
              "Jabatan Penerangan Malaysia Pulau Pinang…</td><td>neutral</td></tr><tr><td>31-01-2020  05:09</td><td>karldotcom</td><td>List(Coronavirus, AirIndia, Wuhan, coronavirusindia)</td><td>List(MyNation)</td><td>RT @MyNation: #Coronavirus: #AirIndia to send special flight from Delhi to evacuate trapped Indian nationals in #Wuhan\n",
              "\n",
              "#coronavirusindia #…</td><td>positive</td></tr><tr><td>31-01-2020  05:09</td><td>paczkek</td><td>List()</td><td>List(LilithLovett)</td><td>RT @LilithLovett: Good, the American people are finally learning just how authoritarian and oppressive China is.\n",
              "\n",
              "It’s not “-phobia” to hav…</td><td>positive</td></tr><tr><td>31-01-2020  05:09</td><td>PeterCoNET</td><td>List(pandemic)</td><td>List(WarRoom2020, JasonMillerinDC, realDonaldTrump)</td><td>RT @WarRoom2020: .@JasonMillerinDC:  @realDonaldTrump is now going to be a wartime President dealing with this #pandemic\n",
              "\n",
              "This is a differe…</td><td>neutral</td></tr><tr><td>31-01-2020  05:09</td><td>Matkawivlov</td><td>List(HongKong)</td><td>List(MandyLeeDUBHKG)</td><td>RT @MandyLeeDUBHKG: Elderly lady said indignantly to the news camera:\n",
              "\"I started queuing since ~4am. I am a #HongKong citizen yet I cannot…</td><td>neutral</td></tr><tr><td>31-01-2020  05:09</td><td>DriaBenji</td><td>List()</td><td>List(KaizokuNigga)</td><td>RT @KaizokuNigga: This nigga is our one and only hope against the coronavirus https://t.co/tRrK5QblMO</td><td>neutral</td></tr><tr><td>31-01-2020  05:09</td><td>JackTheSnake10</td><td>List()</td><td>List(twomad)</td><td>RT @twomad: chinese corona virus be like https://t.co/YIue08OTPa</td><td>neutral</td></tr><tr><td>31-01-2020  05:09</td><td>_kxthdxniel</td><td>List()</td><td>List(barnabychuck)</td><td>RT @barnabychuck: Is it racist to suggest a ban on flights?    NO.\n",
              "\n",
              "Is it racist to criticize Wuhan residents for traveling overseas?    NO…</td><td>neutral</td></tr><tr><td>31-01-2020  05:09</td><td>the_thief18</td><td>List()</td><td>List(spin9)</td><td>RT @spin9: ตอนนั้น SARS ใช้เวลา 9 เดือน จึงจะยุติทุกอย่าง\n",
              "\n",
              "ตอนนี้ Wuhan ยังผ่านไปไม่ถึง 2 เดือน\n",
              "\n",
              "และมีจำนวนผู้ติดเชื้อมากกว่า SARS แล้ว\n",
              "\n",
              "เร…</td><td>neutral</td></tr><tr><td>31-01-2020  05:09</td><td>miyasproperty</td><td>List()</td><td>List(chaerie_on_top)</td><td>@chaerie_on_top La china lo hiso por mi</td><td>neutral</td></tr><tr><td>31-01-2020  05:09</td><td>ameliabiant</td><td>List()</td><td>List(detikcom)</td><td>RT @detikcom: Di tengah heboh virus corona, Indonesia juga masih bergelut melawan infeksi tuberkuloasis alias TBC. Jumlah pengidapnya tak k…</td><td>neutral</td></tr><tr><td>31-01-2020  05:09</td><td>wd5jlr</td><td>List()</td><td>List(UROCKlive1)</td><td>RT @UROCKlive1: Could he possibly be any dumber?</td><td>neutral</td></tr><tr><td>31-01-2020  05:09</td><td>LwenkosiThando</td><td>List()</td><td>List()</td><td>Trump takes his people serious. Our Government can learn a thing or two about prioritising people. https://t.co/oUuMp3qLOP</td><td>negative</td></tr><tr><td>31-01-2020  05:09</td><td>HumaZohra</td><td>List()</td><td>List(VOANews)</td><td>RT @VOANews: ▶️ A specialized military cargo plane prepare to take off from Ankara Thursday, January 30, to evacuate Turkish citizens from…</td><td>negative</td></tr><tr><td>31-01-2020  05:09</td><td>PercyMauricioF9</td><td>List()</td><td>List(carlosdmesag)</td><td>RT @carlosdmesag: La preocupación mundial por el coronavirus ya es evidente.  Confiamos en nuestros profesionales de salud y esperamos que…</td><td>neutral</td></tr><tr><td>31-01-2020  05:09</td><td>kaitou416</td><td>List()</td><td>List(gauze_62045)</td><td>RT @gauze_62045: 사용해 본 마스크 중 역시 최고는 프레카 페이스웨어. 사이즈만 잘 맞춰 산다면 이걸 이기긴 힘들다 일단 마스크 착용하고 숨쉬기가 편함(중요) 산업용표준(N95) 성능 굳.. 지금은 판매량 급증해서 한 2주 기다려야 한다…</td><td>neutral</td></tr><tr><td>31-01-2020  05:09</td><td>Vishus2016</td><td>List()</td><td>List(MarcoGamaSLP, m_ebrard)</td><td>RT @MarcoGamaSLP: El mismo canciller @m_ebrard que mando naves especiales por Evo Morales y cenizas de José José, hoy declara inviable ir p…</td><td>neutral</td></tr><tr><td>31-01-2020  05:09</td><td>onlyheveenknows</td><td>List()</td><td>List(lukaspascual)</td><td>RT @lukaspascual: China would surely ban Filipinos from entering inside their region if nCov started from the PH. Just saying. #GaanoKaKapr…</td><td>positive</td></tr><tr><td>31-01-2020  05:09</td><td>molacc</td><td>List()</td><td>List(DailyPostNGR)</td><td>RT @DailyPostNGR: China: Nigerian Embassy has Jonathan on website as president, 56 months after Buhari’s assumption [Photos] https://t.co/o…</td><td>neutral</td></tr><tr><td>31-01-2020  05:09</td><td>banuesmer</td><td>List()</td><td>List(orkungodek)</td><td>RT @orkungodek: Hayırlısı olsun. 1 hafta gecikmeli ancak ilan edilebildi ya neyse. | WHO Declares Global Health Emergency Over Coronavirus</td><td>neutral</td></tr><tr><td>31-01-2020  05:09</td><td>AleRivasG</td><td>List()</td><td>List()</td><td>Prefiero morir. 😠 https://t.co/Hbx70U3z28</td><td>neutral</td></tr><tr><td>31-01-2020  05:09</td><td>catsupmonster</td><td>List()</td><td>List(LenaLuthorD)</td><td>RT @LenaLuthorD: READ CHANACCS, about the N Corona Virus, to lessen the chances na makuha natin sya.\n",
              "Being well informed is the best weapon…</td><td>positive</td></tr><tr><td>31-01-2020  05:09</td><td>gdxtn</td><td>List()</td><td>List()</td><td>lah https://t.co/GEMz3BKZQw</td><td>neutral</td></tr><tr><td>31-01-2020  05:09</td><td>jp_johnson2121</td><td>List()</td><td>List(PimpMasterYoda1, CNNPolitics)</td><td>RT @PimpMasterYoda1: @CNNPolitics Yoda has made a much more diverse Coronavirus task force then that racist Trump has. \n",
              "\n",
              "Like this if you'd…</td><td>positive</td></tr><tr><td>31-01-2020  05:09</td><td>ndrx0</td><td>List()</td><td>List()</td><td>RT @ShakuurMoon: Comportement agressif première partie de la phase zombie ça</td><td>neutral</td></tr><tr><td>31-01-2020  05:09</td><td>mserranoduenas</td><td>List()</td><td>List(Moseguello)</td><td>RT @Moseguello: El doctor Cavadas cree que China oculta las cifras reales del coronavirus: 'No hace falta ser muy listo para pensar que son…</td><td>neutral</td></tr><tr><td>31-01-2020  05:09</td><td>yastomohalumisa</td><td>List()</td><td>List(Kirokuro)</td><td>RT @Kirokuro: 新型コロナウイルス　伊の国立音楽院「すべての東洋人へのレッスン中止」 https://t.co/fXqgcQed57\n",
              "西欧はレイシズムを隠さなくなってきたようだ</td><td>neutral</td></tr><tr><td>31-01-2020  05:09</td><td>MAGA4Patriots</td><td>List()</td><td>List(greggutfeld)</td><td>RT @greggutfeld: what kind of mental illness has gripped CNN. This is literally a sick idea. Putting identity before saving lives. https://…</td><td>negative</td></tr><tr><td>31-01-2020  05:09</td><td>kunnieho</td><td>List()</td><td>List()</td><td>Ai 😔 https://t.co/aAXFVHI8OW</td><td>neutral</td></tr><tr><td>31-01-2020  05:09</td><td>aquicow</td><td>List()</td><td>List(barceIlos)</td><td>RT @barceIlos: gente nesse carnaval USEM LOLÓ PELA SAUDE DE VCS sério não existe coronavirus que sobreviva a um ambiente inóspito como o co…</td><td>neutral</td></tr><tr><td>31-01-2020  05:09</td><td>ComedyGrinder</td><td>List(Coronavirus, ResidentEvil, China, Freemasons)</td><td>List(CatNamus)</td><td>RT @CatNamus: Are you guys awake yet? #Coronavirus #ResidentEvil #China #Freemasons https://t.co/RtCCOkCq67</td><td>neutral</td></tr><tr><td>31-01-2020  05:09</td><td>imbitterberry</td><td>List(China, Taiwan, Wuhan, coronavirus)</td><td>List(SenRubioPress)</td><td>RT @SenRubioPress: #China is reportedly not allowing #Taiwan to evacuate its citizens from #Wuhan where the deadly #coronavirus is. \n",
              "\n",
              "It is…</td><td>negative</td></tr><tr><td>31-01-2020  05:09</td><td>mfdiaz8222</td><td>List()</td><td>List(MaihenH)</td><td>RT @MaihenH: ATENCION | Médicos de China siguen insistiendo que la cantidad de muertes y de infectados reportadas es mayor. El régimen de C…</td><td>neutral</td></tr><tr><td>31-01-2020  05:09</td><td>chadedeng</td><td>List()</td><td>List(risahontiveros)</td><td>RT @risahontiveros: I am urging a temporary China-wide travel ban NOW. Kelangang siguraduhin nating ligtas ang mga Pilipino sa 2019 Novel C…</td><td>neutral</td></tr><tr><td>31-01-2020  05:09</td><td>Meetwaqas292</td><td>List()</td><td>List(raziyakhan01)</td><td>RT @raziyakhan01: This video of health workers sleeping after working round the clock to help corona virus victims breaks my heart 💔😢 These…</td><td>negative</td></tr><tr><td>31-01-2020  05:09</td><td>NavroopSingh_</td><td>List()</td><td>List(Reuters)</td><td>RT @Reuters: Charter flight carrying South Koreans from Wuhan arrives home https://t.co/qs6LxaJTiV https://t.co/fI5QPbaKxd</td><td>neutral</td></tr><tr><td>31-01-2020  05:09</td><td>cescaph_</td><td>List()</td><td>List(thestandardth)</td><td>RT @thestandardth: BREAKING: องค์การอนามัยโลกประกาศให้การแพร่ระบาดของเชื้อไวรัสโคโรนาสายพันธุ์ใหม่ (2019-nCoV) เป็นภาวะฉุกเฉินทางด้านสาธารณ…</td><td>neutral</td></tr><tr><td>31-01-2020  05:09</td><td>tsnaidu5</td><td>List()</td><td>List(KlatuBaradaNiko)</td><td>RT @KlatuBaradaNiko: China plans to build a new hospital in just 10 days amid pressure to contain the coronavirus outbreak — and the constr…</td><td>positive</td></tr><tr><td>31-01-2020  05:09</td><td>bevroberts61</td><td>List()</td><td>List(vanbadham)</td><td>RT @vanbadham: Can I just ask how many chances Scott Morrison is going to get to “show leadership”? Because is now obvious that the PM job…</td><td>positive</td></tr><tr><td>31-01-2020  05:09</td><td>cnnphilippines</td><td>List()</td><td>List()</td><td>DOH: The official name of the disease is 2019 novel coronavirus acute respiratory disease (2019-nCoV ARD)</td><td>positive</td></tr><tr><td>31-01-2020  05:09</td><td>CaraotaDigital</td><td>List(coronavirus)</td><td>List()</td><td>Autoridades sanitarias alemanas confirman otros casos por #coronavirus https://t.co/03ZL1sQiFy   #&amp;</td><td>neutral</td></tr><tr><td>31-01-2020  05:09</td><td>Daddy_Erebus</td><td>List()</td><td>List()</td><td>I hate China Jesus fuck I didn’t need to see that brb gonna go hug my baby kitty</td><td>negative</td></tr><tr><td>31-01-2020  05:09</td><td>maricarboliver</td><td>List()</td><td>List()</td><td>3.16M mask sold? In just a spare of time? \n",
              "\n",
              "HOW?!! https://t.co/i42BoiaAz1</td><td>neutral</td></tr><tr><td>31-01-2020  05:09</td><td>ChanRakKhunnie</td><td>List()</td><td>List(spin9)</td><td>RT @spin9: ตอนนั้น SARS ใช้เวลา 9 เดือน จึงจะยุติทุกอย่าง\n",
              "\n",
              "ตอนนี้ Wuhan ยังผ่านไปไม่ถึง 2 เดือน\n",
              "\n",
              "และมีจำนวนผู้ติดเชื้อมากกว่า SARS แล้ว\n",
              "\n",
              "เร…</td><td>neutral</td></tr><tr><td>31-01-2020  05:09</td><td>noacrearsky</td><td>List(コロナウイルス, WHO)</td><td>List()</td><td>なにぶんにも新型のため、世界的レベルでも手探りの対応で😔\n",
              "春の新作化粧品を買おうにも、店頭サンプル使って大丈夫かな？\n",
              "（先日若い女性が化粧直しのように塗っていて😨）とか考えてしまいます😟\n",
              "アレルギー体質だと、消毒液ひとつにしろいろいろ使えないものもあるし😖\n",
              "#コロナウイルス \n",
              "＃WHO https://t.co/HAljErJjdB</td><td>neutral</td></tr><tr><td>31-01-2020  05:09</td><td>sarahhdias_</td><td>List(Coronavirus)</td><td>List(ScottGottliebMD)</td><td>RT @ScottGottliebMD: #Coronavirus: Stunning new numbers. Running totals - 9,171 confirmed cases worldwide vs 7,711 China cases yesterday; 2…</td><td>positive</td></tr><tr><td>31-01-2020  05:09</td><td>alifsmn</td><td>List()</td><td>List(501Awani)</td><td>RT @501Awani: Penularan koronavirus, nCoV telah diisytiharkan sebagai situasi kecemasan antarabangsa. Pengisytiharan itu dibuat Pertubuhan…</td><td>neutral</td></tr><tr><td>31-01-2020  05:09</td><td>sadgirlgift</td><td>List()</td><td>List(Flagfrogfiz)</td><td>RT @Flagfrogfiz: ขณะนี้กำลังเป็นข่าวใหญ่เลยครับ ทางการอิตาลีได้ออกคำสั่งปิดตายเรือสำราญที่มีขนาดใหญ่อันดับ 5 ของโลก เนื่องจากพบนักท่องเที่ย…</td><td>neutral</td></tr><tr><td>31-01-2020  05:09</td><td>zenzarate</td><td>List(Polio)</td><td>List(DaphneOP)</td><td>RT @DaphneOP: We also have an ongoing #Polio outbreak in the Philippines. The polio vaccination program is ongoing in Metro Manila now unti…</td><td>neutral</td></tr><tr><td>31-01-2020  05:09</td><td>mariadeperio</td><td>List()</td><td>List(nikomfrancisco)</td><td>RT @nikomfrancisco: Deaths from Duterte's drug war: 5000+ \n",
              "\n",
              "Even 12000+ Accdg to human rights groups.\n",
              "\n",
              "Corona virus deaths: 200+\n",
              "\n",
              "May mas m…</td><td>neutral</td></tr><tr><td>31-01-2020  05:09</td><td>Haiikyuw</td><td>List()</td><td>List()</td><td>FC SNAP À FRAPPÉE https://t.co/Tyviy4JMZs</td><td>neutral</td></tr><tr><td>31-01-2020  05:09</td><td>Deflucien</td><td>List()</td><td>List(BecomingElliott, helloalegria)</td><td>RT @BecomingElliott: @helloalegria My mum just came back from Wuhan recently, but because she's white, nobody is treating her like this. Th…</td><td>neutral</td></tr><tr><td>31-01-2020  05:09</td><td>Reeeepo_Zession</td><td>List()</td><td>List(DonaldJTrumpJr)</td><td>RT @DonaldJTrumpJr: 🙄🙄🙄 It never ends people... it never ends.</td><td>neutral</td></tr><tr><td>31-01-2020  05:09</td><td>LiweiMaverick</td><td>List()</td><td>List(cnni)</td><td>RT @cnni: Italy's Prime Minister Giuseppe Conte announced that all air traffic to and from China has been stopped in an effort to halt the…</td><td>neutral</td></tr><tr><td>31-01-2020  05:09</td><td>charitocuerva</td><td>List()</td><td>List(StellaM605, segregustavo, monilopez6053)</td><td>RT @StellaM605: @segregustavo @monilopez6053 En Ezeiza no hay ningún control,llega gente de China y entran como si nada https://t.co/Jfrzn1…</td><td>neutral</td></tr><tr><td>31-01-2020  05:09</td><td>imtttng</td><td>List()</td><td>List(spin9)</td><td>RT @spin9: ตอนนั้น SARS ใช้เวลา 9 เดือน จึงจะยุติทุกอย่าง\n",
              "\n",
              "ตอนนี้ Wuhan ยังผ่านไปไม่ถึง 2 เดือน\n",
              "\n",
              "และมีจำนวนผู้ติดเชื้อมากกว่า SARS แล้ว\n",
              "\n",
              "เร…</td><td>neutral</td></tr><tr><td>31-01-2020  05:09</td><td>jueravll</td><td>List()</td><td>List(althealegre)</td><td>@althealegre may ncov bawal na up fair. makipagdate ka pa don</td><td>positive</td></tr><tr><td>31-01-2020  05:09</td><td>SebastienLurol</td><td>List()</td><td>List()</td><td>Coronavirus : les Français rapatriés de Chine vont être mis en quarantaine à Aix-en-Provence https://t.co/zCxSZ9nPsu</td><td>neutral</td></tr><tr><td>31-01-2020  05:09</td><td>badonzi88</td><td>List()</td><td>List(Jordan_Sather_)</td><td>RT @Jordan_Sather_: ChLoRiNe DiOxiDe is so DeAdLy that....\n",
              "\n",
              "... you can buy tablets of it for $10 on Amazon to make water potable. \n",
              "\n",
              "And by…</td><td>negative</td></tr><tr><td>31-01-2020  05:09</td><td>gdlovesaur</td><td>List()</td><td>List(wangxianling)</td><td>RT @wangxianling: Wow, MXTX said she planned all the MDZS houses on a map of China! 😲 These places are REAL (ish)!\n",
              "\n",
              "Jin: Lanling, Shandong…</td><td>positive</td></tr><tr><td>31-01-2020  05:09</td><td>_MyPennyLee108</td><td>List(RENSLIFE_FINALE_IN_MACAU)</td><td>List(NUESTNEWS)</td><td>RT @NUESTNEWS: 2020 NU'EST REN SPECIAL LIVE SHOW #RENSLIFE_FINALE_IN_MACAU 공연 연기 안내\n",
              "\n",
              "2020년 2월 23일(일) 열릴 예정이었던 해당 공연이 '신종 코로나바이러스'로 인해 상황 안정…</td><td>positive</td></tr><tr><td>31-01-2020  05:09</td><td>andreacurry</td><td>List(coronavirus)</td><td>List(manyapan)</td><td>RT @manyapan: How to survive staying indoors during #coronavirus lockdown according to these very important videos making their rounds on C…</td><td>positive</td></tr><tr><td>31-01-2020  05:09</td><td>CensoredToday</td><td>List()</td><td>List()</td><td>India's First Case Of Coronavirus Confirmed In Kerala, Patient Was Student Of Wuhan Univ\n",
              "https://t.co/1o8yYz8uaR\n",
              "India's First Case Of Coronavirus Confirmed In Kerala, ... https://t.co/ONA8Y2gtd5</td><td>positive</td></tr><tr><td>31-01-2020  05:09</td><td>ECKOxKING22</td><td>List()</td><td>List(cnnphilippines)</td><td>RT @cnnphilippines: LOOK: Novel coronavirus (2019-nCov) has now spread to every region within mainland China after Tibet confirmed its firs…</td><td>positive</td></tr><tr><td>31-01-2020  05:09</td><td>NeoUnrealist</td><td>List()</td><td>List(DDayCobra)</td><td>@DDayCobra He's so afraid of being called a racist he'd walk up to Chinese people just off a plane from Wuhan and ask them to cough on him as a virtue signal.</td><td>negative</td></tr><tr><td>31-01-2020  05:09</td><td>wonhjjggu</td><td>List(Coronavirus)</td><td>List(ScottGottliebMD)</td><td>RT @ScottGottliebMD: #Coronavirus: Stunning new numbers. Running totals - 9,171 confirmed cases worldwide vs 7,711 China cases yesterday; 2…</td><td>positive</td></tr><tr><td>31-01-2020  05:09</td><td>der_hon</td><td>List()</td><td>List(united)</td><td>@united Now the US industry has recognized that the Wuhan corona virus can harm Chinese industry. Without being the \"bad guy\". We know that in Germany too. When introducing the deposit for cans. First loudly against it. Then cash up.</td><td>negative</td></tr><tr><td>31-01-2020  05:09</td><td>yoonnierm</td><td>List()</td><td>List(vantaegd)</td><td>@vantaegd @bubuyoxn JAJAJAJS ES PEOR QUE  EL CORONAVIRUS.</td><td>neutral</td></tr><tr><td>31-01-2020  05:09</td><td>frankmeier65</td><td>List()</td><td>List()</td><td>https://t.co/7dvqMtX4dq</td><td>neutral</td></tr><tr><td>31-01-2020  05:09</td><td>ccachor2</td><td>List()</td><td>List(webdevMason)</td><td>RT @webdevMason: &gt;200 dead despite intensive care; at least an order of magnitude more deadly than the flu, highly mobile w/ no vaccine, ju…</td><td>negative</td></tr><tr><td>31-01-2020  05:09</td><td>sinnerchim</td><td>List()</td><td>List(kathbarbadoro)</td><td>RT @kathbarbadoro: Coronavirus is scary enough to make Americans racist about Chinese people but not scary enough to make Americans start w…</td><td>negative</td></tr><tr><td>31-01-2020  05:09</td><td>LucasCantera</td><td>List()</td><td>List(MundoEConflicto)</td><td>RT @MundoEConflicto: 🔴 URGENTE: Hospital San José de Pergamino en las afueras de Buenos Aires, Argentina activa un protocolo de emergencia…</td><td>neutral</td></tr><tr><td>31-01-2020  05:09</td><td>yudhapati88</td><td>List()</td><td>List(NannyAlexendry)</td><td>RT @NannyAlexendry: Pantesan si Trump sampai segitunya nyerang China terus2an, ternyata di PBB aja nggak bisa bayar hutangnya, sampai PBB t…</td><td>neutral</td></tr><tr><td>31-01-2020  05:09</td><td>gelaiiiciocon</td><td>List()</td><td>List()</td><td>Hoy Dumaguete pharmacies!!! Grabe ra pud mo maka-presyo sa face masks ninyo. Dili mo makonsesnya ana style ninyo? Sus ka-daghan N95 masks diri sa Riyadh if only dali ra kaayo magpadala. 😔</td><td>neutral</td></tr><tr><td>31-01-2020  05:09</td><td>clntgndnco</td><td>List()</td><td>List(_kaangg)</td><td>@_kaangg Yup kay inig demo e remove namo. It’s still useless. What if Corona virus mode of transmission is also through airborne ? Heee ambot jd</td><td>negative</td></tr><tr><td>31-01-2020  05:09</td><td>skys_me</td><td>List()</td><td>List(AlanGreyProject)</td><td>RT @AlanGreyProject: I wouldn't be surprised if she is responsible for it......after all she's a virus.....maybe it transmuted from her vir…</td><td>positive</td></tr><tr><td>31-01-2020  05:09</td><td>Azilanut</td><td>List()</td><td>List(shukery_azizan)</td><td>RT @shukery_azizan: Fun fact (tak fun sangat pun).\n",
              "\n",
              "Selain daripada coronavirus dari Wuhan yang menakutkan tu, ada satu lagi virus yang lag…</td><td>positive</td></tr><tr><td>31-01-2020  05:09</td><td>bossa870099</td><td>List(coronavirus, authoritarianism, EconLog)</td><td>List(Econlib)</td><td>RT @Econlib: We're all worried about the #coronavirus... But maybe we should be MORE worried about #authoritarianism. Sumner at #EconLog: h…</td><td>positive</td></tr><tr><td>31-01-2020  05:09</td><td>GN_SpBxn</td><td>List(Lisa)</td><td>List(hallyukstar)</td><td>RT @hallyukstar: YG แจ้งการยกเลิกคิวกิจกรรมของ ลิซ่า 'BLACKPINK' ในจีน จากสถานการณ์การแพร่ระบาดของไวรัสโคโรน่าสายพันธุ์ใหม่ 2019\n",
              "--\n",
              "#Lisa #…</td><td>neutral</td></tr><tr><td>31-01-2020  05:09</td><td>SintuTi87593664</td><td>List()</td><td>List(iDarshanBJP)</td><td>RT @iDarshanBJP: इनका कुछ अलग ही चलता रेहता है। आसमानी किताब के आसमानी कबूतर\n",
              "\n",
              "विवादास्पद मुस्लिम धर्मगुरु इलियास शराफुद्दीन ने एक विचित्र ब…</td><td>neutral</td></tr><tr><td>31-01-2020  05:09</td><td>piaypil_</td><td>List()</td><td>List()</td><td>y do they still permit flights to and from china if they do not want the virus to spread¿¿</td><td>neutral</td></tr><tr><td>31-01-2020  05:09</td><td>aliark28</td><td>List()</td><td>List(peynirgemisi)</td><td>RT @peynirgemisi: Dünya nüfusu Hz.İsa doğduğunda yaklaşık 200 milyondu.\n",
              "18 asır sonra 1 milyara, 123 yıl sonra 2 milyara ulaştı.\n",
              "33 yıl son…</td><td>neutral</td></tr><tr><td>31-01-2020  05:09</td><td>ReemoShaks</td><td>List()</td><td>List()</td><td>This year nearly had WW3, the outbreak of the coronavirus, the death of one of the most iconic sports personality and now Jake fucking Paul winning a boxing match. This year really did get put in a spliff 😤🤕🥴</td><td>positive</td></tr><tr><td>31-01-2020  05:09</td><td>MaiiMarel</td><td>List()</td><td>List()</td><td>Por favor https://t.co/6vfsaKzgma</td><td>neutral</td></tr><tr><td>31-01-2020  05:09</td><td>inno_inn0</td><td>List()</td><td>List(AJA_Cortes)</td><td>RT @AJA_Cortes: “aLl cUltUrEs aRe eQuaL”\n",
              "\n",
              "This is barbaric on every level</td><td>neutral</td></tr><tr><td>31-01-2020  05:09</td><td>YaqoobSoomro10</td><td>List()</td><td>List(faizanyacin)</td><td>RT @faizanyacin: حدیث نبوی صلی اللہ علیہ وآلہ سلم\n",
              "\"جب تم طاعون کےبارے میں سنو تو وہاں مت جاؤ اور جب اس سرزمین میں طاعون واقع ہوجائے جہاں تم…</td><td>neutral</td></tr><tr><td>31-01-2020  05:09</td><td>AllenLabayen</td><td>List()</td><td>List(jjcdizon)</td><td>RT @jjcdizon: So the Wuhan coronavirus entered our country.\n",
              "\n",
              "Mark my words, mga mahihirap ang unang mamamatay dito—yung mga sinabi ni Duter…</td><td>neutral</td></tr><tr><td>31-01-2020  05:09</td><td>MisaSalatino</td><td>List()</td><td>List()</td><td>Con la milonga del coronavirus no tendrían que dejar entra a nadie (o por lo menos a asiáticos) al país.</td><td>neutral</td></tr><tr><td>31-01-2020  05:09</td><td>Geordanooo</td><td>List(coronavirus, CoronavirusOutbreak)</td><td>List(choculate)</td><td>RT @choculate: Really appreciated the humanity act! \n",
              " \n",
              "#coronavirus #CoronavirusOutbreak https://t.co/C5rZTlPj2y</td><td>positive</td></tr><tr><td>31-01-2020  05:09</td><td>NonbeeKaerun</td><td>List()</td><td>List(burubur56030897)</td><td>RT @burubur56030897: 西洋人権出羽守の皆さん一言どうぞ。\n",
              "https://t.co/GFWboFH9EB</td><td>neutral</td></tr><tr><td>31-01-2020  05:09</td><td>geltorralba_</td><td>List()</td><td>List()</td><td>So cancelled amng swimming class tomorrow for precautionary measures of corona virus. Nice wan XU PE dept. 👏🏻</td><td>positive</td></tr><tr><td>31-01-2020  05:09</td><td>system64738</td><td>List(Giuseppi)</td><td>List(RadioSavana)</td><td>RT @RadioSavana: Poco fa #Giuseppi il Magnifico non era preoccupato, ora ha cambiato faccia e tono: la cosa gravissima che NON sa nemmeno l…</td><td>neutral</td></tr><tr><td>31-01-2020  05:09</td><td>regaussing</td><td>List()</td><td>List(angryshrub, tirentu)</td><td>@angryshrub @tirentu https://t.co/FcdKfobywF\n",
              "\n",
              "Why you so keen on offloading universal problems onto China rather than addressing them? Bro.</td><td>neutral</td></tr><tr><td>31-01-2020  05:09</td><td>wearyNiteowl</td><td>List(AsiaPacific, Taiwan)</td><td>List(iingwen)</td><td>RT @iingwen: As a major transportation hub in the #AsiaPacific region, #Taiwan must be included in efforts to prevent the spread of the cor…</td><td>positive</td></tr><tr><td>31-01-2020  05:09</td><td>yoelsebastian95</td><td>List()</td><td>List(KatolikG)</td><td>RT @KatolikG: .. virus itu dimulai di China karena \"pemerintah Komunis yang tidak ber-Tuhan menganiaya orang-orang Kristen dan melakukan ab…</td><td>neutral</td></tr><tr><td>31-01-2020  05:09</td><td>chepeluis82</td><td>List()</td><td>List(LuisCardenasMx)</td><td>RT @LuisCardenasMx: ¿Y si mandamos el avión presidencial, que de todos modos nos cuesta un buen varo usarlo de florero, por nuestros connac…</td><td>neutral</td></tr><tr><td>31-01-2020  05:09</td><td>natoattacks</td><td>List()</td><td>List(isgoodrum)</td><td>RT @isgoodrum: China's system is the reason the virus hasn't spread faster.\n",
              "\n",
              "They've shut down the economy of a region. They're arresting p…</td><td>negative</td></tr><tr><td>31-01-2020  05:09</td><td>waldenmonk</td><td>List()</td><td>List(roddreher)</td><td>RT @roddreher: This is how these lunatics think.</td><td>neutral</td></tr><tr><td>31-01-2020  05:09</td><td>Bhupendra519</td><td>List()</td><td>List(RahulGandhi)</td><td>RT @RahulGandhi: In China, the Coronavirus has killed hundreds of people. My thoughts are with the families of the victims &amp; the millions w…</td><td>negative</td></tr><tr><td>31-01-2020  05:09</td><td>cznknnth</td><td>List(katkat)</td><td>List()</td><td>ghorl mamatay kas pagka helas, dli sa ncov #katkat</td><td>neutral</td></tr><tr><td>31-01-2020  05:09</td><td>LianaRenee5</td><td>List()</td><td>List(realDonaldTrump)</td><td>@realDonaldTrump REALLY?  Why don't you f****** move to China!!!</td><td>positive</td></tr><tr><td>31-01-2020  05:09</td><td>LiNFuJoShi</td><td>List(ไวรัสโคโรนา)</td><td>List(fm91trafficpro)</td><td>RT @fm91trafficpro: องค์การอนามัยโลก (WHO) ประกาศยกระดับ #ไวรัสโคโรนา เป็น “ภาวะฉุกเฉินด้านสาธารณสุขของโลก” หลังพบผู้ติดเชื้อเพิ่ม10 เท่าใน…</td><td>neutral</td></tr><tr><td>31-01-2020  05:09</td><td>Gillbot70000</td><td>List()</td><td>List(NetHistorian)</td><td>RT @NetHistorian: Been hearing rumours that infected from China are biting and eating each other and the only way to stop them is to sever…</td><td>negative</td></tr><tr><td>31-01-2020  05:09</td><td>briandroschuk</td><td>List()</td><td>List(MarcoVillalba5)</td><td>RT @MarcoVillalba5: Bueno con todo esto lo de coronavirus no se puede chapar asi que tengan cuidado bueno igual yo estoy tomando precaucion…</td><td>neutral</td></tr><tr><td>31-01-2020  05:09</td><td>cescaph_</td><td>List(ไวรัสโคโรนาสายพันธุ์ใหม่)</td><td>List(processic)</td><td>RT @processic: องค์การอนามัยโลก (WHO) ประกาศให้ #ไวรัสโคโรนาสายพันธุ์ใหม่ เป็นภาวะฉุกเฉินด้านสาธารณสุขของโลก</td><td>neutral</td></tr><tr><td>31-01-2020  05:09</td><td>alemniyazi</td><td>List(coronavirus, China, WuhanSARS)</td><td>List(DDGrubu)</td><td>RT @DDGrubu: Sadece 50-60 kişiyi öldüren bir grip salgını gibi gözükmüyor... #coronavirus #China #WuhanSARS</td><td>neutral</td></tr><tr><td>31-01-2020  05:09</td><td>akpturkiyesi</td><td>List(Wuhan, Coronavirus)</td><td>List(teo_dorakis)</td><td>RT @teo_dorakis: Yani, THY diyor ki;\n",
              "\"Talep olsa,\n",
              "halk sağlığı falan dinlemem,\n",
              "virüs mirüs tanımam, \n",
              "#Wuhan'a bile uçarım.!\"\n",
              "\n",
              "#Coronavirus…</td><td>neutral</td></tr><tr><td>31-01-2020  05:09</td><td>lpz_37</td><td>List()</td><td>List(lazago85)</td><td>RT @lazago85: https://t.co/vKhMXyow46\n",
              "En apoyo a protección en cuanto a salud de la ciudadanía y dado que se ha declarado  \"alerta\" solo 4…</td><td>neutral</td></tr><tr><td>31-01-2020  05:09</td><td>twicexoncexot9</td><td>List()</td><td>List(pr_moph)</td><td>RT @pr_moph: รายงานข่าวกรณีโรคปอดอักเสบจากเชื้อไวรัสโคโรนาสายพันธุ์ใหม่ 2019 (Novel Coronavirus;2019-nCoV) ประจำวันที่ 31 มกราคม 2563 https…</td><td>neutral</td></tr><tr><td>31-01-2020  05:09</td><td>ShirleyRinguet5</td><td>List()</td><td>List(LisaMei62)</td><td>RT @LisaMei62: Nice catch!</td><td>positive</td></tr><tr><td>31-01-2020  05:09</td><td>MichaelJeid</td><td>List()</td><td>List(47Ronan)</td><td>RT @47Ronan: My friend who works at WHO is so frustrated about the first case of coronavirus.\n",
              "\n",
              "\"Namasyal pa ng Cebu at Dumaguete si ate Chi…</td><td>negative</td></tr><tr><td>31-01-2020  05:09</td><td>popopon5604</td><td>List()</td><td>List(katsuyatakasu)</td><td>RT @katsuyatakasu: よかった。気が変わらないうちに帰ってもらおう。</td><td>neutral</td></tr><tr><td>31-01-2020  05:09</td><td>nardngmoe</td><td>List(coronavirus)</td><td>List(IkellJohn, mellameyah, AbubacarHatz, jackmaico18, rapplerdotcom)</td><td>@IkellJohn @mellameyah @AbubacarHatz @jackmaico18 @rapplerdotcom Sa tingin mo sa Estimated 68 Million na maaring mamatay dahil sa #coronavirus di kayo mapapasama dun ng poon mo? Ahahaha morons!!!</td><td>negative</td></tr><tr><td>31-01-2020  05:09</td><td>digitaldevily</td><td>List()</td><td>List(pixelatedboat)</td><td>RT @pixelatedboat: If someone with coronavirus sneezed at me I would simply sneeze at the same time, blocking their sneeze in midair</td><td>neutral</td></tr><tr><td>31-01-2020  05:09</td><td>coolfacelife</td><td>List(Coolfacelife, bandanas, Coronavirus, Soca, Carnival, trinidadcarnival, jamaicacarnival, haitianflagday)</td><td>List()</td><td>New Use found for #Coolfacelife #bandanas - #Coronavirus protection. #Soca Safely....#Carnival must go on!!!\n",
              "\n",
              "#trinidadcarnival #jamaicacarnival #haitianflagday https://t.co/oFCkikja8q</td><td>positive</td></tr><tr><td>31-01-2020  05:09</td><td>Reginuhhhhh</td><td>List()</td><td>List(TheLaSallian)</td><td>RT @TheLaSallian: BREAKING: Department of Health confirms this morning, January 31, that 56 patients are currently being monitored for the…</td><td>neutral</td></tr><tr><td>31-01-2020  05:09</td><td>iotdevzone</td><td>List(coronavirus)</td><td>List()</td><td>A Disproportionate Amount of People Think the Coronavirus Is Linked to Corona Beer. No, the coronavirus has nothing to do with the alcoholic beverage - https://t.co/KLVuh4p12j #coronavirus</td><td>negative</td></tr><tr><td>31-01-2020  05:09</td><td>Diaboli57422123</td><td>List(coronavirusitalIa, OspedaliAperti, Salvinisciacallo, salvinichiacchierone)</td><td>List()</td><td>Due casi accertati di coronavirus a Roma . Aprite sti cazzo di ospedali anche il sabato e la domenica oppure no ??\n",
              "😂😂😂😂😂😂😂😂😂\n",
              "#coronavirusitalIa \n",
              "#OspedaliAperti\n",
              "#Salvinisciacallo\n",
              "#salvinichiacchierone</td><td>negative</td></tr><tr><td>31-01-2020  05:09</td><td>ixV82lztBWoTved</td><td>List()</td><td>List(katsuyatakasu)</td><td>RT @katsuyatakasu: よかった。気が変わらないうちに帰ってもらおう。 https://t.co/Mhy3Hk6Wyr</td><td>neutral</td></tr><tr><td>31-01-2020  05:09</td><td>IramAgustin</td><td>List(Keepsafeeveryone)</td><td>List()</td><td>BREAKING: The Department of Health confirmed the first case of the 2019 novel coranavirus in the Philippines.\n",
              "The confirmed case, a 38-year-old woman from Wuhan,China\n",
              "visited Cebu and Dumaguete City, the DOH said in a press conference.\n",
              "#Keepsafeeveryone🙏\n",
              "-CTTO</td><td>positive</td></tr><tr><td>31-01-2020  05:09</td><td>NuranishaS</td><td>List()</td><td>List(JPenerangan, PenangJapen)</td><td>RT @JPenerangan: Info On Wheels Jabatan Penerangan Malaysia 30 Januari 2020, [1/2] @PenangJapen \n",
              "\n",
              "Jabatan Penerangan Malaysia Pulau Pinang…</td><td>neutral</td></tr><tr><td>31-01-2020  05:09</td><td>FINepidemiology</td><td>List()</td><td>List(THLorg)</td><td>RT @THLorg: Matkailijalla on todettu koronavirustartunta Lapin keskussairaalassa. Kyseessä on ensimmäinen varmistettu tapaus Suomessa. \n",
              "\n",
              "Lu…</td><td>neutral</td></tr><tr><td>31-01-2020  05:09</td><td>HenryAlcantara6</td><td>List()</td><td>List()</td><td>😔 le dio el Coronavirus a Messi https://t.co/OLSyLDkhSs</td><td>neutral</td></tr><tr><td>31-01-2020  05:09</td><td>IsaakMtzTz</td><td>List()</td><td>List()</td><td>Que la boca se te haga chicharrón. https://t.co/th39708jJX</td><td>neutral</td></tr><tr><td>31-01-2020  05:09</td><td>ldaza95</td><td>List()</td><td>List(Opinion_Bolivia)</td><td>RT @Opinion_Bolivia: El ministro de Salud, Aníbal Cruz, informó este jueves que cuatro personas que llegaron a Bolivia, procedentes de Wuha…</td><td>neutral</td></tr><tr><td>31-01-2020  05:09</td><td>aubeduprintemps</td><td>List()</td><td>List()</td><td>Bisan pag iban sa govertment ang flights from China naa man gihapoy countries na infected na pud sa virus na hindi nato ma bal an na maabot ra gihapon na diri sa Pilipinas</td><td>neutral</td></tr><tr><td>31-01-2020  05:09</td><td>gdxtn</td><td>List()</td><td>List(gmanews)</td><td>RT @gmanews: JUST IN: A total of 31 persons under investigation for 2019 novel coronavirus acute respiratory disease (2019-nCoV ARD), accor…</td><td>positive</td></tr><tr><td>31-01-2020  05:09</td><td>RobertoBaios</td><td>List()</td><td>List(Rocoli49, prensagrafica, FranAlabi)</td><td>RT @Rocoli49: @prensagrafica @FranAlabi \"Vuelos provenientes de China\"...😶😶 https://t.co/VtHCaoswKD</td><td>neutral</td></tr><tr><td>31-01-2020  05:09</td><td>putuliza</td><td>List()</td><td>List(MeLikeWater)</td><td>RT @MeLikeWater: Something to ponder. If there are 14 crematoriums in the Wuhan area, if they have been running 24/7 since 10th Jan, &amp; if i…</td><td>neutral</td></tr><tr><td>31-01-2020  05:09</td><td>always_meandyou</td><td>List()</td><td>List(Richeydarian)</td><td>RT @Richeydarian: Glad Duly Elected VICE PRESIDENT Leni Robredo has the guts and DECISIVENESS to call for temporary BAN on travel from seve…</td><td>positive</td></tr><tr><td>31-01-2020  05:09</td><td>aliciaontweeter</td><td>List()</td><td>List(atrupar)</td><td>RT @atrupar: Secretary Wilbur Ross says coronavirus will be good for [checks notes] American jobs: \"I think it will help to accelerate the…</td><td>positive</td></tr><tr><td>31-01-2020  05:09</td><td>habits91</td><td>List()</td><td>List()</td><td>NO QUIERO MORIR CHINOS DE MIERDA LOS ODIO TODO ES CULPA DE USTEDES https://t.co/iyUwqyeDVx https://t.co/V7frELglJB</td><td>neutral</td></tr><tr><td>31-01-2020  05:09</td><td>mroo947</td><td>List()</td><td>List(lopezdoriga, m_ebrard)</td><td>@lopezdoriga De acuerdo con @m_ebrard . Además la ciudad china está en cuarentena.</td><td>neutral</td></tr><tr><td>31-01-2020  05:09</td><td>deshdeepaksharm</td><td>List()</td><td>List(makkugreat, timesofindia)</td><td>RT @makkugreat: To show real.solidarity, better send all Pakistani to China. ..\n",
              "\n",
              "https://t.co/APjQnnadYy via @timesofindia</td><td>positive</td></tr><tr><td>31-01-2020  05:09</td><td>SavvyKatnip</td><td>List()</td><td>List(Jordan_Sather_)</td><td>RT @Jordan_Sather_: Youtube didn't like my video yesterday about Coronavirus Patents, Bioengineering, and CLO2\n",
              "\n",
              "https://t.co/Rdlog7qxAI</td><td>neutral</td></tr><tr><td>31-01-2020  05:09</td><td>Almafer9</td><td>List()</td><td>List(bitxaencuestion)</td><td>RT @bitxaencuestion: el coronavirus entrando en europa</td><td>neutral</td></tr><tr><td>31-01-2020  05:09</td><td>claudiasma18</td><td>List()</td><td>List(dido1x)</td><td>@dido1x Coronavirus jajaja ... gripe 🥺</td><td>neutral</td></tr><tr><td>31-01-2020  05:09</td><td>AdejoroDaniel</td><td>List()</td><td>List()</td><td>I think more people need to get the realization that two wrongs never make a right \n",
              "\n",
              "The Chinese people all over the world are being ill treated all because of the Coronavirus and Africans on my TL are talking about how we were treated the same way during Ebola crisis</td><td>positive</td></tr><tr><td>31-01-2020  05:09</td><td>Speak2usSofia</td><td>List(coronavirus)</td><td>List(MichaelWestBiz)</td><td>RT @MichaelWestBiz: 1. Re #coronavirus evac deal to Christmas Island being unsuitable. A few defence sites in WA can easily accommodate all…</td><td>positive</td></tr><tr><td>31-01-2020  05:09</td><td>t11tto</td><td>List()</td><td>List(DRDRacompany)</td><td>RT @DRDRacompany: 혁오 2020 월드 투어 - 서울 / 신종 코로나바이러스 감염증 대비 안내\n",
              "\n",
              "HYUKOH 2020 WORLD TOUR - SEOUL / Preparation notice regarding novel coronaviru…</td><td>neutral</td></tr><tr><td>31-01-2020  05:09</td><td>spottaman</td><td>List(coronavirus)</td><td>List(MediasetTgcom24)</td><td>@MediasetTgcom24 mortalità tra il 2 e 3 percento, esattamente come qualsiasi influenza. #coronavirus</td><td>neutral</td></tr><tr><td>31-01-2020  05:09</td><td>JennEd501</td><td>List()</td><td>List(atrupar)</td><td>RT @atrupar: Secretary Wilbur Ross says coronavirus will be good for [checks notes] American jobs: \"I think it will help to accelerate the…</td><td>positive</td></tr><tr><td>31-01-2020  05:09</td><td>reighn77</td><td>List()</td><td>List(GottaBernNow)</td><td>RT @GottaBernNow: Commerce secretary says coronavirus will help bring jobs to North America ——- WTF is wrong with these people who think to…</td><td>negative</td></tr><tr><td>31-01-2020  05:09</td><td>Howie1228</td><td>List()</td><td>List(PUBGEsports)</td><td>RT @PUBGEsports: Due to the health concerns surrounding Coronavirus, we have decided to postpone the China qualifiers until further notice.…</td><td>negative</td></tr><tr><td>31-01-2020  05:09</td><td>CensoredToday</td><td>List()</td><td>List()</td><td>India's First Case Of Coronavirus Confirmed In Kerala, Patient Was Student Of Wuhan Univ\n",
              "https://t.co/1o8yYz8uaR\n",
              "India's First Case Of Coronavirus Confirmed In Kerala, ... https://t.co/Hd6j8j2qUl</td><td>positive</td></tr><tr><td>31-01-2020  05:09</td><td>ViCktorr_</td><td>List()</td><td>List(TundeTASH)</td><td>RT @TundeTASH: The Nigerian Embassy in Shangai, China has not put up any notice on their website regarding the Coronavirus in Wuhan.\n",
              "\n",
              "Are t…</td><td>neutral</td></tr><tr><td>31-01-2020  05:09</td><td>ChinnyCO</td><td>List()</td><td>List()</td><td>And that’s truly the greatest dread. Imagine this type of outbreak in weaker health systems. We MUST do better across all of Africa. https://t.co/e42DfoYNkq</td><td>positive</td></tr><tr><td>31-01-2020  05:09</td><td>Christi71386739</td><td>List(China_is_terrorist)</td><td>List(WHO, WHO)</td><td>@WHO Too late to announce global emergency while every countries are evacuating their citizens already . @WHO has lost its credibility forever #China_is_terrorist https://t.co/E0pbIFlN71</td><td>negative</td></tr><tr><td>31-01-2020  05:09</td><td>Centrair_Hoya</td><td>List()</td><td>List(Ex_Armydoc)</td><td>RT @Ex_Armydoc: 뭔가 감염 이슈만 생기면 갑자기 마스크 쓰신 분들이 확 증가하는데, 굳이 N95나 KF94 같은 걸 구입하신 다음 갑갑하다고 와이어 딱 맞게 피팅 안 하거나 뒤의 후크 안 걸거나 심지어 코 나오게 쓰신 분들을 보면 약간…</td><td>neutral</td></tr><tr><td>31-01-2020  05:09</td><td>Parisfrances200</td><td>List()</td><td>List(risahontiveros)</td><td>RT @risahontiveros: I am urging a temporary China-wide travel ban NOW. Kelangang siguraduhin nating ligtas ang mga Pilipino sa 2019 Novel C…</td><td>neutral</td></tr><tr><td>31-01-2020  05:09</td><td>PublicHealthMap</td><td>List()</td><td>List(NYTHealth)</td><td>RT @NYTHealth: The W.H.O. declared that the Wuhan coronavirus outbreak was a global health emergency, acknowledging that the disease now re…</td><td>neutral</td></tr><tr><td>31-01-2020  05:09</td><td>devalara44</td><td>List(coronarvirus)</td><td>List(political_alert)</td><td>RT @political_alert: Minister for Health, Greg Hunt, update on Novel Coronavirus in Australia #coronarvirus https://t.co/SfodqKwToI</td><td>neutral</td></tr><tr><td>31-01-2020  05:09</td><td>Apolo_Rosado17</td><td>List(Macara, coronavirus)</td><td>List(Salud_CZ7)</td><td>RT @Salud_CZ7: #Macara| Personal médico continúa con la difusión de medidas de prevención frente al #coronavirus loa personas  que circulan…</td><td>neutral</td></tr><tr><td>31-01-2020  05:09</td><td>xxi_sima</td><td>List()</td><td>List()</td><td>RT @ayahpermandian: *Virus Corona menyebar*\n",
              "\n",
              "Warga Dunia: \"Kita harus memakai masker sebagai langkah pengamanan\" *memakai masker\n",
              "\n",
              "Warga RRC…</td><td>neutral</td></tr><tr><td>31-01-2020  05:09</td><td>gailecalonia_</td><td>List()</td><td>List(KasamangChad)</td><td>RT @KasamangChad: HA BAKIT MAY PA QUIZ BEE??</td><td>neutral</td></tr><tr><td>31-01-2020  05:09</td><td>muvamiah</td><td>List(BREAKING, Coronavirus)</td><td>List(OfficialJoelF)</td><td>RT @OfficialJoelF: #BREAKING: First person-to-person spread of #Coronavirus reported in Chicago. \n",
              "\n",
              "https://t.co/AVDeoYVjSX https://t.co/ndt…</td><td>positive</td></tr><tr><td>31-01-2020  05:09</td><td>insanexer22</td><td>List()</td><td>List(benshapiro)</td><td>RT @benshapiro: So just to get this straight, CNN is objecting to a task force designed to stop an epidemic by focusing on...ethnic diversi…</td><td>positive</td></tr><tr><td>31-01-2020  05:09</td><td>QRasell</td><td>List()</td><td>List(AreshGallos)</td><td>RT @AreshGallos: Si la raza humana va a ser exterminada por una epidemia por lo menos que tenga un buen nombre, coronavirus no asusta a nad…</td><td>neutral</td></tr><tr><td>31-01-2020  05:09</td><td>tolentinokeisha</td><td>List()</td><td>List()</td><td>So kami diri???? Leche ha https://t.co/dzQJ3bd8cd</td><td>neutral</td></tr><tr><td>31-01-2020  05:09</td><td>nabor_merino</td><td>List()</td><td>List(DennBMcdougall)</td><td>RT @DennBMcdougall: Para los cuatreros 4 mexicanos en china representan tremendo gasto de avión\n",
              "\n",
              "Las cenizas de José José no representan ga…</td><td>neutral</td></tr><tr><td>31-01-2020  05:09</td><td>davidblake12345</td><td>List()</td><td>List(BaldingsWorld)</td><td>RT @BaldingsWorld: I could have sworn I was told by other professors they were as ethically pure as the freshly fallen snow and that you we…</td><td>positive</td></tr><tr><td>31-01-2020  05:09</td><td>lululovebts1</td><td>List(BTSARMY, coronavirus)</td><td>List(Snowflakesdrop)</td><td>RT @Snowflakesdrop: Keep safe, Armyyyyy! The number is rising every day🙏! #BTSARMY \n",
              "\n",
              "#coronavirus awareness! https://t.co/mlXPGWUQwa</td><td>positive</td></tr><tr><td>31-01-2020  05:09</td><td>utopianindigent</td><td>List()</td><td>List(Serious72048896, KimDotcom)</td><td>RT @Serious72048896: @KimDotcom Pretty sure this was in response to Obama stating that an Ebola outbreak, was not a problem..</td><td>positive</td></tr><tr><td>31-01-2020  05:09</td><td>saisighs_</td><td>List()</td><td>List()</td><td>China be bringing dem variety of flu. https://t.co/XBf5gy1XsO</td><td>neutral</td></tr><tr><td>31-01-2020  05:09</td><td>SilentlyFedUp</td><td>List()</td><td>List(AriFleischer)</td><td>RT @AriFleischer: Did you know that the Obama-Biden administration in 2016 fined JP Morgan $264 million for hiring the unqualified kids of…</td><td>neutral</td></tr><tr><td>31-01-2020  05:09</td><td>geceasi</td><td>List()</td><td>List(Jevne_Turqvie)</td><td>RT @Jevne_Turqvie: Wuhan'da sıradan bir gün, sağlık ekipleri sokaklardan ölüleri topluyor.\n",
              "\n",
              "Çin hükümeti gerçek rakamları gizliyor. https:/…</td><td>neutral</td></tr><tr><td>31-01-2020  05:09</td><td>winepiece</td><td>List()</td><td>List()</td><td>RT @ayahpermandian: *Virus Corona menyebar*\n",
              "\n",
              "Warga Dunia: \"Kita harus memakai masker sebagai langkah pengamanan\" *memakai masker\n",
              "\n",
              "Warga RRC…</td><td>neutral</td></tr><tr><td>31-01-2020  05:09</td><td>kat2020maga</td><td>List()</td><td>List(marypatriot3)</td><td>RT @marypatriot3: Israel, Italy Suspend All Flights From China\n",
              "\n",
              "https://t.co/k30SqqhJti</td><td>neutral</td></tr><tr><td>31-01-2020  05:09</td><td>KoinangeChief</td><td>List()</td><td>List(nahashon87)</td><td>RT @nahashon87: Counties affected by foot &amp; mouth outbreak are Bungoma, Busia, Elgeyo Marakwet, Kakamega, West Pokot, Murang’a, &amp; Trans Nzo…</td><td>neutral</td></tr><tr><td>31-01-2020  05:09</td><td>floweringwithin</td><td>List()</td><td>List(psychdr100)</td><td>RT @psychdr100: Today Trump addresses the corona virus:\n",
              "“We think it’s going to have a very good ending for us. That I can assure you,” Tru…</td><td>positive</td></tr><tr><td>31-01-2020  05:09</td><td>jk_charms</td><td>List(jkcharmUPDATE)</td><td>List()</td><td>[#jkcharmUPDATE]\n",
              "\n",
              "Due to Lunar New Year, and the Coronavirus that extended the new year holiday and changes that have to be made to the TwoTuckGom Keychain Shakers. There will be a large delay for the keychains. My apologies. ☹️</td><td>positive</td></tr><tr><td>31-01-2020  05:09</td><td>carneilhan</td><td>List()</td><td>List(Luluducalvaire)</td><td>@Luluducalvaire Oui et cette année c’est le coronavirus. A chaque année ses fléaux.....</td><td>neutral</td></tr><tr><td>31-01-2020  05:09</td><td>doll__en</td><td>List()</td><td>List()</td><td>大豆はスイッチングだけでは不十分だったからなぁ。合意署名式前に関税免除もあったし。\n",
              "”中国の米国産大豆輸入、12月は前年から急増　貿易摩擦緩和で” https://t.co/tZnvJYigib</td><td>neutral</td></tr><tr><td>31-01-2020  05:09</td><td>choichi37</td><td>List()</td><td>List(Lingmu57733477)</td><td>RT @Lingmu57733477: 今日コロナウイルスの検査をした沙田第一城に位置するPrince of Wales hospital。\n",
              "\n",
              "香港在住の皆さん、体調が悪い時にご活用下さい！コロナかも？と思ったら相談次第で検査出来るかと…１泊＋治療費で３００HKDでした。\n",
              "#C…</td><td>neutral</td></tr><tr><td>31-01-2020  05:09</td><td>shushfuckers</td><td>List()</td><td>List()</td><td>RT @yourlocalgaykid: lmao in singapore they sell it at carousel at an extremely high price. cb i saw someone selling JUST 1 FUCKING PIECE O…</td><td>positive</td></tr><tr><td>31-01-2020  05:09</td><td>onlyaidee</td><td>List()</td><td>List(detikcom)</td><td>RT @detikcom: Impor produk pertanian dari China ditunda sementara imbas merebaknya virus Corona di China. Hal itu sebagai langkah antisipas…</td><td>neutral</td></tr><tr><td>31-01-2020  05:09</td><td>GloryT0HongKong</td><td>List()</td><td>List(TheEconomist)</td><td>RT @TheEconomist: The world has never responded so rapidly to a disease as it has to the Wuhan virus. Much hinges on slowing the virus's sp…</td><td>positive</td></tr><tr><td>31-01-2020  05:09</td><td>DuriaWalther</td><td>List(coronavirus)</td><td>List(artemi_ecrit)</td><td>RT @artemi_ecrit: Ich bete für die Chinesen u hoffe, dass der #coronavirus hier nicht um sich greift. Unsere polit Führung ist seit Jahren…</td><td>neutral</td></tr><tr><td>31-01-2020  05:09</td><td>yipcw</td><td>List(coronavirus, 武汉肺炎)</td><td>List()</td><td>SCMP via abacus news Anger on social media over China #coronavirus outbreak goes uncensored\n",
              "As Chinese netizens speak out on Sina Weibo 新浪微博 Tencent \n",
              " WeChat 腾讯微信 against the Wuhan government,posts are surviving inside the Great Firewall\n",
              "https://t.co/b6TnP4dpbK\n",
              "\n",
              "#武汉肺炎</td><td>positive</td></tr><tr><td>31-01-2020  05:09</td><td>chadapurcell</td><td>List()</td><td>List(itskeyon)</td><td>RT @itskeyon: A lot of y’all don’t even live in places where the coronavirus is even present or a threat..... y’all just saying anything to…</td><td>positive</td></tr><tr><td>31-01-2020  05:09</td><td>Freier17</td><td>List()</td><td>List(CarpeDonktum)</td><td>RT @CarpeDonktum: This needs to be fixed immediately.\n",
              "\n",
              "When I lay dying of bat soup fever, I want to be able to say that the task force may…</td><td>positive</td></tr><tr><td>31-01-2020  05:09</td><td>Engggkyut</td><td>List()</td><td>List(JoshLorida)</td><td>RT @JoshLorida: Wala na di ko na alam, dami iniisip jusqqqq kabwisit china !!</td><td>neutral</td></tr><tr><td>31-01-2020  05:09</td><td>ifsclairo</td><td>List()</td><td>List(gasfeer_)</td><td>RT @gasfeer_: a dengue ao descobrir que o corona virus chegou ao Brasil\n",
              "\n",
              " https://t.co/uA33rf8TKk</td><td>neutral</td></tr><tr><td>31-01-2020  05:09</td><td>strom77</td><td>List()</td><td>List(RepDeFiFidonia)</td><td>RT @RepDeFiFidonia: Que raro 🤔\n",
              "\n",
              "No se enviaría un avión por 4 mexicanos que pueden salir de la zona de Wuhan, China (18 en total), porque n…</td><td>neutral</td></tr><tr><td>31-01-2020  05:09</td><td>VivaLaFrance190</td><td>List()</td><td>List()</td><td>RT @1984to1776: So Chinese pet owners are killing their cats and dogs by throwing them out of the window, in fear of their pets spreading t…</td><td>neutral</td></tr><tr><td>31-01-2020  05:09</td><td>Amitg64</td><td>List(coronavirus)</td><td>List(manyapan)</td><td>RT @manyapan: How to survive staying indoors during #coronavirus lockdown according to these very important videos making their rounds on C…</td><td>positive</td></tr><tr><td>31-01-2020  05:09</td><td>ajay_chahuan</td><td>List()</td><td>List(RahulGandhi)</td><td>RT @RahulGandhi: In China, the Coronavirus has killed hundreds of people. My thoughts are with the families of the victims &amp; the millions w…</td><td>negative</td></tr><tr><td>31-01-2020  05:09</td><td>nisasulaimann</td><td>List()</td><td>List(501Awani)</td><td>RT @501Awani: Setelah sembilan hari berkurung di rumah sewanya, seorang warga Malaysia di Wuhan, bertekad, meredah risiko terdedah kepada j…</td><td>neutral</td></tr><tr><td>31-01-2020  05:09</td><td>Magnus_Fiskesjo</td><td>List(Uyghurs, Genocide)</td><td>List(DrSuad, UMich, UyghurCongress, Omerkanat1)</td><td>RT @DrSuad: Lecture on #Uyghurs at @UMich with @UyghurCongress @Omerkanat1 explains #Genocide  is not just about physical elimination, #Chi…</td><td>neutral</td></tr><tr><td>31-01-2020  05:09</td><td>Sergioace74</td><td>List()</td><td>List(graffitiborrao)</td><td>RT @graffitiborrao: Que vergüenza ser colombiano. Jueputa piedra!. Para Guaidó si hubo helicóptero y avión a Europa. Para los colombianos e…</td><td>neutral</td></tr><tr><td>31-01-2020  05:09</td><td>zephyr9673</td><td>List()</td><td>List(WHOWPRO, WHO)</td><td>RT @WHOWPRO: Other countries in @WHO Western Pacific Region:\n",
              "\n",
              "Singapore 🇸🇬 has reported 13 cases\n",
              "\n",
              "Japan 🇯🇵 12 cases\n",
              "\n",
              "Australia 🇦🇺 9 cases…</td><td>negative</td></tr><tr><td>31-01-2020  05:09</td><td>KatsuhikoTsuda</td><td>List()</td><td>List(Manaming1, daitojimari)</td><td>RT @Manaming1: 【国会速報】首相「感染者の入国は拒否」　新型コロナウイルスで答弁 https://t.co/FVGhoM9IiL \n",
              ".@daitojimari</td><td>neutral</td></tr><tr><td>31-01-2020  05:09</td><td>asriaamuhd</td><td>List(coronavirus)</td><td>List(daniellebejosa)</td><td>RT @daniellebejosa: Found this somewhere. Credit to the owner. #coronavirus https://t.co/NHV0UxE6wq</td><td>neutral</td></tr><tr><td>31-01-2020  05:09</td><td>Thurmwedge</td><td>List()</td><td>List(tedlieu)</td><td>RT @tedlieu: Why does Jared Kushner still have a security clearance?</td><td>neutral</td></tr><tr><td>31-01-2020  05:09</td><td>azimrasol</td><td>List()</td><td>List(501Awani)</td><td>RT @501Awani: Penularan koronavirus, nCoV telah diisytiharkan sebagai situasi kecemasan antarabangsa. Pengisytiharan itu dibuat Pertubuhan…</td><td>neutral</td></tr><tr><td>31-01-2020  05:09</td><td>WalaLan58152267</td><td>List(coronavirus)</td><td>List(CGTNOfficial)</td><td>RT @CGTNOfficial: Expert: Prevention of new #coronavirus harder than SARS https://t.co/jvYx8t2NDP</td><td>positive</td></tr><tr><td>31-01-2020  05:09</td><td>hezfi_ba</td><td>List(ÚLTIMAHORA, OMS)</td><td>List(MVSNoticias)</td><td>RT @MVSNoticias: #ÚLTIMAHORA\n",
              "\n",
              "Ante brote de coronavirus, #OMS declara emergencia sanitaria internacional. https://t.co/KN46pXGVDE</td><td>neutral</td></tr><tr><td>31-01-2020  05:09</td><td>njiban1</td><td>List()</td><td>List()</td><td>How so Mr. Predident? Your administration actually slashed funding for research extensively and denied climate change! How then will you work with China to fix what a simple 99 Cents Lysol can fix?? All the same, any working together is better than not working together at all!!!! https://t.co/1WciTwrv9N</td><td>positive</td></tr><tr><td>31-01-2020  05:09</td><td>hitokudiamond59</td><td>List()</td><td>List(spin9)</td><td>RT @spin9: ตอนนั้น SARS ใช้เวลา 9 เดือน จึงจะยุติทุกอย่าง\n",
              "\n",
              "ตอนนี้ Wuhan ยังผ่านไปไม่ถึง 2 เดือน\n",
              "\n",
              "และมีจำนวนผู้ติดเชื้อมากกว่า SARS แล้ว\n",
              "\n",
              "เร…</td><td>neutral</td></tr><tr><td>31-01-2020  05:09</td><td>avvdrl</td><td>List()</td><td>List()</td><td>RT @ayahpermandian: *Virus Corona menyebar*\n",
              "\n",
              "Warga Dunia: \"Kita harus memakai masker sebagai langkah pengamanan\" *memakai masker\n",
              "\n",
              "Warga RRC…</td><td>neutral</td></tr><tr><td>31-01-2020  05:09</td><td>mclouiiis</td><td>List()</td><td>List(Magnethic_flux)</td><td>RT @Magnethic_flux: DOH: stay away from crowded places to lessen the risk of coronavirus\n",
              "\n",
              "filipinos who commute: https://t.co/x48vn1pbTi</td><td>neutral</td></tr><tr><td>31-01-2020  05:09</td><td>iam_dainjazz</td><td>List()</td><td>List(atomaraullo)</td><td>RT @atomaraullo: Now that we have a confirmed case of NCoV in the Philippines, some quick reminders:\n",
              "\n",
              "1. Don’t panic.\n",
              "2. Wash your hands fr…</td><td>positive</td></tr><tr><td>31-01-2020  05:09</td><td>KarlxGomez</td><td>List()</td><td>List(Joycemlcy)</td><td>RT @Joycemlcy: PEEPS IM TELLING U HINDI CORONAVIRUS PAPATAY SATIN, YUNG GOVERNMENT INCOMPETENCE PO MISMO.</td><td>neutral</td></tr><tr><td>31-01-2020  05:09</td><td>wubbapotato</td><td>List()</td><td>List()</td><td>coz y not https://t.co/RvCZeqcR59</td><td>neutral</td></tr><tr><td>31-01-2020  05:09</td><td>byeambs</td><td>List()</td><td>List(ksbrinker, rfedortsov)</td><td>RT @ksbrinker: @rfedortsov Now you know where the Corona virus comes from!! This strange behavour of eating everything what is alive!!</td><td>positive</td></tr><tr><td>31-01-2020  05:09</td><td>mceehops</td><td>List()</td><td>List(KaivanShroff)</td><td>RT @KaivanShroff: I don’t wanna hear another word about Yale-educated lawyer Hunter Biden taking a job he wasn’t overqualified for when out…</td><td>neutral</td></tr><tr><td>31-01-2020  05:09</td><td>bensondacilloo</td><td>List()</td><td>List(kyoquijano)</td><td>RT @kyoquijano: She's a 38 year old woman from Wuhan, China. \n",
              "tanginang presidente kase yan, Tuta ng tsina! di pa pina-tigil yang flights n…</td><td>positive</td></tr><tr><td>31-01-2020  05:09</td><td>FINepidemiology</td><td>List(coronavirus)</td><td>List(THLorg)</td><td>RT @THLorg: Turist konstaterats smittad av coronaviruset vid Lapplands centralsjukhus.\n",
              "\n",
              "Läs mer ➡ https://t.co/D92mUPtBya\n",
              "\n",
              "#coronavirus htt…</td><td>neutral</td></tr><tr><td>31-01-2020  05:09</td><td>1912Wine</td><td>List(RENSLIFE_FINALE_IN_MACAU)</td><td>List(NUESTNEWS)</td><td>RT @NUESTNEWS: 2020 NU'EST REN SPECIAL LIVE SHOW #RENSLIFE_FINALE_IN_MACAU 공연 연기 안내\n",
              "\n",
              "2020년 2월 23일(일) 열릴 예정이었던 해당 공연이 '신종 코로나바이러스'로 인해 상황 안정…</td><td>positive</td></tr><tr><td>31-01-2020  05:09</td><td>cryptokakuji</td><td>List()</td><td>List(RJ3811, MandyLeeDUBHKG, HighlandPaddyHK)</td><td>@RJ3811 @MandyLeeDUBHKG @HighlandPaddyHK Hand sanitizing wipes are also recommended.  disposable gloves in lieu of hand sanitizers will help to mitigate spread.  Both keep the hand clean if washed after proper glove disposal.  This is standard protocol is it not?  There is no argument here.  The BC CDC post is helpful.</td><td>positive</td></tr><tr><td>31-01-2020  05:09</td><td>cdggghufff</td><td>List()</td><td>List()</td><td>하지만 우한이라면 말이 달라지긴 하겠죠 마스크 소독 철저히 해야 할 것 같아요.. https://t.co/4oCpvHvn0a</td><td>neutral</td></tr><tr><td>31-01-2020  05:09</td><td>AliLukmaali123</td><td>List()</td><td>List()</td><td>When the Coronavirus has been declared a global health emergency and you’re not willing to take any risks https://t.co/cTwwkx7fei</td><td>negative</td></tr><tr><td>31-01-2020  05:09</td><td>SteelAN18</td><td>List()</td><td>List(djat_ir)</td><td>RT @djat_ir: Сильно сокращенный перевод статьи Tyler Durden \"Did China Steal Coronavirus From Canada And Weaponize It/Китай украл короновир…</td><td>neutral</td></tr><tr><td>31-01-2020  05:09</td><td>Pax2Sofie</td><td>List()</td><td>List(AriFleischer)</td><td>RT @AriFleischer: Did you know that the Obama-Biden administration in 2016 fined JP Morgan $264 million for hiring the unqualified kids of…</td><td>neutral</td></tr><tr><td>31-01-2020  05:09</td><td>ha_na23_</td><td>List()</td><td>List(BecomingElliott, helloalegria)</td><td>RT @BecomingElliott: @helloalegria My mum just came back from Wuhan recently, but because she's white, nobody is treating her like this. Th…</td><td>neutral</td></tr><tr><td>31-01-2020  05:09</td><td>jboisalem</td><td>List()</td><td>List(twomad)</td><td>RT @twomad: chinese corona virus be like https://t.co/YIue08OTPa</td><td>neutral</td></tr><tr><td>31-01-2020  05:09</td><td>jjdebenedictis</td><td>List(coronavirus)</td><td>List(LiangRhea)</td><td>RT @LiangRhea: Today a patient made jokes about not shaking my hand because of #coronavirus. In front of my team.\n",
              "\n",
              "I have not left Australi…</td><td>neutral</td></tr><tr><td>31-01-2020  05:09</td><td>moisesjuventino</td><td>List()</td><td>List(AgrioChairo)</td><td>RT @AgrioChairo: Claro que no enviaremos un avion a China por 6 mexicanos fifis que andaban de trotamundos, su vida neoliberal de viajeros…</td><td>neutral</td></tr><tr><td>31-01-2020  05:09</td><td>ludekaja</td><td>List()</td><td>List(ScorpioKing1183, DrLavaYT)</td><td>@ScorpioKing1183 @DrLavaYT An evolution probably not...unless they somehow make Gyarados evolve (not to be confused or mistaken with Mega Evolution) but I would say a regional variant, like say a region based in China as stated in pic. However, I totally agree it should have a permanent dragon type.</td><td>negative</td></tr><tr><td>31-01-2020  05:09</td><td>amplfine</td><td>List()</td><td>List(nobluk)</td><td>RT @nobluk: ตัวนี้เค้าบอกกรองฝุ่นและเชื้อโรคที่ลอยในอากาศได้ถึง 99% ความละเอียดแผ่นกรอง 0.1 ไมครอน (ดีกว่าN95) กล่องนึงมี 3 ชิ้น นุ่นซื้อมา…</td><td>neutral</td></tr><tr><td>31-01-2020  05:09</td><td>ACDinarte</td><td>List()</td><td>List()</td><td>Qué Mandingo los  visite en  sueño, para que duerman tranquilos con lo del Coronavirus. Tomen vitamina C y agua. 🤷‍♀️</td><td>neutral</td></tr><tr><td>31-01-2020  05:09</td><td>fernandoavilaro</td><td>List(SASC, Rusia, Cuba, China)</td><td>List(abogadosvenezu1)</td><td>RT @abogadosvenezu1: COMANDO SUR: Alm. Craig Faller Testimonio de #SASC: “Mientras #Rusia, #Cuba y #China APOYAN esta DICTADURA ilegítima d…</td><td>neutral</td></tr><tr><td>31-01-2020  05:09</td><td>lamary2010</td><td>List()</td><td>List(Adiinson)</td><td>RT @Adiinson: Hoy una señora de dijo: ¡Ay  ya comencé a tomar Amoxicilina por si me agarra el coronavirus, cada vez que tengo una virosis m…</td><td>neutral</td></tr><tr><td>31-01-2020  05:09</td><td>Boudica0</td><td>List()</td><td>List(NTN24ve)</td><td>RT @NTN24ve: Enfermeros advierten lo obvio: Venezuela no aguanta un coronavirus; Se mueren esperando los niños del JM de los Ríos y sus mad…</td><td>neutral</td></tr><tr><td>31-01-2020  05:09</td><td>walkingshitt</td><td>List()</td><td>List(_joaqomartinez)</td><td>RT @_joaqomartinez: -Con un posible caso de coronavirus detectado en Pergamino, profesor Cocoon diría ud. que es momento de entregarse al p…</td><td>neutral</td></tr><tr><td>31-01-2020  05:09</td><td>bingschu</td><td>List()</td><td>List(OutsiderLooksIn)</td><td>RT @OutsiderLooksIn: Ayun. Taong ER pa naman ako mamaya hanggang bukas. \n",
              "\n",
              "Pero ayun na nga, HINDI AIRBORNE ang 2019-NCoV. Wala siya sa hang…</td><td>neutral</td></tr><tr><td>31-01-2020  05:09</td><td>madaderaj</td><td>List()</td><td>List(Magnethic_flux)</td><td>RT @Magnethic_flux: DOH: stay away from crowded places to lessen the risk of coronavirus\n",
              "\n",
              "filipinos who commute: https://t.co/x48vn1pbTi</td><td>neutral</td></tr><tr><td>31-01-2020  05:09</td><td>hbluechris</td><td>List()</td><td>List()</td><td>???mais ca va pas https://t.co/hj06fPK2mE</td><td>neutral</td></tr><tr><td>31-01-2020  05:09</td><td>DrPeperecho</td><td>List(ElSalvador)</td><td>List()</td><td>Estimados.\n",
              "\n",
              "Ya se regó la info que hay un caso sospechoso de coronavirus.\n",
              "\n",
              "De igual manera, em paises más desarrollados llegó ya. En #ElSalvador llegará tarde o temprano.\n",
              "\n",
              "Antes de entrar en pánico, recuerde que el virus es como una gripe. Pero más fuerte de no normal.\n",
              "Cuidense.</td><td>negative</td></tr><tr><td>31-01-2020  05:09</td><td>liquipeiper2001</td><td>List(coronavirus, ElSalvador)</td><td>List(prensagrafica)</td><td>RT @prensagrafica: Viceministro de Salud descarta caso sospechoso de #coronavirus en #ElSalvador, a la salida del Hospital Saldaña. Vídeo L…</td><td>neutral</td></tr><tr><td>31-01-2020  05:09</td><td>NuranishaS</td><td>List()</td><td>List(JPenerangan)</td><td>RT @JPenerangan: Jabatan Penerangan Malaysia, 30 Jan 2020, Negeri Kedah @PenKedah [2/2]\n",
              "\n",
              "🔶 Sg. Limau\n",
              "🔶 Kulim\n",
              "🔶 Langkawi\n",
              "🔶 Lubok Buntar\n",
              "\n",
              "Fok…</td><td>neutral</td></tr><tr><td>31-01-2020  05:09</td><td>tonyphacoco</td><td>List(Lisa)</td><td>List(hallyukstar)</td><td>RT @hallyukstar: YG แจ้งการยกเลิกคิวกิจกรรมของ ลิซ่า 'BLACKPINK' ในจีน จากสถานการณ์การแพร่ระบาดของไวรัสโคโรน่าสายพันธุ์ใหม่ 2019\n",
              "--\n",
              "#Lisa #…</td><td>neutral</td></tr><tr><td>31-01-2020  05:09</td><td>tami_doku</td><td>List(Hongkong, hongkongers)</td><td>List(demosisto)</td><td>RT @demosisto: Masks are in severe shortage in #Hongkong. Many times, #hongkongers can’t get a box even though queueing up for hours. This…</td><td>positive</td></tr><tr><td>31-01-2020  05:09</td><td>cpcal03</td><td>List()</td><td>List(Magnethic_flux)</td><td>RT @Magnethic_flux: what's the best precautionary measure that the PH govt has employed to protect the filipino people from the coronavirus…</td><td>positive</td></tr><tr><td>31-01-2020  05:09</td><td>UmaCostela</td><td>List(coronavirus)</td><td>List(MorecoO)</td><td>RT @MorecoO: Andiroba, copaíba e banha de sucuriju preparadas para combater o corona vírus #coronavirus https://t.co/9MTcFhPWQV</td><td>neutral</td></tr><tr><td>31-01-2020  05:09</td><td>ArmyDeC90022882</td><td>List()</td><td>List()</td><td>Seguro a la china de Pergamino le dieron un Ibuprofeno y la dejaron ir, porque? Porque estamos en Argentina señores...</td><td>neutral</td></tr><tr><td>31-01-2020  05:09</td><td>Flowerhanako1</td><td>List()</td><td>List(Grummz)</td><td>RT @Grummz: I admit I am biased. Many of you think the risk of something deadly is very low here because we have better hospitals.\n",
              "\n",
              "But I w…</td><td>positive</td></tr><tr><td>31-01-2020  05:09</td><td>_rikkirose_</td><td>List()</td><td>List(kathbarbadoro)</td><td>RT @kathbarbadoro: Coronavirus is scary enough to make Americans racist about Chinese people but not scary enough to make Americans start w…</td><td>negative</td></tr><tr><td>31-01-2020  05:09</td><td>pikaafresa</td><td>List()</td><td>List()</td><td>La que es bonita es bonita aquí o en china 🇨🇳</td><td>neutral</td></tr><tr><td>31-01-2020  05:09</td><td>NotHawking</td><td>List()</td><td>List(ScottProfessor)</td><td>RT @ScottProfessor: China, with its government control trampling free speech, arresting opposition, imprisons minority religions, why can't…</td><td>positive</td></tr><tr><td>31-01-2020  05:09</td><td>GODblessUSA888</td><td>List()</td><td>List(Jkylebass)</td><td>RT @Jkylebass: Pompeo says ‘the Chinese Communist Party is the Central Threat of Our Times’. He goes on to say the Chinese government is co…</td><td>neutral</td></tr><tr><td>31-01-2020  05:09</td><td>GNa63</td><td>List()</td><td>List(elpaisuy)</td><td>RT @elpaisuy: La OMS declara la emergencia internacional ante el avance del coronavirus https://t.co/G5E7lLrJNp</td><td>neutral</td></tr><tr><td>31-01-2020  05:09</td><td>tego713</td><td>List()</td><td>List(Eugene_Scott)</td><td>RT @Eugene_Scott: The lack of diversity among the president’s team will never not be noticeable.</td><td>neutral</td></tr><tr><td>31-01-2020  05:09</td><td>Beyaglu</td><td>List()</td><td>List(DiscardedVirtue, dbongino)</td><td>RT @DiscardedVirtue: @dbongino Great idea. Let's choose people who have to make decisions about a deadly virus epidemic not for their merit…</td><td>positive</td></tr><tr><td>31-01-2020  05:09</td><td>katxkattt</td><td>List()</td><td>List(gmanews)</td><td>RT @gmanews: JUST IN: Cebu Pacific at Philippine Airlines ang sinakyan ng babaeng Chinese na nagpositibo sa nCoV, ayon kay Health Undersecr…</td><td>neutral</td></tr><tr><td>31-01-2020  05:09</td><td>hawawright360</td><td>List()</td><td>List(PaulineHansonOz, OneNationAus)</td><td>RT @PaulineHansonOz: CLOSE DOWN ALL FLIGHTS FROM CHINA NOW!\n",
              "\n",
              "@OneNationAus leader Pauline Hanson has called on the Federal Government to ba…</td><td>negative</td></tr><tr><td>31-01-2020  05:09</td><td>dskorkmaz</td><td>List()</td><td>List(GokKuvvet)</td><td>RT @GokKuvvet: Uygurlar'a hiçkimse yardım edemiyordu. Çinliler göstere göstere işkence ve soykırım videolarını büyük bir zevkle internete y…</td><td>neutral</td></tr><tr><td>31-01-2020  05:09</td><td>yplanes28</td><td>List()</td><td>List(CortesSteve, CNN)</td><td>RT @CortesSteve: And what exactly does race have to do with fighting a deadly virus? \n",
              "\n",
              "Also, as long as @CNN wants to play quota games: why…</td><td>positive</td></tr><tr><td>31-01-2020  05:09</td><td>gratmccall</td><td>List()</td><td>List(CassandraRules)</td><td>@CassandraRules \n",
              "\n",
              "Getting pretty close to the bolton's mustache approach soon. https://t.co/70FvLRssIr</td><td>positive</td></tr><tr><td>31-01-2020  05:10</td><td>knest13</td><td>List()</td><td>List(LAILINTIM)</td><td>RT @LAILINTIM: กุว่าอีกนิดนะซึงยอนจะซื้อหน้ากาก N95 แจกแล้วไลฟ์สอนล้างมือให้ถูกวิธี แนะนำให้ใช้ alcohol-based แสนดีขนาดนี้ลงสมัครประธาน WHO…</td><td>neutral</td></tr><tr><td>31-01-2020  05:10</td><td>ifsclairo</td><td>List()</td><td>List(lustforola)</td><td>RT @lustforola: coronavirus rebate a dengue  https://t.co/skOtQSjxzZ</td><td>neutral</td></tr><tr><td>31-01-2020  05:10</td><td>tim_nevada</td><td>List()</td><td>List(ThomasKlineMD)</td><td>RT @ThomasKlineMD: Refuse surgery unless pain medicine given post op. Post negative web comments hospital and doctor CDC SAID NOTHING ABOUT…</td><td>negative</td></tr><tr><td>31-01-2020  05:10</td><td>reallyhappyguy1</td><td>List()</td><td>List(ColumbiaBugle)</td><td>RT @ColumbiaBugle: Tucker Carlson: Health-Records Company &amp; Drugmaker Secretly Pushed Opioids To Doctors\n",
              "\n",
              "\"The opioid epidemic at this poin…</td><td>negative</td></tr><tr><td>31-01-2020  05:10</td><td>_OhHeyCaroline</td><td>List()</td><td>List(kathbarbadoro)</td><td>RT @kathbarbadoro: Coronavirus is scary enough to make Americans racist about Chinese people but not scary enough to make Americans start w…</td><td>negative</td></tr><tr><td>31-01-2020  05:10</td><td>SinEmbargoMX</td><td>List()</td><td>List()</td><td>Paty Navidad dice que el coronavirus se creó en un laboratorio y es usado para reducir la población\n",
              "https://t.co/xnzBg4Wr3F https://t.co/5oCLDFekzW</td><td>neutral</td></tr><tr><td>31-01-2020  05:10</td><td>MirrorNow</td><td>List(CoronavirusOutbreak, Coronavirus)</td><td>List(_tanima_biswas)</td><td>#CoronavirusOutbreak | World Health Organization has declared #Coronavirus a public health emergency. The death toll has reached 213, in the case.\n",
              "\n",
              "@_tanima_biswas with details. https://t.co/mo9359z95Z</td><td>neutral</td></tr><tr><td>31-01-2020  05:10</td><td>XHIndonesia</td><td>List()</td><td>List()</td><td>Pengujian yang lebih baik jadi penyebab lonjakan kasus virus corona yang dikonfirmasi https://t.co/oaQ0PgoxAM https://t.co/Ch2jj6Dj1j</td><td>neutral</td></tr><tr><td>31-01-2020  05:10</td><td>gmanews</td><td>List()</td><td>List()</td><td>Court workers urged to wear masks, take other precautions vs. 2019-nCoV https://t.co/hLMywrIHG0</td><td>negative</td></tr><tr><td>31-01-2020  05:10</td><td>RicardoAlemanMx</td><td>List()</td><td>List(LillyTellez, m_ebrard)</td><td>@LillyTellez pide ayuda a @m_ebrard para sacar de China a cuatro mexicanos\n",
              "▶️https://t.co/SD3zE8ZWIH https://t.co/0Mo4FbomAK</td><td>neutral</td></tr><tr><td>31-01-2020  05:10</td><td>ElPitazoTV</td><td>List(Internacional, coronavirus, China)</td><td>List()</td><td>#Internacional | Frente a la propagación de #coronavirus, Taiwán ha solicitado a #China información acerca de los avances reales para combatir la pandemia y frenar la propagación. Lee en 1 minuto todo lo que está pasando https://t.co/8lKJxeupic</td><td>neutral</td></tr><tr><td>31-01-2020  05:10</td><td>ElBigDataMx</td><td>List()</td><td>List()</td><td>[VIDEO] México no enviará avión especial para ‘rescatar’ a mexicanos en China, como sí hizo con Evo Morales https://t.co/jcau04d1jJ https://t.co/wfZiVtzP5C</td><td>neutral</td></tr><tr><td>31-01-2020  05:10</td><td>LaNocheNTN24</td><td>List(LaNocheCoronavirus)</td><td>List()</td><td>\"Tenemos en China 8.100 casos confirmados, 171 muertos y 140 curados. En los últimos dos días, el número de muertos está bajando y el de los curados está subiendo\": Lan Hu, Embajador de la República Popular China en Colombia sobre el nuevo coronavirus 📲 #LaNocheCoronavirus https://t.co/EPeW7ksZHD</td><td>positive</td></tr><tr><td>31-01-2020  05:10</td><td>ThePrintIndia</td><td>List()</td><td>List()</td><td>Global tourism is bracing for a deadly blow from coronavirus as Chinese stop travelling\n",
              "\n",
              "K Oanh Ha reports\n",
              "\n",
              "https://t.co/VrYT3ZExlv</td><td>negative</td></tr><tr><td>31-01-2020  05:10</td><td>Diario_Pontev</td><td>List(Coronavirus, China)</td><td>List()</td><td>#Coronavirus 😷 Preocupación entre los pontevedreses residentes en #China: \"Las escuelas están cerradas y la gente no está yendo a trabajar\"\n",
              "https://t.co/Qc3gjFYGRY</td><td>neutral</td></tr><tr><td>31-01-2020  05:10</td><td>tangmaee</td><td>List()</td><td>List(Flagfrogfiz)</td><td>RT @Flagfrogfiz: ขณะนี้กำลังเป็นข่าวใหญ่เลยครับ ทางการอิตาลีได้ออกคำสั่งปิดตายเรือสำราญที่มีขนาดใหญ่อันดับ 5 ของโลก เนื่องจากพบนักท่องเที่ย…</td><td>neutral</td></tr></tbody></table></div>"
            ]
          },
          "metadata": {
            "tags": []
          }
        }
      ]
    },
    {
      "cell_type": "code",
      "metadata": {
        "id": "HMx97RRMFGJ8",
        "colab_type": "code",
        "colab": {}
      },
      "source": [
        "tweets_proc.limit(10000).toPandas().to_csv('/FileStore/Output.csv')"
      ],
      "execution_count": null,
      "outputs": []
    },
    {
      "cell_type": "code",
      "metadata": {
        "id": "fYfO0mBsFGJ-",
        "colab_type": "code",
        "colab": {},
        "outputId": "1eb31e2e-9dcf-40d3-de3f-ba690937da25"
      },
      "source": [
        "dbutils.fs.put(\"/FileStore/Output.csv\", \"Output.csv\")"
      ],
      "execution_count": null,
      "outputs": [
        {
          "output_type": "display_data",
          "data": {
            "text/html": [
              "<style scoped>\n",
              "  .ansiout {\n",
              "    display: block;\n",
              "    unicode-bidi: embed;\n",
              "    white-space: pre-wrap;\n",
              "    word-wrap: break-word;\n",
              "    word-break: break-all;\n",
              "    font-family: \"Source Code Pro\", \"Menlo\", monospace;;\n",
              "    font-size: 13px;\n",
              "    color: #555;\n",
              "    margin-left: 4px;\n",
              "    line-height: 19px;\n",
              "  }\n",
              "</style>\n",
              "<div class=\"ansiout\">Wrote 10 bytes.\n",
              "Out[94]: True</div>"
            ]
          },
          "metadata": {
            "tags": []
          }
        }
      ]
    },
    {
      "cell_type": "code",
      "metadata": {
        "id": "mkyXxHAqFGKD",
        "colab_type": "code",
        "colab": {}
      },
      "source": [
        "%python\n",
        "dbutils.widgets.get(\"Covid_Twarc\")"
      ],
      "execution_count": null,
      "outputs": []
    },
    {
      "cell_type": "code",
      "metadata": {
        "id": "q-ccsDuSFGKG",
        "colab_type": "code",
        "colab": {},
        "outputId": "ca6559ec-ef14-4b75-f41e-b801c65c9630"
      },
      "source": [
        "\n",
        "tweets_proc.dtypes"
      ],
      "execution_count": null,
      "outputs": [
        {
          "output_type": "display_data",
          "data": {
            "text/html": [
              "<style scoped>\n",
              "  .ansiout {\n",
              "    display: block;\n",
              "    unicode-bidi: embed;\n",
              "    white-space: pre-wrap;\n",
              "    word-wrap: break-word;\n",
              "    word-break: break-all;\n",
              "    font-family: \"Source Code Pro\", \"Menlo\", monospace;;\n",
              "    font-size: 13px;\n",
              "    color: #555;\n",
              "    margin-left: 4px;\n",
              "    line-height: 19px;\n",
              "  }\n",
              "</style>\n",
              "<div class=\"ansiout\">Out[80]: [(&#39;parseDate&#39;, &#39;string&#39;),\n",
              " (&#39;user&#39;, &#39;string&#39;),\n",
              " (&#39;hashtags&#39;, &#39;array&lt;string&gt;&#39;),\n",
              " (&#39;user_mention&#39;, &#39;array&lt;string&gt;&#39;),\n",
              " (&#39;full_text&#39;, &#39;string&#39;),\n",
              " (&#39;sentiment&#39;, &#39;string&#39;)]</div>"
            ]
          },
          "metadata": {
            "tags": []
          }
        }
      ]
    },
    {
      "cell_type": "code",
      "metadata": {
        "id": "cNVbq9tZFGKJ",
        "colab_type": "code",
        "colab": {},
        "outputId": "44fc7014-6b57-4670-9468-d097c313c3ae"
      },
      "source": [
        "sparse_format_udf = udf(lambda x: ','.join([str(elem) for elem in x], StringType()))\n",
        "\n",
        "query = (tweets_proc.withColumn('hashtags', sparse_format_udf(col('hashtags')))\n",
        "                   .withColumn('user_mention', sparse_format_udf(col('user_mention'))))\n",
        "query.dtypes"
      ],
      "execution_count": null,
      "outputs": [
        {
          "output_type": "display_data",
          "data": {
            "text/html": [
              "<style scoped>\n",
              "  .ansiout {\n",
              "    display: block;\n",
              "    unicode-bidi: embed;\n",
              "    white-space: pre-wrap;\n",
              "    word-wrap: break-word;\n",
              "    word-break: break-all;\n",
              "    font-family: \"Source Code Pro\", \"Menlo\", monospace;;\n",
              "    font-size: 13px;\n",
              "    color: #555;\n",
              "    margin-left: 4px;\n",
              "    line-height: 19px;\n",
              "  }\n",
              "</style>\n",
              "<div class=\"ansiout\">Out[24]: [(&#39;parseDate&#39;, &#39;string&#39;),\n",
              " (&#39;user&#39;, &#39;string&#39;),\n",
              " (&#39;hashtags&#39;, &#39;string&#39;),\n",
              " (&#39;user_mention&#39;, &#39;string&#39;),\n",
              " (&#39;full_text&#39;, &#39;string&#39;),\n",
              " (&#39;sentiment&#39;, &#39;string&#39;)]</div>"
            ]
          },
          "metadata": {
            "tags": []
          }
        }
      ]
    },
    {
      "cell_type": "code",
      "metadata": {
        "id": "pIjUJVv4FGKL",
        "colab_type": "code",
        "colab": {}
      },
      "source": [
        "query.show(5)"
      ],
      "execution_count": null,
      "outputs": []
    },
    {
      "cell_type": "code",
      "metadata": {
        "id": "rotqcYbyFGKO",
        "colab_type": "code",
        "colab": {}
      },
      "source": [
        "display(query.limit(10000))"
      ],
      "execution_count": null,
      "outputs": []
    },
    {
      "cell_type": "code",
      "metadata": {
        "id": "6VAnr9qvFGKR",
        "colab_type": "code",
        "colab": {},
        "outputId": "143ec3f7-8db0-4151-c5e9-52b606700517"
      },
      "source": [
        "import os\n",
        "\n",
        "os.listdir()"
      ],
      "execution_count": null,
      "outputs": [
        {
          "output_type": "display_data",
          "data": {
            "text/html": [
              "<style scoped>\n",
              "  .ansiout {\n",
              "    display: block;\n",
              "    unicode-bidi: embed;\n",
              "    white-space: pre-wrap;\n",
              "    word-wrap: break-word;\n",
              "    word-break: break-all;\n",
              "    font-family: \"Source Code Pro\", \"Menlo\", monospace;;\n",
              "    font-size: 13px;\n",
              "    color: #555;\n",
              "    margin-left: 4px;\n",
              "    line-height: 19px;\n",
              "  }\n",
              "</style>\n",
              "<div class=\"ansiout\">Out[76]: [&#39;conf&#39;, &#39;eventlogs&#39;, &#39;Output.csv&#39;, &#39;derby.log&#39;, &#39;ganglia&#39;, &#39;logs&#39;]</div>"
            ]
          },
          "metadata": {
            "tags": []
          }
        }
      ]
    },
    {
      "cell_type": "code",
      "metadata": {
        "id": "oCNQugObFGKT",
        "colab_type": "code",
        "colab": {},
        "outputId": "5277d0ae-610e-41e2-b7c3-2a8bec7ce090"
      },
      "source": [
        "tweets.createOrReplaceTempView(\"tweets_parsed\")\n",
        "#tweets.groupBy('sentiment').count()"
      ],
      "execution_count": null,
      "outputs": [
        {
          "output_type": "display_data",
          "data": {
            "text/html": [
              "<style scoped>\n",
              "  .ansiout {\n",
              "    display: block;\n",
              "    unicode-bidi: embed;\n",
              "    white-space: pre-wrap;\n",
              "    word-wrap: break-word;\n",
              "    word-break: break-all;\n",
              "    font-family: \"Source Code Pro\", \"Menlo\", monospace;;\n",
              "    font-size: 13px;\n",
              "    color: #555;\n",
              "    margin-left: 4px;\n",
              "    line-height: 19px;\n",
              "  }\n",
              "</style>\n",
              "<div class=\"ansiout\"></div>"
            ]
          },
          "metadata": {
            "tags": []
          }
        }
      ]
    },
    {
      "cell_type": "code",
      "metadata": {
        "id": "amOveXV5FGKW",
        "colab_type": "code",
        "colab": {},
        "outputId": "5514a320-7d69-46d8-91a6-4f537a4608b5"
      },
      "source": [
        "%sql\n",
        "select sentiment, count(*) as cnt from tweets_parsed group by sentiment"
      ],
      "execution_count": null,
      "outputs": [
        {
          "output_type": "display_data",
          "data": {
            "text/html": [
              "<style scoped>\n",
              "  .table-result-container {\n",
              "    max-height: 300px;\n",
              "    overflow: auto;\n",
              "  }\n",
              "  table, th, td {\n",
              "    border: 1px solid black;\n",
              "    border-collapse: collapse;\n",
              "  }\n",
              "  th, td {\n",
              "    padding: 5px;\n",
              "  }\n",
              "  th {\n",
              "    text-align: left;\n",
              "  }\n",
              "</style><div class='table-result-container'><table class='table-result'><thead style='background-color: white'><tr><th>sentiment</th><th>cnt</th></tr></thead><tbody><tr><td>positive</td><td>34886</td></tr><tr><td>neutral</td><td>54719</td></tr><tr><td>negative</td><td>17161</td></tr></tbody></table></div>"
            ]
          },
          "metadata": {
            "tags": []
          }
        }
      ]
    },
    {
      "cell_type": "code",
      "metadata": {
        "id": "4x0NHW8uFGKZ",
        "colab_type": "code",
        "colab": {},
        "outputId": "a35be8b1-0dd3-4347-a183-703738fbe3a9"
      },
      "source": [
        "import plotly.express as px\n",
        "\n",
        "import pandas as pd\n",
        "df = pd.read_csv('https://raw.githubusercontent.com/plotly/datasets/master/finance-charts-apple.csv')\n",
        "\n",
        "fig = px.line(df, x='Date', y='AAPL.High')\n",
        "fig.show()"
      ],
      "execution_count": null,
      "outputs": [
        {
          "output_type": "display_data",
          "data": {
            "text/html": [
              "<html>\n",
              "<head><meta charset=\"utf-8\" /></head>\n",
              "<body>\n",
              "    <div>\n",
              "            <script src=\"https://cdnjs.cloudflare.com/ajax/libs/mathjax/2.7.5/MathJax.js?config=TeX-AMS-MML_SVG\"></script><script type=\"text/javascript\">if (window.MathJax) {MathJax.Hub.Config({SVG: {font: \"STIX-Web\"}});}</script>\n",
              "                <script type=\"text/javascript\">window.PlotlyConfig = {MathJaxConfig: 'local'};</script>\n",
              "        <script src=\"https://cdn.plot.ly/plotly-latest.min.js\"></script>    \n",
              "            <div id=\"11a8d5f5-0df6-4285-84f1-968532832b6f\" class=\"plotly-graph-div\" style=\"height:100%; width:100%;\"></div>\n",
              "            <script type=\"text/javascript\">\n",
              "                \n",
              "                    window.PLOTLYENV=window.PLOTLYENV || {};\n",
              "                    \n",
              "                if (document.getElementById(\"11a8d5f5-0df6-4285-84f1-968532832b6f\")) {\n",
              "                    Plotly.newPlot(\n",
              "                        '11a8d5f5-0df6-4285-84f1-968532832b6f',\n",
              "                        [{\"hovertemplate\": \"Date=%{x}<br>AAPL.High=%{y}<extra></extra>\", \"legendgroup\": \"\", \"line\": {\"color\": \"#636efa\", \"dash\": \"solid\"}, \"mode\": \"lines\", \"name\": \"\", \"orientation\": \"v\", \"showlegend\": false, \"type\": \"scatter\", \"x\": [\"2015-02-17\", \"2015-02-18\", \"2015-02-19\", \"2015-02-20\", \"2015-02-23\", \"2015-02-24\", \"2015-02-25\", \"2015-02-26\", \"2015-02-27\", \"2015-03-02\", \"2015-03-03\", \"2015-03-04\", \"2015-03-05\", \"2015-03-06\", \"2015-03-09\", \"2015-03-10\", \"2015-03-11\", \"2015-03-12\", \"2015-03-13\", \"2015-03-16\", \"2015-03-17\", \"2015-03-18\", \"2015-03-19\", \"2015-03-20\", \"2015-03-23\", \"2015-03-24\", \"2015-03-25\", \"2015-03-26\", \"2015-03-27\", \"2015-03-30\", \"2015-03-31\", \"2015-04-01\", \"2015-04-02\", \"2015-04-06\", \"2015-04-07\", \"2015-04-08\", \"2015-04-09\", \"2015-04-10\", \"2015-04-13\", \"2015-04-14\", \"2015-04-15\", \"2015-04-16\", \"2015-04-17\", \"2015-04-20\", \"2015-04-21\", \"2015-04-22\", \"2015-04-23\", \"2015-04-24\", \"2015-04-27\", \"2015-04-28\", \"2015-04-29\", \"2015-04-30\", \"2015-05-01\", \"2015-05-04\", \"2015-05-05\", \"2015-05-06\", \"2015-05-07\", \"2015-05-08\", \"2015-05-11\", \"2015-05-12\", \"2015-05-13\", \"2015-05-14\", \"2015-05-15\", \"2015-05-18\", \"2015-05-19\", \"2015-05-20\", \"2015-05-21\", \"2015-05-22\", \"2015-05-26\", \"2015-05-27\", \"2015-05-28\", \"2015-05-29\", \"2015-06-01\", \"2015-06-02\", \"2015-06-03\", \"2015-06-04\", \"2015-06-05\", \"2015-06-08\", \"2015-06-09\", \"2015-06-10\", \"2015-06-11\", \"2015-06-12\", \"2015-06-15\", \"2015-06-16\", \"2015-06-17\", \"2015-06-18\", \"2015-06-19\", \"2015-06-22\", \"2015-06-23\", \"2015-06-24\", \"2015-06-25\", \"2015-06-26\", \"2015-06-29\", \"2015-06-30\", \"2015-07-01\", \"2015-07-02\", \"2015-07-06\", \"2015-07-07\", \"2015-07-08\", \"2015-07-09\", \"2015-07-10\", \"2015-07-13\", \"2015-07-14\", \"2015-07-15\", \"2015-07-16\", \"2015-07-17\", \"2015-07-20\", \"2015-07-21\", \"2015-07-22\", \"2015-07-23\", \"2015-07-24\", \"2015-07-27\", \"2015-07-28\", \"2015-07-29\", \"2015-07-30\", \"2015-07-31\", \"2015-08-03\", \"2015-08-04\", \"2015-08-05\", \"2015-08-06\", \"2015-08-07\", \"2015-08-10\", \"2015-08-11\", \"2015-08-12\", \"2015-08-13\", \"2015-08-14\", \"2015-08-17\", \"2015-08-18\", \"2015-08-19\", \"2015-08-20\", \"2015-08-21\", \"2015-08-24\", \"2015-08-25\", \"2015-08-26\", \"2015-08-27\", \"2015-08-28\", \"2015-08-31\", \"2015-09-01\", \"2015-09-02\", \"2015-09-03\", \"2015-09-04\", \"2015-09-08\", \"2015-09-09\", \"2015-09-10\", \"2015-09-11\", \"2015-09-14\", \"2015-09-15\", \"2015-09-16\", \"2015-09-17\", \"2015-09-18\", \"2015-09-21\", \"2015-09-22\", \"2015-09-23\", \"2015-09-24\", \"2015-09-25\", \"2015-09-28\", \"2015-09-29\", \"2015-09-30\", \"2015-10-01\", \"2015-10-02\", \"2015-10-05\", \"2015-10-06\", \"2015-10-07\", \"2015-10-08\", \"2015-10-09\", \"2015-10-12\", \"2015-10-13\", \"2015-10-14\", \"2015-10-15\", \"2015-10-16\", \"2015-10-19\", \"2015-10-20\", \"2015-10-21\", \"2015-10-22\", \"2015-10-23\", \"2015-10-26\", \"2015-10-27\", \"2015-10-28\", \"2015-10-29\", \"2015-10-30\", \"2015-11-02\", \"2015-11-03\", \"2015-11-04\", \"2015-11-05\", \"2015-11-06\", \"2015-11-09\", \"2015-11-10\", \"2015-11-11\", \"2015-11-12\", \"2015-11-13\", \"2015-11-16\", \"2015-11-17\", \"2015-11-18\", \"2015-11-19\", \"2015-11-20\", \"2015-11-23\", \"2015-11-24\", \"2015-11-25\", \"2015-11-27\", \"2015-11-30\", \"2015-12-01\", \"2015-12-02\", \"2015-12-03\", \"2015-12-04\", \"2015-12-07\", \"2015-12-08\", \"2015-12-09\", \"2015-12-10\", \"2015-12-11\", \"2015-12-14\", \"2015-12-15\", \"2015-12-16\", \"2015-12-17\", \"2015-12-18\", \"2015-12-21\", \"2015-12-22\", \"2015-12-23\", \"2015-12-24\", \"2015-12-28\", \"2015-12-29\", \"2015-12-30\", \"2015-12-31\", \"2016-01-04\", \"2016-01-05\", \"2016-01-06\", \"2016-01-07\", \"2016-01-08\", \"2016-01-11\", \"2016-01-12\", \"2016-01-13\", \"2016-01-14\", \"2016-01-15\", \"2016-01-19\", \"2016-01-20\", \"2016-01-21\", \"2016-01-22\", \"2016-01-25\", \"2016-01-26\", \"2016-01-27\", \"2016-01-28\", \"2016-01-29\", \"2016-02-01\", \"2016-02-02\", \"2016-02-03\", \"2016-02-04\", \"2016-02-05\", \"2016-02-08\", \"2016-02-09\", \"2016-02-10\", \"2016-02-11\", \"2016-02-12\", \"2016-02-16\", \"2016-02-17\", \"2016-02-18\", \"2016-02-19\", \"2016-02-22\", \"2016-02-23\", \"2016-02-24\", \"2016-02-25\", \"2016-02-26\", \"2016-02-29\", \"2016-03-01\", \"2016-03-02\", \"2016-03-03\", \"2016-03-04\", \"2016-03-07\", \"2016-03-08\", \"2016-03-09\", \"2016-03-10\", \"2016-03-11\", \"2016-03-14\", \"2016-03-15\", \"2016-03-16\", \"2016-03-17\", \"2016-03-18\", \"2016-03-21\", \"2016-03-22\", \"2016-03-23\", \"2016-03-24\", \"2016-03-28\", \"2016-03-29\", \"2016-03-30\", \"2016-03-31\", \"2016-04-01\", \"2016-04-04\", \"2016-04-05\", \"2016-04-06\", \"2016-04-07\", \"2016-04-08\", \"2016-04-11\", \"2016-04-12\", \"2016-04-13\", \"2016-04-14\", \"2016-04-15\", \"2016-04-18\", \"2016-04-19\", \"2016-04-20\", \"2016-04-21\", \"2016-04-22\", \"2016-04-25\", \"2016-04-26\", \"2016-04-27\", \"2016-04-28\", \"2016-04-29\", \"2016-05-02\", \"2016-05-03\", \"2016-05-04\", \"2016-05-05\", \"2016-05-06\", \"2016-05-09\", \"2016-05-10\", \"2016-05-11\", \"2016-05-12\", \"2016-05-13\", \"2016-05-16\", \"2016-05-17\", \"2016-05-18\", \"2016-05-19\", \"2016-05-20\", \"2016-05-23\", \"2016-05-24\", \"2016-05-25\", \"2016-05-26\", \"2016-05-27\", \"2016-05-31\", \"2016-06-01\", \"2016-06-02\", \"2016-06-03\", \"2016-06-06\", \"2016-06-07\", \"2016-06-08\", \"2016-06-09\", \"2016-06-10\", \"2016-06-13\", \"2016-06-14\", \"2016-06-15\", \"2016-06-16\", \"2016-06-17\", \"2016-06-20\", \"2016-06-21\", \"2016-06-22\", \"2016-06-23\", \"2016-06-24\", \"2016-06-27\", \"2016-06-28\", \"2016-06-29\", \"2016-06-30\", \"2016-07-01\", \"2016-07-05\", \"2016-07-06\", \"2016-07-07\", \"2016-07-08\", \"2016-07-11\", \"2016-07-12\", \"2016-07-13\", \"2016-07-14\", \"2016-07-15\", \"2016-07-18\", \"2016-07-19\", \"2016-07-20\", \"2016-07-21\", \"2016-07-22\", \"2016-07-25\", \"2016-07-26\", \"2016-07-27\", \"2016-07-28\", \"2016-07-29\", \"2016-08-01\", \"2016-08-02\", \"2016-08-03\", \"2016-08-04\", \"2016-08-05\", \"2016-08-08\", \"2016-08-09\", \"2016-08-10\", \"2016-08-11\", \"2016-08-12\", \"2016-08-15\", \"2016-08-16\", \"2016-08-17\", \"2016-08-18\", \"2016-08-19\", \"2016-08-22\", \"2016-08-23\", \"2016-08-24\", \"2016-08-25\", \"2016-08-26\", \"2016-08-29\", \"2016-08-30\", \"2016-08-31\", \"2016-09-01\", \"2016-09-02\", \"2016-09-06\", \"2016-09-07\", \"2016-09-08\", \"2016-09-09\", \"2016-09-12\", \"2016-09-13\", \"2016-09-14\", \"2016-09-15\", \"2016-09-16\", \"2016-09-19\", \"2016-09-20\", \"2016-09-21\", \"2016-09-22\", \"2016-09-23\", \"2016-09-26\", \"2016-09-27\", \"2016-09-28\", \"2016-09-29\", \"2016-09-30\", \"2016-10-03\", \"2016-10-04\", \"2016-10-05\", \"2016-10-06\", \"2016-10-07\", \"2016-10-10\", \"2016-10-11\", \"2016-10-12\", \"2016-10-13\", \"2016-10-14\", \"2016-10-17\", \"2016-10-18\", \"2016-10-19\", \"2016-10-20\", \"2016-10-21\", \"2016-10-24\", \"2016-10-25\", \"2016-10-26\", \"2016-10-27\", \"2016-10-28\", \"2016-10-31\", \"2016-11-01\", \"2016-11-02\", \"2016-11-03\", \"2016-11-04\", \"2016-11-07\", \"2016-11-08\", \"2016-11-09\", \"2016-11-10\", \"2016-11-11\", \"2016-11-14\", \"2016-11-15\", \"2016-11-16\", \"2016-11-17\", \"2016-11-18\", \"2016-11-21\", \"2016-11-22\", \"2016-11-23\", \"2016-11-25\", \"2016-11-28\", \"2016-11-29\", \"2016-11-30\", \"2016-12-01\", \"2016-12-02\", \"2016-12-05\", \"2016-12-06\", \"2016-12-07\", \"2016-12-08\", \"2016-12-09\", \"2016-12-12\", \"2016-12-13\", \"2016-12-14\", \"2016-12-15\", \"2016-12-16\", \"2016-12-19\", \"2016-12-20\", \"2016-12-21\", \"2016-12-22\", \"2016-12-23\", \"2016-12-27\", \"2016-12-28\", \"2016-12-29\", \"2016-12-30\", \"2017-01-03\", \"2017-01-04\", \"2017-01-05\", \"2017-01-06\", \"2017-01-09\", \"2017-01-10\", \"2017-01-11\", \"2017-01-12\", \"2017-01-13\", \"2017-01-17\", \"2017-01-18\", \"2017-01-19\", \"2017-01-20\", \"2017-01-23\", \"2017-01-24\", \"2017-01-25\", \"2017-01-26\", \"2017-01-27\", \"2017-01-30\", \"2017-01-31\", \"2017-02-01\", \"2017-02-02\", \"2017-02-03\", \"2017-02-06\", \"2017-02-07\", \"2017-02-08\", \"2017-02-09\", \"2017-02-10\", \"2017-02-13\", \"2017-02-14\", \"2017-02-15\", \"2017-02-16\"], \"xaxis\": \"x\", \"y\": [128.880005, 128.779999, 129.029999, 129.5, 133.0, 133.600006, 131.600006, 130.869995, 130.570007, 130.279999, 129.520004, 129.559998, 128.75, 129.369995, 129.570007, 127.220001, 124.769997, 124.900002, 125.400002, 124.949997, 127.32, 129.16000400000001, 129.25, 128.399994, 127.849998, 128.03999299999998, 126.82, 124.879997, 124.699997, 126.400002, 126.489998, 125.120003, 125.559998, 127.510002, 128.119995, 126.400002, 126.58000200000001, 127.209999, 128.570007, 127.290001, 127.129997, 127.099998, 126.139999, 128.119995, 128.199997, 128.869995, 130.419998, 130.630005, 133.130005, 134.53999299999998, 131.58999599999999, 128.639999, 130.130005, 130.570007, 128.449997, 126.75, 126.08000200000001, 127.620003, 127.559998, 126.879997, 127.190002, 128.949997, 129.490005, 130.720001, 130.880005, 130.979996, 131.630005, 132.970001, 132.91000400000001, 132.259995, 131.949997, 131.449997, 131.389999, 130.66000400000001, 130.940002, 130.580002, 129.690002, 129.21000700000002, 128.080002, 129.33999599999999, 130.179993, 128.330002, 127.239998, 127.849998, 127.879997, 128.309998, 127.82, 128.059998, 127.610001, 129.800003, 129.199997, 127.989998, 126.470001, 126.120003, 126.940002, 126.690002, 126.230003, 126.150002, 124.639999, 124.059998, 123.849998, 125.760002, 126.370003, 127.150002, 128.570007, 129.619995, 132.970001, 132.919998, 125.5, 127.089996, 125.739998, 123.610001, 123.910004, 123.5, 122.57, 122.639999, 122.57, 117.699997, 117.440002, 116.5, 116.25, 119.989998, 118.18, 115.41999799999999, 116.400002, 116.309998, 117.650002, 117.440002, 116.519997, 114.349998, 111.900002, 108.800003, 111.110001, 109.889999, 113.239998, 113.309998, 114.529999, 111.879997, 112.339996, 112.779999, 110.449997, 112.559998, 114.019997, 113.279999, 114.209999, 116.889999, 116.529999, 116.540001, 116.489998, 114.300003, 115.370003, 114.18, 114.720001, 115.5, 116.690002, 114.57, 113.510002, 111.540001, 109.620003, 111.010002, 111.370003, 111.739998, 111.769997, 110.190002, 112.279999, 112.75, 112.449997, 111.519997, 112.099998, 112.0, 111.75, 114.16999799999999, 115.58000200000001, 115.5, 119.230003, 118.129997, 116.540001, 119.300003, 120.690002, 121.220001, 121.360001, 123.489998, 123.82, 122.690002, 121.809998, 121.809998, 118.07, 117.41999799999999, 116.82, 115.57, 114.239998, 115.050003, 117.489998, 119.75, 119.91999799999999, 119.730003, 119.349998, 119.230003, 118.410004, 119.410004, 118.809998, 118.110001, 116.790001, 119.25, 119.860001, 118.599998, 117.690002, 116.940002, 115.389999, 112.68, 112.800003, 111.989998, 112.25, 109.519997, 107.370003, 107.720001, 108.849998, 109.0, 107.690002, 109.43, 108.699997, 107.029999, 105.370003, 105.849998, 102.370003, 100.129997, 99.110001, 99.059998, 100.690002, 101.190002, 100.480003, 97.709999, 98.650002, 98.190002, 97.879997, 101.459999, 101.529999, 100.879997, 96.629997, 94.519997, 97.339996, 96.709999, 96.040001, 96.839996, 97.33000200000001, 96.91999799999999, 95.699997, 95.940002, 96.349998, 94.720001, 94.5, 96.849998, 98.209999, 98.889999, 96.760002, 96.900002, 96.5, 96.379997, 96.760002, 98.019997, 98.230003, 100.769997, 100.889999, 101.709999, 103.75, 102.83000200000001, 101.760002, 101.58000200000001, 102.239998, 102.279999, 102.910004, 105.18, 106.309998, 106.470001, 106.5, 107.650002, 107.290001, 107.07, 106.25, 106.190002, 107.790001, 110.41999799999999, 109.900002, 110.0, 112.190002, 110.730003, 110.980003, 110.41999799999999, 109.769997, 110.610001, 110.5, 112.339996, 112.389999, 112.300003, 108.949997, 108.0, 108.089996, 106.93, 106.480003, 105.650002, 105.300003, 98.709999, 97.879997, 94.720001, 94.08000200000001, 95.739998, 95.900002, 94.07, 93.449997, 93.769997, 93.57, 93.57, 92.779999, 91.66999799999999, 94.389999, 94.699997, 95.209999, 94.639999, 95.43, 97.190002, 98.089996, 99.739998, 100.730003, 100.470001, 100.400002, 99.540001, 97.839996, 98.269997, 101.889999, 99.870003, 99.559998, 99.989998, 99.349998, 99.120003, 98.480003, 98.410004, 97.75, 96.650002, 96.57, 96.349998, 96.889999, 96.290001, 94.660004, 93.050003, 93.660004, 94.550003, 95.769997, 96.470001, 95.400002, 95.660004, 96.5, 96.889999, 97.650002, 97.699997, 97.66999799999999, 98.989998, 99.300003, 100.129997, 100.0, 100.459999, 101.0, 99.300003, 98.839996, 97.970001, 104.349998, 104.449997, 104.550003, 106.150002, 106.07, 105.839996, 106.0, 107.650002, 108.370003, 108.940002, 108.900002, 108.93, 108.440002, 109.540001, 110.230003, 109.370003, 109.599998, 109.690002, 109.099998, 109.32, 108.75, 107.879997, 107.949997, 107.440002, 106.5, 106.57, 106.800003, 108.0, 108.300003, 108.760002, 107.269997, 105.720001, 105.720001, 108.790001, 113.029999, 115.730003, 116.129997, 116.18, 114.120003, 113.989998, 114.940002, 114.790001, 113.389999, 113.18, 114.639999, 113.800003, 113.370003, 113.050003, 114.309998, 113.660004, 114.339996, 114.559998, 116.75, 118.690002, 117.980003, 117.440002, 118.16999799999999, 117.839996, 118.209999, 117.760002, 117.379997, 116.910004, 117.739998, 118.360001, 115.699997, 115.860001, 115.209999, 114.230003, 113.769997, 112.349998, 111.459999, 110.25, 110.510002, 111.720001, 111.32, 111.089996, 108.870003, 107.809998, 107.68, 110.230003, 110.349998, 110.540001, 111.989998, 112.41999799999999, 111.510002, 111.870003, 112.470001, 112.029999, 112.199997, 110.940002, 110.089996, 110.029999, 110.360001, 111.190002, 112.43, 114.699997, 115.0, 115.91999799999999, 116.199997, 116.730003, 116.5, 117.379997, 117.5, 117.400002, 116.510002, 116.519997, 117.800003, 118.019997, 117.110001, 117.199997, 116.33000200000001, 116.510002, 116.860001, 118.160004, 119.43, 119.379997, 119.93, 119.300003, 119.620003, 120.239998, 120.5, 120.089996, 120.449997, 120.809998, 120.099998, 122.099998, 122.440002, 122.349998, 121.629997, 121.389999, 130.490005, 129.389999, 129.190002, 130.5, 132.08999599999999, 132.220001, 132.449997, 132.940002, 133.820007, 135.08999599999999, 136.270004, 135.899994], \"yaxis\": \"y\"}],\n",
              "                        {\"legend\": {\"tracegroupgap\": 0}, \"margin\": {\"t\": 60}, \"template\": {\"data\": {\"bar\": [{\"error_x\": {\"color\": \"#2a3f5f\"}, \"error_y\": {\"color\": \"#2a3f5f\"}, \"marker\": {\"line\": {\"color\": \"#E5ECF6\", \"width\": 0.5}}, \"type\": \"bar\"}], \"barpolar\": [{\"marker\": {\"line\": {\"color\": \"#E5ECF6\", \"width\": 0.5}}, \"type\": \"barpolar\"}], \"carpet\": [{\"aaxis\": {\"endlinecolor\": \"#2a3f5f\", \"gridcolor\": \"white\", \"linecolor\": \"white\", \"minorgridcolor\": \"white\", \"startlinecolor\": \"#2a3f5f\"}, \"baxis\": {\"endlinecolor\": \"#2a3f5f\", \"gridcolor\": \"white\", \"linecolor\": \"white\", \"minorgridcolor\": \"white\", \"startlinecolor\": \"#2a3f5f\"}, \"type\": \"carpet\"}], \"choropleth\": [{\"colorbar\": {\"outlinewidth\": 0, \"ticks\": \"\"}, \"type\": \"choropleth\"}], \"contour\": [{\"colorbar\": {\"outlinewidth\": 0, \"ticks\": \"\"}, \"colorscale\": [[0.0, \"#0d0887\"], [0.1111111111111111, \"#46039f\"], [0.2222222222222222, \"#7201a8\"], [0.3333333333333333, \"#9c179e\"], [0.4444444444444444, \"#bd3786\"], [0.5555555555555556, \"#d8576b\"], [0.6666666666666666, \"#ed7953\"], [0.7777777777777778, \"#fb9f3a\"], [0.8888888888888888, \"#fdca26\"], [1.0, \"#f0f921\"]], \"type\": \"contour\"}], \"contourcarpet\": [{\"colorbar\": {\"outlinewidth\": 0, \"ticks\": \"\"}, \"type\": \"contourcarpet\"}], \"heatmap\": [{\"colorbar\": {\"outlinewidth\": 0, \"ticks\": \"\"}, \"colorscale\": [[0.0, \"#0d0887\"], [0.1111111111111111, \"#46039f\"], [0.2222222222222222, \"#7201a8\"], [0.3333333333333333, \"#9c179e\"], [0.4444444444444444, \"#bd3786\"], [0.5555555555555556, \"#d8576b\"], [0.6666666666666666, \"#ed7953\"], [0.7777777777777778, \"#fb9f3a\"], [0.8888888888888888, \"#fdca26\"], [1.0, \"#f0f921\"]], \"type\": \"heatmap\"}], \"heatmapgl\": [{\"colorbar\": {\"outlinewidth\": 0, \"ticks\": \"\"}, \"colorscale\": [[0.0, \"#0d0887\"], [0.1111111111111111, \"#46039f\"], [0.2222222222222222, \"#7201a8\"], [0.3333333333333333, \"#9c179e\"], [0.4444444444444444, \"#bd3786\"], [0.5555555555555556, \"#d8576b\"], [0.6666666666666666, \"#ed7953\"], [0.7777777777777778, \"#fb9f3a\"], [0.8888888888888888, \"#fdca26\"], [1.0, \"#f0f921\"]], \"type\": \"heatmapgl\"}], \"histogram\": [{\"marker\": {\"colorbar\": {\"outlinewidth\": 0, \"ticks\": \"\"}}, \"type\": \"histogram\"}], \"histogram2d\": [{\"colorbar\": {\"outlinewidth\": 0, \"ticks\": \"\"}, \"colorscale\": [[0.0, \"#0d0887\"], [0.1111111111111111, \"#46039f\"], [0.2222222222222222, \"#7201a8\"], [0.3333333333333333, \"#9c179e\"], [0.4444444444444444, \"#bd3786\"], [0.5555555555555556, \"#d8576b\"], [0.6666666666666666, \"#ed7953\"], [0.7777777777777778, \"#fb9f3a\"], [0.8888888888888888, \"#fdca26\"], [1.0, \"#f0f921\"]], \"type\": \"histogram2d\"}], \"histogram2dcontour\": [{\"colorbar\": {\"outlinewidth\": 0, \"ticks\": \"\"}, \"colorscale\": [[0.0, \"#0d0887\"], [0.1111111111111111, \"#46039f\"], [0.2222222222222222, \"#7201a8\"], [0.3333333333333333, \"#9c179e\"], [0.4444444444444444, \"#bd3786\"], [0.5555555555555556, \"#d8576b\"], [0.6666666666666666, \"#ed7953\"], [0.7777777777777778, \"#fb9f3a\"], [0.8888888888888888, \"#fdca26\"], [1.0, \"#f0f921\"]], \"type\": \"histogram2dcontour\"}], \"mesh3d\": [{\"colorbar\": {\"outlinewidth\": 0, \"ticks\": \"\"}, \"type\": \"mesh3d\"}], \"parcoords\": [{\"line\": {\"colorbar\": {\"outlinewidth\": 0, \"ticks\": \"\"}}, \"type\": \"parcoords\"}], \"pie\": [{\"automargin\": true, \"type\": \"pie\"}], \"scatter\": [{\"marker\": {\"colorbar\": {\"outlinewidth\": 0, \"ticks\": \"\"}}, \"type\": \"scatter\"}], \"scatter3d\": [{\"line\": {\"colorbar\": {\"outlinewidth\": 0, \"ticks\": \"\"}}, \"marker\": {\"colorbar\": {\"outlinewidth\": 0, \"ticks\": \"\"}}, \"type\": \"scatter3d\"}], \"scattercarpet\": [{\"marker\": {\"colorbar\": {\"outlinewidth\": 0, \"ticks\": \"\"}}, \"type\": \"scattercarpet\"}], \"scattergeo\": [{\"marker\": {\"colorbar\": {\"outlinewidth\": 0, \"ticks\": \"\"}}, \"type\": \"scattergeo\"}], \"scattergl\": [{\"marker\": {\"colorbar\": {\"outlinewidth\": 0, \"ticks\": \"\"}}, \"type\": \"scattergl\"}], \"scattermapbox\": [{\"marker\": {\"colorbar\": {\"outlinewidth\": 0, \"ticks\": \"\"}}, \"type\": \"scattermapbox\"}], \"scatterpolar\": [{\"marker\": {\"colorbar\": {\"outlinewidth\": 0, \"ticks\": \"\"}}, \"type\": \"scatterpolar\"}], \"scatterpolargl\": [{\"marker\": {\"colorbar\": {\"outlinewidth\": 0, \"ticks\": \"\"}}, \"type\": \"scatterpolargl\"}], \"scatterternary\": [{\"marker\": {\"colorbar\": {\"outlinewidth\": 0, \"ticks\": \"\"}}, \"type\": \"scatterternary\"}], \"surface\": [{\"colorbar\": {\"outlinewidth\": 0, \"ticks\": \"\"}, \"colorscale\": [[0.0, \"#0d0887\"], [0.1111111111111111, \"#46039f\"], [0.2222222222222222, \"#7201a8\"], [0.3333333333333333, \"#9c179e\"], [0.4444444444444444, \"#bd3786\"], [0.5555555555555556, \"#d8576b\"], [0.6666666666666666, \"#ed7953\"], [0.7777777777777778, \"#fb9f3a\"], [0.8888888888888888, \"#fdca26\"], [1.0, \"#f0f921\"]], \"type\": \"surface\"}], \"table\": [{\"cells\": {\"fill\": {\"color\": \"#EBF0F8\"}, \"line\": {\"color\": \"white\"}}, \"header\": {\"fill\": {\"color\": \"#C8D4E3\"}, \"line\": {\"color\": \"white\"}}, \"type\": \"table\"}]}, \"layout\": {\"annotationdefaults\": {\"arrowcolor\": \"#2a3f5f\", \"arrowhead\": 0, \"arrowwidth\": 1}, \"coloraxis\": {\"colorbar\": {\"outlinewidth\": 0, \"ticks\": \"\"}}, \"colorscale\": {\"diverging\": [[0, \"#8e0152\"], [0.1, \"#c51b7d\"], [0.2, \"#de77ae\"], [0.3, \"#f1b6da\"], [0.4, \"#fde0ef\"], [0.5, \"#f7f7f7\"], [0.6, \"#e6f5d0\"], [0.7, \"#b8e186\"], [0.8, \"#7fbc41\"], [0.9, \"#4d9221\"], [1, \"#276419\"]], \"sequential\": [[0.0, \"#0d0887\"], [0.1111111111111111, \"#46039f\"], [0.2222222222222222, \"#7201a8\"], [0.3333333333333333, \"#9c179e\"], [0.4444444444444444, \"#bd3786\"], [0.5555555555555556, \"#d8576b\"], [0.6666666666666666, \"#ed7953\"], [0.7777777777777778, \"#fb9f3a\"], [0.8888888888888888, \"#fdca26\"], [1.0, \"#f0f921\"]], \"sequentialminus\": [[0.0, \"#0d0887\"], [0.1111111111111111, \"#46039f\"], [0.2222222222222222, \"#7201a8\"], [0.3333333333333333, \"#9c179e\"], [0.4444444444444444, \"#bd3786\"], [0.5555555555555556, \"#d8576b\"], [0.6666666666666666, \"#ed7953\"], [0.7777777777777778, \"#fb9f3a\"], [0.8888888888888888, \"#fdca26\"], [1.0, \"#f0f921\"]]}, \"colorway\": [\"#636efa\", \"#EF553B\", \"#00cc96\", \"#ab63fa\", \"#FFA15A\", \"#19d3f3\", \"#FF6692\", \"#B6E880\", \"#FF97FF\", \"#FECB52\"], \"font\": {\"color\": \"#2a3f5f\"}, \"geo\": {\"bgcolor\": \"white\", \"lakecolor\": \"white\", \"landcolor\": \"#E5ECF6\", \"showlakes\": true, \"showland\": true, \"subunitcolor\": \"white\"}, \"hoverlabel\": {\"align\": \"left\"}, \"hovermode\": \"closest\", \"mapbox\": {\"style\": \"light\"}, \"paper_bgcolor\": \"white\", \"plot_bgcolor\": \"#E5ECF6\", \"polar\": {\"angularaxis\": {\"gridcolor\": \"white\", \"linecolor\": \"white\", \"ticks\": \"\"}, \"bgcolor\": \"#E5ECF6\", \"radialaxis\": {\"gridcolor\": \"white\", \"linecolor\": \"white\", \"ticks\": \"\"}}, \"scene\": {\"xaxis\": {\"backgroundcolor\": \"#E5ECF6\", \"gridcolor\": \"white\", \"gridwidth\": 2, \"linecolor\": \"white\", \"showbackground\": true, \"ticks\": \"\", \"zerolinecolor\": \"white\"}, \"yaxis\": {\"backgroundcolor\": \"#E5ECF6\", \"gridcolor\": \"white\", \"gridwidth\": 2, \"linecolor\": \"white\", \"showbackground\": true, \"ticks\": \"\", \"zerolinecolor\": \"white\"}, \"zaxis\": {\"backgroundcolor\": \"#E5ECF6\", \"gridcolor\": \"white\", \"gridwidth\": 2, \"linecolor\": \"white\", \"showbackground\": true, \"ticks\": \"\", \"zerolinecolor\": \"white\"}}, \"shapedefaults\": {\"line\": {\"color\": \"#2a3f5f\"}}, \"ternary\": {\"aaxis\": {\"gridcolor\": \"white\", \"linecolor\": \"white\", \"ticks\": \"\"}, \"baxis\": {\"gridcolor\": \"white\", \"linecolor\": \"white\", \"ticks\": \"\"}, \"bgcolor\": \"#E5ECF6\", \"caxis\": {\"gridcolor\": \"white\", \"linecolor\": \"white\", \"ticks\": \"\"}}, \"title\": {\"x\": 0.05}, \"xaxis\": {\"automargin\": true, \"gridcolor\": \"white\", \"linecolor\": \"white\", \"ticks\": \"\", \"title\": {\"standoff\": 15}, \"zerolinecolor\": \"white\", \"zerolinewidth\": 2}, \"yaxis\": {\"automargin\": true, \"gridcolor\": \"white\", \"linecolor\": \"white\", \"ticks\": \"\", \"title\": {\"standoff\": 15}, \"zerolinecolor\": \"white\", \"zerolinewidth\": 2}}}, \"xaxis\": {\"anchor\": \"y\", \"domain\": [0.0, 1.0], \"title\": {\"text\": \"Date\"}}, \"yaxis\": {\"anchor\": \"x\", \"domain\": [0.0, 1.0], \"title\": {\"text\": \"AAPL.High\"}}},\n",
              "                        {\"responsive\": true}\n",
              "                    )\n",
              "                };\n",
              "                \n",
              "            </script>\n",
              "        </div>\n",
              "</body>\n",
              "</html>"
            ]
          },
          "metadata": {
            "tags": []
          }
        }
      ]
    },
    {
      "cell_type": "code",
      "metadata": {
        "id": "MfLwFfBfFGKb",
        "colab_type": "code",
        "colab": {},
        "outputId": "76b98795-81d3-4c67-87fd-711a2047f152"
      },
      "source": [
        "import pandas as pd\n",
        "import numpy as np\n",
        "import matplotlib.pyplot as plt\n",
        "import matplotlib.dates as mdates\n",
        "from datetime import datetime\n"
      ],
      "execution_count": null,
      "outputs": [
        {
          "output_type": "display_data",
          "data": {
            "text/html": [
              "<style scoped>\n",
              "  .ansiout {\n",
              "    display: block;\n",
              "    unicode-bidi: embed;\n",
              "    white-space: pre-wrap;\n",
              "    word-wrap: break-word;\n",
              "    word-break: break-all;\n",
              "    font-family: \"Source Code Pro\", \"Menlo\", monospace;;\n",
              "    font-size: 13px;\n",
              "    color: #555;\n",
              "    margin-left: 4px;\n",
              "    line-height: 19px;\n",
              "  }\n",
              "</style>\n",
              "<div class=\"ansiout\"></div>"
            ]
          },
          "metadata": {
            "tags": []
          }
        }
      ]
    },
    {
      "cell_type": "code",
      "metadata": {
        "id": "gvAkQ6C_FGKd",
        "colab_type": "code",
        "colab": {},
        "outputId": "37a85fb2-a02d-497d-d0d9-b436f68208d4"
      },
      "source": [
        "type(tweets)"
      ],
      "execution_count": null,
      "outputs": [
        {
          "output_type": "display_data",
          "data": {
            "text/html": [
              "<style scoped>\n",
              "  .ansiout {\n",
              "    display: block;\n",
              "    unicode-bidi: embed;\n",
              "    white-space: pre-wrap;\n",
              "    word-wrap: break-word;\n",
              "    word-break: break-all;\n",
              "    font-family: \"Source Code Pro\", \"Menlo\", monospace;;\n",
              "    font-size: 13px;\n",
              "    color: #555;\n",
              "    margin-left: 4px;\n",
              "    line-height: 19px;\n",
              "  }\n",
              "</style>\n",
              "<div class=\"ansiout\">Out[37]: pyspark.sql.dataframe.DataFrame</div>"
            ]
          },
          "metadata": {
            "tags": []
          }
        }
      ]
    },
    {
      "cell_type": "code",
      "metadata": {
        "id": "R93WHGukFGKg",
        "colab_type": "code",
        "colab": {},
        "outputId": "14dd5d8e-04c6-4803-d412-02a1555e54b2"
      },
      "source": [
        "tweets.dtypes"
      ],
      "execution_count": null,
      "outputs": [
        {
          "output_type": "display_data",
          "data": {
            "text/html": [
              "<style scoped>\n",
              "  .ansiout {\n",
              "    display: block;\n",
              "    unicode-bidi: embed;\n",
              "    white-space: pre-wrap;\n",
              "    word-wrap: break-word;\n",
              "    word-break: break-all;\n",
              "    font-family: \"Source Code Pro\", \"Menlo\", monospace;;\n",
              "    font-size: 13px;\n",
              "    color: #555;\n",
              "    margin-left: 4px;\n",
              "    line-height: 19px;\n",
              "  }\n",
              "</style>\n",
              "<div class=\"ansiout\">Out[74]: [(&#39;user&#39;, &#39;string&#39;),\n",
              " (&#39;hashtags&#39;, &#39;array&lt;string&gt;&#39;),\n",
              " (&#39;user_mention&#39;, &#39;array&lt;string&gt;&#39;),\n",
              " (&#39;full_text&#39;, &#39;string&#39;),\n",
              " (&#39;sentiment&#39;, &#39;string&#39;)]</div>"
            ]
          },
          "metadata": {
            "tags": []
          }
        }
      ]
    },
    {
      "cell_type": "code",
      "metadata": {
        "id": "rdBlJHBJFGKi",
        "colab_type": "code",
        "colab": {},
        "outputId": "bd56e7a9-0ca8-40ec-a5d2-3d97d1dbbc47"
      },
      "source": [
        "tweets.count()"
      ],
      "execution_count": null,
      "outputs": [
        {
          "output_type": "display_data",
          "data": {
            "text/html": [
              "<style scoped>\n",
              "  .ansiout {\n",
              "    display: block;\n",
              "    unicode-bidi: embed;\n",
              "    white-space: pre-wrap;\n",
              "    word-wrap: break-word;\n",
              "    word-break: break-all;\n",
              "    font-family: \"Source Code Pro\", \"Menlo\", monospace;;\n",
              "    font-size: 13px;\n",
              "    color: #555;\n",
              "    margin-left: 4px;\n",
              "    line-height: 19px;\n",
              "  }\n",
              "</style>\n",
              "<div class=\"ansiout\">Out[60]: 10727</div>"
            ]
          },
          "metadata": {
            "tags": []
          }
        }
      ]
    },
    {
      "cell_type": "code",
      "metadata": {
        "id": "YfytgaySFGKk",
        "colab_type": "code",
        "colab": {},
        "outputId": "214734a8-7f4a-404e-d7a8-30d1f07f599c"
      },
      "source": [
        "tweets_pdf = tweets.toPandas()"
      ],
      "execution_count": null,
      "outputs": [
        {
          "output_type": "display_data",
          "data": {
            "text/html": [
              "<style scoped>\n",
              "  .ansiout {\n",
              "    display: block;\n",
              "    unicode-bidi: embed;\n",
              "    white-space: pre-wrap;\n",
              "    word-wrap: break-word;\n",
              "    word-break: break-all;\n",
              "    font-family: \"Source Code Pro\", \"Menlo\", monospace;;\n",
              "    font-size: 13px;\n",
              "    color: #555;\n",
              "    margin-left: 4px;\n",
              "    line-height: 19px;\n",
              "  }\n",
              "</style>\n",
              "<div class=\"ansiout\"></div>"
            ]
          },
          "metadata": {
            "tags": []
          }
        }
      ]
    },
    {
      "cell_type": "code",
      "metadata": {
        "id": "qLjBsUUSFGKl",
        "colab_type": "code",
        "colab": {},
        "outputId": "38e177b5-91f6-4669-8584-96f626d78e1d"
      },
      "source": [
        "tweets_pdf.head()"
      ],
      "execution_count": null,
      "outputs": [
        {
          "output_type": "display_data",
          "data": {
            "text/html": [
              "<div>\n",
              "<style scoped>\n",
              "    .dataframe tbody tr th:only-of-type {\n",
              "        vertical-align: middle;\n",
              "    }\n",
              "\n",
              "    .dataframe tbody tr th {\n",
              "        vertical-align: top;\n",
              "    }\n",
              "\n",
              "    .dataframe thead th {\n",
              "        text-align: right;\n",
              "    }\n",
              "</style>\n",
              "<table border=\"1\" class=\"dataframe\">\n",
              "  <thead>\n",
              "    <tr style=\"text-align: right;\">\n",
              "      <th></th>\n",
              "      <th>data</th>\n",
              "      <th>id</th>\n",
              "      <th>ts</th>\n",
              "      <th>tweet</th>\n",
              "      <th>sentiment</th>\n",
              "    </tr>\n",
              "  </thead>\n",
              "  <tbody>\n",
              "    <tr>\n",
              "      <th>0</th>\n",
              "      <td>[{\"id\": \"1267925038927314945\", \"tweet\": \"b\\\"RT...</td>\n",
              "      <td>1267925038927314945</td>\n",
              "      <td>Tue Jun 02 21:04:20 +0000 2020</td>\n",
              "      <td>b\"RT @AshaRangappa_: Trudeau's pause brought t...</td>\n",
              "      <td>neutral</td>\n",
              "    </tr>\n",
              "    <tr>\n",
              "      <th>1</th>\n",
              "      <td>[{\"id\": \"1267925038881267712\", \"tweet\": \"b'RT ...</td>\n",
              "      <td>1267925038881267712</td>\n",
              "      <td>Tue Jun 02 21:04:20 +0000 2020</td>\n",
              "      <td>b'RT @SylvieoooOooo: Ah ils sont fort \\xf0\\x9f...</td>\n",
              "      <td>neutral</td>\n",
              "    </tr>\n",
              "    <tr>\n",
              "      <th>2</th>\n",
              "      <td>[{\"id\": \"1267925039329894400\", \"tweet\": \"b'Can...</td>\n",
              "      <td>1267925039329894400</td>\n",
              "      <td>Tue Jun 02 21:04:20 +0000 2020</td>\n",
              "      <td>b'Canada\\xe2\\x80\\x99s Military knows more than...</td>\n",
              "      <td>positive</td>\n",
              "    </tr>\n",
              "    <tr>\n",
              "      <th>3</th>\n",
              "      <td>[{\"id\": \"1267925040231825409\", \"tweet\": \"b'The...</td>\n",
              "      <td>1267925040231825409</td>\n",
              "      <td>Tue Jun 02 21:04:21 +0000 2020</td>\n",
              "      <td>b'The impacts on #CoVID19 are slowly precipita...</td>\n",
              "      <td>negative</td>\n",
              "    </tr>\n",
              "    <tr>\n",
              "      <th>4</th>\n",
              "      <td>[{\"id\": \"1267925040722579471\", \"tweet\": \"b'RT ...</td>\n",
              "      <td>1267925040722579471</td>\n",
              "      <td>Tue Jun 02 21:04:21 +0000 2020</td>\n",
              "      <td>b'RT @pamSmacdonald: @jpwooster @MuhammadLila ...</td>\n",
              "      <td>neutral</td>\n",
              "    </tr>\n",
              "  </tbody>\n",
              "</table>\n",
              "</div>"
            ]
          },
          "metadata": {
            "tags": []
          }
        }
      ]
    },
    {
      "cell_type": "code",
      "metadata": {
        "id": "Me1EZLsxFGKo",
        "colab_type": "code",
        "colab": {},
        "outputId": "d96757e9-6abc-4c7c-e674-873e2faa6ee9"
      },
      "source": [
        "idx = pd.DatetimeIndex(pd.to_datetime(tweets_pdf['ts']))"
      ],
      "execution_count": null,
      "outputs": [
        {
          "output_type": "display_data",
          "data": {
            "text/html": [
              "<style scoped>\n",
              "  .ansiout {\n",
              "    display: block;\n",
              "    unicode-bidi: embed;\n",
              "    white-space: pre-wrap;\n",
              "    word-wrap: break-word;\n",
              "    word-break: break-all;\n",
              "    font-family: \"Source Code Pro\", \"Menlo\", monospace;;\n",
              "    font-size: 13px;\n",
              "    color: #555;\n",
              "    margin-left: 4px;\n",
              "    line-height: 19px;\n",
              "  }\n",
              "</style>\n",
              "<div class=\"ansiout\"></div>"
            ]
          },
          "metadata": {
            "tags": []
          }
        }
      ]
    },
    {
      "cell_type": "code",
      "metadata": {
        "id": "IUlmn4NzFGKr",
        "colab_type": "code",
        "colab": {},
        "outputId": "856da09c-3829-47af-94b7-17ad05e77c5b"
      },
      "source": [
        "type(idx)"
      ],
      "execution_count": null,
      "outputs": [
        {
          "output_type": "display_data",
          "data": {
            "text/html": [
              "<style scoped>\n",
              "  .ansiout {\n",
              "    display: block;\n",
              "    unicode-bidi: embed;\n",
              "    white-space: pre-wrap;\n",
              "    word-wrap: break-word;\n",
              "    word-break: break-all;\n",
              "    font-family: \"Source Code Pro\", \"Menlo\", monospace;;\n",
              "    font-size: 13px;\n",
              "    color: #555;\n",
              "    margin-left: 4px;\n",
              "    line-height: 19px;\n",
              "  }\n",
              "</style>\n",
              "<div class=\"ansiout\">Out[64]: pandas.core.indexes.datetimes.DatetimeIndex</div>"
            ]
          },
          "metadata": {
            "tags": []
          }
        }
      ]
    },
    {
      "cell_type": "code",
      "metadata": {
        "id": "kjZytKecFGKt",
        "colab_type": "code",
        "colab": {},
        "outputId": "99164cee-4a24-42ac-c88b-71ced9a4056b"
      },
      "source": [
        "len(pd.to_datetime(tweets_pdf['ts']))"
      ],
      "execution_count": null,
      "outputs": [
        {
          "output_type": "display_data",
          "data": {
            "text/html": [
              "<style scoped>\n",
              "  .ansiout {\n",
              "    display: block;\n",
              "    unicode-bidi: embed;\n",
              "    white-space: pre-wrap;\n",
              "    word-wrap: break-word;\n",
              "    word-break: break-all;\n",
              "    font-family: \"Source Code Pro\", \"Menlo\", monospace;;\n",
              "    font-size: 13px;\n",
              "    color: #555;\n",
              "    margin-left: 4px;\n",
              "    line-height: 19px;\n",
              "  }\n",
              "</style>\n",
              "<div class=\"ansiout\">Out[65]: 3143</div>"
            ]
          },
          "metadata": {
            "tags": []
          }
        }
      ]
    },
    {
      "cell_type": "code",
      "metadata": {
        "id": "vkfFiDsqFGKw",
        "colab_type": "code",
        "colab": {},
        "outputId": "05dbe295-91a5-4119-95a3-f4933acb85da"
      },
      "source": [
        "ones = np.ones(len(pd.to_datetime(tweets_pdf['ts'])))"
      ],
      "execution_count": null,
      "outputs": [
        {
          "output_type": "display_data",
          "data": {
            "text/html": [
              "<style scoped>\n",
              "  .ansiout {\n",
              "    display: block;\n",
              "    unicode-bidi: embed;\n",
              "    white-space: pre-wrap;\n",
              "    word-wrap: break-word;\n",
              "    word-break: break-all;\n",
              "    font-family: \"Source Code Pro\", \"Menlo\", monospace;;\n",
              "    font-size: 13px;\n",
              "    color: #555;\n",
              "    margin-left: 4px;\n",
              "    line-height: 19px;\n",
              "  }\n",
              "</style>\n",
              "<div class=\"ansiout\"></div>"
            ]
          },
          "metadata": {
            "tags": []
          }
        }
      ]
    },
    {
      "cell_type": "code",
      "metadata": {
        "id": "oH60MgurFGKy",
        "colab_type": "code",
        "colab": {},
        "outputId": "db7d4730-d1b3-4bf8-9e3d-4404737adbea"
      },
      "source": [
        "idx.shape[0]"
      ],
      "execution_count": null,
      "outputs": [
        {
          "output_type": "display_data",
          "data": {
            "text/html": [
              "<style scoped>\n",
              "  .ansiout {\n",
              "    display: block;\n",
              "    unicode-bidi: embed;\n",
              "    white-space: pre-wrap;\n",
              "    word-wrap: break-word;\n",
              "    word-break: break-all;\n",
              "    font-family: \"Source Code Pro\", \"Menlo\", monospace;;\n",
              "    font-size: 13px;\n",
              "    color: #555;\n",
              "    margin-left: 4px;\n",
              "    line-height: 19px;\n",
              "  }\n",
              "</style>\n",
              "<div class=\"ansiout\">Out[67]: 3143</div>"
            ]
          },
          "metadata": {
            "tags": []
          }
        }
      ]
    },
    {
      "cell_type": "code",
      "metadata": {
        "id": "_mKl67Z6FGK0",
        "colab_type": "code",
        "colab": {},
        "outputId": "aa83d377-0865-482a-b42e-c8707df9f597"
      },
      "source": [
        "# the actual series (at series of 1s for the moment) \n",
        "my_series = pd.Series(ones, index=idx)"
      ],
      "execution_count": null,
      "outputs": [
        {
          "output_type": "display_data",
          "data": {
            "text/html": [
              "<style scoped>\n",
              "  .ansiout {\n",
              "    display: block;\n",
              "    unicode-bidi: embed;\n",
              "    white-space: pre-wrap;\n",
              "    word-wrap: break-word;\n",
              "    word-break: break-all;\n",
              "    font-family: \"Source Code Pro\", \"Menlo\", monospace;;\n",
              "    font-size: 13px;\n",
              "    color: #555;\n",
              "    margin-left: 4px;\n",
              "    line-height: 19px;\n",
              "  }\n",
              "</style>\n",
              "<div class=\"ansiout\"></div>"
            ]
          },
          "metadata": {
            "tags": []
          }
        }
      ]
    },
    {
      "cell_type": "code",
      "metadata": {
        "id": "VI4tuYPtFGK4",
        "colab_type": "code",
        "colab": {},
        "outputId": "1533048d-7ad0-4b3d-cba1-81a598fc8b54"
      },
      "source": [
        "# Resampling / bucketing into 1-minute buckets\n",
        "per_minute = my_series.resample('1Min').sum().fillna(0)"
      ],
      "execution_count": null,
      "outputs": [
        {
          "output_type": "display_data",
          "data": {
            "text/html": [
              "<style scoped>\n",
              "  .ansiout {\n",
              "    display: block;\n",
              "    unicode-bidi: embed;\n",
              "    white-space: pre-wrap;\n",
              "    word-wrap: break-word;\n",
              "    word-break: break-all;\n",
              "    font-family: \"Source Code Pro\", \"Menlo\", monospace;;\n",
              "    font-size: 13px;\n",
              "    color: #555;\n",
              "    margin-left: 4px;\n",
              "    line-height: 19px;\n",
              "  }\n",
              "</style>\n",
              "<div class=\"ansiout\"></div>"
            ]
          },
          "metadata": {
            "tags": []
          }
        }
      ]
    },
    {
      "cell_type": "code",
      "metadata": {
        "id": "P4pfRPN5FGK8",
        "colab_type": "code",
        "colab": {},
        "outputId": "5017046d-638f-4a50-f4da-a03db858f333"
      },
      "source": [
        "per_minute_df = pd.DataFrame(per_minute)\n",
        "per_minute_df.head()"
      ],
      "execution_count": null,
      "outputs": [
        {
          "output_type": "display_data",
          "data": {
            "text/html": [
              "<div>\n",
              "<style scoped>\n",
              "    .dataframe tbody tr th:only-of-type {\n",
              "        vertical-align: middle;\n",
              "    }\n",
              "\n",
              "    .dataframe tbody tr th {\n",
              "        vertical-align: top;\n",
              "    }\n",
              "\n",
              "    .dataframe thead th {\n",
              "        text-align: right;\n",
              "    }\n",
              "</style>\n",
              "<table border=\"1\" class=\"dataframe\">\n",
              "  <thead>\n",
              "    <tr style=\"text-align: right;\">\n",
              "      <th></th>\n",
              "      <th>0</th>\n",
              "    </tr>\n",
              "    <tr>\n",
              "      <th>ts</th>\n",
              "      <th></th>\n",
              "    </tr>\n",
              "  </thead>\n",
              "  <tbody>\n",
              "    <tr>\n",
              "      <th>2020-06-02 21:04:00+00:00</th>\n",
              "      <td>650.0</td>\n",
              "    </tr>\n",
              "    <tr>\n",
              "      <th>2020-06-02 21:05:00+00:00</th>\n",
              "      <td>1089.0</td>\n",
              "    </tr>\n",
              "    <tr>\n",
              "      <th>2020-06-02 21:06:00+00:00</th>\n",
              "      <td>1041.0</td>\n",
              "    </tr>\n",
              "    <tr>\n",
              "      <th>2020-06-02 21:07:00+00:00</th>\n",
              "      <td>363.0</td>\n",
              "    </tr>\n",
              "  </tbody>\n",
              "</table>\n",
              "</div>"
            ]
          },
          "metadata": {
            "tags": []
          }
        }
      ]
    },
    {
      "cell_type": "code",
      "metadata": {
        "id": "L9JLDPuYFGK_",
        "colab_type": "code",
        "colab": {},
        "outputId": "674833d3-706c-4ca5-f8c1-78644ebc2649"
      },
      "source": [
        "per_minute_df.columns"
      ],
      "execution_count": null,
      "outputs": [
        {
          "output_type": "display_data",
          "data": {
            "text/html": [
              "<style scoped>\n",
              "  .ansiout {\n",
              "    display: block;\n",
              "    unicode-bidi: embed;\n",
              "    white-space: pre-wrap;\n",
              "    word-wrap: break-word;\n",
              "    word-break: break-all;\n",
              "    font-family: \"Source Code Pro\", \"Menlo\", monospace;;\n",
              "    font-size: 13px;\n",
              "    color: #555;\n",
              "    margin-left: 4px;\n",
              "    line-height: 19px;\n",
              "  }\n",
              "</style>\n",
              "<div class=\"ansiout\">Out[71]: RangeIndex(start=0, stop=1, step=1)</div>"
            ]
          },
          "metadata": {
            "tags": []
          }
        }
      ]
    },
    {
      "cell_type": "code",
      "metadata": {
        "id": "EsK531uzFGLC",
        "colab_type": "code",
        "colab": {},
        "outputId": "4d79c4bc-6f40-424c-d148-4edc624712c9"
      },
      "source": [
        "fig = px.line(per_minute_df, x=per_minute_df.index, y=0)\n",
        "fig.show()"
      ],
      "execution_count": null,
      "outputs": [
        {
          "output_type": "display_data",
          "data": {
            "text/html": [
              "<html>\n",
              "<head><meta charset=\"utf-8\" /></head>\n",
              "<body>\n",
              "    <div>\n",
              "            <script src=\"https://cdnjs.cloudflare.com/ajax/libs/mathjax/2.7.5/MathJax.js?config=TeX-AMS-MML_SVG\"></script><script type=\"text/javascript\">if (window.MathJax) {MathJax.Hub.Config({SVG: {font: \"STIX-Web\"}});}</script>\n",
              "                <script type=\"text/javascript\">window.PlotlyConfig = {MathJaxConfig: 'local'};</script>\n",
              "        <script src=\"https://cdn.plot.ly/plotly-latest.min.js\"></script>    \n",
              "            <div id=\"caf28702-bfd5-4844-bacb-b1271213a616\" class=\"plotly-graph-div\" style=\"height:100%; width:100%;\"></div>\n",
              "            <script type=\"text/javascript\">\n",
              "                \n",
              "                    window.PLOTLYENV=window.PLOTLYENV || {};\n",
              "                    \n",
              "                if (document.getElementById(\"caf28702-bfd5-4844-bacb-b1271213a616\")) {\n",
              "                    Plotly.newPlot(\n",
              "                        'caf28702-bfd5-4844-bacb-b1271213a616',\n",
              "                        [{\"hovertemplate\": \"ts=%{x}<br>0=%{y}<extra></extra>\", \"legendgroup\": \"\", \"line\": {\"color\": \"#636efa\", \"dash\": \"solid\"}, \"mode\": \"lines\", \"name\": \"\", \"orientation\": \"v\", \"showlegend\": false, \"type\": \"scatter\", \"x\": [\"2020-06-02T21:04:00\", \"2020-06-02T21:05:00\", \"2020-06-02T21:06:00\", \"2020-06-02T21:07:00\"], \"xaxis\": \"x\", \"y\": [650.0, 1089.0, 1041.0, 363.0], \"yaxis\": \"y\"}],\n",
              "                        {\"legend\": {\"tracegroupgap\": 0}, \"margin\": {\"t\": 60}, \"template\": {\"data\": {\"bar\": [{\"error_x\": {\"color\": \"#2a3f5f\"}, \"error_y\": {\"color\": \"#2a3f5f\"}, \"marker\": {\"line\": {\"color\": \"#E5ECF6\", \"width\": 0.5}}, \"type\": \"bar\"}], \"barpolar\": [{\"marker\": {\"line\": {\"color\": \"#E5ECF6\", \"width\": 0.5}}, \"type\": \"barpolar\"}], \"carpet\": [{\"aaxis\": {\"endlinecolor\": \"#2a3f5f\", \"gridcolor\": \"white\", \"linecolor\": \"white\", \"minorgridcolor\": \"white\", \"startlinecolor\": \"#2a3f5f\"}, \"baxis\": {\"endlinecolor\": \"#2a3f5f\", \"gridcolor\": \"white\", \"linecolor\": \"white\", \"minorgridcolor\": \"white\", \"startlinecolor\": \"#2a3f5f\"}, \"type\": \"carpet\"}], \"choropleth\": [{\"colorbar\": {\"outlinewidth\": 0, \"ticks\": \"\"}, \"type\": \"choropleth\"}], \"contour\": [{\"colorbar\": {\"outlinewidth\": 0, \"ticks\": \"\"}, \"colorscale\": [[0.0, \"#0d0887\"], [0.1111111111111111, \"#46039f\"], [0.2222222222222222, \"#7201a8\"], [0.3333333333333333, \"#9c179e\"], [0.4444444444444444, \"#bd3786\"], [0.5555555555555556, \"#d8576b\"], [0.6666666666666666, \"#ed7953\"], [0.7777777777777778, \"#fb9f3a\"], [0.8888888888888888, \"#fdca26\"], [1.0, \"#f0f921\"]], \"type\": \"contour\"}], \"contourcarpet\": [{\"colorbar\": {\"outlinewidth\": 0, \"ticks\": \"\"}, \"type\": \"contourcarpet\"}], \"heatmap\": [{\"colorbar\": {\"outlinewidth\": 0, \"ticks\": \"\"}, \"colorscale\": [[0.0, \"#0d0887\"], [0.1111111111111111, \"#46039f\"], [0.2222222222222222, \"#7201a8\"], [0.3333333333333333, \"#9c179e\"], [0.4444444444444444, \"#bd3786\"], [0.5555555555555556, \"#d8576b\"], [0.6666666666666666, \"#ed7953\"], [0.7777777777777778, \"#fb9f3a\"], [0.8888888888888888, \"#fdca26\"], [1.0, \"#f0f921\"]], \"type\": \"heatmap\"}], \"heatmapgl\": [{\"colorbar\": {\"outlinewidth\": 0, \"ticks\": \"\"}, \"colorscale\": [[0.0, \"#0d0887\"], [0.1111111111111111, \"#46039f\"], [0.2222222222222222, \"#7201a8\"], [0.3333333333333333, \"#9c179e\"], [0.4444444444444444, \"#bd3786\"], [0.5555555555555556, \"#d8576b\"], [0.6666666666666666, \"#ed7953\"], [0.7777777777777778, \"#fb9f3a\"], [0.8888888888888888, \"#fdca26\"], [1.0, \"#f0f921\"]], \"type\": \"heatmapgl\"}], \"histogram\": [{\"marker\": {\"colorbar\": {\"outlinewidth\": 0, \"ticks\": \"\"}}, \"type\": \"histogram\"}], \"histogram2d\": [{\"colorbar\": {\"outlinewidth\": 0, \"ticks\": \"\"}, \"colorscale\": [[0.0, \"#0d0887\"], [0.1111111111111111, \"#46039f\"], [0.2222222222222222, \"#7201a8\"], [0.3333333333333333, \"#9c179e\"], [0.4444444444444444, \"#bd3786\"], [0.5555555555555556, \"#d8576b\"], [0.6666666666666666, \"#ed7953\"], [0.7777777777777778, \"#fb9f3a\"], [0.8888888888888888, \"#fdca26\"], [1.0, \"#f0f921\"]], \"type\": \"histogram2d\"}], \"histogram2dcontour\": [{\"colorbar\": {\"outlinewidth\": 0, \"ticks\": \"\"}, \"colorscale\": [[0.0, \"#0d0887\"], [0.1111111111111111, \"#46039f\"], [0.2222222222222222, \"#7201a8\"], [0.3333333333333333, \"#9c179e\"], [0.4444444444444444, \"#bd3786\"], [0.5555555555555556, \"#d8576b\"], [0.6666666666666666, \"#ed7953\"], [0.7777777777777778, \"#fb9f3a\"], [0.8888888888888888, \"#fdca26\"], [1.0, \"#f0f921\"]], \"type\": \"histogram2dcontour\"}], \"mesh3d\": [{\"colorbar\": {\"outlinewidth\": 0, \"ticks\": \"\"}, \"type\": \"mesh3d\"}], \"parcoords\": [{\"line\": {\"colorbar\": {\"outlinewidth\": 0, \"ticks\": \"\"}}, \"type\": \"parcoords\"}], \"pie\": [{\"automargin\": true, \"type\": \"pie\"}], \"scatter\": [{\"marker\": {\"colorbar\": {\"outlinewidth\": 0, \"ticks\": \"\"}}, \"type\": \"scatter\"}], \"scatter3d\": [{\"line\": {\"colorbar\": {\"outlinewidth\": 0, \"ticks\": \"\"}}, \"marker\": {\"colorbar\": {\"outlinewidth\": 0, \"ticks\": \"\"}}, \"type\": \"scatter3d\"}], \"scattercarpet\": [{\"marker\": {\"colorbar\": {\"outlinewidth\": 0, \"ticks\": \"\"}}, \"type\": \"scattercarpet\"}], \"scattergeo\": [{\"marker\": {\"colorbar\": {\"outlinewidth\": 0, \"ticks\": \"\"}}, \"type\": \"scattergeo\"}], \"scattergl\": [{\"marker\": {\"colorbar\": {\"outlinewidth\": 0, \"ticks\": \"\"}}, \"type\": \"scattergl\"}], \"scattermapbox\": [{\"marker\": {\"colorbar\": {\"outlinewidth\": 0, \"ticks\": \"\"}}, \"type\": \"scattermapbox\"}], \"scatterpolar\": [{\"marker\": {\"colorbar\": {\"outlinewidth\": 0, \"ticks\": \"\"}}, \"type\": \"scatterpolar\"}], \"scatterpolargl\": [{\"marker\": {\"colorbar\": {\"outlinewidth\": 0, \"ticks\": \"\"}}, \"type\": \"scatterpolargl\"}], \"scatterternary\": [{\"marker\": {\"colorbar\": {\"outlinewidth\": 0, \"ticks\": \"\"}}, \"type\": \"scatterternary\"}], \"surface\": [{\"colorbar\": {\"outlinewidth\": 0, \"ticks\": \"\"}, \"colorscale\": [[0.0, \"#0d0887\"], [0.1111111111111111, \"#46039f\"], [0.2222222222222222, \"#7201a8\"], [0.3333333333333333, \"#9c179e\"], [0.4444444444444444, \"#bd3786\"], [0.5555555555555556, \"#d8576b\"], [0.6666666666666666, \"#ed7953\"], [0.7777777777777778, \"#fb9f3a\"], [0.8888888888888888, \"#fdca26\"], [1.0, \"#f0f921\"]], \"type\": \"surface\"}], \"table\": [{\"cells\": {\"fill\": {\"color\": \"#EBF0F8\"}, \"line\": {\"color\": \"white\"}}, \"header\": {\"fill\": {\"color\": \"#C8D4E3\"}, \"line\": {\"color\": \"white\"}}, \"type\": \"table\"}]}, \"layout\": {\"annotationdefaults\": {\"arrowcolor\": \"#2a3f5f\", \"arrowhead\": 0, \"arrowwidth\": 1}, \"coloraxis\": {\"colorbar\": {\"outlinewidth\": 0, \"ticks\": \"\"}}, \"colorscale\": {\"diverging\": [[0, \"#8e0152\"], [0.1, \"#c51b7d\"], [0.2, \"#de77ae\"], [0.3, \"#f1b6da\"], [0.4, \"#fde0ef\"], [0.5, \"#f7f7f7\"], [0.6, \"#e6f5d0\"], [0.7, \"#b8e186\"], [0.8, \"#7fbc41\"], [0.9, \"#4d9221\"], [1, \"#276419\"]], \"sequential\": [[0.0, \"#0d0887\"], [0.1111111111111111, \"#46039f\"], [0.2222222222222222, \"#7201a8\"], [0.3333333333333333, \"#9c179e\"], [0.4444444444444444, \"#bd3786\"], [0.5555555555555556, \"#d8576b\"], [0.6666666666666666, \"#ed7953\"], [0.7777777777777778, \"#fb9f3a\"], [0.8888888888888888, \"#fdca26\"], [1.0, \"#f0f921\"]], \"sequentialminus\": [[0.0, \"#0d0887\"], [0.1111111111111111, \"#46039f\"], [0.2222222222222222, \"#7201a8\"], [0.3333333333333333, \"#9c179e\"], [0.4444444444444444, \"#bd3786\"], [0.5555555555555556, \"#d8576b\"], [0.6666666666666666, \"#ed7953\"], [0.7777777777777778, \"#fb9f3a\"], [0.8888888888888888, \"#fdca26\"], [1.0, \"#f0f921\"]]}, \"colorway\": [\"#636efa\", \"#EF553B\", \"#00cc96\", \"#ab63fa\", \"#FFA15A\", \"#19d3f3\", \"#FF6692\", \"#B6E880\", \"#FF97FF\", \"#FECB52\"], \"font\": {\"color\": \"#2a3f5f\"}, \"geo\": {\"bgcolor\": \"white\", \"lakecolor\": \"white\", \"landcolor\": \"#E5ECF6\", \"showlakes\": true, \"showland\": true, \"subunitcolor\": \"white\"}, \"hoverlabel\": {\"align\": \"left\"}, \"hovermode\": \"closest\", \"mapbox\": {\"style\": \"light\"}, \"paper_bgcolor\": \"white\", \"plot_bgcolor\": \"#E5ECF6\", \"polar\": {\"angularaxis\": {\"gridcolor\": \"white\", \"linecolor\": \"white\", \"ticks\": \"\"}, \"bgcolor\": \"#E5ECF6\", \"radialaxis\": {\"gridcolor\": \"white\", \"linecolor\": \"white\", \"ticks\": \"\"}}, \"scene\": {\"xaxis\": {\"backgroundcolor\": \"#E5ECF6\", \"gridcolor\": \"white\", \"gridwidth\": 2, \"linecolor\": \"white\", \"showbackground\": true, \"ticks\": \"\", \"zerolinecolor\": \"white\"}, \"yaxis\": {\"backgroundcolor\": \"#E5ECF6\", \"gridcolor\": \"white\", \"gridwidth\": 2, \"linecolor\": \"white\", \"showbackground\": true, \"ticks\": \"\", \"zerolinecolor\": \"white\"}, \"zaxis\": {\"backgroundcolor\": \"#E5ECF6\", \"gridcolor\": \"white\", \"gridwidth\": 2, \"linecolor\": \"white\", \"showbackground\": true, \"ticks\": \"\", \"zerolinecolor\": \"white\"}}, \"shapedefaults\": {\"line\": {\"color\": \"#2a3f5f\"}}, \"ternary\": {\"aaxis\": {\"gridcolor\": \"white\", \"linecolor\": \"white\", \"ticks\": \"\"}, \"baxis\": {\"gridcolor\": \"white\", \"linecolor\": \"white\", \"ticks\": \"\"}, \"bgcolor\": \"#E5ECF6\", \"caxis\": {\"gridcolor\": \"white\", \"linecolor\": \"white\", \"ticks\": \"\"}}, \"title\": {\"x\": 0.05}, \"xaxis\": {\"automargin\": true, \"gridcolor\": \"white\", \"linecolor\": \"white\", \"ticks\": \"\", \"title\": {\"standoff\": 15}, \"zerolinecolor\": \"white\", \"zerolinewidth\": 2}, \"yaxis\": {\"automargin\": true, \"gridcolor\": \"white\", \"linecolor\": \"white\", \"ticks\": \"\", \"title\": {\"standoff\": 15}, \"zerolinecolor\": \"white\", \"zerolinewidth\": 2}}}, \"xaxis\": {\"anchor\": \"y\", \"domain\": [0.0, 1.0], \"title\": {\"text\": \"ts\"}}, \"yaxis\": {\"anchor\": \"x\", \"domain\": [0.0, 1.0], \"title\": {\"text\": \"0\"}}},\n",
              "                        {\"responsive\": true}\n",
              "                    )\n",
              "                };\n",
              "                \n",
              "            </script>\n",
              "        </div>\n",
              "</body>\n",
              "</html>"
            ]
          },
          "metadata": {
            "tags": []
          }
        }
      ]
    },
    {
      "cell_type": "code",
      "metadata": {
        "id": "ggoVaS0YFGLE",
        "colab_type": "code",
        "colab": {}
      },
      "source": [
        ""
      ],
      "execution_count": null,
      "outputs": []
    }
  ]
}