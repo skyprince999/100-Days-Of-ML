{
  "nbformat": 4,
  "nbformat_minor": 0,
  "metadata": {
    "colab": {
      "name": "Google Earth Engine_Example1.ipynb",
      "provenance": [],
      "collapsed_sections": [],
      "toc_visible": true
    },
    "kernelspec": {
      "name": "python3",
      "display_name": "Python 3"
    }
  },
  "cells": [
    {
      "cell_type": "code",
      "metadata": {
        "id": "krsLgVBYZw_A",
        "colab_type": "code",
        "colab": {}
      },
      "source": [
        "#@title Copyright 2019 Google LLC. { display-mode: \"form\" }\n",
        "# Licensed under the Apache License, Version 2.0 (the \"License\");\n",
        "# you may not use this file except in compliance with the License.\n",
        "# You may obtain a copy of the License at\n",
        "#\n",
        "# https://www.apache.org/licenses/LICENSE-2.0\n",
        "#\n",
        "# Unless required by applicable law or agreed to in writing, software\n",
        "# distributed under the License is distributed on an \"AS IS\" BASIS,\n",
        "# WITHOUT WARRANTIES OR CONDITIONS OF ANY KIND, either express or implied.\n",
        "# See the License for the specific language governing permissions and\n",
        "# limitations under the License."
      ],
      "execution_count": null,
      "outputs": []
    },
    {
      "cell_type": "markdown",
      "metadata": {
        "id": "aV1xZ1CPi3Nw",
        "colab_type": "text"
      },
      "source": [
        "<table class=\"ee-notebook-buttons\" align=\"left\"><td>\n",
        "<a target=\"_blank\"  href=\"http://colab.research.google.com/github/google/earthengine-api/blob/master/python/examples/ipynb/ee-api-colab-setup.ipynb\">\n",
        "    <img src=\"https://www.tensorflow.org/images/colab_logo_32px.png\" /> Run in Google Colab</a>\n",
        "</td><td>\n",
        "<a target=\"_blank\"  href=\"https://github.com/google/earthengine-api/blob/master/python/examples/ipynb/ee-api-colab-setup.ipynb\"><img width=32px src=\"https://www.tensorflow.org/images/GitHub-Mark-32px.png\" /> View source on GitHub</a></td></table>"
      ]
    },
    {
      "cell_type": "markdown",
      "metadata": {
        "id": "LAZiVi13zTE7",
        "colab_type": "text"
      },
      "source": [
        "# Earth Engine Python API Colab Setup\n",
        "\n",
        "This notebook demonstrates how to setup the Earth Engine Python API in Colab and provides several examples of how to print and visualize Earth Engine processed data.\n",
        "\n",
        "## Import API and get credentials\n",
        "\n",
        "The Earth Engine API is installed by default in Google Colaboratory so requires only importing and authenticating. These steps must be completed for each new Colab session, if you restart your Colab kernel, or if your Colab virtual machine is recycled due to inactivity.\n",
        "\n",
        "### Import the API\n",
        "\n",
        "Run the following cell to import the API into your session."
      ]
    },
    {
      "cell_type": "code",
      "metadata": {
        "id": "65RChERMzQHZ",
        "colab_type": "code",
        "colab": {}
      },
      "source": [
        "import ee"
      ],
      "execution_count": null,
      "outputs": []
    },
    {
      "cell_type": "markdown",
      "metadata": {
        "id": "s-dN42MTzg-w",
        "colab_type": "text"
      },
      "source": [
        "### Authenticate and initialize\n",
        "\n",
        "Run the `ee.Authenticate` function to authenticate your access to Earth Engine servers and `ee.Initialize` to initialize it. Upon running the following cell you'll be asked to grant Earth Engine access to your Google account. Follow the instructions printed to the cell."
      ]
    },
    {
      "cell_type": "code",
      "metadata": {
        "id": "NMp9Ei9b0XXL",
        "colab_type": "code",
        "colab": {
          "base_uri": "https://localhost:8080/",
          "height": 171
        },
        "outputId": "e5e147f7-18c2-42a5-ee81-a5580414ee6f"
      },
      "source": [
        "# Trigger the authentication flow.\n",
        "ee.Authenticate()\n",
        "\n",
        "# Initialize the library.\n",
        "ee.Initialize()"
      ],
      "execution_count": null,
      "outputs": [
        {
          "output_type": "stream",
          "text": [
            "To authorize access needed by Earth Engine, open the following URL in a web browser and follow the instructions. If the web browser does not start automatically, please manually browse the URL below.\n",
            "\n",
            "    https://accounts.google.com/o/oauth2/auth?client_id=517222506229-vsmmajv00ul0bs7p89v5m89qs8eb9359.apps.googleusercontent.com&scope=https%3A%2F%2Fwww.googleapis.com%2Fauth%2Fearthengine+https%3A%2F%2Fwww.googleapis.com%2Fauth%2Fdevstorage.full_control&redirect_uri=urn%3Aietf%3Awg%3Aoauth%3A2.0%3Aoob&response_type=code&code_challenge=0LnPD9zLsHkDwRMYQqsilo5ZPaE_7BTXfFUxd2PytS8&code_challenge_method=S256\n",
            "\n",
            "The authorization workflow will generate a code, which you should paste in the box below. \n",
            "Enter verification code: 4/2QGc8hPQJVWJDBThkvKUWPOgI8fLQlq_3eXua8Ul_1mA1gcii4XEpvs\n",
            "\n",
            "Successfully saved authorization token.\n"
          ],
          "name": "stdout"
        }
      ]
    },
    {
      "cell_type": "markdown",
      "metadata": {
        "id": "8I_Fr0L5AFmu",
        "colab_type": "text"
      },
      "source": [
        "### Test the API\n",
        "\n",
        "Test the API by printing the elevation of Mount Everest."
      ]
    },
    {
      "cell_type": "code",
      "metadata": {
        "id": "v7pD6pDOAhOW",
        "colab_type": "code",
        "colab": {
          "base_uri": "https://localhost:8080/",
          "height": 34
        },
        "outputId": "f02b9478-8fc4-488b-ba47-3f7576eaaaa9"
      },
      "source": [
        "# Print the elevation of Mount Everest.\n",
        "dem = ee.Image('USGS/SRTMGL1_003')\n",
        "xy = ee.Geometry.Point([86.9250, 27.9881])\n",
        "elev = dem.sample(xy, 30).first().get('elevation').getInfo()\n",
        "print('Mount Everest elevation (m):', elev)"
      ],
      "execution_count": null,
      "outputs": [
        {
          "output_type": "stream",
          "text": [
            "Mount Everest elevation (m): 8729\n"
          ],
          "name": "stdout"
        }
      ]
    },
    {
      "cell_type": "markdown",
      "metadata": {
        "id": "fDLAqiNWeD6t",
        "colab_type": "text"
      },
      "source": [
        "## Map visualization\n",
        "\n",
        "`ee.Image` objects can be displayed to notebook output cells. The following two\n",
        "examples demonstrate displaying a static image and an interactive map.\n"
      ]
    },
    {
      "cell_type": "markdown",
      "metadata": {
        "id": "45BfeVygwmKm",
        "colab_type": "text"
      },
      "source": [
        "### Static image\n",
        "\n",
        "The `IPython.display` module contains the `Image` function, which can display\n",
        "the results of a URL representing an image generated from a call to the Earth\n",
        "Engine `getThumbUrl` function. The following cell will display a thumbnail\n",
        "of the global elevation model."
      ]
    },
    {
      "cell_type": "code",
      "metadata": {
        "id": "Fp4rdpy0eGjx",
        "colab_type": "code",
        "colab": {
          "base_uri": "https://localhost:8080/",
          "height": 277
        },
        "outputId": "3ab7522c-1817-406e-d488-73ac1456f941"
      },
      "source": [
        "# Import the Image function from the IPython.display module. \n",
        "from IPython.display import Image\n",
        "\n",
        "# Display a thumbnail of global elevation.\n",
        "Image(url = dem.updateMask(dem.gt(0))\n",
        "  .getThumbURL({'min': 0, 'max': 4000, 'dimensions': 512,\n",
        "                'palette': ['006633', 'E5FFCC', '662A00', 'D8D8D8', 'F5F5F5']}))"
      ],
      "execution_count": null,
      "outputs": [
        {
          "output_type": "execute_result",
          "data": {
            "text/html": [
              "<img src=\"https://earthengine.googleapis.com/v1alpha/projects/earthengine-legacy/thumbnails/23df16523a2b4f616fb91821ae5fac54-62cb838f0595cde3ef10b1c13390096a:getPixels\"/>"
            ],
            "text/plain": [
              "<IPython.core.display.Image object>"
            ]
          },
          "metadata": {
            "tags": []
          },
          "execution_count": 25
        }
      ]
    },
    {
      "cell_type": "markdown",
      "metadata": {
        "id": "Ljo5dbLkfmVm",
        "colab_type": "text"
      },
      "source": [
        "### Interactive map\n",
        "\n",
        "The [`folium`](https://python-visualization.github.io/folium/)\n",
        "library can be used to display `ee.Image` objects on an interactive\n",
        "[Leaflet](https://leafletjs.com/) map. Folium has no default\n",
        "method for handling tiles from Earth Engine, so one must be defined\n",
        "and added to the `folium.Map` module before use.\n",
        "\n",
        "The following cell provides an example of adding a method for handing Earth Engine\n",
        "tiles and using it to display an elevation model to a Leaflet map."
      ]
    },
    {
      "cell_type": "code",
      "metadata": {
        "id": "RJLvgrMt0slq",
        "colab_type": "code",
        "colab": {}
      },
      "source": [
        "dem.gt(0)"
      ],
      "execution_count": null,
      "outputs": []
    },
    {
      "cell_type": "code",
      "metadata": {
        "id": "VIiyf6azf4mU",
        "colab_type": "code",
        "colab": {
          "base_uri": "https://localhost:8080/",
          "height": 685
        },
        "outputId": "3fab44c6-4336-40ef-d2ff-4fd6017765fa"
      },
      "source": [
        "# Import the Folium library.\n",
        "import folium\n",
        "\n",
        "# Define a method for displaying Earth Engine image tiles to folium map.\n",
        "def add_ee_layer(self, ee_image_object, vis_params, name):\n",
        "  map_id_dict = ee.Image(ee_image_object).getMapId(vis_params)\n",
        "  folium.raster_layers.TileLayer(\n",
        "    tiles = map_id_dict['tile_fetcher'].url_format,\n",
        "    attr = 'Map Data &copy; <a href=\"https://earthengine.google.com/\">Google Earth Engine</a>',\n",
        "    name = name,\n",
        "    overlay = True,\n",
        "    control = True\n",
        "  ).add_to(self)\n",
        "\n",
        "# Add EE drawing method to folium.\n",
        "folium.Map.add_ee_layer = add_ee_layer\n",
        "\n",
        "# Set visualization parameters.\n",
        "vis_params = {\n",
        "  'min': 0,\n",
        "  'max': 4000,\n",
        "  'palette': ['006633', 'E5FFCC', '662A00', 'D8D8D8', 'F5F5F5']}\n",
        "\n",
        "# Create a folium map object.\n",
        "#my_map = folium.Map(location=[20, 0], zoom_start=3, height=500)\n",
        "my_map = folium.Map(location=[136.85, 37.37], zoom_start=4, height=500)\n",
        "\n",
        "# Add the elevation model to the map object.\n",
        "my_map.add_ee_layer(dem.updateMask(dem.gt(0)), vis_params, 'DEM')\n",
        "\n",
        "# Add a layer control panel to the map.\n",
        "my_map.add_child(folium.LayerControl())\n",
        "\n",
        "# Display the map.\n",
        "display(my_map)"
      ],
      "execution_count": null,
      "outputs": [
        {
          "output_type": "display_data",
          "data": {
            "text/html": [
              "<div style=\"width:100%;\"><div style=\"position:relative;width:100%;height:0;padding-bottom:60%;\"><span style=\"color:#565656\">Make this Notebook Trusted to load map: File -> Trust Notebook</span><iframe src=\"about:blank\" style=\"position:absolute;width:100%;height:100%;left:0;top:0;border:none !important;\" data-html=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 onload=\"this.contentDocument.open();this.contentDocument.write(atob(this.getAttribute('data-html')));this.contentDocument.close();\" allowfullscreen webkitallowfullscreen mozallowfullscreen></iframe></div></div>"
            ],
            "text/plain": [
              "<folium.folium.Map at 0x7f4cc414a780>"
            ]
          },
          "metadata": {
            "tags": []
          }
        }
      ]
    },
    {
      "cell_type": "markdown",
      "metadata": {
        "id": "CYfinjFhg0HN",
        "colab_type": "text"
      },
      "source": [
        "## Chart visualization\n",
        "\n",
        "Some Earth Engine functions produce tabular data that can be plotted by\n",
        "data visualization packages such as `matplotlib`. The following example\n",
        "demonstrates the display of tabular data from Earth Engine as a scatter\n",
        "plot. See [Charting in Colaboratory](https://colab.sandbox.google.com/notebooks/charts.ipynb)\n",
        "for more information."
      ]
    },
    {
      "cell_type": "code",
      "metadata": {
        "id": "tRPULejJhBSl",
        "colab_type": "code",
        "colab": {
          "base_uri": "https://localhost:8080/",
          "height": 284
        },
        "outputId": "20720ca8-8a47-4954-c436-f59ebc007d0b"
      },
      "source": [
        "# Import the matplotlib.pyplot module.\n",
        "import matplotlib.pyplot as plt\n",
        "\n",
        "# Fetch a Landsat image.\n",
        "img = ee.Image('LANDSAT/LT05/C01/T1_SR/LT05_034033_20000913')\n",
        "\n",
        "# Select Red and NIR bands, scale them, and sample 500 points.\n",
        "samp_fc = img.select(['B3','B4']).divide(10000).sample(scale=30, numPixels=500)\n",
        "\n",
        "# Arrange the sample as a list of lists.\n",
        "samp_dict = samp_fc.reduceColumns(ee.Reducer.toList().repeat(2), ['B3', 'B4'])\n",
        "samp_list = ee.List(samp_dict.get('list'))\n",
        "\n",
        "# Save server-side ee.List as a client-side Python list.\n",
        "samp_data = samp_list.getInfo()\n",
        "\n",
        "# Display a scatter plot of Red-NIR sample pairs using matplotlib.\n",
        "plt.scatter(samp_data[0], samp_data[1], alpha=0.2)\n",
        "plt.xlabel('Red', fontsize=12)\n",
        "plt.ylabel('NIR', fontsize=12)\n",
        "plt.show()"
      ],
      "execution_count": null,
      "outputs": [
        {
          "output_type": "display_data",
          "data": {
            "image/png": "[encoded data removed]",
            "text/plain": [
              "<Figure size 432x288 with 1 Axes>"
            ]
          },
          "metadata": {
            "tags": [],
            "needs_background": "light"
          }
        }
      ]
    },
    {
      "cell_type": "markdown",
      "metadata": {
        "id": "FHclWVJJrxKH",
        "colab_type": "text"
      },
      "source": [
        "## Date Objects\n",
        "\n",
        "Convert ee.Date to client-side date"
      ]
    },
    {
      "cell_type": "code",
      "metadata": {
        "id": "BD14_to4rzFI",
        "colab_type": "code",
        "colab": {}
      },
      "source": [
        "import datetime\n",
        "\n",
        "ee_date = ee.Date('2020-01-01')\n",
        "py_date = datetime.datetime.utcfromtimestamp(ee_date.getInfo()['value']/1000.0)"
      ],
      "execution_count": null,
      "outputs": []
    },
    {
      "cell_type": "code",
      "metadata": {
        "id": "fegjSnJ0r6OB",
        "colab_type": "code",
        "colab": {
          "base_uri": "https://localhost:8080/",
          "height": 168
        },
        "outputId": "ff2b9beb-2553-4845-b289-482652ebbc45"
      },
      "source": [
        "print(ee_date)\n",
        "print()\n",
        "print(ee_date.getInfo())"
      ],
      "execution_count": null,
      "outputs": [
        {
          "output_type": "stream",
          "text": [
            "ee.Date({\n",
            "  \"type\": \"Invocation\",\n",
            "  \"arguments\": {\n",
            "    \"value\": \"2020-01-01\"\n",
            "  },\n",
            "  \"functionName\": \"Date\"\n",
            "})\n",
            "\n",
            "{'type': 'Date', 'value': 1577836800000}\n"
          ],
          "name": "stdout"
        }
      ]
    },
    {
      "cell_type": "markdown",
      "metadata": {
        "id": "bLAjHfRCsh6H",
        "colab_type": "text"
      },
      "source": [
        "Convert client-side dates to ee.Date"
      ]
    },
    {
      "cell_type": "code",
      "metadata": {
        "id": "9ruocjoCr9WE",
        "colab_type": "code",
        "colab": {}
      },
      "source": [
        "py_date = datetime.datetime.utcnow()\n",
        "ee_date = ee.Date(py_date)"
      ],
      "execution_count": null,
      "outputs": []
    },
    {
      "cell_type": "markdown",
      "metadata": {
        "id": "4UGItSFGsr74",
        "colab_type": "text"
      },
      "source": [
        "## Exporting Data\n",
        "\n",
        "export tasks should be started where the geometry needs to be defined as a geojson polygon\n"
      ]
    },
    {
      "cell_type": "code",
      "metadata": {
        "id": "7e-LUHpGsmgT",
        "colab_type": "code",
        "colab": {}
      },
      "source": [
        "# # Define task \n",
        "# task = ee.batch.Export.image.toDrive(image=my_img,\n",
        "#                                      region=my_geometry.getInfo()['coordinates'],\n",
        "#                                      description='my_description',\n",
        "#                                      folder='my_gdrive_folder',\n",
        "#                                      fileNamePrefix='my_file_prefix',\n",
        "#                                      scale=my_scale,\n",
        "#                                      crs=my_crs)"
      ],
      "execution_count": null,
      "outputs": []
    },
    {
      "cell_type": "code",
      "metadata": {
        "id": "cclI5Qm8u-jG",
        "colab_type": "code",
        "colab": {}
      },
      "source": [
        "# Start an export task\n",
        "# task.start()\n",
        "\n",
        "# Check status of task\n",
        "# task.status()"
      ],
      "execution_count": null,
      "outputs": []
    },
    {
      "cell_type": "code",
      "metadata": {
        "id": "iKwSrbwYvG8E",
        "colab_type": "code",
        "colab": {
          "base_uri": "https://localhost:8080/",
          "height": 255
        },
        "outputId": "0be3193b-1156-475f-bf2c-1007611821f6"
      },
      "source": [
        "# Load a Landsat image.\n",
        "img = ee.Image('LANDSAT/LT05/C01/T1_SR/LT05_034033_20000913')\n",
        "\n",
        "# Print image object WITHOUT call to getInfo(); prints serialized request instructions.\n",
        "print(\"Displays Serialized object\")\n",
        "print(img)\n",
        "print()\n",
        "print(\"######################################################\")\n",
        "print(\"######################################################\")\n",
        "# Print image object WITH call to getInfo(); prints image metadata.\n",
        "print(\"Displays meta information\")\n",
        "print(img.getInfo())"
      ],
      "execution_count": null,
      "outputs": [
        {
          "output_type": "stream",
          "text": [
            "Displays Serialized object\n",
            "ee.Image({\n",
            "  \"type\": \"Invocation\",\n",
            "  \"arguments\": {\n",
            "    \"id\": \"LANDSAT/LT05/C01/T1_SR/LT05_034033_20000913\"\n",
            "  },\n",
            "  \"functionName\": \"Image.load\"\n",
            "})\n",
            "\n",
            "######################################################\n",
            "######################################################\n",
            "Displays meta information\n",
            "{'type': 'Image', 'bands': [{'id': 'B1', 'data_type': {'type': 'PixelType', 'precision': 'int', 'min': -32768, 'max': 32767}, 'dimensions': [7961, 7301], 'crs': 'EPSG:32613', 'crs_transform': [30, 0, 270285, 0, -30, 4414815]}, {'id': 'B2', 'data_type': {'type': 'PixelType', 'precision': 'int', 'min': -32768, 'max': 32767}, 'dimensions': [7961, 7301], 'crs': 'EPSG:32613', 'crs_transform': [30, 0, 270285, 0, -30, 4414815]}, {'id': 'B3', 'data_type': {'type': 'PixelType', 'precision': 'int', 'min': -32768, 'max': 32767}, 'dimensions': [7961, 7301], 'crs': 'EPSG:32613', 'crs_transform': [30, 0, 270285, 0, -30, 4414815]}, {'id': 'B4', 'data_type': {'type': 'PixelType', 'precision': 'int', 'min': -32768, 'max': 32767}, 'dimensions': [7961, 7301], 'crs': 'EPSG:32613', 'crs_transform': [30, 0, 270285, 0, -30, 4414815]}, {'id': 'B5', 'data_type': {'type': 'PixelType', 'precision': 'int', 'min': -32768, 'max': 32767}, 'dimensions': [7961, 7301], 'crs': 'EPSG:32613', 'crs_transform': [30, 0, 270285, 0, -30, 4414815]}, {'id': 'B6', 'data_type': {'type': 'PixelType', 'precision': 'int', 'min': -32768, 'max': 32767}, 'dimensions': [7961, 7301], 'crs': 'EPSG:32613', 'crs_transform': [30, 0, 270285, 0, -30, 4414815]}, {'id': 'B7', 'data_type': {'type': 'PixelType', 'precision': 'int', 'min': -32768, 'max': 32767}, 'dimensions': [7961, 7301], 'crs': 'EPSG:32613', 'crs_transform': [30, 0, 270285, 0, -30, 4414815]}, {'id': 'sr_atmos_opacity', 'data_type': {'type': 'PixelType', 'precision': 'int', 'min': -32768, 'max': 32767}, 'dimensions': [7961, 7301], 'crs': 'EPSG:32613', 'crs_transform': [30, 0, 270285, 0, -30, 4414815]}, {'id': 'sr_cloud_qa', 'data_type': {'type': 'PixelType', 'precision': 'int', 'min': 0, 'max': 255}, 'dimensions': [7961, 7301], 'crs': 'EPSG:32613', 'crs_transform': [30, 0, 270285, 0, -30, 4414815]}, {'id': 'pixel_qa', 'data_type': {'type': 'PixelType', 'precision': 'int', 'min': 0, 'max': 65535}, 'dimensions': [7961, 7301], 'crs': 'EPSG:32613', 'crs_transform': [30, 0, 270285, 0, -30, 4414815]}, {'id': 'radsat_qa', 'data_type': {'type': 'PixelType', 'precision': 'int', 'min': 0, 'max': 255}, 'dimensions': [7961, 7301], 'crs': 'EPSG:32613', 'crs_transform': [30, 0, 270285, 0, -30, 4414815]}], 'id': 'LANDSAT/LT05/C01/T1_SR/LT05_034033_20000913', 'version': 1538944486718967, 'properties': {'IMAGE_QUALITY': 9, 'SATELLITE': 'LANDSAT_5', 'SOLAR_AZIMUTH_ANGLE': 141.401031, 'CLOUD_COVER': 0, 'WRS_PATH': 34, 'EARTH_SUN_DISTANCE': 1.005947, 'system:time_start': 968865725989, 'LANDSAT_ID': 'LT05_L1TP_034033_20000913_20160918_01_T1', 'SENSING_TIME': '2000-09-13T17:22:05.9890880Z', 'ESPA_VERSION': '2_19_0c', 'SOLAR_ZENITH_ANGLE': 41.934059, 'system:footprint': {'type': 'LinearRing', 'coordinates': [[-107.02869086291923, 39.84432363800019], [-107.07980980087045, 39.85126661965529], [-107.08652717633666, 39.849697643108755], [-107.0897758455212, 39.8405819578208], [-107.11182940314823, 39.7707179631659], [-107.21879155445666, 39.413849310454374], [-107.37259194928556, 38.891052103694385], [-107.52433643751696, 38.368081812423796], [-107.55395385669085, 38.263097139745526], [-107.56063282665062, 38.23679490602129], [-107.55934893818782, 38.23317297774577], [-105.49311751312952, 37.930606804132815], [-105.48965894759056, 37.939600449971515], [-105.4779323992155, 37.97426299040739], [-105.4665343056877, 38.00837900396258], [-105.29373593893524, 38.543204771752215], [-105.00027724293751, 39.443187322446825], [-104.96794099898516, 39.54191304485849], [-107.02869086291923, 39.84432363800019]]}, 'WRS_ROW': 33, 'GEOMETRIC_RMSE_MODEL_Y': 3.358, 'LEVEL1_PRODUCTION_DATE': 1474209899000, 'CLOUD_COVER_LAND': 0, 'GEOMETRIC_RMSE_MODEL_X': 2.493, 'system:asset_size': 365532987, 'GEOMETRIC_RMSE_MODEL': 4.182, 'SR_APP_VERSION': 'LEDAPS_3.2.0', 'PIXEL_QA_VERSION': 'generate_pixel_qa_1.5.0', 'system:index': 'LT05_034033_20000913'}}\n"
          ],
          "name": "stdout"
        }
      ]
    },
    {
      "cell_type": "code",
      "metadata": {
        "id": "F6nVSt8cvPV5",
        "colab_type": "code",
        "colab": {
          "base_uri": "https://localhost:8080/",
          "height": 1000
        },
        "outputId": "bedcca2c-207e-4e66-fd83-b032b3d6a2b2"
      },
      "source": [
        "# Display the meta data in a *preetier* format\n",
        "import pprint\n",
        "\n",
        "pprint.pprint(img.getInfo())"
      ],
      "execution_count": null,
      "outputs": [
        {
          "output_type": "stream",
          "text": [
            "{'bands': [{'crs': 'EPSG:32613',\n",
            "            'crs_transform': [30, 0, 270285, 0, -30, 4414815],\n",
            "            'data_type': {'max': 32767,\n",
            "                          'min': -32768,\n",
            "                          'precision': 'int',\n",
            "                          'type': 'PixelType'},\n",
            "            'dimensions': [7961, 7301],\n",
            "            'id': 'B1'},\n",
            "           {'crs': 'EPSG:32613',\n",
            "            'crs_transform': [30, 0, 270285, 0, -30, 4414815],\n",
            "            'data_type': {'max': 32767,\n",
            "                          'min': -32768,\n",
            "                          'precision': 'int',\n",
            "                          'type': 'PixelType'},\n",
            "            'dimensions': [7961, 7301],\n",
            "            'id': 'B2'},\n",
            "           {'crs': 'EPSG:32613',\n",
            "            'crs_transform': [30, 0, 270285, 0, -30, 4414815],\n",
            "            'data_type': {'max': 32767,\n",
            "                          'min': -32768,\n",
            "                          'precision': 'int',\n",
            "                          'type': 'PixelType'},\n",
            "            'dimensions': [7961, 7301],\n",
            "            'id': 'B3'},\n",
            "           {'crs': 'EPSG:32613',\n",
            "            'crs_transform': [30, 0, 270285, 0, -30, 4414815],\n",
            "            'data_type': {'max': 32767,\n",
            "                          'min': -32768,\n",
            "                          'precision': 'int',\n",
            "                          'type': 'PixelType'},\n",
            "            'dimensions': [7961, 7301],\n",
            "            'id': 'B4'},\n",
            "           {'crs': 'EPSG:32613',\n",
            "            'crs_transform': [30, 0, 270285, 0, -30, 4414815],\n",
            "            'data_type': {'max': 32767,\n",
            "                          'min': -32768,\n",
            "                          'precision': 'int',\n",
            "                          'type': 'PixelType'},\n",
            "            'dimensions': [7961, 7301],\n",
            "            'id': 'B5'},\n",
            "           {'crs': 'EPSG:32613',\n",
            "            'crs_transform': [30, 0, 270285, 0, -30, 4414815],\n",
            "            'data_type': {'max': 32767,\n",
            "                          'min': -32768,\n",
            "                          'precision': 'int',\n",
            "                          'type': 'PixelType'},\n",
            "            'dimensions': [7961, 7301],\n",
            "            'id': 'B6'},\n",
            "           {'crs': 'EPSG:32613',\n",
            "            'crs_transform': [30, 0, 270285, 0, -30, 4414815],\n",
            "            'data_type': {'max': 32767,\n",
            "                          'min': -32768,\n",
            "                          'precision': 'int',\n",
            "                          'type': 'PixelType'},\n",
            "            'dimensions': [7961, 7301],\n",
            "            'id': 'B7'},\n",
            "           {'crs': 'EPSG:32613',\n",
            "            'crs_transform': [30, 0, 270285, 0, -30, 4414815],\n",
            "            'data_type': {'max': 32767,\n",
            "                          'min': -32768,\n",
            "                          'precision': 'int',\n",
            "                          'type': 'PixelType'},\n",
            "            'dimensions': [7961, 7301],\n",
            "            'id': 'sr_atmos_opacity'},\n",
            "           {'crs': 'EPSG:32613',\n",
            "            'crs_transform': [30, 0, 270285, 0, -30, 4414815],\n",
            "            'data_type': {'max': 255,\n",
            "                          'min': 0,\n",
            "                          'precision': 'int',\n",
            "                          'type': 'PixelType'},\n",
            "            'dimensions': [7961, 7301],\n",
            "            'id': 'sr_cloud_qa'},\n",
            "           {'crs': 'EPSG:32613',\n",
            "            'crs_transform': [30, 0, 270285, 0, -30, 4414815],\n",
            "            'data_type': {'max': 65535,\n",
            "                          'min': 0,\n",
            "                          'precision': 'int',\n",
            "                          'type': 'PixelType'},\n",
            "            'dimensions': [7961, 7301],\n",
            "            'id': 'pixel_qa'},\n",
            "           {'crs': 'EPSG:32613',\n",
            "            'crs_transform': [30, 0, 270285, 0, -30, 4414815],\n",
            "            'data_type': {'max': 255,\n",
            "                          'min': 0,\n",
            "                          'precision': 'int',\n",
            "                          'type': 'PixelType'},\n",
            "            'dimensions': [7961, 7301],\n",
            "            'id': 'radsat_qa'}],\n",
            " 'id': 'LANDSAT/LT05/C01/T1_SR/LT05_034033_20000913',\n",
            " 'properties': {'CLOUD_COVER': 0,\n",
            "                'CLOUD_COVER_LAND': 0,\n",
            "                'EARTH_SUN_DISTANCE': 1.005947,\n",
            "                'ESPA_VERSION': '2_19_0c',\n",
            "                'GEOMETRIC_RMSE_MODEL': 4.182,\n",
            "                'GEOMETRIC_RMSE_MODEL_X': 2.493,\n",
            "                'GEOMETRIC_RMSE_MODEL_Y': 3.358,\n",
            "                'IMAGE_QUALITY': 9,\n",
            "                'LANDSAT_ID': 'LT05_L1TP_034033_20000913_20160918_01_T1',\n",
            "                'LEVEL1_PRODUCTION_DATE': 1474209899000,\n",
            "                'PIXEL_QA_VERSION': 'generate_pixel_qa_1.5.0',\n",
            "                'SATELLITE': 'LANDSAT_5',\n",
            "                'SENSING_TIME': '2000-09-13T17:22:05.9890880Z',\n",
            "                'SOLAR_AZIMUTH_ANGLE': 141.401031,\n",
            "                'SOLAR_ZENITH_ANGLE': 41.934059,\n",
            "                'SR_APP_VERSION': 'LEDAPS_3.2.0',\n",
            "                'WRS_PATH': 34,\n",
            "                'WRS_ROW': 33,\n",
            "                'system:asset_size': 365532987,\n",
            "                'system:footprint': {'coordinates': [[-107.02869086291923,\n",
            "                                                      39.84432363800019],\n",
            "                                                     [-107.07980980087045,\n",
            "                                                      39.85126661965529],\n",
            "                                                     [-107.08652717633666,\n",
            "                                                      39.849697643108755],\n",
            "                                                     [-107.0897758455212,\n",
            "                                                      39.8405819578208],\n",
            "                                                     [-107.11182940314823,\n",
            "                                                      39.7707179631659],\n",
            "                                                     [-107.21879155445666,\n",
            "                                                      39.413849310454374],\n",
            "                                                     [-107.37259194928556,\n",
            "                                                      38.891052103694385],\n",
            "                                                     [-107.52433643751696,\n",
            "                                                      38.368081812423796],\n",
            "                                                     [-107.55395385669085,\n",
            "                                                      38.263097139745526],\n",
            "                                                     [-107.56063282665062,\n",
            "                                                      38.23679490602129],\n",
            "                                                     [-107.55934893818782,\n",
            "                                                      38.23317297774577],\n",
            "                                                     [-105.49311751312952,\n",
            "                                                      37.930606804132815],\n",
            "                                                     [-105.48965894759056,\n",
            "                                                      37.939600449971515],\n",
            "                                                     [-105.4779323992155,\n",
            "                                                      37.97426299040739],\n",
            "                                                     [-105.4665343056877,\n",
            "                                                      38.00837900396258],\n",
            "                                                     [-105.29373593893524,\n",
            "                                                      38.543204771752215],\n",
            "                                                     [-105.00027724293751,\n",
            "                                                      39.443187322446825],\n",
            "                                                     [-104.96794099898516,\n",
            "                                                      39.54191304485849],\n",
            "                                                     [-107.02869086291923,\n",
            "                                                      39.84432363800019]],\n",
            "                                     'type': 'LinearRing'},\n",
            "                'system:index': 'LT05_034033_20000913',\n",
            "                'system:time_start': 968865725989},\n",
            " 'type': 'Image',\n",
            " 'version': 1538944486718967}\n"
          ],
          "name": "stdout"
        }
      ]
    },
    {
      "cell_type": "code",
      "metadata": {
        "id": "N3nG4lvIvxRR",
        "colab_type": "code",
        "colab": {}
      },
      "source": [
        ""
      ],
      "execution_count": null,
      "outputs": []
    }
  ]
}