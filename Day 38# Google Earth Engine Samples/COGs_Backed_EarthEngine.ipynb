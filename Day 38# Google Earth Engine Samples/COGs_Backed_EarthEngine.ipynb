{
  "nbformat": 4,
  "nbformat_minor": 0,
  "metadata": {
    "colab": {
      "name": "COGs_Backed_EarthEngine.ipynb",
      "provenance": [],
      "collapsed_sections": []
    },
    "kernelspec": {
      "name": "python3",
      "display_name": "Python 3"
    }
  },
  "cells": [
    {
      "cell_type": "markdown",
      "metadata": {
        "id": "lBW0kD3_vAoL",
        "colab_type": "text"
      },
      "source": [
        "The earth engine can be optmized for cloud optimized geotiff  \n",
        "\n",
        "It contains at its beginning the metadata of the full resolution imagery, followed by the optional presence of overview metadata, and finally the imagery itself. To make it friendly with streaming and progressive rendering, we recommand starting with the imagery of the smallest overview and finishing with the imagery of the full resolution level.\n",
        "\n",
        "Specs for the COGs (Cloud-Optimised-Geotiff) can be found at this link\n",
        "```\n",
        "https://github.com/cogeotiff/cog-spec/blob/master/spec.md\n",
        "```\n",
        "\n",
        "I need to go through it -\n",
        "\n",
        "https://github.com/google/earthengine-api/blob/master/python/examples/ipynb/Earth_Engine_asset_from_cloud_geotiff.ipynb"
      ]
    },
    {
      "cell_type": "code",
      "metadata": {
        "id": "cxe1Yt1ntygK",
        "colab_type": "code",
        "colab": {}
      },
      "source": [
        ""
      ],
      "execution_count": null,
      "outputs": []
    }
  ]
}