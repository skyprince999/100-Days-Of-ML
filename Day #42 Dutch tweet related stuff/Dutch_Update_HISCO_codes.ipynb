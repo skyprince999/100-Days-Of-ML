{
 "cells": [
  {
   "cell_type": "code",
   "execution_count": null,
   "metadata": {
    "id": "ojfo22SbMd9b"
   },
   "outputs": [],
   "source": [
    "import pandas as pd"
   ]
  },
  {
   "cell_type": "code",
   "execution_count": null,
   "metadata": {
    "id": "2Yed2g0SPl7i"
   },
   "outputs": [],
   "source": [
    "dutch_tweets = pd.read_excel(\"Dutch tweets.xlsx\")\n",
    "hsnhisco = pd.read_excel(\"hsnhisco.xlsx\")"
   ]
  },
  {
   "cell_type": "code",
   "execution_count": null,
   "metadata": {
    "colab": {
     "base_uri": "https://localhost:8080/",
     "height": 51
    },
    "id": "jDQR3uM-Pt_i",
    "outputId": "39d239d3-6705-40dc-c7dd-3ab30cad498e"
   },
   "outputs": [
    {
     "name": "stdout",
     "output_type": "stream",
     "text": [
      "(1000, 17)\n",
      "(95298, 15)\n"
     ]
    }
   ],
   "source": [
    "print(dutch_tweets.shape)\n",
    "print(hsnhisco.shape)"
   ]
  },
  {
   "cell_type": "code",
   "execution_count": null,
   "metadata": {
    "colab": {
     "base_uri": "https://localhost:8080/",
     "height": 85
    },
    "id": "iJs6YlKASXiC",
    "outputId": "23597696-80d7-475f-8e23-82e6d57bc232"
   },
   "outputs": [
    {
     "data": {
      "text/plain": [
       "Index(['Id', 'Original', 'Original (English)', 'Standard',\n",
       "       'Standard (English)', 'HISCO', 'STATUS', 'RELATION', 'PRODUCT',\n",
       "       'HISCLASS', 'HISCLASS_5', 'HISCAM_U1', 'HISCAM_NL', 'SOCPO', 'Release'],\n",
       "      dtype='object')"
      ]
     },
     "execution_count": 25,
     "metadata": {
      "tags": []
     },
     "output_type": "execute_result"
    }
   ],
   "source": [
    "hsnhisco.columns"
   ]
  },
  {
   "cell_type": "code",
   "execution_count": null,
   "metadata": {
    "colab": {
     "base_uri": "https://localhost:8080/",
     "height": 85
    },
    "id": "ofXop7kh6-08",
    "outputId": "96ead0e8-0c68-48f8-a301-c1a081bda84f"
   },
   "outputs": [
    {
     "data": {
      "text/plain": [
       "Index(['full_text', 'created_at', 'screen_name', 'description', 'location',\n",
       "       'Industry', 'text Translation', 'Day', 'Weekday', 'Month', 'Year',\n",
       "       'point_info', 'point', 'latitude', 'longitude', 'altitude', 'Province'],\n",
       "      dtype='object')"
      ]
     },
     "execution_count": 29,
     "metadata": {
      "tags": []
     },
     "output_type": "execute_result"
    }
   ],
   "source": [
    "dutch_tweets.columns"
   ]
  },
  {
   "cell_type": "code",
   "execution_count": null,
   "metadata": {
    "colab": {
     "base_uri": "https://localhost:8080/",
     "height": 204
    },
    "id": "ScRcuPGDjv3k",
    "outputId": "1b74abe6-8c29-4235-bb8d-c1f970e65f66"
   },
   "outputs": [
    {
     "data": {
      "text/html": [
       "<div>\n",
       "<style scoped>\n",
       "    .dataframe tbody tr th:only-of-type {\n",
       "        vertical-align: middle;\n",
       "    }\n",
       "\n",
       "    .dataframe tbody tr th {\n",
       "        vertical-align: top;\n",
       "    }\n",
       "\n",
       "    .dataframe thead th {\n",
       "        text-align: right;\n",
       "    }\n",
       "</style>\n",
       "<table border=\"1\" class=\"dataframe\">\n",
       "  <thead>\n",
       "    <tr style=\"text-align: right;\">\n",
       "      <th></th>\n",
       "      <th>Id</th>\n",
       "      <th>Original</th>\n",
       "      <th>Original (English)</th>\n",
       "      <th>Standard</th>\n",
       "      <th>Standard (English)</th>\n",
       "      <th>HISCO</th>\n",
       "      <th>STATUS</th>\n",
       "      <th>RELATION</th>\n",
       "      <th>PRODUCT</th>\n",
       "      <th>HISCLASS</th>\n",
       "      <th>HISCLASS_5</th>\n",
       "      <th>HISCAM_U1</th>\n",
       "      <th>HISCAM_NL</th>\n",
       "      <th>SOCPO</th>\n",
       "      <th>Release</th>\n",
       "    </tr>\n",
       "  </thead>\n",
       "  <tbody>\n",
       "    <tr>\n",
       "      <th>0</th>\n",
       "      <td>1</td>\n",
       "      <td>NaN</td>\n",
       "      <td>NaN</td>\n",
       "      <td>beroepstitel niet vermeld</td>\n",
       "      <td>professional title specified</td>\n",
       "      <td>-3</td>\n",
       "      <td>-9</td>\n",
       "      <td>-9</td>\n",
       "      <td>-9</td>\n",
       "      <td>-1</td>\n",
       "      <td>-1</td>\n",
       "      <td>NaN</td>\n",
       "      <td>NaN</td>\n",
       "      <td>999</td>\n",
       "      <td>HSN_HISCO_2013_01</td>\n",
       "    </tr>\n",
       "    <tr>\n",
       "      <th>1</th>\n",
       "      <td>2</td>\n",
       "      <td>--</td>\n",
       "      <td>-</td>\n",
       "      <td>beroepstitel niet vermeld</td>\n",
       "      <td>professional title specified</td>\n",
       "      <td>-3</td>\n",
       "      <td>-9</td>\n",
       "      <td>-9</td>\n",
       "      <td>-9</td>\n",
       "      <td>-1</td>\n",
       "      <td>-1</td>\n",
       "      <td>NaN</td>\n",
       "      <td>NaN</td>\n",
       "      <td>999</td>\n",
       "      <td>HSN_HISCO_2013_01</td>\n",
       "    </tr>\n",
       "    <tr>\n",
       "      <th>2</th>\n",
       "      <td>3</td>\n",
       "      <td>eigenwerkdoende</td>\n",
       "      <td>own work doing</td>\n",
       "      <td>eigen werk doende</td>\n",
       "      <td>own work doing</td>\n",
       "      <td>99999</td>\n",
       "      <td>-9</td>\n",
       "      <td>-9</td>\n",
       "      <td>-9</td>\n",
       "      <td>-1</td>\n",
       "      <td>-1</td>\n",
       "      <td>NaN</td>\n",
       "      <td>NaN</td>\n",
       "      <td>999</td>\n",
       "      <td>HSN_HISCO_2013_01</td>\n",
       "    </tr>\n",
       "    <tr>\n",
       "      <th>3</th>\n",
       "      <td>4</td>\n",
       "      <td>expediteur</td>\n",
       "      <td>shipping agent</td>\n",
       "      <td>expediteur</td>\n",
       "      <td>shipping agent</td>\n",
       "      <td>39120</td>\n",
       "      <td>-9</td>\n",
       "      <td>-9</td>\n",
       "      <td>-9</td>\n",
       "      <td>5</td>\n",
       "      <td>2</td>\n",
       "      <td>67.30</td>\n",
       "      <td>63.61</td>\n",
       "      <td>42</td>\n",
       "      <td>HSN_HISCO_2013_01</td>\n",
       "    </tr>\n",
       "    <tr>\n",
       "      <th>4</th>\n",
       "      <td>5</td>\n",
       "      <td>gemeente-arbeider</td>\n",
       "      <td>church worker</td>\n",
       "      <td>gemeentearbeider</td>\n",
       "      <td>community worker</td>\n",
       "      <td>99910</td>\n",
       "      <td>-9</td>\n",
       "      <td>-9</td>\n",
       "      <td>-9</td>\n",
       "      <td>11</td>\n",
       "      <td>5</td>\n",
       "      <td>57.34</td>\n",
       "      <td>49.75</td>\n",
       "      <td>1</td>\n",
       "      <td>HSN_HISCO_2013_01</td>\n",
       "    </tr>\n",
       "  </tbody>\n",
       "</table>\n",
       "</div>"
      ],
      "text/plain": [
       "   Id           Original  ... SOCPO            Release\n",
       "0   1                NaN  ...   999  HSN_HISCO_2013_01\n",
       "1   2                 --  ...   999  HSN_HISCO_2013_01\n",
       "2   3    eigenwerkdoende  ...   999  HSN_HISCO_2013_01\n",
       "3   4         expediteur  ...    42  HSN_HISCO_2013_01\n",
       "4   5  gemeente-arbeider  ...     1  HSN_HISCO_2013_01\n",
       "\n",
       "[5 rows x 15 columns]"
      ]
     },
     "execution_count": 26,
     "metadata": {
      "tags": []
     },
     "output_type": "execute_result"
    }
   ],
   "source": [
    "hsnhisco.head()"
   ]
  },
  {
   "cell_type": "code",
   "execution_count": null,
   "metadata": {
    "colab": {
     "base_uri": "https://localhost:8080/",
     "height": 34
    },
    "id": "LwCAd5y93e6L",
    "outputId": "bb404f84-55cd-464e-86ae-b9f25d50917b"
   },
   "outputs": [
    {
     "data": {
      "text/plain": [
       "(34257, 15)"
      ]
     },
     "execution_count": 27,
     "metadata": {
      "tags": []
     },
     "output_type": "execute_result"
    }
   ],
   "source": [
    "hsnhisco.drop_duplicates(subset=['Standard', 'HISCO'], inplace=True)\n",
    "hsnhisco.shape"
   ]
  },
  {
   "cell_type": "code",
   "execution_count": null,
   "metadata": {
    "id": "6JVO4tCh3o9j"
   },
   "outputs": [],
   "source": [
    "hsnhisco_dict = pd.Series(hsnhisco['HISCO'].values,index=hsnhisco['Standard']).to_dict()\n",
    "hsnhisco_dict"
   ]
  },
  {
   "cell_type": "code",
   "execution_count": null,
   "metadata": {
    "id": "u5NFEXTSUNpd"
   },
   "outputs": [],
   "source": [
    "!pip3 install -U spacy\n",
    "!python3 -m spacy download nl_core_news_sm"
   ]
  },
  {
   "cell_type": "code",
   "execution_count": null,
   "metadata": {
    "id": "CCE6Oxx1XYbU"
   },
   "outputs": [],
   "source": [
    "import spacy"
   ]
  },
  {
   "cell_type": "code",
   "execution_count": null,
   "metadata": {
    "id": "629CfJxkXam5"
   },
   "outputs": [],
   "source": [
    "nlp = spacy.load(\"nl_core_news_sm\")"
   ]
  },
  {
   "cell_type": "code",
   "execution_count": null,
   "metadata": {
    "colab": {
     "base_uri": "https://localhost:8080/",
     "height": 34
    },
    "id": "Ubc88BAoXcMO",
    "outputId": "93009b03-09e0-4c05-8d38-f11a939303bf"
   },
   "outputs": [
    {
     "name": "stdout",
     "output_type": "stream",
     "text": [
      "[('Dit', 'PRON'), ('is', 'VERB'), ('een', 'DET'), ('zin', 'NOUN'), ('.', 'SYM')]\n"
     ]
    }
   ],
   "source": [
    "doc = nlp(\"Dit is een zin.\")\n",
    "print([(w.text, w.pos_) for w in doc])"
   ]
  },
  {
   "cell_type": "code",
   "execution_count": null,
   "metadata": {
    "colab": {
     "base_uri": "https://localhost:8080/",
     "height": 547
    },
    "id": "t7DkHs_ZX4Tc",
    "outputId": "2c373173-bd45-4245-a50b-9d9040e26dfe"
   },
   "outputs": [
    {
     "data": {
      "text/html": [
       "<div>\n",
       "<style scoped>\n",
       "    .dataframe tbody tr th:only-of-type {\n",
       "        vertical-align: middle;\n",
       "    }\n",
       "\n",
       "    .dataframe tbody tr th {\n",
       "        vertical-align: top;\n",
       "    }\n",
       "\n",
       "    .dataframe thead th {\n",
       "        text-align: right;\n",
       "    }\n",
       "</style>\n",
       "<table border=\"1\" class=\"dataframe\">\n",
       "  <thead>\n",
       "    <tr style=\"text-align: right;\">\n",
       "      <th></th>\n",
       "      <th>full_text</th>\n",
       "      <th>created_at</th>\n",
       "      <th>screen_name</th>\n",
       "      <th>description</th>\n",
       "      <th>location</th>\n",
       "      <th>Industry</th>\n",
       "      <th>text Translation</th>\n",
       "      <th>Day</th>\n",
       "      <th>Weekday</th>\n",
       "      <th>Month</th>\n",
       "      <th>Year</th>\n",
       "      <th>point_info</th>\n",
       "      <th>point</th>\n",
       "      <th>latitude</th>\n",
       "      <th>longitude</th>\n",
       "      <th>altitude</th>\n",
       "      <th>Province</th>\n",
       "    </tr>\n",
       "  </thead>\n",
       "  <tbody>\n",
       "    <tr>\n",
       "      <th>0</th>\n",
       "      <td>RT @NVALeuven: Onaanvaardbaar! 😡😡😡\\n \\n Spoedi...</td>\n",
       "      <td>Mon Sep 14 14:08:15 +0000 2020</td>\n",
       "      <td>karel_mortier</td>\n",
       "      <td>Vader | Echtgenoot | Leuvenaar | Advocaat arbe...</td>\n",
       "      <td>NaN</td>\n",
       "      <td>False</td>\n",
       "      <td>RT @NVALeuven: Unacceptable! 😡😡😡\\n \\n Speedy r...</td>\n",
       "      <td>14</td>\n",
       "      <td>0</td>\n",
       "      <td>9</td>\n",
       "      <td>2020</td>\n",
       "      <td>NaN</td>\n",
       "      <td>NaN</td>\n",
       "      <td>NaN</td>\n",
       "      <td>NaN</td>\n",
       "      <td>NaN</td>\n",
       "      <td>False</td>\n",
       "    </tr>\n",
       "    <tr>\n",
       "      <th>1</th>\n",
       "      <td>Coronabonus voor leiding Zaans Medisch Centrum...</td>\n",
       "      <td>Sat Aug 08 13:55:42 +0000 2020</td>\n",
       "      <td>rightsofearth</td>\n",
       "      <td>Agent provocateur. Stelt rare dingen #stemrech...</td>\n",
       "      <td>Amsterdam Zuidoost</td>\n",
       "      <td>False</td>\n",
       "      <td>Corona Bonus for leadership Zaans Medical Cent...</td>\n",
       "      <td>8</td>\n",
       "      <td>5</td>\n",
       "      <td>8</td>\n",
       "      <td>2020</td>\n",
       "      <td>Amsterdam-Zuidoost, Golfbaanpad, Holendrecht, ...</td>\n",
       "      <td>(52.2835706, 4.9524489, 0.0)</td>\n",
       "      <td>52.28357</td>\n",
       "      <td>4.952449</td>\n",
       "      <td>0.0</td>\n",
       "      <td>Noord-Holland</td>\n",
       "    </tr>\n",
       "    <tr>\n",
       "      <th>2</th>\n",
       "      <td>Dubbele verantwoordelijkheid dus voor werkgeve...</td>\n",
       "      <td>Wed Sep 16 09:06:56 +0000 2020</td>\n",
       "      <td>wisbin</td>\n",
       "      <td>𝔻𝕠𝕔𝕖𝕟𝕥 𝕧𝕠/𝕊𝕠𝕔𝕚𝕠𝕝𝕠𝕠𝕘/𝔸𝕟𝕥𝕚𝕥𝕙𝕖ï𝕤𝕥/𝔻𝕒𝕥𝕒 ℝ𝕒𝕡𝕡𝕖𝕣/ℙ𝕚𝕩...</td>\n",
       "      <td>Schiedam, Nederland</td>\n",
       "      <td>False</td>\n",
       "      <td>Double responsibility So for employers in educ...</td>\n",
       "      <td>16</td>\n",
       "      <td>2</td>\n",
       "      <td>9</td>\n",
       "      <td>2020</td>\n",
       "      <td>Schiedam, Zuid-Holland, Nederland</td>\n",
       "      <td>(51.9300454, 4.386451052615731, 0.0)</td>\n",
       "      <td>51.93005</td>\n",
       "      <td>4.386451</td>\n",
       "      <td>0.0</td>\n",
       "      <td>Zuid-Holland</td>\n",
       "    </tr>\n",
       "    <tr>\n",
       "      <th>3</th>\n",
       "      <td>RT @Elsdijkstra95: Nee tatuurlijk niet he. Waa...</td>\n",
       "      <td>Wed Aug 19 15:27:21 +0000 2020</td>\n",
       "      <td>lorelei3112</td>\n",
       "      <td>Hannelore Bruijn Manus-je-van-alles in apothee...</td>\n",
       "      <td>Streefkerk</td>\n",
       "      <td>False</td>\n",
       "      <td>RT @ Elsdijkstra95 No tatuurlijk not he. Why w...</td>\n",
       "      <td>19</td>\n",
       "      <td>2</td>\n",
       "      <td>8</td>\n",
       "      <td>2020</td>\n",
       "      <td>Streefkerk, Molenlanden, Zuid-Holland, Nederland</td>\n",
       "      <td>(51.902614650000004, 4.775125690329026, 0.0)</td>\n",
       "      <td>51.90261</td>\n",
       "      <td>4.775126</td>\n",
       "      <td>0.0</td>\n",
       "      <td>Zuid-Holland</td>\n",
       "    </tr>\n",
       "    <tr>\n",
       "      <th>4</th>\n",
       "      <td>RT @mikercarpenter: News that got completely b...</td>\n",
       "      <td>Wed May 13 14:49:54 +0000 2020</td>\n",
       "      <td>mvanderKist</td>\n",
       "      <td>Jurist, oud-advocaat, kinderrechten, (jeugd)st...</td>\n",
       "      <td>Apeldoorn e.o. Netherlands</td>\n",
       "      <td>False</td>\n",
       "      <td>RT @mikercarpenter: News that got completely b...</td>\n",
       "      <td>13</td>\n",
       "      <td>2</td>\n",
       "      <td>5</td>\n",
       "      <td>2020</td>\n",
       "      <td>Apeldoorn, Gelderland, Nederland</td>\n",
       "      <td>(52.2156457, 5.9639485, 0.0)</td>\n",
       "      <td>52.21565</td>\n",
       "      <td>5.963949</td>\n",
       "      <td>0.0</td>\n",
       "      <td>Gelderland</td>\n",
       "    </tr>\n",
       "  </tbody>\n",
       "</table>\n",
       "</div>"
      ],
      "text/plain": [
       "                                           full_text  ...       Province\n",
       "0  RT @NVALeuven: Onaanvaardbaar! 😡😡😡\\n \\n Spoedi...  ...          False\n",
       "1  Coronabonus voor leiding Zaans Medisch Centrum...  ...  Noord-Holland\n",
       "2  Dubbele verantwoordelijkheid dus voor werkgeve...  ...   Zuid-Holland\n",
       "3  RT @Elsdijkstra95: Nee tatuurlijk niet he. Waa...  ...   Zuid-Holland\n",
       "4  RT @mikercarpenter: News that got completely b...  ...     Gelderland\n",
       "\n",
       "[5 rows x 17 columns]"
      ]
     },
     "execution_count": 30,
     "metadata": {
      "tags": []
     },
     "output_type": "execute_result"
    }
   ],
   "source": [
    "dutch_tweets.head()"
   ]
  },
  {
   "cell_type": "code",
   "execution_count": null,
   "metadata": {
    "colab": {
     "base_uri": "https://localhost:8080/",
     "height": 34
    },
    "id": "K7G0jDGMZOyd",
    "outputId": "a1fd2ed7-9018-45c5-9b5d-2fe3d2ac83bb"
   },
   "outputs": [
    {
     "data": {
      "text/plain": [
       "(167, 18)"
      ]
     },
     "execution_count": 13,
     "metadata": {
      "tags": []
     },
     "output_type": "execute_result"
    }
   ],
   "source": [
    "dutch_tweets_ind = dutch_tweets[dutch_tweets['Industry'] == True].reset_index(drop=True)\n",
    "dutch_tweets_ind.shape"
   ]
  },
  {
   "cell_type": "code",
   "execution_count": null,
   "metadata": {
    "colab": {
     "base_uri": "https://localhost:8080/",
     "height": 496
    },
    "id": "rj__Ql0GZWA2",
    "outputId": "34a023bb-6b25-4e92-9c29-b8511af7e52f"
   },
   "outputs": [
    {
     "data": {
      "text/html": [
       "<div>\n",
       "<style scoped>\n",
       "    .dataframe tbody tr th:only-of-type {\n",
       "        vertical-align: middle;\n",
       "    }\n",
       "\n",
       "    .dataframe tbody tr th {\n",
       "        vertical-align: top;\n",
       "    }\n",
       "\n",
       "    .dataframe thead th {\n",
       "        text-align: right;\n",
       "    }\n",
       "</style>\n",
       "<table border=\"1\" class=\"dataframe\">\n",
       "  <thead>\n",
       "    <tr style=\"text-align: right;\">\n",
       "      <th></th>\n",
       "      <th>full_text</th>\n",
       "      <th>created_at</th>\n",
       "      <th>screen_name</th>\n",
       "      <th>description</th>\n",
       "      <th>location</th>\n",
       "      <th>Industry</th>\n",
       "      <th>text Translation</th>\n",
       "      <th>Day</th>\n",
       "      <th>Weekday</th>\n",
       "      <th>Month</th>\n",
       "      <th>Year</th>\n",
       "      <th>point_info</th>\n",
       "      <th>point</th>\n",
       "      <th>latitude</th>\n",
       "      <th>longitude</th>\n",
       "      <th>altitude</th>\n",
       "      <th>Province</th>\n",
       "      <th>match_hisco</th>\n",
       "    </tr>\n",
       "  </thead>\n",
       "  <tbody>\n",
       "    <tr>\n",
       "      <th>0</th>\n",
       "      <td>Nederland gaat verder open. Coronavirus heeft ...</td>\n",
       "      <td>Tue Jun 23 07:47:54 +0000 2020</td>\n",
       "      <td>KienhuisHoving1</td>\n",
       "      <td>Advocaten en notarissen, alle rechtsgebieden, ...</td>\n",
       "      <td>Enschede</td>\n",
       "      <td>True</td>\n",
       "      <td>Netherlands goes further. Coronavirus has repe...</td>\n",
       "      <td>23</td>\n",
       "      <td>1</td>\n",
       "      <td>6</td>\n",
       "      <td>2020</td>\n",
       "      <td>Enschede, Overijssel, Nederland</td>\n",
       "      <td>(52.22336325, 6.870595664097989, 0.0)</td>\n",
       "      <td>52.22336</td>\n",
       "      <td>6.870596</td>\n",
       "      <td>0.0</td>\n",
       "      <td>Overijssel</td>\n",
       "      <td>[21110, 12110, 99900]</td>\n",
       "    </tr>\n",
       "    <tr>\n",
       "      <th>1</th>\n",
       "      <td>Onbegrijpelijk dat de EU de regels voor het te...</td>\n",
       "      <td>Mon Jun 29 09:39:40 +0000 2020</td>\n",
       "      <td>vandesanden2</td>\n",
       "      <td>Advocaat bestuurs- en privacyrecht</td>\n",
       "      <td>s-Hertogenbosch, Nederland</td>\n",
       "      <td>True</td>\n",
       "      <td>Incomprehensible that the EU will facilitate t...</td>\n",
       "      <td>29</td>\n",
       "      <td>0</td>\n",
       "      <td>6</td>\n",
       "      <td>2020</td>\n",
       "      <td>s-Hertogenbosch, Noord-Brabant, Nederland</td>\n",
       "      <td>(51.709969799999996, 5.2919161394510414, 0.0)</td>\n",
       "      <td>51.70997</td>\n",
       "      <td>5.291916</td>\n",
       "      <td>0.0</td>\n",
       "      <td>Noord-Brabant</td>\n",
       "      <td>[12110]</td>\n",
       "    </tr>\n",
       "    <tr>\n",
       "      <th>2</th>\n",
       "      <td>RT @lindeklerk: De gevolgen van de maatregelen...</td>\n",
       "      <td>Wed Jun 24 09:24:37 +0000 2020</td>\n",
       "      <td>jacqpostma</td>\n",
       "      <td>https://t.co/Sc4M9ShB6t… voor gratis info en h...</td>\n",
       "      <td>NaN</td>\n",
       "      <td>True</td>\n",
       "      <td>RT @lindeklerk: The impact of the measures aga...</td>\n",
       "      <td>24</td>\n",
       "      <td>2</td>\n",
       "      <td>6</td>\n",
       "      <td>2020</td>\n",
       "      <td>NaN</td>\n",
       "      <td>NaN</td>\n",
       "      <td>NaN</td>\n",
       "      <td>NaN</td>\n",
       "      <td>NaN</td>\n",
       "      <td>False</td>\n",
       "      <td>[30000, 30000]</td>\n",
       "    </tr>\n",
       "    <tr>\n",
       "      <th>3</th>\n",
       "      <td>Een staatssecretaris voor Corona. https://t.co...</td>\n",
       "      <td>Thu Jul 16 08:01:02 +0000 2020</td>\n",
       "      <td>_jona_s_</td>\n",
       "      <td>leraar &amp; zagevent</td>\n",
       "      <td>BE 2060</td>\n",
       "      <td>True</td>\n",
       "      <td>A Secretary for Corona. https://t.co/MACgu9RciK</td>\n",
       "      <td>16</td>\n",
       "      <td>3</td>\n",
       "      <td>7</td>\n",
       "      <td>2020</td>\n",
       "      <td>Antwerpen, Vlaanderen, 2060, België - Belgique...</td>\n",
       "      <td>(51.2314865, 4.4158124, 0.0)</td>\n",
       "      <td>51.23149</td>\n",
       "      <td>4.415812</td>\n",
       "      <td>0.0</td>\n",
       "      <td>False</td>\n",
       "      <td>[31090]</td>\n",
       "    </tr>\n",
       "    <tr>\n",
       "      <th>4</th>\n",
       "      <td>Meerderheid mensen met positieve coronatest we...</td>\n",
       "      <td>Fri Jun 19 19:00:01 +0000 2020</td>\n",
       "      <td>AmstelMedical</td>\n",
       "      <td>Amstel Medical is een groothandel in medische ...</td>\n",
       "      <td>Amstelveen</td>\n",
       "      <td>True</td>\n",
       "      <td>Most people with positive corona test works in...</td>\n",
       "      <td>19</td>\n",
       "      <td>4</td>\n",
       "      <td>6</td>\n",
       "      <td>2020</td>\n",
       "      <td>Amstelveen, Noord-Holland, Nederland</td>\n",
       "      <td>(52.2862177, 4.852649259746028, 0.0)</td>\n",
       "      <td>52.28622</td>\n",
       "      <td>4.852649</td>\n",
       "      <td>0.0</td>\n",
       "      <td>Noord-Holland</td>\n",
       "      <td>[6105]</td>\n",
       "    </tr>\n",
       "  </tbody>\n",
       "</table>\n",
       "</div>"
      ],
      "text/plain": [
       "                                           full_text  ...            match_hisco\n",
       "0  Nederland gaat verder open. Coronavirus heeft ...  ...  [21110, 12110, 99900]\n",
       "1  Onbegrijpelijk dat de EU de regels voor het te...  ...                [12110]\n",
       "2  RT @lindeklerk: De gevolgen van de maatregelen...  ...         [30000, 30000]\n",
       "3  Een staatssecretaris voor Corona. https://t.co...  ...                [31090]\n",
       "4  Meerderheid mensen met positieve coronatest we...  ...                 [6105]\n",
       "\n",
       "[5 rows x 18 columns]"
      ]
     },
     "execution_count": 14,
     "metadata": {
      "tags": []
     },
     "output_type": "execute_result"
    }
   ],
   "source": [
    "dutch_tweets_ind.head()"
   ]
  },
  {
   "cell_type": "code",
   "execution_count": null,
   "metadata": {
    "colab": {
     "base_uri": "https://localhost:8080/",
     "height": 54
    },
    "id": "qRDaoyqgZY2j",
    "outputId": "41d31bbc-ed15-4f69-82ac-2993c5bba0d4"
   },
   "outputs": [
    {
     "name": "stdout",
     "output_type": "stream",
     "text": [
      "[('Nederland', 'PROPN'), ('gaat', 'AUX'), ('verder', 'ADJ'), ('open', 'ADJ'), ('.', 'SYM'), ('Coronavirus', 'PROPN'), ('heeft', 'AUX'), ('weerslag', 'NOUN'), ('op', 'ADP'), ('samenleving', 'NOUN'), ('.', 'SYM'), ('Werknemersverzoeken', 'VERB'), ('tot', 'ADP'), ('aanpassing', 'NOUN'), ('vakanties', 'NOUN'), ('.', 'SYM'), ('Hoe', 'ADV'), ('gaat', 'AUX'), ('ondernemer', 'NOUN'), ('hiermee', 'ADV'), ('om', 'ADP'), ('?', 'SYM'), ('Column', 'ADJ'), ('@TomProfijt', 'NOUN'), ('in', 'ADP'), ('@DeOndernemer', 'PROPN'), ('over', 'ADP'), ('‘', 'PROPN'), ('goed', 'ADJ'), ('werknemerschap', 'NOUN'), ('’', 'PROPN'), ('\\n ', 'SPACE'), ('https://t.co/9Ua0er0ojA', 'SYM'), ('\\n ', 'SPACE'), ('#', 'NUM'), ('arbeidsrecht', 'NOUN'), ('#', 'PROPN'), ('vakantieplanning', 'NOUN'), ('#', 'PROPN'), ('advocaat', 'NOUN'), (')', 'SYM'), ('https://t.co/oThHb1LcNc', 'PROPN')]\n"
     ]
    }
   ],
   "source": [
    "text = dutch_tweets_ind['full_text'][0]\n",
    "doc = nlp(text)\n",
    "print([(w.text, w.pos_) for w in doc])"
   ]
  },
  {
   "cell_type": "code",
   "execution_count": null,
   "metadata": {
    "colab": {
     "base_uri": "https://localhost:8080/",
     "height": 34
    },
    "id": "m7qACUj2Znz2",
    "outputId": "2ab2ef9c-9e06-476f-dbc2-eba35b9aba7f"
   },
   "outputs": [
    {
     "name": "stdout",
     "output_type": "stream",
     "text": [
      "34257\n"
     ]
    }
   ],
   "source": [
    "hisco_list = list(set(list(hsnhisco['Standard'])))\n",
    "print(len(hisco_list))"
   ]
  },
  {
   "cell_type": "code",
   "execution_count": null,
   "metadata": {
    "id": "KapVBvKEv0_3"
   },
   "outputs": [],
   "source": [
    "hisco_list[:10]"
   ]
  },
  {
   "cell_type": "code",
   "execution_count": null,
   "metadata": {
    "id": "fIy2n9Dpv3kz"
   },
   "outputs": [],
   "source": [
    "dutch_tweets['hisco_standard'] = dutch_tweets['full_text'].apply(lambda tweet: [str(i) for i in hisco_list if i in tweet])\n",
    "dutch_tweets['hisco_code'] = dutch_tweets['full_text'].apply(lambda tweet: [str(hsnhisco_dict[i]) for i in hisco_list if i in tweet])"
   ]
  },
  {
   "cell_type": "code",
   "execution_count": null,
   "metadata": {
    "colab": {
     "base_uri": "https://localhost:8080/",
     "height": 547
    },
    "id": "oe-ccsJI79F-",
    "outputId": "fdb29767-ec29-4af0-a672-99bea02e3e3c"
   },
   "outputs": [
    {
     "data": {
      "text/html": [
       "<div>\n",
       "<style scoped>\n",
       "    .dataframe tbody tr th:only-of-type {\n",
       "        vertical-align: middle;\n",
       "    }\n",
       "\n",
       "    .dataframe tbody tr th {\n",
       "        vertical-align: top;\n",
       "    }\n",
       "\n",
       "    .dataframe thead th {\n",
       "        text-align: right;\n",
       "    }\n",
       "</style>\n",
       "<table border=\"1\" class=\"dataframe\">\n",
       "  <thead>\n",
       "    <tr style=\"text-align: right;\">\n",
       "      <th></th>\n",
       "      <th>full_text</th>\n",
       "      <th>created_at</th>\n",
       "      <th>screen_name</th>\n",
       "      <th>description</th>\n",
       "      <th>location</th>\n",
       "      <th>Industry</th>\n",
       "      <th>text Translation</th>\n",
       "      <th>Day</th>\n",
       "      <th>Weekday</th>\n",
       "      <th>Month</th>\n",
       "      <th>Year</th>\n",
       "      <th>point_info</th>\n",
       "      <th>point</th>\n",
       "      <th>latitude</th>\n",
       "      <th>longitude</th>\n",
       "      <th>altitude</th>\n",
       "      <th>Province</th>\n",
       "      <th>hisco_standard</th>\n",
       "      <th>hisco_code</th>\n",
       "    </tr>\n",
       "  </thead>\n",
       "  <tbody>\n",
       "    <tr>\n",
       "      <th>0</th>\n",
       "      <td>RT @NVALeuven: Onaanvaardbaar! 😡😡😡\\n \\n Spoedi...</td>\n",
       "      <td>Mon Sep 14 14:08:15 +0000 2020</td>\n",
       "      <td>karel_mortier</td>\n",
       "      <td>Vader | Echtgenoot | Leuvenaar | Advocaat arbe...</td>\n",
       "      <td>NaN</td>\n",
       "      <td>False</td>\n",
       "      <td>RT @NVALeuven: Unacceptable! 😡😡😡\\n \\n Speedy r...</td>\n",
       "      <td>14</td>\n",
       "      <td>0</td>\n",
       "      <td>9</td>\n",
       "      <td>2020</td>\n",
       "      <td>NaN</td>\n",
       "      <td>NaN</td>\n",
       "      <td>NaN</td>\n",
       "      <td>NaN</td>\n",
       "      <td>NaN</td>\n",
       "      <td>False</td>\n",
       "      <td>[agent]</td>\n",
       "      <td>[43200]</td>\n",
       "    </tr>\n",
       "    <tr>\n",
       "      <th>1</th>\n",
       "      <td>Coronabonus voor leiding Zaans Medisch Centrum...</td>\n",
       "      <td>Sat Aug 08 13:55:42 +0000 2020</td>\n",
       "      <td>rightsofearth</td>\n",
       "      <td>Agent provocateur. Stelt rare dingen #stemrech...</td>\n",
       "      <td>Amsterdam Zuidoost</td>\n",
       "      <td>False</td>\n",
       "      <td>Corona Bonus for leadership Zaans Medical Cent...</td>\n",
       "      <td>8</td>\n",
       "      <td>5</td>\n",
       "      <td>8</td>\n",
       "      <td>2020</td>\n",
       "      <td>Amsterdam-Zuidoost, Golfbaanpad, Holendrecht, ...</td>\n",
       "      <td>(52.2835706, 4.9524489, 0.0)</td>\n",
       "      <td>52.28357</td>\n",
       "      <td>4.952449</td>\n",
       "      <td>0.0</td>\n",
       "      <td>Noord-Holland</td>\n",
       "      <td>[]</td>\n",
       "      <td>[]</td>\n",
       "    </tr>\n",
       "    <tr>\n",
       "      <th>2</th>\n",
       "      <td>Dubbele verantwoordelijkheid dus voor werkgeve...</td>\n",
       "      <td>Wed Sep 16 09:06:56 +0000 2020</td>\n",
       "      <td>wisbin</td>\n",
       "      <td>𝔻𝕠𝕔𝕖𝕟𝕥 𝕧𝕠/𝕊𝕠𝕔𝕚𝕠𝕝𝕠𝕠𝕘/𝔸𝕟𝕥𝕚𝕥𝕙𝕖ï𝕤𝕥/𝔻𝕒𝕥𝕒 ℝ𝕒𝕡𝕡𝕖𝕣/ℙ𝕚𝕩...</td>\n",
       "      <td>Schiedam, Nederland</td>\n",
       "      <td>False</td>\n",
       "      <td>Double responsibility So for employers in educ...</td>\n",
       "      <td>16</td>\n",
       "      <td>2</td>\n",
       "      <td>9</td>\n",
       "      <td>2020</td>\n",
       "      <td>Schiedam, Zuid-Holland, Nederland</td>\n",
       "      <td>(51.9300454, 4.386451052615731, 0.0)</td>\n",
       "      <td>51.93005</td>\n",
       "      <td>4.386451</td>\n",
       "      <td>0.0</td>\n",
       "      <td>Zuid-Holland</td>\n",
       "      <td>[docent]</td>\n",
       "      <td>[13000]</td>\n",
       "    </tr>\n",
       "    <tr>\n",
       "      <th>3</th>\n",
       "      <td>RT @Elsdijkstra95: Nee tatuurlijk niet he. Waa...</td>\n",
       "      <td>Wed Aug 19 15:27:21 +0000 2020</td>\n",
       "      <td>lorelei3112</td>\n",
       "      <td>Hannelore Bruijn Manus-je-van-alles in apothee...</td>\n",
       "      <td>Streefkerk</td>\n",
       "      <td>False</td>\n",
       "      <td>RT @ Elsdijkstra95 No tatuurlijk not he. Why w...</td>\n",
       "      <td>19</td>\n",
       "      <td>2</td>\n",
       "      <td>8</td>\n",
       "      <td>2020</td>\n",
       "      <td>Streefkerk, Molenlanden, Zuid-Holland, Nederland</td>\n",
       "      <td>(51.902614650000004, 4.775125690329026, 0.0)</td>\n",
       "      <td>51.90261</td>\n",
       "      <td>4.775126</td>\n",
       "      <td>0.0</td>\n",
       "      <td>Zuid-Holland</td>\n",
       "      <td>[]</td>\n",
       "      <td>[]</td>\n",
       "    </tr>\n",
       "    <tr>\n",
       "      <th>4</th>\n",
       "      <td>RT @mikercarpenter: News that got completely b...</td>\n",
       "      <td>Wed May 13 14:49:54 +0000 2020</td>\n",
       "      <td>mvanderKist</td>\n",
       "      <td>Jurist, oud-advocaat, kinderrechten, (jeugd)st...</td>\n",
       "      <td>Apeldoorn e.o. Netherlands</td>\n",
       "      <td>False</td>\n",
       "      <td>RT @mikercarpenter: News that got completely b...</td>\n",
       "      <td>13</td>\n",
       "      <td>2</td>\n",
       "      <td>5</td>\n",
       "      <td>2020</td>\n",
       "      <td>Apeldoorn, Gelderland, Nederland</td>\n",
       "      <td>(52.2156457, 5.9639485, 0.0)</td>\n",
       "      <td>52.21565</td>\n",
       "      <td>5.963949</td>\n",
       "      <td>0.0</td>\n",
       "      <td>Gelderland</td>\n",
       "      <td>[agent]</td>\n",
       "      <td>[43200]</td>\n",
       "    </tr>\n",
       "  </tbody>\n",
       "</table>\n",
       "</div>"
      ],
      "text/plain": [
       "                                           full_text  ... hisco_code\n",
       "0  RT @NVALeuven: Onaanvaardbaar! 😡😡😡\\n \\n Spoedi...  ...    [43200]\n",
       "1  Coronabonus voor leiding Zaans Medisch Centrum...  ...         []\n",
       "2  Dubbele verantwoordelijkheid dus voor werkgeve...  ...    [13000]\n",
       "3  RT @Elsdijkstra95: Nee tatuurlijk niet he. Waa...  ...         []\n",
       "4  RT @mikercarpenter: News that got completely b...  ...    [43200]\n",
       "\n",
       "[5 rows x 19 columns]"
      ]
     },
     "execution_count": 44,
     "metadata": {
      "tags": []
     },
     "output_type": "execute_result"
    }
   ],
   "source": [
    "dutch_tweets.head()"
   ]
  },
  {
   "cell_type": "code",
   "execution_count": null,
   "metadata": {
    "id": "OSX2cSH16bCM"
   },
   "outputs": [],
   "source": [
    "dutch_tweets['hisco_standard'] = dutch_tweets['hisco_standard'].apply(lambda text: str(text)[2:len(str(text))-2] ) \n",
    "dutch_tweets['hisco_code'] = dutch_tweets['hisco_code'].apply(lambda text: str(text)[2:len(str(text))-2] )"
   ]
  },
  {
   "cell_type": "code",
   "execution_count": null,
   "metadata": {
    "colab": {
     "base_uri": "https://localhost:8080/",
     "height": 547
    },
    "id": "rs14yzFL7IdD",
    "outputId": "e3f514e0-379a-4e7d-e589-20a68cfe13aa"
   },
   "outputs": [
    {
     "data": {
      "text/html": [
       "<div>\n",
       "<style scoped>\n",
       "    .dataframe tbody tr th:only-of-type {\n",
       "        vertical-align: middle;\n",
       "    }\n",
       "\n",
       "    .dataframe tbody tr th {\n",
       "        vertical-align: top;\n",
       "    }\n",
       "\n",
       "    .dataframe thead th {\n",
       "        text-align: right;\n",
       "    }\n",
       "</style>\n",
       "<table border=\"1\" class=\"dataframe\">\n",
       "  <thead>\n",
       "    <tr style=\"text-align: right;\">\n",
       "      <th></th>\n",
       "      <th>full_text</th>\n",
       "      <th>created_at</th>\n",
       "      <th>screen_name</th>\n",
       "      <th>description</th>\n",
       "      <th>location</th>\n",
       "      <th>Industry</th>\n",
       "      <th>text Translation</th>\n",
       "      <th>Day</th>\n",
       "      <th>Weekday</th>\n",
       "      <th>Month</th>\n",
       "      <th>Year</th>\n",
       "      <th>point_info</th>\n",
       "      <th>point</th>\n",
       "      <th>latitude</th>\n",
       "      <th>longitude</th>\n",
       "      <th>altitude</th>\n",
       "      <th>Province</th>\n",
       "      <th>hisco_standard</th>\n",
       "      <th>hisco_code</th>\n",
       "    </tr>\n",
       "  </thead>\n",
       "  <tbody>\n",
       "    <tr>\n",
       "      <th>0</th>\n",
       "      <td>RT @NVALeuven: Onaanvaardbaar! 😡😡😡\\n \\n Spoedi...</td>\n",
       "      <td>Mon Sep 14 14:08:15 +0000 2020</td>\n",
       "      <td>karel_mortier</td>\n",
       "      <td>Vader | Echtgenoot | Leuvenaar | Advocaat arbe...</td>\n",
       "      <td>NaN</td>\n",
       "      <td>False</td>\n",
       "      <td>RT @NVALeuven: Unacceptable! 😡😡😡\\n \\n Speedy r...</td>\n",
       "      <td>14</td>\n",
       "      <td>0</td>\n",
       "      <td>9</td>\n",
       "      <td>2020</td>\n",
       "      <td>NaN</td>\n",
       "      <td>NaN</td>\n",
       "      <td>NaN</td>\n",
       "      <td>NaN</td>\n",
       "      <td>NaN</td>\n",
       "      <td>False</td>\n",
       "      <td>agent</td>\n",
       "      <td>43200</td>\n",
       "    </tr>\n",
       "    <tr>\n",
       "      <th>1</th>\n",
       "      <td>Coronabonus voor leiding Zaans Medisch Centrum...</td>\n",
       "      <td>Sat Aug 08 13:55:42 +0000 2020</td>\n",
       "      <td>rightsofearth</td>\n",
       "      <td>Agent provocateur. Stelt rare dingen #stemrech...</td>\n",
       "      <td>Amsterdam Zuidoost</td>\n",
       "      <td>False</td>\n",
       "      <td>Corona Bonus for leadership Zaans Medical Cent...</td>\n",
       "      <td>8</td>\n",
       "      <td>5</td>\n",
       "      <td>8</td>\n",
       "      <td>2020</td>\n",
       "      <td>Amsterdam-Zuidoost, Golfbaanpad, Holendrecht, ...</td>\n",
       "      <td>(52.2835706, 4.9524489, 0.0)</td>\n",
       "      <td>52.28357</td>\n",
       "      <td>4.952449</td>\n",
       "      <td>0.0</td>\n",
       "      <td>Noord-Holland</td>\n",
       "      <td></td>\n",
       "      <td></td>\n",
       "    </tr>\n",
       "    <tr>\n",
       "      <th>2</th>\n",
       "      <td>Dubbele verantwoordelijkheid dus voor werkgeve...</td>\n",
       "      <td>Wed Sep 16 09:06:56 +0000 2020</td>\n",
       "      <td>wisbin</td>\n",
       "      <td>𝔻𝕠𝕔𝕖𝕟𝕥 𝕧𝕠/𝕊𝕠𝕔𝕚𝕠𝕝𝕠𝕠𝕘/𝔸𝕟𝕥𝕚𝕥𝕙𝕖ï𝕤𝕥/𝔻𝕒𝕥𝕒 ℝ𝕒𝕡𝕡𝕖𝕣/ℙ𝕚𝕩...</td>\n",
       "      <td>Schiedam, Nederland</td>\n",
       "      <td>False</td>\n",
       "      <td>Double responsibility So for employers in educ...</td>\n",
       "      <td>16</td>\n",
       "      <td>2</td>\n",
       "      <td>9</td>\n",
       "      <td>2020</td>\n",
       "      <td>Schiedam, Zuid-Holland, Nederland</td>\n",
       "      <td>(51.9300454, 4.386451052615731, 0.0)</td>\n",
       "      <td>51.93005</td>\n",
       "      <td>4.386451</td>\n",
       "      <td>0.0</td>\n",
       "      <td>Zuid-Holland</td>\n",
       "      <td>docent</td>\n",
       "      <td>13000</td>\n",
       "    </tr>\n",
       "    <tr>\n",
       "      <th>3</th>\n",
       "      <td>RT @Elsdijkstra95: Nee tatuurlijk niet he. Waa...</td>\n",
       "      <td>Wed Aug 19 15:27:21 +0000 2020</td>\n",
       "      <td>lorelei3112</td>\n",
       "      <td>Hannelore Bruijn Manus-je-van-alles in apothee...</td>\n",
       "      <td>Streefkerk</td>\n",
       "      <td>False</td>\n",
       "      <td>RT @ Elsdijkstra95 No tatuurlijk not he. Why w...</td>\n",
       "      <td>19</td>\n",
       "      <td>2</td>\n",
       "      <td>8</td>\n",
       "      <td>2020</td>\n",
       "      <td>Streefkerk, Molenlanden, Zuid-Holland, Nederland</td>\n",
       "      <td>(51.902614650000004, 4.775125690329026, 0.0)</td>\n",
       "      <td>51.90261</td>\n",
       "      <td>4.775126</td>\n",
       "      <td>0.0</td>\n",
       "      <td>Zuid-Holland</td>\n",
       "      <td></td>\n",
       "      <td></td>\n",
       "    </tr>\n",
       "    <tr>\n",
       "      <th>4</th>\n",
       "      <td>RT @mikercarpenter: News that got completely b...</td>\n",
       "      <td>Wed May 13 14:49:54 +0000 2020</td>\n",
       "      <td>mvanderKist</td>\n",
       "      <td>Jurist, oud-advocaat, kinderrechten, (jeugd)st...</td>\n",
       "      <td>Apeldoorn e.o. Netherlands</td>\n",
       "      <td>False</td>\n",
       "      <td>RT @mikercarpenter: News that got completely b...</td>\n",
       "      <td>13</td>\n",
       "      <td>2</td>\n",
       "      <td>5</td>\n",
       "      <td>2020</td>\n",
       "      <td>Apeldoorn, Gelderland, Nederland</td>\n",
       "      <td>(52.2156457, 5.9639485, 0.0)</td>\n",
       "      <td>52.21565</td>\n",
       "      <td>5.963949</td>\n",
       "      <td>0.0</td>\n",
       "      <td>Gelderland</td>\n",
       "      <td>agent</td>\n",
       "      <td>43200</td>\n",
       "    </tr>\n",
       "  </tbody>\n",
       "</table>\n",
       "</div>"
      ],
      "text/plain": [
       "                                           full_text  ... hisco_code\n",
       "0  RT @NVALeuven: Onaanvaardbaar! 😡😡😡\\n \\n Spoedi...  ...      43200\n",
       "1  Coronabonus voor leiding Zaans Medisch Centrum...  ...           \n",
       "2  Dubbele verantwoordelijkheid dus voor werkgeve...  ...      13000\n",
       "3  RT @Elsdijkstra95: Nee tatuurlijk niet he. Waa...  ...           \n",
       "4  RT @mikercarpenter: News that got completely b...  ...      43200\n",
       "\n",
       "[5 rows x 19 columns]"
      ]
     },
     "execution_count": 46,
     "metadata": {
      "tags": []
     },
     "output_type": "execute_result"
    }
   ],
   "source": [
    "dutch_tweets.head()"
   ]
  },
  {
   "cell_type": "code",
   "execution_count": null,
   "metadata": {
    "id": "qcoqq3zO0pOg"
   },
   "outputs": [],
   "source": [
    "dutch_tweets.to_excel(\"Dutch tweets.xlsx\", index=False)"
   ]
  },
  {
   "cell_type": "code",
   "execution_count": null,
   "metadata": {
    "id": "nzzqrhrn4dPD"
   },
   "outputs": [],
   "source": [
    ""
   ]
  }
 ],
 "metadata": {
  "colab": {
   "collapsed_sections": [],
   "name": "Dutch_Update HISCO codes.ipynb",
   "provenance": []
  },
  "kernelspec": {
   "display_name": "Python 3",
   "name": "python3"
  }
 },
 "nbformat": 4,
 "nbformat_minor": 0
}
