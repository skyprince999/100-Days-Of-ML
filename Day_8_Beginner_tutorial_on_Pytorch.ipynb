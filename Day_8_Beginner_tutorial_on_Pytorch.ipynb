{
  "nbformat": 4,
  "nbformat_minor": 0,
  "metadata": {
    "colab": {
      "name": "Day 8# Beginner tutorial on Pytorch.ipynb",
      "provenance": [],
      "authorship_tag": "ABX9TyND3gWBsqAFmC+rQQ1P1k/I",
      "include_colab_link": true
    },
    "kernelspec": {
      "name": "python3",
      "display_name": "Python 3"
    }
  },
  "cells": [
    {
      "cell_type": "markdown",
      "metadata": {
        "id": "view-in-github",
        "colab_type": "text"
      },
      "source": [
        "<a href=\"https://colab.research.google.com/github/skyprince999/100-Days-Of-ML/blob/master/Day_8_Beginner_tutorial_on_Pytorch.ipynb\" target=\"_parent\"><img src=\"https://colab.research.google.com/assets/colab-badge.svg\" alt=\"Open In Colab\"/></a>"
      ]
    },
    {
      "cell_type": "markdown",
      "metadata": {
        "id": "LZYiKI_CTEZk",
        "colab_type": "text"
      },
      "source": [
        "Date: 30th Jan 2020\n",
        "\n",
        "This is the Pytorch tutorial by Jeremy. Original Source: \n",
        "\n",
        "\n",
        "https://pytorch.org/tutorials/beginner/nn_tutorial.html"
      ]
    },
    {
      "cell_type": "code",
      "metadata": {
        "id": "Mm33a75-R3GF",
        "colab_type": "code",
        "colab": {}
      },
      "source": [
        ""
      ],
      "execution_count": 0,
      "outputs": []
    }
  ]
}