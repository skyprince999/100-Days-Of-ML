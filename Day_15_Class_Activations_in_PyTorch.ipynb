{
  "nbformat": 4,
  "nbformat_minor": 0,
  "metadata": {
    "colab": {
      "name": "Day 15# Class Activations in PyTorch.ipynb",
      "provenance": [],
      "authorship_tag": "ABX9TyPkBJmZ4Hjc8O44U2IPmPaL",
      "include_colab_link": true
    },
    "kernelspec": {
      "name": "python3",
      "display_name": "Python 3"
    }
  },
  "cells": [
    {
      "cell_type": "markdown",
      "metadata": {
        "id": "view-in-github",
        "colab_type": "text"
      },
      "source": [
        "<a href=\"https://colab.research.google.com/github/skyprince999/100-Days-Of-ML/blob/master/Day_15_Class_Activations_in_PyTorch.ipynb\" target=\"_parent\"><img src=\"https://colab.research.google.com/assets/colab-badge.svg\" alt=\"Open In Colab\"/></a>"
      ]
    },
    {
      "cell_type": "markdown",
      "metadata": {
        "id": "-gUK0x_0R3nc",
        "colab_type": "text"
      },
      "source": [
        "Class Activation Mapping in PyTorch: [Link](https://snappishproductions.com/blog/2018/01/03/class-activation-mapping-in-pytorch.html.html)"
      ]
    },
    {
      "cell_type": "code",
      "metadata": {
        "id": "BtXfSTypRyu2",
        "colab_type": "code",
        "colab": {}
      },
      "source": [
        "%matplotlib inline\n",
        "\n",
        "from PIL import Image\n",
        "from matplotlib.pyplot import imshow\n",
        "from torchvision import models, transforms\n",
        "from torch.autograd import Variable\n",
        "from torch.nn import functional as F\n",
        "from torch import topk\n",
        "import numpy as np\n",
        "import skimage.transform"
      ],
      "execution_count": 0,
      "outputs": []
    },
    {
      "cell_type": "code",
      "metadata": {
        "id": "KUVmTjcySFdn",
        "colab_type": "code",
        "colab": {}
      },
      "source": [
        ""
      ],
      "execution_count": 0,
      "outputs": []
    }
  ]
}