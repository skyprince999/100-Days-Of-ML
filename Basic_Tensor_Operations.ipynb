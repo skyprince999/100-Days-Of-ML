{
  "nbformat": 4,
  "nbformat_minor": 0,
  "metadata": {
    "colab": {
      "name": "Basic Tensor Operations.ipynb",
      "provenance": [],
      "authorship_tag": "ABX9TyOWNyjVuj6c4BbIfG0AUAZq",
      "include_colab_link": true
    },
    "kernelspec": {
      "name": "python3",
      "display_name": "Python 3"
    }
  },
  "cells": [
    {
      "cell_type": "markdown",
      "metadata": {
        "id": "view-in-github",
        "colab_type": "text"
      },
      "source": [
        "<a href=\"https://colab.research.google.com/github/skyprince999/100-Days-Of-ML/blob/master/Basic_Tensor_Operations.ipynb\" target=\"_parent\"><img src=\"https://colab.research.google.com/assets/colab-badge.svg\" alt=\"Open In Colab\"/></a>"
      ]
    },
    {
      "cell_type": "code",
      "metadata": {
        "id": "2cvkT1IZ4okz",
        "colab_type": "code",
        "colab": {}
      },
      "source": [
        "from __future__ import print_function\n",
        "import torch"
      ],
      "execution_count": 0,
      "outputs": []
    },
    {
      "cell_type": "markdown",
      "metadata": {
        "id": "4SfSCbIZ4-wT",
        "colab_type": "text"
      },
      "source": [
        "Constructing an empty array. No initialization is done"
      ]
    },
    {
      "cell_type": "code",
      "metadata": {
        "id": "FuJvmV3h4ymX",
        "colab_type": "code",
        "colab": {
          "base_uri": "https://localhost:8080/",
          "height": 102
        },
        "outputId": "3eb94309-3a92-4c40-c137-5b53370fd98a"
      },
      "source": [
        "x = torch.empty(5, 3)\n",
        "print(x)"
      ],
      "execution_count": 2,
      "outputs": [
        {
          "output_type": "stream",
          "text": [
            "tensor([[1.3677e-35, 0.0000e+00, 0.0000e+00],\n",
            "        [0.0000e+00, 0.0000e+00, 0.0000e+00],\n",
            "        [0.0000e+00, 0.0000e+00, 2.8026e-45],\n",
            "        [0.0000e+00, 1.1210e-44, 0.0000e+00],\n",
            "        [1.4013e-45, 0.0000e+00, 0.0000e+00]])\n"
          ],
          "name": "stdout"
        }
      ]
    },
    {
      "cell_type": "code",
      "metadata": {
        "id": "j3_UW6-m44P4",
        "colab_type": "code",
        "colab": {
          "base_uri": "https://localhost:8080/",
          "height": 102
        },
        "outputId": "c53fed65-46d7-42e7-eab7-516287943f5d"
      },
      "source": [
        "x = torch.rand(5, 3)  # Random initialization\n",
        "print(x)"
      ],
      "execution_count": 3,
      "outputs": [
        {
          "output_type": "stream",
          "text": [
            "tensor([[0.2313, 0.7285, 0.4171],\n",
            "        [0.6919, 0.8314, 0.1862],\n",
            "        [0.7729, 0.3546, 0.8727],\n",
            "        [0.8100, 0.4022, 0.1510],\n",
            "        [0.0569, 0.3386, 0.2791]])\n"
          ],
          "name": "stdout"
        }
      ]
    },
    {
      "cell_type": "code",
      "metadata": {
        "id": "QUuEPBNW5GT2",
        "colab_type": "code",
        "colab": {
          "base_uri": "https://localhost:8080/",
          "height": 102
        },
        "outputId": "ddc0fe00-fcdd-47e9-e4de-03a55808db3d"
      },
      "source": [
        "x = torch.zeros(5, 3, dtype=torch.long)  # This is a matrix of dtype zeros\n",
        "print(x) "
      ],
      "execution_count": 4,
      "outputs": [
        {
          "output_type": "stream",
          "text": [
            "tensor([[0, 0, 0],\n",
            "        [0, 0, 0],\n",
            "        [0, 0, 0],\n",
            "        [0, 0, 0],\n",
            "        [0, 0, 0]])\n"
          ],
          "name": "stdout"
        }
      ]
    },
    {
      "cell_type": "code",
      "metadata": {
        "id": "34wpiwl45OKA",
        "colab_type": "code",
        "colab": {
          "base_uri": "https://localhost:8080/",
          "height": 34
        },
        "outputId": "185dbee5-98f0-4d02-e9ee-4c27851ce229"
      },
      "source": [
        "x = torch.tensor([5.5, 3]) # Constructing a tensor directly from data \n",
        "print(x)"
      ],
      "execution_count": 5,
      "outputs": [
        {
          "output_type": "stream",
          "text": [
            "tensor([5.5000, 3.0000])\n"
          ],
          "name": "stdout"
        }
      ]
    },
    {
      "cell_type": "code",
      "metadata": {
        "id": "2E_uFPIR5UHb",
        "colab_type": "code",
        "colab": {
          "base_uri": "https://localhost:8080/",
          "height": 187
        },
        "outputId": "7170c4c1-5f7f-4863-8370-69d0a753de45"
      },
      "source": [
        "x = x.new_ones(5, 3, dtype=torch.double)      # new_* methods take in sizes\n",
        "print(x)\n",
        "\n",
        "x = torch.randn_like(x, dtype=torch.float)    # override dtype!\n",
        "print(x)                                      # result has the same size"
      ],
      "execution_count": 6,
      "outputs": [
        {
          "output_type": "stream",
          "text": [
            "tensor([[1., 1., 1.],\n",
            "        [1., 1., 1.],\n",
            "        [1., 1., 1.],\n",
            "        [1., 1., 1.],\n",
            "        [1., 1., 1.]], dtype=torch.float64)\n",
            "tensor([[-1.2184,  1.2444, -0.2724],\n",
            "        [ 0.9645, -0.8544,  0.9612],\n",
            "        [-1.3630,  1.5570,  0.3942],\n",
            "        [ 0.3678,  0.2142,  0.0065],\n",
            "        [ 0.2083,  0.5133, -0.1978]])\n"
          ],
          "name": "stdout"
        }
      ]
    },
    {
      "cell_type": "code",
      "metadata": {
        "id": "5C02U1nq5s5k",
        "colab_type": "code",
        "colab": {
          "base_uri": "https://localhost:8080/",
          "height": 34
        },
        "outputId": "cd9b211d-bb16-4d48-8695-5bbb3e1cab0e"
      },
      "source": [
        "print(x.size()) # get tensor size"
      ],
      "execution_count": 8,
      "outputs": [
        {
          "output_type": "stream",
          "text": [
            "torch.Size([5, 3])\n"
          ],
          "name": "stdout"
        }
      ]
    },
    {
      "cell_type": "code",
      "metadata": {
        "id": "0i8mEPkO5v4H",
        "colab_type": "code",
        "colab": {
          "base_uri": "https://localhost:8080/",
          "height": 102
        },
        "outputId": "cf055ff9-34d9-46d5-d167-a6886473a61b"
      },
      "source": [
        "y = torch.rand(5, 3)\n",
        "print(x + y)    # Numerical operation"
      ],
      "execution_count": 9,
      "outputs": [
        {
          "output_type": "stream",
          "text": [
            "tensor([[-0.4338,  1.7259, -0.2105],\n",
            "        [ 1.1960, -0.6099,  1.4848],\n",
            "        [-0.8325,  2.4481,  1.1175],\n",
            "        [ 0.5759,  1.0218,  0.1893],\n",
            "        [ 0.2696,  0.7099,  0.2724]])\n"
          ],
          "name": "stdout"
        }
      ]
    },
    {
      "cell_type": "code",
      "metadata": {
        "id": "ZLuUtsVSDAR-",
        "colab_type": "code",
        "colab": {
          "base_uri": "https://localhost:8080/",
          "height": 102
        },
        "outputId": "5ce25f93-4f18-4593-a4cf-d28677a29215"
      },
      "source": [
        "print(torch.add(x, y)) # similar operation"
      ],
      "execution_count": 10,
      "outputs": [
        {
          "output_type": "stream",
          "text": [
            "tensor([[-0.4338,  1.7259, -0.2105],\n",
            "        [ 1.1960, -0.6099,  1.4848],\n",
            "        [-0.8325,  2.4481,  1.1175],\n",
            "        [ 0.5759,  1.0218,  0.1893],\n",
            "        [ 0.2696,  0.7099,  0.2724]])\n"
          ],
          "name": "stdout"
        }
      ]
    },
    {
      "cell_type": "code",
      "metadata": {
        "id": "cTRyMcJZDD67",
        "colab_type": "code",
        "colab": {
          "base_uri": "https://localhost:8080/",
          "height": 102
        },
        "outputId": "49f63764-ab5d-4e0a-8361-8ce886fc6283"
      },
      "source": [
        "result = torch.empty(5, 3)   # you can provide an empty tensor as an argument\n",
        "torch.add(x, y, out=result)\n",
        "print(result)"
      ],
      "execution_count": 11,
      "outputs": [
        {
          "output_type": "stream",
          "text": [
            "tensor([[-0.4338,  1.7259, -0.2105],\n",
            "        [ 1.1960, -0.6099,  1.4848],\n",
            "        [-0.8325,  2.4481,  1.1175],\n",
            "        [ 0.5759,  1.0218,  0.1893],\n",
            "        [ 0.2696,  0.7099,  0.2724]])\n"
          ],
          "name": "stdout"
        }
      ]
    },
    {
      "cell_type": "code",
      "metadata": {
        "id": "cq9HNBhJDOwF",
        "colab_type": "code",
        "colab": {
          "base_uri": "https://localhost:8080/",
          "height": 102
        },
        "outputId": "6ef7e387-8f71-46c3-fd71-4076a394cc90"
      },
      "source": [
        "# adds x to y (in place)\n",
        "# Any operation that mutates a tensor in-place is post-fixed with an _. For example: x.copy_(y), x.t_(), will change x.\n",
        "y.add_(x)\n",
        "print(y)"
      ],
      "execution_count": 13,
      "outputs": [
        {
          "output_type": "stream",
          "text": [
            "tensor([[-1.6522,  2.9703, -0.4829],\n",
            "        [ 2.1605, -1.4642,  2.4460],\n",
            "        [-2.1954,  4.0052,  1.5117],\n",
            "        [ 0.9436,  1.2360,  0.1958],\n",
            "        [ 0.4780,  1.2232,  0.0746]])\n"
          ],
          "name": "stdout"
        }
      ]
    },
    {
      "cell_type": "code",
      "metadata": {
        "id": "FECY8wSsDSjE",
        "colab_type": "code",
        "colab": {}
      },
      "source": [
        ""
      ],
      "execution_count": 0,
      "outputs": []
    }
  ]
}