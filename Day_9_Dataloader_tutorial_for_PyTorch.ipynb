{
  "nbformat": 4,
  "nbformat_minor": 0,
  "metadata": {
    "colab": {
      "name": "Day 9# Dataloader tutorial for PyTorch.ipynb",
      "provenance": [],
      "authorship_tag": "ABX9TyOLJmQcGjFUCtJrZQX524C1",
      "include_colab_link": true
    },
    "kernelspec": {
      "name": "python3",
      "display_name": "Python 3"
    }
  },
  "cells": [
    {
      "cell_type": "markdown",
      "metadata": {
        "id": "view-in-github",
        "colab_type": "text"
      },
      "source": [
        "<a href=\"https://colab.research.google.com/github/skyprince999/100-Days-Of-ML/blob/master/Day_9_Dataloader_tutorial_for_PyTorch.ipynb\" target=\"_parent\"><img src=\"https://colab.research.google.com/assets/colab-badge.svg\" alt=\"Open In Colab\"/></a>"
      ]
    },
    {
      "cell_type": "markdown",
      "metadata": {
        "id": "B3SB_5DXTFyS",
        "colab_type": "text"
      },
      "source": [
        "Date: 1st Feb 2020 \n",
        "\n",
        "This is part of the pytorch tutorials \n",
        "\n",
        "It will walk you through the datasets, dataloader & transform classes in Pytorch\n",
        "\n",
        "Source: https://pytorch.org/tutorials/beginner/data_loading_tutorial.html"
      ]
    },
    {
      "cell_type": "code",
      "metadata": {
        "id": "Oc1kp61IS1ty",
        "colab_type": "code",
        "colab": {}
      },
      "source": [
        ""
      ],
      "execution_count": 0,
      "outputs": []
    }
  ]
}