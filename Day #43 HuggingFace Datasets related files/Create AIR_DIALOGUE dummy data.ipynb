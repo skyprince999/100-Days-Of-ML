{
 "cells": [
  {
   "cell_type": "code",
   "execution_count": 14,
   "metadata": {},
   "outputs": [],
   "source": [
    "import os\n",
    "import json\n",
    "\n",
    "import pandas as pd\n",
    "import numpy as np"
   ]
  },
  {
   "cell_type": "code",
   "execution_count": 33,
   "metadata": {},
   "outputs": [],
   "source": [
    "filepath = \"./airdialogue/airdialogue_data/airdialogue/\"\n",
    "dev = \"dev_data.json\"\n",
    "train = \"train_data.json\""
   ]
  },
  {
   "cell_type": "code",
   "execution_count": 34,
   "metadata": {},
   "outputs": [
    {
     "data": {
      "text/plain": [
       "['train_data.json', 'train_kb.json', 'dev_kb.json', 'dev_data.json']"
      ]
     },
     "execution_count": 34,
     "metadata": {},
     "output_type": "execute_result"
    }
   ],
   "source": [
    "os.listdir(filepath)"
   ]
  },
  {
   "cell_type": "code",
   "execution_count": 35,
   "metadata": {},
   "outputs": [],
   "source": [
    "filepath_d = \"./airdialogue/dummy_data/airdialogue_data/airdialogue/\""
   ]
  },
  {
   "cell_type": "code",
   "execution_count": 36,
   "metadata": {},
   "outputs": [],
   "source": [
    "counter =0\n",
    "with open(filepath + dev, encoding=\"utf-8\") as f:\n",
    "    with open(filepath_d+ dev, \"w+\") as f_d:\n",
    "        for id_, line in enumerate(f):\n",
    "            parsed = json.loads(line)\n",
    "            json.dump(parsed, f_d)\n",
    "            f_d.write(\"\\n\")\n",
    "            if id_ > 2:\n",
    "                break"
   ]
  },
  {
   "cell_type": "code",
   "execution_count": 37,
   "metadata": {},
   "outputs": [],
   "source": [
    "counter =0\n",
    "with open(filepath + train, encoding=\"utf-8\") as f:\n",
    "    with open(filepath_d+ train, \"w+\") as f_d:\n",
    "        for id_, line in enumerate(f):\n",
    "            parsed = json.loads(line)\n",
    "            json.dump(parsed, f_d)\n",
    "            f_d.write(\"\\n\")\n",
    "            if id_ > 4:\n",
    "                break\n"
   ]
  },
  {
   "cell_type": "code",
   "execution_count": 38,
   "metadata": {},
   "outputs": [
    {
     "name": "stdout",
     "output_type": "stream",
     "text": [
      "/home/ubuntu\r\n"
     ]
    }
   ],
   "source": [
    "!pwd"
   ]
  },
  {
   "cell_type": "code",
   "execution_count": 39,
   "metadata": {},
   "outputs": [
    {
     "name": "stdout",
     "output_type": "stream",
     "text": [
      "'AirDialogue Sample Run.ipynb'\t\t\t dev.jsonl\r\n",
      "'Convert column names.ipynb'\t\t\t dutch_tweets_bkup02\r\n",
      "'Create AirDialogue dummy data.ipynb'\t\t examples\r\n",
      "'Create DUTCH_SOCIAL Dummy Sample.ipynb'\t hugging\r\n",
      "'Create OHSUMED dummy_data.ipynb'\t\t moschitti\r\n",
      "'Creating a train_test_valid splits.ipynb'\t new_dataset_script.py\r\n",
      "'DutchTweets_Converting to excel format.ipynb'\t nltk_data\r\n",
      "'HF - Local Dataset (OHSUMED) .ipynb'\t\t nohup.out\r\n",
      "'HF - Local dataset (Dutch_social).ipynb'\t ohsumed-preprocessed\r\n",
      "'Hugging Face_ Quick Tutorial.ipynb'\t\t ohsumed.zip\r\n",
      "'Hugging Face_ Quick Tutorial_v2.ipynb'\t\t regularized-embeddings\r\n",
      "'HuggingFace Dataset Colab Notebook.ipynb'\t review\r\n",
      " LICENSE\t\t\t\t\t reviews\r\n",
      "'Load dutch_social datasets.ipynb'\t\t src\r\n",
      " Nvidia_Cloud_EULA.pdf\t\t\t\t t9.filtering.tar.gz\r\n",
      "'Processing all files.ipynb'\t\t\t temp\r\n",
      "'Processing sample file.ipynb'\t\t\t temp2\r\n",
      " README\t\t\t\t\t\t test.jsonl\r\n",
      "'Sample with pattern.ipynb'\t\t\t tools\r\n",
      " airdialogue\t\t\t\t\t train.jsonl\r\n",
      " anaconda3\t\t\t\t\t tutorials\r\n",
      " datasets\t\t\t\t\t'view?usp=sharing'\r\n"
     ]
    }
   ],
   "source": [
    "!ls"
   ]
  },
  {
   "cell_type": "markdown",
   "metadata": {},
   "source": [
    "### Creating dummy files for BuiderConfig: 'air_dialogue_kb'"
   ]
  },
  {
   "cell_type": "code",
   "execution_count": 40,
   "metadata": {},
   "outputs": [],
   "source": [
    "filepath = \"./airdialogue/airdialogue_data/airdialogue/\"\n",
    "dev = \"dev_kb.json\"\n",
    "train = \"train_kb.json\"\n",
    "\n",
    "filepath_d = \"./airdialogue/dummy_data/airdialogue_data/airdialogue/\""
   ]
  },
  {
   "cell_type": "code",
   "execution_count": 41,
   "metadata": {},
   "outputs": [],
   "source": [
    "counter =0\n",
    "with open(filepath + dev, encoding=\"utf-8\") as f:\n",
    "    with open(filepath_d+ dev, \"w+\") as f_d:\n",
    "        for id_, line in enumerate(f):\n",
    "            parsed = json.loads(line)\n",
    "            json.dump(parsed, f_d)\n",
    "            f_d.write(\"\\n\")\n",
    "            if id_ > 2:\n",
    "                break"
   ]
  },
  {
   "cell_type": "code",
   "execution_count": 42,
   "metadata": {},
   "outputs": [],
   "source": [
    "counter =0\n",
    "with open(filepath + train, encoding=\"utf-8\") as f:\n",
    "    with open(filepath_d+ train, \"w+\") as f_d:\n",
    "        for id_, line in enumerate(f):\n",
    "            parsed = json.loads(line)\n",
    "            json.dump(parsed, f_d)\n",
    "            f_d.write(\"\\n\")\n",
    "            if id_ > 4:\n",
    "                break\n"
   ]
  },
  {
   "cell_type": "code",
   "execution_count": 43,
   "metadata": {},
   "outputs": [
    {
     "data": {
      "text/plain": [
       "['train_data.json', 'train_kb.json', 'dev_kb.json', 'dev_data.json']"
      ]
     },
     "execution_count": 43,
     "metadata": {},
     "output_type": "execute_result"
    }
   ],
   "source": [
    "os.listdir(filepath_d)"
   ]
  },
  {
   "cell_type": "code",
   "execution_count": null,
   "metadata": {},
   "outputs": [],
   "source": []
  }
 ],
 "metadata": {
  "kernelspec": {
   "display_name": "Python 3",
   "language": "python",
   "name": "python3"
  },
  "language_info": {
   "codemirror_mode": {
    "name": "ipython",
    "version": 3
   },
   "file_extension": ".py",
   "mimetype": "text/x-python",
   "name": "python",
   "nbconvert_exporter": "python",
   "pygments_lexer": "ipython3",
   "version": "3.7.6"
  }
 },
 "nbformat": 4,
 "nbformat_minor": 4
}
