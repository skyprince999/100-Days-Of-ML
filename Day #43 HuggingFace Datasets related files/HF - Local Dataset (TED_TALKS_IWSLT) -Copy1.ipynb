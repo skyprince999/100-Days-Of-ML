{
 "cells": [
  {
   "cell_type": "code",
   "execution_count": 1,
   "metadata": {},
   "outputs": [],
   "source": [
    "import os\n",
    "import sys\n",
    "\n",
    "sys.path.append(\"./hugging/lib/python3.7/site-packages\")\n",
    "#sys.path.append(\"./datasets/lib/python3.7/site-packages\")"
   ]
  },
  {
   "cell_type": "code",
   "execution_count": 2,
   "metadata": {},
   "outputs": [],
   "source": [
    "from datasets import load_dataset"
   ]
  },
  {
   "cell_type": "code",
   "execution_count": 7,
   "metadata": {},
   "outputs": [],
   "source": [
    "# dataset = load_dataset('datasets/datasets/ted_talks_iwslt',  \"nl_hi\", data_dir = \"wit/XML_releases\")"
   ]
  },
  {
   "cell_type": "code",
   "execution_count": 11,
   "metadata": {},
   "outputs": [
    {
     "name": "stdout",
     "output_type": "stream",
     "text": [
      "('nl', 'hi')\n",
      "Downloading and preparing dataset ted_talks_iwslt/nl_hi_2016 (download: Unknown size, generated: Unknown size, post-processed: Unknown size, total: Unknown size) to /home/ubuntu/.cache/huggingface/datasets/ted_talks_iwslt/nl_hi_2016/1.1.0/d7009339d43840c28e78ff1399914576513d24ed8e093973d45d63e3e830e502...\n"
     ]
    },
    {
     "data": {
      "application/vnd.jupyter.widget-view+json": {
       "model_id": "7c8683cd86ca4a6bb59b05447774c76a",
       "version_major": 2,
       "version_minor": 0
      },
      "text/plain": [
       "HBox(children=(FloatProgress(value=1.0, bar_style='info', description='Downloading', max=1.0, style=ProgressSt…"
      ]
     },
     "metadata": {},
     "output_type": "display_data"
    },
    {
     "name": "stdout",
     "output_type": "stream",
     "text": [
      "\n"
     ]
    },
    {
     "data": {
      "application/vnd.jupyter.widget-view+json": {
       "model_id": "",
       "version_major": 2,
       "version_minor": 0
      },
      "text/plain": [
       "HBox(children=(FloatProgress(value=1.0, bar_style='info', max=1.0), HTML(value='')))"
      ]
     },
     "metadata": {},
     "output_type": "display_data"
    },
    {
     "name": "stdout",
     "output_type": "stream",
     "text": [
      "\r",
      "Dataset ted_talks_iwslt downloaded and prepared to /home/ubuntu/.cache/huggingface/datasets/ted_talks_iwslt/nl_hi_2016/1.1.0/d7009339d43840c28e78ff1399914576513d24ed8e093973d45d63e3e830e502. Subsequent calls will reuse this data.\n"
     ]
    }
   ],
   "source": [
    "dataset = load_dataset('datasets/datasets/ted_talks_iwslt',  \"nl_hi_2016\")"
   ]
  },
  {
   "cell_type": "code",
   "execution_count": 12,
   "metadata": {},
   "outputs": [
    {
     "data": {
      "text/plain": [
       "DatasetDict({\n",
       "    train: Dataset({\n",
       "        features: ['translation'],\n",
       "        num_rows: 496\n",
       "    })\n",
       "})"
      ]
     },
     "execution_count": 12,
     "metadata": {},
     "output_type": "execute_result"
    }
   ],
   "source": [
    "dataset"
   ]
  },
  {
   "cell_type": "code",
   "execution_count": 13,
   "metadata": {},
   "outputs": [
    {
     "data": {
      "text/plain": [
       "{'translation': {'hi': 'जब मार्च २०१४ में इबोला का प्रकोप छाया, पर्डिस सबेटी और उनकी टीम को वाइरस के जीनोम का अनुक्रमण करना था, सीखना था कि यह कैसे परवतिर्त होते हैं और फैलते हैं। सबेटी ने तुरंत ही अपने अनुसंधान को वेब में जारी किया, ताकि दुनिया भर के वाइरस ट्रैकर्स और वैज्ञानिक इस तत्काल लड़ाई में शामिल हो सकें। इस बातचीत में, वह दिखाती हैं कि सबका सहयोग ही कुंजी है वाइरस को रोकने के लिए--और लड़ने के लिए आगे आने वाले हमलों से। सबेटी ने कहा,\"हमने खुले तौर पर काम किया, साझा किया और साथ काम किया\"। \"हमे दुनिया को एक वाइरस के विनाश से नहीं, पर अरबों दिलों और दिमागों की एकता से परिभाषित करना है\"।',\n",
       "  'nl': 'Toen Ebola in maart 2014 uitbrak, zijn Pardis Sabeti en haar team aan het werk gegaan om het genoom in kaart te brengen. Zo ontdekten ze hoe het virus zich verspreidde en muteerde. Sabeti zette direct haar onderzoek op het internet, zodat wereldwijd virus-jagers en wetenschappers mee konden werken aan de strijd. In deze talk laat ze zien hoe die openheid geholpen heeft bij het stoppen van het virus en hoe het kan helpen bij de strijd tegen het volgende virus. \"We moesten transparant werken, delen en samenwerken\". Sabeti zegt:\"Laat de wereld niet ten onder gaan aan een virus, maar verlicht worden door miljoenen harten en geesten die samenwerken.\"'}}"
      ]
     },
     "execution_count": 13,
     "metadata": {},
     "output_type": "execute_result"
    }
   ],
   "source": [
    "dataset['train'][0]"
   ]
  },
  {
   "cell_type": "code",
   "execution_count": 42,
   "metadata": {},
   "outputs": [
    {
     "data": {
      "text/plain": [
       "{'translation': {'hi': 'Parul Sehgal: Irsha ki ek gaatha',\n",
       "  'nl': 'Parul Sehgal: Ode aan de nijd'}}"
      ]
     },
     "execution_count": 42,
     "metadata": {},
     "output_type": "execute_result"
    }
   ],
   "source": [
    "dataset['train'][1]"
   ]
  },
  {
   "cell_type": "code",
   "execution_count": 44,
   "metadata": {},
   "outputs": [
    {
     "data": {
      "text/plain": [
       "OrderedDict([('translation',\n",
       "              [{'hi': 'Jalan kya hai? Jalan kis cheez se badhti hai, aur hum andar hi andar jalan ko chaahte kyon hain? Koi bhi iska akelapaan, umar ya iska ajeeb sa maza nahi jaanch paaya hai. --  Sivaaye fiction mein. Yeh Parul Sehgal , kehti hai, Apne vakpatu andaaz mein woh literature ke pannon mein yeh dikhaati hai ki jalan aur gyaan ki khoj ek doosron se kuch zyaada alag nahi hain.',\n",
       "                'nl': \"Wat is jaloezie? Wat is haar drijfveer, en waarom zijn we er stiekem gek op? Geen enkel onderzoek heeft ooit een verklaring kunnen geven voor haar 'eenzaamheid, langdurigheid, of haar grimmigheid' -- behalve fictie, aldus Parul Sehgal. In een welbespraakte beschouwing speurt ze de literatuur af om te laten zien dat jaloezie niet heel anders is dan een zoektocht naar kennis.\"},\n",
       "               {'hi': 'Parul Sehgal: Irsha ki ek gaatha',\n",
       "                'nl': 'Parul Sehgal: Ode aan de nijd'},\n",
       "               {'hi': 'हम कैसे तय करते हैं कि हम कौन हैं? हेतान पटेल का यह विचित्र निष्पादन पहचान, भाषा और उच्चारण के साथ खेलता है -- और आपको बाहरी रूप से ज़्यादा गहराई में देखने की चुनौती देता है। अपने आप पर किया गया एक रमणीय ध्यान, अदाकार युयू रौ के साथ, ब्रूस ली द्वारा प्रेरित।',\n",
       "                'nl': 'Hoe beslissen we wie we zijn? In zijn verrassende optreden speelt Hetain Patel met identiteit, taal en accent - en daagt je uit om dieper na te denken dan op uiterlijke schijn af te gaan. Een heerlijke meditatie over eigenheid, met performer Yuyu Rau, en geïnspireerd door Bruce Lee.'},\n",
       "               {'hi': 'हेतान पटेल: मैं कौन हूँ? फिर से सोचिए।',\n",
       "                'nl': 'Hetain Patel: Wie ben ik? Denk nog eens na.'},\n",
       "               {'hi': 'लेबनान में वर्ष मे चलने वाली एक बंदूक की गोली अाम हिंसा के दृश्य का हिस्सा नहीं है: बेरूत इंटरनेशनल मैराथन की उद्घाटन ध्वनि। एक मार्मिक गुफ़्तगू में, मैराथन संस्थापक \"मे अल-खालिल\" बताती हैं क्यों उनका विश्वास है कि दशकों से राजनीति और धर्म के कारण विभाजित देश को, साल की एक 26.2 मील की दौड भी साथ ला सकती है।',\n",
       "                'nl': 'In Libanon klinkt ieder jaar één pistoolschot dat niets te maken heeft met het reguliere geweld. Het is het startschot voor de Beiroet International Marathon. In een ontroerend verhaal legt de oprichtster van de marathon, May El-Khalil, uit waarom zij ervan overtuigd is dat een hardloopevenement van 42,2 kilometer een land bijeen kan brengen dat al tientallen jaren verscheurd is door politiek en religie, ook al is het maar voor één dag per jaar.'},\n",
       "               {'hi': 'मे अल-खालिल: शांति: एक मैराथन',\n",
       "                'nl': 'May El-Khalil: De weg naar vrede is een marathon'},\n",
       "               {'hi': 'फार्मूला १ रेस  के दौरान, एक कार कई लाख डाटा बिन्दु गेराज को भेजती है, वास्तविक समय में विश्लेषण और प्रतिक्रिया के लिए. तो क्यों न इस विस्तृत और कठोर डाटा प्रणाली को कही और इस्तमाल करे, जैसे… एक बच्चो के हस्पताल में? पीटर वन मानन हमें बता रहे हैं.',\n",
       "                'nl': 'Tijdens een Formule 1-race zendt een auto miljoenen datapunten naar de garage voor analyse en feedback in realtime. Waarom zouden we dit gedetailleerde en rigoureuze datasysteem niet elders gebruiken, zoals ... in kinderziekenhuizen? Peter van Manen vertelt meer.'},\n",
       "               {'hi': 'पीटर वन मानन: फार्मूला १ रेसिंग कैसे मदद कर सकती है.... बच्चो की.',\n",
       "                'nl': \"Peter van Manen: Hoe kan Formule 1-racen ... baby's helpen?\"},\n",
       "               {'hi': 'डिजाइनर बस्तिआन शेफ़र भविष्य के विमानों के काल्पनिक डिजाईन दिखा रहे हैं. ऐसे कंकाल के साथ जो मजबूत, लचीली प्राकृतिक रूप से हो और दुनिया की बदती आबादी की ज़रूरतों के लिए हो. कल्पना करें एक ऐसे विमान की जो प्रकाश और जगह से भरपूर है - - और बना है उत्पादक भागों से एक 3 डी प्रिंटर में|',\n",
       "                'nl': 'Ontwerper Bastian Schaefer laat een speculatief ontwerp zien voor de toekomst van vliegtuigen, waarbij het skelet geïnspireerd is op sterke, flexibele, natuurlijke vormen en op de behoeften van de wereld, zoals de groeiende bevolking. Stel je een vliegtuig voor dat vol ruimte en licht is -- en dat is opgebouwd uit onderdelen gemaakt met een 3D-printer.'},\n",
       "               {'hi': 'बस्तिआन शेफ़र (Bastian Schaefer): बस्तिआन शेफ़र: एक 3डी मुद्रित जंबो जेट?',\n",
       "                'nl': 'Bastian Schaefer: Bastian Schaefer: Een 3D-geprint vliegtuig?'},\n",
       "               {'hi': 'चेर्नोबिल दुर्घटना के बाद एक छोटी बच्ची तानिया लूना अपना घर छोड़कर शरणार्थी के रूप में अमरीका जाती है. और एक दिन, जब उसे अपने शरणार्थी शिविर वाले घर में जमीन पर एक सिक्का पड़ा मिलता है तो उसे लगता है कि वह सबसे ज्यादा अमीर है. अपने बचपन की उन छोटी-छोटी खुशियों को याद करते हुए जिन्हें उन्होंने अब तक दिल में संजो कर रखा है.',\n",
       "                'nl': 'Na de Tsjernobylramp verliet Tania Luna als jong meisje Oekraïne en kreeg asiel in de VS. Op een dag vond ze een cent in de daklozenopvang waar ze met haar familie woonde. Ze heeft zich nooit meer zo rijk gevoeld. Een overdenking van de bitterzoete vreugden van haar jeugd -- en hoe ze in gedachten te houden.'},\n",
       "               {'hi': 'तानिया लूना: एक सिक्का पाकर मुझे करोड़पति होने का अहसास हुआ',\n",
       "                'nl': 'Tania Luna: Hoe een cent mij een miljonairsgevoel gaf'},\n",
       "               {'hi': 'जब एक गरीबी से लाचार देश के राष्ट्रपति का बेटा 7,000 डॉलर की मासिक आय पर भवन और कीमती गाडियाँ खरीदने लगता है, तो चरमियान गूच ये सुझा रही हैं कि इस तस्वीर में कहीं न कहीं भरष्टाचार शामिल है। इस चौंका देने वाली सनसनीखेज वार्ता में, (और कई स्पष्ट उदाहरों के साथ), वे विस्तारण करती हैं कि कैसे वैश्विक भ्रस्तचार का पीछा करने वाले पैसे का पीछा करते हुए कई जाने पहचाने चेहरो तक पहुँचते हैं।',\n",
       "                'nl': \"Wanneer de zoon van de president van een wanhopig armoedig land villa's en sportauto's begint te kopen met een officieel maandelijks salaris van 7.000 dollar, speelt corruptie waarschijnlijk een rol, stelt Charmian Gooch. In een zinderende, onthullende talk (en met behulp van verschillende specifieke voorbeelden) zet zij uiteen hoe wereldwijde corruptietrackers het geld volgen -- naar een paar verrassend bekende gezichten.\"},\n",
       "               {'hi': 'चरमियान गूच: वैश्विक भ्रष्टाचार के छिपे खिलाड़ियों से मुलाक़ात',\n",
       "                'nl': 'Charmian Gooch: De verborgen spelers achter wereldwijde corruptie'},\n",
       "               {'hi': 'फोटोग्राफर केमिली सीमैन 5 साल के लिए तूफानों का पीछा करते हुए आ रही है. इस प्रदर्शन में वह कोलाहल में आकाश के तेजस्वी, असली तस्वीरें दिखाती है.',\n",
       "                'nl': \"Fotografe Camille Seaman jaagt al 5 jaar stormen. In deze talk toont ze verbluffende, surrealistische foto's van de hemel in oproer.\"},\n",
       "               {'hi': 'कैमिल सीमेन: तूफान का पीछा करने वाले के तस्वीरें',\n",
       "                'nl': \"Camille Seaman: Foto's van een stormenjager\"},\n",
       "               {'hi': 'युवा कवि, शिक्षक और कार्यकर्ता मैल्कम लंदन उच्च विद्यालय के मोर्चे तर्ज पर जीवन के बारे में भावप्रवण कविता पाठ करते हैं. उन्होंने \"किशोरावस्था के महासागरों\" के बारे में कहते हैं जो स्कूल में आते हैं \"लेकिन, तैरना कभी नहीं सीखते\" की \"मर्दानगी का मजाक पिता के बिना पले पुरुषों द्वारा उड़ाया जाता है\". सुंदर, गेय, द्रुतशीतन.',\n",
       "                'nl': \"De jonge dichter, pedagoog en activist Malcolm London draagt zijn roerende gedicht voor over het leven aan de frontlinies van de highschool. Hij vertelt over de 'oceanen van adolescenten', die naar school gaan 'maar nooit leren zwemmen', van 'mannelijkheid die nagebootst wordt door mannen die opgroeiden zonder vader'. Prachtig, lyrisch en verontrustend.\"},\n",
       "               {'hi': 'मैल्कम लंदन: \"हाई स्कूल में ट्रेनिंग ग्राउंड\"',\n",
       "                'nl': 'Malcolm London: “High School Oefenterrein”'},\n",
       "               {'hi': '४० साल का अनुभव रखने वाली शिक्षिका रीटा पियरसन ने एक सह-कर्मी को कहते सुना, \"मुझे बच्चों को पसंद करने के पैसे नहीं मिलते।\" उनका जवाब था: \"बच्चे उनसे सीखती भी नहीं है जिन्हें वो पसंद नहीं करते।\" शिक्षकों को संबोधित करती वो कहती हैं कि अपने विद्यार्थियों पर भरोसा करे, और उनसे मानवीय स्तर पर, असली स्तर पर, और व्यक्तिगत स्तर पर रिश्ता कायम करे।',\n",
       "                'nl': 'Rita Pierson, al 40 jaar docente, hoorde ooit een collega zeggen: \"Ik word niet betaald om de kinderen aardig te vinden.\" Haar reactie: \"Kinderen leren niet van mensen die ze niet aardig vinden.\" Een bezielende oproep aan docenten om te geloven in hun leerlingen en verbindingen met hen aan te gaan op een menselijk, persoonlijk niveau.'},\n",
       "               {'hi': 'रीटा पियरसन: हर बच्चे को बढावा देने वाल चाहिये',\n",
       "                'nl': 'Rita Pierson: Elk kind heeft een kampioen nodig'},\n",
       "               {'hi': 'TED2013 में मंच पर, सुगत मित्रा अपने साहसिक टेड पुरस्कार की कामना करते हैं: मेरी मदद करो बादल में एक स्कूल बनाने में, भारत में एक सीखने की प्रयोगशाला, जहां बच्चे खोज सकते हैं और एक दूसरे से सीख सकते हैं --  संसाधनों का उपयोग और बादल से सलाह ले कर. अपने स्वयं संगठित सीखने के वातावरण (SOLE) के लिए प्रेरणादायक दूरदर्शिता को सुनिए, और tedprize.org में और अधिक जाने.',\n",
       "                'nl': 'Op het podium op TED2013 doet Sugata Mitra zijn gedurfde Prize-wens: help me een School in de Wolken ontwerpen, een leerlab in India waar kinderen op verkenning kunnen gaan en van elkaar kunnen leren, met middelen en mentoren in de wolk. Luister naar zijn inspirerende visie over Zelf-organiserende leeromgevingen (Self Organized Learning Environments , SOLE) en verneem meer op tedprize.org.'},\n",
       "               {'hi': 'सुगत मित्रा: बादल में एक स्कूल का निर्माण',\n",
       "                'nl': 'Sugata Mitra: Bouw een school in de wolken'},\n",
       "               {'hi': 'कल्पना कीजिए कि एक देश है जहां लड़कियों के स्कूल के लिए जाने को छिपाने के चाहिए.यदि पकड़ा वे मर चुके हैं. यह तालिबान के तहत अफगानिस्तान था, और है कि खतरे के निशान आज रहते हैं. 22 वर्षीय शबाना Basij Rasikh अफगानिस्तान में लड़कियों के लिए एक स्कूल चलाता है. वह एक परिवार अपनी बेटियों में विश्वास के निर्णय की शक्ति को मनाता है - और एक बहादुर पिता जो स्थानीय खतरों के लिए उठ खड़ा हुआ की कहानी बताता है. (TEDxWomen पर फिल्माया)',\n",
       "                'nl': 'Stel je een land voor waar meisjes naar school  moeten sluipen met dodelijke gevolgen als ze gepakt worden. Dit was Afghanistan onder de Taliban en sporen van dat gevaar bestaan nog steeds vandaag de dag. De 22-jarige Shabana Basij-Rasikh runt een school voor meisjes in Afghanistan. Ze looft de kracht van een familie om te geloven in hun dochters - en vertelt het verhaal van een dappere vader die daarvoor opkwam, tegen de lokale bedreigingen in. (Gefilmd op TEDxWomen)'},\n",
       "               {'hi': 'Basij Rasikh शबाना: अफगान लड़कियों को शिक्षित करने की हिम्मत कैसे हुई',\n",
       "                'nl': 'Shabana Basij-Rasikh: Durf Afghaanse meisjes opleiden'},\n",
       "               {'hi': 'दिमाग आधुनिक विपणन में हर जगह हैं: हेडलाइंस प्रचार करते हैं की पनीर सैंडविच निर्णय लेने के साथ मदद करता हैं, जबकि एक \"न्यूरो\" पेय  तनाव को कम करने का दावा करती है। न्यूरोसाइंटिस्ट मौली क्रोच्केत्त कहती हैं, यहाँ सिर्फ एक ही समस्या है: इन \"न्यूरो संवर्द्धन\" का लाभ वैज्ञानिक रूप से साबित नहीं हुआ है। इस सीधी बात में क्रोच्केत्त, न्यूरो -विज्ञानं के डेटा व्याख की सीमा बताती हैं, और क्यों हम सब को इस बारे में पता होना चाहिए.',\n",
       "                'nl': \"Hersenen zijn alomtegenwoordig in moderne marketing. Krantenkoppen verkondigen dat kaasboterhammen helpen bij besluitvorming, terwijl een 'neuro-drankje' beweert stress te verminderen. Er is slechts één probleem, zegt neurowetenschapper Molly Crockett: de voordelen van deze neuro-verbeteringen zijn niet wetenschappelijk bewezen. In deze spitse talk legt Crockett uit wat de beperkingen zijn van het interpreteren van neurowetenschappelijke gegevens en waarom we moeten opletten.\"}])])"
      ]
     },
     "execution_count": 44,
     "metadata": {},
     "output_type": "execute_result"
    }
   ],
   "source": [
    "dataset['train'][:25]"
   ]
  },
  {
   "cell_type": "code",
   "execution_count": null,
   "metadata": {},
   "outputs": [],
   "source": []
  }
 ],
 "metadata": {
  "kernelspec": {
   "display_name": "Environment (conda_pytorch_p36)",
   "language": "python",
   "name": "conda_pytorch_p36"
  },
  "language_info": {
   "codemirror_mode": {
    "name": "ipython",
    "version": 3
   },
   "file_extension": ".py",
   "mimetype": "text/x-python",
   "name": "python",
   "nbconvert_exporter": "python",
   "pygments_lexer": "ipython3",
   "version": "3.6.10"
  }
 },
 "nbformat": 4,
 "nbformat_minor": 4
}
