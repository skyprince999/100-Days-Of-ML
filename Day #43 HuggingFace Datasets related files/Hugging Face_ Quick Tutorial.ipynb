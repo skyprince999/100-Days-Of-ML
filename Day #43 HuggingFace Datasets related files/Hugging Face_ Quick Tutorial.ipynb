{
 "cells": [
  {
   "cell_type": "code",
   "execution_count": 1,
   "metadata": {},
   "outputs": [],
   "source": [
    "import os\n",
    "import sys\n",
    "\n",
    "sys.path.append(\"./hugging/lib/python3.7/site-packages\")"
   ]
  },
  {
   "cell_type": "code",
   "execution_count": 2,
   "metadata": {},
   "outputs": [],
   "source": [
    "from datasets import load_dataset"
   ]
  },
  {
   "cell_type": "code",
   "execution_count": 3,
   "metadata": {},
   "outputs": [
    {
     "name": "stderr",
     "output_type": "stream",
     "text": [
      "Reusing dataset squad (/home/ubuntu/.cache/huggingface/datasets/squad/plain_text/1.0.0/1244d044b266a5e4dbd4174d23cb995eead372fbca31a03edc3f8a132787af41)\n",
      "Neither PyTorch nor TensorFlow >= 2.0 have been found. Models won't be available and only tokenizers, configuration and file/data utilities can be used.\n"
     ]
    },
    {
     "name": "stdout",
     "output_type": "stream",
     "text": [
      "{'answers': {'answer_start': [515], 'text': ['Saint Bernadette Soubirous']}, 'context': 'Architecturally, the school has a Catholic character. Atop the Main Building\\'s gold dome is a golden statue of the Virgin Mary. Immediately in front of the Main Building and facing it, is a copper statue of Christ with arms upraised with the legend \"Venite Ad Me Omnes\". Next to the Main Building is the Basilica of the Sacred Heart. Immediately behind the basilica is the Grotto, a Marian place of prayer and reflection. It is a replica of the grotto at Lourdes, France where the Virgin Mary reputedly appeared to Saint Bernadette Soubirous in 1858. At the end of the main drive (and in a direct line that connects through 3 statues and the Gold Dome), is a simple, modern stone statue of Mary.', 'id': '5733be284776f41900661182', 'question': 'To whom did the Virgin Mary allegedly appear in 1858 in Lourdes France?', 'title': 'University_of_Notre_Dame'}\n"
     ]
    }
   ],
   "source": [
    "print(load_dataset('squad', split='train')[0])"
   ]
  },
  {
   "cell_type": "code",
   "execution_count": 4,
   "metadata": {},
   "outputs": [
    {
     "name": "stdout",
     "output_type": "stream",
     "text": [
      "Total number of datasets:  342\n",
      "##########################################\n",
      "aeslc\n",
      "afrikaans_ner_corpus\n",
      "ag_news\n",
      "ai2_arc\n",
      "ajgt_twitter_ar\n",
      "allegro_reviews\n",
      "allocine\n",
      "amazon_reviews_multi\n",
      "amazon_us_reviews\n",
      "amttl\n",
      "anli\n",
      "aqua_rat\n",
      "arcd\n",
      "arsentd_lev\n",
      "art\n",
      "aslg_pc12\n",
      "asnq\n",
      "asset\n",
      "autshumato\n",
      "big_patent\n",
      "billsum\n",
      "biomrc\n",
      "blended_skill_talk\n",
      "blimp\n",
      "blog_authorship_corpus\n",
      "bookcorpus\n",
      "bookcorpusopen\n",
      "boolq\n",
      "break_data\n",
      "bsd_ja_en\n",
      "c3\n",
      "c4\n",
      "cail2018\n",
      "cawac\n",
      "cdsc\n",
      "cdt\n",
      "cfq\n",
      "chr_en\n",
      "circa\n",
      "civil_comments\n",
      "clinc_oos\n",
      "clue\n",
      "cmrc2018\n",
      "cnn_dailymail\n",
      "coached_conv_pref\n",
      "coarse_discourse\n",
      "codah\n",
      "com_qa\n",
      "common_gen\n",
      "commonsense_qa\n",
      "compguesswhat\n",
      "conll2000\n",
      "conll2002\n",
      "conll2003\n",
      "conv_ai\n",
      "coqa\n",
      "cornell_movie_dialog\n",
      "cos_e\n",
      "cosmos_qa\n",
      "covid_qa_deepset\n",
      "crd3\n",
      "crime_and_punish\n",
      "crows_pairs\n",
      "cs_restaurants\n",
      "csv\n",
      "daily_dialog\n",
      "danish_political_comments\n",
      "dart\n",
      "dbpedia_14\n",
      "deal_or_no_dialog\n",
      "definite_pronoun_resolution\n",
      "dengue_filipino\n",
      "dialog_re\n",
      "discofuse\n",
      "docred\n",
      "doqa\n",
      "dream\n",
      "drop\n",
      "dyk\n",
      "e2e_nlg\n",
      "e2e_nlg_cleaned\n",
      "eli5\n",
      "emo\n",
      "emotion\n",
      "empathetic_dialogues\n",
      "eraser_multi_rc\n",
      "esnli\n",
      "eth_py150_open\n",
      "euronews\n",
      "event2Mind\n",
      "evidence_infer_treatment\n",
      "exams\n",
      "fake_news_filipino\n",
      "farsi_news\n",
      "fever\n",
      "finer\n",
      "flores\n",
      "flue\n",
      "fquad\n",
      "gap\n",
      "generated_reviews_enth\n",
      "german_legal_entity_recognition\n",
      "germaner\n",
      "germeval_14\n",
      "gigaword\n",
      "glucose\n",
      "glue\n",
      "go_emotions\n",
      "google_wellformed_query\n",
      "great_code\n",
      "guardian_authorship\n",
      "gutenberg_time\n",
      "hans\n",
      "hansards\n",
      "hard\n",
      "hate_speech_filipino\n",
      "health_fact\n",
      "hebrew_sentiment\n",
      "hellaswag\n",
      "hotpot_qa\n",
      "hyperpartisan_news_detection\n",
      "imdb\n",
      "imdb_urdu_reviews\n",
      "indic_glue\n",
      "inquisitive_qg\n",
      "isixhosa_ner_corpus\n",
      "isizulu_ner_corpus\n",
      "iwslt2017\n",
      "jeopardy\n",
      "jfleg\n",
      "json\n",
      "kelm\n",
      "kilt_tasks\n",
      "kilt_wikipedia\n",
      "kor_nli\n",
      "kor_nlu\n",
      "labr\n",
      "lambada\n",
      "lc_quad\n",
      "librispeech_lm\n",
      "lince\n",
      "linnaeus\n",
      "lm1b\n",
      "math_dataset\n",
      "math_qa\n",
      "matinf\n",
      "mc_taco\n",
      "med_hop\n",
      "medal\n",
      "metooma\n",
      "metrec\n",
      "mlqa\n",
      "mlsum\n",
      "mocha\n",
      "movie_rationales\n",
      "mrqa\n",
      "ms_marco\n",
      "ms_terms\n",
      "msra_ner\n",
      "multi_news\n",
      "multi_nli\n",
      "multi_nli_mismatch\n",
      "multi_woz_v22\n",
      "multi_x_science_sum\n",
      "mwsc\n",
      "myanmar_news\n",
      "natural_questions\n",
      "ncbi_disease\n",
      "nchlt\n",
      "ncslgr\n",
      "newsgroup\n",
      "newsph_nli\n",
      "newsroom\n",
      "nkjp-ner\n",
      "nli_tr\n",
      "norwegian_ner\n",
      "numer_sense\n",
      "openbookqa\n",
      "openwebtext\n",
      "opinosis\n",
      "opus_dogc\n",
      "opus_fiskmo\n",
      "opus_memat\n",
      "opus_montenegrinsubs\n",
      "opus_sardware\n",
      "opus_xhosanavy\n",
      "orange_sum\n",
      "pandas\n",
      "para_crawl\n",
      "paws-x\n",
      "pec\n",
      "peoples_daily_ner\n",
      "pg19\n",
      "piaf\n",
      "pib\n",
      "piqa\n",
      "polemo2\n",
      "polyglot_ner\n",
      "prachathai67k\n",
      "pragmeval\n",
      "proto_qa\n",
      "qa4mre\n",
      "qa_zre\n",
      "qangaroo\n",
      "qanta\n",
      "qasc\n",
      "qed\n",
      "quac\n",
      "quail\n",
      "quarel\n",
      "quartz\n",
      "quora\n",
      "quoref\n",
      "race\n",
      "re_dial\n",
      "reclor\n",
      "reddit\n",
      "reddit_tifu\n",
      "reuters21578\n",
      "roman_urdu\n",
      "ropes\n",
      "rotten_tomatoes\n",
      "sanskrit_classic\n",
      "scan\n",
      "scb_mt_enth_2020\n",
      "schema_guided_dstc8\n",
      "scicite\n",
      "scientific_papers\n",
      "scifact\n",
      "sciq\n",
      "scitail\n",
      "scitldr\n",
      "search_qa\n",
      "sem_eval_2010_task_8\n",
      "sem_eval_2014_task_1\n",
      "sentiment140\n",
      "sepedi_ner\n",
      "sesotho_ner_corpus\n",
      "setswana_ner_corpus\n",
      "sharc\n",
      "sharc_modified\n",
      "simple_questions_v2\n",
      "siswati_ner_corpus\n",
      "snli\n",
      "social_bias_frames\n",
      "social_i_qa\n",
      "sogou_news\n",
      "species_800\n",
      "squad\n",
      "squad_es\n",
      "squad_it\n",
      "squad_kor_v1\n",
      "squad_v1_pt\n",
      "squad_v2\n",
      "squadshifts\n",
      "stsb_mt_sv\n",
      "style_change_detection\n",
      "super_glue\n",
      "swag\n",
      "swedish_ner_corpus\n",
      "tamilmixsentiment\n",
      "tashkeela\n",
      "taskmaster1\n",
      "taskmaster2\n",
      "ted_hrlr\n",
      "ted_multi\n",
      "telugu_books\n",
      "telugu_news\n",
      "text\n",
      "thaisum\n",
      "tiny_shakespeare\n",
      "tlc\n",
      "totto\n",
      "trec\n",
      "trivia_qa\n",
      "tsac\n",
      "tunizi\n",
      "tuple_ie\n",
      "turku_ner_corpus\n",
      "tweets_ar_en_parallel\n",
      "tydiqa\n",
      "ubuntu_dialogs_corpus\n",
      "udhr\n",
      "um005\n",
      "universal_dependencies\n",
      "urdu_fake_news\n",
      "urdu_sentiment_corpus\n",
      "web_nlg\n",
      "web_of_science\n",
      "web_questions\n",
      "weibo_ner\n",
      "wiki40b\n",
      "wiki_auto\n",
      "wiki_bio\n",
      "wiki_dpr\n",
      "wiki_hop\n",
      "wiki_qa\n",
      "wiki_qa_ar\n",
      "wiki_snippets\n",
      "wiki_split\n",
      "wikiann\n",
      "wikihow\n",
      "wikipedia\n",
      "wikisql\n",
      "wikitext\n",
      "winogrande\n",
      "wiqa\n",
      "wisesight_sentiment\n",
      "wmt14\n",
      "wmt15\n",
      "wmt16\n",
      "wmt17\n",
      "wmt18\n",
      "wmt19\n",
      "wmt_t2t\n",
      "wnut_17\n",
      "wongnai_reviews\n",
      "woz_dialogue\n",
      "x_stance\n",
      "xcopa\n",
      "xglue\n",
      "xnli\n",
      "xor_tydi_qa\n",
      "xquad\n",
      "xquad_r\n",
      "xsum\n",
      "xtreme\n",
      "yahoo_answers_qa\n",
      "yahoo_answers_topics\n",
      "yelp_polarity\n",
      "zest\n",
      "Fraser/news-category-dataset\n",
      "cdminix/mgb1\n",
      "joelito/ler\n",
      "joelito/sem_eval_2010_task_8\n",
      "k-halid/ar\n",
      "lhoestq/squad\n",
      "mulcyber/europarl-mono\n",
      "piEsposito/br-quad-2.0\n",
      "piEsposito/br_quad_20\n",
      "piEsposito/squad_20_ptbr\n",
      "sshleifer/pseudo_bart_xsum\n"
     ]
    }
   ],
   "source": [
    "from datasets import list_datasets\n",
    "\n",
    "datasets_list = list_datasets()\n",
    "\n",
    "print(\"Total number of datasets: \",len(datasets_list))\n",
    "print(\"##########################################\")\n",
    "print('\\n'.join(dataset for dataset in datasets_list))"
   ]
  },
  {
   "cell_type": "code",
   "execution_count": 5,
   "metadata": {},
   "outputs": [
    {
     "name": "stderr",
     "output_type": "stream",
     "text": [
      "Reusing dataset glue (/home/ubuntu/.cache/huggingface/datasets/glue/mrpc/1.0.0/7c99657241149a24692c402a5c3f34d4c9f1df5ac2e4c3759fadea38f6cb29c4)\n"
     ]
    }
   ],
   "source": [
    "dataset = load_dataset('glue', 'mrpc', split='train')"
   ]
  },
  {
   "cell_type": "code",
   "execution_count": 6,
   "metadata": {},
   "outputs": [
    {
     "data": {
      "text/plain": [
       "3668"
      ]
     },
     "execution_count": 6,
     "metadata": {},
     "output_type": "execute_result"
    }
   ],
   "source": [
    "len(dataset)"
   ]
  },
  {
   "cell_type": "code",
   "execution_count": 7,
   "metadata": {},
   "outputs": [
    {
     "data": {
      "text/plain": [
       "{'idx': 0,\n",
       " 'label': 1,\n",
       " 'sentence1': 'Amrozi accused his brother , whom he called \" the witness \" , of deliberately distorting his evidence .',\n",
       " 'sentence2': 'Referring to him as only \" the witness \" , Amrozi accused his brother of deliberately distorting his evidence .'}"
      ]
     },
     "execution_count": 7,
     "metadata": {},
     "output_type": "execute_result"
    }
   ],
   "source": [
    "dataset[0]"
   ]
  },
  {
   "cell_type": "code",
   "execution_count": 8,
   "metadata": {},
   "outputs": [
    {
     "data": {
      "text/plain": [
       "{'sentence1': Value(dtype='string', id=None),\n",
       " 'sentence2': Value(dtype='string', id=None),\n",
       " 'label': ClassLabel(num_classes=2, names=['not_equivalent', 'equivalent'], names_file=None, id=None),\n",
       " 'idx': Value(dtype='int32', id=None)}"
      ]
     },
     "execution_count": 8,
     "metadata": {},
     "output_type": "execute_result"
    }
   ],
   "source": [
    "dataset.features"
   ]
  },
  {
   "cell_type": "code",
   "execution_count": 9,
   "metadata": {},
   "outputs": [
    {
     "data": {
      "application/vnd.jupyter.widget-view+json": {
       "model_id": "34e925c22e344b8cb9ff33b38d3962ff",
       "version_major": 2,
       "version_minor": 0
      },
      "text/plain": [
       "HBox(children=(FloatProgress(value=0.0, max=4.0), HTML(value='')))"
      ]
     },
     "metadata": {},
     "output_type": "display_data"
    },
    {
     "name": "stdout",
     "output_type": "stream",
     "text": [
      "\n"
     ]
    },
    {
     "data": {
      "text/plain": [
       "{'idx': 7,\n",
       " 'label': 1,\n",
       " 'sentence1': 'The DVD-CCA then appealed to the state Supreme Court .',\n",
       " 'sentence2': 'The DVD CCA appealed that decision to the U.S. Supreme Court .'}"
      ]
     },
     "execution_count": 9,
     "metadata": {},
     "output_type": "execute_result"
    }
   ],
   "source": [
    "dataset.filter(lambda example: example['label'] == dataset.features['label'].str2int('equivalent'))[4]"
   ]
  },
  {
   "cell_type": "code",
   "execution_count": 10,
   "metadata": {},
   "outputs": [
    {
     "data": {
      "application/vnd.jupyter.widget-view+json": {
       "model_id": "f4b57670980c4ab4bfa39217eac7e98a",
       "version_major": 2,
       "version_minor": 0
      },
      "text/plain": [
       "HBox(children=(FloatProgress(value=0.0, max=4.0), HTML(value='')))"
      ]
     },
     "metadata": {},
     "output_type": "display_data"
    },
    {
     "name": "stdout",
     "output_type": "stream",
     "text": [
      "\n"
     ]
    },
    {
     "data": {
      "text/plain": [
       "{'idx': [1, 3, 6, 8, 10],\n",
       " 'label': [0, 0, 0, 0, 0],\n",
       " 'sentence1': [\"Yucaipa owned Dominick 's before selling the chain to Safeway in 1998 for $ 2.5 billion .\",\n",
       "  'Around 0335 GMT , Tab shares were up 19 cents , or 4.4 % , at A $ 4.56 , having earlier set a record high of A $ 4.57 .',\n",
       "  'The Nasdaq had a weekly gain of 17.27 , or 1.2 percent , closing at 1,520.15 on Friday .',\n",
       "  'That compared with $ 35.18 million , or 24 cents per share , in the year-ago period .',\n",
       "  'Shares of Genentech , a much larger company with several products on the market , rose more than 2 percent .'],\n",
       " 'sentence2': [\"Yucaipa bought Dominick 's in 1995 for $ 693 million and sold it to Safeway for $ 1.8 billion in 1998 .\",\n",
       "  'Tab shares jumped 20 cents , or 4.6 % , to set a record closing high at A $ 4.57 .',\n",
       "  'The tech-laced Nasdaq Composite .IXIC rallied 30.46 points , or 2.04 percent , to 1,520.15 .',\n",
       "  'Earnings were affected by a non-recurring $ 8 million tax benefit in the year-ago period .',\n",
       "  'Shares of Xoma fell 16 percent in early trade , while shares of Genentech , a much larger company with several products on the market , were up 2 percent .']}"
      ]
     },
     "execution_count": 10,
     "metadata": {},
     "output_type": "execute_result"
    }
   ],
   "source": [
    "dataset.filter(lambda example: example['label'] == dataset.features['label'].str2int('not_equivalent'))[:5]"
   ]
  },
  {
   "cell_type": "code",
   "execution_count": 12,
   "metadata": {},
   "outputs": [
    {
     "ename": "NameError",
     "evalue": "name 'datasets' is not defined",
     "output_type": "error",
     "traceback": [
      "\u001b[0;31m---------------------------------------------------------------------------\u001b[0m",
      "\u001b[0;31mNameError\u001b[0m                                 Traceback (most recent call last)",
      "\u001b[0;32m<ipython-input-12-c63539541fff>\u001b[0m in \u001b[0;36m<module>\u001b[0;34m\u001b[0m\n\u001b[0;32m----> 1\u001b[0;31m \u001b[0mhelp\u001b[0m\u001b[0;34m(\u001b[0m\u001b[0mdatasets\u001b[0m\u001b[0;34m.\u001b[0m\u001b[0mValue\u001b[0m\u001b[0;34m)\u001b[0m\u001b[0;34m\u001b[0m\u001b[0;34m\u001b[0m\u001b[0m\n\u001b[0m",
      "\u001b[0;31mNameError\u001b[0m: name 'datasets' is not defined"
     ]
    }
   ],
   "source": [
    "help(datasets.Value)"
   ]
  },
  {
   "cell_type": "code",
   "execution_count": null,
   "metadata": {},
   "outputs": [],
   "source": []
  }
 ],
 "metadata": {
  "kernelspec": {
   "display_name": "Python 3",
   "language": "python",
   "name": "python3"
  },
  "language_info": {
   "codemirror_mode": {
    "name": "ipython",
    "version": 3
   },
   "file_extension": ".py",
   "mimetype": "text/x-python",
   "name": "python",
   "nbconvert_exporter": "python",
   "pygments_lexer": "ipython3",
   "version": "3.7.6"
  }
 },
 "nbformat": 4,
 "nbformat_minor": 4
}
