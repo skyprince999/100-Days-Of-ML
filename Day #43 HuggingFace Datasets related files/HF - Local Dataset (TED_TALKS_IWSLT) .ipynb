{
 "cells": [
  {
   "cell_type": "code",
   "execution_count": 1,
   "metadata": {},
   "outputs": [],
   "source": [
    "import os\n",
    "import sys\n",
    "\n",
    "sys.path.append(\"./hugging/lib/python3.7/site-packages\")\n",
    "#sys.path.append(\"./datasets/lib/python3.7/site-packages\")"
   ]
  },
  {
   "cell_type": "code",
   "execution_count": 2,
   "metadata": {},
   "outputs": [],
   "source": [
    "from datasets import load_dataset"
   ]
  },
  {
   "cell_type": "code",
   "execution_count": null,
   "metadata": {},
   "outputs": [],
   "source": [
    "# help(load_dataset)"
   ]
  },
  {
   "cell_type": "code",
   "execution_count": null,
   "metadata": {},
   "outputs": [],
   "source": [
    "dataset = load_dataset('datasets/datasets/ted_talks_iwslt',  \"szl_rup\",data_dir= \"wit/XML_releases\")"
   ]
  },
  {
   "cell_type": "code",
   "execution_count": null,
   "metadata": {},
   "outputs": [],
   "source": [
    "dataset"
   ]
  },
  {
   "cell_type": "markdown",
   "metadata": {},
   "source": [
    "### Loading dataset for the new version (which is inspired from the Amazon Multi-language review dataset"
   ]
  },
  {
   "cell_type": "code",
   "execution_count": 21,
   "metadata": {},
   "outputs": [],
   "source": [
    "_LANGUAGES = (\n",
    "    \"mr\",\n",
    "    \"eu\",\n",
    "    \"hr\",\n",
    "    \"rup\",\n",
    "    \"szl\",\n",
    "    \"lo\",\n",
    "    \"ms\",\n",
    "    \"ht\",\n",
    "    \"hy\",\n",
    "    \"mg\",\n",
    "    \"arq\",\n",
    "    \"uk\",\n",
    "    \"ku\",\n",
    "    \"ig\",\n",
    "    \"sr\",\n",
    "    \"ug\",\n",
    "    \"ne\",\n",
    "    \"pt-br\",\n",
    "    \"sq\",\n",
    "    \"af\",\n",
    "    \"km\",\n",
    "    \"en\",\n",
    "    \"tt\",\n",
    "    \"ja\",\n",
    "    \"inh\",\n",
    "    \"mn\",\n",
    "    \"eo\",\n",
    "    \"ka\",\n",
    "    \"nb\",\n",
    "    \"fil\",\n",
    "    \"uz\",\n",
    "    \"fi\",\n",
    "    \"tl\",\n",
    "    \"el\",\n",
    "    \"tg\",\n",
    "    \"bn\",\n",
    "    \"si\",\n",
    "    \"gu\",\n",
    "    \"sk\",\n",
    "    \"kn\",\n",
    "    \"ar\",\n",
    "    \"hup\",\n",
    "    \"zh-tw\",\n",
    "    \"sl\",\n",
    "    \"be\",\n",
    "    \"bo\",\n",
    "    \"fr\",\n",
    "    \"ps\",\n",
    "    \"tr\",\n",
    "    \"ltg\",\n",
    "    \"la\",\n",
    "    \"ko\",\n",
    "    \"lv\",\n",
    "    \"nl\",\n",
    "    \"fa\",\n",
    "    \"ru\",\n",
    "    \"et\",\n",
    "    \"vi\",\n",
    "    \"pa\",\n",
    "    \"my\",\n",
    "    \"sw\",\n",
    "    \"az\",\n",
    "    \"sv\",\n",
    "    \"ga\",\n",
    "    \"sh\",\n",
    "    \"it\",\n",
    "    \"da\",\n",
    "    \"lt\",\n",
    "    \"kk\",\n",
    "    \"mk\",\n",
    "    \"tlh\",\n",
    "    \"he\",\n",
    "    \"ceb\",\n",
    "    \"bg\",\n",
    "    \"fr-ca\",\n",
    "    \"ha\",\n",
    "    \"ml\",\n",
    "    \"mt\",\n",
    "    \"as\",\n",
    "    \"pt\",\n",
    "    \"zh-cn\",\n",
    "    \"cnh\",\n",
    "    \"ro\",\n",
    "    \"hi\",\n",
    "    \"es\",\n",
    "    \"id\",\n",
    "    \"bs\",\n",
    "    \"so\",\n",
    "    \"cs\",\n",
    "    \"te\",\n",
    "    \"ky\",\n",
    "    \"hu\",\n",
    "    \"th\",\n",
    "    \"pl\",\n",
    "    \"nn\",\n",
    "    \"ca\",\n",
    "    \"is\",\n",
    "    \"ta\",\n",
    "    \"de\",\n",
    "    \"srp\",\n",
    "    \"ast\",\n",
    "    \"bi\",\n",
    "    \"lb\",\n",
    "    \"art-x-bork\",\n",
    "    \"am\",\n",
    "    \"oc\",\n",
    "    \"zh\",\n",
    "    \"ur\",\n",
    "    \"gl\",\n",
    ")"
   ]
  },
  {
   "cell_type": "code",
   "execution_count": 27,
   "metadata": {
    "scrolled": true
   },
   "outputs": [
    {
     "name": "stdout",
     "output_type": "stream",
     "text": [
      "Downloading and preparing dataset ted_talks_iwsl_t2/mr (download: Unknown size, generated: Unknown size, post-processed: Unknown size, total: Unknown size) to /home/ubuntu/.cache/huggingface/datasets/ted_talks_iwsl_t2/mr/1.1.0/a05d6e4e2dfce9d4b52fb831beab23647c052434e38b69f839af4c33510034fc...\n"
     ]
    },
    {
     "data": {
      "application/vnd.jupyter.widget-view+json": {
       "model_id": "",
       "version_major": 2,
       "version_minor": 0
      },
      "text/plain": [
       "HBox(children=(FloatProgress(value=1.0, bar_style='info', max=1.0), HTML(value='')))"
      ]
     },
     "metadata": {},
     "output_type": "display_data"
    },
    {
     "name": "stdout",
     "output_type": "stream",
     "text": [
      "/home/ubuntu/wit/XML_releases/xml-20140120/ted_mr-20140120.zip\n"
     ]
    },
    {
     "data": {
      "application/vnd.jupyter.widget-view+json": {
       "model_id": "",
       "version_major": 2,
       "version_minor": 0
      },
      "text/plain": [
       "HBox(children=(FloatProgress(value=1.0, bar_style='info', max=1.0), HTML(value='')))"
      ]
     },
     "metadata": {},
     "output_type": "display_data"
    },
    {
     "name": "stdout",
     "output_type": "stream",
     "text": [
      "/home/ubuntu/wit/XML_releases/xml/ted_mr-20160408.zip\n"
     ]
    },
    {
     "data": {
      "application/vnd.jupyter.widget-view+json": {
       "model_id": "",
       "version_major": 2,
       "version_minor": 0
      },
      "text/plain": [
       "HBox(children=(FloatProgress(value=1.0, bar_style='info', max=1.0), HTML(value='')))"
      ]
     },
     "metadata": {},
     "output_type": "display_data"
    },
    {
     "name": "stdout",
     "output_type": "stream",
     "text": [
      "/home/ubuntu/wit/XML_releases/xml-20150616/ted_mr-20150530.zip\n",
      "Dataset ted_talks_iwsl_t2 downloaded and prepared to /home/ubuntu/.cache/huggingface/datasets/ted_talks_iwsl_t2/mr/1.1.0/a05d6e4e2dfce9d4b52fb831beab23647c052434e38b69f839af4c33510034fc. Subsequent calls will reuse this data.\n",
      "Downloading and preparing dataset ted_talks_iwsl_t2/eu (download: Unknown size, generated: Unknown size, post-processed: Unknown size, total: Unknown size) to /home/ubuntu/.cache/huggingface/datasets/ted_talks_iwsl_t2/eu/1.1.0/a05d6e4e2dfce9d4b52fb831beab23647c052434e38b69f839af4c33510034fc...\n"
     ]
    },
    {
     "data": {
      "application/vnd.jupyter.widget-view+json": {
       "model_id": "",
       "version_major": 2,
       "version_minor": 0
      },
      "text/plain": [
       "HBox(children=(FloatProgress(value=1.0, bar_style='info', max=1.0), HTML(value='')))"
      ]
     },
     "metadata": {},
     "output_type": "display_data"
    },
    {
     "name": "stdout",
     "output_type": "stream",
     "text": [
      "/home/ubuntu/wit/XML_releases/xml-20140120/ted_eu-20140120.zip\n"
     ]
    },
    {
     "data": {
      "application/vnd.jupyter.widget-view+json": {
       "model_id": "",
       "version_major": 2,
       "version_minor": 0
      },
      "text/plain": [
       "HBox(children=(FloatProgress(value=1.0, bar_style='info', max=1.0), HTML(value='')))"
      ]
     },
     "metadata": {},
     "output_type": "display_data"
    },
    {
     "name": "stdout",
     "output_type": "stream",
     "text": [
      "/home/ubuntu/wit/XML_releases/xml/ted_eu-20160408.zip\n"
     ]
    },
    {
     "data": {
      "application/vnd.jupyter.widget-view+json": {
       "model_id": "",
       "version_major": 2,
       "version_minor": 0
      },
      "text/plain": [
       "HBox(children=(FloatProgress(value=1.0, bar_style='info', max=1.0), HTML(value='')))"
      ]
     },
     "metadata": {},
     "output_type": "display_data"
    },
    {
     "name": "stdout",
     "output_type": "stream",
     "text": [
      "/home/ubuntu/wit/XML_releases/xml-20150616/ted_eu-20150530.zip\n",
      "Dataset ted_talks_iwsl_t2 downloaded and prepared to /home/ubuntu/.cache/huggingface/datasets/ted_talks_iwsl_t2/eu/1.1.0/a05d6e4e2dfce9d4b52fb831beab23647c052434e38b69f839af4c33510034fc. Subsequent calls will reuse this data.\n",
      "Downloading and preparing dataset ted_talks_iwsl_t2/hr (download: Unknown size, generated: Unknown size, post-processed: Unknown size, total: Unknown size) to /home/ubuntu/.cache/huggingface/datasets/ted_talks_iwsl_t2/hr/1.1.0/a05d6e4e2dfce9d4b52fb831beab23647c052434e38b69f839af4c33510034fc...\n"
     ]
    },
    {
     "data": {
      "application/vnd.jupyter.widget-view+json": {
       "model_id": "",
       "version_major": 2,
       "version_minor": 0
      },
      "text/plain": [
       "HBox(children=(FloatProgress(value=1.0, bar_style='info', max=1.0), HTML(value='')))"
      ]
     },
     "metadata": {},
     "output_type": "display_data"
    },
    {
     "name": "stdout",
     "output_type": "stream",
     "text": [
      "/home/ubuntu/wit/XML_releases/xml-20140120/ted_hr-20140120.zip\n"
     ]
    },
    {
     "data": {
      "application/vnd.jupyter.widget-view+json": {
       "model_id": "",
       "version_major": 2,
       "version_minor": 0
      },
      "text/plain": [
       "HBox(children=(FloatProgress(value=1.0, bar_style='info', max=1.0), HTML(value='')))"
      ]
     },
     "metadata": {},
     "output_type": "display_data"
    },
    {
     "name": "stdout",
     "output_type": "stream",
     "text": [
      "/home/ubuntu/wit/XML_releases/xml/ted_hr-20160408.zip\n"
     ]
    },
    {
     "data": {
      "application/vnd.jupyter.widget-view+json": {
       "model_id": "",
       "version_major": 2,
       "version_minor": 0
      },
      "text/plain": [
       "HBox(children=(FloatProgress(value=1.0, bar_style='info', max=1.0), HTML(value='')))"
      ]
     },
     "metadata": {},
     "output_type": "display_data"
    },
    {
     "name": "stdout",
     "output_type": "stream",
     "text": [
      "/home/ubuntu/wit/XML_releases/xml-20150616/ted_hr-20150530.zip\n",
      "Dataset ted_talks_iwsl_t2 downloaded and prepared to /home/ubuntu/.cache/huggingface/datasets/ted_talks_iwsl_t2/hr/1.1.0/a05d6e4e2dfce9d4b52fb831beab23647c052434e38b69f839af4c33510034fc. Subsequent calls will reuse this data.\n",
      "Downloading and preparing dataset ted_talks_iwsl_t2/rup (download: Unknown size, generated: Unknown size, post-processed: Unknown size, total: Unknown size) to /home/ubuntu/.cache/huggingface/datasets/ted_talks_iwsl_t2/rup/1.1.0/a05d6e4e2dfce9d4b52fb831beab23647c052434e38b69f839af4c33510034fc...\n"
     ]
    },
    {
     "data": {
      "application/vnd.jupyter.widget-view+json": {
       "model_id": "",
       "version_major": 2,
       "version_minor": 0
      },
      "text/plain": [
       "HBox(children=(FloatProgress(value=1.0, bar_style='info', max=1.0), HTML(value='')))"
      ]
     },
     "metadata": {},
     "output_type": "display_data"
    },
    {
     "name": "stdout",
     "output_type": "stream",
     "text": [
      "/home/ubuntu/wit/XML_releases/xml-20140120/ted_rup-20140120.zip\n"
     ]
    },
    {
     "data": {
      "application/vnd.jupyter.widget-view+json": {
       "model_id": "",
       "version_major": 2,
       "version_minor": 0
      },
      "text/plain": [
       "HBox(children=(FloatProgress(value=1.0, bar_style='info', max=1.0), HTML(value='')))"
      ]
     },
     "metadata": {},
     "output_type": "display_data"
    },
    {
     "name": "stdout",
     "output_type": "stream",
     "text": [
      "/home/ubuntu/wit/XML_releases/xml/ted_rup-20160408.zip\n"
     ]
    },
    {
     "data": {
      "application/vnd.jupyter.widget-view+json": {
       "model_id": "",
       "version_major": 2,
       "version_minor": 0
      },
      "text/plain": [
       "HBox(children=(FloatProgress(value=1.0, bar_style='info', max=1.0), HTML(value='')))"
      ]
     },
     "metadata": {},
     "output_type": "display_data"
    },
    {
     "name": "stdout",
     "output_type": "stream",
     "text": [
      "/home/ubuntu/wit/XML_releases/xml-20150616/ted_rup-20150530.zip\n",
      "Dataset ted_talks_iwsl_t2 downloaded and prepared to /home/ubuntu/.cache/huggingface/datasets/ted_talks_iwsl_t2/rup/1.1.0/a05d6e4e2dfce9d4b52fb831beab23647c052434e38b69f839af4c33510034fc. Subsequent calls will reuse this data.\n",
      "Downloading and preparing dataset ted_talks_iwsl_t2/szl (download: Unknown size, generated: Unknown size, post-processed: Unknown size, total: Unknown size) to /home/ubuntu/.cache/huggingface/datasets/ted_talks_iwsl_t2/szl/1.1.0/a05d6e4e2dfce9d4b52fb831beab23647c052434e38b69f839af4c33510034fc...\n"
     ]
    },
    {
     "data": {
      "application/vnd.jupyter.widget-view+json": {
       "model_id": "",
       "version_major": 2,
       "version_minor": 0
      },
      "text/plain": [
       "HBox(children=(FloatProgress(value=1.0, bar_style='info', max=1.0), HTML(value='')))"
      ]
     },
     "metadata": {},
     "output_type": "display_data"
    },
    {
     "name": "stdout",
     "output_type": "stream",
     "text": [
      "/home/ubuntu/wit/XML_releases/xml-20140120/ted_szl-20140120.zip\n"
     ]
    },
    {
     "data": {
      "application/vnd.jupyter.widget-view+json": {
       "model_id": "",
       "version_major": 2,
       "version_minor": 0
      },
      "text/plain": [
       "HBox(children=(FloatProgress(value=1.0, bar_style='info', max=1.0), HTML(value='')))"
      ]
     },
     "metadata": {},
     "output_type": "display_data"
    },
    {
     "name": "stdout",
     "output_type": "stream",
     "text": [
      "/home/ubuntu/wit/XML_releases/xml/ted_szl-20160408.zip\n"
     ]
    },
    {
     "data": {
      "application/vnd.jupyter.widget-view+json": {
       "model_id": "",
       "version_major": 2,
       "version_minor": 0
      },
      "text/plain": [
       "HBox(children=(FloatProgress(value=1.0, bar_style='info', max=1.0), HTML(value='')))"
      ]
     },
     "metadata": {},
     "output_type": "display_data"
    },
    {
     "name": "stdout",
     "output_type": "stream",
     "text": [
      "/home/ubuntu/wit/XML_releases/xml-20150616/ted_szl-20150530.zip\n",
      "Dataset ted_talks_iwsl_t2 downloaded and prepared to /home/ubuntu/.cache/huggingface/datasets/ted_talks_iwsl_t2/szl/1.1.0/a05d6e4e2dfce9d4b52fb831beab23647c052434e38b69f839af4c33510034fc. Subsequent calls will reuse this data.\n",
      "Downloading and preparing dataset ted_talks_iwsl_t2/lo (download: Unknown size, generated: Unknown size, post-processed: Unknown size, total: Unknown size) to /home/ubuntu/.cache/huggingface/datasets/ted_talks_iwsl_t2/lo/1.1.0/a05d6e4e2dfce9d4b52fb831beab23647c052434e38b69f839af4c33510034fc...\n"
     ]
    },
    {
     "data": {
      "application/vnd.jupyter.widget-view+json": {
       "model_id": "",
       "version_major": 2,
       "version_minor": 0
      },
      "text/plain": [
       "HBox(children=(FloatProgress(value=1.0, bar_style='info', max=1.0), HTML(value='')))"
      ]
     },
     "metadata": {},
     "output_type": "display_data"
    },
    {
     "name": "stdout",
     "output_type": "stream",
     "text": [
      "/home/ubuntu/wit/XML_releases/xml-20140120/ted_lo-20140120.zip\n"
     ]
    },
    {
     "data": {
      "application/vnd.jupyter.widget-view+json": {
       "model_id": "",
       "version_major": 2,
       "version_minor": 0
      },
      "text/plain": [
       "HBox(children=(FloatProgress(value=1.0, bar_style='info', max=1.0), HTML(value='')))"
      ]
     },
     "metadata": {},
     "output_type": "display_data"
    },
    {
     "name": "stdout",
     "output_type": "stream",
     "text": [
      "/home/ubuntu/wit/XML_releases/xml/ted_lo-20160408.zip\n"
     ]
    },
    {
     "data": {
      "application/vnd.jupyter.widget-view+json": {
       "model_id": "",
       "version_major": 2,
       "version_minor": 0
      },
      "text/plain": [
       "HBox(children=(FloatProgress(value=1.0, bar_style='info', max=1.0), HTML(value='')))"
      ]
     },
     "metadata": {},
     "output_type": "display_data"
    },
    {
     "name": "stdout",
     "output_type": "stream",
     "text": [
      "/home/ubuntu/wit/XML_releases/xml-20150616/ted_lo-20150530.zip\n",
      "Dataset ted_talks_iwsl_t2 downloaded and prepared to /home/ubuntu/.cache/huggingface/datasets/ted_talks_iwsl_t2/lo/1.1.0/a05d6e4e2dfce9d4b52fb831beab23647c052434e38b69f839af4c33510034fc. Subsequent calls will reuse this data.\n",
      "Downloading and preparing dataset ted_talks_iwsl_t2/ms (download: Unknown size, generated: Unknown size, post-processed: Unknown size, total: Unknown size) to /home/ubuntu/.cache/huggingface/datasets/ted_talks_iwsl_t2/ms/1.1.0/a05d6e4e2dfce9d4b52fb831beab23647c052434e38b69f839af4c33510034fc...\n"
     ]
    },
    {
     "data": {
      "application/vnd.jupyter.widget-view+json": {
       "model_id": "",
       "version_major": 2,
       "version_minor": 0
      },
      "text/plain": [
       "HBox(children=(FloatProgress(value=1.0, bar_style='info', max=1.0), HTML(value='')))"
      ]
     },
     "metadata": {},
     "output_type": "display_data"
    },
    {
     "name": "stdout",
     "output_type": "stream",
     "text": [
      "/home/ubuntu/wit/XML_releases/xml-20140120/ted_ms-20140120.zip\n"
     ]
    },
    {
     "data": {
      "application/vnd.jupyter.widget-view+json": {
       "model_id": "",
       "version_major": 2,
       "version_minor": 0
      },
      "text/plain": [
       "HBox(children=(FloatProgress(value=1.0, bar_style='info', max=1.0), HTML(value='')))"
      ]
     },
     "metadata": {},
     "output_type": "display_data"
    },
    {
     "name": "stdout",
     "output_type": "stream",
     "text": [
      "/home/ubuntu/wit/XML_releases/xml/ted_ms-20160408.zip\n"
     ]
    },
    {
     "data": {
      "application/vnd.jupyter.widget-view+json": {
       "model_id": "",
       "version_major": 2,
       "version_minor": 0
      },
      "text/plain": [
       "HBox(children=(FloatProgress(value=1.0, bar_style='info', max=1.0), HTML(value='')))"
      ]
     },
     "metadata": {},
     "output_type": "display_data"
    },
    {
     "name": "stdout",
     "output_type": "stream",
     "text": [
      "/home/ubuntu/wit/XML_releases/xml-20150616/ted_ms-20150530.zip\n",
      "Dataset ted_talks_iwsl_t2 downloaded and prepared to /home/ubuntu/.cache/huggingface/datasets/ted_talks_iwsl_t2/ms/1.1.0/a05d6e4e2dfce9d4b52fb831beab23647c052434e38b69f839af4c33510034fc. Subsequent calls will reuse this data.\n",
      "Downloading and preparing dataset ted_talks_iwsl_t2/ht (download: Unknown size, generated: Unknown size, post-processed: Unknown size, total: Unknown size) to /home/ubuntu/.cache/huggingface/datasets/ted_talks_iwsl_t2/ht/1.1.0/a05d6e4e2dfce9d4b52fb831beab23647c052434e38b69f839af4c33510034fc...\n"
     ]
    },
    {
     "data": {
      "application/vnd.jupyter.widget-view+json": {
       "model_id": "",
       "version_major": 2,
       "version_minor": 0
      },
      "text/plain": [
       "HBox(children=(FloatProgress(value=1.0, bar_style='info', max=1.0), HTML(value='')))"
      ]
     },
     "metadata": {},
     "output_type": "display_data"
    },
    {
     "name": "stdout",
     "output_type": "stream",
     "text": [
      "/home/ubuntu/wit/XML_releases/xml-20140120/ted_ht-20140120.zip\n"
     ]
    },
    {
     "data": {
      "application/vnd.jupyter.widget-view+json": {
       "model_id": "",
       "version_major": 2,
       "version_minor": 0
      },
      "text/plain": [
       "HBox(children=(FloatProgress(value=1.0, bar_style='info', max=1.0), HTML(value='')))"
      ]
     },
     "metadata": {},
     "output_type": "display_data"
    },
    {
     "name": "stdout",
     "output_type": "stream",
     "text": [
      "/home/ubuntu/wit/XML_releases/xml/ted_ht-20160408.zip\n"
     ]
    },
    {
     "data": {
      "application/vnd.jupyter.widget-view+json": {
       "model_id": "",
       "version_major": 2,
       "version_minor": 0
      },
      "text/plain": [
       "HBox(children=(FloatProgress(value=1.0, bar_style='info', max=1.0), HTML(value='')))"
      ]
     },
     "metadata": {},
     "output_type": "display_data"
    },
    {
     "name": "stdout",
     "output_type": "stream",
     "text": [
      "/home/ubuntu/wit/XML_releases/xml-20150616/ted_ht-20150530.zip\n",
      "Dataset ted_talks_iwsl_t2 downloaded and prepared to /home/ubuntu/.cache/huggingface/datasets/ted_talks_iwsl_t2/ht/1.1.0/a05d6e4e2dfce9d4b52fb831beab23647c052434e38b69f839af4c33510034fc. Subsequent calls will reuse this data.\n",
      "Downloading and preparing dataset ted_talks_iwsl_t2/hy (download: Unknown size, generated: Unknown size, post-processed: Unknown size, total: Unknown size) to /home/ubuntu/.cache/huggingface/datasets/ted_talks_iwsl_t2/hy/1.1.0/a05d6e4e2dfce9d4b52fb831beab23647c052434e38b69f839af4c33510034fc...\n"
     ]
    },
    {
     "data": {
      "application/vnd.jupyter.widget-view+json": {
       "model_id": "",
       "version_major": 2,
       "version_minor": 0
      },
      "text/plain": [
       "HBox(children=(FloatProgress(value=1.0, bar_style='info', max=1.0), HTML(value='')))"
      ]
     },
     "metadata": {},
     "output_type": "display_data"
    },
    {
     "name": "stdout",
     "output_type": "stream",
     "text": [
      "/home/ubuntu/wit/XML_releases/xml-20140120/ted_hy-20140120.zip\n"
     ]
    },
    {
     "data": {
      "application/vnd.jupyter.widget-view+json": {
       "model_id": "",
       "version_major": 2,
       "version_minor": 0
      },
      "text/plain": [
       "HBox(children=(FloatProgress(value=1.0, bar_style='info', max=1.0), HTML(value='')))"
      ]
     },
     "metadata": {},
     "output_type": "display_data"
    },
    {
     "name": "stdout",
     "output_type": "stream",
     "text": [
      "/home/ubuntu/wit/XML_releases/xml/ted_hy-20160408.zip\n"
     ]
    },
    {
     "data": {
      "application/vnd.jupyter.widget-view+json": {
       "model_id": "",
       "version_major": 2,
       "version_minor": 0
      },
      "text/plain": [
       "HBox(children=(FloatProgress(value=1.0, bar_style='info', max=1.0), HTML(value='')))"
      ]
     },
     "metadata": {},
     "output_type": "display_data"
    },
    {
     "name": "stdout",
     "output_type": "stream",
     "text": [
      "/home/ubuntu/wit/XML_releases/xml-20150616/ted_hy-20150530.zip\n",
      "Dataset ted_talks_iwsl_t2 downloaded and prepared to /home/ubuntu/.cache/huggingface/datasets/ted_talks_iwsl_t2/hy/1.1.0/a05d6e4e2dfce9d4b52fb831beab23647c052434e38b69f839af4c33510034fc. Subsequent calls will reuse this data.\n",
      "Downloading and preparing dataset ted_talks_iwsl_t2/mg (download: Unknown size, generated: Unknown size, post-processed: Unknown size, total: Unknown size) to /home/ubuntu/.cache/huggingface/datasets/ted_talks_iwsl_t2/mg/1.1.0/a05d6e4e2dfce9d4b52fb831beab23647c052434e38b69f839af4c33510034fc...\n"
     ]
    },
    {
     "data": {
      "application/vnd.jupyter.widget-view+json": {
       "model_id": "",
       "version_major": 2,
       "version_minor": 0
      },
      "text/plain": [
       "HBox(children=(FloatProgress(value=1.0, bar_style='info', max=1.0), HTML(value='')))"
      ]
     },
     "metadata": {},
     "output_type": "display_data"
    },
    {
     "name": "stdout",
     "output_type": "stream",
     "text": [
      "/home/ubuntu/wit/XML_releases/xml-20140120/ted_mg-20140120.zip\n"
     ]
    },
    {
     "data": {
      "application/vnd.jupyter.widget-view+json": {
       "model_id": "",
       "version_major": 2,
       "version_minor": 0
      },
      "text/plain": [
       "HBox(children=(FloatProgress(value=1.0, bar_style='info', max=1.0), HTML(value='')))"
      ]
     },
     "metadata": {},
     "output_type": "display_data"
    },
    {
     "name": "stdout",
     "output_type": "stream",
     "text": [
      "/home/ubuntu/wit/XML_releases/xml/ted_mg-20160408.zip\n"
     ]
    },
    {
     "data": {
      "application/vnd.jupyter.widget-view+json": {
       "model_id": "",
       "version_major": 2,
       "version_minor": 0
      },
      "text/plain": [
       "HBox(children=(FloatProgress(value=1.0, bar_style='info', max=1.0), HTML(value='')))"
      ]
     },
     "metadata": {},
     "output_type": "display_data"
    },
    {
     "name": "stdout",
     "output_type": "stream",
     "text": [
      "/home/ubuntu/wit/XML_releases/xml-20150616/ted_mg-20150530.zip\n",
      "Dataset ted_talks_iwsl_t2 downloaded and prepared to /home/ubuntu/.cache/huggingface/datasets/ted_talks_iwsl_t2/mg/1.1.0/a05d6e4e2dfce9d4b52fb831beab23647c052434e38b69f839af4c33510034fc. Subsequent calls will reuse this data.\n",
      "Downloading and preparing dataset ted_talks_iwsl_t2/arq (download: Unknown size, generated: Unknown size, post-processed: Unknown size, total: Unknown size) to /home/ubuntu/.cache/huggingface/datasets/ted_talks_iwsl_t2/arq/1.1.0/a05d6e4e2dfce9d4b52fb831beab23647c052434e38b69f839af4c33510034fc...\n"
     ]
    },
    {
     "data": {
      "application/vnd.jupyter.widget-view+json": {
       "model_id": "",
       "version_major": 2,
       "version_minor": 0
      },
      "text/plain": [
       "HBox(children=(FloatProgress(value=1.0, bar_style='info', max=1.0), HTML(value='')))"
      ]
     },
     "metadata": {},
     "output_type": "display_data"
    },
    {
     "name": "stdout",
     "output_type": "stream",
     "text": [
      "/home/ubuntu/wit/XML_releases/xml-20140120/ted_arq-20140120.zip\n"
     ]
    },
    {
     "data": {
      "application/vnd.jupyter.widget-view+json": {
       "model_id": "",
       "version_major": 2,
       "version_minor": 0
      },
      "text/plain": [
       "HBox(children=(FloatProgress(value=1.0, bar_style='info', max=1.0), HTML(value='')))"
      ]
     },
     "metadata": {},
     "output_type": "display_data"
    },
    {
     "name": "stdout",
     "output_type": "stream",
     "text": [
      "/home/ubuntu/wit/XML_releases/xml/ted_arq-20160408.zip\n"
     ]
    },
    {
     "data": {
      "application/vnd.jupyter.widget-view+json": {
       "model_id": "",
       "version_major": 2,
       "version_minor": 0
      },
      "text/plain": [
       "HBox(children=(FloatProgress(value=1.0, bar_style='info', max=1.0), HTML(value='')))"
      ]
     },
     "metadata": {},
     "output_type": "display_data"
    },
    {
     "name": "stdout",
     "output_type": "stream",
     "text": [
      "/home/ubuntu/wit/XML_releases/xml-20150616/ted_arq-20150530.zip\n",
      "Dataset ted_talks_iwsl_t2 downloaded and prepared to /home/ubuntu/.cache/huggingface/datasets/ted_talks_iwsl_t2/arq/1.1.0/a05d6e4e2dfce9d4b52fb831beab23647c052434e38b69f839af4c33510034fc. Subsequent calls will reuse this data.\n",
      "Downloading and preparing dataset ted_talks_iwsl_t2/uk (download: Unknown size, generated: Unknown size, post-processed: Unknown size, total: Unknown size) to /home/ubuntu/.cache/huggingface/datasets/ted_talks_iwsl_t2/uk/1.1.0/a05d6e4e2dfce9d4b52fb831beab23647c052434e38b69f839af4c33510034fc...\n"
     ]
    },
    {
     "data": {
      "application/vnd.jupyter.widget-view+json": {
       "model_id": "",
       "version_major": 2,
       "version_minor": 0
      },
      "text/plain": [
       "HBox(children=(FloatProgress(value=1.0, bar_style='info', max=1.0), HTML(value='')))"
      ]
     },
     "metadata": {},
     "output_type": "display_data"
    },
    {
     "name": "stdout",
     "output_type": "stream",
     "text": [
      "/home/ubuntu/wit/XML_releases/xml-20140120/ted_uk-20140120.zip\n"
     ]
    },
    {
     "data": {
      "application/vnd.jupyter.widget-view+json": {
       "model_id": "",
       "version_major": 2,
       "version_minor": 0
      },
      "text/plain": [
       "HBox(children=(FloatProgress(value=1.0, bar_style='info', max=1.0), HTML(value='')))"
      ]
     },
     "metadata": {},
     "output_type": "display_data"
    },
    {
     "name": "stdout",
     "output_type": "stream",
     "text": [
      "/home/ubuntu/wit/XML_releases/xml/ted_uk-20160408.zip\n"
     ]
    },
    {
     "data": {
      "application/vnd.jupyter.widget-view+json": {
       "model_id": "",
       "version_major": 2,
       "version_minor": 0
      },
      "text/plain": [
       "HBox(children=(FloatProgress(value=1.0, bar_style='info', max=1.0), HTML(value='')))"
      ]
     },
     "metadata": {},
     "output_type": "display_data"
    },
    {
     "name": "stdout",
     "output_type": "stream",
     "text": [
      "/home/ubuntu/wit/XML_releases/xml-20150616/ted_uk-20150530.zip\n",
      "ERROR: no element found: line 975, column 171\n",
      "Which likely means that you have a malformed XML file:: /home/ubuntu/wit/XML_releases/xml-20150616/ted_uk-20150530.zip\n",
      "\n",
      "Dataset ted_talks_iwsl_t2 downloaded and prepared to /home/ubuntu/.cache/huggingface/datasets/ted_talks_iwsl_t2/uk/1.1.0/a05d6e4e2dfce9d4b52fb831beab23647c052434e38b69f839af4c33510034fc. Subsequent calls will reuse this data.\n",
      "Downloading and preparing dataset ted_talks_iwsl_t2/ku (download: Unknown size, generated: Unknown size, post-processed: Unknown size, total: Unknown size) to /home/ubuntu/.cache/huggingface/datasets/ted_talks_iwsl_t2/ku/1.1.0/a05d6e4e2dfce9d4b52fb831beab23647c052434e38b69f839af4c33510034fc...\n"
     ]
    },
    {
     "data": {
      "application/vnd.jupyter.widget-view+json": {
       "model_id": "",
       "version_major": 2,
       "version_minor": 0
      },
      "text/plain": [
       "HBox(children=(FloatProgress(value=1.0, bar_style='info', max=1.0), HTML(value='')))"
      ]
     },
     "metadata": {},
     "output_type": "display_data"
    },
    {
     "name": "stdout",
     "output_type": "stream",
     "text": [
      "/home/ubuntu/wit/XML_releases/xml-20140120/ted_ku-20140120.zip\n"
     ]
    },
    {
     "data": {
      "application/vnd.jupyter.widget-view+json": {
       "model_id": "",
       "version_major": 2,
       "version_minor": 0
      },
      "text/plain": [
       "HBox(children=(FloatProgress(value=1.0, bar_style='info', max=1.0), HTML(value='')))"
      ]
     },
     "metadata": {},
     "output_type": "display_data"
    },
    {
     "name": "stdout",
     "output_type": "stream",
     "text": [
      "/home/ubuntu/wit/XML_releases/xml/ted_ku-20160408.zip\n"
     ]
    },
    {
     "data": {
      "application/vnd.jupyter.widget-view+json": {
       "model_id": "",
       "version_major": 2,
       "version_minor": 0
      },
      "text/plain": [
       "HBox(children=(FloatProgress(value=1.0, bar_style='info', max=1.0), HTML(value='')))"
      ]
     },
     "metadata": {},
     "output_type": "display_data"
    },
    {
     "name": "stdout",
     "output_type": "stream",
     "text": [
      "/home/ubuntu/wit/XML_releases/xml-20150616/ted_ku-20150530.zip\n",
      "Dataset ted_talks_iwsl_t2 downloaded and prepared to /home/ubuntu/.cache/huggingface/datasets/ted_talks_iwsl_t2/ku/1.1.0/a05d6e4e2dfce9d4b52fb831beab23647c052434e38b69f839af4c33510034fc. Subsequent calls will reuse this data.\n",
      "Downloading and preparing dataset ted_talks_iwsl_t2/ig (download: Unknown size, generated: Unknown size, post-processed: Unknown size, total: Unknown size) to /home/ubuntu/.cache/huggingface/datasets/ted_talks_iwsl_t2/ig/1.1.0/a05d6e4e2dfce9d4b52fb831beab23647c052434e38b69f839af4c33510034fc...\n"
     ]
    },
    {
     "data": {
      "application/vnd.jupyter.widget-view+json": {
       "model_id": "",
       "version_major": 2,
       "version_minor": 0
      },
      "text/plain": [
       "HBox(children=(FloatProgress(value=1.0, bar_style='info', max=1.0), HTML(value='')))"
      ]
     },
     "metadata": {},
     "output_type": "display_data"
    },
    {
     "name": "stdout",
     "output_type": "stream",
     "text": [
      "/home/ubuntu/wit/XML_releases/xml-20140120/ted_ig-20140120.zip\n",
      "File doesn't exist:: /home/ubuntu/wit/XML_releases/xml-20140120/ted_ig-20140120.zip\n"
     ]
    },
    {
     "data": {
      "application/vnd.jupyter.widget-view+json": {
       "model_id": "",
       "version_major": 2,
       "version_minor": 0
      },
      "text/plain": [
       "HBox(children=(FloatProgress(value=1.0, bar_style='info', max=1.0), HTML(value='')))"
      ]
     },
     "metadata": {},
     "output_type": "display_data"
    },
    {
     "name": "stdout",
     "output_type": "stream",
     "text": [
      "/home/ubuntu/wit/XML_releases/xml/ted_ig-20160408.zip\n"
     ]
    },
    {
     "data": {
      "application/vnd.jupyter.widget-view+json": {
       "model_id": "",
       "version_major": 2,
       "version_minor": 0
      },
      "text/plain": [
       "HBox(children=(FloatProgress(value=1.0, bar_style='info', max=1.0), HTML(value='')))"
      ]
     },
     "metadata": {},
     "output_type": "display_data"
    },
    {
     "name": "stdout",
     "output_type": "stream",
     "text": [
      "/home/ubuntu/wit/XML_releases/xml-20150616/ted_ig-20150530.zip\n",
      "File doesn't exist:: /home/ubuntu/wit/XML_releases/xml-20150616/ted_ig-20150530.zip\n",
      "Dataset ted_talks_iwsl_t2 downloaded and prepared to /home/ubuntu/.cache/huggingface/datasets/ted_talks_iwsl_t2/ig/1.1.0/a05d6e4e2dfce9d4b52fb831beab23647c052434e38b69f839af4c33510034fc. Subsequent calls will reuse this data.\n",
      "Downloading and preparing dataset ted_talks_iwsl_t2/sr (download: Unknown size, generated: Unknown size, post-processed: Unknown size, total: Unknown size) to /home/ubuntu/.cache/huggingface/datasets/ted_talks_iwsl_t2/sr/1.1.0/a05d6e4e2dfce9d4b52fb831beab23647c052434e38b69f839af4c33510034fc...\n"
     ]
    },
    {
     "data": {
      "application/vnd.jupyter.widget-view+json": {
       "model_id": "",
       "version_major": 2,
       "version_minor": 0
      },
      "text/plain": [
       "HBox(children=(FloatProgress(value=1.0, bar_style='info', max=1.0), HTML(value='')))"
      ]
     },
     "metadata": {},
     "output_type": "display_data"
    },
    {
     "name": "stdout",
     "output_type": "stream",
     "text": [
      "/home/ubuntu/wit/XML_releases/xml-20140120/ted_sr-20140120.zip\n"
     ]
    },
    {
     "data": {
      "application/vnd.jupyter.widget-view+json": {
       "model_id": "",
       "version_major": 2,
       "version_minor": 0
      },
      "text/plain": [
       "HBox(children=(FloatProgress(value=1.0, bar_style='info', max=1.0), HTML(value='')))"
      ]
     },
     "metadata": {},
     "output_type": "display_data"
    },
    {
     "name": "stdout",
     "output_type": "stream",
     "text": [
      "/home/ubuntu/wit/XML_releases/xml/ted_sr-20160408.zip\n"
     ]
    },
    {
     "data": {
      "application/vnd.jupyter.widget-view+json": {
       "model_id": "",
       "version_major": 2,
       "version_minor": 0
      },
      "text/plain": [
       "HBox(children=(FloatProgress(value=1.0, bar_style='info', max=1.0), HTML(value='')))"
      ]
     },
     "metadata": {},
     "output_type": "display_data"
    },
    {
     "name": "stdout",
     "output_type": "stream",
     "text": [
      "/home/ubuntu/wit/XML_releases/xml-20150616/ted_sr-20150530.zip\n",
      "Dataset ted_talks_iwsl_t2 downloaded and prepared to /home/ubuntu/.cache/huggingface/datasets/ted_talks_iwsl_t2/sr/1.1.0/a05d6e4e2dfce9d4b52fb831beab23647c052434e38b69f839af4c33510034fc. Subsequent calls will reuse this data.\n",
      "Downloading and preparing dataset ted_talks_iwsl_t2/ug (download: Unknown size, generated: Unknown size, post-processed: Unknown size, total: Unknown size) to /home/ubuntu/.cache/huggingface/datasets/ted_talks_iwsl_t2/ug/1.1.0/a05d6e4e2dfce9d4b52fb831beab23647c052434e38b69f839af4c33510034fc...\n"
     ]
    },
    {
     "data": {
      "application/vnd.jupyter.widget-view+json": {
       "model_id": "",
       "version_major": 2,
       "version_minor": 0
      },
      "text/plain": [
       "HBox(children=(FloatProgress(value=1.0, bar_style='info', max=1.0), HTML(value='')))"
      ]
     },
     "metadata": {},
     "output_type": "display_data"
    },
    {
     "name": "stdout",
     "output_type": "stream",
     "text": [
      "/home/ubuntu/wit/XML_releases/xml-20140120/ted_ug-20140120.zip\n"
     ]
    },
    {
     "data": {
      "application/vnd.jupyter.widget-view+json": {
       "model_id": "",
       "version_major": 2,
       "version_minor": 0
      },
      "text/plain": [
       "HBox(children=(FloatProgress(value=1.0, bar_style='info', max=1.0), HTML(value='')))"
      ]
     },
     "metadata": {},
     "output_type": "display_data"
    },
    {
     "name": "stdout",
     "output_type": "stream",
     "text": [
      "/home/ubuntu/wit/XML_releases/xml/ted_ug-20160408.zip\n"
     ]
    },
    {
     "data": {
      "application/vnd.jupyter.widget-view+json": {
       "model_id": "",
       "version_major": 2,
       "version_minor": 0
      },
      "text/plain": [
       "HBox(children=(FloatProgress(value=1.0, bar_style='info', max=1.0), HTML(value='')))"
      ]
     },
     "metadata": {},
     "output_type": "display_data"
    },
    {
     "name": "stdout",
     "output_type": "stream",
     "text": [
      "/home/ubuntu/wit/XML_releases/xml-20150616/ted_ug-20150530.zip\n",
      "Dataset ted_talks_iwsl_t2 downloaded and prepared to /home/ubuntu/.cache/huggingface/datasets/ted_talks_iwsl_t2/ug/1.1.0/a05d6e4e2dfce9d4b52fb831beab23647c052434e38b69f839af4c33510034fc. Subsequent calls will reuse this data.\n",
      "Downloading and preparing dataset ted_talks_iwsl_t2/ne (download: Unknown size, generated: Unknown size, post-processed: Unknown size, total: Unknown size) to /home/ubuntu/.cache/huggingface/datasets/ted_talks_iwsl_t2/ne/1.1.0/a05d6e4e2dfce9d4b52fb831beab23647c052434e38b69f839af4c33510034fc...\n"
     ]
    },
    {
     "data": {
      "application/vnd.jupyter.widget-view+json": {
       "model_id": "",
       "version_major": 2,
       "version_minor": 0
      },
      "text/plain": [
       "HBox(children=(FloatProgress(value=1.0, bar_style='info', max=1.0), HTML(value='')))"
      ]
     },
     "metadata": {},
     "output_type": "display_data"
    },
    {
     "name": "stdout",
     "output_type": "stream",
     "text": [
      "/home/ubuntu/wit/XML_releases/xml-20140120/ted_ne-20140120.zip\n"
     ]
    },
    {
     "data": {
      "application/vnd.jupyter.widget-view+json": {
       "model_id": "",
       "version_major": 2,
       "version_minor": 0
      },
      "text/plain": [
       "HBox(children=(FloatProgress(value=1.0, bar_style='info', max=1.0), HTML(value='')))"
      ]
     },
     "metadata": {},
     "output_type": "display_data"
    },
    {
     "name": "stdout",
     "output_type": "stream",
     "text": [
      "/home/ubuntu/wit/XML_releases/xml/ted_ne-20160408.zip\n"
     ]
    },
    {
     "data": {
      "application/vnd.jupyter.widget-view+json": {
       "model_id": "",
       "version_major": 2,
       "version_minor": 0
      },
      "text/plain": [
       "HBox(children=(FloatProgress(value=1.0, bar_style='info', max=1.0), HTML(value='')))"
      ]
     },
     "metadata": {},
     "output_type": "display_data"
    },
    {
     "name": "stdout",
     "output_type": "stream",
     "text": [
      "/home/ubuntu/wit/XML_releases/xml-20150616/ted_ne-20150530.zip\n",
      "Dataset ted_talks_iwsl_t2 downloaded and prepared to /home/ubuntu/.cache/huggingface/datasets/ted_talks_iwsl_t2/ne/1.1.0/a05d6e4e2dfce9d4b52fb831beab23647c052434e38b69f839af4c33510034fc. Subsequent calls will reuse this data.\n",
      "Downloading and preparing dataset ted_talks_iwsl_t2/pt-br (download: Unknown size, generated: Unknown size, post-processed: Unknown size, total: Unknown size) to /home/ubuntu/.cache/huggingface/datasets/ted_talks_iwsl_t2/pt-br/1.1.0/a05d6e4e2dfce9d4b52fb831beab23647c052434e38b69f839af4c33510034fc...\n"
     ]
    },
    {
     "data": {
      "application/vnd.jupyter.widget-view+json": {
       "model_id": "",
       "version_major": 2,
       "version_minor": 0
      },
      "text/plain": [
       "HBox(children=(FloatProgress(value=1.0, bar_style='info', max=1.0), HTML(value='')))"
      ]
     },
     "metadata": {},
     "output_type": "display_data"
    },
    {
     "name": "stdout",
     "output_type": "stream",
     "text": [
      "/home/ubuntu/wit/XML_releases/xml-20140120/ted_pt-br-20140120.zip\n"
     ]
    },
    {
     "data": {
      "application/vnd.jupyter.widget-view+json": {
       "model_id": "",
       "version_major": 2,
       "version_minor": 0
      },
      "text/plain": [
       "HBox(children=(FloatProgress(value=1.0, bar_style='info', max=1.0), HTML(value='')))"
      ]
     },
     "metadata": {},
     "output_type": "display_data"
    },
    {
     "name": "stdout",
     "output_type": "stream",
     "text": [
      "/home/ubuntu/wit/XML_releases/xml/ted_pt-br-20160408.zip\n"
     ]
    },
    {
     "data": {
      "application/vnd.jupyter.widget-view+json": {
       "model_id": "",
       "version_major": 2,
       "version_minor": 0
      },
      "text/plain": [
       "HBox(children=(FloatProgress(value=1.0, bar_style='info', max=1.0), HTML(value='')))"
      ]
     },
     "metadata": {},
     "output_type": "display_data"
    },
    {
     "name": "stdout",
     "output_type": "stream",
     "text": [
      "/home/ubuntu/wit/XML_releases/xml-20150616/ted_pt-br-20150530.zip\n",
      "Dataset ted_talks_iwsl_t2 downloaded and prepared to /home/ubuntu/.cache/huggingface/datasets/ted_talks_iwsl_t2/pt-br/1.1.0/a05d6e4e2dfce9d4b52fb831beab23647c052434e38b69f839af4c33510034fc. Subsequent calls will reuse this data.\n",
      "Downloading and preparing dataset ted_talks_iwsl_t2/sq (download: Unknown size, generated: Unknown size, post-processed: Unknown size, total: Unknown size) to /home/ubuntu/.cache/huggingface/datasets/ted_talks_iwsl_t2/sq/1.1.0/a05d6e4e2dfce9d4b52fb831beab23647c052434e38b69f839af4c33510034fc...\n"
     ]
    },
    {
     "data": {
      "application/vnd.jupyter.widget-view+json": {
       "model_id": "",
       "version_major": 2,
       "version_minor": 0
      },
      "text/plain": [
       "HBox(children=(FloatProgress(value=1.0, bar_style='info', max=1.0), HTML(value='')))"
      ]
     },
     "metadata": {},
     "output_type": "display_data"
    },
    {
     "name": "stdout",
     "output_type": "stream",
     "text": [
      "/home/ubuntu/wit/XML_releases/xml-20140120/ted_sq-20140120.zip\n"
     ]
    },
    {
     "data": {
      "application/vnd.jupyter.widget-view+json": {
       "model_id": "",
       "version_major": 2,
       "version_minor": 0
      },
      "text/plain": [
       "HBox(children=(FloatProgress(value=1.0, bar_style='info', max=1.0), HTML(value='')))"
      ]
     },
     "metadata": {},
     "output_type": "display_data"
    },
    {
     "name": "stdout",
     "output_type": "stream",
     "text": [
      "/home/ubuntu/wit/XML_releases/xml/ted_sq-20160408.zip\n"
     ]
    },
    {
     "data": {
      "application/vnd.jupyter.widget-view+json": {
       "model_id": "",
       "version_major": 2,
       "version_minor": 0
      },
      "text/plain": [
       "HBox(children=(FloatProgress(value=1.0, bar_style='info', max=1.0), HTML(value='')))"
      ]
     },
     "metadata": {},
     "output_type": "display_data"
    },
    {
     "name": "stdout",
     "output_type": "stream",
     "text": [
      "/home/ubuntu/wit/XML_releases/xml-20150616/ted_sq-20150530.zip\n",
      "Dataset ted_talks_iwsl_t2 downloaded and prepared to /home/ubuntu/.cache/huggingface/datasets/ted_talks_iwsl_t2/sq/1.1.0/a05d6e4e2dfce9d4b52fb831beab23647c052434e38b69f839af4c33510034fc. Subsequent calls will reuse this data.\n",
      "Downloading and preparing dataset ted_talks_iwsl_t2/af (download: Unknown size, generated: Unknown size, post-processed: Unknown size, total: Unknown size) to /home/ubuntu/.cache/huggingface/datasets/ted_talks_iwsl_t2/af/1.1.0/a05d6e4e2dfce9d4b52fb831beab23647c052434e38b69f839af4c33510034fc...\n"
     ]
    },
    {
     "data": {
      "application/vnd.jupyter.widget-view+json": {
       "model_id": "",
       "version_major": 2,
       "version_minor": 0
      },
      "text/plain": [
       "HBox(children=(FloatProgress(value=1.0, bar_style='info', max=1.0), HTML(value='')))"
      ]
     },
     "metadata": {},
     "output_type": "display_data"
    },
    {
     "name": "stdout",
     "output_type": "stream",
     "text": [
      "/home/ubuntu/wit/XML_releases/xml-20140120/ted_af-20140120.zip\n"
     ]
    },
    {
     "data": {
      "application/vnd.jupyter.widget-view+json": {
       "model_id": "",
       "version_major": 2,
       "version_minor": 0
      },
      "text/plain": [
       "HBox(children=(FloatProgress(value=1.0, bar_style='info', max=1.0), HTML(value='')))"
      ]
     },
     "metadata": {},
     "output_type": "display_data"
    },
    {
     "name": "stdout",
     "output_type": "stream",
     "text": [
      "/home/ubuntu/wit/XML_releases/xml/ted_af-20160408.zip\n"
     ]
    },
    {
     "data": {
      "application/vnd.jupyter.widget-view+json": {
       "model_id": "",
       "version_major": 2,
       "version_minor": 0
      },
      "text/plain": [
       "HBox(children=(FloatProgress(value=1.0, bar_style='info', max=1.0), HTML(value='')))"
      ]
     },
     "metadata": {},
     "output_type": "display_data"
    },
    {
     "name": "stdout",
     "output_type": "stream",
     "text": [
      "/home/ubuntu/wit/XML_releases/xml-20150616/ted_af-20150530.zip\n",
      "Dataset ted_talks_iwsl_t2 downloaded and prepared to /home/ubuntu/.cache/huggingface/datasets/ted_talks_iwsl_t2/af/1.1.0/a05d6e4e2dfce9d4b52fb831beab23647c052434e38b69f839af4c33510034fc. Subsequent calls will reuse this data.\n",
      "Downloading and preparing dataset ted_talks_iwsl_t2/km (download: Unknown size, generated: Unknown size, post-processed: Unknown size, total: Unknown size) to /home/ubuntu/.cache/huggingface/datasets/ted_talks_iwsl_t2/km/1.1.0/a05d6e4e2dfce9d4b52fb831beab23647c052434e38b69f839af4c33510034fc...\n"
     ]
    },
    {
     "data": {
      "application/vnd.jupyter.widget-view+json": {
       "model_id": "",
       "version_major": 2,
       "version_minor": 0
      },
      "text/plain": [
       "HBox(children=(FloatProgress(value=1.0, bar_style='info', max=1.0), HTML(value='')))"
      ]
     },
     "metadata": {},
     "output_type": "display_data"
    },
    {
     "name": "stdout",
     "output_type": "stream",
     "text": [
      "/home/ubuntu/wit/XML_releases/xml-20140120/ted_km-20140120.zip\n"
     ]
    },
    {
     "data": {
      "application/vnd.jupyter.widget-view+json": {
       "model_id": "",
       "version_major": 2,
       "version_minor": 0
      },
      "text/plain": [
       "HBox(children=(FloatProgress(value=1.0, bar_style='info', max=1.0), HTML(value='')))"
      ]
     },
     "metadata": {},
     "output_type": "display_data"
    },
    {
     "name": "stdout",
     "output_type": "stream",
     "text": [
      "/home/ubuntu/wit/XML_releases/xml/ted_km-20160408.zip\n"
     ]
    },
    {
     "data": {
      "application/vnd.jupyter.widget-view+json": {
       "model_id": "",
       "version_major": 2,
       "version_minor": 0
      },
      "text/plain": [
       "HBox(children=(FloatProgress(value=1.0, bar_style='info', max=1.0), HTML(value='')))"
      ]
     },
     "metadata": {},
     "output_type": "display_data"
    },
    {
     "name": "stdout",
     "output_type": "stream",
     "text": [
      "/home/ubuntu/wit/XML_releases/xml-20150616/ted_km-20150530.zip\n",
      "Dataset ted_talks_iwsl_t2 downloaded and prepared to /home/ubuntu/.cache/huggingface/datasets/ted_talks_iwsl_t2/km/1.1.0/a05d6e4e2dfce9d4b52fb831beab23647c052434e38b69f839af4c33510034fc. Subsequent calls will reuse this data.\n",
      "Downloading and preparing dataset ted_talks_iwsl_t2/en (download: Unknown size, generated: Unknown size, post-processed: Unknown size, total: Unknown size) to /home/ubuntu/.cache/huggingface/datasets/ted_talks_iwsl_t2/en/1.1.0/a05d6e4e2dfce9d4b52fb831beab23647c052434e38b69f839af4c33510034fc...\n"
     ]
    },
    {
     "data": {
      "application/vnd.jupyter.widget-view+json": {
       "model_id": "",
       "version_major": 2,
       "version_minor": 0
      },
      "text/plain": [
       "HBox(children=(FloatProgress(value=1.0, bar_style='info', max=1.0), HTML(value='')))"
      ]
     },
     "metadata": {},
     "output_type": "display_data"
    },
    {
     "name": "stdout",
     "output_type": "stream",
     "text": [
      "/home/ubuntu/wit/XML_releases/xml-20140120/ted_en-20140120.zip\n"
     ]
    },
    {
     "data": {
      "application/vnd.jupyter.widget-view+json": {
       "model_id": "",
       "version_major": 2,
       "version_minor": 0
      },
      "text/plain": [
       "HBox(children=(FloatProgress(value=1.0, bar_style='info', max=1.0), HTML(value='')))"
      ]
     },
     "metadata": {},
     "output_type": "display_data"
    },
    {
     "name": "stdout",
     "output_type": "stream",
     "text": [
      "/home/ubuntu/wit/XML_releases/xml/ted_en-20160408.zip\n"
     ]
    },
    {
     "data": {
      "application/vnd.jupyter.widget-view+json": {
       "model_id": "",
       "version_major": 2,
       "version_minor": 0
      },
      "text/plain": [
       "HBox(children=(FloatProgress(value=1.0, bar_style='info', max=1.0), HTML(value='')))"
      ]
     },
     "metadata": {},
     "output_type": "display_data"
    },
    {
     "name": "stdout",
     "output_type": "stream",
     "text": [
      "/home/ubuntu/wit/XML_releases/xml-20150616/ted_en-20150530.zip\n",
      "Dataset ted_talks_iwsl_t2 downloaded and prepared to /home/ubuntu/.cache/huggingface/datasets/ted_talks_iwsl_t2/en/1.1.0/a05d6e4e2dfce9d4b52fb831beab23647c052434e38b69f839af4c33510034fc. Subsequent calls will reuse this data.\n",
      "Downloading and preparing dataset ted_talks_iwsl_t2/tt (download: Unknown size, generated: Unknown size, post-processed: Unknown size, total: Unknown size) to /home/ubuntu/.cache/huggingface/datasets/ted_talks_iwsl_t2/tt/1.1.0/a05d6e4e2dfce9d4b52fb831beab23647c052434e38b69f839af4c33510034fc...\n"
     ]
    },
    {
     "data": {
      "application/vnd.jupyter.widget-view+json": {
       "model_id": "",
       "version_major": 2,
       "version_minor": 0
      },
      "text/plain": [
       "HBox(children=(FloatProgress(value=1.0, bar_style='info', max=1.0), HTML(value='')))"
      ]
     },
     "metadata": {},
     "output_type": "display_data"
    },
    {
     "name": "stdout",
     "output_type": "stream",
     "text": [
      "/home/ubuntu/wit/XML_releases/xml-20140120/ted_tt-20140120.zip\n",
      "File doesn't exist:: /home/ubuntu/wit/XML_releases/xml-20140120/ted_tt-20140120.zip\n"
     ]
    },
    {
     "data": {
      "application/vnd.jupyter.widget-view+json": {
       "model_id": "",
       "version_major": 2,
       "version_minor": 0
      },
      "text/plain": [
       "HBox(children=(FloatProgress(value=1.0, bar_style='info', max=1.0), HTML(value='')))"
      ]
     },
     "metadata": {},
     "output_type": "display_data"
    },
    {
     "name": "stdout",
     "output_type": "stream",
     "text": [
      "/home/ubuntu/wit/XML_releases/xml/ted_tt-20160408.zip\n"
     ]
    },
    {
     "data": {
      "application/vnd.jupyter.widget-view+json": {
       "model_id": "",
       "version_major": 2,
       "version_minor": 0
      },
      "text/plain": [
       "HBox(children=(FloatProgress(value=1.0, bar_style='info', max=1.0), HTML(value='')))"
      ]
     },
     "metadata": {},
     "output_type": "display_data"
    },
    {
     "name": "stdout",
     "output_type": "stream",
     "text": [
      "/home/ubuntu/wit/XML_releases/xml-20150616/ted_tt-20150530.zip\n",
      "File doesn't exist:: /home/ubuntu/wit/XML_releases/xml-20150616/ted_tt-20150530.zip\n",
      "Dataset ted_talks_iwsl_t2 downloaded and prepared to /home/ubuntu/.cache/huggingface/datasets/ted_talks_iwsl_t2/tt/1.1.0/a05d6e4e2dfce9d4b52fb831beab23647c052434e38b69f839af4c33510034fc. Subsequent calls will reuse this data.\n",
      "Downloading and preparing dataset ted_talks_iwsl_t2/ja (download: Unknown size, generated: Unknown size, post-processed: Unknown size, total: Unknown size) to /home/ubuntu/.cache/huggingface/datasets/ted_talks_iwsl_t2/ja/1.1.0/a05d6e4e2dfce9d4b52fb831beab23647c052434e38b69f839af4c33510034fc...\n"
     ]
    },
    {
     "data": {
      "application/vnd.jupyter.widget-view+json": {
       "model_id": "",
       "version_major": 2,
       "version_minor": 0
      },
      "text/plain": [
       "HBox(children=(FloatProgress(value=1.0, bar_style='info', max=1.0), HTML(value='')))"
      ]
     },
     "metadata": {},
     "output_type": "display_data"
    },
    {
     "name": "stdout",
     "output_type": "stream",
     "text": [
      "/home/ubuntu/wit/XML_releases/xml-20140120/ted_ja-20140120.zip\n"
     ]
    },
    {
     "data": {
      "application/vnd.jupyter.widget-view+json": {
       "model_id": "",
       "version_major": 2,
       "version_minor": 0
      },
      "text/plain": [
       "HBox(children=(FloatProgress(value=1.0, bar_style='info', max=1.0), HTML(value='')))"
      ]
     },
     "metadata": {},
     "output_type": "display_data"
    },
    {
     "name": "stdout",
     "output_type": "stream",
     "text": [
      "/home/ubuntu/wit/XML_releases/xml/ted_ja-20160408.zip\n"
     ]
    },
    {
     "data": {
      "application/vnd.jupyter.widget-view+json": {
       "model_id": "",
       "version_major": 2,
       "version_minor": 0
      },
      "text/plain": [
       "HBox(children=(FloatProgress(value=1.0, bar_style='info', max=1.0), HTML(value='')))"
      ]
     },
     "metadata": {},
     "output_type": "display_data"
    },
    {
     "name": "stdout",
     "output_type": "stream",
     "text": [
      "/home/ubuntu/wit/XML_releases/xml-20150616/ted_ja-20150530.zip\n",
      "Dataset ted_talks_iwsl_t2 downloaded and prepared to /home/ubuntu/.cache/huggingface/datasets/ted_talks_iwsl_t2/ja/1.1.0/a05d6e4e2dfce9d4b52fb831beab23647c052434e38b69f839af4c33510034fc. Subsequent calls will reuse this data.\n",
      "Downloading and preparing dataset ted_talks_iwsl_t2/inh (download: Unknown size, generated: Unknown size, post-processed: Unknown size, total: Unknown size) to /home/ubuntu/.cache/huggingface/datasets/ted_talks_iwsl_t2/inh/1.1.0/a05d6e4e2dfce9d4b52fb831beab23647c052434e38b69f839af4c33510034fc...\n"
     ]
    },
    {
     "data": {
      "application/vnd.jupyter.widget-view+json": {
       "model_id": "",
       "version_major": 2,
       "version_minor": 0
      },
      "text/plain": [
       "HBox(children=(FloatProgress(value=1.0, bar_style='info', max=1.0), HTML(value='')))"
      ]
     },
     "metadata": {},
     "output_type": "display_data"
    },
    {
     "name": "stdout",
     "output_type": "stream",
     "text": [
      "/home/ubuntu/wit/XML_releases/xml-20140120/ted_inh-20140120.zip\n"
     ]
    },
    {
     "data": {
      "application/vnd.jupyter.widget-view+json": {
       "model_id": "",
       "version_major": 2,
       "version_minor": 0
      },
      "text/plain": [
       "HBox(children=(FloatProgress(value=1.0, bar_style='info', max=1.0), HTML(value='')))"
      ]
     },
     "metadata": {},
     "output_type": "display_data"
    },
    {
     "name": "stdout",
     "output_type": "stream",
     "text": [
      "/home/ubuntu/wit/XML_releases/xml/ted_inh-20160408.zip\n"
     ]
    },
    {
     "data": {
      "application/vnd.jupyter.widget-view+json": {
       "model_id": "",
       "version_major": 2,
       "version_minor": 0
      },
      "text/plain": [
       "HBox(children=(FloatProgress(value=1.0, bar_style='info', max=1.0), HTML(value='')))"
      ]
     },
     "metadata": {},
     "output_type": "display_data"
    },
    {
     "name": "stdout",
     "output_type": "stream",
     "text": [
      "/home/ubuntu/wit/XML_releases/xml-20150616/ted_inh-20150530.zip\n",
      "Dataset ted_talks_iwsl_t2 downloaded and prepared to /home/ubuntu/.cache/huggingface/datasets/ted_talks_iwsl_t2/inh/1.1.0/a05d6e4e2dfce9d4b52fb831beab23647c052434e38b69f839af4c33510034fc. Subsequent calls will reuse this data.\n",
      "Downloading and preparing dataset ted_talks_iwsl_t2/mn (download: Unknown size, generated: Unknown size, post-processed: Unknown size, total: Unknown size) to /home/ubuntu/.cache/huggingface/datasets/ted_talks_iwsl_t2/mn/1.1.0/a05d6e4e2dfce9d4b52fb831beab23647c052434e38b69f839af4c33510034fc...\n"
     ]
    },
    {
     "data": {
      "application/vnd.jupyter.widget-view+json": {
       "model_id": "",
       "version_major": 2,
       "version_minor": 0
      },
      "text/plain": [
       "HBox(children=(FloatProgress(value=1.0, bar_style='info', max=1.0), HTML(value='')))"
      ]
     },
     "metadata": {},
     "output_type": "display_data"
    },
    {
     "name": "stdout",
     "output_type": "stream",
     "text": [
      "/home/ubuntu/wit/XML_releases/xml-20140120/ted_mn-20140120.zip\n"
     ]
    },
    {
     "data": {
      "application/vnd.jupyter.widget-view+json": {
       "model_id": "",
       "version_major": 2,
       "version_minor": 0
      },
      "text/plain": [
       "HBox(children=(FloatProgress(value=1.0, bar_style='info', max=1.0), HTML(value='')))"
      ]
     },
     "metadata": {},
     "output_type": "display_data"
    },
    {
     "name": "stdout",
     "output_type": "stream",
     "text": [
      "/home/ubuntu/wit/XML_releases/xml/ted_mn-20160408.zip\n"
     ]
    },
    {
     "data": {
      "application/vnd.jupyter.widget-view+json": {
       "model_id": "",
       "version_major": 2,
       "version_minor": 0
      },
      "text/plain": [
       "HBox(children=(FloatProgress(value=1.0, bar_style='info', max=1.0), HTML(value='')))"
      ]
     },
     "metadata": {},
     "output_type": "display_data"
    },
    {
     "name": "stdout",
     "output_type": "stream",
     "text": [
      "/home/ubuntu/wit/XML_releases/xml-20150616/ted_mn-20150530.zip\n",
      "Dataset ted_talks_iwsl_t2 downloaded and prepared to /home/ubuntu/.cache/huggingface/datasets/ted_talks_iwsl_t2/mn/1.1.0/a05d6e4e2dfce9d4b52fb831beab23647c052434e38b69f839af4c33510034fc. Subsequent calls will reuse this data.\n",
      "Downloading and preparing dataset ted_talks_iwsl_t2/eo (download: Unknown size, generated: Unknown size, post-processed: Unknown size, total: Unknown size) to /home/ubuntu/.cache/huggingface/datasets/ted_talks_iwsl_t2/eo/1.1.0/a05d6e4e2dfce9d4b52fb831beab23647c052434e38b69f839af4c33510034fc...\n"
     ]
    },
    {
     "data": {
      "application/vnd.jupyter.widget-view+json": {
       "model_id": "",
       "version_major": 2,
       "version_minor": 0
      },
      "text/plain": [
       "HBox(children=(FloatProgress(value=1.0, bar_style='info', max=1.0), HTML(value='')))"
      ]
     },
     "metadata": {},
     "output_type": "display_data"
    },
    {
     "name": "stdout",
     "output_type": "stream",
     "text": [
      "/home/ubuntu/wit/XML_releases/xml-20140120/ted_eo-20140120.zip\n"
     ]
    },
    {
     "data": {
      "application/vnd.jupyter.widget-view+json": {
       "model_id": "",
       "version_major": 2,
       "version_minor": 0
      },
      "text/plain": [
       "HBox(children=(FloatProgress(value=1.0, bar_style='info', max=1.0), HTML(value='')))"
      ]
     },
     "metadata": {},
     "output_type": "display_data"
    },
    {
     "name": "stdout",
     "output_type": "stream",
     "text": [
      "/home/ubuntu/wit/XML_releases/xml/ted_eo-20160408.zip\n"
     ]
    },
    {
     "data": {
      "application/vnd.jupyter.widget-view+json": {
       "model_id": "",
       "version_major": 2,
       "version_minor": 0
      },
      "text/plain": [
       "HBox(children=(FloatProgress(value=1.0, bar_style='info', max=1.0), HTML(value='')))"
      ]
     },
     "metadata": {},
     "output_type": "display_data"
    },
    {
     "name": "stdout",
     "output_type": "stream",
     "text": [
      "/home/ubuntu/wit/XML_releases/xml-20150616/ted_eo-20150530.zip\n",
      "Dataset ted_talks_iwsl_t2 downloaded and prepared to /home/ubuntu/.cache/huggingface/datasets/ted_talks_iwsl_t2/eo/1.1.0/a05d6e4e2dfce9d4b52fb831beab23647c052434e38b69f839af4c33510034fc. Subsequent calls will reuse this data.\n",
      "Downloading and preparing dataset ted_talks_iwsl_t2/ka (download: Unknown size, generated: Unknown size, post-processed: Unknown size, total: Unknown size) to /home/ubuntu/.cache/huggingface/datasets/ted_talks_iwsl_t2/ka/1.1.0/a05d6e4e2dfce9d4b52fb831beab23647c052434e38b69f839af4c33510034fc...\n"
     ]
    },
    {
     "data": {
      "application/vnd.jupyter.widget-view+json": {
       "model_id": "",
       "version_major": 2,
       "version_minor": 0
      },
      "text/plain": [
       "HBox(children=(FloatProgress(value=1.0, bar_style='info', max=1.0), HTML(value='')))"
      ]
     },
     "metadata": {},
     "output_type": "display_data"
    },
    {
     "name": "stdout",
     "output_type": "stream",
     "text": [
      "/home/ubuntu/wit/XML_releases/xml-20140120/ted_ka-20140120.zip\n"
     ]
    },
    {
     "data": {
      "application/vnd.jupyter.widget-view+json": {
       "model_id": "",
       "version_major": 2,
       "version_minor": 0
      },
      "text/plain": [
       "HBox(children=(FloatProgress(value=1.0, bar_style='info', max=1.0), HTML(value='')))"
      ]
     },
     "metadata": {},
     "output_type": "display_data"
    },
    {
     "name": "stdout",
     "output_type": "stream",
     "text": [
      "/home/ubuntu/wit/XML_releases/xml/ted_ka-20160408.zip\n"
     ]
    },
    {
     "data": {
      "application/vnd.jupyter.widget-view+json": {
       "model_id": "",
       "version_major": 2,
       "version_minor": 0
      },
      "text/plain": [
       "HBox(children=(FloatProgress(value=1.0, bar_style='info', max=1.0), HTML(value='')))"
      ]
     },
     "metadata": {},
     "output_type": "display_data"
    },
    {
     "name": "stdout",
     "output_type": "stream",
     "text": [
      "/home/ubuntu/wit/XML_releases/xml-20150616/ted_ka-20150530.zip\n",
      "Dataset ted_talks_iwsl_t2 downloaded and prepared to /home/ubuntu/.cache/huggingface/datasets/ted_talks_iwsl_t2/ka/1.1.0/a05d6e4e2dfce9d4b52fb831beab23647c052434e38b69f839af4c33510034fc. Subsequent calls will reuse this data.\n",
      "Downloading and preparing dataset ted_talks_iwsl_t2/nb (download: Unknown size, generated: Unknown size, post-processed: Unknown size, total: Unknown size) to /home/ubuntu/.cache/huggingface/datasets/ted_talks_iwsl_t2/nb/1.1.0/a05d6e4e2dfce9d4b52fb831beab23647c052434e38b69f839af4c33510034fc...\n"
     ]
    },
    {
     "data": {
      "application/vnd.jupyter.widget-view+json": {
       "model_id": "",
       "version_major": 2,
       "version_minor": 0
      },
      "text/plain": [
       "HBox(children=(FloatProgress(value=1.0, bar_style='info', max=1.0), HTML(value='')))"
      ]
     },
     "metadata": {},
     "output_type": "display_data"
    },
    {
     "name": "stdout",
     "output_type": "stream",
     "text": [
      "/home/ubuntu/wit/XML_releases/xml-20140120/ted_nb-20140120.zip\n"
     ]
    },
    {
     "data": {
      "application/vnd.jupyter.widget-view+json": {
       "model_id": "",
       "version_major": 2,
       "version_minor": 0
      },
      "text/plain": [
       "HBox(children=(FloatProgress(value=1.0, bar_style='info', max=1.0), HTML(value='')))"
      ]
     },
     "metadata": {},
     "output_type": "display_data"
    },
    {
     "name": "stdout",
     "output_type": "stream",
     "text": [
      "/home/ubuntu/wit/XML_releases/xml/ted_nb-20160408.zip\n"
     ]
    },
    {
     "data": {
      "application/vnd.jupyter.widget-view+json": {
       "model_id": "",
       "version_major": 2,
       "version_minor": 0
      },
      "text/plain": [
       "HBox(children=(FloatProgress(value=1.0, bar_style='info', max=1.0), HTML(value='')))"
      ]
     },
     "metadata": {},
     "output_type": "display_data"
    },
    {
     "name": "stdout",
     "output_type": "stream",
     "text": [
      "/home/ubuntu/wit/XML_releases/xml-20150616/ted_nb-20150530.zip\n",
      "Dataset ted_talks_iwsl_t2 downloaded and prepared to /home/ubuntu/.cache/huggingface/datasets/ted_talks_iwsl_t2/nb/1.1.0/a05d6e4e2dfce9d4b52fb831beab23647c052434e38b69f839af4c33510034fc. Subsequent calls will reuse this data.\n",
      "Downloading and preparing dataset ted_talks_iwsl_t2/fil (download: Unknown size, generated: Unknown size, post-processed: Unknown size, total: Unknown size) to /home/ubuntu/.cache/huggingface/datasets/ted_talks_iwsl_t2/fil/1.1.0/a05d6e4e2dfce9d4b52fb831beab23647c052434e38b69f839af4c33510034fc...\n"
     ]
    },
    {
     "data": {
      "application/vnd.jupyter.widget-view+json": {
       "model_id": "",
       "version_major": 2,
       "version_minor": 0
      },
      "text/plain": [
       "HBox(children=(FloatProgress(value=1.0, bar_style='info', max=1.0), HTML(value='')))"
      ]
     },
     "metadata": {},
     "output_type": "display_data"
    },
    {
     "name": "stdout",
     "output_type": "stream",
     "text": [
      "/home/ubuntu/wit/XML_releases/xml-20140120/ted_fil-20140120.zip\n"
     ]
    },
    {
     "data": {
      "application/vnd.jupyter.widget-view+json": {
       "model_id": "",
       "version_major": 2,
       "version_minor": 0
      },
      "text/plain": [
       "HBox(children=(FloatProgress(value=1.0, bar_style='info', max=1.0), HTML(value='')))"
      ]
     },
     "metadata": {},
     "output_type": "display_data"
    },
    {
     "name": "stdout",
     "output_type": "stream",
     "text": [
      "/home/ubuntu/wit/XML_releases/xml/ted_fil-20160408.zip\n"
     ]
    },
    {
     "data": {
      "application/vnd.jupyter.widget-view+json": {
       "model_id": "",
       "version_major": 2,
       "version_minor": 0
      },
      "text/plain": [
       "HBox(children=(FloatProgress(value=1.0, bar_style='info', max=1.0), HTML(value='')))"
      ]
     },
     "metadata": {},
     "output_type": "display_data"
    },
    {
     "name": "stdout",
     "output_type": "stream",
     "text": [
      "/home/ubuntu/wit/XML_releases/xml-20150616/ted_fil-20150530.zip\n",
      "Dataset ted_talks_iwsl_t2 downloaded and prepared to /home/ubuntu/.cache/huggingface/datasets/ted_talks_iwsl_t2/fil/1.1.0/a05d6e4e2dfce9d4b52fb831beab23647c052434e38b69f839af4c33510034fc. Subsequent calls will reuse this data.\n",
      "Downloading and preparing dataset ted_talks_iwsl_t2/uz (download: Unknown size, generated: Unknown size, post-processed: Unknown size, total: Unknown size) to /home/ubuntu/.cache/huggingface/datasets/ted_talks_iwsl_t2/uz/1.1.0/a05d6e4e2dfce9d4b52fb831beab23647c052434e38b69f839af4c33510034fc...\n"
     ]
    },
    {
     "data": {
      "application/vnd.jupyter.widget-view+json": {
       "model_id": "",
       "version_major": 2,
       "version_minor": 0
      },
      "text/plain": [
       "HBox(children=(FloatProgress(value=1.0, bar_style='info', max=1.0), HTML(value='')))"
      ]
     },
     "metadata": {},
     "output_type": "display_data"
    },
    {
     "name": "stdout",
     "output_type": "stream",
     "text": [
      "/home/ubuntu/wit/XML_releases/xml-20140120/ted_uz-20140120.zip\n"
     ]
    },
    {
     "data": {
      "application/vnd.jupyter.widget-view+json": {
       "model_id": "",
       "version_major": 2,
       "version_minor": 0
      },
      "text/plain": [
       "HBox(children=(FloatProgress(value=1.0, bar_style='info', max=1.0), HTML(value='')))"
      ]
     },
     "metadata": {},
     "output_type": "display_data"
    },
    {
     "name": "stdout",
     "output_type": "stream",
     "text": [
      "/home/ubuntu/wit/XML_releases/xml/ted_uz-20160408.zip\n"
     ]
    },
    {
     "data": {
      "application/vnd.jupyter.widget-view+json": {
       "model_id": "",
       "version_major": 2,
       "version_minor": 0
      },
      "text/plain": [
       "HBox(children=(FloatProgress(value=1.0, bar_style='info', max=1.0), HTML(value='')))"
      ]
     },
     "metadata": {},
     "output_type": "display_data"
    },
    {
     "name": "stdout",
     "output_type": "stream",
     "text": [
      "/home/ubuntu/wit/XML_releases/xml-20150616/ted_uz-20150530.zip\n",
      "Dataset ted_talks_iwsl_t2 downloaded and prepared to /home/ubuntu/.cache/huggingface/datasets/ted_talks_iwsl_t2/uz/1.1.0/a05d6e4e2dfce9d4b52fb831beab23647c052434e38b69f839af4c33510034fc. Subsequent calls will reuse this data.\n",
      "Downloading and preparing dataset ted_talks_iwsl_t2/fi (download: Unknown size, generated: Unknown size, post-processed: Unknown size, total: Unknown size) to /home/ubuntu/.cache/huggingface/datasets/ted_talks_iwsl_t2/fi/1.1.0/a05d6e4e2dfce9d4b52fb831beab23647c052434e38b69f839af4c33510034fc...\n"
     ]
    },
    {
     "data": {
      "application/vnd.jupyter.widget-view+json": {
       "model_id": "",
       "version_major": 2,
       "version_minor": 0
      },
      "text/plain": [
       "HBox(children=(FloatProgress(value=1.0, bar_style='info', max=1.0), HTML(value='')))"
      ]
     },
     "metadata": {},
     "output_type": "display_data"
    },
    {
     "name": "stdout",
     "output_type": "stream",
     "text": [
      "/home/ubuntu/wit/XML_releases/xml-20140120/ted_fi-20140120.zip\n"
     ]
    },
    {
     "data": {
      "application/vnd.jupyter.widget-view+json": {
       "model_id": "",
       "version_major": 2,
       "version_minor": 0
      },
      "text/plain": [
       "HBox(children=(FloatProgress(value=1.0, bar_style='info', max=1.0), HTML(value='')))"
      ]
     },
     "metadata": {},
     "output_type": "display_data"
    },
    {
     "name": "stdout",
     "output_type": "stream",
     "text": [
      "/home/ubuntu/wit/XML_releases/xml/ted_fi-20160408.zip\n"
     ]
    },
    {
     "data": {
      "application/vnd.jupyter.widget-view+json": {
       "model_id": "",
       "version_major": 2,
       "version_minor": 0
      },
      "text/plain": [
       "HBox(children=(FloatProgress(value=1.0, bar_style='info', max=1.0), HTML(value='')))"
      ]
     },
     "metadata": {},
     "output_type": "display_data"
    },
    {
     "name": "stdout",
     "output_type": "stream",
     "text": [
      "/home/ubuntu/wit/XML_releases/xml-20150616/ted_fi-20150530.zip\n",
      "Dataset ted_talks_iwsl_t2 downloaded and prepared to /home/ubuntu/.cache/huggingface/datasets/ted_talks_iwsl_t2/fi/1.1.0/a05d6e4e2dfce9d4b52fb831beab23647c052434e38b69f839af4c33510034fc. Subsequent calls will reuse this data.\n",
      "Downloading and preparing dataset ted_talks_iwsl_t2/tl (download: Unknown size, generated: Unknown size, post-processed: Unknown size, total: Unknown size) to /home/ubuntu/.cache/huggingface/datasets/ted_talks_iwsl_t2/tl/1.1.0/a05d6e4e2dfce9d4b52fb831beab23647c052434e38b69f839af4c33510034fc...\n"
     ]
    },
    {
     "data": {
      "application/vnd.jupyter.widget-view+json": {
       "model_id": "",
       "version_major": 2,
       "version_minor": 0
      },
      "text/plain": [
       "HBox(children=(FloatProgress(value=1.0, bar_style='info', max=1.0), HTML(value='')))"
      ]
     },
     "metadata": {},
     "output_type": "display_data"
    },
    {
     "name": "stdout",
     "output_type": "stream",
     "text": [
      "/home/ubuntu/wit/XML_releases/xml-20140120/ted_tl-20140120.zip\n"
     ]
    },
    {
     "data": {
      "application/vnd.jupyter.widget-view+json": {
       "model_id": "",
       "version_major": 2,
       "version_minor": 0
      },
      "text/plain": [
       "HBox(children=(FloatProgress(value=1.0, bar_style='info', max=1.0), HTML(value='')))"
      ]
     },
     "metadata": {},
     "output_type": "display_data"
    },
    {
     "name": "stdout",
     "output_type": "stream",
     "text": [
      "/home/ubuntu/wit/XML_releases/xml/ted_tl-20160408.zip\n"
     ]
    },
    {
     "data": {
      "application/vnd.jupyter.widget-view+json": {
       "model_id": "",
       "version_major": 2,
       "version_minor": 0
      },
      "text/plain": [
       "HBox(children=(FloatProgress(value=1.0, bar_style='info', max=1.0), HTML(value='')))"
      ]
     },
     "metadata": {},
     "output_type": "display_data"
    },
    {
     "name": "stdout",
     "output_type": "stream",
     "text": [
      "/home/ubuntu/wit/XML_releases/xml-20150616/ted_tl-20150530.zip\n",
      "Dataset ted_talks_iwsl_t2 downloaded and prepared to /home/ubuntu/.cache/huggingface/datasets/ted_talks_iwsl_t2/tl/1.1.0/a05d6e4e2dfce9d4b52fb831beab23647c052434e38b69f839af4c33510034fc. Subsequent calls will reuse this data.\n",
      "Downloading and preparing dataset ted_talks_iwsl_t2/el (download: Unknown size, generated: Unknown size, post-processed: Unknown size, total: Unknown size) to /home/ubuntu/.cache/huggingface/datasets/ted_talks_iwsl_t2/el/1.1.0/a05d6e4e2dfce9d4b52fb831beab23647c052434e38b69f839af4c33510034fc...\n"
     ]
    },
    {
     "data": {
      "application/vnd.jupyter.widget-view+json": {
       "model_id": "",
       "version_major": 2,
       "version_minor": 0
      },
      "text/plain": [
       "HBox(children=(FloatProgress(value=1.0, bar_style='info', max=1.0), HTML(value='')))"
      ]
     },
     "metadata": {},
     "output_type": "display_data"
    },
    {
     "name": "stdout",
     "output_type": "stream",
     "text": [
      "/home/ubuntu/wit/XML_releases/xml-20140120/ted_el-20140120.zip\n"
     ]
    },
    {
     "data": {
      "application/vnd.jupyter.widget-view+json": {
       "model_id": "",
       "version_major": 2,
       "version_minor": 0
      },
      "text/plain": [
       "HBox(children=(FloatProgress(value=1.0, bar_style='info', max=1.0), HTML(value='')))"
      ]
     },
     "metadata": {},
     "output_type": "display_data"
    },
    {
     "name": "stdout",
     "output_type": "stream",
     "text": [
      "/home/ubuntu/wit/XML_releases/xml/ted_el-20160408.zip\n"
     ]
    },
    {
     "data": {
      "application/vnd.jupyter.widget-view+json": {
       "model_id": "",
       "version_major": 2,
       "version_minor": 0
      },
      "text/plain": [
       "HBox(children=(FloatProgress(value=1.0, bar_style='info', max=1.0), HTML(value='')))"
      ]
     },
     "metadata": {},
     "output_type": "display_data"
    },
    {
     "name": "stdout",
     "output_type": "stream",
     "text": [
      "/home/ubuntu/wit/XML_releases/xml-20150616/ted_el-20150530.zip\n",
      "Dataset ted_talks_iwsl_t2 downloaded and prepared to /home/ubuntu/.cache/huggingface/datasets/ted_talks_iwsl_t2/el/1.1.0/a05d6e4e2dfce9d4b52fb831beab23647c052434e38b69f839af4c33510034fc. Subsequent calls will reuse this data.\n",
      "Downloading and preparing dataset ted_talks_iwsl_t2/tg (download: Unknown size, generated: Unknown size, post-processed: Unknown size, total: Unknown size) to /home/ubuntu/.cache/huggingface/datasets/ted_talks_iwsl_t2/tg/1.1.0/a05d6e4e2dfce9d4b52fb831beab23647c052434e38b69f839af4c33510034fc...\n"
     ]
    },
    {
     "data": {
      "application/vnd.jupyter.widget-view+json": {
       "model_id": "",
       "version_major": 2,
       "version_minor": 0
      },
      "text/plain": [
       "HBox(children=(FloatProgress(value=1.0, bar_style='info', max=1.0), HTML(value='')))"
      ]
     },
     "metadata": {},
     "output_type": "display_data"
    },
    {
     "name": "stdout",
     "output_type": "stream",
     "text": [
      "/home/ubuntu/wit/XML_releases/xml-20140120/ted_tg-20140120.zip\n"
     ]
    },
    {
     "data": {
      "application/vnd.jupyter.widget-view+json": {
       "model_id": "",
       "version_major": 2,
       "version_minor": 0
      },
      "text/plain": [
       "HBox(children=(FloatProgress(value=1.0, bar_style='info', max=1.0), HTML(value='')))"
      ]
     },
     "metadata": {},
     "output_type": "display_data"
    },
    {
     "name": "stdout",
     "output_type": "stream",
     "text": [
      "/home/ubuntu/wit/XML_releases/xml/ted_tg-20160408.zip\n"
     ]
    },
    {
     "data": {
      "application/vnd.jupyter.widget-view+json": {
       "model_id": "",
       "version_major": 2,
       "version_minor": 0
      },
      "text/plain": [
       "HBox(children=(FloatProgress(value=1.0, bar_style='info', max=1.0), HTML(value='')))"
      ]
     },
     "metadata": {},
     "output_type": "display_data"
    },
    {
     "name": "stdout",
     "output_type": "stream",
     "text": [
      "/home/ubuntu/wit/XML_releases/xml-20150616/ted_tg-20150530.zip\n",
      "Dataset ted_talks_iwsl_t2 downloaded and prepared to /home/ubuntu/.cache/huggingface/datasets/ted_talks_iwsl_t2/tg/1.1.0/a05d6e4e2dfce9d4b52fb831beab23647c052434e38b69f839af4c33510034fc. Subsequent calls will reuse this data.\n",
      "Downloading and preparing dataset ted_talks_iwsl_t2/bn (download: Unknown size, generated: Unknown size, post-processed: Unknown size, total: Unknown size) to /home/ubuntu/.cache/huggingface/datasets/ted_talks_iwsl_t2/bn/1.1.0/a05d6e4e2dfce9d4b52fb831beab23647c052434e38b69f839af4c33510034fc...\n"
     ]
    },
    {
     "data": {
      "application/vnd.jupyter.widget-view+json": {
       "model_id": "",
       "version_major": 2,
       "version_minor": 0
      },
      "text/plain": [
       "HBox(children=(FloatProgress(value=1.0, bar_style='info', max=1.0), HTML(value='')))"
      ]
     },
     "metadata": {},
     "output_type": "display_data"
    },
    {
     "name": "stdout",
     "output_type": "stream",
     "text": [
      "/home/ubuntu/wit/XML_releases/xml-20140120/ted_bn-20140120.zip\n"
     ]
    },
    {
     "data": {
      "application/vnd.jupyter.widget-view+json": {
       "model_id": "",
       "version_major": 2,
       "version_minor": 0
      },
      "text/plain": [
       "HBox(children=(FloatProgress(value=1.0, bar_style='info', max=1.0), HTML(value='')))"
      ]
     },
     "metadata": {},
     "output_type": "display_data"
    },
    {
     "name": "stdout",
     "output_type": "stream",
     "text": [
      "/home/ubuntu/wit/XML_releases/xml/ted_bn-20160408.zip\n"
     ]
    },
    {
     "data": {
      "application/vnd.jupyter.widget-view+json": {
       "model_id": "",
       "version_major": 2,
       "version_minor": 0
      },
      "text/plain": [
       "HBox(children=(FloatProgress(value=1.0, bar_style='info', max=1.0), HTML(value='')))"
      ]
     },
     "metadata": {},
     "output_type": "display_data"
    },
    {
     "name": "stdout",
     "output_type": "stream",
     "text": [
      "/home/ubuntu/wit/XML_releases/xml-20150616/ted_bn-20150530.zip\n",
      "Dataset ted_talks_iwsl_t2 downloaded and prepared to /home/ubuntu/.cache/huggingface/datasets/ted_talks_iwsl_t2/bn/1.1.0/a05d6e4e2dfce9d4b52fb831beab23647c052434e38b69f839af4c33510034fc. Subsequent calls will reuse this data.\n",
      "Downloading and preparing dataset ted_talks_iwsl_t2/si (download: Unknown size, generated: Unknown size, post-processed: Unknown size, total: Unknown size) to /home/ubuntu/.cache/huggingface/datasets/ted_talks_iwsl_t2/si/1.1.0/a05d6e4e2dfce9d4b52fb831beab23647c052434e38b69f839af4c33510034fc...\n"
     ]
    },
    {
     "data": {
      "application/vnd.jupyter.widget-view+json": {
       "model_id": "",
       "version_major": 2,
       "version_minor": 0
      },
      "text/plain": [
       "HBox(children=(FloatProgress(value=1.0, bar_style='info', max=1.0), HTML(value='')))"
      ]
     },
     "metadata": {},
     "output_type": "display_data"
    },
    {
     "name": "stdout",
     "output_type": "stream",
     "text": [
      "/home/ubuntu/wit/XML_releases/xml-20140120/ted_si-20140120.zip\n"
     ]
    },
    {
     "data": {
      "application/vnd.jupyter.widget-view+json": {
       "model_id": "",
       "version_major": 2,
       "version_minor": 0
      },
      "text/plain": [
       "HBox(children=(FloatProgress(value=1.0, bar_style='info', max=1.0), HTML(value='')))"
      ]
     },
     "metadata": {},
     "output_type": "display_data"
    },
    {
     "name": "stdout",
     "output_type": "stream",
     "text": [
      "/home/ubuntu/wit/XML_releases/xml/ted_si-20160408.zip\n"
     ]
    },
    {
     "data": {
      "application/vnd.jupyter.widget-view+json": {
       "model_id": "",
       "version_major": 2,
       "version_minor": 0
      },
      "text/plain": [
       "HBox(children=(FloatProgress(value=1.0, bar_style='info', max=1.0), HTML(value='')))"
      ]
     },
     "metadata": {},
     "output_type": "display_data"
    },
    {
     "name": "stdout",
     "output_type": "stream",
     "text": [
      "/home/ubuntu/wit/XML_releases/xml-20150616/ted_si-20150530.zip\n",
      "Dataset ted_talks_iwsl_t2 downloaded and prepared to /home/ubuntu/.cache/huggingface/datasets/ted_talks_iwsl_t2/si/1.1.0/a05d6e4e2dfce9d4b52fb831beab23647c052434e38b69f839af4c33510034fc. Subsequent calls will reuse this data.\n",
      "Downloading and preparing dataset ted_talks_iwsl_t2/gu (download: Unknown size, generated: Unknown size, post-processed: Unknown size, total: Unknown size) to /home/ubuntu/.cache/huggingface/datasets/ted_talks_iwsl_t2/gu/1.1.0/a05d6e4e2dfce9d4b52fb831beab23647c052434e38b69f839af4c33510034fc...\n"
     ]
    },
    {
     "data": {
      "application/vnd.jupyter.widget-view+json": {
       "model_id": "",
       "version_major": 2,
       "version_minor": 0
      },
      "text/plain": [
       "HBox(children=(FloatProgress(value=1.0, bar_style='info', max=1.0), HTML(value='')))"
      ]
     },
     "metadata": {},
     "output_type": "display_data"
    },
    {
     "name": "stdout",
     "output_type": "stream",
     "text": [
      "/home/ubuntu/wit/XML_releases/xml-20140120/ted_gu-20140120.zip\n"
     ]
    },
    {
     "data": {
      "application/vnd.jupyter.widget-view+json": {
       "model_id": "",
       "version_major": 2,
       "version_minor": 0
      },
      "text/plain": [
       "HBox(children=(FloatProgress(value=1.0, bar_style='info', max=1.0), HTML(value='')))"
      ]
     },
     "metadata": {},
     "output_type": "display_data"
    },
    {
     "name": "stdout",
     "output_type": "stream",
     "text": [
      "/home/ubuntu/wit/XML_releases/xml/ted_gu-20160408.zip\n"
     ]
    },
    {
     "data": {
      "application/vnd.jupyter.widget-view+json": {
       "model_id": "",
       "version_major": 2,
       "version_minor": 0
      },
      "text/plain": [
       "HBox(children=(FloatProgress(value=1.0, bar_style='info', max=1.0), HTML(value='')))"
      ]
     },
     "metadata": {},
     "output_type": "display_data"
    },
    {
     "name": "stdout",
     "output_type": "stream",
     "text": [
      "/home/ubuntu/wit/XML_releases/xml-20150616/ted_gu-20150530.zip\n",
      "Dataset ted_talks_iwsl_t2 downloaded and prepared to /home/ubuntu/.cache/huggingface/datasets/ted_talks_iwsl_t2/gu/1.1.0/a05d6e4e2dfce9d4b52fb831beab23647c052434e38b69f839af4c33510034fc. Subsequent calls will reuse this data.\n",
      "Downloading and preparing dataset ted_talks_iwsl_t2/sk (download: Unknown size, generated: Unknown size, post-processed: Unknown size, total: Unknown size) to /home/ubuntu/.cache/huggingface/datasets/ted_talks_iwsl_t2/sk/1.1.0/a05d6e4e2dfce9d4b52fb831beab23647c052434e38b69f839af4c33510034fc...\n"
     ]
    },
    {
     "data": {
      "application/vnd.jupyter.widget-view+json": {
       "model_id": "",
       "version_major": 2,
       "version_minor": 0
      },
      "text/plain": [
       "HBox(children=(FloatProgress(value=1.0, bar_style='info', max=1.0), HTML(value='')))"
      ]
     },
     "metadata": {},
     "output_type": "display_data"
    },
    {
     "name": "stdout",
     "output_type": "stream",
     "text": [
      "/home/ubuntu/wit/XML_releases/xml-20140120/ted_sk-20140120.zip\n"
     ]
    },
    {
     "data": {
      "application/vnd.jupyter.widget-view+json": {
       "model_id": "",
       "version_major": 2,
       "version_minor": 0
      },
      "text/plain": [
       "HBox(children=(FloatProgress(value=1.0, bar_style='info', max=1.0), HTML(value='')))"
      ]
     },
     "metadata": {},
     "output_type": "display_data"
    },
    {
     "name": "stdout",
     "output_type": "stream",
     "text": [
      "/home/ubuntu/wit/XML_releases/xml/ted_sk-20160408.zip\n"
     ]
    },
    {
     "data": {
      "application/vnd.jupyter.widget-view+json": {
       "model_id": "",
       "version_major": 2,
       "version_minor": 0
      },
      "text/plain": [
       "HBox(children=(FloatProgress(value=1.0, bar_style='info', max=1.0), HTML(value='')))"
      ]
     },
     "metadata": {},
     "output_type": "display_data"
    },
    {
     "name": "stdout",
     "output_type": "stream",
     "text": [
      "/home/ubuntu/wit/XML_releases/xml-20150616/ted_sk-20150530.zip\n",
      "Dataset ted_talks_iwsl_t2 downloaded and prepared to /home/ubuntu/.cache/huggingface/datasets/ted_talks_iwsl_t2/sk/1.1.0/a05d6e4e2dfce9d4b52fb831beab23647c052434e38b69f839af4c33510034fc. Subsequent calls will reuse this data.\n",
      "Downloading and preparing dataset ted_talks_iwsl_t2/kn (download: Unknown size, generated: Unknown size, post-processed: Unknown size, total: Unknown size) to /home/ubuntu/.cache/huggingface/datasets/ted_talks_iwsl_t2/kn/1.1.0/a05d6e4e2dfce9d4b52fb831beab23647c052434e38b69f839af4c33510034fc...\n"
     ]
    },
    {
     "data": {
      "application/vnd.jupyter.widget-view+json": {
       "model_id": "",
       "version_major": 2,
       "version_minor": 0
      },
      "text/plain": [
       "HBox(children=(FloatProgress(value=1.0, bar_style='info', max=1.0), HTML(value='')))"
      ]
     },
     "metadata": {},
     "output_type": "display_data"
    },
    {
     "name": "stdout",
     "output_type": "stream",
     "text": [
      "/home/ubuntu/wit/XML_releases/xml-20140120/ted_kn-20140120.zip\n"
     ]
    },
    {
     "data": {
      "application/vnd.jupyter.widget-view+json": {
       "model_id": "",
       "version_major": 2,
       "version_minor": 0
      },
      "text/plain": [
       "HBox(children=(FloatProgress(value=1.0, bar_style='info', max=1.0), HTML(value='')))"
      ]
     },
     "metadata": {},
     "output_type": "display_data"
    },
    {
     "name": "stdout",
     "output_type": "stream",
     "text": [
      "/home/ubuntu/wit/XML_releases/xml/ted_kn-20160408.zip\n"
     ]
    },
    {
     "data": {
      "application/vnd.jupyter.widget-view+json": {
       "model_id": "",
       "version_major": 2,
       "version_minor": 0
      },
      "text/plain": [
       "HBox(children=(FloatProgress(value=1.0, bar_style='info', max=1.0), HTML(value='')))"
      ]
     },
     "metadata": {},
     "output_type": "display_data"
    },
    {
     "name": "stdout",
     "output_type": "stream",
     "text": [
      "/home/ubuntu/wit/XML_releases/xml-20150616/ted_kn-20150530.zip\n",
      "Dataset ted_talks_iwsl_t2 downloaded and prepared to /home/ubuntu/.cache/huggingface/datasets/ted_talks_iwsl_t2/kn/1.1.0/a05d6e4e2dfce9d4b52fb831beab23647c052434e38b69f839af4c33510034fc. Subsequent calls will reuse this data.\n",
      "Downloading and preparing dataset ted_talks_iwsl_t2/ar (download: Unknown size, generated: Unknown size, post-processed: Unknown size, total: Unknown size) to /home/ubuntu/.cache/huggingface/datasets/ted_talks_iwsl_t2/ar/1.1.0/a05d6e4e2dfce9d4b52fb831beab23647c052434e38b69f839af4c33510034fc...\n"
     ]
    },
    {
     "data": {
      "application/vnd.jupyter.widget-view+json": {
       "model_id": "",
       "version_major": 2,
       "version_minor": 0
      },
      "text/plain": [
       "HBox(children=(FloatProgress(value=1.0, bar_style='info', max=1.0), HTML(value='')))"
      ]
     },
     "metadata": {},
     "output_type": "display_data"
    },
    {
     "name": "stdout",
     "output_type": "stream",
     "text": [
      "/home/ubuntu/wit/XML_releases/xml-20140120/ted_ar-20140120.zip\n"
     ]
    },
    {
     "data": {
      "application/vnd.jupyter.widget-view+json": {
       "model_id": "",
       "version_major": 2,
       "version_minor": 0
      },
      "text/plain": [
       "HBox(children=(FloatProgress(value=1.0, bar_style='info', max=1.0), HTML(value='')))"
      ]
     },
     "metadata": {},
     "output_type": "display_data"
    },
    {
     "name": "stdout",
     "output_type": "stream",
     "text": [
      "/home/ubuntu/wit/XML_releases/xml/ted_ar-20160408.zip\n"
     ]
    },
    {
     "data": {
      "application/vnd.jupyter.widget-view+json": {
       "model_id": "",
       "version_major": 2,
       "version_minor": 0
      },
      "text/plain": [
       "HBox(children=(FloatProgress(value=1.0, bar_style='info', max=1.0), HTML(value='')))"
      ]
     },
     "metadata": {},
     "output_type": "display_data"
    },
    {
     "name": "stdout",
     "output_type": "stream",
     "text": [
      "/home/ubuntu/wit/XML_releases/xml-20150616/ted_ar-20150530.zip\n",
      "Dataset ted_talks_iwsl_t2 downloaded and prepared to /home/ubuntu/.cache/huggingface/datasets/ted_talks_iwsl_t2/ar/1.1.0/a05d6e4e2dfce9d4b52fb831beab23647c052434e38b69f839af4c33510034fc. Subsequent calls will reuse this data.\n",
      "Downloading and preparing dataset ted_talks_iwsl_t2/hup (download: Unknown size, generated: Unknown size, post-processed: Unknown size, total: Unknown size) to /home/ubuntu/.cache/huggingface/datasets/ted_talks_iwsl_t2/hup/1.1.0/a05d6e4e2dfce9d4b52fb831beab23647c052434e38b69f839af4c33510034fc...\n"
     ]
    },
    {
     "data": {
      "application/vnd.jupyter.widget-view+json": {
       "model_id": "",
       "version_major": 2,
       "version_minor": 0
      },
      "text/plain": [
       "HBox(children=(FloatProgress(value=1.0, bar_style='info', max=1.0), HTML(value='')))"
      ]
     },
     "metadata": {},
     "output_type": "display_data"
    },
    {
     "name": "stdout",
     "output_type": "stream",
     "text": [
      "/home/ubuntu/wit/XML_releases/xml-20140120/ted_hup-20140120.zip\n",
      "File doesn't exist:: /home/ubuntu/wit/XML_releases/xml-20140120/ted_hup-20140120.zip\n"
     ]
    },
    {
     "data": {
      "application/vnd.jupyter.widget-view+json": {
       "model_id": "",
       "version_major": 2,
       "version_minor": 0
      },
      "text/plain": [
       "HBox(children=(FloatProgress(value=1.0, bar_style='info', max=1.0), HTML(value='')))"
      ]
     },
     "metadata": {},
     "output_type": "display_data"
    },
    {
     "name": "stdout",
     "output_type": "stream",
     "text": [
      "/home/ubuntu/wit/XML_releases/xml/ted_hup-20160408.zip\n"
     ]
    },
    {
     "data": {
      "application/vnd.jupyter.widget-view+json": {
       "model_id": "",
       "version_major": 2,
       "version_minor": 0
      },
      "text/plain": [
       "HBox(children=(FloatProgress(value=1.0, bar_style='info', max=1.0), HTML(value='')))"
      ]
     },
     "metadata": {},
     "output_type": "display_data"
    },
    {
     "name": "stdout",
     "output_type": "stream",
     "text": [
      "/home/ubuntu/wit/XML_releases/xml-20150616/ted_hup-20150530.zip\n",
      "Dataset ted_talks_iwsl_t2 downloaded and prepared to /home/ubuntu/.cache/huggingface/datasets/ted_talks_iwsl_t2/hup/1.1.0/a05d6e4e2dfce9d4b52fb831beab23647c052434e38b69f839af4c33510034fc. Subsequent calls will reuse this data.\n",
      "Downloading and preparing dataset ted_talks_iwsl_t2/zh-tw (download: Unknown size, generated: Unknown size, post-processed: Unknown size, total: Unknown size) to /home/ubuntu/.cache/huggingface/datasets/ted_talks_iwsl_t2/zh-tw/1.1.0/a05d6e4e2dfce9d4b52fb831beab23647c052434e38b69f839af4c33510034fc...\n"
     ]
    },
    {
     "data": {
      "application/vnd.jupyter.widget-view+json": {
       "model_id": "",
       "version_major": 2,
       "version_minor": 0
      },
      "text/plain": [
       "HBox(children=(FloatProgress(value=1.0, bar_style='info', max=1.0), HTML(value='')))"
      ]
     },
     "metadata": {},
     "output_type": "display_data"
    },
    {
     "name": "stdout",
     "output_type": "stream",
     "text": [
      "/home/ubuntu/wit/XML_releases/xml-20140120/ted_zh-tw-20140120.zip\n"
     ]
    },
    {
     "data": {
      "application/vnd.jupyter.widget-view+json": {
       "model_id": "",
       "version_major": 2,
       "version_minor": 0
      },
      "text/plain": [
       "HBox(children=(FloatProgress(value=1.0, bar_style='info', max=1.0), HTML(value='')))"
      ]
     },
     "metadata": {},
     "output_type": "display_data"
    },
    {
     "name": "stdout",
     "output_type": "stream",
     "text": [
      "/home/ubuntu/wit/XML_releases/xml/ted_zh-tw-20160408.zip\n"
     ]
    },
    {
     "data": {
      "application/vnd.jupyter.widget-view+json": {
       "model_id": "",
       "version_major": 2,
       "version_minor": 0
      },
      "text/plain": [
       "HBox(children=(FloatProgress(value=1.0, bar_style='info', max=1.0), HTML(value='')))"
      ]
     },
     "metadata": {},
     "output_type": "display_data"
    },
    {
     "name": "stdout",
     "output_type": "stream",
     "text": [
      "/home/ubuntu/wit/XML_releases/xml-20150616/ted_zh-tw-20150530.zip\n",
      "Dataset ted_talks_iwsl_t2 downloaded and prepared to /home/ubuntu/.cache/huggingface/datasets/ted_talks_iwsl_t2/zh-tw/1.1.0/a05d6e4e2dfce9d4b52fb831beab23647c052434e38b69f839af4c33510034fc. Subsequent calls will reuse this data.\n",
      "Downloading and preparing dataset ted_talks_iwsl_t2/sl (download: Unknown size, generated: Unknown size, post-processed: Unknown size, total: Unknown size) to /home/ubuntu/.cache/huggingface/datasets/ted_talks_iwsl_t2/sl/1.1.0/a05d6e4e2dfce9d4b52fb831beab23647c052434e38b69f839af4c33510034fc...\n"
     ]
    },
    {
     "data": {
      "application/vnd.jupyter.widget-view+json": {
       "model_id": "",
       "version_major": 2,
       "version_minor": 0
      },
      "text/plain": [
       "HBox(children=(FloatProgress(value=1.0, bar_style='info', max=1.0), HTML(value='')))"
      ]
     },
     "metadata": {},
     "output_type": "display_data"
    },
    {
     "name": "stdout",
     "output_type": "stream",
     "text": [
      "/home/ubuntu/wit/XML_releases/xml-20140120/ted_sl-20140120.zip\n"
     ]
    },
    {
     "data": {
      "application/vnd.jupyter.widget-view+json": {
       "model_id": "",
       "version_major": 2,
       "version_minor": 0
      },
      "text/plain": [
       "HBox(children=(FloatProgress(value=1.0, bar_style='info', max=1.0), HTML(value='')))"
      ]
     },
     "metadata": {},
     "output_type": "display_data"
    },
    {
     "name": "stdout",
     "output_type": "stream",
     "text": [
      "/home/ubuntu/wit/XML_releases/xml/ted_sl-20160408.zip\n"
     ]
    },
    {
     "data": {
      "application/vnd.jupyter.widget-view+json": {
       "model_id": "",
       "version_major": 2,
       "version_minor": 0
      },
      "text/plain": [
       "HBox(children=(FloatProgress(value=1.0, bar_style='info', max=1.0), HTML(value='')))"
      ]
     },
     "metadata": {},
     "output_type": "display_data"
    },
    {
     "name": "stdout",
     "output_type": "stream",
     "text": [
      "/home/ubuntu/wit/XML_releases/xml-20150616/ted_sl-20150530.zip\n",
      "Dataset ted_talks_iwsl_t2 downloaded and prepared to /home/ubuntu/.cache/huggingface/datasets/ted_talks_iwsl_t2/sl/1.1.0/a05d6e4e2dfce9d4b52fb831beab23647c052434e38b69f839af4c33510034fc. Subsequent calls will reuse this data.\n",
      "Downloading and preparing dataset ted_talks_iwsl_t2/be (download: Unknown size, generated: Unknown size, post-processed: Unknown size, total: Unknown size) to /home/ubuntu/.cache/huggingface/datasets/ted_talks_iwsl_t2/be/1.1.0/a05d6e4e2dfce9d4b52fb831beab23647c052434e38b69f839af4c33510034fc...\n"
     ]
    },
    {
     "data": {
      "application/vnd.jupyter.widget-view+json": {
       "model_id": "",
       "version_major": 2,
       "version_minor": 0
      },
      "text/plain": [
       "HBox(children=(FloatProgress(value=1.0, bar_style='info', max=1.0), HTML(value='')))"
      ]
     },
     "metadata": {},
     "output_type": "display_data"
    },
    {
     "name": "stdout",
     "output_type": "stream",
     "text": [
      "/home/ubuntu/wit/XML_releases/xml-20140120/ted_be-20140120.zip\n"
     ]
    },
    {
     "data": {
      "application/vnd.jupyter.widget-view+json": {
       "model_id": "",
       "version_major": 2,
       "version_minor": 0
      },
      "text/plain": [
       "HBox(children=(FloatProgress(value=1.0, bar_style='info', max=1.0), HTML(value='')))"
      ]
     },
     "metadata": {},
     "output_type": "display_data"
    },
    {
     "name": "stdout",
     "output_type": "stream",
     "text": [
      "/home/ubuntu/wit/XML_releases/xml/ted_be-20160408.zip\n"
     ]
    },
    {
     "data": {
      "application/vnd.jupyter.widget-view+json": {
       "model_id": "",
       "version_major": 2,
       "version_minor": 0
      },
      "text/plain": [
       "HBox(children=(FloatProgress(value=1.0, bar_style='info', max=1.0), HTML(value='')))"
      ]
     },
     "metadata": {},
     "output_type": "display_data"
    },
    {
     "name": "stdout",
     "output_type": "stream",
     "text": [
      "/home/ubuntu/wit/XML_releases/xml-20150616/ted_be-20150530.zip\n",
      "Dataset ted_talks_iwsl_t2 downloaded and prepared to /home/ubuntu/.cache/huggingface/datasets/ted_talks_iwsl_t2/be/1.1.0/a05d6e4e2dfce9d4b52fb831beab23647c052434e38b69f839af4c33510034fc. Subsequent calls will reuse this data.\n",
      "Downloading and preparing dataset ted_talks_iwsl_t2/bo (download: Unknown size, generated: Unknown size, post-processed: Unknown size, total: Unknown size) to /home/ubuntu/.cache/huggingface/datasets/ted_talks_iwsl_t2/bo/1.1.0/a05d6e4e2dfce9d4b52fb831beab23647c052434e38b69f839af4c33510034fc...\n"
     ]
    },
    {
     "data": {
      "application/vnd.jupyter.widget-view+json": {
       "model_id": "",
       "version_major": 2,
       "version_minor": 0
      },
      "text/plain": [
       "HBox(children=(FloatProgress(value=1.0, bar_style='info', max=1.0), HTML(value='')))"
      ]
     },
     "metadata": {},
     "output_type": "display_data"
    },
    {
     "name": "stdout",
     "output_type": "stream",
     "text": [
      "/home/ubuntu/wit/XML_releases/xml-20140120/ted_bo-20140120.zip\n"
     ]
    },
    {
     "data": {
      "application/vnd.jupyter.widget-view+json": {
       "model_id": "",
       "version_major": 2,
       "version_minor": 0
      },
      "text/plain": [
       "HBox(children=(FloatProgress(value=1.0, bar_style='info', max=1.0), HTML(value='')))"
      ]
     },
     "metadata": {},
     "output_type": "display_data"
    },
    {
     "name": "stdout",
     "output_type": "stream",
     "text": [
      "/home/ubuntu/wit/XML_releases/xml/ted_bo-20160408.zip\n"
     ]
    },
    {
     "data": {
      "application/vnd.jupyter.widget-view+json": {
       "model_id": "",
       "version_major": 2,
       "version_minor": 0
      },
      "text/plain": [
       "HBox(children=(FloatProgress(value=1.0, bar_style='info', max=1.0), HTML(value='')))"
      ]
     },
     "metadata": {},
     "output_type": "display_data"
    },
    {
     "name": "stdout",
     "output_type": "stream",
     "text": [
      "/home/ubuntu/wit/XML_releases/xml-20150616/ted_bo-20150530.zip\n",
      "Dataset ted_talks_iwsl_t2 downloaded and prepared to /home/ubuntu/.cache/huggingface/datasets/ted_talks_iwsl_t2/bo/1.1.0/a05d6e4e2dfce9d4b52fb831beab23647c052434e38b69f839af4c33510034fc. Subsequent calls will reuse this data.\n",
      "Downloading and preparing dataset ted_talks_iwsl_t2/fr (download: Unknown size, generated: Unknown size, post-processed: Unknown size, total: Unknown size) to /home/ubuntu/.cache/huggingface/datasets/ted_talks_iwsl_t2/fr/1.1.0/a05d6e4e2dfce9d4b52fb831beab23647c052434e38b69f839af4c33510034fc...\n"
     ]
    },
    {
     "data": {
      "application/vnd.jupyter.widget-view+json": {
       "model_id": "",
       "version_major": 2,
       "version_minor": 0
      },
      "text/plain": [
       "HBox(children=(FloatProgress(value=1.0, bar_style='info', max=1.0), HTML(value='')))"
      ]
     },
     "metadata": {},
     "output_type": "display_data"
    },
    {
     "name": "stdout",
     "output_type": "stream",
     "text": [
      "/home/ubuntu/wit/XML_releases/xml-20140120/ted_fr-20140120.zip\n"
     ]
    },
    {
     "data": {
      "application/vnd.jupyter.widget-view+json": {
       "model_id": "",
       "version_major": 2,
       "version_minor": 0
      },
      "text/plain": [
       "HBox(children=(FloatProgress(value=1.0, bar_style='info', max=1.0), HTML(value='')))"
      ]
     },
     "metadata": {},
     "output_type": "display_data"
    },
    {
     "name": "stdout",
     "output_type": "stream",
     "text": [
      "/home/ubuntu/wit/XML_releases/xml/ted_fr-20160408.zip\n"
     ]
    },
    {
     "data": {
      "application/vnd.jupyter.widget-view+json": {
       "model_id": "",
       "version_major": 2,
       "version_minor": 0
      },
      "text/plain": [
       "HBox(children=(FloatProgress(value=1.0, bar_style='info', max=1.0), HTML(value='')))"
      ]
     },
     "metadata": {},
     "output_type": "display_data"
    },
    {
     "name": "stdout",
     "output_type": "stream",
     "text": [
      "/home/ubuntu/wit/XML_releases/xml-20150616/ted_fr-20150530.zip\n",
      "Dataset ted_talks_iwsl_t2 downloaded and prepared to /home/ubuntu/.cache/huggingface/datasets/ted_talks_iwsl_t2/fr/1.1.0/a05d6e4e2dfce9d4b52fb831beab23647c052434e38b69f839af4c33510034fc. Subsequent calls will reuse this data.\n",
      "Downloading and preparing dataset ted_talks_iwsl_t2/ps (download: Unknown size, generated: Unknown size, post-processed: Unknown size, total: Unknown size) to /home/ubuntu/.cache/huggingface/datasets/ted_talks_iwsl_t2/ps/1.1.0/a05d6e4e2dfce9d4b52fb831beab23647c052434e38b69f839af4c33510034fc...\n"
     ]
    },
    {
     "data": {
      "application/vnd.jupyter.widget-view+json": {
       "model_id": "",
       "version_major": 2,
       "version_minor": 0
      },
      "text/plain": [
       "HBox(children=(FloatProgress(value=1.0, bar_style='info', max=1.0), HTML(value='')))"
      ]
     },
     "metadata": {},
     "output_type": "display_data"
    },
    {
     "name": "stdout",
     "output_type": "stream",
     "text": [
      "/home/ubuntu/wit/XML_releases/xml-20140120/ted_ps-20140120.zip\n",
      "File doesn't exist:: /home/ubuntu/wit/XML_releases/xml-20140120/ted_ps-20140120.zip\n"
     ]
    },
    {
     "data": {
      "application/vnd.jupyter.widget-view+json": {
       "model_id": "",
       "version_major": 2,
       "version_minor": 0
      },
      "text/plain": [
       "HBox(children=(FloatProgress(value=1.0, bar_style='info', max=1.0), HTML(value='')))"
      ]
     },
     "metadata": {},
     "output_type": "display_data"
    },
    {
     "name": "stdout",
     "output_type": "stream",
     "text": [
      "/home/ubuntu/wit/XML_releases/xml/ted_ps-20160408.zip\n"
     ]
    },
    {
     "data": {
      "application/vnd.jupyter.widget-view+json": {
       "model_id": "",
       "version_major": 2,
       "version_minor": 0
      },
      "text/plain": [
       "HBox(children=(FloatProgress(value=1.0, bar_style='info', max=1.0), HTML(value='')))"
      ]
     },
     "metadata": {},
     "output_type": "display_data"
    },
    {
     "name": "stdout",
     "output_type": "stream",
     "text": [
      "/home/ubuntu/wit/XML_releases/xml-20150616/ted_ps-20150530.zip\n",
      "File doesn't exist:: /home/ubuntu/wit/XML_releases/xml-20150616/ted_ps-20150530.zip\n",
      "Dataset ted_talks_iwsl_t2 downloaded and prepared to /home/ubuntu/.cache/huggingface/datasets/ted_talks_iwsl_t2/ps/1.1.0/a05d6e4e2dfce9d4b52fb831beab23647c052434e38b69f839af4c33510034fc. Subsequent calls will reuse this data.\n",
      "Downloading and preparing dataset ted_talks_iwsl_t2/tr (download: Unknown size, generated: Unknown size, post-processed: Unknown size, total: Unknown size) to /home/ubuntu/.cache/huggingface/datasets/ted_talks_iwsl_t2/tr/1.1.0/a05d6e4e2dfce9d4b52fb831beab23647c052434e38b69f839af4c33510034fc...\n"
     ]
    },
    {
     "data": {
      "application/vnd.jupyter.widget-view+json": {
       "model_id": "",
       "version_major": 2,
       "version_minor": 0
      },
      "text/plain": [
       "HBox(children=(FloatProgress(value=1.0, bar_style='info', max=1.0), HTML(value='')))"
      ]
     },
     "metadata": {},
     "output_type": "display_data"
    },
    {
     "name": "stdout",
     "output_type": "stream",
     "text": [
      "/home/ubuntu/wit/XML_releases/xml-20140120/ted_tr-20140120.zip\n"
     ]
    },
    {
     "data": {
      "application/vnd.jupyter.widget-view+json": {
       "model_id": "",
       "version_major": 2,
       "version_minor": 0
      },
      "text/plain": [
       "HBox(children=(FloatProgress(value=1.0, bar_style='info', max=1.0), HTML(value='')))"
      ]
     },
     "metadata": {},
     "output_type": "display_data"
    },
    {
     "name": "stdout",
     "output_type": "stream",
     "text": [
      "/home/ubuntu/wit/XML_releases/xml/ted_tr-20160408.zip\n"
     ]
    },
    {
     "data": {
      "application/vnd.jupyter.widget-view+json": {
       "model_id": "",
       "version_major": 2,
       "version_minor": 0
      },
      "text/plain": [
       "HBox(children=(FloatProgress(value=1.0, bar_style='info', max=1.0), HTML(value='')))"
      ]
     },
     "metadata": {},
     "output_type": "display_data"
    },
    {
     "name": "stdout",
     "output_type": "stream",
     "text": [
      "/home/ubuntu/wit/XML_releases/xml-20150616/ted_tr-20150530.zip\n",
      "Dataset ted_talks_iwsl_t2 downloaded and prepared to /home/ubuntu/.cache/huggingface/datasets/ted_talks_iwsl_t2/tr/1.1.0/a05d6e4e2dfce9d4b52fb831beab23647c052434e38b69f839af4c33510034fc. Subsequent calls will reuse this data.\n",
      "Downloading and preparing dataset ted_talks_iwsl_t2/ltg (download: Unknown size, generated: Unknown size, post-processed: Unknown size, total: Unknown size) to /home/ubuntu/.cache/huggingface/datasets/ted_talks_iwsl_t2/ltg/1.1.0/a05d6e4e2dfce9d4b52fb831beab23647c052434e38b69f839af4c33510034fc...\n"
     ]
    },
    {
     "data": {
      "application/vnd.jupyter.widget-view+json": {
       "model_id": "",
       "version_major": 2,
       "version_minor": 0
      },
      "text/plain": [
       "HBox(children=(FloatProgress(value=1.0, bar_style='info', max=1.0), HTML(value='')))"
      ]
     },
     "metadata": {},
     "output_type": "display_data"
    },
    {
     "name": "stdout",
     "output_type": "stream",
     "text": [
      "/home/ubuntu/wit/XML_releases/xml-20140120/ted_ltg-20140120.zip\n"
     ]
    },
    {
     "data": {
      "application/vnd.jupyter.widget-view+json": {
       "model_id": "",
       "version_major": 2,
       "version_minor": 0
      },
      "text/plain": [
       "HBox(children=(FloatProgress(value=1.0, bar_style='info', max=1.0), HTML(value='')))"
      ]
     },
     "metadata": {},
     "output_type": "display_data"
    },
    {
     "name": "stdout",
     "output_type": "stream",
     "text": [
      "/home/ubuntu/wit/XML_releases/xml/ted_ltg-20160408.zip\n"
     ]
    },
    {
     "data": {
      "application/vnd.jupyter.widget-view+json": {
       "model_id": "",
       "version_major": 2,
       "version_minor": 0
      },
      "text/plain": [
       "HBox(children=(FloatProgress(value=1.0, bar_style='info', max=1.0), HTML(value='')))"
      ]
     },
     "metadata": {},
     "output_type": "display_data"
    },
    {
     "name": "stdout",
     "output_type": "stream",
     "text": [
      "/home/ubuntu/wit/XML_releases/xml-20150616/ted_ltg-20150530.zip\n",
      "Dataset ted_talks_iwsl_t2 downloaded and prepared to /home/ubuntu/.cache/huggingface/datasets/ted_talks_iwsl_t2/ltg/1.1.0/a05d6e4e2dfce9d4b52fb831beab23647c052434e38b69f839af4c33510034fc. Subsequent calls will reuse this data.\n",
      "Downloading and preparing dataset ted_talks_iwsl_t2/la (download: Unknown size, generated: Unknown size, post-processed: Unknown size, total: Unknown size) to /home/ubuntu/.cache/huggingface/datasets/ted_talks_iwsl_t2/la/1.1.0/a05d6e4e2dfce9d4b52fb831beab23647c052434e38b69f839af4c33510034fc...\n"
     ]
    },
    {
     "data": {
      "application/vnd.jupyter.widget-view+json": {
       "model_id": "",
       "version_major": 2,
       "version_minor": 0
      },
      "text/plain": [
       "HBox(children=(FloatProgress(value=1.0, bar_style='info', max=1.0), HTML(value='')))"
      ]
     },
     "metadata": {},
     "output_type": "display_data"
    },
    {
     "name": "stdout",
     "output_type": "stream",
     "text": [
      "/home/ubuntu/wit/XML_releases/xml-20140120/ted_la-20140120.zip\n"
     ]
    },
    {
     "data": {
      "application/vnd.jupyter.widget-view+json": {
       "model_id": "",
       "version_major": 2,
       "version_minor": 0
      },
      "text/plain": [
       "HBox(children=(FloatProgress(value=1.0, bar_style='info', max=1.0), HTML(value='')))"
      ]
     },
     "metadata": {},
     "output_type": "display_data"
    },
    {
     "name": "stdout",
     "output_type": "stream",
     "text": [
      "/home/ubuntu/wit/XML_releases/xml/ted_la-20160408.zip\n"
     ]
    },
    {
     "data": {
      "application/vnd.jupyter.widget-view+json": {
       "model_id": "",
       "version_major": 2,
       "version_minor": 0
      },
      "text/plain": [
       "HBox(children=(FloatProgress(value=1.0, bar_style='info', max=1.0), HTML(value='')))"
      ]
     },
     "metadata": {},
     "output_type": "display_data"
    },
    {
     "name": "stdout",
     "output_type": "stream",
     "text": [
      "/home/ubuntu/wit/XML_releases/xml-20150616/ted_la-20150530.zip\n",
      "Dataset ted_talks_iwsl_t2 downloaded and prepared to /home/ubuntu/.cache/huggingface/datasets/ted_talks_iwsl_t2/la/1.1.0/a05d6e4e2dfce9d4b52fb831beab23647c052434e38b69f839af4c33510034fc. Subsequent calls will reuse this data.\n",
      "Downloading and preparing dataset ted_talks_iwsl_t2/ko (download: Unknown size, generated: Unknown size, post-processed: Unknown size, total: Unknown size) to /home/ubuntu/.cache/huggingface/datasets/ted_talks_iwsl_t2/ko/1.1.0/a05d6e4e2dfce9d4b52fb831beab23647c052434e38b69f839af4c33510034fc...\n"
     ]
    },
    {
     "data": {
      "application/vnd.jupyter.widget-view+json": {
       "model_id": "",
       "version_major": 2,
       "version_minor": 0
      },
      "text/plain": [
       "HBox(children=(FloatProgress(value=1.0, bar_style='info', max=1.0), HTML(value='')))"
      ]
     },
     "metadata": {},
     "output_type": "display_data"
    },
    {
     "name": "stdout",
     "output_type": "stream",
     "text": [
      "/home/ubuntu/wit/XML_releases/xml-20140120/ted_ko-20140120.zip\n"
     ]
    },
    {
     "data": {
      "application/vnd.jupyter.widget-view+json": {
       "model_id": "",
       "version_major": 2,
       "version_minor": 0
      },
      "text/plain": [
       "HBox(children=(FloatProgress(value=1.0, bar_style='info', max=1.0), HTML(value='')))"
      ]
     },
     "metadata": {},
     "output_type": "display_data"
    },
    {
     "name": "stdout",
     "output_type": "stream",
     "text": [
      "/home/ubuntu/wit/XML_releases/xml/ted_ko-20160408.zip\n"
     ]
    },
    {
     "data": {
      "application/vnd.jupyter.widget-view+json": {
       "model_id": "",
       "version_major": 2,
       "version_minor": 0
      },
      "text/plain": [
       "HBox(children=(FloatProgress(value=1.0, bar_style='info', max=1.0), HTML(value='')))"
      ]
     },
     "metadata": {},
     "output_type": "display_data"
    },
    {
     "name": "stdout",
     "output_type": "stream",
     "text": [
      "/home/ubuntu/wit/XML_releases/xml-20150616/ted_ko-20150530.zip\n",
      "Dataset ted_talks_iwsl_t2 downloaded and prepared to /home/ubuntu/.cache/huggingface/datasets/ted_talks_iwsl_t2/ko/1.1.0/a05d6e4e2dfce9d4b52fb831beab23647c052434e38b69f839af4c33510034fc. Subsequent calls will reuse this data.\n",
      "Downloading and preparing dataset ted_talks_iwsl_t2/lv (download: Unknown size, generated: Unknown size, post-processed: Unknown size, total: Unknown size) to /home/ubuntu/.cache/huggingface/datasets/ted_talks_iwsl_t2/lv/1.1.0/a05d6e4e2dfce9d4b52fb831beab23647c052434e38b69f839af4c33510034fc...\n"
     ]
    },
    {
     "data": {
      "application/vnd.jupyter.widget-view+json": {
       "model_id": "",
       "version_major": 2,
       "version_minor": 0
      },
      "text/plain": [
       "HBox(children=(FloatProgress(value=1.0, bar_style='info', max=1.0), HTML(value='')))"
      ]
     },
     "metadata": {},
     "output_type": "display_data"
    },
    {
     "name": "stdout",
     "output_type": "stream",
     "text": [
      "/home/ubuntu/wit/XML_releases/xml-20140120/ted_lv-20140120.zip\n"
     ]
    },
    {
     "data": {
      "application/vnd.jupyter.widget-view+json": {
       "model_id": "",
       "version_major": 2,
       "version_minor": 0
      },
      "text/plain": [
       "HBox(children=(FloatProgress(value=1.0, bar_style='info', max=1.0), HTML(value='')))"
      ]
     },
     "metadata": {},
     "output_type": "display_data"
    },
    {
     "name": "stdout",
     "output_type": "stream",
     "text": [
      "/home/ubuntu/wit/XML_releases/xml/ted_lv-20160408.zip\n"
     ]
    },
    {
     "data": {
      "application/vnd.jupyter.widget-view+json": {
       "model_id": "",
       "version_major": 2,
       "version_minor": 0
      },
      "text/plain": [
       "HBox(children=(FloatProgress(value=1.0, bar_style='info', max=1.0), HTML(value='')))"
      ]
     },
     "metadata": {},
     "output_type": "display_data"
    },
    {
     "name": "stdout",
     "output_type": "stream",
     "text": [
      "/home/ubuntu/wit/XML_releases/xml-20150616/ted_lv-20150530.zip\n",
      "Dataset ted_talks_iwsl_t2 downloaded and prepared to /home/ubuntu/.cache/huggingface/datasets/ted_talks_iwsl_t2/lv/1.1.0/a05d6e4e2dfce9d4b52fb831beab23647c052434e38b69f839af4c33510034fc. Subsequent calls will reuse this data.\n",
      "Downloading and preparing dataset ted_talks_iwsl_t2/nl (download: Unknown size, generated: Unknown size, post-processed: Unknown size, total: Unknown size) to /home/ubuntu/.cache/huggingface/datasets/ted_talks_iwsl_t2/nl/1.1.0/a05d6e4e2dfce9d4b52fb831beab23647c052434e38b69f839af4c33510034fc...\n"
     ]
    },
    {
     "data": {
      "application/vnd.jupyter.widget-view+json": {
       "model_id": "",
       "version_major": 2,
       "version_minor": 0
      },
      "text/plain": [
       "HBox(children=(FloatProgress(value=1.0, bar_style='info', max=1.0), HTML(value='')))"
      ]
     },
     "metadata": {},
     "output_type": "display_data"
    },
    {
     "name": "stdout",
     "output_type": "stream",
     "text": [
      "/home/ubuntu/wit/XML_releases/xml-20140120/ted_nl-20140120.zip\n"
     ]
    },
    {
     "data": {
      "application/vnd.jupyter.widget-view+json": {
       "model_id": "",
       "version_major": 2,
       "version_minor": 0
      },
      "text/plain": [
       "HBox(children=(FloatProgress(value=1.0, bar_style='info', max=1.0), HTML(value='')))"
      ]
     },
     "metadata": {},
     "output_type": "display_data"
    },
    {
     "name": "stdout",
     "output_type": "stream",
     "text": [
      "/home/ubuntu/wit/XML_releases/xml/ted_nl-20160408.zip\n"
     ]
    },
    {
     "data": {
      "application/vnd.jupyter.widget-view+json": {
       "model_id": "",
       "version_major": 2,
       "version_minor": 0
      },
      "text/plain": [
       "HBox(children=(FloatProgress(value=1.0, bar_style='info', max=1.0), HTML(value='')))"
      ]
     },
     "metadata": {},
     "output_type": "display_data"
    },
    {
     "name": "stdout",
     "output_type": "stream",
     "text": [
      "/home/ubuntu/wit/XML_releases/xml-20150616/ted_nl-20150530.zip\n",
      "Dataset ted_talks_iwsl_t2 downloaded and prepared to /home/ubuntu/.cache/huggingface/datasets/ted_talks_iwsl_t2/nl/1.1.0/a05d6e4e2dfce9d4b52fb831beab23647c052434e38b69f839af4c33510034fc. Subsequent calls will reuse this data.\n",
      "Downloading and preparing dataset ted_talks_iwsl_t2/fa (download: Unknown size, generated: Unknown size, post-processed: Unknown size, total: Unknown size) to /home/ubuntu/.cache/huggingface/datasets/ted_talks_iwsl_t2/fa/1.1.0/a05d6e4e2dfce9d4b52fb831beab23647c052434e38b69f839af4c33510034fc...\n"
     ]
    },
    {
     "data": {
      "application/vnd.jupyter.widget-view+json": {
       "model_id": "",
       "version_major": 2,
       "version_minor": 0
      },
      "text/plain": [
       "HBox(children=(FloatProgress(value=1.0, bar_style='info', max=1.0), HTML(value='')))"
      ]
     },
     "metadata": {},
     "output_type": "display_data"
    },
    {
     "name": "stdout",
     "output_type": "stream",
     "text": [
      "/home/ubuntu/wit/XML_releases/xml-20140120/ted_fa-20140120.zip\n"
     ]
    },
    {
     "data": {
      "application/vnd.jupyter.widget-view+json": {
       "model_id": "",
       "version_major": 2,
       "version_minor": 0
      },
      "text/plain": [
       "HBox(children=(FloatProgress(value=1.0, bar_style='info', max=1.0), HTML(value='')))"
      ]
     },
     "metadata": {},
     "output_type": "display_data"
    },
    {
     "name": "stdout",
     "output_type": "stream",
     "text": [
      "/home/ubuntu/wit/XML_releases/xml/ted_fa-20160408.zip\n"
     ]
    },
    {
     "data": {
      "application/vnd.jupyter.widget-view+json": {
       "model_id": "",
       "version_major": 2,
       "version_minor": 0
      },
      "text/plain": [
       "HBox(children=(FloatProgress(value=1.0, bar_style='info', max=1.0), HTML(value='')))"
      ]
     },
     "metadata": {},
     "output_type": "display_data"
    },
    {
     "name": "stdout",
     "output_type": "stream",
     "text": [
      "/home/ubuntu/wit/XML_releases/xml-20150616/ted_fa-20150530.zip\n",
      "Dataset ted_talks_iwsl_t2 downloaded and prepared to /home/ubuntu/.cache/huggingface/datasets/ted_talks_iwsl_t2/fa/1.1.0/a05d6e4e2dfce9d4b52fb831beab23647c052434e38b69f839af4c33510034fc. Subsequent calls will reuse this data.\n",
      "Downloading and preparing dataset ted_talks_iwsl_t2/ru (download: Unknown size, generated: Unknown size, post-processed: Unknown size, total: Unknown size) to /home/ubuntu/.cache/huggingface/datasets/ted_talks_iwsl_t2/ru/1.1.0/a05d6e4e2dfce9d4b52fb831beab23647c052434e38b69f839af4c33510034fc...\n"
     ]
    },
    {
     "data": {
      "application/vnd.jupyter.widget-view+json": {
       "model_id": "",
       "version_major": 2,
       "version_minor": 0
      },
      "text/plain": [
       "HBox(children=(FloatProgress(value=1.0, bar_style='info', max=1.0), HTML(value='')))"
      ]
     },
     "metadata": {},
     "output_type": "display_data"
    },
    {
     "name": "stdout",
     "output_type": "stream",
     "text": [
      "/home/ubuntu/wit/XML_releases/xml-20140120/ted_ru-20140120.zip\n"
     ]
    },
    {
     "data": {
      "application/vnd.jupyter.widget-view+json": {
       "model_id": "",
       "version_major": 2,
       "version_minor": 0
      },
      "text/plain": [
       "HBox(children=(FloatProgress(value=1.0, bar_style='info', max=1.0), HTML(value='')))"
      ]
     },
     "metadata": {},
     "output_type": "display_data"
    },
    {
     "name": "stdout",
     "output_type": "stream",
     "text": [
      "/home/ubuntu/wit/XML_releases/xml/ted_ru-20160408.zip\n"
     ]
    },
    {
     "data": {
      "application/vnd.jupyter.widget-view+json": {
       "model_id": "",
       "version_major": 2,
       "version_minor": 0
      },
      "text/plain": [
       "HBox(children=(FloatProgress(value=1.0, bar_style='info', max=1.0), HTML(value='')))"
      ]
     },
     "metadata": {},
     "output_type": "display_data"
    },
    {
     "name": "stdout",
     "output_type": "stream",
     "text": [
      "/home/ubuntu/wit/XML_releases/xml-20150616/ted_ru-20150530.zip\n",
      "ERROR: no element found: line 9621, column 0\n",
      "Which likely means that you have a malformed XML file:: /home/ubuntu/wit/XML_releases/xml-20150616/ted_ru-20150530.zip\n",
      "\n",
      "Dataset ted_talks_iwsl_t2 downloaded and prepared to /home/ubuntu/.cache/huggingface/datasets/ted_talks_iwsl_t2/ru/1.1.0/a05d6e4e2dfce9d4b52fb831beab23647c052434e38b69f839af4c33510034fc. Subsequent calls will reuse this data.\n",
      "Downloading and preparing dataset ted_talks_iwsl_t2/et (download: Unknown size, generated: Unknown size, post-processed: Unknown size, total: Unknown size) to /home/ubuntu/.cache/huggingface/datasets/ted_talks_iwsl_t2/et/1.1.0/a05d6e4e2dfce9d4b52fb831beab23647c052434e38b69f839af4c33510034fc...\n"
     ]
    },
    {
     "data": {
      "application/vnd.jupyter.widget-view+json": {
       "model_id": "",
       "version_major": 2,
       "version_minor": 0
      },
      "text/plain": [
       "HBox(children=(FloatProgress(value=1.0, bar_style='info', max=1.0), HTML(value='')))"
      ]
     },
     "metadata": {},
     "output_type": "display_data"
    },
    {
     "name": "stdout",
     "output_type": "stream",
     "text": [
      "/home/ubuntu/wit/XML_releases/xml-20140120/ted_et-20140120.zip\n"
     ]
    },
    {
     "data": {
      "application/vnd.jupyter.widget-view+json": {
       "model_id": "",
       "version_major": 2,
       "version_minor": 0
      },
      "text/plain": [
       "HBox(children=(FloatProgress(value=1.0, bar_style='info', max=1.0), HTML(value='')))"
      ]
     },
     "metadata": {},
     "output_type": "display_data"
    },
    {
     "name": "stdout",
     "output_type": "stream",
     "text": [
      "/home/ubuntu/wit/XML_releases/xml/ted_et-20160408.zip\n"
     ]
    },
    {
     "data": {
      "application/vnd.jupyter.widget-view+json": {
       "model_id": "",
       "version_major": 2,
       "version_minor": 0
      },
      "text/plain": [
       "HBox(children=(FloatProgress(value=1.0, bar_style='info', max=1.0), HTML(value='')))"
      ]
     },
     "metadata": {},
     "output_type": "display_data"
    },
    {
     "name": "stdout",
     "output_type": "stream",
     "text": [
      "/home/ubuntu/wit/XML_releases/xml-20150616/ted_et-20150530.zip\n",
      "Dataset ted_talks_iwsl_t2 downloaded and prepared to /home/ubuntu/.cache/huggingface/datasets/ted_talks_iwsl_t2/et/1.1.0/a05d6e4e2dfce9d4b52fb831beab23647c052434e38b69f839af4c33510034fc. Subsequent calls will reuse this data.\n",
      "Downloading and preparing dataset ted_talks_iwsl_t2/vi (download: Unknown size, generated: Unknown size, post-processed: Unknown size, total: Unknown size) to /home/ubuntu/.cache/huggingface/datasets/ted_talks_iwsl_t2/vi/1.1.0/a05d6e4e2dfce9d4b52fb831beab23647c052434e38b69f839af4c33510034fc...\n"
     ]
    },
    {
     "data": {
      "application/vnd.jupyter.widget-view+json": {
       "model_id": "",
       "version_major": 2,
       "version_minor": 0
      },
      "text/plain": [
       "HBox(children=(FloatProgress(value=1.0, bar_style='info', max=1.0), HTML(value='')))"
      ]
     },
     "metadata": {},
     "output_type": "display_data"
    },
    {
     "name": "stdout",
     "output_type": "stream",
     "text": [
      "/home/ubuntu/wit/XML_releases/xml-20140120/ted_vi-20140120.zip\n"
     ]
    },
    {
     "data": {
      "application/vnd.jupyter.widget-view+json": {
       "model_id": "",
       "version_major": 2,
       "version_minor": 0
      },
      "text/plain": [
       "HBox(children=(FloatProgress(value=1.0, bar_style='info', max=1.0), HTML(value='')))"
      ]
     },
     "metadata": {},
     "output_type": "display_data"
    },
    {
     "name": "stdout",
     "output_type": "stream",
     "text": [
      "/home/ubuntu/wit/XML_releases/xml/ted_vi-20160408.zip\n"
     ]
    },
    {
     "data": {
      "application/vnd.jupyter.widget-view+json": {
       "model_id": "",
       "version_major": 2,
       "version_minor": 0
      },
      "text/plain": [
       "HBox(children=(FloatProgress(value=1.0, bar_style='info', max=1.0), HTML(value='')))"
      ]
     },
     "metadata": {},
     "output_type": "display_data"
    },
    {
     "name": "stdout",
     "output_type": "stream",
     "text": [
      "/home/ubuntu/wit/XML_releases/xml-20150616/ted_vi-20150530.zip\n",
      "Dataset ted_talks_iwsl_t2 downloaded and prepared to /home/ubuntu/.cache/huggingface/datasets/ted_talks_iwsl_t2/vi/1.1.0/a05d6e4e2dfce9d4b52fb831beab23647c052434e38b69f839af4c33510034fc. Subsequent calls will reuse this data.\n",
      "Downloading and preparing dataset ted_talks_iwsl_t2/pa (download: Unknown size, generated: Unknown size, post-processed: Unknown size, total: Unknown size) to /home/ubuntu/.cache/huggingface/datasets/ted_talks_iwsl_t2/pa/1.1.0/a05d6e4e2dfce9d4b52fb831beab23647c052434e38b69f839af4c33510034fc...\n"
     ]
    },
    {
     "data": {
      "application/vnd.jupyter.widget-view+json": {
       "model_id": "",
       "version_major": 2,
       "version_minor": 0
      },
      "text/plain": [
       "HBox(children=(FloatProgress(value=1.0, bar_style='info', max=1.0), HTML(value='')))"
      ]
     },
     "metadata": {},
     "output_type": "display_data"
    },
    {
     "name": "stdout",
     "output_type": "stream",
     "text": [
      "/home/ubuntu/wit/XML_releases/xml-20140120/ted_pa-20140120.zip\n",
      "File doesn't exist:: /home/ubuntu/wit/XML_releases/xml-20140120/ted_pa-20140120.zip\n"
     ]
    },
    {
     "data": {
      "application/vnd.jupyter.widget-view+json": {
       "model_id": "",
       "version_major": 2,
       "version_minor": 0
      },
      "text/plain": [
       "HBox(children=(FloatProgress(value=1.0, bar_style='info', max=1.0), HTML(value='')))"
      ]
     },
     "metadata": {},
     "output_type": "display_data"
    },
    {
     "name": "stdout",
     "output_type": "stream",
     "text": [
      "/home/ubuntu/wit/XML_releases/xml/ted_pa-20160408.zip\n"
     ]
    },
    {
     "data": {
      "application/vnd.jupyter.widget-view+json": {
       "model_id": "",
       "version_major": 2,
       "version_minor": 0
      },
      "text/plain": [
       "HBox(children=(FloatProgress(value=1.0, bar_style='info', max=1.0), HTML(value='')))"
      ]
     },
     "metadata": {},
     "output_type": "display_data"
    },
    {
     "name": "stdout",
     "output_type": "stream",
     "text": [
      "/home/ubuntu/wit/XML_releases/xml-20150616/ted_pa-20150530.zip\n",
      "File doesn't exist:: /home/ubuntu/wit/XML_releases/xml-20150616/ted_pa-20150530.zip\n",
      "Dataset ted_talks_iwsl_t2 downloaded and prepared to /home/ubuntu/.cache/huggingface/datasets/ted_talks_iwsl_t2/pa/1.1.0/a05d6e4e2dfce9d4b52fb831beab23647c052434e38b69f839af4c33510034fc. Subsequent calls will reuse this data.\n",
      "Downloading and preparing dataset ted_talks_iwsl_t2/my (download: Unknown size, generated: Unknown size, post-processed: Unknown size, total: Unknown size) to /home/ubuntu/.cache/huggingface/datasets/ted_talks_iwsl_t2/my/1.1.0/a05d6e4e2dfce9d4b52fb831beab23647c052434e38b69f839af4c33510034fc...\n"
     ]
    },
    {
     "data": {
      "application/vnd.jupyter.widget-view+json": {
       "model_id": "",
       "version_major": 2,
       "version_minor": 0
      },
      "text/plain": [
       "HBox(children=(FloatProgress(value=1.0, bar_style='info', max=1.0), HTML(value='')))"
      ]
     },
     "metadata": {},
     "output_type": "display_data"
    },
    {
     "name": "stdout",
     "output_type": "stream",
     "text": [
      "/home/ubuntu/wit/XML_releases/xml-20140120/ted_my-20140120.zip\n"
     ]
    },
    {
     "data": {
      "application/vnd.jupyter.widget-view+json": {
       "model_id": "",
       "version_major": 2,
       "version_minor": 0
      },
      "text/plain": [
       "HBox(children=(FloatProgress(value=1.0, bar_style='info', max=1.0), HTML(value='')))"
      ]
     },
     "metadata": {},
     "output_type": "display_data"
    },
    {
     "name": "stdout",
     "output_type": "stream",
     "text": [
      "/home/ubuntu/wit/XML_releases/xml/ted_my-20160408.zip\n"
     ]
    },
    {
     "data": {
      "application/vnd.jupyter.widget-view+json": {
       "model_id": "",
       "version_major": 2,
       "version_minor": 0
      },
      "text/plain": [
       "HBox(children=(FloatProgress(value=1.0, bar_style='info', max=1.0), HTML(value='')))"
      ]
     },
     "metadata": {},
     "output_type": "display_data"
    },
    {
     "name": "stdout",
     "output_type": "stream",
     "text": [
      "/home/ubuntu/wit/XML_releases/xml-20150616/ted_my-20150530.zip\n",
      "Dataset ted_talks_iwsl_t2 downloaded and prepared to /home/ubuntu/.cache/huggingface/datasets/ted_talks_iwsl_t2/my/1.1.0/a05d6e4e2dfce9d4b52fb831beab23647c052434e38b69f839af4c33510034fc. Subsequent calls will reuse this data.\n",
      "Downloading and preparing dataset ted_talks_iwsl_t2/sw (download: Unknown size, generated: Unknown size, post-processed: Unknown size, total: Unknown size) to /home/ubuntu/.cache/huggingface/datasets/ted_talks_iwsl_t2/sw/1.1.0/a05d6e4e2dfce9d4b52fb831beab23647c052434e38b69f839af4c33510034fc...\n"
     ]
    },
    {
     "data": {
      "application/vnd.jupyter.widget-view+json": {
       "model_id": "",
       "version_major": 2,
       "version_minor": 0
      },
      "text/plain": [
       "HBox(children=(FloatProgress(value=1.0, bar_style='info', max=1.0), HTML(value='')))"
      ]
     },
     "metadata": {},
     "output_type": "display_data"
    },
    {
     "name": "stdout",
     "output_type": "stream",
     "text": [
      "/home/ubuntu/wit/XML_releases/xml-20140120/ted_sw-20140120.zip\n"
     ]
    },
    {
     "data": {
      "application/vnd.jupyter.widget-view+json": {
       "model_id": "",
       "version_major": 2,
       "version_minor": 0
      },
      "text/plain": [
       "HBox(children=(FloatProgress(value=1.0, bar_style='info', max=1.0), HTML(value='')))"
      ]
     },
     "metadata": {},
     "output_type": "display_data"
    },
    {
     "name": "stdout",
     "output_type": "stream",
     "text": [
      "/home/ubuntu/wit/XML_releases/xml/ted_sw-20160408.zip\n"
     ]
    },
    {
     "data": {
      "application/vnd.jupyter.widget-view+json": {
       "model_id": "",
       "version_major": 2,
       "version_minor": 0
      },
      "text/plain": [
       "HBox(children=(FloatProgress(value=1.0, bar_style='info', max=1.0), HTML(value='')))"
      ]
     },
     "metadata": {},
     "output_type": "display_data"
    },
    {
     "name": "stdout",
     "output_type": "stream",
     "text": [
      "/home/ubuntu/wit/XML_releases/xml-20150616/ted_sw-20150530.zip\n",
      "Dataset ted_talks_iwsl_t2 downloaded and prepared to /home/ubuntu/.cache/huggingface/datasets/ted_talks_iwsl_t2/sw/1.1.0/a05d6e4e2dfce9d4b52fb831beab23647c052434e38b69f839af4c33510034fc. Subsequent calls will reuse this data.\n",
      "Downloading and preparing dataset ted_talks_iwsl_t2/az (download: Unknown size, generated: Unknown size, post-processed: Unknown size, total: Unknown size) to /home/ubuntu/.cache/huggingface/datasets/ted_talks_iwsl_t2/az/1.1.0/a05d6e4e2dfce9d4b52fb831beab23647c052434e38b69f839af4c33510034fc...\n"
     ]
    },
    {
     "data": {
      "application/vnd.jupyter.widget-view+json": {
       "model_id": "",
       "version_major": 2,
       "version_minor": 0
      },
      "text/plain": [
       "HBox(children=(FloatProgress(value=1.0, bar_style='info', max=1.0), HTML(value='')))"
      ]
     },
     "metadata": {},
     "output_type": "display_data"
    },
    {
     "name": "stdout",
     "output_type": "stream",
     "text": [
      "/home/ubuntu/wit/XML_releases/xml-20140120/ted_az-20140120.zip\n"
     ]
    },
    {
     "data": {
      "application/vnd.jupyter.widget-view+json": {
       "model_id": "",
       "version_major": 2,
       "version_minor": 0
      },
      "text/plain": [
       "HBox(children=(FloatProgress(value=1.0, bar_style='info', max=1.0), HTML(value='')))"
      ]
     },
     "metadata": {},
     "output_type": "display_data"
    },
    {
     "name": "stdout",
     "output_type": "stream",
     "text": [
      "/home/ubuntu/wit/XML_releases/xml/ted_az-20160408.zip\n"
     ]
    },
    {
     "data": {
      "application/vnd.jupyter.widget-view+json": {
       "model_id": "",
       "version_major": 2,
       "version_minor": 0
      },
      "text/plain": [
       "HBox(children=(FloatProgress(value=1.0, bar_style='info', max=1.0), HTML(value='')))"
      ]
     },
     "metadata": {},
     "output_type": "display_data"
    },
    {
     "name": "stdout",
     "output_type": "stream",
     "text": [
      "/home/ubuntu/wit/XML_releases/xml-20150616/ted_az-20150530.zip\n",
      "Dataset ted_talks_iwsl_t2 downloaded and prepared to /home/ubuntu/.cache/huggingface/datasets/ted_talks_iwsl_t2/az/1.1.0/a05d6e4e2dfce9d4b52fb831beab23647c052434e38b69f839af4c33510034fc. Subsequent calls will reuse this data.\n",
      "Downloading and preparing dataset ted_talks_iwsl_t2/sv (download: Unknown size, generated: Unknown size, post-processed: Unknown size, total: Unknown size) to /home/ubuntu/.cache/huggingface/datasets/ted_talks_iwsl_t2/sv/1.1.0/a05d6e4e2dfce9d4b52fb831beab23647c052434e38b69f839af4c33510034fc...\n"
     ]
    },
    {
     "data": {
      "application/vnd.jupyter.widget-view+json": {
       "model_id": "",
       "version_major": 2,
       "version_minor": 0
      },
      "text/plain": [
       "HBox(children=(FloatProgress(value=1.0, bar_style='info', max=1.0), HTML(value='')))"
      ]
     },
     "metadata": {},
     "output_type": "display_data"
    },
    {
     "name": "stdout",
     "output_type": "stream",
     "text": [
      "/home/ubuntu/wit/XML_releases/xml-20140120/ted_sv-20140120.zip\n"
     ]
    },
    {
     "data": {
      "application/vnd.jupyter.widget-view+json": {
       "model_id": "",
       "version_major": 2,
       "version_minor": 0
      },
      "text/plain": [
       "HBox(children=(FloatProgress(value=1.0, bar_style='info', max=1.0), HTML(value='')))"
      ]
     },
     "metadata": {},
     "output_type": "display_data"
    },
    {
     "name": "stdout",
     "output_type": "stream",
     "text": [
      "/home/ubuntu/wit/XML_releases/xml/ted_sv-20160408.zip\n"
     ]
    },
    {
     "data": {
      "application/vnd.jupyter.widget-view+json": {
       "model_id": "",
       "version_major": 2,
       "version_minor": 0
      },
      "text/plain": [
       "HBox(children=(FloatProgress(value=1.0, bar_style='info', max=1.0), HTML(value='')))"
      ]
     },
     "metadata": {},
     "output_type": "display_data"
    },
    {
     "name": "stdout",
     "output_type": "stream",
     "text": [
      "/home/ubuntu/wit/XML_releases/xml-20150616/ted_sv-20150530.zip\n",
      "Dataset ted_talks_iwsl_t2 downloaded and prepared to /home/ubuntu/.cache/huggingface/datasets/ted_talks_iwsl_t2/sv/1.1.0/a05d6e4e2dfce9d4b52fb831beab23647c052434e38b69f839af4c33510034fc. Subsequent calls will reuse this data.\n",
      "Downloading and preparing dataset ted_talks_iwsl_t2/ga (download: Unknown size, generated: Unknown size, post-processed: Unknown size, total: Unknown size) to /home/ubuntu/.cache/huggingface/datasets/ted_talks_iwsl_t2/ga/1.1.0/a05d6e4e2dfce9d4b52fb831beab23647c052434e38b69f839af4c33510034fc...\n"
     ]
    },
    {
     "data": {
      "application/vnd.jupyter.widget-view+json": {
       "model_id": "",
       "version_major": 2,
       "version_minor": 0
      },
      "text/plain": [
       "HBox(children=(FloatProgress(value=1.0, bar_style='info', max=1.0), HTML(value='')))"
      ]
     },
     "metadata": {},
     "output_type": "display_data"
    },
    {
     "name": "stdout",
     "output_type": "stream",
     "text": [
      "/home/ubuntu/wit/XML_releases/xml-20140120/ted_ga-20140120.zip\n"
     ]
    },
    {
     "data": {
      "application/vnd.jupyter.widget-view+json": {
       "model_id": "",
       "version_major": 2,
       "version_minor": 0
      },
      "text/plain": [
       "HBox(children=(FloatProgress(value=1.0, bar_style='info', max=1.0), HTML(value='')))"
      ]
     },
     "metadata": {},
     "output_type": "display_data"
    },
    {
     "name": "stdout",
     "output_type": "stream",
     "text": [
      "/home/ubuntu/wit/XML_releases/xml/ted_ga-20160408.zip\n"
     ]
    },
    {
     "data": {
      "application/vnd.jupyter.widget-view+json": {
       "model_id": "",
       "version_major": 2,
       "version_minor": 0
      },
      "text/plain": [
       "HBox(children=(FloatProgress(value=1.0, bar_style='info', max=1.0), HTML(value='')))"
      ]
     },
     "metadata": {},
     "output_type": "display_data"
    },
    {
     "name": "stdout",
     "output_type": "stream",
     "text": [
      "/home/ubuntu/wit/XML_releases/xml-20150616/ted_ga-20150530.zip\n",
      "Dataset ted_talks_iwsl_t2 downloaded and prepared to /home/ubuntu/.cache/huggingface/datasets/ted_talks_iwsl_t2/ga/1.1.0/a05d6e4e2dfce9d4b52fb831beab23647c052434e38b69f839af4c33510034fc. Subsequent calls will reuse this data.\n",
      "Downloading and preparing dataset ted_talks_iwsl_t2/sh (download: Unknown size, generated: Unknown size, post-processed: Unknown size, total: Unknown size) to /home/ubuntu/.cache/huggingface/datasets/ted_talks_iwsl_t2/sh/1.1.0/a05d6e4e2dfce9d4b52fb831beab23647c052434e38b69f839af4c33510034fc...\n"
     ]
    },
    {
     "data": {
      "application/vnd.jupyter.widget-view+json": {
       "model_id": "",
       "version_major": 2,
       "version_minor": 0
      },
      "text/plain": [
       "HBox(children=(FloatProgress(value=1.0, bar_style='info', max=1.0), HTML(value='')))"
      ]
     },
     "metadata": {},
     "output_type": "display_data"
    },
    {
     "name": "stdout",
     "output_type": "stream",
     "text": [
      "/home/ubuntu/wit/XML_releases/xml-20140120/ted_sh-20140120.zip\n",
      "File doesn't exist:: /home/ubuntu/wit/XML_releases/xml-20140120/ted_sh-20140120.zip\n"
     ]
    },
    {
     "data": {
      "application/vnd.jupyter.widget-view+json": {
       "model_id": "",
       "version_major": 2,
       "version_minor": 0
      },
      "text/plain": [
       "HBox(children=(FloatProgress(value=1.0, bar_style='info', max=1.0), HTML(value='')))"
      ]
     },
     "metadata": {},
     "output_type": "display_data"
    },
    {
     "name": "stdout",
     "output_type": "stream",
     "text": [
      "/home/ubuntu/wit/XML_releases/xml/ted_sh-20160408.zip\n"
     ]
    },
    {
     "data": {
      "application/vnd.jupyter.widget-view+json": {
       "model_id": "",
       "version_major": 2,
       "version_minor": 0
      },
      "text/plain": [
       "HBox(children=(FloatProgress(value=1.0, bar_style='info', max=1.0), HTML(value='')))"
      ]
     },
     "metadata": {},
     "output_type": "display_data"
    },
    {
     "name": "stdout",
     "output_type": "stream",
     "text": [
      "/home/ubuntu/wit/XML_releases/xml-20150616/ted_sh-20150530.zip\n",
      "Dataset ted_talks_iwsl_t2 downloaded and prepared to /home/ubuntu/.cache/huggingface/datasets/ted_talks_iwsl_t2/sh/1.1.0/a05d6e4e2dfce9d4b52fb831beab23647c052434e38b69f839af4c33510034fc. Subsequent calls will reuse this data.\n",
      "Downloading and preparing dataset ted_talks_iwsl_t2/it (download: Unknown size, generated: Unknown size, post-processed: Unknown size, total: Unknown size) to /home/ubuntu/.cache/huggingface/datasets/ted_talks_iwsl_t2/it/1.1.0/a05d6e4e2dfce9d4b52fb831beab23647c052434e38b69f839af4c33510034fc...\n"
     ]
    },
    {
     "data": {
      "application/vnd.jupyter.widget-view+json": {
       "model_id": "",
       "version_major": 2,
       "version_minor": 0
      },
      "text/plain": [
       "HBox(children=(FloatProgress(value=1.0, bar_style='info', max=1.0), HTML(value='')))"
      ]
     },
     "metadata": {},
     "output_type": "display_data"
    },
    {
     "name": "stdout",
     "output_type": "stream",
     "text": [
      "/home/ubuntu/wit/XML_releases/xml-20140120/ted_it-20140120.zip\n"
     ]
    },
    {
     "data": {
      "application/vnd.jupyter.widget-view+json": {
       "model_id": "",
       "version_major": 2,
       "version_minor": 0
      },
      "text/plain": [
       "HBox(children=(FloatProgress(value=1.0, bar_style='info', max=1.0), HTML(value='')))"
      ]
     },
     "metadata": {},
     "output_type": "display_data"
    },
    {
     "name": "stdout",
     "output_type": "stream",
     "text": [
      "/home/ubuntu/wit/XML_releases/xml/ted_it-20160408.zip\n"
     ]
    },
    {
     "data": {
      "application/vnd.jupyter.widget-view+json": {
       "model_id": "",
       "version_major": 2,
       "version_minor": 0
      },
      "text/plain": [
       "HBox(children=(FloatProgress(value=1.0, bar_style='info', max=1.0), HTML(value='')))"
      ]
     },
     "metadata": {},
     "output_type": "display_data"
    },
    {
     "name": "stdout",
     "output_type": "stream",
     "text": [
      "/home/ubuntu/wit/XML_releases/xml-20150616/ted_it-20150530.zip\n",
      "Dataset ted_talks_iwsl_t2 downloaded and prepared to /home/ubuntu/.cache/huggingface/datasets/ted_talks_iwsl_t2/it/1.1.0/a05d6e4e2dfce9d4b52fb831beab23647c052434e38b69f839af4c33510034fc. Subsequent calls will reuse this data.\n",
      "Downloading and preparing dataset ted_talks_iwsl_t2/da (download: Unknown size, generated: Unknown size, post-processed: Unknown size, total: Unknown size) to /home/ubuntu/.cache/huggingface/datasets/ted_talks_iwsl_t2/da/1.1.0/a05d6e4e2dfce9d4b52fb831beab23647c052434e38b69f839af4c33510034fc...\n"
     ]
    },
    {
     "data": {
      "application/vnd.jupyter.widget-view+json": {
       "model_id": "",
       "version_major": 2,
       "version_minor": 0
      },
      "text/plain": [
       "HBox(children=(FloatProgress(value=1.0, bar_style='info', max=1.0), HTML(value='')))"
      ]
     },
     "metadata": {},
     "output_type": "display_data"
    },
    {
     "name": "stdout",
     "output_type": "stream",
     "text": [
      "/home/ubuntu/wit/XML_releases/xml-20140120/ted_da-20140120.zip\n"
     ]
    },
    {
     "data": {
      "application/vnd.jupyter.widget-view+json": {
       "model_id": "",
       "version_major": 2,
       "version_minor": 0
      },
      "text/plain": [
       "HBox(children=(FloatProgress(value=1.0, bar_style='info', max=1.0), HTML(value='')))"
      ]
     },
     "metadata": {},
     "output_type": "display_data"
    },
    {
     "name": "stdout",
     "output_type": "stream",
     "text": [
      "/home/ubuntu/wit/XML_releases/xml/ted_da-20160408.zip\n"
     ]
    },
    {
     "data": {
      "application/vnd.jupyter.widget-view+json": {
       "model_id": "",
       "version_major": 2,
       "version_minor": 0
      },
      "text/plain": [
       "HBox(children=(FloatProgress(value=1.0, bar_style='info', max=1.0), HTML(value='')))"
      ]
     },
     "metadata": {},
     "output_type": "display_data"
    },
    {
     "name": "stdout",
     "output_type": "stream",
     "text": [
      "/home/ubuntu/wit/XML_releases/xml-20150616/ted_da-20150530.zip\n",
      "Dataset ted_talks_iwsl_t2 downloaded and prepared to /home/ubuntu/.cache/huggingface/datasets/ted_talks_iwsl_t2/da/1.1.0/a05d6e4e2dfce9d4b52fb831beab23647c052434e38b69f839af4c33510034fc. Subsequent calls will reuse this data.\n",
      "Downloading and preparing dataset ted_talks_iwsl_t2/lt (download: Unknown size, generated: Unknown size, post-processed: Unknown size, total: Unknown size) to /home/ubuntu/.cache/huggingface/datasets/ted_talks_iwsl_t2/lt/1.1.0/a05d6e4e2dfce9d4b52fb831beab23647c052434e38b69f839af4c33510034fc...\n"
     ]
    },
    {
     "data": {
      "application/vnd.jupyter.widget-view+json": {
       "model_id": "",
       "version_major": 2,
       "version_minor": 0
      },
      "text/plain": [
       "HBox(children=(FloatProgress(value=1.0, bar_style='info', max=1.0), HTML(value='')))"
      ]
     },
     "metadata": {},
     "output_type": "display_data"
    },
    {
     "name": "stdout",
     "output_type": "stream",
     "text": [
      "/home/ubuntu/wit/XML_releases/xml-20140120/ted_lt-20140120.zip\n"
     ]
    },
    {
     "data": {
      "application/vnd.jupyter.widget-view+json": {
       "model_id": "",
       "version_major": 2,
       "version_minor": 0
      },
      "text/plain": [
       "HBox(children=(FloatProgress(value=1.0, bar_style='info', max=1.0), HTML(value='')))"
      ]
     },
     "metadata": {},
     "output_type": "display_data"
    },
    {
     "name": "stdout",
     "output_type": "stream",
     "text": [
      "/home/ubuntu/wit/XML_releases/xml/ted_lt-20160408.zip\n"
     ]
    },
    {
     "data": {
      "application/vnd.jupyter.widget-view+json": {
       "model_id": "",
       "version_major": 2,
       "version_minor": 0
      },
      "text/plain": [
       "HBox(children=(FloatProgress(value=1.0, bar_style='info', max=1.0), HTML(value='')))"
      ]
     },
     "metadata": {},
     "output_type": "display_data"
    },
    {
     "name": "stdout",
     "output_type": "stream",
     "text": [
      "/home/ubuntu/wit/XML_releases/xml-20150616/ted_lt-20150530.zip\n",
      "Dataset ted_talks_iwsl_t2 downloaded and prepared to /home/ubuntu/.cache/huggingface/datasets/ted_talks_iwsl_t2/lt/1.1.0/a05d6e4e2dfce9d4b52fb831beab23647c052434e38b69f839af4c33510034fc. Subsequent calls will reuse this data.\n",
      "Downloading and preparing dataset ted_talks_iwsl_t2/kk (download: Unknown size, generated: Unknown size, post-processed: Unknown size, total: Unknown size) to /home/ubuntu/.cache/huggingface/datasets/ted_talks_iwsl_t2/kk/1.1.0/a05d6e4e2dfce9d4b52fb831beab23647c052434e38b69f839af4c33510034fc...\n"
     ]
    },
    {
     "data": {
      "application/vnd.jupyter.widget-view+json": {
       "model_id": "",
       "version_major": 2,
       "version_minor": 0
      },
      "text/plain": [
       "HBox(children=(FloatProgress(value=1.0, bar_style='info', max=1.0), HTML(value='')))"
      ]
     },
     "metadata": {},
     "output_type": "display_data"
    },
    {
     "name": "stdout",
     "output_type": "stream",
     "text": [
      "/home/ubuntu/wit/XML_releases/xml-20140120/ted_kk-20140120.zip\n"
     ]
    },
    {
     "data": {
      "application/vnd.jupyter.widget-view+json": {
       "model_id": "",
       "version_major": 2,
       "version_minor": 0
      },
      "text/plain": [
       "HBox(children=(FloatProgress(value=1.0, bar_style='info', max=1.0), HTML(value='')))"
      ]
     },
     "metadata": {},
     "output_type": "display_data"
    },
    {
     "name": "stdout",
     "output_type": "stream",
     "text": [
      "/home/ubuntu/wit/XML_releases/xml/ted_kk-20160408.zip\n"
     ]
    },
    {
     "data": {
      "application/vnd.jupyter.widget-view+json": {
       "model_id": "",
       "version_major": 2,
       "version_minor": 0
      },
      "text/plain": [
       "HBox(children=(FloatProgress(value=1.0, bar_style='info', max=1.0), HTML(value='')))"
      ]
     },
     "metadata": {},
     "output_type": "display_data"
    },
    {
     "name": "stdout",
     "output_type": "stream",
     "text": [
      "/home/ubuntu/wit/XML_releases/xml-20150616/ted_kk-20150530.zip\n",
      "Dataset ted_talks_iwsl_t2 downloaded and prepared to /home/ubuntu/.cache/huggingface/datasets/ted_talks_iwsl_t2/kk/1.1.0/a05d6e4e2dfce9d4b52fb831beab23647c052434e38b69f839af4c33510034fc. Subsequent calls will reuse this data.\n",
      "Downloading and preparing dataset ted_talks_iwsl_t2/mk (download: Unknown size, generated: Unknown size, post-processed: Unknown size, total: Unknown size) to /home/ubuntu/.cache/huggingface/datasets/ted_talks_iwsl_t2/mk/1.1.0/a05d6e4e2dfce9d4b52fb831beab23647c052434e38b69f839af4c33510034fc...\n"
     ]
    },
    {
     "data": {
      "application/vnd.jupyter.widget-view+json": {
       "model_id": "",
       "version_major": 2,
       "version_minor": 0
      },
      "text/plain": [
       "HBox(children=(FloatProgress(value=1.0, bar_style='info', max=1.0), HTML(value='')))"
      ]
     },
     "metadata": {},
     "output_type": "display_data"
    },
    {
     "name": "stdout",
     "output_type": "stream",
     "text": [
      "/home/ubuntu/wit/XML_releases/xml-20140120/ted_mk-20140120.zip\n"
     ]
    },
    {
     "data": {
      "application/vnd.jupyter.widget-view+json": {
       "model_id": "",
       "version_major": 2,
       "version_minor": 0
      },
      "text/plain": [
       "HBox(children=(FloatProgress(value=1.0, bar_style='info', max=1.0), HTML(value='')))"
      ]
     },
     "metadata": {},
     "output_type": "display_data"
    },
    {
     "name": "stdout",
     "output_type": "stream",
     "text": [
      "/home/ubuntu/wit/XML_releases/xml/ted_mk-20160408.zip\n"
     ]
    },
    {
     "data": {
      "application/vnd.jupyter.widget-view+json": {
       "model_id": "",
       "version_major": 2,
       "version_minor": 0
      },
      "text/plain": [
       "HBox(children=(FloatProgress(value=1.0, bar_style='info', max=1.0), HTML(value='')))"
      ]
     },
     "metadata": {},
     "output_type": "display_data"
    },
    {
     "name": "stdout",
     "output_type": "stream",
     "text": [
      "/home/ubuntu/wit/XML_releases/xml-20150616/ted_mk-20150530.zip\n",
      "Dataset ted_talks_iwsl_t2 downloaded and prepared to /home/ubuntu/.cache/huggingface/datasets/ted_talks_iwsl_t2/mk/1.1.0/a05d6e4e2dfce9d4b52fb831beab23647c052434e38b69f839af4c33510034fc. Subsequent calls will reuse this data.\n",
      "Downloading and preparing dataset ted_talks_iwsl_t2/tlh (download: Unknown size, generated: Unknown size, post-processed: Unknown size, total: Unknown size) to /home/ubuntu/.cache/huggingface/datasets/ted_talks_iwsl_t2/tlh/1.1.0/a05d6e4e2dfce9d4b52fb831beab23647c052434e38b69f839af4c33510034fc...\n"
     ]
    },
    {
     "data": {
      "application/vnd.jupyter.widget-view+json": {
       "model_id": "",
       "version_major": 2,
       "version_minor": 0
      },
      "text/plain": [
       "HBox(children=(FloatProgress(value=1.0, bar_style='info', max=1.0), HTML(value='')))"
      ]
     },
     "metadata": {},
     "output_type": "display_data"
    },
    {
     "name": "stdout",
     "output_type": "stream",
     "text": [
      "/home/ubuntu/wit/XML_releases/xml-20140120/ted_tlh-20140120.zip\n"
     ]
    },
    {
     "data": {
      "application/vnd.jupyter.widget-view+json": {
       "model_id": "",
       "version_major": 2,
       "version_minor": 0
      },
      "text/plain": [
       "HBox(children=(FloatProgress(value=1.0, bar_style='info', max=1.0), HTML(value='')))"
      ]
     },
     "metadata": {},
     "output_type": "display_data"
    },
    {
     "name": "stdout",
     "output_type": "stream",
     "text": [
      "/home/ubuntu/wit/XML_releases/xml/ted_tlh-20160408.zip\n"
     ]
    },
    {
     "data": {
      "application/vnd.jupyter.widget-view+json": {
       "model_id": "",
       "version_major": 2,
       "version_minor": 0
      },
      "text/plain": [
       "HBox(children=(FloatProgress(value=1.0, bar_style='info', max=1.0), HTML(value='')))"
      ]
     },
     "metadata": {},
     "output_type": "display_data"
    },
    {
     "name": "stdout",
     "output_type": "stream",
     "text": [
      "/home/ubuntu/wit/XML_releases/xml-20150616/ted_tlh-20150530.zip\n",
      "Dataset ted_talks_iwsl_t2 downloaded and prepared to /home/ubuntu/.cache/huggingface/datasets/ted_talks_iwsl_t2/tlh/1.1.0/a05d6e4e2dfce9d4b52fb831beab23647c052434e38b69f839af4c33510034fc. Subsequent calls will reuse this data.\n",
      "Downloading and preparing dataset ted_talks_iwsl_t2/he (download: Unknown size, generated: Unknown size, post-processed: Unknown size, total: Unknown size) to /home/ubuntu/.cache/huggingface/datasets/ted_talks_iwsl_t2/he/1.1.0/a05d6e4e2dfce9d4b52fb831beab23647c052434e38b69f839af4c33510034fc...\n"
     ]
    },
    {
     "data": {
      "application/vnd.jupyter.widget-view+json": {
       "model_id": "",
       "version_major": 2,
       "version_minor": 0
      },
      "text/plain": [
       "HBox(children=(FloatProgress(value=1.0, bar_style='info', max=1.0), HTML(value='')))"
      ]
     },
     "metadata": {},
     "output_type": "display_data"
    },
    {
     "name": "stdout",
     "output_type": "stream",
     "text": [
      "/home/ubuntu/wit/XML_releases/xml-20140120/ted_he-20140120.zip\n"
     ]
    },
    {
     "data": {
      "application/vnd.jupyter.widget-view+json": {
       "model_id": "",
       "version_major": 2,
       "version_minor": 0
      },
      "text/plain": [
       "HBox(children=(FloatProgress(value=1.0, bar_style='info', max=1.0), HTML(value='')))"
      ]
     },
     "metadata": {},
     "output_type": "display_data"
    },
    {
     "name": "stdout",
     "output_type": "stream",
     "text": [
      "/home/ubuntu/wit/XML_releases/xml/ted_he-20160408.zip\n"
     ]
    },
    {
     "data": {
      "application/vnd.jupyter.widget-view+json": {
       "model_id": "",
       "version_major": 2,
       "version_minor": 0
      },
      "text/plain": [
       "HBox(children=(FloatProgress(value=1.0, bar_style='info', max=1.0), HTML(value='')))"
      ]
     },
     "metadata": {},
     "output_type": "display_data"
    },
    {
     "name": "stdout",
     "output_type": "stream",
     "text": [
      "/home/ubuntu/wit/XML_releases/xml-20150616/ted_he-20150530.zip\n",
      "Dataset ted_talks_iwsl_t2 downloaded and prepared to /home/ubuntu/.cache/huggingface/datasets/ted_talks_iwsl_t2/he/1.1.0/a05d6e4e2dfce9d4b52fb831beab23647c052434e38b69f839af4c33510034fc. Subsequent calls will reuse this data.\n",
      "Downloading and preparing dataset ted_talks_iwsl_t2/ceb (download: Unknown size, generated: Unknown size, post-processed: Unknown size, total: Unknown size) to /home/ubuntu/.cache/huggingface/datasets/ted_talks_iwsl_t2/ceb/1.1.0/a05d6e4e2dfce9d4b52fb831beab23647c052434e38b69f839af4c33510034fc...\n"
     ]
    },
    {
     "data": {
      "application/vnd.jupyter.widget-view+json": {
       "model_id": "",
       "version_major": 2,
       "version_minor": 0
      },
      "text/plain": [
       "HBox(children=(FloatProgress(value=1.0, bar_style='info', max=1.0), HTML(value='')))"
      ]
     },
     "metadata": {},
     "output_type": "display_data"
    },
    {
     "name": "stdout",
     "output_type": "stream",
     "text": [
      "/home/ubuntu/wit/XML_releases/xml-20140120/ted_ceb-20140120.zip\n"
     ]
    },
    {
     "data": {
      "application/vnd.jupyter.widget-view+json": {
       "model_id": "",
       "version_major": 2,
       "version_minor": 0
      },
      "text/plain": [
       "HBox(children=(FloatProgress(value=1.0, bar_style='info', max=1.0), HTML(value='')))"
      ]
     },
     "metadata": {},
     "output_type": "display_data"
    },
    {
     "name": "stdout",
     "output_type": "stream",
     "text": [
      "/home/ubuntu/wit/XML_releases/xml/ted_ceb-20160408.zip\n"
     ]
    },
    {
     "data": {
      "application/vnd.jupyter.widget-view+json": {
       "model_id": "",
       "version_major": 2,
       "version_minor": 0
      },
      "text/plain": [
       "HBox(children=(FloatProgress(value=1.0, bar_style='info', max=1.0), HTML(value='')))"
      ]
     },
     "metadata": {},
     "output_type": "display_data"
    },
    {
     "name": "stdout",
     "output_type": "stream",
     "text": [
      "/home/ubuntu/wit/XML_releases/xml-20150616/ted_ceb-20150530.zip\n",
      "Dataset ted_talks_iwsl_t2 downloaded and prepared to /home/ubuntu/.cache/huggingface/datasets/ted_talks_iwsl_t2/ceb/1.1.0/a05d6e4e2dfce9d4b52fb831beab23647c052434e38b69f839af4c33510034fc. Subsequent calls will reuse this data.\n",
      "Downloading and preparing dataset ted_talks_iwsl_t2/bg (download: Unknown size, generated: Unknown size, post-processed: Unknown size, total: Unknown size) to /home/ubuntu/.cache/huggingface/datasets/ted_talks_iwsl_t2/bg/1.1.0/a05d6e4e2dfce9d4b52fb831beab23647c052434e38b69f839af4c33510034fc...\n"
     ]
    },
    {
     "data": {
      "application/vnd.jupyter.widget-view+json": {
       "model_id": "",
       "version_major": 2,
       "version_minor": 0
      },
      "text/plain": [
       "HBox(children=(FloatProgress(value=1.0, bar_style='info', max=1.0), HTML(value='')))"
      ]
     },
     "metadata": {},
     "output_type": "display_data"
    },
    {
     "name": "stdout",
     "output_type": "stream",
     "text": [
      "/home/ubuntu/wit/XML_releases/xml-20140120/ted_bg-20140120.zip\n"
     ]
    },
    {
     "data": {
      "application/vnd.jupyter.widget-view+json": {
       "model_id": "",
       "version_major": 2,
       "version_minor": 0
      },
      "text/plain": [
       "HBox(children=(FloatProgress(value=1.0, bar_style='info', max=1.0), HTML(value='')))"
      ]
     },
     "metadata": {},
     "output_type": "display_data"
    },
    {
     "name": "stdout",
     "output_type": "stream",
     "text": [
      "/home/ubuntu/wit/XML_releases/xml/ted_bg-20160408.zip\n"
     ]
    },
    {
     "data": {
      "application/vnd.jupyter.widget-view+json": {
       "model_id": "",
       "version_major": 2,
       "version_minor": 0
      },
      "text/plain": [
       "HBox(children=(FloatProgress(value=1.0, bar_style='info', max=1.0), HTML(value='')))"
      ]
     },
     "metadata": {},
     "output_type": "display_data"
    },
    {
     "name": "stdout",
     "output_type": "stream",
     "text": [
      "/home/ubuntu/wit/XML_releases/xml-20150616/ted_bg-20150530.zip\n",
      "Dataset ted_talks_iwsl_t2 downloaded and prepared to /home/ubuntu/.cache/huggingface/datasets/ted_talks_iwsl_t2/bg/1.1.0/a05d6e4e2dfce9d4b52fb831beab23647c052434e38b69f839af4c33510034fc. Subsequent calls will reuse this data.\n",
      "Downloading and preparing dataset ted_talks_iwsl_t2/fr-ca (download: Unknown size, generated: Unknown size, post-processed: Unknown size, total: Unknown size) to /home/ubuntu/.cache/huggingface/datasets/ted_talks_iwsl_t2/fr-ca/1.1.0/a05d6e4e2dfce9d4b52fb831beab23647c052434e38b69f839af4c33510034fc...\n"
     ]
    },
    {
     "data": {
      "application/vnd.jupyter.widget-view+json": {
       "model_id": "",
       "version_major": 2,
       "version_minor": 0
      },
      "text/plain": [
       "HBox(children=(FloatProgress(value=1.0, bar_style='info', max=1.0), HTML(value='')))"
      ]
     },
     "metadata": {},
     "output_type": "display_data"
    },
    {
     "name": "stdout",
     "output_type": "stream",
     "text": [
      "/home/ubuntu/wit/XML_releases/xml-20140120/ted_fr-ca-20140120.zip\n"
     ]
    },
    {
     "data": {
      "application/vnd.jupyter.widget-view+json": {
       "model_id": "",
       "version_major": 2,
       "version_minor": 0
      },
      "text/plain": [
       "HBox(children=(FloatProgress(value=1.0, bar_style='info', max=1.0), HTML(value='')))"
      ]
     },
     "metadata": {},
     "output_type": "display_data"
    },
    {
     "name": "stdout",
     "output_type": "stream",
     "text": [
      "/home/ubuntu/wit/XML_releases/xml/ted_fr-ca-20160408.zip\n"
     ]
    },
    {
     "data": {
      "application/vnd.jupyter.widget-view+json": {
       "model_id": "",
       "version_major": 2,
       "version_minor": 0
      },
      "text/plain": [
       "HBox(children=(FloatProgress(value=1.0, bar_style='info', max=1.0), HTML(value='')))"
      ]
     },
     "metadata": {},
     "output_type": "display_data"
    },
    {
     "name": "stdout",
     "output_type": "stream",
     "text": [
      "/home/ubuntu/wit/XML_releases/xml-20150616/ted_fr-ca-20150530.zip\n",
      "Dataset ted_talks_iwsl_t2 downloaded and prepared to /home/ubuntu/.cache/huggingface/datasets/ted_talks_iwsl_t2/fr-ca/1.1.0/a05d6e4e2dfce9d4b52fb831beab23647c052434e38b69f839af4c33510034fc. Subsequent calls will reuse this data.\n",
      "Downloading and preparing dataset ted_talks_iwsl_t2/ha (download: Unknown size, generated: Unknown size, post-processed: Unknown size, total: Unknown size) to /home/ubuntu/.cache/huggingface/datasets/ted_talks_iwsl_t2/ha/1.1.0/a05d6e4e2dfce9d4b52fb831beab23647c052434e38b69f839af4c33510034fc...\n"
     ]
    },
    {
     "data": {
      "application/vnd.jupyter.widget-view+json": {
       "model_id": "",
       "version_major": 2,
       "version_minor": 0
      },
      "text/plain": [
       "HBox(children=(FloatProgress(value=1.0, bar_style='info', max=1.0), HTML(value='')))"
      ]
     },
     "metadata": {},
     "output_type": "display_data"
    },
    {
     "name": "stdout",
     "output_type": "stream",
     "text": [
      "/home/ubuntu/wit/XML_releases/xml-20140120/ted_ha-20140120.zip\n"
     ]
    },
    {
     "data": {
      "application/vnd.jupyter.widget-view+json": {
       "model_id": "",
       "version_major": 2,
       "version_minor": 0
      },
      "text/plain": [
       "HBox(children=(FloatProgress(value=1.0, bar_style='info', max=1.0), HTML(value='')))"
      ]
     },
     "metadata": {},
     "output_type": "display_data"
    },
    {
     "name": "stdout",
     "output_type": "stream",
     "text": [
      "/home/ubuntu/wit/XML_releases/xml/ted_ha-20160408.zip\n"
     ]
    },
    {
     "data": {
      "application/vnd.jupyter.widget-view+json": {
       "model_id": "",
       "version_major": 2,
       "version_minor": 0
      },
      "text/plain": [
       "HBox(children=(FloatProgress(value=1.0, bar_style='info', max=1.0), HTML(value='')))"
      ]
     },
     "metadata": {},
     "output_type": "display_data"
    },
    {
     "name": "stdout",
     "output_type": "stream",
     "text": [
      "/home/ubuntu/wit/XML_releases/xml-20150616/ted_ha-20150530.zip\n",
      "Dataset ted_talks_iwsl_t2 downloaded and prepared to /home/ubuntu/.cache/huggingface/datasets/ted_talks_iwsl_t2/ha/1.1.0/a05d6e4e2dfce9d4b52fb831beab23647c052434e38b69f839af4c33510034fc. Subsequent calls will reuse this data.\n",
      "Downloading and preparing dataset ted_talks_iwsl_t2/ml (download: Unknown size, generated: Unknown size, post-processed: Unknown size, total: Unknown size) to /home/ubuntu/.cache/huggingface/datasets/ted_talks_iwsl_t2/ml/1.1.0/a05d6e4e2dfce9d4b52fb831beab23647c052434e38b69f839af4c33510034fc...\n"
     ]
    },
    {
     "data": {
      "application/vnd.jupyter.widget-view+json": {
       "model_id": "",
       "version_major": 2,
       "version_minor": 0
      },
      "text/plain": [
       "HBox(children=(FloatProgress(value=1.0, bar_style='info', max=1.0), HTML(value='')))"
      ]
     },
     "metadata": {},
     "output_type": "display_data"
    },
    {
     "name": "stdout",
     "output_type": "stream",
     "text": [
      "/home/ubuntu/wit/XML_releases/xml-20140120/ted_ml-20140120.zip\n"
     ]
    },
    {
     "data": {
      "application/vnd.jupyter.widget-view+json": {
       "model_id": "",
       "version_major": 2,
       "version_minor": 0
      },
      "text/plain": [
       "HBox(children=(FloatProgress(value=1.0, bar_style='info', max=1.0), HTML(value='')))"
      ]
     },
     "metadata": {},
     "output_type": "display_data"
    },
    {
     "name": "stdout",
     "output_type": "stream",
     "text": [
      "/home/ubuntu/wit/XML_releases/xml/ted_ml-20160408.zip\n"
     ]
    },
    {
     "data": {
      "application/vnd.jupyter.widget-view+json": {
       "model_id": "",
       "version_major": 2,
       "version_minor": 0
      },
      "text/plain": [
       "HBox(children=(FloatProgress(value=1.0, bar_style='info', max=1.0), HTML(value='')))"
      ]
     },
     "metadata": {},
     "output_type": "display_data"
    },
    {
     "name": "stdout",
     "output_type": "stream",
     "text": [
      "/home/ubuntu/wit/XML_releases/xml-20150616/ted_ml-20150530.zip\n",
      "Dataset ted_talks_iwsl_t2 downloaded and prepared to /home/ubuntu/.cache/huggingface/datasets/ted_talks_iwsl_t2/ml/1.1.0/a05d6e4e2dfce9d4b52fb831beab23647c052434e38b69f839af4c33510034fc. Subsequent calls will reuse this data.\n",
      "Downloading and preparing dataset ted_talks_iwsl_t2/mt (download: Unknown size, generated: Unknown size, post-processed: Unknown size, total: Unknown size) to /home/ubuntu/.cache/huggingface/datasets/ted_talks_iwsl_t2/mt/1.1.0/a05d6e4e2dfce9d4b52fb831beab23647c052434e38b69f839af4c33510034fc...\n"
     ]
    },
    {
     "data": {
      "application/vnd.jupyter.widget-view+json": {
       "model_id": "",
       "version_major": 2,
       "version_minor": 0
      },
      "text/plain": [
       "HBox(children=(FloatProgress(value=1.0, bar_style='info', max=1.0), HTML(value='')))"
      ]
     },
     "metadata": {},
     "output_type": "display_data"
    },
    {
     "name": "stdout",
     "output_type": "stream",
     "text": [
      "/home/ubuntu/wit/XML_releases/xml-20140120/ted_mt-20140120.zip\n",
      "File doesn't exist:: /home/ubuntu/wit/XML_releases/xml-20140120/ted_mt-20140120.zip\n"
     ]
    },
    {
     "data": {
      "application/vnd.jupyter.widget-view+json": {
       "model_id": "",
       "version_major": 2,
       "version_minor": 0
      },
      "text/plain": [
       "HBox(children=(FloatProgress(value=1.0, bar_style='info', max=1.0), HTML(value='')))"
      ]
     },
     "metadata": {},
     "output_type": "display_data"
    },
    {
     "name": "stdout",
     "output_type": "stream",
     "text": [
      "/home/ubuntu/wit/XML_releases/xml/ted_mt-20160408.zip\n"
     ]
    },
    {
     "data": {
      "application/vnd.jupyter.widget-view+json": {
       "model_id": "",
       "version_major": 2,
       "version_minor": 0
      },
      "text/plain": [
       "HBox(children=(FloatProgress(value=1.0, bar_style='info', max=1.0), HTML(value='')))"
      ]
     },
     "metadata": {},
     "output_type": "display_data"
    },
    {
     "name": "stdout",
     "output_type": "stream",
     "text": [
      "/home/ubuntu/wit/XML_releases/xml-20150616/ted_mt-20150530.zip\n",
      "Dataset ted_talks_iwsl_t2 downloaded and prepared to /home/ubuntu/.cache/huggingface/datasets/ted_talks_iwsl_t2/mt/1.1.0/a05d6e4e2dfce9d4b52fb831beab23647c052434e38b69f839af4c33510034fc. Subsequent calls will reuse this data.\n",
      "Downloading and preparing dataset ted_talks_iwsl_t2/as (download: Unknown size, generated: Unknown size, post-processed: Unknown size, total: Unknown size) to /home/ubuntu/.cache/huggingface/datasets/ted_talks_iwsl_t2/as/1.1.0/a05d6e4e2dfce9d4b52fb831beab23647c052434e38b69f839af4c33510034fc...\n"
     ]
    },
    {
     "data": {
      "application/vnd.jupyter.widget-view+json": {
       "model_id": "",
       "version_major": 2,
       "version_minor": 0
      },
      "text/plain": [
       "HBox(children=(FloatProgress(value=1.0, bar_style='info', max=1.0), HTML(value='')))"
      ]
     },
     "metadata": {},
     "output_type": "display_data"
    },
    {
     "name": "stdout",
     "output_type": "stream",
     "text": [
      "/home/ubuntu/wit/XML_releases/xml-20140120/ted_as-20140120.zip\n"
     ]
    },
    {
     "data": {
      "application/vnd.jupyter.widget-view+json": {
       "model_id": "",
       "version_major": 2,
       "version_minor": 0
      },
      "text/plain": [
       "HBox(children=(FloatProgress(value=1.0, bar_style='info', max=1.0), HTML(value='')))"
      ]
     },
     "metadata": {},
     "output_type": "display_data"
    },
    {
     "name": "stdout",
     "output_type": "stream",
     "text": [
      "/home/ubuntu/wit/XML_releases/xml/ted_as-20160408.zip\n"
     ]
    },
    {
     "data": {
      "application/vnd.jupyter.widget-view+json": {
       "model_id": "",
       "version_major": 2,
       "version_minor": 0
      },
      "text/plain": [
       "HBox(children=(FloatProgress(value=1.0, bar_style='info', max=1.0), HTML(value='')))"
      ]
     },
     "metadata": {},
     "output_type": "display_data"
    },
    {
     "name": "stdout",
     "output_type": "stream",
     "text": [
      "/home/ubuntu/wit/XML_releases/xml-20150616/ted_as-20150530.zip\n",
      "Dataset ted_talks_iwsl_t2 downloaded and prepared to /home/ubuntu/.cache/huggingface/datasets/ted_talks_iwsl_t2/as/1.1.0/a05d6e4e2dfce9d4b52fb831beab23647c052434e38b69f839af4c33510034fc. Subsequent calls will reuse this data.\n",
      "Downloading and preparing dataset ted_talks_iwsl_t2/pt (download: Unknown size, generated: Unknown size, post-processed: Unknown size, total: Unknown size) to /home/ubuntu/.cache/huggingface/datasets/ted_talks_iwsl_t2/pt/1.1.0/a05d6e4e2dfce9d4b52fb831beab23647c052434e38b69f839af4c33510034fc...\n"
     ]
    },
    {
     "data": {
      "application/vnd.jupyter.widget-view+json": {
       "model_id": "",
       "version_major": 2,
       "version_minor": 0
      },
      "text/plain": [
       "HBox(children=(FloatProgress(value=1.0, bar_style='info', max=1.0), HTML(value='')))"
      ]
     },
     "metadata": {},
     "output_type": "display_data"
    },
    {
     "name": "stdout",
     "output_type": "stream",
     "text": [
      "/home/ubuntu/wit/XML_releases/xml-20140120/ted_pt-20140120.zip\n"
     ]
    },
    {
     "data": {
      "application/vnd.jupyter.widget-view+json": {
       "model_id": "",
       "version_major": 2,
       "version_minor": 0
      },
      "text/plain": [
       "HBox(children=(FloatProgress(value=1.0, bar_style='info', max=1.0), HTML(value='')))"
      ]
     },
     "metadata": {},
     "output_type": "display_data"
    },
    {
     "name": "stdout",
     "output_type": "stream",
     "text": [
      "/home/ubuntu/wit/XML_releases/xml/ted_pt-20160408.zip\n"
     ]
    },
    {
     "data": {
      "application/vnd.jupyter.widget-view+json": {
       "model_id": "",
       "version_major": 2,
       "version_minor": 0
      },
      "text/plain": [
       "HBox(children=(FloatProgress(value=1.0, bar_style='info', max=1.0), HTML(value='')))"
      ]
     },
     "metadata": {},
     "output_type": "display_data"
    },
    {
     "name": "stdout",
     "output_type": "stream",
     "text": [
      "/home/ubuntu/wit/XML_releases/xml-20150616/ted_pt-20150530.zip\n",
      "Dataset ted_talks_iwsl_t2 downloaded and prepared to /home/ubuntu/.cache/huggingface/datasets/ted_talks_iwsl_t2/pt/1.1.0/a05d6e4e2dfce9d4b52fb831beab23647c052434e38b69f839af4c33510034fc. Subsequent calls will reuse this data.\n",
      "Downloading and preparing dataset ted_talks_iwsl_t2/zh-cn (download: Unknown size, generated: Unknown size, post-processed: Unknown size, total: Unknown size) to /home/ubuntu/.cache/huggingface/datasets/ted_talks_iwsl_t2/zh-cn/1.1.0/a05d6e4e2dfce9d4b52fb831beab23647c052434e38b69f839af4c33510034fc...\n"
     ]
    },
    {
     "data": {
      "application/vnd.jupyter.widget-view+json": {
       "model_id": "",
       "version_major": 2,
       "version_minor": 0
      },
      "text/plain": [
       "HBox(children=(FloatProgress(value=1.0, bar_style='info', max=1.0), HTML(value='')))"
      ]
     },
     "metadata": {},
     "output_type": "display_data"
    },
    {
     "name": "stdout",
     "output_type": "stream",
     "text": [
      "/home/ubuntu/wit/XML_releases/xml-20140120/ted_zh-cn-20140120.zip\n"
     ]
    },
    {
     "data": {
      "application/vnd.jupyter.widget-view+json": {
       "model_id": "",
       "version_major": 2,
       "version_minor": 0
      },
      "text/plain": [
       "HBox(children=(FloatProgress(value=1.0, bar_style='info', max=1.0), HTML(value='')))"
      ]
     },
     "metadata": {},
     "output_type": "display_data"
    },
    {
     "name": "stdout",
     "output_type": "stream",
     "text": [
      "/home/ubuntu/wit/XML_releases/xml/ted_zh-cn-20160408.zip\n"
     ]
    },
    {
     "data": {
      "application/vnd.jupyter.widget-view+json": {
       "model_id": "",
       "version_major": 2,
       "version_minor": 0
      },
      "text/plain": [
       "HBox(children=(FloatProgress(value=1.0, bar_style='info', max=1.0), HTML(value='')))"
      ]
     },
     "metadata": {},
     "output_type": "display_data"
    },
    {
     "name": "stdout",
     "output_type": "stream",
     "text": [
      "/home/ubuntu/wit/XML_releases/xml-20150616/ted_zh-cn-20150530.zip\n",
      "Dataset ted_talks_iwsl_t2 downloaded and prepared to /home/ubuntu/.cache/huggingface/datasets/ted_talks_iwsl_t2/zh-cn/1.1.0/a05d6e4e2dfce9d4b52fb831beab23647c052434e38b69f839af4c33510034fc. Subsequent calls will reuse this data.\n",
      "Downloading and preparing dataset ted_talks_iwsl_t2/cnh (download: Unknown size, generated: Unknown size, post-processed: Unknown size, total: Unknown size) to /home/ubuntu/.cache/huggingface/datasets/ted_talks_iwsl_t2/cnh/1.1.0/a05d6e4e2dfce9d4b52fb831beab23647c052434e38b69f839af4c33510034fc...\n"
     ]
    },
    {
     "data": {
      "application/vnd.jupyter.widget-view+json": {
       "model_id": "",
       "version_major": 2,
       "version_minor": 0
      },
      "text/plain": [
       "HBox(children=(FloatProgress(value=1.0, bar_style='info', max=1.0), HTML(value='')))"
      ]
     },
     "metadata": {},
     "output_type": "display_data"
    },
    {
     "name": "stdout",
     "output_type": "stream",
     "text": [
      "/home/ubuntu/wit/XML_releases/xml-20140120/ted_cnh-20140120.zip\n",
      "File doesn't exist:: /home/ubuntu/wit/XML_releases/xml-20140120/ted_cnh-20140120.zip\n"
     ]
    },
    {
     "data": {
      "application/vnd.jupyter.widget-view+json": {
       "model_id": "",
       "version_major": 2,
       "version_minor": 0
      },
      "text/plain": [
       "HBox(children=(FloatProgress(value=1.0, bar_style='info', max=1.0), HTML(value='')))"
      ]
     },
     "metadata": {},
     "output_type": "display_data"
    },
    {
     "name": "stdout",
     "output_type": "stream",
     "text": [
      "/home/ubuntu/wit/XML_releases/xml/ted_cnh-20160408.zip\n"
     ]
    },
    {
     "data": {
      "application/vnd.jupyter.widget-view+json": {
       "model_id": "",
       "version_major": 2,
       "version_minor": 0
      },
      "text/plain": [
       "HBox(children=(FloatProgress(value=1.0, bar_style='info', max=1.0), HTML(value='')))"
      ]
     },
     "metadata": {},
     "output_type": "display_data"
    },
    {
     "name": "stdout",
     "output_type": "stream",
     "text": [
      "/home/ubuntu/wit/XML_releases/xml-20150616/ted_cnh-20150530.zip\n",
      "File doesn't exist:: /home/ubuntu/wit/XML_releases/xml-20150616/ted_cnh-20150530.zip\n",
      "Dataset ted_talks_iwsl_t2 downloaded and prepared to /home/ubuntu/.cache/huggingface/datasets/ted_talks_iwsl_t2/cnh/1.1.0/a05d6e4e2dfce9d4b52fb831beab23647c052434e38b69f839af4c33510034fc. Subsequent calls will reuse this data.\n",
      "Downloading and preparing dataset ted_talks_iwsl_t2/ro (download: Unknown size, generated: Unknown size, post-processed: Unknown size, total: Unknown size) to /home/ubuntu/.cache/huggingface/datasets/ted_talks_iwsl_t2/ro/1.1.0/a05d6e4e2dfce9d4b52fb831beab23647c052434e38b69f839af4c33510034fc...\n"
     ]
    },
    {
     "data": {
      "application/vnd.jupyter.widget-view+json": {
       "model_id": "",
       "version_major": 2,
       "version_minor": 0
      },
      "text/plain": [
       "HBox(children=(FloatProgress(value=1.0, bar_style='info', max=1.0), HTML(value='')))"
      ]
     },
     "metadata": {},
     "output_type": "display_data"
    },
    {
     "name": "stdout",
     "output_type": "stream",
     "text": [
      "/home/ubuntu/wit/XML_releases/xml-20140120/ted_ro-20140120.zip\n"
     ]
    },
    {
     "data": {
      "application/vnd.jupyter.widget-view+json": {
       "model_id": "",
       "version_major": 2,
       "version_minor": 0
      },
      "text/plain": [
       "HBox(children=(FloatProgress(value=1.0, bar_style='info', max=1.0), HTML(value='')))"
      ]
     },
     "metadata": {},
     "output_type": "display_data"
    },
    {
     "name": "stdout",
     "output_type": "stream",
     "text": [
      "/home/ubuntu/wit/XML_releases/xml/ted_ro-20160408.zip\n"
     ]
    },
    {
     "data": {
      "application/vnd.jupyter.widget-view+json": {
       "model_id": "",
       "version_major": 2,
       "version_minor": 0
      },
      "text/plain": [
       "HBox(children=(FloatProgress(value=1.0, bar_style='info', max=1.0), HTML(value='')))"
      ]
     },
     "metadata": {},
     "output_type": "display_data"
    },
    {
     "name": "stdout",
     "output_type": "stream",
     "text": [
      "/home/ubuntu/wit/XML_releases/xml-20150616/ted_ro-20150530.zip\n",
      "Dataset ted_talks_iwsl_t2 downloaded and prepared to /home/ubuntu/.cache/huggingface/datasets/ted_talks_iwsl_t2/ro/1.1.0/a05d6e4e2dfce9d4b52fb831beab23647c052434e38b69f839af4c33510034fc. Subsequent calls will reuse this data.\n",
      "Downloading and preparing dataset ted_talks_iwsl_t2/hi (download: Unknown size, generated: Unknown size, post-processed: Unknown size, total: Unknown size) to /home/ubuntu/.cache/huggingface/datasets/ted_talks_iwsl_t2/hi/1.1.0/a05d6e4e2dfce9d4b52fb831beab23647c052434e38b69f839af4c33510034fc...\n"
     ]
    },
    {
     "data": {
      "application/vnd.jupyter.widget-view+json": {
       "model_id": "6d953e3d28624d34955fc5207f476d92",
       "version_major": 2,
       "version_minor": 0
      },
      "text/plain": [
       "HBox(children=(FloatProgress(value=1.0, bar_style='info', max=1.0), HTML(value='')))"
      ]
     },
     "metadata": {},
     "output_type": "display_data"
    },
    {
     "name": "stdout",
     "output_type": "stream",
     "text": [
      "/home/ubuntu/wit/XML_releases/xml-20140120/ted_hi-20140120.zip\n",
      "ERROR: in loading for %s hi\n",
      "Downloading and preparing dataset ted_talks_iwsl_t2/es (download: Unknown size, generated: Unknown size, post-processed: Unknown size, total: Unknown size) to /home/ubuntu/.cache/huggingface/datasets/ted_talks_iwsl_t2/es/1.1.0/a05d6e4e2dfce9d4b52fb831beab23647c052434e38b69f839af4c33510034fc...\n"
     ]
    },
    {
     "data": {
      "application/vnd.jupyter.widget-view+json": {
       "model_id": "",
       "version_major": 2,
       "version_minor": 0
      },
      "text/plain": [
       "HBox(children=(FloatProgress(value=1.0, bar_style='info', max=1.0), HTML(value='')))"
      ]
     },
     "metadata": {},
     "output_type": "display_data"
    },
    {
     "name": "stdout",
     "output_type": "stream",
     "text": [
      "/home/ubuntu/wit/XML_releases/xml-20140120/ted_es-20140120.zip\n"
     ]
    },
    {
     "data": {
      "application/vnd.jupyter.widget-view+json": {
       "model_id": "",
       "version_major": 2,
       "version_minor": 0
      },
      "text/plain": [
       "HBox(children=(FloatProgress(value=1.0, bar_style='info', max=1.0), HTML(value='')))"
      ]
     },
     "metadata": {},
     "output_type": "display_data"
    },
    {
     "name": "stdout",
     "output_type": "stream",
     "text": [
      "/home/ubuntu/wit/XML_releases/xml/ted_es-20160408.zip\n"
     ]
    },
    {
     "data": {
      "application/vnd.jupyter.widget-view+json": {
       "model_id": "",
       "version_major": 2,
       "version_minor": 0
      },
      "text/plain": [
       "HBox(children=(FloatProgress(value=1.0, bar_style='info', max=1.0), HTML(value='')))"
      ]
     },
     "metadata": {},
     "output_type": "display_data"
    },
    {
     "name": "stdout",
     "output_type": "stream",
     "text": [
      "/home/ubuntu/wit/XML_releases/xml-20150616/ted_es-20150530.zip\n",
      "Dataset ted_talks_iwsl_t2 downloaded and prepared to /home/ubuntu/.cache/huggingface/datasets/ted_talks_iwsl_t2/es/1.1.0/a05d6e4e2dfce9d4b52fb831beab23647c052434e38b69f839af4c33510034fc. Subsequent calls will reuse this data.\n",
      "Downloading and preparing dataset ted_talks_iwsl_t2/id (download: Unknown size, generated: Unknown size, post-processed: Unknown size, total: Unknown size) to /home/ubuntu/.cache/huggingface/datasets/ted_talks_iwsl_t2/id/1.1.0/a05d6e4e2dfce9d4b52fb831beab23647c052434e38b69f839af4c33510034fc...\n"
     ]
    },
    {
     "data": {
      "application/vnd.jupyter.widget-view+json": {
       "model_id": "",
       "version_major": 2,
       "version_minor": 0
      },
      "text/plain": [
       "HBox(children=(FloatProgress(value=1.0, bar_style='info', max=1.0), HTML(value='')))"
      ]
     },
     "metadata": {},
     "output_type": "display_data"
    },
    {
     "name": "stdout",
     "output_type": "stream",
     "text": [
      "/home/ubuntu/wit/XML_releases/xml-20140120/ted_id-20140120.zip\n"
     ]
    },
    {
     "data": {
      "application/vnd.jupyter.widget-view+json": {
       "model_id": "",
       "version_major": 2,
       "version_minor": 0
      },
      "text/plain": [
       "HBox(children=(FloatProgress(value=1.0, bar_style='info', max=1.0), HTML(value='')))"
      ]
     },
     "metadata": {},
     "output_type": "display_data"
    },
    {
     "name": "stdout",
     "output_type": "stream",
     "text": [
      "/home/ubuntu/wit/XML_releases/xml/ted_id-20160408.zip\n"
     ]
    },
    {
     "data": {
      "application/vnd.jupyter.widget-view+json": {
       "model_id": "",
       "version_major": 2,
       "version_minor": 0
      },
      "text/plain": [
       "HBox(children=(FloatProgress(value=1.0, bar_style='info', max=1.0), HTML(value='')))"
      ]
     },
     "metadata": {},
     "output_type": "display_data"
    },
    {
     "name": "stdout",
     "output_type": "stream",
     "text": [
      "/home/ubuntu/wit/XML_releases/xml-20150616/ted_id-20150530.zip\n",
      "Dataset ted_talks_iwsl_t2 downloaded and prepared to /home/ubuntu/.cache/huggingface/datasets/ted_talks_iwsl_t2/id/1.1.0/a05d6e4e2dfce9d4b52fb831beab23647c052434e38b69f839af4c33510034fc. Subsequent calls will reuse this data.\n",
      "Downloading and preparing dataset ted_talks_iwsl_t2/bs (download: Unknown size, generated: Unknown size, post-processed: Unknown size, total: Unknown size) to /home/ubuntu/.cache/huggingface/datasets/ted_talks_iwsl_t2/bs/1.1.0/a05d6e4e2dfce9d4b52fb831beab23647c052434e38b69f839af4c33510034fc...\n"
     ]
    },
    {
     "data": {
      "application/vnd.jupyter.widget-view+json": {
       "model_id": "",
       "version_major": 2,
       "version_minor": 0
      },
      "text/plain": [
       "HBox(children=(FloatProgress(value=1.0, bar_style='info', max=1.0), HTML(value='')))"
      ]
     },
     "metadata": {},
     "output_type": "display_data"
    },
    {
     "name": "stdout",
     "output_type": "stream",
     "text": [
      "/home/ubuntu/wit/XML_releases/xml-20140120/ted_bs-20140120.zip\n"
     ]
    },
    {
     "data": {
      "application/vnd.jupyter.widget-view+json": {
       "model_id": "",
       "version_major": 2,
       "version_minor": 0
      },
      "text/plain": [
       "HBox(children=(FloatProgress(value=1.0, bar_style='info', max=1.0), HTML(value='')))"
      ]
     },
     "metadata": {},
     "output_type": "display_data"
    },
    {
     "name": "stdout",
     "output_type": "stream",
     "text": [
      "/home/ubuntu/wit/XML_releases/xml/ted_bs-20160408.zip\n"
     ]
    },
    {
     "data": {
      "application/vnd.jupyter.widget-view+json": {
       "model_id": "",
       "version_major": 2,
       "version_minor": 0
      },
      "text/plain": [
       "HBox(children=(FloatProgress(value=1.0, bar_style='info', max=1.0), HTML(value='')))"
      ]
     },
     "metadata": {},
     "output_type": "display_data"
    },
    {
     "name": "stdout",
     "output_type": "stream",
     "text": [
      "/home/ubuntu/wit/XML_releases/xml-20150616/ted_bs-20150530.zip\n",
      "Dataset ted_talks_iwsl_t2 downloaded and prepared to /home/ubuntu/.cache/huggingface/datasets/ted_talks_iwsl_t2/bs/1.1.0/a05d6e4e2dfce9d4b52fb831beab23647c052434e38b69f839af4c33510034fc. Subsequent calls will reuse this data.\n",
      "Downloading and preparing dataset ted_talks_iwsl_t2/so (download: Unknown size, generated: Unknown size, post-processed: Unknown size, total: Unknown size) to /home/ubuntu/.cache/huggingface/datasets/ted_talks_iwsl_t2/so/1.1.0/a05d6e4e2dfce9d4b52fb831beab23647c052434e38b69f839af4c33510034fc...\n"
     ]
    },
    {
     "data": {
      "application/vnd.jupyter.widget-view+json": {
       "model_id": "",
       "version_major": 2,
       "version_minor": 0
      },
      "text/plain": [
       "HBox(children=(FloatProgress(value=1.0, bar_style='info', max=1.0), HTML(value='')))"
      ]
     },
     "metadata": {},
     "output_type": "display_data"
    },
    {
     "name": "stdout",
     "output_type": "stream",
     "text": [
      "/home/ubuntu/wit/XML_releases/xml-20140120/ted_so-20140120.zip\n"
     ]
    },
    {
     "data": {
      "application/vnd.jupyter.widget-view+json": {
       "model_id": "",
       "version_major": 2,
       "version_minor": 0
      },
      "text/plain": [
       "HBox(children=(FloatProgress(value=1.0, bar_style='info', max=1.0), HTML(value='')))"
      ]
     },
     "metadata": {},
     "output_type": "display_data"
    },
    {
     "name": "stdout",
     "output_type": "stream",
     "text": [
      "/home/ubuntu/wit/XML_releases/xml/ted_so-20160408.zip\n"
     ]
    },
    {
     "data": {
      "application/vnd.jupyter.widget-view+json": {
       "model_id": "",
       "version_major": 2,
       "version_minor": 0
      },
      "text/plain": [
       "HBox(children=(FloatProgress(value=1.0, bar_style='info', max=1.0), HTML(value='')))"
      ]
     },
     "metadata": {},
     "output_type": "display_data"
    },
    {
     "name": "stdout",
     "output_type": "stream",
     "text": [
      "/home/ubuntu/wit/XML_releases/xml-20150616/ted_so-20150530.zip\n",
      "Dataset ted_talks_iwsl_t2 downloaded and prepared to /home/ubuntu/.cache/huggingface/datasets/ted_talks_iwsl_t2/so/1.1.0/a05d6e4e2dfce9d4b52fb831beab23647c052434e38b69f839af4c33510034fc. Subsequent calls will reuse this data.\n",
      "Downloading and preparing dataset ted_talks_iwsl_t2/cs (download: Unknown size, generated: Unknown size, post-processed: Unknown size, total: Unknown size) to /home/ubuntu/.cache/huggingface/datasets/ted_talks_iwsl_t2/cs/1.1.0/a05d6e4e2dfce9d4b52fb831beab23647c052434e38b69f839af4c33510034fc...\n"
     ]
    },
    {
     "data": {
      "application/vnd.jupyter.widget-view+json": {
       "model_id": "",
       "version_major": 2,
       "version_minor": 0
      },
      "text/plain": [
       "HBox(children=(FloatProgress(value=1.0, bar_style='info', max=1.0), HTML(value='')))"
      ]
     },
     "metadata": {},
     "output_type": "display_data"
    },
    {
     "name": "stdout",
     "output_type": "stream",
     "text": [
      "/home/ubuntu/wit/XML_releases/xml-20140120/ted_cs-20140120.zip\n"
     ]
    },
    {
     "data": {
      "application/vnd.jupyter.widget-view+json": {
       "model_id": "",
       "version_major": 2,
       "version_minor": 0
      },
      "text/plain": [
       "HBox(children=(FloatProgress(value=1.0, bar_style='info', max=1.0), HTML(value='')))"
      ]
     },
     "metadata": {},
     "output_type": "display_data"
    },
    {
     "name": "stdout",
     "output_type": "stream",
     "text": [
      "/home/ubuntu/wit/XML_releases/xml/ted_cs-20160408.zip\n"
     ]
    },
    {
     "data": {
      "application/vnd.jupyter.widget-view+json": {
       "model_id": "",
       "version_major": 2,
       "version_minor": 0
      },
      "text/plain": [
       "HBox(children=(FloatProgress(value=1.0, bar_style='info', max=1.0), HTML(value='')))"
      ]
     },
     "metadata": {},
     "output_type": "display_data"
    },
    {
     "name": "stdout",
     "output_type": "stream",
     "text": [
      "/home/ubuntu/wit/XML_releases/xml-20150616/ted_cs-20150530.zip\n",
      "Dataset ted_talks_iwsl_t2 downloaded and prepared to /home/ubuntu/.cache/huggingface/datasets/ted_talks_iwsl_t2/cs/1.1.0/a05d6e4e2dfce9d4b52fb831beab23647c052434e38b69f839af4c33510034fc. Subsequent calls will reuse this data.\n",
      "Downloading and preparing dataset ted_talks_iwsl_t2/te (download: Unknown size, generated: Unknown size, post-processed: Unknown size, total: Unknown size) to /home/ubuntu/.cache/huggingface/datasets/ted_talks_iwsl_t2/te/1.1.0/a05d6e4e2dfce9d4b52fb831beab23647c052434e38b69f839af4c33510034fc...\n"
     ]
    },
    {
     "data": {
      "application/vnd.jupyter.widget-view+json": {
       "model_id": "",
       "version_major": 2,
       "version_minor": 0
      },
      "text/plain": [
       "HBox(children=(FloatProgress(value=1.0, bar_style='info', max=1.0), HTML(value='')))"
      ]
     },
     "metadata": {},
     "output_type": "display_data"
    },
    {
     "name": "stdout",
     "output_type": "stream",
     "text": [
      "/home/ubuntu/wit/XML_releases/xml-20140120/ted_te-20140120.zip\n"
     ]
    },
    {
     "data": {
      "application/vnd.jupyter.widget-view+json": {
       "model_id": "",
       "version_major": 2,
       "version_minor": 0
      },
      "text/plain": [
       "HBox(children=(FloatProgress(value=1.0, bar_style='info', max=1.0), HTML(value='')))"
      ]
     },
     "metadata": {},
     "output_type": "display_data"
    },
    {
     "name": "stdout",
     "output_type": "stream",
     "text": [
      "/home/ubuntu/wit/XML_releases/xml/ted_te-20160408.zip\n"
     ]
    },
    {
     "data": {
      "application/vnd.jupyter.widget-view+json": {
       "model_id": "",
       "version_major": 2,
       "version_minor": 0
      },
      "text/plain": [
       "HBox(children=(FloatProgress(value=1.0, bar_style='info', max=1.0), HTML(value='')))"
      ]
     },
     "metadata": {},
     "output_type": "display_data"
    },
    {
     "name": "stdout",
     "output_type": "stream",
     "text": [
      "/home/ubuntu/wit/XML_releases/xml-20150616/ted_te-20150530.zip\n",
      "Dataset ted_talks_iwsl_t2 downloaded and prepared to /home/ubuntu/.cache/huggingface/datasets/ted_talks_iwsl_t2/te/1.1.0/a05d6e4e2dfce9d4b52fb831beab23647c052434e38b69f839af4c33510034fc. Subsequent calls will reuse this data.\n",
      "Downloading and preparing dataset ted_talks_iwsl_t2/ky (download: Unknown size, generated: Unknown size, post-processed: Unknown size, total: Unknown size) to /home/ubuntu/.cache/huggingface/datasets/ted_talks_iwsl_t2/ky/1.1.0/a05d6e4e2dfce9d4b52fb831beab23647c052434e38b69f839af4c33510034fc...\n"
     ]
    },
    {
     "data": {
      "application/vnd.jupyter.widget-view+json": {
       "model_id": "",
       "version_major": 2,
       "version_minor": 0
      },
      "text/plain": [
       "HBox(children=(FloatProgress(value=1.0, bar_style='info', max=1.0), HTML(value='')))"
      ]
     },
     "metadata": {},
     "output_type": "display_data"
    },
    {
     "name": "stdout",
     "output_type": "stream",
     "text": [
      "/home/ubuntu/wit/XML_releases/xml-20140120/ted_ky-20140120.zip\n"
     ]
    },
    {
     "data": {
      "application/vnd.jupyter.widget-view+json": {
       "model_id": "",
       "version_major": 2,
       "version_minor": 0
      },
      "text/plain": [
       "HBox(children=(FloatProgress(value=1.0, bar_style='info', max=1.0), HTML(value='')))"
      ]
     },
     "metadata": {},
     "output_type": "display_data"
    },
    {
     "name": "stdout",
     "output_type": "stream",
     "text": [
      "/home/ubuntu/wit/XML_releases/xml/ted_ky-20160408.zip\n"
     ]
    },
    {
     "data": {
      "application/vnd.jupyter.widget-view+json": {
       "model_id": "",
       "version_major": 2,
       "version_minor": 0
      },
      "text/plain": [
       "HBox(children=(FloatProgress(value=1.0, bar_style='info', max=1.0), HTML(value='')))"
      ]
     },
     "metadata": {},
     "output_type": "display_data"
    },
    {
     "name": "stdout",
     "output_type": "stream",
     "text": [
      "/home/ubuntu/wit/XML_releases/xml-20150616/ted_ky-20150530.zip\n",
      "Dataset ted_talks_iwsl_t2 downloaded and prepared to /home/ubuntu/.cache/huggingface/datasets/ted_talks_iwsl_t2/ky/1.1.0/a05d6e4e2dfce9d4b52fb831beab23647c052434e38b69f839af4c33510034fc. Subsequent calls will reuse this data.\n",
      "Downloading and preparing dataset ted_talks_iwsl_t2/hu (download: Unknown size, generated: Unknown size, post-processed: Unknown size, total: Unknown size) to /home/ubuntu/.cache/huggingface/datasets/ted_talks_iwsl_t2/hu/1.1.0/a05d6e4e2dfce9d4b52fb831beab23647c052434e38b69f839af4c33510034fc...\n"
     ]
    },
    {
     "data": {
      "application/vnd.jupyter.widget-view+json": {
       "model_id": "",
       "version_major": 2,
       "version_minor": 0
      },
      "text/plain": [
       "HBox(children=(FloatProgress(value=1.0, bar_style='info', max=1.0), HTML(value='')))"
      ]
     },
     "metadata": {},
     "output_type": "display_data"
    },
    {
     "name": "stdout",
     "output_type": "stream",
     "text": [
      "/home/ubuntu/wit/XML_releases/xml-20140120/ted_hu-20140120.zip\n"
     ]
    },
    {
     "data": {
      "application/vnd.jupyter.widget-view+json": {
       "model_id": "",
       "version_major": 2,
       "version_minor": 0
      },
      "text/plain": [
       "HBox(children=(FloatProgress(value=1.0, bar_style='info', max=1.0), HTML(value='')))"
      ]
     },
     "metadata": {},
     "output_type": "display_data"
    },
    {
     "name": "stdout",
     "output_type": "stream",
     "text": [
      "/home/ubuntu/wit/XML_releases/xml/ted_hu-20160408.zip\n"
     ]
    },
    {
     "data": {
      "application/vnd.jupyter.widget-view+json": {
       "model_id": "",
       "version_major": 2,
       "version_minor": 0
      },
      "text/plain": [
       "HBox(children=(FloatProgress(value=1.0, bar_style='info', max=1.0), HTML(value='')))"
      ]
     },
     "metadata": {},
     "output_type": "display_data"
    },
    {
     "name": "stdout",
     "output_type": "stream",
     "text": [
      "/home/ubuntu/wit/XML_releases/xml-20150616/ted_hu-20150530.zip\n",
      "Dataset ted_talks_iwsl_t2 downloaded and prepared to /home/ubuntu/.cache/huggingface/datasets/ted_talks_iwsl_t2/hu/1.1.0/a05d6e4e2dfce9d4b52fb831beab23647c052434e38b69f839af4c33510034fc. Subsequent calls will reuse this data.\n",
      "Downloading and preparing dataset ted_talks_iwsl_t2/th (download: Unknown size, generated: Unknown size, post-processed: Unknown size, total: Unknown size) to /home/ubuntu/.cache/huggingface/datasets/ted_talks_iwsl_t2/th/1.1.0/a05d6e4e2dfce9d4b52fb831beab23647c052434e38b69f839af4c33510034fc...\n"
     ]
    },
    {
     "data": {
      "application/vnd.jupyter.widget-view+json": {
       "model_id": "",
       "version_major": 2,
       "version_minor": 0
      },
      "text/plain": [
       "HBox(children=(FloatProgress(value=1.0, bar_style='info', max=1.0), HTML(value='')))"
      ]
     },
     "metadata": {},
     "output_type": "display_data"
    },
    {
     "name": "stdout",
     "output_type": "stream",
     "text": [
      "/home/ubuntu/wit/XML_releases/xml-20140120/ted_th-20140120.zip\n"
     ]
    },
    {
     "data": {
      "application/vnd.jupyter.widget-view+json": {
       "model_id": "",
       "version_major": 2,
       "version_minor": 0
      },
      "text/plain": [
       "HBox(children=(FloatProgress(value=1.0, bar_style='info', max=1.0), HTML(value='')))"
      ]
     },
     "metadata": {},
     "output_type": "display_data"
    },
    {
     "name": "stdout",
     "output_type": "stream",
     "text": [
      "/home/ubuntu/wit/XML_releases/xml/ted_th-20160408.zip\n"
     ]
    },
    {
     "data": {
      "application/vnd.jupyter.widget-view+json": {
       "model_id": "",
       "version_major": 2,
       "version_minor": 0
      },
      "text/plain": [
       "HBox(children=(FloatProgress(value=1.0, bar_style='info', max=1.0), HTML(value='')))"
      ]
     },
     "metadata": {},
     "output_type": "display_data"
    },
    {
     "name": "stdout",
     "output_type": "stream",
     "text": [
      "/home/ubuntu/wit/XML_releases/xml-20150616/ted_th-20150530.zip\n",
      "Dataset ted_talks_iwsl_t2 downloaded and prepared to /home/ubuntu/.cache/huggingface/datasets/ted_talks_iwsl_t2/th/1.1.0/a05d6e4e2dfce9d4b52fb831beab23647c052434e38b69f839af4c33510034fc. Subsequent calls will reuse this data.\n",
      "Downloading and preparing dataset ted_talks_iwsl_t2/pl (download: Unknown size, generated: Unknown size, post-processed: Unknown size, total: Unknown size) to /home/ubuntu/.cache/huggingface/datasets/ted_talks_iwsl_t2/pl/1.1.0/a05d6e4e2dfce9d4b52fb831beab23647c052434e38b69f839af4c33510034fc...\n"
     ]
    },
    {
     "data": {
      "application/vnd.jupyter.widget-view+json": {
       "model_id": "",
       "version_major": 2,
       "version_minor": 0
      },
      "text/plain": [
       "HBox(children=(FloatProgress(value=1.0, bar_style='info', max=1.0), HTML(value='')))"
      ]
     },
     "metadata": {},
     "output_type": "display_data"
    },
    {
     "name": "stdout",
     "output_type": "stream",
     "text": [
      "/home/ubuntu/wit/XML_releases/xml-20140120/ted_pl-20140120.zip\n"
     ]
    },
    {
     "data": {
      "application/vnd.jupyter.widget-view+json": {
       "model_id": "",
       "version_major": 2,
       "version_minor": 0
      },
      "text/plain": [
       "HBox(children=(FloatProgress(value=1.0, bar_style='info', max=1.0), HTML(value='')))"
      ]
     },
     "metadata": {},
     "output_type": "display_data"
    },
    {
     "name": "stdout",
     "output_type": "stream",
     "text": [
      "/home/ubuntu/wit/XML_releases/xml/ted_pl-20160408.zip\n"
     ]
    },
    {
     "data": {
      "application/vnd.jupyter.widget-view+json": {
       "model_id": "",
       "version_major": 2,
       "version_minor": 0
      },
      "text/plain": [
       "HBox(children=(FloatProgress(value=1.0, bar_style='info', max=1.0), HTML(value='')))"
      ]
     },
     "metadata": {},
     "output_type": "display_data"
    },
    {
     "name": "stdout",
     "output_type": "stream",
     "text": [
      "/home/ubuntu/wit/XML_releases/xml-20150616/ted_pl-20150530.zip\n",
      "Dataset ted_talks_iwsl_t2 downloaded and prepared to /home/ubuntu/.cache/huggingface/datasets/ted_talks_iwsl_t2/pl/1.1.0/a05d6e4e2dfce9d4b52fb831beab23647c052434e38b69f839af4c33510034fc. Subsequent calls will reuse this data.\n",
      "Downloading and preparing dataset ted_talks_iwsl_t2/nn (download: Unknown size, generated: Unknown size, post-processed: Unknown size, total: Unknown size) to /home/ubuntu/.cache/huggingface/datasets/ted_talks_iwsl_t2/nn/1.1.0/a05d6e4e2dfce9d4b52fb831beab23647c052434e38b69f839af4c33510034fc...\n"
     ]
    },
    {
     "data": {
      "application/vnd.jupyter.widget-view+json": {
       "model_id": "",
       "version_major": 2,
       "version_minor": 0
      },
      "text/plain": [
       "HBox(children=(FloatProgress(value=1.0, bar_style='info', max=1.0), HTML(value='')))"
      ]
     },
     "metadata": {},
     "output_type": "display_data"
    },
    {
     "name": "stdout",
     "output_type": "stream",
     "text": [
      "/home/ubuntu/wit/XML_releases/xml-20140120/ted_nn-20140120.zip\n"
     ]
    },
    {
     "data": {
      "application/vnd.jupyter.widget-view+json": {
       "model_id": "",
       "version_major": 2,
       "version_minor": 0
      },
      "text/plain": [
       "HBox(children=(FloatProgress(value=1.0, bar_style='info', max=1.0), HTML(value='')))"
      ]
     },
     "metadata": {},
     "output_type": "display_data"
    },
    {
     "name": "stdout",
     "output_type": "stream",
     "text": [
      "/home/ubuntu/wit/XML_releases/xml/ted_nn-20160408.zip\n"
     ]
    },
    {
     "data": {
      "application/vnd.jupyter.widget-view+json": {
       "model_id": "",
       "version_major": 2,
       "version_minor": 0
      },
      "text/plain": [
       "HBox(children=(FloatProgress(value=1.0, bar_style='info', max=1.0), HTML(value='')))"
      ]
     },
     "metadata": {},
     "output_type": "display_data"
    },
    {
     "name": "stdout",
     "output_type": "stream",
     "text": [
      "/home/ubuntu/wit/XML_releases/xml-20150616/ted_nn-20150530.zip\n",
      "Dataset ted_talks_iwsl_t2 downloaded and prepared to /home/ubuntu/.cache/huggingface/datasets/ted_talks_iwsl_t2/nn/1.1.0/a05d6e4e2dfce9d4b52fb831beab23647c052434e38b69f839af4c33510034fc. Subsequent calls will reuse this data.\n",
      "Downloading and preparing dataset ted_talks_iwsl_t2/ca (download: Unknown size, generated: Unknown size, post-processed: Unknown size, total: Unknown size) to /home/ubuntu/.cache/huggingface/datasets/ted_talks_iwsl_t2/ca/1.1.0/a05d6e4e2dfce9d4b52fb831beab23647c052434e38b69f839af4c33510034fc...\n"
     ]
    },
    {
     "data": {
      "application/vnd.jupyter.widget-view+json": {
       "model_id": "",
       "version_major": 2,
       "version_minor": 0
      },
      "text/plain": [
       "HBox(children=(FloatProgress(value=1.0, bar_style='info', max=1.0), HTML(value='')))"
      ]
     },
     "metadata": {},
     "output_type": "display_data"
    },
    {
     "name": "stdout",
     "output_type": "stream",
     "text": [
      "/home/ubuntu/wit/XML_releases/xml-20140120/ted_ca-20140120.zip\n"
     ]
    },
    {
     "data": {
      "application/vnd.jupyter.widget-view+json": {
       "model_id": "",
       "version_major": 2,
       "version_minor": 0
      },
      "text/plain": [
       "HBox(children=(FloatProgress(value=1.0, bar_style='info', max=1.0), HTML(value='')))"
      ]
     },
     "metadata": {},
     "output_type": "display_data"
    },
    {
     "name": "stdout",
     "output_type": "stream",
     "text": [
      "/home/ubuntu/wit/XML_releases/xml/ted_ca-20160408.zip\n"
     ]
    },
    {
     "data": {
      "application/vnd.jupyter.widget-view+json": {
       "model_id": "",
       "version_major": 2,
       "version_minor": 0
      },
      "text/plain": [
       "HBox(children=(FloatProgress(value=1.0, bar_style='info', max=1.0), HTML(value='')))"
      ]
     },
     "metadata": {},
     "output_type": "display_data"
    },
    {
     "name": "stdout",
     "output_type": "stream",
     "text": [
      "/home/ubuntu/wit/XML_releases/xml-20150616/ted_ca-20150530.zip\n",
      "Dataset ted_talks_iwsl_t2 downloaded and prepared to /home/ubuntu/.cache/huggingface/datasets/ted_talks_iwsl_t2/ca/1.1.0/a05d6e4e2dfce9d4b52fb831beab23647c052434e38b69f839af4c33510034fc. Subsequent calls will reuse this data.\n",
      "Downloading and preparing dataset ted_talks_iwsl_t2/is (download: Unknown size, generated: Unknown size, post-processed: Unknown size, total: Unknown size) to /home/ubuntu/.cache/huggingface/datasets/ted_talks_iwsl_t2/is/1.1.0/a05d6e4e2dfce9d4b52fb831beab23647c052434e38b69f839af4c33510034fc...\n"
     ]
    },
    {
     "data": {
      "application/vnd.jupyter.widget-view+json": {
       "model_id": "",
       "version_major": 2,
       "version_minor": 0
      },
      "text/plain": [
       "HBox(children=(FloatProgress(value=1.0, bar_style='info', max=1.0), HTML(value='')))"
      ]
     },
     "metadata": {},
     "output_type": "display_data"
    },
    {
     "name": "stdout",
     "output_type": "stream",
     "text": [
      "/home/ubuntu/wit/XML_releases/xml-20140120/ted_is-20140120.zip\n"
     ]
    },
    {
     "data": {
      "application/vnd.jupyter.widget-view+json": {
       "model_id": "",
       "version_major": 2,
       "version_minor": 0
      },
      "text/plain": [
       "HBox(children=(FloatProgress(value=1.0, bar_style='info', max=1.0), HTML(value='')))"
      ]
     },
     "metadata": {},
     "output_type": "display_data"
    },
    {
     "name": "stdout",
     "output_type": "stream",
     "text": [
      "/home/ubuntu/wit/XML_releases/xml/ted_is-20160408.zip\n"
     ]
    },
    {
     "data": {
      "application/vnd.jupyter.widget-view+json": {
       "model_id": "",
       "version_major": 2,
       "version_minor": 0
      },
      "text/plain": [
       "HBox(children=(FloatProgress(value=1.0, bar_style='info', max=1.0), HTML(value='')))"
      ]
     },
     "metadata": {},
     "output_type": "display_data"
    },
    {
     "name": "stdout",
     "output_type": "stream",
     "text": [
      "/home/ubuntu/wit/XML_releases/xml-20150616/ted_is-20150530.zip\n",
      "Dataset ted_talks_iwsl_t2 downloaded and prepared to /home/ubuntu/.cache/huggingface/datasets/ted_talks_iwsl_t2/is/1.1.0/a05d6e4e2dfce9d4b52fb831beab23647c052434e38b69f839af4c33510034fc. Subsequent calls will reuse this data.\n",
      "Downloading and preparing dataset ted_talks_iwsl_t2/ta (download: Unknown size, generated: Unknown size, post-processed: Unknown size, total: Unknown size) to /home/ubuntu/.cache/huggingface/datasets/ted_talks_iwsl_t2/ta/1.1.0/a05d6e4e2dfce9d4b52fb831beab23647c052434e38b69f839af4c33510034fc...\n"
     ]
    },
    {
     "data": {
      "application/vnd.jupyter.widget-view+json": {
       "model_id": "",
       "version_major": 2,
       "version_minor": 0
      },
      "text/plain": [
       "HBox(children=(FloatProgress(value=1.0, bar_style='info', max=1.0), HTML(value='')))"
      ]
     },
     "metadata": {},
     "output_type": "display_data"
    },
    {
     "name": "stdout",
     "output_type": "stream",
     "text": [
      "/home/ubuntu/wit/XML_releases/xml-20140120/ted_ta-20140120.zip\n"
     ]
    },
    {
     "data": {
      "application/vnd.jupyter.widget-view+json": {
       "model_id": "",
       "version_major": 2,
       "version_minor": 0
      },
      "text/plain": [
       "HBox(children=(FloatProgress(value=1.0, bar_style='info', max=1.0), HTML(value='')))"
      ]
     },
     "metadata": {},
     "output_type": "display_data"
    },
    {
     "name": "stdout",
     "output_type": "stream",
     "text": [
      "/home/ubuntu/wit/XML_releases/xml/ted_ta-20160408.zip\n"
     ]
    },
    {
     "data": {
      "application/vnd.jupyter.widget-view+json": {
       "model_id": "",
       "version_major": 2,
       "version_minor": 0
      },
      "text/plain": [
       "HBox(children=(FloatProgress(value=1.0, bar_style='info', max=1.0), HTML(value='')))"
      ]
     },
     "metadata": {},
     "output_type": "display_data"
    },
    {
     "name": "stdout",
     "output_type": "stream",
     "text": [
      "/home/ubuntu/wit/XML_releases/xml-20150616/ted_ta-20150530.zip\n",
      "Dataset ted_talks_iwsl_t2 downloaded and prepared to /home/ubuntu/.cache/huggingface/datasets/ted_talks_iwsl_t2/ta/1.1.0/a05d6e4e2dfce9d4b52fb831beab23647c052434e38b69f839af4c33510034fc. Subsequent calls will reuse this data.\n",
      "Downloading and preparing dataset ted_talks_iwsl_t2/de (download: Unknown size, generated: Unknown size, post-processed: Unknown size, total: Unknown size) to /home/ubuntu/.cache/huggingface/datasets/ted_talks_iwsl_t2/de/1.1.0/a05d6e4e2dfce9d4b52fb831beab23647c052434e38b69f839af4c33510034fc...\n"
     ]
    },
    {
     "data": {
      "application/vnd.jupyter.widget-view+json": {
       "model_id": "",
       "version_major": 2,
       "version_minor": 0
      },
      "text/plain": [
       "HBox(children=(FloatProgress(value=1.0, bar_style='info', max=1.0), HTML(value='')))"
      ]
     },
     "metadata": {},
     "output_type": "display_data"
    },
    {
     "name": "stdout",
     "output_type": "stream",
     "text": [
      "/home/ubuntu/wit/XML_releases/xml-20140120/ted_de-20140120.zip\n"
     ]
    },
    {
     "data": {
      "application/vnd.jupyter.widget-view+json": {
       "model_id": "",
       "version_major": 2,
       "version_minor": 0
      },
      "text/plain": [
       "HBox(children=(FloatProgress(value=1.0, bar_style='info', max=1.0), HTML(value='')))"
      ]
     },
     "metadata": {},
     "output_type": "display_data"
    },
    {
     "name": "stdout",
     "output_type": "stream",
     "text": [
      "/home/ubuntu/wit/XML_releases/xml/ted_de-20160408.zip\n"
     ]
    },
    {
     "data": {
      "application/vnd.jupyter.widget-view+json": {
       "model_id": "",
       "version_major": 2,
       "version_minor": 0
      },
      "text/plain": [
       "HBox(children=(FloatProgress(value=1.0, bar_style='info', max=1.0), HTML(value='')))"
      ]
     },
     "metadata": {},
     "output_type": "display_data"
    },
    {
     "name": "stdout",
     "output_type": "stream",
     "text": [
      "/home/ubuntu/wit/XML_releases/xml-20150616/ted_de-20150530.zip\n",
      "Dataset ted_talks_iwsl_t2 downloaded and prepared to /home/ubuntu/.cache/huggingface/datasets/ted_talks_iwsl_t2/de/1.1.0/a05d6e4e2dfce9d4b52fb831beab23647c052434e38b69f839af4c33510034fc. Subsequent calls will reuse this data.\n",
      "Downloading and preparing dataset ted_talks_iwsl_t2/srp (download: Unknown size, generated: Unknown size, post-processed: Unknown size, total: Unknown size) to /home/ubuntu/.cache/huggingface/datasets/ted_talks_iwsl_t2/srp/1.1.0/a05d6e4e2dfce9d4b52fb831beab23647c052434e38b69f839af4c33510034fc...\n"
     ]
    },
    {
     "data": {
      "application/vnd.jupyter.widget-view+json": {
       "model_id": "",
       "version_major": 2,
       "version_minor": 0
      },
      "text/plain": [
       "HBox(children=(FloatProgress(value=1.0, bar_style='info', max=1.0), HTML(value='')))"
      ]
     },
     "metadata": {},
     "output_type": "display_data"
    },
    {
     "name": "stdout",
     "output_type": "stream",
     "text": [
      "/home/ubuntu/wit/XML_releases/xml-20140120/ted_srp-20140120.zip\n"
     ]
    },
    {
     "data": {
      "application/vnd.jupyter.widget-view+json": {
       "model_id": "",
       "version_major": 2,
       "version_minor": 0
      },
      "text/plain": [
       "HBox(children=(FloatProgress(value=1.0, bar_style='info', max=1.0), HTML(value='')))"
      ]
     },
     "metadata": {},
     "output_type": "display_data"
    },
    {
     "name": "stdout",
     "output_type": "stream",
     "text": [
      "/home/ubuntu/wit/XML_releases/xml/ted_srp-20160408.zip\n"
     ]
    },
    {
     "data": {
      "application/vnd.jupyter.widget-view+json": {
       "model_id": "",
       "version_major": 2,
       "version_minor": 0
      },
      "text/plain": [
       "HBox(children=(FloatProgress(value=1.0, bar_style='info', max=1.0), HTML(value='')))"
      ]
     },
     "metadata": {},
     "output_type": "display_data"
    },
    {
     "name": "stdout",
     "output_type": "stream",
     "text": [
      "/home/ubuntu/wit/XML_releases/xml-20150616/ted_srp-20150530.zip\n",
      "Dataset ted_talks_iwsl_t2 downloaded and prepared to /home/ubuntu/.cache/huggingface/datasets/ted_talks_iwsl_t2/srp/1.1.0/a05d6e4e2dfce9d4b52fb831beab23647c052434e38b69f839af4c33510034fc. Subsequent calls will reuse this data.\n",
      "Downloading and preparing dataset ted_talks_iwsl_t2/ast (download: Unknown size, generated: Unknown size, post-processed: Unknown size, total: Unknown size) to /home/ubuntu/.cache/huggingface/datasets/ted_talks_iwsl_t2/ast/1.1.0/a05d6e4e2dfce9d4b52fb831beab23647c052434e38b69f839af4c33510034fc...\n"
     ]
    },
    {
     "data": {
      "application/vnd.jupyter.widget-view+json": {
       "model_id": "",
       "version_major": 2,
       "version_minor": 0
      },
      "text/plain": [
       "HBox(children=(FloatProgress(value=1.0, bar_style='info', max=1.0), HTML(value='')))"
      ]
     },
     "metadata": {},
     "output_type": "display_data"
    },
    {
     "name": "stdout",
     "output_type": "stream",
     "text": [
      "/home/ubuntu/wit/XML_releases/xml-20140120/ted_ast-20140120.zip\n"
     ]
    },
    {
     "data": {
      "application/vnd.jupyter.widget-view+json": {
       "model_id": "",
       "version_major": 2,
       "version_minor": 0
      },
      "text/plain": [
       "HBox(children=(FloatProgress(value=1.0, bar_style='info', max=1.0), HTML(value='')))"
      ]
     },
     "metadata": {},
     "output_type": "display_data"
    },
    {
     "name": "stdout",
     "output_type": "stream",
     "text": [
      "/home/ubuntu/wit/XML_releases/xml/ted_ast-20160408.zip\n"
     ]
    },
    {
     "data": {
      "application/vnd.jupyter.widget-view+json": {
       "model_id": "",
       "version_major": 2,
       "version_minor": 0
      },
      "text/plain": [
       "HBox(children=(FloatProgress(value=1.0, bar_style='info', max=1.0), HTML(value='')))"
      ]
     },
     "metadata": {},
     "output_type": "display_data"
    },
    {
     "name": "stdout",
     "output_type": "stream",
     "text": [
      "/home/ubuntu/wit/XML_releases/xml-20150616/ted_ast-20150530.zip\n",
      "Dataset ted_talks_iwsl_t2 downloaded and prepared to /home/ubuntu/.cache/huggingface/datasets/ted_talks_iwsl_t2/ast/1.1.0/a05d6e4e2dfce9d4b52fb831beab23647c052434e38b69f839af4c33510034fc. Subsequent calls will reuse this data.\n",
      "Downloading and preparing dataset ted_talks_iwsl_t2/bi (download: Unknown size, generated: Unknown size, post-processed: Unknown size, total: Unknown size) to /home/ubuntu/.cache/huggingface/datasets/ted_talks_iwsl_t2/bi/1.1.0/a05d6e4e2dfce9d4b52fb831beab23647c052434e38b69f839af4c33510034fc...\n"
     ]
    },
    {
     "data": {
      "application/vnd.jupyter.widget-view+json": {
       "model_id": "",
       "version_major": 2,
       "version_minor": 0
      },
      "text/plain": [
       "HBox(children=(FloatProgress(value=1.0, bar_style='info', max=1.0), HTML(value='')))"
      ]
     },
     "metadata": {},
     "output_type": "display_data"
    },
    {
     "name": "stdout",
     "output_type": "stream",
     "text": [
      "/home/ubuntu/wit/XML_releases/xml-20140120/ted_bi-20140120.zip\n"
     ]
    },
    {
     "data": {
      "application/vnd.jupyter.widget-view+json": {
       "model_id": "",
       "version_major": 2,
       "version_minor": 0
      },
      "text/plain": [
       "HBox(children=(FloatProgress(value=1.0, bar_style='info', max=1.0), HTML(value='')))"
      ]
     },
     "metadata": {},
     "output_type": "display_data"
    },
    {
     "name": "stdout",
     "output_type": "stream",
     "text": [
      "/home/ubuntu/wit/XML_releases/xml/ted_bi-20160408.zip\n"
     ]
    },
    {
     "data": {
      "application/vnd.jupyter.widget-view+json": {
       "model_id": "",
       "version_major": 2,
       "version_minor": 0
      },
      "text/plain": [
       "HBox(children=(FloatProgress(value=1.0, bar_style='info', max=1.0), HTML(value='')))"
      ]
     },
     "metadata": {},
     "output_type": "display_data"
    },
    {
     "name": "stdout",
     "output_type": "stream",
     "text": [
      "/home/ubuntu/wit/XML_releases/xml-20150616/ted_bi-20150530.zip\n",
      "Dataset ted_talks_iwsl_t2 downloaded and prepared to /home/ubuntu/.cache/huggingface/datasets/ted_talks_iwsl_t2/bi/1.1.0/a05d6e4e2dfce9d4b52fb831beab23647c052434e38b69f839af4c33510034fc. Subsequent calls will reuse this data.\n",
      "Downloading and preparing dataset ted_talks_iwsl_t2/lb (download: Unknown size, generated: Unknown size, post-processed: Unknown size, total: Unknown size) to /home/ubuntu/.cache/huggingface/datasets/ted_talks_iwsl_t2/lb/1.1.0/a05d6e4e2dfce9d4b52fb831beab23647c052434e38b69f839af4c33510034fc...\n"
     ]
    },
    {
     "data": {
      "application/vnd.jupyter.widget-view+json": {
       "model_id": "",
       "version_major": 2,
       "version_minor": 0
      },
      "text/plain": [
       "HBox(children=(FloatProgress(value=1.0, bar_style='info', max=1.0), HTML(value='')))"
      ]
     },
     "metadata": {},
     "output_type": "display_data"
    },
    {
     "name": "stdout",
     "output_type": "stream",
     "text": [
      "/home/ubuntu/wit/XML_releases/xml-20140120/ted_lb-20140120.zip\n"
     ]
    },
    {
     "data": {
      "application/vnd.jupyter.widget-view+json": {
       "model_id": "",
       "version_major": 2,
       "version_minor": 0
      },
      "text/plain": [
       "HBox(children=(FloatProgress(value=1.0, bar_style='info', max=1.0), HTML(value='')))"
      ]
     },
     "metadata": {},
     "output_type": "display_data"
    },
    {
     "name": "stdout",
     "output_type": "stream",
     "text": [
      "/home/ubuntu/wit/XML_releases/xml/ted_lb-20160408.zip\n"
     ]
    },
    {
     "data": {
      "application/vnd.jupyter.widget-view+json": {
       "model_id": "",
       "version_major": 2,
       "version_minor": 0
      },
      "text/plain": [
       "HBox(children=(FloatProgress(value=1.0, bar_style='info', max=1.0), HTML(value='')))"
      ]
     },
     "metadata": {},
     "output_type": "display_data"
    },
    {
     "name": "stdout",
     "output_type": "stream",
     "text": [
      "/home/ubuntu/wit/XML_releases/xml-20150616/ted_lb-20150530.zip\n",
      "Dataset ted_talks_iwsl_t2 downloaded and prepared to /home/ubuntu/.cache/huggingface/datasets/ted_talks_iwsl_t2/lb/1.1.0/a05d6e4e2dfce9d4b52fb831beab23647c052434e38b69f839af4c33510034fc. Subsequent calls will reuse this data.\n",
      "Downloading and preparing dataset ted_talks_iwsl_t2/art-x-bork (download: Unknown size, generated: Unknown size, post-processed: Unknown size, total: Unknown size) to /home/ubuntu/.cache/huggingface/datasets/ted_talks_iwsl_t2/art-x-bork/1.1.0/a05d6e4e2dfce9d4b52fb831beab23647c052434e38b69f839af4c33510034fc...\n"
     ]
    },
    {
     "data": {
      "application/vnd.jupyter.widget-view+json": {
       "model_id": "",
       "version_major": 2,
       "version_minor": 0
      },
      "text/plain": [
       "HBox(children=(FloatProgress(value=1.0, bar_style='info', max=1.0), HTML(value='')))"
      ]
     },
     "metadata": {},
     "output_type": "display_data"
    },
    {
     "name": "stdout",
     "output_type": "stream",
     "text": [
      "/home/ubuntu/wit/XML_releases/xml-20140120/ted_art-x-bork-20140120.zip\n"
     ]
    },
    {
     "data": {
      "application/vnd.jupyter.widget-view+json": {
       "model_id": "",
       "version_major": 2,
       "version_minor": 0
      },
      "text/plain": [
       "HBox(children=(FloatProgress(value=1.0, bar_style='info', max=1.0), HTML(value='')))"
      ]
     },
     "metadata": {},
     "output_type": "display_data"
    },
    {
     "name": "stdout",
     "output_type": "stream",
     "text": [
      "/home/ubuntu/wit/XML_releases/xml/ted_art-x-bork-20160408.zip\n"
     ]
    },
    {
     "data": {
      "application/vnd.jupyter.widget-view+json": {
       "model_id": "",
       "version_major": 2,
       "version_minor": 0
      },
      "text/plain": [
       "HBox(children=(FloatProgress(value=1.0, bar_style='info', max=1.0), HTML(value='')))"
      ]
     },
     "metadata": {},
     "output_type": "display_data"
    },
    {
     "name": "stdout",
     "output_type": "stream",
     "text": [
      "/home/ubuntu/wit/XML_releases/xml-20150616/ted_art-x-bork-20150530.zip\n",
      "Dataset ted_talks_iwsl_t2 downloaded and prepared to /home/ubuntu/.cache/huggingface/datasets/ted_talks_iwsl_t2/art-x-bork/1.1.0/a05d6e4e2dfce9d4b52fb831beab23647c052434e38b69f839af4c33510034fc. Subsequent calls will reuse this data.\n",
      "Downloading and preparing dataset ted_talks_iwsl_t2/am (download: Unknown size, generated: Unknown size, post-processed: Unknown size, total: Unknown size) to /home/ubuntu/.cache/huggingface/datasets/ted_talks_iwsl_t2/am/1.1.0/a05d6e4e2dfce9d4b52fb831beab23647c052434e38b69f839af4c33510034fc...\n"
     ]
    },
    {
     "data": {
      "application/vnd.jupyter.widget-view+json": {
       "model_id": "",
       "version_major": 2,
       "version_minor": 0
      },
      "text/plain": [
       "HBox(children=(FloatProgress(value=1.0, bar_style='info', max=1.0), HTML(value='')))"
      ]
     },
     "metadata": {},
     "output_type": "display_data"
    },
    {
     "name": "stdout",
     "output_type": "stream",
     "text": [
      "/home/ubuntu/wit/XML_releases/xml-20140120/ted_am-20140120.zip\n"
     ]
    },
    {
     "data": {
      "application/vnd.jupyter.widget-view+json": {
       "model_id": "",
       "version_major": 2,
       "version_minor": 0
      },
      "text/plain": [
       "HBox(children=(FloatProgress(value=1.0, bar_style='info', max=1.0), HTML(value='')))"
      ]
     },
     "metadata": {},
     "output_type": "display_data"
    },
    {
     "name": "stdout",
     "output_type": "stream",
     "text": [
      "/home/ubuntu/wit/XML_releases/xml/ted_am-20160408.zip\n"
     ]
    },
    {
     "data": {
      "application/vnd.jupyter.widget-view+json": {
       "model_id": "",
       "version_major": 2,
       "version_minor": 0
      },
      "text/plain": [
       "HBox(children=(FloatProgress(value=1.0, bar_style='info', max=1.0), HTML(value='')))"
      ]
     },
     "metadata": {},
     "output_type": "display_data"
    },
    {
     "name": "stdout",
     "output_type": "stream",
     "text": [
      "/home/ubuntu/wit/XML_releases/xml-20150616/ted_am-20150530.zip\n",
      "Dataset ted_talks_iwsl_t2 downloaded and prepared to /home/ubuntu/.cache/huggingface/datasets/ted_talks_iwsl_t2/am/1.1.0/a05d6e4e2dfce9d4b52fb831beab23647c052434e38b69f839af4c33510034fc. Subsequent calls will reuse this data.\n",
      "Downloading and preparing dataset ted_talks_iwsl_t2/oc (download: Unknown size, generated: Unknown size, post-processed: Unknown size, total: Unknown size) to /home/ubuntu/.cache/huggingface/datasets/ted_talks_iwsl_t2/oc/1.1.0/a05d6e4e2dfce9d4b52fb831beab23647c052434e38b69f839af4c33510034fc...\n"
     ]
    },
    {
     "data": {
      "application/vnd.jupyter.widget-view+json": {
       "model_id": "",
       "version_major": 2,
       "version_minor": 0
      },
      "text/plain": [
       "HBox(children=(FloatProgress(value=1.0, bar_style='info', max=1.0), HTML(value='')))"
      ]
     },
     "metadata": {},
     "output_type": "display_data"
    },
    {
     "name": "stdout",
     "output_type": "stream",
     "text": [
      "/home/ubuntu/wit/XML_releases/xml-20140120/ted_oc-20140120.zip\n"
     ]
    },
    {
     "data": {
      "application/vnd.jupyter.widget-view+json": {
       "model_id": "",
       "version_major": 2,
       "version_minor": 0
      },
      "text/plain": [
       "HBox(children=(FloatProgress(value=1.0, bar_style='info', max=1.0), HTML(value='')))"
      ]
     },
     "metadata": {},
     "output_type": "display_data"
    },
    {
     "name": "stdout",
     "output_type": "stream",
     "text": [
      "/home/ubuntu/wit/XML_releases/xml/ted_oc-20160408.zip\n"
     ]
    },
    {
     "data": {
      "application/vnd.jupyter.widget-view+json": {
       "model_id": "",
       "version_major": 2,
       "version_minor": 0
      },
      "text/plain": [
       "HBox(children=(FloatProgress(value=1.0, bar_style='info', max=1.0), HTML(value='')))"
      ]
     },
     "metadata": {},
     "output_type": "display_data"
    },
    {
     "name": "stdout",
     "output_type": "stream",
     "text": [
      "/home/ubuntu/wit/XML_releases/xml-20150616/ted_oc-20150530.zip\n",
      "Dataset ted_talks_iwsl_t2 downloaded and prepared to /home/ubuntu/.cache/huggingface/datasets/ted_talks_iwsl_t2/oc/1.1.0/a05d6e4e2dfce9d4b52fb831beab23647c052434e38b69f839af4c33510034fc. Subsequent calls will reuse this data.\n",
      "Downloading and preparing dataset ted_talks_iwsl_t2/zh (download: Unknown size, generated: Unknown size, post-processed: Unknown size, total: Unknown size) to /home/ubuntu/.cache/huggingface/datasets/ted_talks_iwsl_t2/zh/1.1.0/a05d6e4e2dfce9d4b52fb831beab23647c052434e38b69f839af4c33510034fc...\n"
     ]
    },
    {
     "data": {
      "application/vnd.jupyter.widget-view+json": {
       "model_id": "",
       "version_major": 2,
       "version_minor": 0
      },
      "text/plain": [
       "HBox(children=(FloatProgress(value=1.0, bar_style='info', max=1.0), HTML(value='')))"
      ]
     },
     "metadata": {},
     "output_type": "display_data"
    },
    {
     "name": "stdout",
     "output_type": "stream",
     "text": [
      "/home/ubuntu/wit/XML_releases/xml-20140120/ted_zh-20140120.zip\n"
     ]
    },
    {
     "data": {
      "application/vnd.jupyter.widget-view+json": {
       "model_id": "",
       "version_major": 2,
       "version_minor": 0
      },
      "text/plain": [
       "HBox(children=(FloatProgress(value=1.0, bar_style='info', max=1.0), HTML(value='')))"
      ]
     },
     "metadata": {},
     "output_type": "display_data"
    },
    {
     "name": "stdout",
     "output_type": "stream",
     "text": [
      "/home/ubuntu/wit/XML_releases/xml/ted_zh-20160408.zip\n"
     ]
    },
    {
     "data": {
      "application/vnd.jupyter.widget-view+json": {
       "model_id": "",
       "version_major": 2,
       "version_minor": 0
      },
      "text/plain": [
       "HBox(children=(FloatProgress(value=1.0, bar_style='info', max=1.0), HTML(value='')))"
      ]
     },
     "metadata": {},
     "output_type": "display_data"
    },
    {
     "name": "stdout",
     "output_type": "stream",
     "text": [
      "/home/ubuntu/wit/XML_releases/xml-20150616/ted_zh-20150530.zip\n",
      "Dataset ted_talks_iwsl_t2 downloaded and prepared to /home/ubuntu/.cache/huggingface/datasets/ted_talks_iwsl_t2/zh/1.1.0/a05d6e4e2dfce9d4b52fb831beab23647c052434e38b69f839af4c33510034fc. Subsequent calls will reuse this data.\n",
      "Downloading and preparing dataset ted_talks_iwsl_t2/ur (download: Unknown size, generated: Unknown size, post-processed: Unknown size, total: Unknown size) to /home/ubuntu/.cache/huggingface/datasets/ted_talks_iwsl_t2/ur/1.1.0/a05d6e4e2dfce9d4b52fb831beab23647c052434e38b69f839af4c33510034fc...\n"
     ]
    },
    {
     "data": {
      "application/vnd.jupyter.widget-view+json": {
       "model_id": "",
       "version_major": 2,
       "version_minor": 0
      },
      "text/plain": [
       "HBox(children=(FloatProgress(value=1.0, bar_style='info', max=1.0), HTML(value='')))"
      ]
     },
     "metadata": {},
     "output_type": "display_data"
    },
    {
     "name": "stdout",
     "output_type": "stream",
     "text": [
      "/home/ubuntu/wit/XML_releases/xml-20140120/ted_ur-20140120.zip\n"
     ]
    },
    {
     "data": {
      "application/vnd.jupyter.widget-view+json": {
       "model_id": "",
       "version_major": 2,
       "version_minor": 0
      },
      "text/plain": [
       "HBox(children=(FloatProgress(value=1.0, bar_style='info', max=1.0), HTML(value='')))"
      ]
     },
     "metadata": {},
     "output_type": "display_data"
    },
    {
     "name": "stdout",
     "output_type": "stream",
     "text": [
      "/home/ubuntu/wit/XML_releases/xml/ted_ur-20160408.zip\n"
     ]
    },
    {
     "data": {
      "application/vnd.jupyter.widget-view+json": {
       "model_id": "",
       "version_major": 2,
       "version_minor": 0
      },
      "text/plain": [
       "HBox(children=(FloatProgress(value=1.0, bar_style='info', max=1.0), HTML(value='')))"
      ]
     },
     "metadata": {},
     "output_type": "display_data"
    },
    {
     "name": "stdout",
     "output_type": "stream",
     "text": [
      "/home/ubuntu/wit/XML_releases/xml-20150616/ted_ur-20150530.zip\n",
      "Dataset ted_talks_iwsl_t2 downloaded and prepared to /home/ubuntu/.cache/huggingface/datasets/ted_talks_iwsl_t2/ur/1.1.0/a05d6e4e2dfce9d4b52fb831beab23647c052434e38b69f839af4c33510034fc. Subsequent calls will reuse this data.\n",
      "Downloading and preparing dataset ted_talks_iwsl_t2/gl (download: Unknown size, generated: Unknown size, post-processed: Unknown size, total: Unknown size) to /home/ubuntu/.cache/huggingface/datasets/ted_talks_iwsl_t2/gl/1.1.0/a05d6e4e2dfce9d4b52fb831beab23647c052434e38b69f839af4c33510034fc...\n"
     ]
    },
    {
     "data": {
      "application/vnd.jupyter.widget-view+json": {
       "model_id": "",
       "version_major": 2,
       "version_minor": 0
      },
      "text/plain": [
       "HBox(children=(FloatProgress(value=1.0, bar_style='info', max=1.0), HTML(value='')))"
      ]
     },
     "metadata": {},
     "output_type": "display_data"
    },
    {
     "name": "stdout",
     "output_type": "stream",
     "text": [
      "/home/ubuntu/wit/XML_releases/xml-20140120/ted_gl-20140120.zip\n"
     ]
    },
    {
     "data": {
      "application/vnd.jupyter.widget-view+json": {
       "model_id": "",
       "version_major": 2,
       "version_minor": 0
      },
      "text/plain": [
       "HBox(children=(FloatProgress(value=1.0, bar_style='info', max=1.0), HTML(value='')))"
      ]
     },
     "metadata": {},
     "output_type": "display_data"
    },
    {
     "name": "stdout",
     "output_type": "stream",
     "text": [
      "/home/ubuntu/wit/XML_releases/xml/ted_gl-20160408.zip\n"
     ]
    },
    {
     "data": {
      "application/vnd.jupyter.widget-view+json": {
       "model_id": "",
       "version_major": 2,
       "version_minor": 0
      },
      "text/plain": [
       "HBox(children=(FloatProgress(value=1.0, bar_style='info', max=1.0), HTML(value='')))"
      ]
     },
     "metadata": {},
     "output_type": "display_data"
    },
    {
     "name": "stdout",
     "output_type": "stream",
     "text": [
      "/home/ubuntu/wit/XML_releases/xml-20150616/ted_gl-20150530.zip\n",
      "Dataset ted_talks_iwsl_t2 downloaded and prepared to /home/ubuntu/.cache/huggingface/datasets/ted_talks_iwsl_t2/gl/1.1.0/a05d6e4e2dfce9d4b52fb831beab23647c052434e38b69f839af4c33510034fc. Subsequent calls will reuse this data.\n"
     ]
    }
   ],
   "source": [
    "errors = list()\n",
    "for lang in _LANGUAGES:\n",
    "    try:\n",
    "        dataset = load_dataset('review/datasets/datasets/ted_talks_iwslt_2' , lang, data_dir= \"wit/XML_releases\")\n",
    "    except:\n",
    "        print(\"ERROR: in loading for %s\", lang)\n",
    "        errors.append(lang)"
   ]
  },
  {
   "cell_type": "code",
   "execution_count": 28,
   "metadata": {},
   "outputs": [
    {
     "name": "stdout",
     "output_type": "stream",
     "text": [
      "1\n"
     ]
    }
   ],
   "source": [
    "print(len(errors))"
   ]
  },
  {
   "cell_type": "code",
   "execution_count": 29,
   "metadata": {},
   "outputs": [
    {
     "data": {
      "text/plain": [
       "['hi']"
      ]
     },
     "execution_count": 29,
     "metadata": {},
     "output_type": "execute_result"
    }
   ],
   "source": [
    "errors"
   ]
  },
  {
   "cell_type": "code",
   "execution_count": 3,
   "metadata": {},
   "outputs": [],
   "source": [
    "error_tags = ['ig',\n",
    " 'tt',\n",
    " 'ja',\n",
    " 'nb',\n",
    " 'uz',\n",
    " 'el',\n",
    " 'sk',\n",
    " 'ar',\n",
    " 'hup',\n",
    " 'zh-tw',\n",
    " 'ps',\n",
    " 'tr',\n",
    " 'nl',\n",
    " 'fa',\n",
    " 'vi',\n",
    " 'pa',\n",
    " 'az',\n",
    " 'sh',\n",
    " 'ceb',\n",
    " 'mt',\n",
    " 'zh-cn',\n",
    " 'cnh',\n",
    " 'hi',\n",
    " 'id',\n",
    " 'cs',\n",
    " 'hu',\n",
    " 'th',\n",
    " 'de']"
   ]
  },
  {
   "cell_type": "code",
   "execution_count": 6,
   "metadata": {},
   "outputs": [
    {
     "name": "stdout",
     "output_type": "stream",
     "text": [
      "Downloading and preparing dataset ted_talks_iwsl_t2/ig (download: Unknown size, generated: Unknown size, post-processed: Unknown size, total: Unknown size) to /home/ubuntu/.cache/huggingface/datasets/ted_talks_iwsl_t2/ig/1.1.0/a1396586f25b3a75422d7026d690d0814154279ab7d357406015b05d60873aae...\n"
     ]
    },
    {
     "data": {
      "application/vnd.jupyter.widget-view+json": {
       "model_id": "",
       "version_major": 2,
       "version_minor": 0
      },
      "text/plain": [
       "HBox(children=(FloatProgress(value=1.0, bar_style='info', max=1.0), HTML(value='')))"
      ]
     },
     "metadata": {},
     "output_type": "display_data"
    },
    {
     "name": "stdout",
     "output_type": "stream",
     "text": [
      "File doesn't exist /home/ubuntu/wit/XML_releases/xml-20140120/ted_ig-20140120.zip\n"
     ]
    },
    {
     "data": {
      "application/vnd.jupyter.widget-view+json": {
       "model_id": "",
       "version_major": 2,
       "version_minor": 0
      },
      "text/plain": [
       "HBox(children=(FloatProgress(value=1.0, bar_style='info', max=1.0), HTML(value='')))"
      ]
     },
     "metadata": {},
     "output_type": "display_data"
    },
    {
     "data": {
      "application/vnd.jupyter.widget-view+json": {
       "model_id": "",
       "version_major": 2,
       "version_minor": 0
      },
      "text/plain": [
       "HBox(children=(FloatProgress(value=1.0, bar_style='info', max=1.0), HTML(value='')))"
      ]
     },
     "metadata": {},
     "output_type": "display_data"
    },
    {
     "name": "stdout",
     "output_type": "stream",
     "text": [
      "File doesn't exist /home/ubuntu/wit/XML_releases/xml-20150616/ted_ig-20150530.zip\n",
      "Dataset ted_talks_iwsl_t2 downloaded and prepared to /home/ubuntu/.cache/huggingface/datasets/ted_talks_iwsl_t2/ig/1.1.0/a1396586f25b3a75422d7026d690d0814154279ab7d357406015b05d60873aae. Subsequent calls will reuse this data.\n",
      "Downloading and preparing dataset ted_talks_iwsl_t2/tt (download: Unknown size, generated: Unknown size, post-processed: Unknown size, total: Unknown size) to /home/ubuntu/.cache/huggingface/datasets/ted_talks_iwsl_t2/tt/1.1.0/a1396586f25b3a75422d7026d690d0814154279ab7d357406015b05d60873aae...\n"
     ]
    },
    {
     "data": {
      "application/vnd.jupyter.widget-view+json": {
       "model_id": "",
       "version_major": 2,
       "version_minor": 0
      },
      "text/plain": [
       "HBox(children=(FloatProgress(value=1.0, bar_style='info', max=1.0), HTML(value='')))"
      ]
     },
     "metadata": {},
     "output_type": "display_data"
    },
    {
     "name": "stdout",
     "output_type": "stream",
     "text": [
      "File doesn't exist /home/ubuntu/wit/XML_releases/xml-20140120/ted_tt-20140120.zip\n"
     ]
    },
    {
     "data": {
      "application/vnd.jupyter.widget-view+json": {
       "model_id": "",
       "version_major": 2,
       "version_minor": 0
      },
      "text/plain": [
       "HBox(children=(FloatProgress(value=1.0, bar_style='info', max=1.0), HTML(value='')))"
      ]
     },
     "metadata": {},
     "output_type": "display_data"
    },
    {
     "data": {
      "application/vnd.jupyter.widget-view+json": {
       "model_id": "",
       "version_major": 2,
       "version_minor": 0
      },
      "text/plain": [
       "HBox(children=(FloatProgress(value=1.0, bar_style='info', max=1.0), HTML(value='')))"
      ]
     },
     "metadata": {},
     "output_type": "display_data"
    },
    {
     "name": "stdout",
     "output_type": "stream",
     "text": [
      "File doesn't exist /home/ubuntu/wit/XML_releases/xml-20150616/ted_tt-20150530.zip\n",
      "Dataset ted_talks_iwsl_t2 downloaded and prepared to /home/ubuntu/.cache/huggingface/datasets/ted_talks_iwsl_t2/tt/1.1.0/a1396586f25b3a75422d7026d690d0814154279ab7d357406015b05d60873aae. Subsequent calls will reuse this data.\n",
      "Downloading and preparing dataset ted_talks_iwsl_t2/ja (download: Unknown size, generated: Unknown size, post-processed: Unknown size, total: Unknown size) to /home/ubuntu/.cache/huggingface/datasets/ted_talks_iwsl_t2/ja/1.1.0/a1396586f25b3a75422d7026d690d0814154279ab7d357406015b05d60873aae...\n"
     ]
    },
    {
     "data": {
      "application/vnd.jupyter.widget-view+json": {
       "model_id": "",
       "version_major": 2,
       "version_minor": 0
      },
      "text/plain": [
       "HBox(children=(FloatProgress(value=1.0, bar_style='info', max=1.0), HTML(value='')))"
      ]
     },
     "metadata": {},
     "output_type": "display_data"
    },
    {
     "data": {
      "application/vnd.jupyter.widget-view+json": {
       "model_id": "",
       "version_major": 2,
       "version_minor": 0
      },
      "text/plain": [
       "HBox(children=(FloatProgress(value=1.0, bar_style='info', max=1.0), HTML(value='')))"
      ]
     },
     "metadata": {},
     "output_type": "display_data"
    },
    {
     "data": {
      "application/vnd.jupyter.widget-view+json": {
       "model_id": "a36431f719a04e1fbf63d6a2997b60b0",
       "version_major": 2,
       "version_minor": 0
      },
      "text/plain": [
       "HBox(children=(FloatProgress(value=1.0, bar_style='info', max=1.0), HTML(value='')))"
      ]
     },
     "metadata": {},
     "output_type": "display_data"
    },
    {
     "name": "stdout",
     "output_type": "stream",
     "text": [
      "ERROR reading: ja\n",
      "Downloading and preparing dataset ted_talks_iwsl_t2/nb (download: Unknown size, generated: Unknown size, post-processed: Unknown size, total: Unknown size) to /home/ubuntu/.cache/huggingface/datasets/ted_talks_iwsl_t2/nb/1.1.0/a1396586f25b3a75422d7026d690d0814154279ab7d357406015b05d60873aae...\n"
     ]
    },
    {
     "data": {
      "application/vnd.jupyter.widget-view+json": {
       "model_id": "",
       "version_major": 2,
       "version_minor": 0
      },
      "text/plain": [
       "HBox(children=(FloatProgress(value=1.0, bar_style='info', max=1.0), HTML(value='')))"
      ]
     },
     "metadata": {},
     "output_type": "display_data"
    },
    {
     "data": {
      "application/vnd.jupyter.widget-view+json": {
       "model_id": "",
       "version_major": 2,
       "version_minor": 0
      },
      "text/plain": [
       "HBox(children=(FloatProgress(value=1.0, bar_style='info', max=1.0), HTML(value='')))"
      ]
     },
     "metadata": {},
     "output_type": "display_data"
    },
    {
     "data": {
      "application/vnd.jupyter.widget-view+json": {
       "model_id": "f6652658bbd1496ebdb7e2bc4bb95ae5",
       "version_major": 2,
       "version_minor": 0
      },
      "text/plain": [
       "HBox(children=(FloatProgress(value=1.0, bar_style='info', max=1.0), HTML(value='')))"
      ]
     },
     "metadata": {},
     "output_type": "display_data"
    },
    {
     "name": "stdout",
     "output_type": "stream",
     "text": [
      "ERROR reading: nb\n",
      "Downloading and preparing dataset ted_talks_iwsl_t2/uz (download: Unknown size, generated: Unknown size, post-processed: Unknown size, total: Unknown size) to /home/ubuntu/.cache/huggingface/datasets/ted_talks_iwsl_t2/uz/1.1.0/a1396586f25b3a75422d7026d690d0814154279ab7d357406015b05d60873aae...\n"
     ]
    },
    {
     "data": {
      "application/vnd.jupyter.widget-view+json": {
       "model_id": "",
       "version_major": 2,
       "version_minor": 0
      },
      "text/plain": [
       "HBox(children=(FloatProgress(value=1.0, bar_style='info', max=1.0), HTML(value='')))"
      ]
     },
     "metadata": {},
     "output_type": "display_data"
    },
    {
     "data": {
      "application/vnd.jupyter.widget-view+json": {
       "model_id": "adfcae10ca654b3bbcad3f56285d16c3",
       "version_major": 2,
       "version_minor": 0
      },
      "text/plain": [
       "HBox(children=(FloatProgress(value=1.0, bar_style='info', max=1.0), HTML(value='')))"
      ]
     },
     "metadata": {},
     "output_type": "display_data"
    },
    {
     "name": "stdout",
     "output_type": "stream",
     "text": [
      "ERROR reading: uz\n",
      "Downloading and preparing dataset ted_talks_iwsl_t2/el (download: Unknown size, generated: Unknown size, post-processed: Unknown size, total: Unknown size) to /home/ubuntu/.cache/huggingface/datasets/ted_talks_iwsl_t2/el/1.1.0/a1396586f25b3a75422d7026d690d0814154279ab7d357406015b05d60873aae...\n"
     ]
    },
    {
     "data": {
      "application/vnd.jupyter.widget-view+json": {
       "model_id": "",
       "version_major": 2,
       "version_minor": 0
      },
      "text/plain": [
       "HBox(children=(FloatProgress(value=1.0, bar_style='info', max=1.0), HTML(value='')))"
      ]
     },
     "metadata": {},
     "output_type": "display_data"
    },
    {
     "data": {
      "application/vnd.jupyter.widget-view+json": {
       "model_id": "",
       "version_major": 2,
       "version_minor": 0
      },
      "text/plain": [
       "HBox(children=(FloatProgress(value=1.0, bar_style='info', max=1.0), HTML(value='')))"
      ]
     },
     "metadata": {},
     "output_type": "display_data"
    },
    {
     "data": {
      "application/vnd.jupyter.widget-view+json": {
       "model_id": "c7de9fea333a41be950889e97ea45dc8",
       "version_major": 2,
       "version_minor": 0
      },
      "text/plain": [
       "HBox(children=(FloatProgress(value=1.0, bar_style='info', max=1.0), HTML(value='')))"
      ]
     },
     "metadata": {},
     "output_type": "display_data"
    },
    {
     "name": "stdout",
     "output_type": "stream",
     "text": [
      "ERROR reading: el\n",
      "Downloading and preparing dataset ted_talks_iwsl_t2/sk (download: Unknown size, generated: Unknown size, post-processed: Unknown size, total: Unknown size) to /home/ubuntu/.cache/huggingface/datasets/ted_talks_iwsl_t2/sk/1.1.0/a1396586f25b3a75422d7026d690d0814154279ab7d357406015b05d60873aae...\n"
     ]
    },
    {
     "data": {
      "application/vnd.jupyter.widget-view+json": {
       "model_id": "",
       "version_major": 2,
       "version_minor": 0
      },
      "text/plain": [
       "HBox(children=(FloatProgress(value=1.0, bar_style='info', max=1.0), HTML(value='')))"
      ]
     },
     "metadata": {},
     "output_type": "display_data"
    },
    {
     "data": {
      "application/vnd.jupyter.widget-view+json": {
       "model_id": "84763ba5f4f54a0d992247b500dff8e1",
       "version_major": 2,
       "version_minor": 0
      },
      "text/plain": [
       "HBox(children=(FloatProgress(value=1.0, bar_style='info', max=1.0), HTML(value='')))"
      ]
     },
     "metadata": {},
     "output_type": "display_data"
    },
    {
     "name": "stdout",
     "output_type": "stream",
     "text": [
      "ERROR reading: sk\n",
      "Downloading and preparing dataset ted_talks_iwsl_t2/ar (download: Unknown size, generated: Unknown size, post-processed: Unknown size, total: Unknown size) to /home/ubuntu/.cache/huggingface/datasets/ted_talks_iwsl_t2/ar/1.1.0/a1396586f25b3a75422d7026d690d0814154279ab7d357406015b05d60873aae...\n"
     ]
    },
    {
     "data": {
      "application/vnd.jupyter.widget-view+json": {
       "model_id": "",
       "version_major": 2,
       "version_minor": 0
      },
      "text/plain": [
       "HBox(children=(FloatProgress(value=1.0, bar_style='info', max=1.0), HTML(value='')))"
      ]
     },
     "metadata": {},
     "output_type": "display_data"
    },
    {
     "data": {
      "application/vnd.jupyter.widget-view+json": {
       "model_id": "bea185743f0e46849facb92add432d18",
       "version_major": 2,
       "version_minor": 0
      },
      "text/plain": [
       "HBox(children=(FloatProgress(value=1.0, bar_style='info', max=1.0), HTML(value='')))"
      ]
     },
     "metadata": {},
     "output_type": "display_data"
    },
    {
     "name": "stdout",
     "output_type": "stream",
     "text": [
      "ERROR reading: ar\n",
      "Downloading and preparing dataset ted_talks_iwsl_t2/hup (download: Unknown size, generated: Unknown size, post-processed: Unknown size, total: Unknown size) to /home/ubuntu/.cache/huggingface/datasets/ted_talks_iwsl_t2/hup/1.1.0/a1396586f25b3a75422d7026d690d0814154279ab7d357406015b05d60873aae...\n"
     ]
    },
    {
     "data": {
      "application/vnd.jupyter.widget-view+json": {
       "model_id": "",
       "version_major": 2,
       "version_minor": 0
      },
      "text/plain": [
       "HBox(children=(FloatProgress(value=1.0, bar_style='info', max=1.0), HTML(value='')))"
      ]
     },
     "metadata": {},
     "output_type": "display_data"
    },
    {
     "name": "stdout",
     "output_type": "stream",
     "text": [
      "File doesn't exist /home/ubuntu/wit/XML_releases/xml-20140120/ted_hup-20140120.zip\n"
     ]
    },
    {
     "data": {
      "application/vnd.jupyter.widget-view+json": {
       "model_id": "",
       "version_major": 2,
       "version_minor": 0
      },
      "text/plain": [
       "HBox(children=(FloatProgress(value=1.0, bar_style='info', max=1.0), HTML(value='')))"
      ]
     },
     "metadata": {},
     "output_type": "display_data"
    },
    {
     "data": {
      "application/vnd.jupyter.widget-view+json": {
       "model_id": "",
       "version_major": 2,
       "version_minor": 0
      },
      "text/plain": [
       "HBox(children=(FloatProgress(value=1.0, bar_style='info', max=1.0), HTML(value='')))"
      ]
     },
     "metadata": {},
     "output_type": "display_data"
    },
    {
     "name": "stdout",
     "output_type": "stream",
     "text": [
      "Dataset ted_talks_iwsl_t2 downloaded and prepared to /home/ubuntu/.cache/huggingface/datasets/ted_talks_iwsl_t2/hup/1.1.0/a1396586f25b3a75422d7026d690d0814154279ab7d357406015b05d60873aae. Subsequent calls will reuse this data.\n",
      "Downloading and preparing dataset ted_talks_iwsl_t2/zh-tw (download: Unknown size, generated: Unknown size, post-processed: Unknown size, total: Unknown size) to /home/ubuntu/.cache/huggingface/datasets/ted_talks_iwsl_t2/zh-tw/1.1.0/a1396586f25b3a75422d7026d690d0814154279ab7d357406015b05d60873aae...\n"
     ]
    },
    {
     "data": {
      "application/vnd.jupyter.widget-view+json": {
       "model_id": "7cf31d84d1ee45c49ce9ef98c6a53ff5",
       "version_major": 2,
       "version_minor": 0
      },
      "text/plain": [
       "HBox(children=(FloatProgress(value=1.0, bar_style='info', max=1.0), HTML(value='')))"
      ]
     },
     "metadata": {},
     "output_type": "display_data"
    },
    {
     "name": "stdout",
     "output_type": "stream",
     "text": [
      "ERROR reading: zh-tw\n",
      "Downloading and preparing dataset ted_talks_iwsl_t2/ps (download: Unknown size, generated: Unknown size, post-processed: Unknown size, total: Unknown size) to /home/ubuntu/.cache/huggingface/datasets/ted_talks_iwsl_t2/ps/1.1.0/a1396586f25b3a75422d7026d690d0814154279ab7d357406015b05d60873aae...\n"
     ]
    },
    {
     "data": {
      "application/vnd.jupyter.widget-view+json": {
       "model_id": "",
       "version_major": 2,
       "version_minor": 0
      },
      "text/plain": [
       "HBox(children=(FloatProgress(value=1.0, bar_style='info', max=1.0), HTML(value='')))"
      ]
     },
     "metadata": {},
     "output_type": "display_data"
    },
    {
     "name": "stdout",
     "output_type": "stream",
     "text": [
      "File doesn't exist /home/ubuntu/wit/XML_releases/xml-20140120/ted_ps-20140120.zip\n"
     ]
    },
    {
     "data": {
      "application/vnd.jupyter.widget-view+json": {
       "model_id": "",
       "version_major": 2,
       "version_minor": 0
      },
      "text/plain": [
       "HBox(children=(FloatProgress(value=1.0, bar_style='info', max=1.0), HTML(value='')))"
      ]
     },
     "metadata": {},
     "output_type": "display_data"
    },
    {
     "data": {
      "application/vnd.jupyter.widget-view+json": {
       "model_id": "",
       "version_major": 2,
       "version_minor": 0
      },
      "text/plain": [
       "HBox(children=(FloatProgress(value=1.0, bar_style='info', max=1.0), HTML(value='')))"
      ]
     },
     "metadata": {},
     "output_type": "display_data"
    },
    {
     "name": "stdout",
     "output_type": "stream",
     "text": [
      "File doesn't exist /home/ubuntu/wit/XML_releases/xml-20150616/ted_ps-20150530.zip\n",
      "Dataset ted_talks_iwsl_t2 downloaded and prepared to /home/ubuntu/.cache/huggingface/datasets/ted_talks_iwsl_t2/ps/1.1.0/a1396586f25b3a75422d7026d690d0814154279ab7d357406015b05d60873aae. Subsequent calls will reuse this data.\n",
      "Downloading and preparing dataset ted_talks_iwsl_t2/tr (download: Unknown size, generated: Unknown size, post-processed: Unknown size, total: Unknown size) to /home/ubuntu/.cache/huggingface/datasets/ted_talks_iwsl_t2/tr/1.1.0/a1396586f25b3a75422d7026d690d0814154279ab7d357406015b05d60873aae...\n"
     ]
    },
    {
     "data": {
      "application/vnd.jupyter.widget-view+json": {
       "model_id": "",
       "version_major": 2,
       "version_minor": 0
      },
      "text/plain": [
       "HBox(children=(FloatProgress(value=1.0, bar_style='info', max=1.0), HTML(value='')))"
      ]
     },
     "metadata": {},
     "output_type": "display_data"
    },
    {
     "data": {
      "application/vnd.jupyter.widget-view+json": {
       "model_id": "58d5336fbb42455a8b3d133392b51a21",
       "version_major": 2,
       "version_minor": 0
      },
      "text/plain": [
       "HBox(children=(FloatProgress(value=1.0, bar_style='info', max=1.0), HTML(value='')))"
      ]
     },
     "metadata": {},
     "output_type": "display_data"
    },
    {
     "name": "stdout",
     "output_type": "stream",
     "text": [
      "ERROR reading: tr\n",
      "Downloading and preparing dataset ted_talks_iwsl_t2/nl (download: Unknown size, generated: Unknown size, post-processed: Unknown size, total: Unknown size) to /home/ubuntu/.cache/huggingface/datasets/ted_talks_iwsl_t2/nl/1.1.0/a1396586f25b3a75422d7026d690d0814154279ab7d357406015b05d60873aae...\n"
     ]
    },
    {
     "data": {
      "application/vnd.jupyter.widget-view+json": {
       "model_id": "",
       "version_major": 2,
       "version_minor": 0
      },
      "text/plain": [
       "HBox(children=(FloatProgress(value=1.0, bar_style='info', max=1.0), HTML(value='')))"
      ]
     },
     "metadata": {},
     "output_type": "display_data"
    },
    {
     "data": {
      "application/vnd.jupyter.widget-view+json": {
       "model_id": "",
       "version_major": 2,
       "version_minor": 0
      },
      "text/plain": [
       "HBox(children=(FloatProgress(value=1.0, bar_style='info', max=1.0), HTML(value='')))"
      ]
     },
     "metadata": {},
     "output_type": "display_data"
    },
    {
     "data": {
      "application/vnd.jupyter.widget-view+json": {
       "model_id": "5cccef45593f4b5ca86a41645a0cd2c4",
       "version_major": 2,
       "version_minor": 0
      },
      "text/plain": [
       "HBox(children=(FloatProgress(value=1.0, bar_style='info', max=1.0), HTML(value='')))"
      ]
     },
     "metadata": {},
     "output_type": "display_data"
    },
    {
     "name": "stdout",
     "output_type": "stream",
     "text": [
      "ERROR reading: nl\n",
      "Downloading and preparing dataset ted_talks_iwsl_t2/fa (download: Unknown size, generated: Unknown size, post-processed: Unknown size, total: Unknown size) to /home/ubuntu/.cache/huggingface/datasets/ted_talks_iwsl_t2/fa/1.1.0/a1396586f25b3a75422d7026d690d0814154279ab7d357406015b05d60873aae...\n"
     ]
    },
    {
     "data": {
      "application/vnd.jupyter.widget-view+json": {
       "model_id": "",
       "version_major": 2,
       "version_minor": 0
      },
      "text/plain": [
       "HBox(children=(FloatProgress(value=1.0, bar_style='info', max=1.0), HTML(value='')))"
      ]
     },
     "metadata": {},
     "output_type": "display_data"
    },
    {
     "data": {
      "application/vnd.jupyter.widget-view+json": {
       "model_id": "c3bee6239e9d4fa0877460cc17e94e5b",
       "version_major": 2,
       "version_minor": 0
      },
      "text/plain": [
       "HBox(children=(FloatProgress(value=1.0, bar_style='info', max=1.0), HTML(value='')))"
      ]
     },
     "metadata": {},
     "output_type": "display_data"
    },
    {
     "name": "stdout",
     "output_type": "stream",
     "text": [
      "ERROR reading: fa\n",
      "Downloading and preparing dataset ted_talks_iwsl_t2/vi (download: Unknown size, generated: Unknown size, post-processed: Unknown size, total: Unknown size) to /home/ubuntu/.cache/huggingface/datasets/ted_talks_iwsl_t2/vi/1.1.0/a1396586f25b3a75422d7026d690d0814154279ab7d357406015b05d60873aae...\n"
     ]
    },
    {
     "data": {
      "application/vnd.jupyter.widget-view+json": {
       "model_id": "",
       "version_major": 2,
       "version_minor": 0
      },
      "text/plain": [
       "HBox(children=(FloatProgress(value=1.0, bar_style='info', max=1.0), HTML(value='')))"
      ]
     },
     "metadata": {},
     "output_type": "display_data"
    },
    {
     "data": {
      "application/vnd.jupyter.widget-view+json": {
       "model_id": "3ceb14ea75e046cc85c0cf859f50876f",
       "version_major": 2,
       "version_minor": 0
      },
      "text/plain": [
       "HBox(children=(FloatProgress(value=1.0, bar_style='info', max=1.0), HTML(value='')))"
      ]
     },
     "metadata": {},
     "output_type": "display_data"
    },
    {
     "name": "stdout",
     "output_type": "stream",
     "text": [
      "ERROR reading: vi\n",
      "Downloading and preparing dataset ted_talks_iwsl_t2/pa (download: Unknown size, generated: Unknown size, post-processed: Unknown size, total: Unknown size) to /home/ubuntu/.cache/huggingface/datasets/ted_talks_iwsl_t2/pa/1.1.0/a1396586f25b3a75422d7026d690d0814154279ab7d357406015b05d60873aae...\n"
     ]
    },
    {
     "data": {
      "application/vnd.jupyter.widget-view+json": {
       "model_id": "",
       "version_major": 2,
       "version_minor": 0
      },
      "text/plain": [
       "HBox(children=(FloatProgress(value=1.0, bar_style='info', max=1.0), HTML(value='')))"
      ]
     },
     "metadata": {},
     "output_type": "display_data"
    },
    {
     "name": "stdout",
     "output_type": "stream",
     "text": [
      "File doesn't exist /home/ubuntu/wit/XML_releases/xml-20140120/ted_pa-20140120.zip\n"
     ]
    },
    {
     "data": {
      "application/vnd.jupyter.widget-view+json": {
       "model_id": "",
       "version_major": 2,
       "version_minor": 0
      },
      "text/plain": [
       "HBox(children=(FloatProgress(value=1.0, bar_style='info', max=1.0), HTML(value='')))"
      ]
     },
     "metadata": {},
     "output_type": "display_data"
    },
    {
     "data": {
      "application/vnd.jupyter.widget-view+json": {
       "model_id": "",
       "version_major": 2,
       "version_minor": 0
      },
      "text/plain": [
       "HBox(children=(FloatProgress(value=1.0, bar_style='info', max=1.0), HTML(value='')))"
      ]
     },
     "metadata": {},
     "output_type": "display_data"
    },
    {
     "name": "stdout",
     "output_type": "stream",
     "text": [
      "File doesn't exist /home/ubuntu/wit/XML_releases/xml-20150616/ted_pa-20150530.zip\n",
      "Dataset ted_talks_iwsl_t2 downloaded and prepared to /home/ubuntu/.cache/huggingface/datasets/ted_talks_iwsl_t2/pa/1.1.0/a1396586f25b3a75422d7026d690d0814154279ab7d357406015b05d60873aae. Subsequent calls will reuse this data.\n",
      "Downloading and preparing dataset ted_talks_iwsl_t2/az (download: Unknown size, generated: Unknown size, post-processed: Unknown size, total: Unknown size) to /home/ubuntu/.cache/huggingface/datasets/ted_talks_iwsl_t2/az/1.1.0/a1396586f25b3a75422d7026d690d0814154279ab7d357406015b05d60873aae...\n"
     ]
    },
    {
     "data": {
      "application/vnd.jupyter.widget-view+json": {
       "model_id": "",
       "version_major": 2,
       "version_minor": 0
      },
      "text/plain": [
       "HBox(children=(FloatProgress(value=1.0, bar_style='info', max=1.0), HTML(value='')))"
      ]
     },
     "metadata": {},
     "output_type": "display_data"
    },
    {
     "data": {
      "application/vnd.jupyter.widget-view+json": {
       "model_id": "06ca2b24cecd458f85541549b6408b10",
       "version_major": 2,
       "version_minor": 0
      },
      "text/plain": [
       "HBox(children=(FloatProgress(value=1.0, bar_style='info', max=1.0), HTML(value='')))"
      ]
     },
     "metadata": {},
     "output_type": "display_data"
    },
    {
     "name": "stdout",
     "output_type": "stream",
     "text": [
      "ERROR reading: az\n",
      "Downloading and preparing dataset ted_talks_iwsl_t2/sh (download: Unknown size, generated: Unknown size, post-processed: Unknown size, total: Unknown size) to /home/ubuntu/.cache/huggingface/datasets/ted_talks_iwsl_t2/sh/1.1.0/a1396586f25b3a75422d7026d690d0814154279ab7d357406015b05d60873aae...\n"
     ]
    },
    {
     "data": {
      "application/vnd.jupyter.widget-view+json": {
       "model_id": "",
       "version_major": 2,
       "version_minor": 0
      },
      "text/plain": [
       "HBox(children=(FloatProgress(value=1.0, bar_style='info', max=1.0), HTML(value='')))"
      ]
     },
     "metadata": {},
     "output_type": "display_data"
    },
    {
     "name": "stdout",
     "output_type": "stream",
     "text": [
      "File doesn't exist /home/ubuntu/wit/XML_releases/xml-20140120/ted_sh-20140120.zip\n"
     ]
    },
    {
     "data": {
      "application/vnd.jupyter.widget-view+json": {
       "model_id": "",
       "version_major": 2,
       "version_minor": 0
      },
      "text/plain": [
       "HBox(children=(FloatProgress(value=1.0, bar_style='info', max=1.0), HTML(value='')))"
      ]
     },
     "metadata": {},
     "output_type": "display_data"
    },
    {
     "data": {
      "application/vnd.jupyter.widget-view+json": {
       "model_id": "0880f182a468486baa57bacc03f47d1a",
       "version_major": 2,
       "version_minor": 0
      },
      "text/plain": [
       "HBox(children=(FloatProgress(value=1.0, bar_style='info', max=1.0), HTML(value='')))"
      ]
     },
     "metadata": {},
     "output_type": "display_data"
    },
    {
     "name": "stdout",
     "output_type": "stream",
     "text": [
      "ERROR reading: sh\n",
      "Downloading and preparing dataset ted_talks_iwsl_t2/ceb (download: Unknown size, generated: Unknown size, post-processed: Unknown size, total: Unknown size) to /home/ubuntu/.cache/huggingface/datasets/ted_talks_iwsl_t2/ceb/1.1.0/a1396586f25b3a75422d7026d690d0814154279ab7d357406015b05d60873aae...\n"
     ]
    },
    {
     "data": {
      "application/vnd.jupyter.widget-view+json": {
       "model_id": "",
       "version_major": 2,
       "version_minor": 0
      },
      "text/plain": [
       "HBox(children=(FloatProgress(value=1.0, bar_style='info', max=1.0), HTML(value='')))"
      ]
     },
     "metadata": {},
     "output_type": "display_data"
    },
    {
     "data": {
      "application/vnd.jupyter.widget-view+json": {
       "model_id": "e19a8c03fdcf4287970d8392ed6f9050",
       "version_major": 2,
       "version_minor": 0
      },
      "text/plain": [
       "HBox(children=(FloatProgress(value=1.0, bar_style='info', max=1.0), HTML(value='')))"
      ]
     },
     "metadata": {},
     "output_type": "display_data"
    },
    {
     "name": "stdout",
     "output_type": "stream",
     "text": [
      "ERROR reading: ceb\n",
      "Downloading and preparing dataset ted_talks_iwsl_t2/mt (download: Unknown size, generated: Unknown size, post-processed: Unknown size, total: Unknown size) to /home/ubuntu/.cache/huggingface/datasets/ted_talks_iwsl_t2/mt/1.1.0/a1396586f25b3a75422d7026d690d0814154279ab7d357406015b05d60873aae...\n"
     ]
    },
    {
     "data": {
      "application/vnd.jupyter.widget-view+json": {
       "model_id": "",
       "version_major": 2,
       "version_minor": 0
      },
      "text/plain": [
       "HBox(children=(FloatProgress(value=1.0, bar_style='info', max=1.0), HTML(value='')))"
      ]
     },
     "metadata": {},
     "output_type": "display_data"
    },
    {
     "name": "stdout",
     "output_type": "stream",
     "text": [
      "File doesn't exist /home/ubuntu/wit/XML_releases/xml-20140120/ted_mt-20140120.zip\n"
     ]
    },
    {
     "data": {
      "application/vnd.jupyter.widget-view+json": {
       "model_id": "",
       "version_major": 2,
       "version_minor": 0
      },
      "text/plain": [
       "HBox(children=(FloatProgress(value=1.0, bar_style='info', max=1.0), HTML(value='')))"
      ]
     },
     "metadata": {},
     "output_type": "display_data"
    },
    {
     "data": {
      "application/vnd.jupyter.widget-view+json": {
       "model_id": "",
       "version_major": 2,
       "version_minor": 0
      },
      "text/plain": [
       "HBox(children=(FloatProgress(value=1.0, bar_style='info', max=1.0), HTML(value='')))"
      ]
     },
     "metadata": {},
     "output_type": "display_data"
    },
    {
     "name": "stdout",
     "output_type": "stream",
     "text": [
      "Dataset ted_talks_iwsl_t2 downloaded and prepared to /home/ubuntu/.cache/huggingface/datasets/ted_talks_iwsl_t2/mt/1.1.0/a1396586f25b3a75422d7026d690d0814154279ab7d357406015b05d60873aae. Subsequent calls will reuse this data.\n",
      "Downloading and preparing dataset ted_talks_iwsl_t2/zh-cn (download: Unknown size, generated: Unknown size, post-processed: Unknown size, total: Unknown size) to /home/ubuntu/.cache/huggingface/datasets/ted_talks_iwsl_t2/zh-cn/1.1.0/a1396586f25b3a75422d7026d690d0814154279ab7d357406015b05d60873aae...\n"
     ]
    },
    {
     "data": {
      "application/vnd.jupyter.widget-view+json": {
       "model_id": "0ddb2597ef6c4a19814df8f56c2e29a2",
       "version_major": 2,
       "version_minor": 0
      },
      "text/plain": [
       "HBox(children=(FloatProgress(value=1.0, bar_style='info', max=1.0), HTML(value='')))"
      ]
     },
     "metadata": {},
     "output_type": "display_data"
    },
    {
     "name": "stdout",
     "output_type": "stream",
     "text": [
      "ERROR reading: zh-cn\n",
      "Downloading and preparing dataset ted_talks_iwsl_t2/cnh (download: Unknown size, generated: Unknown size, post-processed: Unknown size, total: Unknown size) to /home/ubuntu/.cache/huggingface/datasets/ted_talks_iwsl_t2/cnh/1.1.0/a1396586f25b3a75422d7026d690d0814154279ab7d357406015b05d60873aae...\n"
     ]
    },
    {
     "data": {
      "application/vnd.jupyter.widget-view+json": {
       "model_id": "",
       "version_major": 2,
       "version_minor": 0
      },
      "text/plain": [
       "HBox(children=(FloatProgress(value=1.0, bar_style='info', max=1.0), HTML(value='')))"
      ]
     },
     "metadata": {},
     "output_type": "display_data"
    },
    {
     "name": "stdout",
     "output_type": "stream",
     "text": [
      "File doesn't exist /home/ubuntu/wit/XML_releases/xml-20140120/ted_cnh-20140120.zip\n"
     ]
    },
    {
     "data": {
      "application/vnd.jupyter.widget-view+json": {
       "model_id": "",
       "version_major": 2,
       "version_minor": 0
      },
      "text/plain": [
       "HBox(children=(FloatProgress(value=1.0, bar_style='info', max=1.0), HTML(value='')))"
      ]
     },
     "metadata": {},
     "output_type": "display_data"
    },
    {
     "data": {
      "application/vnd.jupyter.widget-view+json": {
       "model_id": "",
       "version_major": 2,
       "version_minor": 0
      },
      "text/plain": [
       "HBox(children=(FloatProgress(value=1.0, bar_style='info', max=1.0), HTML(value='')))"
      ]
     },
     "metadata": {},
     "output_type": "display_data"
    },
    {
     "name": "stdout",
     "output_type": "stream",
     "text": [
      "File doesn't exist /home/ubuntu/wit/XML_releases/xml-20150616/ted_cnh-20150530.zip\n",
      "Dataset ted_talks_iwsl_t2 downloaded and prepared to /home/ubuntu/.cache/huggingface/datasets/ted_talks_iwsl_t2/cnh/1.1.0/a1396586f25b3a75422d7026d690d0814154279ab7d357406015b05d60873aae. Subsequent calls will reuse this data.\n",
      "Downloading and preparing dataset ted_talks_iwsl_t2/hi (download: Unknown size, generated: Unknown size, post-processed: Unknown size, total: Unknown size) to /home/ubuntu/.cache/huggingface/datasets/ted_talks_iwsl_t2/hi/1.1.0/a1396586f25b3a75422d7026d690d0814154279ab7d357406015b05d60873aae...\n"
     ]
    },
    {
     "data": {
      "application/vnd.jupyter.widget-view+json": {
       "model_id": "33f5df1d050e4af28d26557745c04da0",
       "version_major": 2,
       "version_minor": 0
      },
      "text/plain": [
       "HBox(children=(FloatProgress(value=1.0, bar_style='info', max=1.0), HTML(value='')))"
      ]
     },
     "metadata": {},
     "output_type": "display_data"
    },
    {
     "name": "stdout",
     "output_type": "stream",
     "text": [
      "ERROR reading: hi\n",
      "Downloading and preparing dataset ted_talks_iwsl_t2/id (download: Unknown size, generated: Unknown size, post-processed: Unknown size, total: Unknown size) to /home/ubuntu/.cache/huggingface/datasets/ted_talks_iwsl_t2/id/1.1.0/a1396586f25b3a75422d7026d690d0814154279ab7d357406015b05d60873aae...\n"
     ]
    },
    {
     "data": {
      "application/vnd.jupyter.widget-view+json": {
       "model_id": "",
       "version_major": 2,
       "version_minor": 0
      },
      "text/plain": [
       "HBox(children=(FloatProgress(value=1.0, bar_style='info', max=1.0), HTML(value='')))"
      ]
     },
     "metadata": {},
     "output_type": "display_data"
    },
    {
     "data": {
      "application/vnd.jupyter.widget-view+json": {
       "model_id": "7b20ae791cfc469cb762ed80afbeac08",
       "version_major": 2,
       "version_minor": 0
      },
      "text/plain": [
       "HBox(children=(FloatProgress(value=1.0, bar_style='info', max=1.0), HTML(value='')))"
      ]
     },
     "metadata": {},
     "output_type": "display_data"
    },
    {
     "name": "stdout",
     "output_type": "stream",
     "text": [
      "ERROR reading: id\n",
      "Downloading and preparing dataset ted_talks_iwsl_t2/cs (download: Unknown size, generated: Unknown size, post-processed: Unknown size, total: Unknown size) to /home/ubuntu/.cache/huggingface/datasets/ted_talks_iwsl_t2/cs/1.1.0/a1396586f25b3a75422d7026d690d0814154279ab7d357406015b05d60873aae...\n"
     ]
    },
    {
     "data": {
      "application/vnd.jupyter.widget-view+json": {
       "model_id": "",
       "version_major": 2,
       "version_minor": 0
      },
      "text/plain": [
       "HBox(children=(FloatProgress(value=1.0, bar_style='info', max=1.0), HTML(value='')))"
      ]
     },
     "metadata": {},
     "output_type": "display_data"
    },
    {
     "data": {
      "application/vnd.jupyter.widget-view+json": {
       "model_id": "",
       "version_major": 2,
       "version_minor": 0
      },
      "text/plain": [
       "HBox(children=(FloatProgress(value=1.0, bar_style='info', max=1.0), HTML(value='')))"
      ]
     },
     "metadata": {},
     "output_type": "display_data"
    },
    {
     "data": {
      "application/vnd.jupyter.widget-view+json": {
       "model_id": "2dc2380adaea4c47af52a30b0119a8ef",
       "version_major": 2,
       "version_minor": 0
      },
      "text/plain": [
       "HBox(children=(FloatProgress(value=1.0, bar_style='info', max=1.0), HTML(value='')))"
      ]
     },
     "metadata": {},
     "output_type": "display_data"
    },
    {
     "name": "stdout",
     "output_type": "stream",
     "text": [
      "ERROR reading: cs\n",
      "Downloading and preparing dataset ted_talks_iwsl_t2/hu (download: Unknown size, generated: Unknown size, post-processed: Unknown size, total: Unknown size) to /home/ubuntu/.cache/huggingface/datasets/ted_talks_iwsl_t2/hu/1.1.0/a1396586f25b3a75422d7026d690d0814154279ab7d357406015b05d60873aae...\n"
     ]
    },
    {
     "data": {
      "application/vnd.jupyter.widget-view+json": {
       "model_id": "",
       "version_major": 2,
       "version_minor": 0
      },
      "text/plain": [
       "HBox(children=(FloatProgress(value=1.0, bar_style='info', max=1.0), HTML(value='')))"
      ]
     },
     "metadata": {},
     "output_type": "display_data"
    },
    {
     "data": {
      "application/vnd.jupyter.widget-view+json": {
       "model_id": "",
       "version_major": 2,
       "version_minor": 0
      },
      "text/plain": [
       "HBox(children=(FloatProgress(value=1.0, bar_style='info', max=1.0), HTML(value='')))"
      ]
     },
     "metadata": {},
     "output_type": "display_data"
    },
    {
     "data": {
      "application/vnd.jupyter.widget-view+json": {
       "model_id": "846b43c2fe624312ab0b1e9192f6ccaa",
       "version_major": 2,
       "version_minor": 0
      },
      "text/plain": [
       "HBox(children=(FloatProgress(value=1.0, bar_style='info', max=1.0), HTML(value='')))"
      ]
     },
     "metadata": {},
     "output_type": "display_data"
    },
    {
     "name": "stdout",
     "output_type": "stream",
     "text": [
      "ERROR reading: hu\n",
      "Downloading and preparing dataset ted_talks_iwsl_t2/th (download: Unknown size, generated: Unknown size, post-processed: Unknown size, total: Unknown size) to /home/ubuntu/.cache/huggingface/datasets/ted_talks_iwsl_t2/th/1.1.0/a1396586f25b3a75422d7026d690d0814154279ab7d357406015b05d60873aae...\n"
     ]
    },
    {
     "data": {
      "application/vnd.jupyter.widget-view+json": {
       "model_id": "",
       "version_major": 2,
       "version_minor": 0
      },
      "text/plain": [
       "HBox(children=(FloatProgress(value=1.0, bar_style='info', max=1.0), HTML(value='')))"
      ]
     },
     "metadata": {},
     "output_type": "display_data"
    },
    {
     "data": {
      "application/vnd.jupyter.widget-view+json": {
       "model_id": "ca27b625600344f8b677414e91515209",
       "version_major": 2,
       "version_minor": 0
      },
      "text/plain": [
       "HBox(children=(FloatProgress(value=1.0, bar_style='info', max=1.0), HTML(value='')))"
      ]
     },
     "metadata": {},
     "output_type": "display_data"
    },
    {
     "name": "stdout",
     "output_type": "stream",
     "text": [
      "ERROR reading: th\n",
      "Downloading and preparing dataset ted_talks_iwsl_t2/de (download: Unknown size, generated: Unknown size, post-processed: Unknown size, total: Unknown size) to /home/ubuntu/.cache/huggingface/datasets/ted_talks_iwsl_t2/de/1.1.0/a1396586f25b3a75422d7026d690d0814154279ab7d357406015b05d60873aae...\n"
     ]
    },
    {
     "data": {
      "application/vnd.jupyter.widget-view+json": {
       "model_id": "",
       "version_major": 2,
       "version_minor": 0
      },
      "text/plain": [
       "HBox(children=(FloatProgress(value=1.0, bar_style='info', max=1.0), HTML(value='')))"
      ]
     },
     "metadata": {},
     "output_type": "display_data"
    },
    {
     "data": {
      "application/vnd.jupyter.widget-view+json": {
       "model_id": "",
       "version_major": 2,
       "version_minor": 0
      },
      "text/plain": [
       "HBox(children=(FloatProgress(value=1.0, bar_style='info', max=1.0), HTML(value='')))"
      ]
     },
     "metadata": {},
     "output_type": "display_data"
    },
    {
     "data": {
      "application/vnd.jupyter.widget-view+json": {
       "model_id": "f67c814f7eab40b5bf5778c7fb6397fe",
       "version_major": 2,
       "version_minor": 0
      },
      "text/plain": [
       "HBox(children=(FloatProgress(value=1.0, bar_style='info', max=1.0), HTML(value='')))"
      ]
     },
     "metadata": {},
     "output_type": "display_data"
    },
    {
     "name": "stdout",
     "output_type": "stream",
     "text": [
      "ERROR reading: de\n"
     ]
    }
   ],
   "source": [
    "new_err = list()\n",
    "for lang in error_tags: \n",
    "    try:\n",
    "        dataset = load_dataset('review/datasets/datasets/ted_talks_iwslt_2' , lang, data_dir= \"wit/XML_releases\")\n",
    "    except:\n",
    "        print(f\"ERROR reading: {lang}\")\n",
    "        new_err.append(lang)\n",
    "    "
   ]
  },
  {
   "cell_type": "code",
   "execution_count": 4,
   "metadata": {},
   "outputs": [],
   "source": [
    "corrected = ['ig', 'tt', 'hup', 'ps', 'pa', 'mt', 'cnh']\n",
    "new_err = [lang for lang in error_tags if lang not in corrected]"
   ]
  },
  {
   "cell_type": "code",
   "execution_count": 5,
   "metadata": {},
   "outputs": [],
   "source": [
    "# [lang for lang in error_tags if lang not in new_err]"
   ]
  },
  {
   "cell_type": "markdown",
   "metadata": {},
   "source": [
    "There were some language codes which were a fail because the data_loader code was copied from the previous iteration. \n",
    "\n",
    "```\n",
    "['ig', 'tt', 'hup', 'ps', 'pa', 'mt', 'cnh']\n",
    "```"
   ]
  },
  {
   "cell_type": "code",
   "execution_count": 6,
   "metadata": {},
   "outputs": [
    {
     "data": {
      "text/plain": [
       "['ja',\n",
       " 'nb',\n",
       " 'uz',\n",
       " 'el',\n",
       " 'sk',\n",
       " 'ar',\n",
       " 'zh-tw',\n",
       " 'tr',\n",
       " 'nl',\n",
       " 'fa',\n",
       " 'vi',\n",
       " 'az',\n",
       " 'sh',\n",
       " 'ceb',\n",
       " 'zh-cn',\n",
       " 'hi',\n",
       " 'id',\n",
       " 'cs',\n",
       " 'hu',\n",
       " 'th',\n",
       " 'de']"
      ]
     },
     "execution_count": 6,
     "metadata": {},
     "output_type": "execute_result"
    }
   ],
   "source": [
    "new_err"
   ]
  },
  {
   "cell_type": "code",
   "execution_count": 20,
   "metadata": {},
   "outputs": [
    {
     "name": "stdout",
     "output_type": "stream",
     "text": [
      "Downloading and preparing dataset ted_talks_iwsl_t2/ja (download: Unknown size, generated: Unknown size, post-processed: Unknown size, total: Unknown size) to /home/ubuntu/.cache/huggingface/datasets/ted_talks_iwsl_t2/ja/1.1.0/b7040ff1de8399a1f3d76abce35731a0736e2a20ea8754bff2be50486d96a20b...\n"
     ]
    },
    {
     "data": {
      "application/vnd.jupyter.widget-view+json": {
       "model_id": "",
       "version_major": 2,
       "version_minor": 0
      },
      "text/plain": [
       "HBox(children=(FloatProgress(value=1.0, bar_style='info', max=1.0), HTML(value='')))"
      ]
     },
     "metadata": {},
     "output_type": "display_data"
    },
    {
     "data": {
      "application/vnd.jupyter.widget-view+json": {
       "model_id": "",
       "version_major": 2,
       "version_minor": 0
      },
      "text/plain": [
       "HBox(children=(FloatProgress(value=1.0, bar_style='info', max=1.0), HTML(value='')))"
      ]
     },
     "metadata": {},
     "output_type": "display_data"
    },
    {
     "data": {
      "application/vnd.jupyter.widget-view+json": {
       "model_id": "",
       "version_major": 2,
       "version_minor": 0
      },
      "text/plain": [
       "HBox(children=(FloatProgress(value=1.0, bar_style='info', max=1.0), HTML(value='')))"
      ]
     },
     "metadata": {},
     "output_type": "display_data"
    },
    {
     "name": "stdout",
     "output_type": "stream",
     "text": [
      "Dataset ted_talks_iwsl_t2 downloaded and prepared to /home/ubuntu/.cache/huggingface/datasets/ted_talks_iwsl_t2/ja/1.1.0/b7040ff1de8399a1f3d76abce35731a0736e2a20ea8754bff2be50486d96a20b. Subsequent calls will reuse this data.\n",
      "Downloading and preparing dataset ted_talks_iwsl_t2/nb (download: Unknown size, generated: Unknown size, post-processed: Unknown size, total: Unknown size) to /home/ubuntu/.cache/huggingface/datasets/ted_talks_iwsl_t2/nb/1.1.0/b7040ff1de8399a1f3d76abce35731a0736e2a20ea8754bff2be50486d96a20b...\n"
     ]
    },
    {
     "data": {
      "application/vnd.jupyter.widget-view+json": {
       "model_id": "",
       "version_major": 2,
       "version_minor": 0
      },
      "text/plain": [
       "HBox(children=(FloatProgress(value=1.0, bar_style='info', max=1.0), HTML(value='')))"
      ]
     },
     "metadata": {},
     "output_type": "display_data"
    },
    {
     "data": {
      "application/vnd.jupyter.widget-view+json": {
       "model_id": "",
       "version_major": 2,
       "version_minor": 0
      },
      "text/plain": [
       "HBox(children=(FloatProgress(value=1.0, bar_style='info', max=1.0), HTML(value='')))"
      ]
     },
     "metadata": {},
     "output_type": "display_data"
    },
    {
     "data": {
      "application/vnd.jupyter.widget-view+json": {
       "model_id": "",
       "version_major": 2,
       "version_minor": 0
      },
      "text/plain": [
       "HBox(children=(FloatProgress(value=1.0, bar_style='info', max=1.0), HTML(value='')))"
      ]
     },
     "metadata": {},
     "output_type": "display_data"
    },
    {
     "name": "stdout",
     "output_type": "stream",
     "text": [
      "Dataset ted_talks_iwsl_t2 downloaded and prepared to /home/ubuntu/.cache/huggingface/datasets/ted_talks_iwsl_t2/nb/1.1.0/b7040ff1de8399a1f3d76abce35731a0736e2a20ea8754bff2be50486d96a20b. Subsequent calls will reuse this data.\n",
      "Downloading and preparing dataset ted_talks_iwsl_t2/uz (download: Unknown size, generated: Unknown size, post-processed: Unknown size, total: Unknown size) to /home/ubuntu/.cache/huggingface/datasets/ted_talks_iwsl_t2/uz/1.1.0/b7040ff1de8399a1f3d76abce35731a0736e2a20ea8754bff2be50486d96a20b...\n"
     ]
    },
    {
     "data": {
      "application/vnd.jupyter.widget-view+json": {
       "model_id": "",
       "version_major": 2,
       "version_minor": 0
      },
      "text/plain": [
       "HBox(children=(FloatProgress(value=1.0, bar_style='info', max=1.0), HTML(value='')))"
      ]
     },
     "metadata": {},
     "output_type": "display_data"
    },
    {
     "data": {
      "application/vnd.jupyter.widget-view+json": {
       "model_id": "",
       "version_major": 2,
       "version_minor": 0
      },
      "text/plain": [
       "HBox(children=(FloatProgress(value=1.0, bar_style='info', max=1.0), HTML(value='')))"
      ]
     },
     "metadata": {},
     "output_type": "display_data"
    },
    {
     "data": {
      "application/vnd.jupyter.widget-view+json": {
       "model_id": "",
       "version_major": 2,
       "version_minor": 0
      },
      "text/plain": [
       "HBox(children=(FloatProgress(value=1.0, bar_style='info', max=1.0), HTML(value='')))"
      ]
     },
     "metadata": {},
     "output_type": "display_data"
    },
    {
     "name": "stdout",
     "output_type": "stream",
     "text": [
      "Dataset ted_talks_iwsl_t2 downloaded and prepared to /home/ubuntu/.cache/huggingface/datasets/ted_talks_iwsl_t2/uz/1.1.0/b7040ff1de8399a1f3d76abce35731a0736e2a20ea8754bff2be50486d96a20b. Subsequent calls will reuse this data.\n",
      "Downloading and preparing dataset ted_talks_iwsl_t2/el (download: Unknown size, generated: Unknown size, post-processed: Unknown size, total: Unknown size) to /home/ubuntu/.cache/huggingface/datasets/ted_talks_iwsl_t2/el/1.1.0/b7040ff1de8399a1f3d76abce35731a0736e2a20ea8754bff2be50486d96a20b...\n"
     ]
    },
    {
     "data": {
      "application/vnd.jupyter.widget-view+json": {
       "model_id": "",
       "version_major": 2,
       "version_minor": 0
      },
      "text/plain": [
       "HBox(children=(FloatProgress(value=1.0, bar_style='info', max=1.0), HTML(value='')))"
      ]
     },
     "metadata": {},
     "output_type": "display_data"
    },
    {
     "data": {
      "application/vnd.jupyter.widget-view+json": {
       "model_id": "",
       "version_major": 2,
       "version_minor": 0
      },
      "text/plain": [
       "HBox(children=(FloatProgress(value=1.0, bar_style='info', max=1.0), HTML(value='')))"
      ]
     },
     "metadata": {},
     "output_type": "display_data"
    },
    {
     "data": {
      "application/vnd.jupyter.widget-view+json": {
       "model_id": "",
       "version_major": 2,
       "version_minor": 0
      },
      "text/plain": [
       "HBox(children=(FloatProgress(value=1.0, bar_style='info', max=1.0), HTML(value='')))"
      ]
     },
     "metadata": {},
     "output_type": "display_data"
    },
    {
     "name": "stdout",
     "output_type": "stream",
     "text": [
      "Dataset ted_talks_iwsl_t2 downloaded and prepared to /home/ubuntu/.cache/huggingface/datasets/ted_talks_iwsl_t2/el/1.1.0/b7040ff1de8399a1f3d76abce35731a0736e2a20ea8754bff2be50486d96a20b. Subsequent calls will reuse this data.\n",
      "Downloading and preparing dataset ted_talks_iwsl_t2/sk (download: Unknown size, generated: Unknown size, post-processed: Unknown size, total: Unknown size) to /home/ubuntu/.cache/huggingface/datasets/ted_talks_iwsl_t2/sk/1.1.0/b7040ff1de8399a1f3d76abce35731a0736e2a20ea8754bff2be50486d96a20b...\n"
     ]
    },
    {
     "data": {
      "application/vnd.jupyter.widget-view+json": {
       "model_id": "",
       "version_major": 2,
       "version_minor": 0
      },
      "text/plain": [
       "HBox(children=(FloatProgress(value=1.0, bar_style='info', max=1.0), HTML(value='')))"
      ]
     },
     "metadata": {},
     "output_type": "display_data"
    },
    {
     "data": {
      "application/vnd.jupyter.widget-view+json": {
       "model_id": "",
       "version_major": 2,
       "version_minor": 0
      },
      "text/plain": [
       "HBox(children=(FloatProgress(value=1.0, bar_style='info', max=1.0), HTML(value='')))"
      ]
     },
     "metadata": {},
     "output_type": "display_data"
    },
    {
     "data": {
      "application/vnd.jupyter.widget-view+json": {
       "model_id": "",
       "version_major": 2,
       "version_minor": 0
      },
      "text/plain": [
       "HBox(children=(FloatProgress(value=1.0, bar_style='info', max=1.0), HTML(value='')))"
      ]
     },
     "metadata": {},
     "output_type": "display_data"
    },
    {
     "name": "stderr",
     "output_type": "stream",
     "text": [
      "Reusing dataset ted_talks_iwsl_t2 (/home/ubuntu/.cache/huggingface/datasets/ted_talks_iwsl_t2/ar/1.1.0/b7040ff1de8399a1f3d76abce35731a0736e2a20ea8754bff2be50486d96a20b)\n"
     ]
    },
    {
     "name": "stdout",
     "output_type": "stream",
     "text": [
      "Dataset ted_talks_iwsl_t2 downloaded and prepared to /home/ubuntu/.cache/huggingface/datasets/ted_talks_iwsl_t2/sk/1.1.0/b7040ff1de8399a1f3d76abce35731a0736e2a20ea8754bff2be50486d96a20b. Subsequent calls will reuse this data.\n",
      "Downloading and preparing dataset ted_talks_iwsl_t2/zh-tw (download: Unknown size, generated: Unknown size, post-processed: Unknown size, total: Unknown size) to /home/ubuntu/.cache/huggingface/datasets/ted_talks_iwsl_t2/zh-tw/1.1.0/b7040ff1de8399a1f3d76abce35731a0736e2a20ea8754bff2be50486d96a20b...\n"
     ]
    },
    {
     "data": {
      "application/vnd.jupyter.widget-view+json": {
       "model_id": "",
       "version_major": 2,
       "version_minor": 0
      },
      "text/plain": [
       "HBox(children=(FloatProgress(value=1.0, bar_style='info', max=1.0), HTML(value='')))"
      ]
     },
     "metadata": {},
     "output_type": "display_data"
    },
    {
     "data": {
      "application/vnd.jupyter.widget-view+json": {
       "model_id": "",
       "version_major": 2,
       "version_minor": 0
      },
      "text/plain": [
       "HBox(children=(FloatProgress(value=1.0, bar_style='info', max=1.0), HTML(value='')))"
      ]
     },
     "metadata": {},
     "output_type": "display_data"
    },
    {
     "data": {
      "application/vnd.jupyter.widget-view+json": {
       "model_id": "",
       "version_major": 2,
       "version_minor": 0
      },
      "text/plain": [
       "HBox(children=(FloatProgress(value=1.0, bar_style='info', max=1.0), HTML(value='')))"
      ]
     },
     "metadata": {},
     "output_type": "display_data"
    },
    {
     "name": "stdout",
     "output_type": "stream",
     "text": [
      "Dataset ted_talks_iwsl_t2 downloaded and prepared to /home/ubuntu/.cache/huggingface/datasets/ted_talks_iwsl_t2/zh-tw/1.1.0/b7040ff1de8399a1f3d76abce35731a0736e2a20ea8754bff2be50486d96a20b. Subsequent calls will reuse this data.\n",
      "Downloading and preparing dataset ted_talks_iwsl_t2/tr (download: Unknown size, generated: Unknown size, post-processed: Unknown size, total: Unknown size) to /home/ubuntu/.cache/huggingface/datasets/ted_talks_iwsl_t2/tr/1.1.0/b7040ff1de8399a1f3d76abce35731a0736e2a20ea8754bff2be50486d96a20b...\n"
     ]
    },
    {
     "data": {
      "application/vnd.jupyter.widget-view+json": {
       "model_id": "",
       "version_major": 2,
       "version_minor": 0
      },
      "text/plain": [
       "HBox(children=(FloatProgress(value=1.0, bar_style='info', max=1.0), HTML(value='')))"
      ]
     },
     "metadata": {},
     "output_type": "display_data"
    },
    {
     "data": {
      "application/vnd.jupyter.widget-view+json": {
       "model_id": "",
       "version_major": 2,
       "version_minor": 0
      },
      "text/plain": [
       "HBox(children=(FloatProgress(value=1.0, bar_style='info', max=1.0), HTML(value='')))"
      ]
     },
     "metadata": {},
     "output_type": "display_data"
    },
    {
     "data": {
      "application/vnd.jupyter.widget-view+json": {
       "model_id": "",
       "version_major": 2,
       "version_minor": 0
      },
      "text/plain": [
       "HBox(children=(FloatProgress(value=1.0, bar_style='info', max=1.0), HTML(value='')))"
      ]
     },
     "metadata": {},
     "output_type": "display_data"
    },
    {
     "name": "stdout",
     "output_type": "stream",
     "text": [
      "Dataset ted_talks_iwsl_t2 downloaded and prepared to /home/ubuntu/.cache/huggingface/datasets/ted_talks_iwsl_t2/tr/1.1.0/b7040ff1de8399a1f3d76abce35731a0736e2a20ea8754bff2be50486d96a20b. Subsequent calls will reuse this data.\n",
      "Downloading and preparing dataset ted_talks_iwsl_t2/nl (download: Unknown size, generated: Unknown size, post-processed: Unknown size, total: Unknown size) to /home/ubuntu/.cache/huggingface/datasets/ted_talks_iwsl_t2/nl/1.1.0/b7040ff1de8399a1f3d76abce35731a0736e2a20ea8754bff2be50486d96a20b...\n"
     ]
    },
    {
     "data": {
      "application/vnd.jupyter.widget-view+json": {
       "model_id": "",
       "version_major": 2,
       "version_minor": 0
      },
      "text/plain": [
       "HBox(children=(FloatProgress(value=1.0, bar_style='info', max=1.0), HTML(value='')))"
      ]
     },
     "metadata": {},
     "output_type": "display_data"
    },
    {
     "data": {
      "application/vnd.jupyter.widget-view+json": {
       "model_id": "",
       "version_major": 2,
       "version_minor": 0
      },
      "text/plain": [
       "HBox(children=(FloatProgress(value=1.0, bar_style='info', max=1.0), HTML(value='')))"
      ]
     },
     "metadata": {},
     "output_type": "display_data"
    },
    {
     "data": {
      "application/vnd.jupyter.widget-view+json": {
       "model_id": "",
       "version_major": 2,
       "version_minor": 0
      },
      "text/plain": [
       "HBox(children=(FloatProgress(value=1.0, bar_style='info', max=1.0), HTML(value='')))"
      ]
     },
     "metadata": {},
     "output_type": "display_data"
    },
    {
     "name": "stdout",
     "output_type": "stream",
     "text": [
      "Dataset ted_talks_iwsl_t2 downloaded and prepared to /home/ubuntu/.cache/huggingface/datasets/ted_talks_iwsl_t2/nl/1.1.0/b7040ff1de8399a1f3d76abce35731a0736e2a20ea8754bff2be50486d96a20b. Subsequent calls will reuse this data.\n",
      "Downloading and preparing dataset ted_talks_iwsl_t2/fa (download: Unknown size, generated: Unknown size, post-processed: Unknown size, total: Unknown size) to /home/ubuntu/.cache/huggingface/datasets/ted_talks_iwsl_t2/fa/1.1.0/b7040ff1de8399a1f3d76abce35731a0736e2a20ea8754bff2be50486d96a20b...\n"
     ]
    },
    {
     "data": {
      "application/vnd.jupyter.widget-view+json": {
       "model_id": "",
       "version_major": 2,
       "version_minor": 0
      },
      "text/plain": [
       "HBox(children=(FloatProgress(value=1.0, bar_style='info', max=1.0), HTML(value='')))"
      ]
     },
     "metadata": {},
     "output_type": "display_data"
    },
    {
     "data": {
      "application/vnd.jupyter.widget-view+json": {
       "model_id": "",
       "version_major": 2,
       "version_minor": 0
      },
      "text/plain": [
       "HBox(children=(FloatProgress(value=1.0, bar_style='info', max=1.0), HTML(value='')))"
      ]
     },
     "metadata": {},
     "output_type": "display_data"
    },
    {
     "data": {
      "application/vnd.jupyter.widget-view+json": {
       "model_id": "",
       "version_major": 2,
       "version_minor": 0
      },
      "text/plain": [
       "HBox(children=(FloatProgress(value=1.0, bar_style='info', max=1.0), HTML(value='')))"
      ]
     },
     "metadata": {},
     "output_type": "display_data"
    },
    {
     "name": "stdout",
     "output_type": "stream",
     "text": [
      "Dataset ted_talks_iwsl_t2 downloaded and prepared to /home/ubuntu/.cache/huggingface/datasets/ted_talks_iwsl_t2/fa/1.1.0/b7040ff1de8399a1f3d76abce35731a0736e2a20ea8754bff2be50486d96a20b. Subsequent calls will reuse this data.\n",
      "Downloading and preparing dataset ted_talks_iwsl_t2/vi (download: Unknown size, generated: Unknown size, post-processed: Unknown size, total: Unknown size) to /home/ubuntu/.cache/huggingface/datasets/ted_talks_iwsl_t2/vi/1.1.0/58fd780ff6b1002e2f1d80e20bdf82203b7a18c6319cded80868f59c2480d17a...\n"
     ]
    },
    {
     "data": {
      "application/vnd.jupyter.widget-view+json": {
       "model_id": "",
       "version_major": 2,
       "version_minor": 0
      },
      "text/plain": [
       "HBox(children=(FloatProgress(value=1.0, bar_style='info', max=1.0), HTML(value='')))"
      ]
     },
     "metadata": {},
     "output_type": "display_data"
    },
    {
     "data": {
      "application/vnd.jupyter.widget-view+json": {
       "model_id": "",
       "version_major": 2,
       "version_minor": 0
      },
      "text/plain": [
       "HBox(children=(FloatProgress(value=1.0, bar_style='info', max=1.0), HTML(value='')))"
      ]
     },
     "metadata": {},
     "output_type": "display_data"
    },
    {
     "data": {
      "application/vnd.jupyter.widget-view+json": {
       "model_id": "",
       "version_major": 2,
       "version_minor": 0
      },
      "text/plain": [
       "HBox(children=(FloatProgress(value=1.0, bar_style='info', max=1.0), HTML(value='')))"
      ]
     },
     "metadata": {},
     "output_type": "display_data"
    },
    {
     "name": "stdout",
     "output_type": "stream",
     "text": [
      "Dataset ted_talks_iwsl_t2 downloaded and prepared to /home/ubuntu/.cache/huggingface/datasets/ted_talks_iwsl_t2/vi/1.1.0/58fd780ff6b1002e2f1d80e20bdf82203b7a18c6319cded80868f59c2480d17a. Subsequent calls will reuse this data.\n",
      "Downloading and preparing dataset ted_talks_iwsl_t2/az (download: Unknown size, generated: Unknown size, post-processed: Unknown size, total: Unknown size) to /home/ubuntu/.cache/huggingface/datasets/ted_talks_iwsl_t2/az/1.1.0/58fd780ff6b1002e2f1d80e20bdf82203b7a18c6319cded80868f59c2480d17a...\n"
     ]
    },
    {
     "data": {
      "application/vnd.jupyter.widget-view+json": {
       "model_id": "",
       "version_major": 2,
       "version_minor": 0
      },
      "text/plain": [
       "HBox(children=(FloatProgress(value=1.0, bar_style='info', max=1.0), HTML(value='')))"
      ]
     },
     "metadata": {},
     "output_type": "display_data"
    },
    {
     "data": {
      "application/vnd.jupyter.widget-view+json": {
       "model_id": "",
       "version_major": 2,
       "version_minor": 0
      },
      "text/plain": [
       "HBox(children=(FloatProgress(value=1.0, bar_style='info', max=1.0), HTML(value='')))"
      ]
     },
     "metadata": {},
     "output_type": "display_data"
    },
    {
     "data": {
      "application/vnd.jupyter.widget-view+json": {
       "model_id": "",
       "version_major": 2,
       "version_minor": 0
      },
      "text/plain": [
       "HBox(children=(FloatProgress(value=1.0, bar_style='info', max=1.0), HTML(value='')))"
      ]
     },
     "metadata": {},
     "output_type": "display_data"
    },
    {
     "name": "stdout",
     "output_type": "stream",
     "text": [
      "Dataset ted_talks_iwsl_t2 downloaded and prepared to /home/ubuntu/.cache/huggingface/datasets/ted_talks_iwsl_t2/az/1.1.0/58fd780ff6b1002e2f1d80e20bdf82203b7a18c6319cded80868f59c2480d17a. Subsequent calls will reuse this data.\n",
      "Downloading and preparing dataset ted_talks_iwsl_t2/sh (download: Unknown size, generated: Unknown size, post-processed: Unknown size, total: Unknown size) to /home/ubuntu/.cache/huggingface/datasets/ted_talks_iwsl_t2/sh/1.1.0/58fd780ff6b1002e2f1d80e20bdf82203b7a18c6319cded80868f59c2480d17a...\n"
     ]
    },
    {
     "data": {
      "application/vnd.jupyter.widget-view+json": {
       "model_id": "",
       "version_major": 2,
       "version_minor": 0
      },
      "text/plain": [
       "HBox(children=(FloatProgress(value=1.0, bar_style='info', max=1.0), HTML(value='')))"
      ]
     },
     "metadata": {},
     "output_type": "display_data"
    },
    {
     "name": "stdout",
     "output_type": "stream",
     "text": [
      "File doesn't exist:: /home/ubuntu/wit/XML_releases/xml-20140120/ted_sh-20140120.zip\n"
     ]
    },
    {
     "data": {
      "application/vnd.jupyter.widget-view+json": {
       "model_id": "",
       "version_major": 2,
       "version_minor": 0
      },
      "text/plain": [
       "HBox(children=(FloatProgress(value=1.0, bar_style='info', max=1.0), HTML(value='')))"
      ]
     },
     "metadata": {},
     "output_type": "display_data"
    },
    {
     "data": {
      "application/vnd.jupyter.widget-view+json": {
       "model_id": "",
       "version_major": 2,
       "version_minor": 0
      },
      "text/plain": [
       "HBox(children=(FloatProgress(value=1.0, bar_style='info', max=1.0), HTML(value='')))"
      ]
     },
     "metadata": {},
     "output_type": "display_data"
    },
    {
     "name": "stdout",
     "output_type": "stream",
     "text": [
      "Dataset ted_talks_iwsl_t2 downloaded and prepared to /home/ubuntu/.cache/huggingface/datasets/ted_talks_iwsl_t2/sh/1.1.0/58fd780ff6b1002e2f1d80e20bdf82203b7a18c6319cded80868f59c2480d17a. Subsequent calls will reuse this data.\n",
      "Downloading and preparing dataset ted_talks_iwsl_t2/ceb (download: Unknown size, generated: Unknown size, post-processed: Unknown size, total: Unknown size) to /home/ubuntu/.cache/huggingface/datasets/ted_talks_iwsl_t2/ceb/1.1.0/58fd780ff6b1002e2f1d80e20bdf82203b7a18c6319cded80868f59c2480d17a...\n"
     ]
    },
    {
     "data": {
      "application/vnd.jupyter.widget-view+json": {
       "model_id": "",
       "version_major": 2,
       "version_minor": 0
      },
      "text/plain": [
       "HBox(children=(FloatProgress(value=1.0, bar_style='info', max=1.0), HTML(value='')))"
      ]
     },
     "metadata": {},
     "output_type": "display_data"
    },
    {
     "data": {
      "application/vnd.jupyter.widget-view+json": {
       "model_id": "",
       "version_major": 2,
       "version_minor": 0
      },
      "text/plain": [
       "HBox(children=(FloatProgress(value=1.0, bar_style='info', max=1.0), HTML(value='')))"
      ]
     },
     "metadata": {},
     "output_type": "display_data"
    },
    {
     "data": {
      "application/vnd.jupyter.widget-view+json": {
       "model_id": "",
       "version_major": 2,
       "version_minor": 0
      },
      "text/plain": [
       "HBox(children=(FloatProgress(value=1.0, bar_style='info', max=1.0), HTML(value='')))"
      ]
     },
     "metadata": {},
     "output_type": "display_data"
    },
    {
     "name": "stdout",
     "output_type": "stream",
     "text": [
      "Dataset ted_talks_iwsl_t2 downloaded and prepared to /home/ubuntu/.cache/huggingface/datasets/ted_talks_iwsl_t2/ceb/1.1.0/58fd780ff6b1002e2f1d80e20bdf82203b7a18c6319cded80868f59c2480d17a. Subsequent calls will reuse this data.\n",
      "Downloading and preparing dataset ted_talks_iwsl_t2/zh-cn (download: Unknown size, generated: Unknown size, post-processed: Unknown size, total: Unknown size) to /home/ubuntu/.cache/huggingface/datasets/ted_talks_iwsl_t2/zh-cn/1.1.0/58fd780ff6b1002e2f1d80e20bdf82203b7a18c6319cded80868f59c2480d17a...\n"
     ]
    },
    {
     "data": {
      "application/vnd.jupyter.widget-view+json": {
       "model_id": "",
       "version_major": 2,
       "version_minor": 0
      },
      "text/plain": [
       "HBox(children=(FloatProgress(value=1.0, bar_style='info', max=1.0), HTML(value='')))"
      ]
     },
     "metadata": {},
     "output_type": "display_data"
    },
    {
     "data": {
      "application/vnd.jupyter.widget-view+json": {
       "model_id": "",
       "version_major": 2,
       "version_minor": 0
      },
      "text/plain": [
       "HBox(children=(FloatProgress(value=1.0, bar_style='info', max=1.0), HTML(value='')))"
      ]
     },
     "metadata": {},
     "output_type": "display_data"
    },
    {
     "data": {
      "application/vnd.jupyter.widget-view+json": {
       "model_id": "",
       "version_major": 2,
       "version_minor": 0
      },
      "text/plain": [
       "HBox(children=(FloatProgress(value=1.0, bar_style='info', max=1.0), HTML(value='')))"
      ]
     },
     "metadata": {},
     "output_type": "display_data"
    },
    {
     "name": "stdout",
     "output_type": "stream",
     "text": [
      "Dataset ted_talks_iwsl_t2 downloaded and prepared to /home/ubuntu/.cache/huggingface/datasets/ted_talks_iwsl_t2/zh-cn/1.1.0/58fd780ff6b1002e2f1d80e20bdf82203b7a18c6319cded80868f59c2480d17a. Subsequent calls will reuse this data.\n",
      "Downloading and preparing dataset ted_talks_iwsl_t2/hi (download: Unknown size, generated: Unknown size, post-processed: Unknown size, total: Unknown size) to /home/ubuntu/.cache/huggingface/datasets/ted_talks_iwsl_t2/hi/1.1.0/58fd780ff6b1002e2f1d80e20bdf82203b7a18c6319cded80868f59c2480d17a...\n"
     ]
    },
    {
     "data": {
      "application/vnd.jupyter.widget-view+json": {
       "model_id": "14a7178ceaff43938d39c012981a2764",
       "version_major": 2,
       "version_minor": 0
      },
      "text/plain": [
       "HBox(children=(FloatProgress(value=1.0, bar_style='info', max=1.0), HTML(value='')))"
      ]
     },
     "metadata": {},
     "output_type": "display_data"
    },
    {
     "name": "stdout",
     "output_type": "stream",
     "text": [
      "'description'\n",
      "hi\n",
      "Downloading and preparing dataset ted_talks_iwsl_t2/id (download: Unknown size, generated: Unknown size, post-processed: Unknown size, total: Unknown size) to /home/ubuntu/.cache/huggingface/datasets/ted_talks_iwsl_t2/id/1.1.0/58fd780ff6b1002e2f1d80e20bdf82203b7a18c6319cded80868f59c2480d17a...\n"
     ]
    },
    {
     "data": {
      "application/vnd.jupyter.widget-view+json": {
       "model_id": "",
       "version_major": 2,
       "version_minor": 0
      },
      "text/plain": [
       "HBox(children=(FloatProgress(value=1.0, bar_style='info', max=1.0), HTML(value='')))"
      ]
     },
     "metadata": {},
     "output_type": "display_data"
    },
    {
     "data": {
      "application/vnd.jupyter.widget-view+json": {
       "model_id": "",
       "version_major": 2,
       "version_minor": 0
      },
      "text/plain": [
       "HBox(children=(FloatProgress(value=1.0, bar_style='info', max=1.0), HTML(value='')))"
      ]
     },
     "metadata": {},
     "output_type": "display_data"
    },
    {
     "data": {
      "application/vnd.jupyter.widget-view+json": {
       "model_id": "",
       "version_major": 2,
       "version_minor": 0
      },
      "text/plain": [
       "HBox(children=(FloatProgress(value=1.0, bar_style='info', max=1.0), HTML(value='')))"
      ]
     },
     "metadata": {},
     "output_type": "display_data"
    },
    {
     "name": "stdout",
     "output_type": "stream",
     "text": [
      "Dataset ted_talks_iwsl_t2 downloaded and prepared to /home/ubuntu/.cache/huggingface/datasets/ted_talks_iwsl_t2/id/1.1.0/58fd780ff6b1002e2f1d80e20bdf82203b7a18c6319cded80868f59c2480d17a. Subsequent calls will reuse this data.\n",
      "Downloading and preparing dataset ted_talks_iwsl_t2/cs (download: Unknown size, generated: Unknown size, post-processed: Unknown size, total: Unknown size) to /home/ubuntu/.cache/huggingface/datasets/ted_talks_iwsl_t2/cs/1.1.0/58fd780ff6b1002e2f1d80e20bdf82203b7a18c6319cded80868f59c2480d17a...\n"
     ]
    },
    {
     "data": {
      "application/vnd.jupyter.widget-view+json": {
       "model_id": "",
       "version_major": 2,
       "version_minor": 0
      },
      "text/plain": [
       "HBox(children=(FloatProgress(value=1.0, bar_style='info', max=1.0), HTML(value='')))"
      ]
     },
     "metadata": {},
     "output_type": "display_data"
    },
    {
     "data": {
      "application/vnd.jupyter.widget-view+json": {
       "model_id": "",
       "version_major": 2,
       "version_minor": 0
      },
      "text/plain": [
       "HBox(children=(FloatProgress(value=1.0, bar_style='info', max=1.0), HTML(value='')))"
      ]
     },
     "metadata": {},
     "output_type": "display_data"
    },
    {
     "data": {
      "application/vnd.jupyter.widget-view+json": {
       "model_id": "",
       "version_major": 2,
       "version_minor": 0
      },
      "text/plain": [
       "HBox(children=(FloatProgress(value=1.0, bar_style='info', max=1.0), HTML(value='')))"
      ]
     },
     "metadata": {},
     "output_type": "display_data"
    },
    {
     "name": "stdout",
     "output_type": "stream",
     "text": [
      "Dataset ted_talks_iwsl_t2 downloaded and prepared to /home/ubuntu/.cache/huggingface/datasets/ted_talks_iwsl_t2/cs/1.1.0/58fd780ff6b1002e2f1d80e20bdf82203b7a18c6319cded80868f59c2480d17a. Subsequent calls will reuse this data.\n",
      "Downloading and preparing dataset ted_talks_iwsl_t2/hu (download: Unknown size, generated: Unknown size, post-processed: Unknown size, total: Unknown size) to /home/ubuntu/.cache/huggingface/datasets/ted_talks_iwsl_t2/hu/1.1.0/58fd780ff6b1002e2f1d80e20bdf82203b7a18c6319cded80868f59c2480d17a...\n"
     ]
    },
    {
     "data": {
      "application/vnd.jupyter.widget-view+json": {
       "model_id": "",
       "version_major": 2,
       "version_minor": 0
      },
      "text/plain": [
       "HBox(children=(FloatProgress(value=1.0, bar_style='info', max=1.0), HTML(value='')))"
      ]
     },
     "metadata": {},
     "output_type": "display_data"
    },
    {
     "data": {
      "application/vnd.jupyter.widget-view+json": {
       "model_id": "",
       "version_major": 2,
       "version_minor": 0
      },
      "text/plain": [
       "HBox(children=(FloatProgress(value=1.0, bar_style='info', max=1.0), HTML(value='')))"
      ]
     },
     "metadata": {},
     "output_type": "display_data"
    },
    {
     "data": {
      "application/vnd.jupyter.widget-view+json": {
       "model_id": "",
       "version_major": 2,
       "version_minor": 0
      },
      "text/plain": [
       "HBox(children=(FloatProgress(value=1.0, bar_style='info', max=1.0), HTML(value='')))"
      ]
     },
     "metadata": {},
     "output_type": "display_data"
    },
    {
     "name": "stdout",
     "output_type": "stream",
     "text": [
      "Dataset ted_talks_iwsl_t2 downloaded and prepared to /home/ubuntu/.cache/huggingface/datasets/ted_talks_iwsl_t2/hu/1.1.0/58fd780ff6b1002e2f1d80e20bdf82203b7a18c6319cded80868f59c2480d17a. Subsequent calls will reuse this data.\n",
      "Downloading and preparing dataset ted_talks_iwsl_t2/th (download: Unknown size, generated: Unknown size, post-processed: Unknown size, total: Unknown size) to /home/ubuntu/.cache/huggingface/datasets/ted_talks_iwsl_t2/th/1.1.0/58fd780ff6b1002e2f1d80e20bdf82203b7a18c6319cded80868f59c2480d17a...\n"
     ]
    },
    {
     "data": {
      "application/vnd.jupyter.widget-view+json": {
       "model_id": "",
       "version_major": 2,
       "version_minor": 0
      },
      "text/plain": [
       "HBox(children=(FloatProgress(value=1.0, bar_style='info', max=1.0), HTML(value='')))"
      ]
     },
     "metadata": {},
     "output_type": "display_data"
    },
    {
     "data": {
      "application/vnd.jupyter.widget-view+json": {
       "model_id": "",
       "version_major": 2,
       "version_minor": 0
      },
      "text/plain": [
       "HBox(children=(FloatProgress(value=1.0, bar_style='info', max=1.0), HTML(value='')))"
      ]
     },
     "metadata": {},
     "output_type": "display_data"
    },
    {
     "data": {
      "application/vnd.jupyter.widget-view+json": {
       "model_id": "",
       "version_major": 2,
       "version_minor": 0
      },
      "text/plain": [
       "HBox(children=(FloatProgress(value=1.0, bar_style='info', max=1.0), HTML(value='')))"
      ]
     },
     "metadata": {},
     "output_type": "display_data"
    },
    {
     "name": "stdout",
     "output_type": "stream",
     "text": [
      "Dataset ted_talks_iwsl_t2 downloaded and prepared to /home/ubuntu/.cache/huggingface/datasets/ted_talks_iwsl_t2/th/1.1.0/58fd780ff6b1002e2f1d80e20bdf82203b7a18c6319cded80868f59c2480d17a. Subsequent calls will reuse this data.\n",
      "Downloading and preparing dataset ted_talks_iwsl_t2/de (download: Unknown size, generated: Unknown size, post-processed: Unknown size, total: Unknown size) to /home/ubuntu/.cache/huggingface/datasets/ted_talks_iwsl_t2/de/1.1.0/58fd780ff6b1002e2f1d80e20bdf82203b7a18c6319cded80868f59c2480d17a...\n"
     ]
    },
    {
     "data": {
      "application/vnd.jupyter.widget-view+json": {
       "model_id": "",
       "version_major": 2,
       "version_minor": 0
      },
      "text/plain": [
       "HBox(children=(FloatProgress(value=1.0, bar_style='info', max=1.0), HTML(value='')))"
      ]
     },
     "metadata": {},
     "output_type": "display_data"
    },
    {
     "data": {
      "application/vnd.jupyter.widget-view+json": {
       "model_id": "",
       "version_major": 2,
       "version_minor": 0
      },
      "text/plain": [
       "HBox(children=(FloatProgress(value=1.0, bar_style='info', max=1.0), HTML(value='')))"
      ]
     },
     "metadata": {},
     "output_type": "display_data"
    },
    {
     "data": {
      "application/vnd.jupyter.widget-view+json": {
       "model_id": "",
       "version_major": 2,
       "version_minor": 0
      },
      "text/plain": [
       "HBox(children=(FloatProgress(value=1.0, bar_style='info', max=1.0), HTML(value='')))"
      ]
     },
     "metadata": {},
     "output_type": "display_data"
    },
    {
     "name": "stdout",
     "output_type": "stream",
     "text": [
      "Dataset ted_talks_iwsl_t2 downloaded and prepared to /home/ubuntu/.cache/huggingface/datasets/ted_talks_iwsl_t2/de/1.1.0/58fd780ff6b1002e2f1d80e20bdf82203b7a18c6319cded80868f59c2480d17a. Subsequent calls will reuse this data.\n"
     ]
    }
   ],
   "source": [
    "for lang in new_err:\n",
    "    try:\n",
    "        dataset = load_dataset('review/datasets/datasets/ted_talks_iwslt_2' , lang, data_dir= \"wit/XML_releases\")\n",
    "    except Exception as e:\n",
    "        print(e)\n",
    "        print(lang)"
   ]
  },
  {
   "cell_type": "code",
   "execution_count": 10,
   "metadata": {},
   "outputs": [
    {
     "name": "stdout",
     "output_type": "stream",
     "text": [
      "Downloading and preparing dataset ted_talks_iwsl_t2/hi (download: Unknown size, generated: Unknown size, post-processed: Unknown size, total: Unknown size) to /home/ubuntu/.cache/huggingface/datasets/ted_talks_iwsl_t2/hi/1.1.0/fb91b4baba9dcf181690694b163101ead2d61bcc2a0290e43f989e05256e2621...\n"
     ]
    },
    {
     "data": {
      "application/vnd.jupyter.widget-view+json": {
       "model_id": "",
       "version_major": 2,
       "version_minor": 0
      },
      "text/plain": [
       "HBox(children=(FloatProgress(value=1.0, bar_style='info', max=1.0), HTML(value='')))"
      ]
     },
     "metadata": {},
     "output_type": "display_data"
    },
    {
     "name": "stdout",
     "output_type": "stream",
     "text": [
      "/home/ubuntu/wit/XML_releases/xml-20140120/ted_hi-20140120.zip\n",
      "1852\n",
      "1849\n",
      "1812\n",
      "1802\n",
      "1798\n",
      "1797\n",
      "1784\n",
      "1763\n",
      "1737\n",
      "1728\n",
      "1678\n",
      "1666\n",
      "1633\n",
      "1626\n",
      "1622\n",
      "1553\n",
      "1614\n",
      "1600\n",
      "1593\n",
      "1592\n",
      "1514\n",
      "1500\n",
      "1470\n",
      "1451\n",
      "1405\n",
      "1395\n",
      "1382\n",
      "1381\n",
      "1376\n",
      "1371\n",
      "1353\n",
      "1349\n",
      "1329\n",
      "1327\n",
      "1326\n",
      "1301\n",
      "1286\n",
      "1265\n",
      "1262\n",
      "1248\n",
      "1241\n",
      "1230\n",
      "1220\n",
      "1219\n",
      "1217\n",
      "1210\n",
      "1207\n",
      "1206\n",
      "1204\n",
      "1201\n",
      "1200\n",
      "1199\n",
      "1196\n",
      "1195\n",
      "1194\n",
      "1192\n",
      "1187\n",
      "1185\n",
      "1183\n",
      "1182\n",
      "1180\n",
      "1179\n",
      "1178\n",
      "1176\n",
      "1167\n",
      "1164\n",
      "1161\n",
      "1158\n",
      "1154\n",
      "1150\n",
      "1145\n",
      "1143\n",
      "1135\n",
      "1134\n",
      "1132\n",
      "1130\n",
      "1129\n",
      "1126\n",
      "1125\n",
      "1119\n",
      "1109\n",
      "1106\n",
      "1101\n",
      "1096\n",
      "1090\n",
      "1086\n",
      "1085\n",
      "1075\n",
      "1069\n",
      "1068\n",
      "1061\n",
      "1050\n",
      "1048\n",
      "1045\n",
      "1044\n",
      "1042\n",
      "1034\n",
      "1032\n",
      "1031\n",
      "1017\n",
      "1006\n",
      "987\n",
      "977\n",
      "975\n",
      "949\n",
      "947\n",
      "946\n",
      "919\n",
      "901\n",
      "893\n",
      "887\n",
      "865\n",
      "851\n",
      "820\n",
      "815\n",
      "814\n",
      "811\n",
      "801\n",
      "780\n",
      "773\n",
      "755\n",
      "743\n",
      "736\n",
      "735\n",
      "719\n",
      "714\n",
      "709\n",
      "704\n",
      "702\n",
      "689\n",
      "686\n",
      "685\n",
      "657\n",
      "652\n",
      "644\n",
      "605\n",
      "588\n",
      "587\n",
      "575\n",
      "552\n",
      "551\n",
      "545\n",
      "531\n",
      "511\n",
      "494\n",
      "482\n",
      "481\n",
      "451\n",
      "404\n",
      "676\n",
      "674\n",
      "673\n",
      "383\n",
      "349\n",
      "347\n",
      "313\n",
      "287\n",
      "286\n",
      "285\n",
      "252\n",
      "276\n",
      "248\n",
      "243\n",
      "241\n",
      "235\n",
      "216\n",
      "159\n",
      "157\n",
      "156\n",
      "153\n",
      "140\n",
      "127\n",
      "129\n",
      "123\n",
      "99\n",
      "69\n",
      "10\n",
      "22\n",
      "4\n",
      "91\n",
      "39\n",
      "92\n",
      "1\n",
      "53\n"
     ]
    },
    {
     "data": {
      "application/vnd.jupyter.widget-view+json": {
       "model_id": "",
       "version_major": 2,
       "version_minor": 0
      },
      "text/plain": [
       "HBox(children=(FloatProgress(value=1.0, bar_style='info', max=1.0), HTML(value='')))"
      ]
     },
     "metadata": {},
     "output_type": "display_data"
    },
    {
     "name": "stdout",
     "output_type": "stream",
     "text": [
      "/home/ubuntu/wit/XML_releases/xml/ted_hi-20160408.zip\n",
      "2425\n",
      "2407\n",
      "2412\n",
      "2409\n",
      "2402\n",
      "2399\n",
      "2388\n",
      "2381\n",
      "2366\n",
      "2368\n",
      "2358\n",
      "2361\n",
      "2349\n",
      "2348\n",
      "2342\n",
      "2343\n",
      "2339\n",
      "2338\n",
      "2333\n",
      "2340\n",
      "2335\n",
      "2324\n",
      "2321\n",
      "2314\n",
      "2315\n",
      "2309\n",
      "2307\n",
      "2305\n",
      "2303\n",
      "2294\n",
      "2287\n",
      "2273\n",
      "2272\n",
      "2245\n",
      "2242\n",
      "2244\n",
      "2238\n",
      "2233\n",
      "2217\n",
      "2202\n",
      "2199\n",
      "2147\n",
      "2140\n",
      "2117\n",
      "2108\n",
      "2105\n",
      "2095\n",
      "2075\n",
      "2065\n",
      "2063\n",
      "2050\n",
      "2049\n",
      "2018\n",
      "1954\n",
      "1923\n",
      "1917\n",
      "1895\n",
      "1883\n",
      "1866\n",
      "1849\n",
      "1831\n",
      "1812\n",
      "1802\n",
      "1798\n",
      "1797\n",
      "1784\n",
      "1782\n",
      "1763\n",
      "1737\n",
      "1728\n",
      "1683\n",
      "1678\n",
      "1677\n",
      "1666\n",
      "1633\n",
      "1626\n",
      "1622\n",
      "1553\n",
      "1614\n",
      "1600\n",
      "1593\n",
      "1592\n",
      "1514\n",
      "1500\n",
      "1470\n",
      "1464\n",
      "1451\n",
      "1405\n",
      "1397\n",
      "1382\n",
      "1381\n",
      "1376\n",
      "1371\n",
      "1353\n",
      "1349\n",
      "1329\n",
      "1327\n",
      "1326\n",
      "1301\n",
      "1286\n",
      "1265\n",
      "1262\n",
      "1248\n",
      "1241\n",
      "1230\n",
      "1220\n",
      "1219\n",
      "1217\n",
      "1210\n",
      "1207\n",
      "1206\n",
      "1204\n",
      "1201\n",
      "1200\n",
      "1199\n",
      "1196\n",
      "1195\n",
      "1194\n",
      "1192\n",
      "1187\n",
      "1185\n",
      "1183\n",
      "1182\n",
      "1180\n",
      "1179\n",
      "1178\n",
      "1176\n",
      "1167\n",
      "1164\n",
      "1161\n",
      "1158\n",
      "1156\n",
      "1154\n",
      "1150\n",
      "1145\n",
      "1143\n",
      "1135\n",
      "1134\n",
      "1132\n",
      "1130\n",
      "1129\n",
      "1126\n",
      "1125\n",
      "1122\n",
      "1119\n",
      "1109\n",
      "1106\n",
      "1101\n",
      "1096\n",
      "1090\n",
      "1086\n",
      "1085\n",
      "1075\n",
      "1069\n",
      "1068\n",
      "1061\n",
      "1050\n",
      "1048\n",
      "1045\n",
      "1044\n",
      "1042\n",
      "1034\n",
      "1032\n",
      "1031\n",
      "1017\n",
      "1014\n",
      "1006\n",
      "995\n",
      "987\n",
      "977\n",
      "975\n",
      "949\n",
      "947\n",
      "946\n",
      "919\n",
      "901\n",
      "893\n",
      "887\n",
      "865\n",
      "851\n",
      "820\n",
      "815\n",
      "814\n",
      "811\n",
      "801\n",
      "785\n",
      "780\n",
      "773\n",
      "755\n",
      "743\n",
      "736\n",
      "735\n",
      "729\n",
      "719\n",
      "714\n",
      "709\n",
      "704\n",
      "702\n",
      "689\n",
      "686\n",
      "685\n",
      "657\n",
      "652\n",
      "644\n",
      "605\n",
      "588\n",
      "587\n",
      "575\n",
      "552\n",
      "551\n",
      "545\n",
      "531\n",
      "511\n",
      "494\n",
      "482\n",
      "481\n",
      "451\n",
      "407\n",
      "404\n",
      "676\n",
      "674\n",
      "673\n",
      "383\n",
      "349\n",
      "347\n",
      "313\n",
      "287\n",
      "286\n",
      "285\n",
      "252\n",
      "276\n",
      "248\n",
      "243\n",
      "241\n",
      "235\n",
      "216\n",
      "201\n",
      "159\n",
      "157\n",
      "156\n",
      "153\n",
      "140\n",
      "127\n",
      "129\n",
      "123\n",
      "99\n",
      "69\n",
      "10\n",
      "22\n",
      "4\n",
      "91\n",
      "39\n",
      "45\n",
      "46\n",
      "92\n",
      "1\n",
      "53\n"
     ]
    },
    {
     "data": {
      "application/vnd.jupyter.widget-view+json": {
       "model_id": "",
       "version_major": 2,
       "version_minor": 0
      },
      "text/plain": [
       "HBox(children=(FloatProgress(value=1.0, bar_style='info', max=1.0), HTML(value='')))"
      ]
     },
     "metadata": {},
     "output_type": "display_data"
    },
    {
     "name": "stdout",
     "output_type": "stream",
     "text": [
      "/home/ubuntu/wit/XML_releases/xml-20150616/ted_hi-20150530.zip\n",
      "2245\n",
      "2242\n",
      "2244\n",
      "2233\n",
      "2217\n",
      "2202\n",
      "2199\n",
      "2147\n",
      "2140\n",
      "2117\n",
      "2108\n",
      "2095\n",
      "2065\n",
      "2050\n",
      "2049\n",
      "2018\n",
      "1954\n",
      "1923\n",
      "1917\n",
      "1895\n",
      "1883\n",
      "1849\n",
      "1812\n",
      "1802\n",
      "1798\n",
      "1797\n",
      "1784\n",
      "1782\n",
      "1763\n",
      "1737\n",
      "1728\n",
      "1678\n",
      "1677\n",
      "1666\n",
      "1633\n",
      "1626\n",
      "1622\n",
      "1553\n",
      "1614\n",
      "1600\n",
      "1593\n",
      "1592\n",
      "1514\n",
      "1500\n",
      "1470\n",
      "1464\n",
      "1451\n",
      "1405\n",
      "1397\n",
      "1382\n",
      "1381\n",
      "1376\n",
      "1371\n",
      "1353\n",
      "1349\n",
      "1329\n",
      "1327\n",
      "1326\n",
      "1301\n",
      "1286\n",
      "1265\n",
      "1262\n",
      "1248\n",
      "1241\n",
      "1230\n",
      "1220\n",
      "1219\n",
      "1217\n",
      "1210\n",
      "1207\n",
      "1206\n",
      "1204\n",
      "1201\n",
      "1200\n",
      "1199\n",
      "1196\n",
      "1195\n",
      "1194\n",
      "1192\n",
      "1187\n",
      "1185\n",
      "1183\n",
      "1182\n",
      "1180\n",
      "1179\n",
      "1178\n",
      "1176\n",
      "1167\n",
      "1164\n",
      "1161\n",
      "1158\n",
      "1156\n",
      "1154\n",
      "1150\n",
      "1145\n",
      "1143\n",
      "1135\n",
      "1134\n",
      "1132\n",
      "1130\n",
      "1129\n",
      "1126\n",
      "1125\n",
      "1119\n",
      "1109\n",
      "1106\n",
      "1101\n",
      "1096\n",
      "1090\n",
      "1086\n",
      "1085\n",
      "1075\n",
      "1069\n",
      "1068\n",
      "1061\n",
      "1050\n",
      "1048\n",
      "1045\n",
      "1044\n",
      "1042\n",
      "1034\n",
      "1032\n",
      "1031\n",
      "1017\n",
      "1006\n",
      "995\n",
      "987\n",
      "977\n",
      "975\n",
      "949\n",
      "947\n",
      "946\n",
      "919\n",
      "901\n",
      "893\n",
      "887\n",
      "865\n",
      "851\n",
      "820\n",
      "815\n",
      "814\n",
      "811\n",
      "801\n",
      "785\n",
      "780\n",
      "773\n",
      "755\n",
      "743\n",
      "736\n",
      "735\n",
      "729\n",
      "719\n",
      "714\n",
      "709\n",
      "704\n",
      "702\n",
      "689\n",
      "686\n",
      "685\n",
      "657\n",
      "652\n",
      "644\n",
      "605\n",
      "588\n",
      "587\n",
      "575\n",
      "552\n",
      "551\n",
      "545\n",
      "531\n",
      "511\n",
      "494\n",
      "482\n",
      "481\n",
      "451\n",
      "404\n",
      "676\n",
      "674\n",
      "673\n",
      "383\n",
      "349\n",
      "347\n",
      "313\n",
      "287\n",
      "286\n",
      "285\n",
      "252\n",
      "276\n",
      "248\n",
      "243\n",
      "241\n",
      "235\n",
      "216\n",
      "159\n",
      "157\n",
      "156\n",
      "153\n",
      "140\n",
      "127\n",
      "129\n",
      "123\n",
      "99\n",
      "69\n",
      "10\n",
      "22\n",
      "4\n",
      "91\n",
      "39\n",
      "45\n",
      "46\n",
      "92\n",
      "1\n",
      "53\n",
      "Dataset ted_talks_iwsl_t2 downloaded and prepared to /home/ubuntu/.cache/huggingface/datasets/ted_talks_iwsl_t2/hi/1.1.0/fb91b4baba9dcf181690694b163101ead2d61bcc2a0290e43f989e05256e2621. Subsequent calls will reuse this data.\n"
     ]
    }
   ],
   "source": [
    "dataset = load_dataset('review/datasets/datasets/ted_talks_iwslt_2' , \"hi\", data_dir= \"wit/XML_releases\")"
   ]
  },
  {
   "cell_type": "code",
   "execution_count": 11,
   "metadata": {},
   "outputs": [
    {
     "data": {
      "text/plain": [
       "{'description': 'Jalan kya hai? Jalan kis cheez se badhti hai, aur hum andar hi andar jalan ko chaahte kyon hain? Koi bhi iska akelapaan, umar ya iska ajeeb sa maza nahi jaanch paaya hai. --  Sivaaye fiction mein. Yeh Parul Sehgal , kehti hai, Apne vakpatu andaaz mein woh literature ke pannon mein yeh dikhaati hai ki jalan aur gyaan ki khoj ek doosron se kuch zyaada alag nahi hain.',\n",
       " 'language': 'hi',\n",
       " 'talk_id': '1852',\n",
       " 'title': 'Parul Sehgal: Irsha ki ek gaatha',\n",
       " 'transcription': [{'seekvideo_id': '1617',\n",
       "   'text': 'Toh jab main 8 saal ki thi,'},\n",
       "  {'seekvideo_id': '3582', 'text': 'ek nayi ladki meri kaksha mein aayi,'},\n",
       "  {'seekvideo_id': '5740', 'text': 'aur woh bahut hi prabhavshaali thi'},\n",
       "  {'seekvideo_id': '8773', 'text': 'jaise har nayi ladki hamesha lagti hain'},\n",
       "  {'seekvideo_id': '11055', 'text': 'Uske bahut ghane, chamkeele baal the'},\n",
       "  {'seekvideo_id': '13733', 'text': 'aur ek pyaara sa pencil ka baksaa'},\n",
       "  {'seekvideo_id': '16773',\n",
       "   'text': 'use saarein rajyon ki rajdhaani pata thi'},\n",
       "  {'seekvideo_id': '20361', 'text': 'sabse bahut hi acchi vartanikar.'},\n",
       "  {'seekvideo_id': '22853',\n",
       "   'text': 'usss saal irsha ne mujhe puri tarah gher liya,'},\n",
       "  {'seekvideo_id': '27803', 'text': 'tabhi maine ek kutil yojna jamaayi'},\n",
       "  {'seekvideo_id': '31346',\n",
       "   'text': 'Toh ek din, main pathshaala ke baad thodi der tak ruki'},\n",
       "  {'seekvideo_id': '35579',\n",
       "   'text': 'kuch zyaada hi der, aur main ladkiyon ke shauchaalay mein ja chhupi'},\n",
       "  {'seekvideo_id': '39659',\n",
       "   'text': 'Jab mera raasta saaf hua, tab main nikli'},\n",
       "  {'seekvideo_id': '41994', 'text': 'chupke se kaksha mein gayi'},\n",
       "  {'seekvideo_id': '43733',\n",
       "   'text': 'aur apni shishak ki mez par se pariskha ke kramakon ki pusthak uthayi'},\n",
       "  {'seekvideo_id': '47590', 'text': 'aur maine woh karya kiya'},\n",
       "  {'seekvideo_id': '49926',\n",
       "   'text': 'maine apne pratiyogi ke anko ke saath hera pheri karne lag gayi'},\n",
       "  {'seekvideo_id': '52293',\n",
       "   'text': 'bas kuch vishayon ke ank kam karne lag gayi'},\n",
       "  {'seekvideo_id': '55123',\n",
       "   'text': 'sach bolein toh saarein ank kam kar diye'},\n",
       "  {'seekvideo_id': '58222',\n",
       "   'text': 'aur main kitaab daraaz mein waapis rakhne lagi'},\n",
       "  {'seekvideo_id': '61965',\n",
       "   'text': 'jab maine woh khatam kiya, toh mujhe gyaat hua ki meri kaksha ke baaki bacchon'},\n",
       "  {'seekvideo_id': '64999', 'text': 'ke ank bhi utne hi acche the'},\n",
       "  {'seekvideo_id': '68492', 'text': 'toh jaldbaazi mein'},\n",
       "  {'seekvideo_id': '70540',\n",
       "   'text': 'main har kisike ke anko ke saath hera pheri karne lag gayi'},\n",
       "  {'seekvideo_id': '72528', 'text': 'bina soche samjhe.'},\n",
       "  {'seekvideo_id': '74437', 'text': 'maine sabko kam se kam ank daal diye'},\n",
       "  {'seekvideo_id': '76951',\n",
       "   'text': 'aur khud ko sabse adhik - 100 ke aaspaas'},\n",
       "  {'seekvideo_id': '79752',\n",
       "   'text': 'kyunki jab main wahan thi hi, toh karna toh banta hi tha.'},\n",
       "  {'seekvideo_id': '82552',\n",
       "   'text': 'Aur mujhe aaj tak apni kartoot par hairaani hoti hai.'},\n",
       "  {'seekvideo_id': '88162',\n",
       "   'text': 'Mujhe samajh hi nahi aati ki yeh baat mere dimaagh mein aayi kahan se.'},\n",
       "  {'seekvideo_id': '90574',\n",
       "   'text': 'Pata nahi yeh karke mujhe itna accha kyun laga'},\n",
       "  {'seekvideo_id': '93903', 'text': 'bas mujhe bahut achha laga.'},\n",
       "  {'seekvideo_id': '95426',\n",
       "   'text': 'iss par bhi hairaani hain ki main kabhi pakdi nahi gayi'},\n",
       "  {'seekvideo_id': '98005',\n",
       "   'text': 'matlab woh kitna saral tha, saaf saaf chori dikhai padni chayiye thi'},\n",
       "  {'seekvideo_id': '99601', 'text': 'fir bhi main kabhi pakdi nahi gayi.'},\n",
       "  {'seekvideo_id': '100914',\n",
       "   'text': 'Lekin, mujhe sabse zyaada hairani is baat se hui,'},\n",
       "  {'seekvideo_id': '103435',\n",
       "   'text': 'ki mujhe woh baat itni choob kyun rahi thi'},\n",
       "  {'seekvideo_id': '104942',\n",
       "   'text': 'ki yeh chhoti si ladki, yeh nanhi si ladki,'},\n",
       "  {'seekvideo_id': '106886', 'text': 'itni acchi vartanikar kaise thi?'},\n",
       "  {'seekvideo_id': '108600', 'text': 'Jalan se mujhe hairaani hoti hai.'},\n",
       "  {'seekvideo_id': '110710',\n",
       "   'text': 'Woh itni ajeeb cheez hai, aur itni vyapak'},\n",
       "  {'seekvideo_id': '113634',\n",
       "   'text': 'Hum jaante hain ki bacchon ko jalan hoti hai'},\n",
       "  {'seekvideo_id': '116100',\n",
       "   'text': 'Hum jaante hain ki jaanwaron ko jalan hoti hai. Khaas kar neele pakshiyon ko.'},\n",
       "  {'seekvideo_id': '119750',\n",
       "   'text': 'Hum jaante hain ki jalan sabse badi wajah hain jiski wajah se'},\n",
       "  {'seekvideo_id': '123270',\n",
       "   'text': 'America mein pati ya patni ka khoon hota hai.'},\n",
       "  {'seekvideo_id': '126186', 'text': 'और अभी तक, मैं कभी पढ़ा है एक अध्ययन'},\n",
       "  {'seekvideo_id': '129290',\n",
       "   'text': 'कि मेरे पास उसके अकेलेपन को पार्स कर सकते हैं'},\n",
       "  {'seekvideo_id': '132205', 'text': 'या इसकी दीर्घायु या इसकी गंभीर रोमांच।'},\n",
       "  {'seekvideo_id': '137059', 'text': 'उस के लिए, हम कथा को जाना है,'},\n",
       "  {'seekvideo_id': '139906', 'text': 'क्योंकि उपन्यास प्रयोगशाला है'},\n",
       "  {'seekvideo_id': '142246', 'text': 'कि ईर्ष्या का अध्ययन किया गया'},\n",
       "  {'seekvideo_id': '143820', 'text': 'हर संभव विन्यास में।'},\n",
       "  {'seekvideo_id': '145894',\n",
       "   'text': 'वास्तव में, मैं नहीं जानता अगर यह एक अतिशयोक्ति कहना है'},\n",
       "  {'seekvideo_id': '149218', 'text': 'कि अगर हम ईर्ष्या, नहीं था'},\n",
       "  {'seekvideo_id': '151250', 'text': 'हम भी साहित्य होता है?'},\n",
       "  {'seekvideo_id': '153800', 'text': 'खैर कोई बेवफ़ा हेलेन, कोई \"ओडिसी.\"'},\n",
       "  {'seekvideo_id': '157390',\n",
       "   'text': 'कोई ईर्ष्या राजा, कोई \"अरेबियन नाइट्स.\"'},\n",
       "  {'seekvideo_id': '160228', 'text': 'कोई शेक्सपियर।'},\n",
       "  {'seekvideo_id': '163365',\n",
       "   'text': 'वहाँ उच्च विद्यालय सूचियाँ पढ़ना हो जाता है,'},\n",
       "  {'seekvideo_id': '165555', 'text': 'क्योंकि हम \"ध्वनि और रोष,\" खो रहे हैं'},\n",
       "  {'seekvideo_id': '167367',\n",
       "   'text': 'हम \"Gatsby,\" \"सूरज भी उगता है,\" खो रहे हैं'},\n",
       "  {'seekvideo_id': '169616',\n",
       "   'text': 'हम \"मेडम Bovary,\" \"अन्ना k.\" खो रहे हैं'},\n",
       "  {'seekvideo_id': '173743',\n",
       "   'text': 'कोई ईर्ष्या नहीं, कोई Proust. और अब, मेरा मतलब है,'},\n",
       "  {'seekvideo_id': '176150',\n",
       "   'text': 'मुझे पता है यह कहने के लिए फैशनेबल है उस Proust'},\n",
       "  {'seekvideo_id': '177911', 'text': 'सब कुछ के जवाब है,'},\n",
       "  {'seekvideo_id': '179518', 'text': 'लेकिन मामले में ईर्ष्या,'},\n",
       "  {'seekvideo_id': '182224', 'text': 'वह की तरह करता है।'},\n",
       "  {'seekvideo_id': '184965',\n",
       "   'text': \"इस साल उसकी कृति, 'खोज के में समय, खो दिया' के सौ साल है\"},\n",
       "  {'seekvideo_id': '188951',\n",
       "   'text': 'और यह यौन ईर्ष्या की सबसे विस्तृत अध्ययन है'},\n",
       "  {'seekvideo_id': '192952',\n",
       "   'text': 'और सिर्फ नियमित रूप से प्रतिस्पर्धा, अपने ब्रांड,'},\n",
       "  {'seekvideo_id': '195104', 'text': 'हम उम्मीद कर सकते हैं कि। (हँसी)'},\n",
       "  {'seekvideo_id': '197689',\n",
       "   'text': 'और हम Proust के बारे में सोचते हैं, हमें लगता है कि'},\n",
       "  {'seekvideo_id': '200116', 'text': 'भावुक बिट्स के बारे में, है ना?'},\n",
       "  {'seekvideo_id': '201610',\n",
       "   'text': 'हम एक छोटा लड़का सोने के लिए प्राप्त करने की कोशिश कर रहा है के बारे में सोचो।'},\n",
       "  {'seekvideo_id': '203565',\n",
       "   'text': 'हम एक लैवेंडर चाय में सिक्त madeleine के बारे में सोचो।'},\n",
       "  {'seekvideo_id': '207746',\n",
       "   'text': 'हम भूल जाते हैं उनके सपने कैसे कठोर था।'},\n",
       "  {'seekvideo_id': '209772', 'text': 'हम भूल जाते हैं वह कैसे निर्दयी है।'},\n",
       "  {'seekvideo_id': '211612',\n",
       "   'text': 'मेरा मतलब है, इन वर्जीनिया Woolf ने कहा है कि पुस्तकें हैं'},\n",
       "  {'seekvideo_id': '213933', 'text': 'बिल्ली के पेट के रूप में सख्त थे।'},\n",
       "  {'seekvideo_id': '216269',\n",
       "   'text': 'मैं नहीं जानता कि क्या बिल्ली के पेट है,'},\n",
       "  {'seekvideo_id': '218317', 'text': 'लेकिन चलो मान यह दुर्जेय है।'},\n",
       "  {'seekvideo_id': '221218',\n",
       "   'text': 'आइए देखें क्यों वे इतनी अच्छी तरह से एक साथ पर जाओ,'},\n",
       "  {'seekvideo_id': '224436', 'text': 'उपन्यास और ईर्ष्या, ईर्ष्या और Proust.'},\n",
       "  {'seekvideo_id': '228114',\n",
       "   'text': 'यह कुछ है कि ईर्ष्या के रूप में स्पष्ट रूप में है,'},\n",
       "  {'seekvideo_id': '231345',\n",
       "   'text': 'जो नीचे फोड़े में व्यक्ति, इच्छा, बाधा,'},\n",
       "  {'seekvideo_id': '234728', 'text': 'इस तरह एक ठोस कथा नींव है?'},\n",
       "  {'seekvideo_id': '239396',\n",
       "   'text': 'मुझे नहीं पता. मुझे लगता है कि यह बहुत करीब हड्डी में कटौती,'},\n",
       "  {'seekvideo_id': '242071',\n",
       "   'text': 'क्योंकि चलो के बारे में क्या होता है लगता है'},\n",
       "  {'seekvideo_id': '244120', 'text': 'जब हम ईर्ष्या हो रही है लगता है।'},\n",
       "  {'seekvideo_id': '245898',\n",
       "   'text': 'जब हम ईर्ष्या हो रही है लगता है, हम खुद को एक कहानी बताओ।'},\n",
       "  {'seekvideo_id': '249850',\n",
       "   'text': 'हम अपने आप को अन्य लोगों के जीवन के बारे में एक कहानी बताओ,'},\n",
       "  {'seekvideo_id': '254133', 'text': 'और ये कहानियाँ हमारे भयानक महसूस करना'},\n",
       "  {'seekvideo_id': '256807',\n",
       "   'text': 'क्योंकि वे हमें भयानक महसूस करने के लिए डिज़ाइन कर रहे हैं।'},\n",
       "  {'seekvideo_id': '259030', 'text': 'कथा और दर्शकों के टेलर के रूप में,'},\n",
       "  {'seekvideo_id': '261564',\n",
       "   'text': 'हम जानते हैं कि बस क्या शामिल करने के लिए विवरण,'},\n",
       "  {'seekvideo_id': '263538', 'text': 'उस चाकू में खुदाई करने के लिए। है ना?'},\n",
       "  {'seekvideo_id': '267107',\n",
       "   'text': 'ईर्ष्या बनाता है हमारे सभी शौकिया उपन्यासकार,'},\n",
       "  {'seekvideo_id': '270462', 'text': 'और यह कुछ Proust समझा जाता है।'},\n",
       "  {'seekvideo_id': '272478', 'text': 'पहला खंड में, स्वान की तरह,'},\n",
       "  {'seekvideo_id': '275651', 'text': 'पुस्तकों की श्रृंखला,'},\n",
       "  {'seekvideo_id': '277475', 'text': 'स्वान, मुख्य पात्रों में से एक,'},\n",
       "  {'seekvideo_id': '279181',\n",
       "   'text': 'बहुत ही प्यार से उसकी मालकिन की सोच रही है'},\n",
       "  {'seekvideo_id': '282409', 'text': 'और कैसे महान वह बिस्तर में है,'},\n",
       "  {'seekvideo_id': '284101', 'text': 'और अचानक, कुछ वाक्यों, पाठ्यक्रम में'},\n",
       "  {'seekvideo_id': '287143', 'text': 'और ये Proustian वाक्य हैं,'},\n",
       "  {'seekvideo_id': '289184',\n",
       "   'text': 'तो वे नदियों के रूप में लंबे समय कर रहे हैं,'},\n",
       "  {'seekvideo_id': '290696', 'text': 'लेकिन कुछ वाक्यों, पाठ्यक्रम में'},\n",
       "  {'seekvideo_id': '292959', 'text': 'वह अचानक recoils और वह यह जानता है,'},\n",
       "  {'seekvideo_id': '295366',\n",
       "   'text': '\"रुको, मैं इस औरत के बारे में सब कुछ प्यार करता हूँ,'},\n",
       "  {'seekvideo_id': '298649', 'text': 'कोई और इस औरत के बारे में प्यार होता।'},\n",
       "  {'seekvideo_id': '302420',\n",
       "   'text': 'सब कुछ है कि वह करता है कि मुझे खुशी देता है'},\n",
       "  {'seekvideo_id': '305511', 'text': 'किसी को दे रही हो सकता है और खुशी,'},\n",
       "  {'seekvideo_id': '307220', 'text': 'शायद अभी के बारे में.\"'},\n",
       "  {'seekvideo_id': '309498',\n",
       "   'text': 'और इस कहानी वह खुद को बताने के लिए शुरू होता है,'},\n",
       "  {'seekvideo_id': '312282', 'text': 'और उसके बाद पर से, Proust लिखता है कि'},\n",
       "  {'seekvideo_id': '314145',\n",
       "   'text': 'हर ताजा आकर्षण स्वान में अपनी मालकिन का पता लगाता है,'},\n",
       "  {'seekvideo_id': '317192', 'text': 'वह उसकी \"का संग्रह साधनों को जोड़ता है'},\n",
       "  {'seekvideo_id': '319856', 'text': 'उसकी निजी यातना चैंबर में.\"'},\n",
       "  {'seekvideo_id': '323478', 'text': 'अब स्वान और Proust, हम मानते हैं,'},\n",
       "  {'seekvideo_id': '325753', 'text': 'बेहद ईर्ष्या थे।'},\n",
       "  {'seekvideo_id': '327429',\n",
       "   'text': 'तुम्हें पता है, Proust के प्रेमी छोड़ दिया होता'},\n",
       "  {'seekvideo_id': '329133',\n",
       "   'text': 'देश अगर वे उसके साथ तोड़ करना चाहता था।'},\n",
       "  {'seekvideo_id': '331737', 'text': 'लेकिन तुम हो कि ईर्ष्या नहीं है'},\n",
       "  {'seekvideo_id': '334640',\n",
       "   'text': 'स्वीकार है कि यह कठिन काम करने के लिए। है ना?'},\n",
       "  {'seekvideo_id': '337551', 'text': 'ईर्ष्या थकाऊ है।'},\n",
       "  {'seekvideo_id': '339160',\n",
       "   'text': 'यह एक भूखे भावना है। यह खिलाया जाना चाहिए।'},\n",
       "  {'seekvideo_id': '342807', 'text': 'और क्या की तरह ईर्ष्या करता है?'},\n",
       "  {'seekvideo_id': '344896', 'text': 'ईर्ष्या जानकारी पसंद करता है।'},\n",
       "  {'seekvideo_id': '347986', 'text': 'ईर्ष्या विवरण पसंद करता है।'},\n",
       "  {'seekvideo_id': '350375',\n",
       "   'text': 'ईर्ष्या चमकदार बालों की विशाल मात्रा पसंद करता है,'},\n",
       "  {'seekvideo_id': '353198', 'text': 'प्यारा सा पेंसिल मामला।'},\n",
       "  {'seekvideo_id': '355664', 'text': 'ईर्ष्या तस्वीरें पसंद करता है।'},\n",
       "  {'seekvideo_id': '357206',\n",
       "   'text': 'यही कारण है कि Instagram ऐसी एक हिट है। (हँसी)'},\n",
       "  {'seekvideo_id': '360936',\n",
       "   'text': 'Proust छात्रवृत्ति और ईर्ष्या की भाषा वास्तव में लिंक करता है।'},\n",
       "  {'seekvideo_id': '364897', 'text': 'जब स्वान उनकी ईर्ष्या throes में है,'},\n",
       "  {'seekvideo_id': '367339', 'text': 'और अचानक वह दरवाजे पर सुन रहा है'},\n",
       "  {'seekvideo_id': '369510', 'text': 'और उसकी मालकिन नौकर घूस देने के लिए,'},\n",
       "  {'seekvideo_id': '371533', 'text': 'वह इन व्यवहार का बचाव।'},\n",
       "  {'seekvideo_id': '372985',\n",
       "   'text': 'वह कहते हैं, \"तुम देखो, मुझे पता है कि आपको लगता है कि यह प्रतिकूल, है पता है,'},\n",
       "  {'seekvideo_id': '375402', 'text': 'लेकिन यह अलग नहीं है'},\n",
       "  {'seekvideo_id': '377208', 'text': 'एक प्राचीन पाठ की व्याख्या से'},\n",
       "  {'seekvideo_id': '379558', 'text': 'या पर एक स्मारक की तलाश.\"'},\n",
       "  {'seekvideo_id': '381225',\n",
       "   'text': 'वह कहते हैं, \"वे वैज्ञानिक जांच कर रहे हैं'},\n",
       "  {'seekvideo_id': '383822', 'text': 'असली बौद्धिक मूल्य के साथ.\"'},\n",
       "  {'seekvideo_id': '386825',\n",
       "   'text': 'Proust हमें दिखाने के लिए कि ईर्ष्या करने के लिए कोशिश कर रहा है'},\n",
       "  {'seekvideo_id': '388937',\n",
       "   'text': 'असहनीय महसूस करता है और हमें बेतुका लग रहे बनाता है,'},\n",
       "  {'seekvideo_id': '391828',\n",
       "   'text': 'लेकिन यह है, इसकी जड़ में, ज्ञान के लिए एक खोज,'},\n",
       "  {'seekvideo_id': '396498', 'text': 'सत्य, दर्दनाक सच के लिए एक खोज,'},\n",
       "  {'seekvideo_id': '399899',\n",
       "   'text': 'और वास्तव में, जहां Proust का संबंध है,'},\n",
       "  {'seekvideo_id': '401828', 'text': 'और अधिक दर्दनाक सच, बेहतर।'},\n",
       "  {'seekvideo_id': '404620', 'text': 'दु: ख, अपमान, नुकसान:'},\n",
       "  {'seekvideo_id': '409357',\n",
       "   'text': 'ये रास्ते Proust के लिए ज्ञान के लिए थे।'},\n",
       "  {'seekvideo_id': '412313',\n",
       "   'text': \"वह कहते हैं, जिसे हम की जरूरत है, एक औरत'\"},\n",
       "  {'seekvideo_id': '416215', 'text': 'जो हमें भुगतना बनाता है, हम से elicits'},\n",
       "  {'seekvideo_id': '419001',\n",
       "   'text': 'कहीं ज्यादा गहरा और महत्वपूर्ण भावनाओं के सरगम'},\n",
       "  {'seekvideo_id': '422506',\n",
       "   'text': 'जो हमारे हितों की एक आदमी प्रतिभा की तुलना.\"'},\n",
       "  {'seekvideo_id': '426945',\n",
       "   'text': 'वह बस जाओ और क्रूर महिलाओं मिल करने के लिए हमें बता रहा है?'},\n",
       "  {'seekvideo_id': '429820',\n",
       "   'text': 'मुझे लगता है वह कहने की कोशिश कर रहा है सं.'},\n",
       "  {'seekvideo_id': '432117', 'text': 'कि ईर्ष्या हमें खुद को पता चलता है।'},\n",
       "  {'seekvideo_id': '435286',\n",
       "   'text': 'और किसी भी अन्य भावना हमें दरार करता है खोलें'},\n",
       "  {'seekvideo_id': '438182', 'text': 'इस विशेष तरीका में?'},\n",
       "  {'seekvideo_id': '440510',\n",
       "   'text': 'किसी भी अन्य भावना हमें को प्रकट करता है'},\n",
       "  {'seekvideo_id': '442590',\n",
       "   'text': 'हमारी आक्रामकता और हमारी घिनौना महत्वाकांक्षा'},\n",
       "  {'seekvideo_id': '445923', 'text': 'और हमारे एंटाइटेलमेंट?'},\n",
       "  {'seekvideo_id': '448322',\n",
       "   'text': 'किसी भी अन्य भावना देखने के लिए हमें सिखाना है'},\n",
       "  {'seekvideo_id': '450972', 'text': 'ऐसे अजीबोगरीब तीव्रता के साथ?'},\n",
       "  {'seekvideo_id': '454164',\n",
       "   'text': 'फ्रायड ने इस बारे में बाद में लिखना होगा।'},\n",
       "  {'seekvideo_id': '456316', 'text': 'एक दिन, फ्रायड का दौरा किया था'},\n",
       "  {'seekvideo_id': '458570',\n",
       "   'text': 'इस बहुत ही चिन्तित युवक ने जो भस्म हो गया था'},\n",
       "  {'seekvideo_id': '460892',\n",
       "   'text': 'अपनी पत्नी पर उसे धोखा दे के सोचा के साथ।'},\n",
       "  {'seekvideo_id': '463395',\n",
       "   'text': 'और फ्रायड कहते हैं, यह कुछ है इस आदमी के बारे में अजीब बात है,'},\n",
       "  {'seekvideo_id': '465472',\n",
       "   'text': 'क्योंकि वह देख नहीं है क्या उसकी पत्नी पर क्या कर रहा है।'},\n",
       "  {'seekvideo_id': '467586',\n",
       "   'text': 'क्योंकि वह निर्दोष है; हर कोई यह जानता है।'},\n",
       "  {'seekvideo_id': '469557', 'text': 'बस गरीब प्राणी है'},\n",
       "  {'seekvideo_id': '470887', 'text': 'कोई कारण नहीं है के लिए शक के दायरे।'},\n",
       "  {'seekvideo_id': '472885',\n",
       "   'text': 'लेकिन वह चीज़ें है कि उसकी पत्नी क्या कर रहा है के लिए लग रही है'},\n",
       "  {'seekvideo_id': '475694', 'text': 'देख, unintentional behaviors के बिना।'},\n",
       "  {'seekvideo_id': '478194', 'text': 'वह भी चमकते हुए यहाँ मुस्कुराते है,'},\n",
       "  {'seekvideo_id': '480511',\n",
       "   'text': 'या वह गलती से एक आदमी के खिलाफ वहाँ ब्रश किया था?'},\n",
       "  {'seekvideo_id': '483851',\n",
       "   'text': '[फ्रायड] का कहना है कि आदमी बनता जा रहा है'},\n",
       "  {'seekvideo_id': '486527', 'text': 'उसकी पत्नी के अभिरक्षक बेहोश है।'},\n",
       "  {'seekvideo_id': '490875', 'text': 'इस बिंदु पर बहुत अच्छा उपन्यास है।'},\n",
       "  {'seekvideo_id': '492696',\n",
       "   'text': 'उपन्यास का वर्णन करने में बहुत अच्छा है कैसे ईर्ष्या'},\n",
       "  {'seekvideo_id': '495504',\n",
       "   'text': 'तीव्रता लेकिन नहीं सटीकता के साथ देखने के लिए हमें गाड़ियों।'},\n",
       "  {'seekvideo_id': '499488',\n",
       "   'text': 'वास्तव में, अधिक तीव्रता से ईर्ष्या हम हैं,'},\n",
       "  {'seekvideo_id': '503563', 'text': 'अधिक हम कल्पना के निवासियों के बन गया।'},\n",
       "  {'seekvideo_id': '506082',\n",
       "   'text': 'और यही कारण है, ईर्ष्या नहीं है मुझे लगता है कि'},\n",
       "  {'seekvideo_id': '509002',\n",
       "   'text': 'बस हमें हिंसक चीजें करने के लिए उत्तेजित'},\n",
       "  {'seekvideo_id': '511818', 'text': 'या अवैध बातें।'},\n",
       "  {'seekvideo_id': '513818',\n",
       "   'text': 'ईर्ष्या हमें तरीके से व्यवहार करने के लिए संकेत देता'},\n",
       "  {'seekvideo_id': '516100', 'text': 'कि बेतहाशा आविष्कारशील रहे हैं।'},\n",
       "  {'seekvideo_id': '518458',\n",
       "   'text': 'अब मैं खुद के आठ पर, मैं स्वीकार करना सोच रहा हूँ,'},\n",
       "  {'seekvideo_id': '520901',\n",
       "   'text': 'लेकिन मैं भी इस कहानी मैं खबर पर सुना के बारे में सोच रहा हूँ।'},\n",
       "  {'seekvideo_id': '524920', 'text': 'एक 52 वर्षीय मिशिगन औरत पकड़ा था'},\n",
       "  {'seekvideo_id': '528828', 'text': 'एक फर्जी Facebook खाता बनाना'},\n",
       "  {'seekvideo_id': '531697', 'text': 'जिसमें से वह नीच, घृणित संदेश भेजा'},\n",
       "  {'seekvideo_id': '535420', 'text': 'खुद को एक साल के लिए।'},\n",
       "  {'seekvideo_id': '539645', 'text': 'एक वर्ष के लिए। एक वर्ष।'},\n",
       "  {'seekvideo_id': '541770',\n",
       "   'text': 'और वह कोशिश कर रहा था फ्रेम करने के लिए'},\n",
       "  {'seekvideo_id': '543645', 'text': 'उसके पूर्व प्रेमी की नई प्रेमिका,'},\n",
       "  {'seekvideo_id': '545802', 'text': 'और मैं जब मैंने सुना है यह कबूल किया,'},\n",
       "  {'seekvideo_id': '549443',\n",
       "   'text': 'मैं सिर्फ प्रशंसा के साथ प्रतिक्रिया व्यक्त की।'},\n",
       "  {'seekvideo_id': '551355', 'text': '(हँसी)'},\n",
       "  {'seekvideo_id': '552932', 'text': 'क्योंकि, मेरा मतलब है, चलो असली है।'},\n",
       "  {'seekvideo_id': '555347', 'text': 'क्या भारी, अगर गलत, रचनात्मकता। है ना?'},\n",
       "  {'seekvideo_id': '559664', 'text': 'इस कुछ से एक उपन्यास है।'},\n",
       "  {'seekvideo_id': '562084',\n",
       "   'text': 'यह एक पेट्रीसिया Highsmith उपन्यास से कुछ है।'},\n",
       "  {'seekvideo_id': '565485', 'text': 'अब मेरी एक विशेष पसंदीदा Highsmith है।'},\n",
       "  {'seekvideo_id': '567655',\n",
       "   'text': 'वह अमेरिकी पत्रों का बहुत ही शानदार और विचित्र औरत है।'},\n",
       "  {'seekvideo_id': '571707',\n",
       "   'text': 'वह एक ट्रेन पर अजनबियों के\"\" के लेखक है'},\n",
       "  {'seekvideo_id': '573900', 'text': 'और \"प्रतिभावान श्री Ripley\"'},\n",
       "  {'seekvideo_id': '575948',\n",
       "   'text': 'कैसे के बारे में सभी कर रहे हैं किताबें ईर्ष्या,'},\n",
       "  {'seekvideo_id': '579013', 'text': 'यह हमारे मन muddles,'},\n",
       "  {'seekvideo_id': '580888',\n",
       "   'text': 'और एक बार हम ईर्ष्या के उस दायरे में, क्षेत्र में हो,'},\n",
       "  {'seekvideo_id': '583882',\n",
       "   'text': 'क्या है और क्या हो सकता है के बीच झिल्ली'},\n",
       "  {'seekvideo_id': '589145', 'text': 'एक ही पल में बेधा जा सकते हैं।'},\n",
       "  {'seekvideo_id': '592038',\n",
       "   'text': 'टॉम Ripley, उसके सबसे प्रसिद्ध चरित्र ले।'},\n",
       "  {'seekvideo_id': '594486', 'text': 'अब, टॉम Ripley आप चाहते से चला जाता है'},\n",
       "  {'seekvideo_id': '597325', 'text': 'या तुम क्या है चाहने'},\n",
       "  {'seekvideo_id': '599501',\n",
       "   'text': 'तुम जा रहा है और क्या तुम एक बार गया था होने के लिए,'},\n",
       "  {'seekvideo_id': '602929', 'text': 'और तुम floorboards के तहत कर रहे हैं,'},\n",
       "  {'seekvideo_id': '604462', 'text': 'वह करने के लिए अपने नाम का जवाब है,'},\n",
       "  {'seekvideo_id': '605825', 'text': 'वह अपने छल्ले पहने हुए है,'},\n",
       "  {'seekvideo_id': '607517', 'text': 'आपका बैंक खाता खाली करना।'},\n",
       "  {'seekvideo_id': '609518', 'text': 'कि एक ही रास्ता तय करना है।'},\n",
       "  {'seekvideo_id': '611493',\n",
       "   'text': 'लेकिन हम क्या करें? हम टॉम Ripley मार्ग जाना नहीं कर सकते।'},\n",
       "  {'seekvideo_id': '615157', 'text': 'मैं डी एस दुनिया दे नहीं सकता,'},\n",
       "  {'seekvideo_id': '617194',\n",
       "   'text': 'के रूप में ज्यादा के रूप में मैं सच में करने के लिए, कुछ दिन चाहते हैं।'},\n",
       "  {'seekvideo_id': '620041',\n",
       "   'text': 'और यह दुख की बात है, है क्योंकि हम जलते समय में रहते हैं।'},\n",
       "  {'seekvideo_id': '623539', 'text': 'हम ईर्ष्या समय में रहते हैं।'},\n",
       "  {'seekvideo_id': '626446',\n",
       "   'text': 'मेरा मतलब है, हम सामाजिक मीडिया के सभी अच्छे नागरिकों रहे हैं,'},\n",
       "  {'seekvideo_id': '628459', 'text': 'हम, नहीं हैं जहां मुद्रा ईर्ष्या है?'},\n",
       "  {'seekvideo_id': '631843',\n",
       "   'text': 'उपन्यास हमें बाहर का रास्ता दिखा करता है? मुझे यकीन नहीं कर रहा हूँ।'},\n",
       "  {'seekvideo_id': '636312',\n",
       "   'text': 'तो चलो करते हैं जब वे निश्चित नहीं हैं क्या अक्षर हमेशा करते हैं,'},\n",
       "  {'seekvideo_id': '639753', 'text': 'जब वे एक रहस्य के कब्जे में हैं।'},\n",
       "  {'seekvideo_id': '641929', 'text': 'चलो 221B बेकर स्ट्रीट के लिए जाओ'},\n",
       "  {'seekvideo_id': '644203', 'text': 'और शर्लक होम्स के लिए पूछना।'},\n",
       "  {'seekvideo_id': '646221', 'text': 'जब होम्स के लोगों को लगता है कि,'},\n",
       "  {'seekvideo_id': '648690',\n",
       "   'text': 'वे उसकी दासता के प्रोफेसर Moriarty जा रहा लगता है,'},\n",
       "  {'seekvideo_id': '651799', 'text': 'ठीक है, यह आपराधिक मास्टरमाइंड।'},\n",
       "  {'seekvideo_id': '654006',\n",
       "   'text': 'लेकिन मैं हमेशा [निरीक्षक] Lestrade पसंदीदा है,'},\n",
       "  {'seekvideo_id': '656469',\n",
       "   'text': 'स्कॉटलैंड यार्ड के चूहे का सामना करना पड़ सिर कौन है'},\n",
       "  {'seekvideo_id': '659374', 'text': 'जो होम्स की सख्त जरूरत,'},\n",
       "  {'seekvideo_id': '661104',\n",
       "   'text': 'होम्स प्रतिभा की जरूरत है, लेकिन उसे resents.'},\n",
       "  {'seekvideo_id': '663408', 'text': 'ओह, यह तो मेरे लिए परिचित है।'},\n",
       "  {'seekvideo_id': '665265',\n",
       "   'text': 'इसलिए Lestrade उसकी मदद की जरूरत है, उसे resents,'},\n",
       "  {'seekvideo_id': '669282',\n",
       "   'text': 'और रहस्यों के पाठ्यक्रम से अधिक कड़वाहट के साथ seethes की तरह।'},\n",
       "  {'seekvideo_id': '672593',\n",
       "   'text': 'लेकिन वे एक साथ काम करते हैं, कुछ बदलने के लिए शुरू होता है,'},\n",
       "  {'seekvideo_id': '676470', 'text': 'और आखिर में \"साहसिक के छह Napoleons\"'},\n",
       "  {'seekvideo_id': '679513',\n",
       "   'text': 'एक बार जब होम्स में आता है, उसका समाधान के साथ हर कोई प्रभावित करता है,'},\n",
       "  {'seekvideo_id': '683443',\n",
       "   'text': 'Lestrade करने के लिए होम्स चला है और वह कहते हैं,'},\n",
       "  {'seekvideo_id': '686884', 'text': '\"हम आप के, श्री होम्स ईर्ष्या नहीं हो।'},\n",
       "  {'seekvideo_id': '691165', 'text': 'हम तुम पर गर्व हो.\"'},\n",
       "  {'seekvideo_id': '694524',\n",
       "   'text': 'और वह कहते हैं, वहाँ नहीं है कि एक आदमी पर स्कॉटलैंड यार्ड'},\n",
       "  {'seekvideo_id': '696853', 'text': 'जो शर्लक होम्स हाथ हिला नहीं चाहेगा।'},\n",
       "  {'seekvideo_id': '699852',\n",
       "   'text': 'यह कुछ समय हम होम्स चला गया देखने में से एक है'},\n",
       "  {'seekvideo_id': '702237',\n",
       "   'text': 'में रहस्य, और मुझे पता यह बहुत चल रहा है,'},\n",
       "  {'seekvideo_id': '704332',\n",
       "   'text': 'इस छोटे दृश्य, है लेकिन यह भी रहस्यमय है, है ना?'},\n",
       "  {'seekvideo_id': '707396', 'text': 'यह ईर्ष्या का इलाज करने के लिए लगता है'},\n",
       "  {'seekvideo_id': '709309',\n",
       "   'text': 'ज्यामिति, नहीं भावना के एक समस्या के रूप में।'},\n",
       "  {'seekvideo_id': '712047',\n",
       "   'text': 'तुम्हें पता है, एक मिनट Lestrade से दूसरी तरफ होम्स है।'},\n",
       "  {'seekvideo_id': '714913',\n",
       "   'text': 'अगले ही मिनट वे एक ही पक्ष पर कर रहे हैं।'},\n",
       "  {'seekvideo_id': '716836', 'text': 'अचानक, Lestrade खुद को दे रहा है'},\n",
       "  {'seekvideo_id': '718983',\n",
       "   'text': 'यह मन है कि वह resented है प्रशंसा करता हूँ।'},\n",
       "  {'seekvideo_id': '721950', 'text': 'हालांकि यह इतना सरल हो सकता है?'},\n",
       "  {'seekvideo_id': '723879',\n",
       "   'text': 'क्या होगा यदि ईर्ष्या वास्तव में ज्यामिति की बात है,'},\n",
       "  {'seekvideo_id': '726310',\n",
       "   'text': 'जहां हम खुद को खड़ा करने के लिए अनुमति देने का सिर्फ एक मामला'},\n",
       "  {'seekvideo_id': '730020', 'text': 'दूसरे के संबंध में?'},\n",
       "  {'seekvideo_id': '732350',\n",
       "   'text': 'ठीक है, शायद तब हम क्रोध करना है नहीं होता'},\n",
       "  {'seekvideo_id': '734221', 'text': 'किसी की उत्कृष्टता।'},\n",
       "  {'seekvideo_id': '736282', 'text': 'हम खुद के साथ यह संरेखित करना सकता है।'},\n",
       "  {'seekvideo_id': '739656', 'text': 'लेकिन मैं आकस्मिक योजना की तरह।'},\n",
       "  {'seekvideo_id': '741912',\n",
       "   'text': 'तो हम उस के लिए होने के लिए प्रतीक्षा करते समय'},\n",
       "  {'seekvideo_id': '744248', 'text': 'हमें याद है कि हम सांत्वना के लिए कथा।'},\n",
       "  {'seekvideo_id': '746944', 'text': 'कथा अकेले ईर्ष्या demystifies.'},\n",
       "  {'seekvideo_id': '749395', 'text': 'कथा अकेले इसे domesticates,'},\n",
       "  {'seekvideo_id': '751478',\n",
       "   'text': 'यह तालिका करने के लिए आमंत्रित किया है।'},\n",
       "  {'seekvideo_id': '753356', 'text': 'और जो बटोरता है इसे देखो:'},\n",
       "  {'seekvideo_id': '755229', 'text': 'मिठाई Lestrade, टॉम Ripley भयानक,'},\n",
       "  {'seekvideo_id': '759065', 'text': 'पागल स्वान, मार्सेल Proust खुद को।'},\n",
       "  {'seekvideo_id': '763534', 'text': 'हम उत्कृष्ट कंपनी में कर रहे हैं।'},\n",
       "  {'seekvideo_id': '765948', 'text': 'धन्यवाद.'},\n",
       "  {'seekvideo_id': '767368', 'text': '(तालियों सहित अभिवादन)'}]}"
      ]
     },
     "execution_count": 11,
     "metadata": {},
     "output_type": "execute_result"
    }
   ],
   "source": [
    "dataset['train'][0]"
   ]
  },
  {
   "cell_type": "code",
   "execution_count": null,
   "metadata": {},
   "outputs": [],
   "source": [
    "dataset = load_dataset('datasets/datasets/ted_multi', split=\"train\")"
   ]
  },
  {
   "cell_type": "code",
   "execution_count": null,
   "metadata": {},
   "outputs": [],
   "source": [
    "dataset[0]"
   ]
  },
  {
   "cell_type": "code",
   "execution_count": null,
   "metadata": {},
   "outputs": [],
   "source": []
  }
 ],
 "metadata": {
  "kernelspec": {
   "display_name": "Environment (conda_pytorch_p36)",
   "language": "python",
   "name": "conda_pytorch_p36"
  },
  "language_info": {
   "codemirror_mode": {
    "name": "ipython",
    "version": 3
   },
   "file_extension": ".py",
   "mimetype": "text/x-python",
   "name": "python",
   "nbconvert_exporter": "python",
   "pygments_lexer": "ipython3",
   "version": "3.6.10"
  }
 },
 "nbformat": 4,
 "nbformat_minor": 4
}
