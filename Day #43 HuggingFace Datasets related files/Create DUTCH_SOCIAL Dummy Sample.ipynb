{
 "cells": [
  {
   "cell_type": "code",
   "execution_count": 1,
   "metadata": {},
   "outputs": [],
   "source": [
    "import os\n",
    "\n",
    "import json\n",
    "\n",
    "import pandas as pd\n",
    "import numpy as np"
   ]
  },
  {
   "cell_type": "code",
   "execution_count": 2,
   "metadata": {},
   "outputs": [],
   "source": [
    "filepath = \"./\"\n",
    "\n",
    "train = \"train.jsonl\"\n",
    "test = \"test.jsonl\"\n",
    "dev = \"dev.jsonl\""
   ]
  },
  {
   "cell_type": "code",
   "execution_count": 3,
   "metadata": {},
   "outputs": [
    {
     "name": "stdout",
     "output_type": "stream",
     "text": [
      "(600, 23)\n"
     ]
    }
   ],
   "source": [
    "train_df = pd.read_json(filepath + train, lines = True)\n",
    "print(train_df.shape)\n",
    "result = train_df[:8].to_json(orient=\"records\")\n",
    "\n",
    "parsed = json.loads(result)\n"
   ]
  },
  {
   "cell_type": "code",
   "execution_count": 4,
   "metadata": {},
   "outputs": [],
   "source": [
    "\n",
    "with open(filepath + train, 'w') as outfile:\n",
    "    json.dump(parsed, outfile)"
   ]
  },
  {
   "cell_type": "code",
   "execution_count": 5,
   "metadata": {},
   "outputs": [
    {
     "name": "stdout",
     "output_type": "stream",
     "text": [
      "(200, 23)\n"
     ]
    }
   ],
   "source": [
    "train_df = pd.read_json(filepath + test)\n",
    "print(train_df.shape)\n",
    "result = train_df[:2].to_json(orient=\"records\")\n",
    "\n",
    "parsed = json.loads(result)\n",
    "\n",
    "with open(filepath + test, 'w') as outfile:\n",
    "    json.dump(parsed, outfile)\n"
   ]
  },
  {
   "cell_type": "code",
   "execution_count": 6,
   "metadata": {},
   "outputs": [
    {
     "name": "stdout",
     "output_type": "stream",
     "text": [
      "(200, 23)\n"
     ]
    }
   ],
   "source": [
    "train_df = pd.read_json(filepath + dev)\n",
    "print(train_df.shape)\n",
    "result = train_df[:2].to_json(orient=\"records\")\n",
    "\n",
    "parsed = json.loads(result)\n",
    "\n",
    "with open(filepath + dev, 'w') as outfile:\n",
    "    json.dump(parsed, outfile)"
   ]
  },
  {
   "cell_type": "markdown",
   "metadata": {},
   "source": [
    "### Date: 22nd Dec 2020 \n",
    "Updated the files to make them into json-lines format"
   ]
  },
  {
   "cell_type": "markdown",
   "metadata": {},
   "source": [
    "### Writing to json-lines format "
   ]
  },
  {
   "cell_type": "code",
   "execution_count": 3,
   "metadata": {},
   "outputs": [
    {
     "name": "stdout",
     "output_type": "stream",
     "text": [
      "(162805, 23)\n",
      "(54269, 23)\n",
      "(54268, 23)\n"
     ]
    }
   ],
   "source": [
    "train = pd.read_json(train, orient = \"records\")\n",
    "print(train.shape)\n",
    "\n",
    "dev = pd.read_json(dev, orient = \"records\")\n",
    "print(dev.shape)\n",
    "\n",
    "test = pd.read_json(test, orient = \"records\")\n",
    "print(test.shape)\n"
   ]
  },
  {
   "cell_type": "code",
   "execution_count": 4,
   "metadata": {},
   "outputs": [],
   "source": [
    "train.to_json(\"train.jsonl\", orient=\"records\", lines=True)\n",
    "dev.to_json(\"dev.jsonl\", orient=\"records\", lines=True)\n",
    "test.to_json(\"test.jsonl\", orient=\"records\", lines=True)"
   ]
  },
  {
   "cell_type": "markdown",
   "metadata": {},
   "source": [
    "### Save the dummy files"
   ]
  },
  {
   "cell_type": "code",
   "execution_count": 6,
   "metadata": {},
   "outputs": [],
   "source": [
    "train.sample(8).to_json(\"train.jsonl\", orient=\"records\", lines=True)\n",
    "dev.sample(2).to_json(\"dev.jsonl\", orient=\"records\", lines=True)\n",
    "test.sample(2).to_json(\"test.jsonl\", orient=\"records\", lines=True)"
   ]
  },
  {
   "cell_type": "code",
   "execution_count": 8,
   "metadata": {},
   "outputs": [
    {
     "name": "stdout",
     "output_type": "stream",
     "text": [
      "0 <class 'str'>\n",
      "1 <class 'str'>\n",
      "2 <class 'str'>\n",
      "3 <class 'str'>\n",
      "4 <class 'str'>\n",
      "5 <class 'str'>\n",
      "6 <class 'str'>\n",
      "7 <class 'str'>\n"
     ]
    }
   ],
   "source": [
    "with open(\"train.jsonl\") as f:\n",
    "    for id_,data in enumerate(f):\n",
    "        print(id_, type(data))"
   ]
  },
  {
   "cell_type": "code",
   "execution_count": null,
   "metadata": {},
   "outputs": [],
   "source": []
  }
 ],
 "metadata": {
  "kernelspec": {
   "display_name": "Python 3",
   "language": "python",
   "name": "python3"
  },
  "language_info": {
   "codemirror_mode": {
    "name": "ipython",
    "version": 3
   },
   "file_extension": ".py",
   "mimetype": "text/x-python",
   "name": "python",
   "nbconvert_exporter": "python",
   "pygments_lexer": "ipython3",
   "version": "3.7.6"
  }
 },
 "nbformat": 4,
 "nbformat_minor": 4
}
