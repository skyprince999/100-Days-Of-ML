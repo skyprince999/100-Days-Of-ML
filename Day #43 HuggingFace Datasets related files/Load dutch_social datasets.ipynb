{
 "cells": [
  {
   "cell_type": "code",
   "execution_count": 1,
   "metadata": {},
   "outputs": [],
   "source": [
    "import os\n",
    "import sys\n",
    "\n",
    "sys.path.append(\"./hugging/lib/python3.7/site-packages\")"
   ]
  },
  {
   "cell_type": "code",
   "execution_count": 2,
   "metadata": {},
   "outputs": [],
   "source": [
    "from datasets import load_dataset"
   ]
  },
  {
   "cell_type": "code",
   "execution_count": 7,
   "metadata": {},
   "outputs": [
    {
     "name": "stdout",
     "output_type": "stream",
     "text": [
      "Downloading and preparing dataset dutch_social/first_domain (download: Unknown size, generated: Unknown size, post-processed: Unknown size, total: Unknown size) to /home/ubuntu/.cache/huggingface/datasets/dutch_social/first_domain/1.1.0/86046099696e942da9302646a1279365c9020a75fcb1df4d98930677ddbfd5ee...\n",
      "['test.jsonl', 'dev.jsonl', 'train.jsonl']\n"
     ]
    },
    {
     "data": {
      "application/vnd.jupyter.widget-view+json": {
       "model_id": "",
       "version_major": 2,
       "version_minor": 0
      },
      "text/plain": [
       "HBox(children=(FloatProgress(value=1.0, bar_style='info', max=1.0), HTML(value='')))"
      ]
     },
     "metadata": {},
     "output_type": "display_data"
    },
    {
     "data": {
      "application/vnd.jupyter.widget-view+json": {
       "model_id": "",
       "version_major": 2,
       "version_minor": 0
      },
      "text/plain": [
       "HBox(children=(FloatProgress(value=1.0, bar_style='info', max=1.0), HTML(value='')))"
      ]
     },
     "metadata": {},
     "output_type": "display_data"
    },
    {
     "data": {
      "application/vnd.jupyter.widget-view+json": {
       "model_id": "",
       "version_major": 2,
       "version_minor": 0
      },
      "text/plain": [
       "HBox(children=(FloatProgress(value=1.0, bar_style='info', max=1.0), HTML(value='')))"
      ]
     },
     "metadata": {},
     "output_type": "display_data"
    },
    {
     "name": "stdout",
     "output_type": "stream",
     "text": [
      "Dataset dutch_social downloaded and prepared to /home/ubuntu/.cache/huggingface/datasets/dutch_social/first_domain/1.1.0/86046099696e942da9302646a1279365c9020a75fcb1df4d98930677ddbfd5ee. Subsequent calls will reuse this data.\n"
     ]
    }
   ],
   "source": [
    "dataset = load_dataset('./datasets/datasets/dutch_social')"
   ]
  },
  {
   "cell_type": "code",
   "execution_count": 8,
   "metadata": {},
   "outputs": [
    {
     "data": {
      "text/plain": [
       "3"
      ]
     },
     "execution_count": 8,
     "metadata": {},
     "output_type": "execute_result"
    }
   ],
   "source": [
    "len(dataset)"
   ]
  },
  {
   "cell_type": "code",
   "execution_count": 11,
   "metadata": {},
   "outputs": [
    {
     "data": {
      "text/plain": [
       "DatasetDict({\n",
       "    train: Dataset({\n",
       "        features: ['full_text', 'text_translation', 'screen_name', 'description', 'desc_translation', 'location', 'weekofyear', 'weekday', 'month', 'year', 'day', 'point_info', 'point', 'latitude', 'longitude', 'altitude', 'province', 'hisco_standard', 'hisco_code', 'industry', 'sentiment_pattern', 'subjective_pattern', 'label'],\n",
       "        num_rows: 162805\n",
       "    })\n",
       "    test: Dataset({\n",
       "        features: ['full_text', 'text_translation', 'screen_name', 'description', 'desc_translation', 'location', 'weekofyear', 'weekday', 'month', 'year', 'day', 'point_info', 'point', 'latitude', 'longitude', 'altitude', 'province', 'hisco_standard', 'hisco_code', 'industry', 'sentiment_pattern', 'subjective_pattern', 'label'],\n",
       "        num_rows: 54268\n",
       "    })\n",
       "    validation: Dataset({\n",
       "        features: ['full_text', 'text_translation', 'screen_name', 'description', 'desc_translation', 'location', 'weekofyear', 'weekday', 'month', 'year', 'day', 'point_info', 'point', 'latitude', 'longitude', 'altitude', 'province', 'hisco_standard', 'hisco_code', 'industry', 'sentiment_pattern', 'subjective_pattern', 'label'],\n",
       "        num_rows: 54269\n",
       "    })\n",
       "})"
      ]
     },
     "execution_count": 11,
     "metadata": {},
     "output_type": "execute_result"
    }
   ],
   "source": [
    "dataset"
   ]
  },
  {
   "cell_type": "code",
   "execution_count": 18,
   "metadata": {},
   "outputs": [
    {
     "data": {
      "text/plain": [
       "{'full_text': Value(dtype='string', id=None),\n",
       " 'text_translation': Value(dtype='string', id=None),\n",
       " 'screen_name': Value(dtype='string', id=None),\n",
       " 'description': Value(dtype='string', id=None),\n",
       " 'desc_translation': Value(dtype='string', id=None),\n",
       " 'location': Value(dtype='string', id=None),\n",
       " 'weekofyear': Value(dtype='int64', id=None),\n",
       " 'weekday': Value(dtype='int64', id=None),\n",
       " 'month': Value(dtype='int64', id=None),\n",
       " 'year': Value(dtype='int64', id=None),\n",
       " 'day': Value(dtype='int64', id=None),\n",
       " 'point_info': Value(dtype='string', id=None),\n",
       " 'point': Value(dtype='string', id=None),\n",
       " 'latitude': Value(dtype='float64', id=None),\n",
       " 'longitude': Value(dtype='float64', id=None),\n",
       " 'altitude': Value(dtype='float64', id=None),\n",
       " 'province': Value(dtype='string', id=None),\n",
       " 'hisco_standard': Value(dtype='string', id=None),\n",
       " 'hisco_code': Value(dtype='string', id=None),\n",
       " 'industry': Value(dtype='bool_', id=None),\n",
       " 'sentiment_pattern': Value(dtype='float64', id=None),\n",
       " 'subjective_pattern': Value(dtype='float64', id=None),\n",
       " 'label': ClassLabel(num_classes=3, names=['neg', 'neu', 'pos'], names_file=None, id=None)}"
      ]
     },
     "execution_count": 18,
     "metadata": {},
     "output_type": "execute_result"
    }
   ],
   "source": [
    "dataset[\"train\"].features"
   ]
  },
  {
   "cell_type": "code",
   "execution_count": 20,
   "metadata": {},
   "outputs": [
    {
     "data": {
      "application/vnd.jupyter.widget-view+json": {
       "model_id": "c46cdcfefbe64900993bebc428faa819",
       "version_major": 2,
       "version_minor": 0
      },
      "text/plain": [
       "HBox(children=(FloatProgress(value=0.0, max=163.0), HTML(value='')))"
      ]
     },
     "metadata": {},
     "output_type": "display_data"
    },
    {
     "name": "stdout",
     "output_type": "stream",
     "text": [
      "\n"
     ]
    },
    {
     "data": {
      "text/plain": [
       "{'altitude': 0.0,\n",
       " 'day': 24,\n",
       " 'desc_translation': 'From my perspective (Cuba) is the world crazy. write once read a book',\n",
       " 'description': 'Vanuit mijn perspectief (Cuba) is de wereld gek. schrijf wel eens een boekje',\n",
       " 'full_text': 'Covid-19 waarschijnlijk ook verantwoordelijk voor klimaatverandering en racisme\\nhttps://t.co/XBlypgJv01',\n",
       " 'hisco_code': 'None',\n",
       " 'hisco_standard': 'None',\n",
       " 'industry': False,\n",
       " 'label': 2,\n",
       " 'latitude': 23.135305,\n",
       " 'location': 'Havana, Cuba',\n",
       " 'longitude': -82.3589631,\n",
       " 'month': 6,\n",
       " 'point': '(23.135305, -82.3589631, 0.0)',\n",
       " 'point_info': ' ',\n",
       " 'province': 'False',\n",
       " 'screen_name': 'CubaConga',\n",
       " 'sentiment_pattern': 0.15,\n",
       " 'subjective_pattern': 0.725,\n",
       " 'text_translation': 'Covid-19 probably responsible for climate change and racism\\nhttps://t.co/XBlypgJv01',\n",
       " 'weekday': 2,\n",
       " 'weekofyear': 26,\n",
       " 'year': 2020}"
      ]
     },
     "execution_count": 20,
     "metadata": {},
     "output_type": "execute_result"
    }
   ],
   "source": [
    "dataset[\"train\"].filter(lambda example: example['label'] == dataset[\"train\"].features['label'].str2int('pos'))[4]"
   ]
  },
  {
   "cell_type": "code",
   "execution_count": null,
   "metadata": {},
   "outputs": [],
   "source": []
  }
 ],
 "metadata": {
  "kernelspec": {
   "display_name": "Environment (conda_pytorch_latest_p37)",
   "language": "python",
   "name": "conda_pytorch_latest_p37"
  },
  "language_info": {
   "codemirror_mode": {
    "name": "ipython",
    "version": 3
   },
   "file_extension": ".py",
   "mimetype": "text/x-python",
   "name": "python",
   "nbconvert_exporter": "python",
   "pygments_lexer": "ipython3",
   "version": "3.7.6"
  }
 },
 "nbformat": 4,
 "nbformat_minor": 4
}
