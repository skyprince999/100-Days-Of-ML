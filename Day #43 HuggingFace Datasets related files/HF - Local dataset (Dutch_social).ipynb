{
 "cells": [
  {
   "cell_type": "code",
   "execution_count": 9,
   "metadata": {},
   "outputs": [],
   "source": [
    "import os\n",
    "import sys\n",
    "\n",
    "sys.path.append(\"./hugging/lib/python3.7/site-packages\")\n",
    "\n",
    "from datasets import load_dataset"
   ]
  },
  {
   "cell_type": "code",
   "execution_count": 15,
   "metadata": {},
   "outputs": [
    {
     "name": "stdout",
     "output_type": "stream",
     "text": [
      "Downloading and preparing dataset dutch_social/dutch_social (download: Unknown size, generated: Unknown size, post-processed: Unknown size, total: Unknown size) to /home/ubuntu/.cache/huggingface/datasets/dutch_social/dutch_social/1.1.0/d1c67150a6cf27cc9d629ee710927248b6beb2d238535f577621a57ad5c484da...\n"
     ]
    },
    {
     "data": {
      "application/vnd.jupyter.widget-view+json": {
       "model_id": "40aa7a8eaaa740269ee4279a0a3d659b",
       "version_major": 2,
       "version_minor": 0
      },
      "text/plain": [
       "HBox(children=(FloatProgress(value=0.0, description='Downloading', max=68740666.0, style=ProgressStyle(descrip…"
      ]
     },
     "metadata": {},
     "output_type": "display_data"
    },
    {
     "name": "stdout",
     "output_type": "stream",
     "text": [
      "\n"
     ]
    },
    {
     "data": {
      "application/vnd.jupyter.widget-view+json": {
       "model_id": "",
       "version_major": 2,
       "version_minor": 0
      },
      "text/plain": [
       "HBox(children=(FloatProgress(value=1.0, bar_style='info', max=1.0), HTML(value='')))"
      ]
     },
     "metadata": {},
     "output_type": "display_data"
    },
    {
     "data": {
      "application/vnd.jupyter.widget-view+json": {
       "model_id": "",
       "version_major": 2,
       "version_minor": 0
      },
      "text/plain": [
       "HBox(children=(FloatProgress(value=1.0, bar_style='info', max=1.0), HTML(value='')))"
      ]
     },
     "metadata": {},
     "output_type": "display_data"
    },
    {
     "data": {
      "application/vnd.jupyter.widget-view+json": {
       "model_id": "",
       "version_major": 2,
       "version_minor": 0
      },
      "text/plain": [
       "HBox(children=(FloatProgress(value=1.0, bar_style='info', max=1.0), HTML(value='')))"
      ]
     },
     "metadata": {},
     "output_type": "display_data"
    },
    {
     "name": "stdout",
     "output_type": "stream",
     "text": [
      "Dataset dutch_social downloaded and prepared to /home/ubuntu/.cache/huggingface/datasets/dutch_social/dutch_social/1.1.0/d1c67150a6cf27cc9d629ee710927248b6beb2d238535f577621a57ad5c484da. Subsequent calls will reuse this data.\n"
     ]
    }
   ],
   "source": [
    "dataset = load_dataset('./datasets/datasets/dutch_social')"
   ]
  },
  {
   "cell_type": "code",
   "execution_count": 16,
   "metadata": {},
   "outputs": [
    {
     "data": {
      "text/plain": [
       "DatasetDict({\n",
       "    train: Dataset({\n",
       "        features: ['full_text', 'text_translation', 'screen_name', 'description', 'desc_translation', 'location', 'weekofyear', 'weekday', 'month', 'year', 'day', 'point_info', 'point', 'latitude', 'longitude', 'altitude', 'province', 'hisco_standard', 'hisco_code', 'industry', 'sentiment_pattern', 'subjective_pattern', 'label'],\n",
       "        num_rows: 162805\n",
       "    })\n",
       "    test: Dataset({\n",
       "        features: ['full_text', 'text_translation', 'screen_name', 'description', 'desc_translation', 'location', 'weekofyear', 'weekday', 'month', 'year', 'day', 'point_info', 'point', 'latitude', 'longitude', 'altitude', 'province', 'hisco_standard', 'hisco_code', 'industry', 'sentiment_pattern', 'subjective_pattern', 'label'],\n",
       "        num_rows: 54268\n",
       "    })\n",
       "    validation: Dataset({\n",
       "        features: ['full_text', 'text_translation', 'screen_name', 'description', 'desc_translation', 'location', 'weekofyear', 'weekday', 'month', 'year', 'day', 'point_info', 'point', 'latitude', 'longitude', 'altitude', 'province', 'hisco_standard', 'hisco_code', 'industry', 'sentiment_pattern', 'subjective_pattern', 'label'],\n",
       "        num_rows: 54269\n",
       "    })\n",
       "})"
      ]
     },
     "execution_count": 16,
     "metadata": {},
     "output_type": "execute_result"
    }
   ],
   "source": [
    "dataset"
   ]
  },
  {
   "cell_type": "code",
   "execution_count": 18,
   "metadata": {},
   "outputs": [
    {
     "data": {
      "text/plain": [
       "{'altitude': 0.0,\n",
       " 'day': 21,\n",
       " 'desc_translation': 'None',\n",
       " 'description': 'None',\n",
       " 'full_text': \"Maar , er iets nuttigs mee doen ? Zie jij 'm vertrekken ?\\nM https://t.co/CXSEqjHvIj\",\n",
       " 'hisco_code': 'None',\n",
       " 'hisco_standard': 'None',\n",
       " 'industry': False,\n",
       " 'label': 1,\n",
       " 'latitude': 0.0,\n",
       " 'location': 'None',\n",
       " 'longitude': 0.0,\n",
       " 'month': 5,\n",
       " 'point': 'None',\n",
       " 'point_info': '',\n",
       " 'province': 'False',\n",
       " 'screen_name': 'RonaldMeeuwis',\n",
       " 'sentiment_pattern': 0.0,\n",
       " 'subjective_pattern': 0.0,\n",
       " 'text_translation': 'However, there is something useful to do with it? Do you see him leave?\\nM https://t.co/CXSEqjHvIj',\n",
       " 'weekday': 3,\n",
       " 'weekofyear': 21,\n",
       " 'year': 2020}"
      ]
     },
     "execution_count": 18,
     "metadata": {},
     "output_type": "execute_result"
    }
   ],
   "source": [
    "dataset['train'][0]"
   ]
  },
  {
   "cell_type": "code",
   "execution_count": 5,
   "metadata": {},
   "outputs": [
    {
     "data": {
      "application/vnd.jupyter.widget-view+json": {
       "model_id": "12734548b7574490ae93156644c00fcc",
       "version_major": 2,
       "version_minor": 0
      },
      "text/plain": [
       "HBox(children=(FloatProgress(value=0.0, max=55.0), HTML(value='')))"
      ]
     },
     "metadata": {},
     "output_type": "display_data"
    },
    {
     "name": "stdout",
     "output_type": "stream",
     "text": [
      "\n"
     ]
    },
    {
     "data": {
      "text/plain": [
       "{'altitude': [],\n",
       " 'day': [],\n",
       " 'desc_translation': [],\n",
       " 'description': [],\n",
       " 'full_text': [],\n",
       " 'hisco_code': [],\n",
       " 'hisco_standard': [],\n",
       " 'industry': [],\n",
       " 'label': [],\n",
       " 'latitude': [],\n",
       " 'location': [],\n",
       " 'longitude': [],\n",
       " 'month': [],\n",
       " 'point': [],\n",
       " 'point_info': [],\n",
       " 'province': [],\n",
       " 'screen_name': [],\n",
       " 'sentiment_pattern': [],\n",
       " 'subjective_pattern': [],\n",
       " 'text_translation': [],\n",
       " 'weekday': [],\n",
       " 'weekofyear': [],\n",
       " 'year': []}"
      ]
     },
     "execution_count": 5,
     "metadata": {},
     "output_type": "execute_result"
    }
   ],
   "source": [
    "dataset['test'].filter(lambda example: dataset['test']['industry'] == True)[:10]"
   ]
  },
  {
   "cell_type": "code",
   "execution_count": 8,
   "metadata": {},
   "outputs": [
    {
     "ename": "TypeError",
     "evalue": "'bool' object is not callable",
     "output_type": "error",
     "traceback": [
      "\u001b[0;31m---------------------------------------------------------------------------\u001b[0m",
      "\u001b[0;31mTypeError\u001b[0m                                 Traceback (most recent call last)",
      "\u001b[0;32m<ipython-input-8-f4114a085668>\u001b[0m in \u001b[0;36m<module>\u001b[0;34m\u001b[0m\n\u001b[0;32m----> 1\u001b[0;31m \u001b[0mdataset\u001b[0m\u001b[0;34m[\u001b[0m\u001b[0;34m'test'\u001b[0m\u001b[0;34m]\u001b[0m\u001b[0;34m.\u001b[0m\u001b[0mfilter\u001b[0m\u001b[0;34m(\u001b[0m \u001b[0mdataset\u001b[0m\u001b[0;34m[\u001b[0m\u001b[0;34m'test'\u001b[0m\u001b[0;34m]\u001b[0m\u001b[0;34m[\u001b[0m\u001b[0;34m'industry'\u001b[0m\u001b[0;34m]\u001b[0m \u001b[0;34m==\u001b[0m \u001b[0;32mTrue\u001b[0m\u001b[0;34m)\u001b[0m\u001b[0;34m.\u001b[0m\u001b[0mshape\u001b[0m\u001b[0;34m\u001b[0m\u001b[0;34m\u001b[0m\u001b[0m\n\u001b[0m",
      "\u001b[0;32m~/hugging/lib/python3.7/site-packages/datasets/arrow_dataset.py\u001b[0m in \u001b[0;36mwrapper\u001b[0;34m(*args, **kwargs)\u001b[0m\n\u001b[1;32m    155\u001b[0m         }\n\u001b[1;32m    156\u001b[0m         \u001b[0;31m# apply actual function\u001b[0m\u001b[0;34m\u001b[0m\u001b[0;34m\u001b[0m\u001b[0;34m\u001b[0m\u001b[0m\n\u001b[0;32m--> 157\u001b[0;31m         \u001b[0mout\u001b[0m\u001b[0;34m:\u001b[0m \u001b[0mUnion\u001b[0m\u001b[0;34m[\u001b[0m\u001b[0;34m\"Dataset\"\u001b[0m\u001b[0;34m,\u001b[0m \u001b[0;34m\"DatasetDict\"\u001b[0m\u001b[0;34m]\u001b[0m \u001b[0;34m=\u001b[0m \u001b[0mfunc\u001b[0m\u001b[0;34m(\u001b[0m\u001b[0mself\u001b[0m\u001b[0;34m,\u001b[0m \u001b[0;34m*\u001b[0m\u001b[0margs\u001b[0m\u001b[0;34m,\u001b[0m \u001b[0;34m**\u001b[0m\u001b[0mkwargs\u001b[0m\u001b[0;34m)\u001b[0m\u001b[0;34m\u001b[0m\u001b[0;34m\u001b[0m\u001b[0m\n\u001b[0m\u001b[1;32m    158\u001b[0m         \u001b[0mdatasets\u001b[0m\u001b[0;34m:\u001b[0m \u001b[0mList\u001b[0m\u001b[0;34m[\u001b[0m\u001b[0;34m\"Dataset\"\u001b[0m\u001b[0;34m]\u001b[0m \u001b[0;34m=\u001b[0m \u001b[0mlist\u001b[0m\u001b[0;34m(\u001b[0m\u001b[0mout\u001b[0m\u001b[0;34m.\u001b[0m\u001b[0mvalues\u001b[0m\u001b[0;34m(\u001b[0m\u001b[0;34m)\u001b[0m\u001b[0;34m)\u001b[0m \u001b[0;32mif\u001b[0m \u001b[0misinstance\u001b[0m\u001b[0;34m(\u001b[0m\u001b[0mout\u001b[0m\u001b[0;34m,\u001b[0m \u001b[0mdict\u001b[0m\u001b[0;34m)\u001b[0m \u001b[0;32melse\u001b[0m \u001b[0;34m[\u001b[0m\u001b[0mout\u001b[0m\u001b[0;34m]\u001b[0m\u001b[0;34m\u001b[0m\u001b[0;34m\u001b[0m\u001b[0m\n\u001b[1;32m    159\u001b[0m         \u001b[0;31m# re-apply format to the output\u001b[0m\u001b[0;34m\u001b[0m\u001b[0;34m\u001b[0m\u001b[0;34m\u001b[0m\u001b[0m\n",
      "\u001b[0;32m~/hugging/lib/python3.7/site-packages/datasets/fingerprint.py\u001b[0m in \u001b[0;36mwrapper\u001b[0;34m(*args, **kwargs)\u001b[0m\n\u001b[1;32m    161\u001b[0m             \u001b[0;31m# Call actual function\u001b[0m\u001b[0;34m\u001b[0m\u001b[0;34m\u001b[0m\u001b[0;34m\u001b[0m\u001b[0m\n\u001b[1;32m    162\u001b[0m \u001b[0;34m\u001b[0m\u001b[0m\n\u001b[0;32m--> 163\u001b[0;31m             \u001b[0mout\u001b[0m \u001b[0;34m=\u001b[0m \u001b[0mfunc\u001b[0m\u001b[0;34m(\u001b[0m\u001b[0mself\u001b[0m\u001b[0;34m,\u001b[0m \u001b[0;34m*\u001b[0m\u001b[0margs\u001b[0m\u001b[0;34m,\u001b[0m \u001b[0;34m**\u001b[0m\u001b[0mkwargs\u001b[0m\u001b[0;34m)\u001b[0m\u001b[0;34m\u001b[0m\u001b[0;34m\u001b[0m\u001b[0m\n\u001b[0m\u001b[1;32m    164\u001b[0m \u001b[0;34m\u001b[0m\u001b[0m\n\u001b[1;32m    165\u001b[0m             \u001b[0;31m# Update fingerprint of in-place transforms + update in-place history of transforms\u001b[0m\u001b[0;34m\u001b[0m\u001b[0;34m\u001b[0m\u001b[0;34m\u001b[0m\u001b[0m\n",
      "\u001b[0;32m~/hugging/lib/python3.7/site-packages/datasets/arrow_dataset.py\u001b[0m in \u001b[0;36mfilter\u001b[0;34m(self, function, with_indices, input_columns, batch_size, remove_columns, keep_in_memory, load_from_cache_file, cache_file_name, writer_batch_size, fn_kwargs, num_proc, suffix_template, new_fingerprint)\u001b[0m\n\u001b[1;32m   1642\u001b[0m             \u001b[0mnum_proc\u001b[0m\u001b[0;34m=\u001b[0m\u001b[0mnum_proc\u001b[0m\u001b[0;34m,\u001b[0m\u001b[0;34m\u001b[0m\u001b[0;34m\u001b[0m\u001b[0m\n\u001b[1;32m   1643\u001b[0m             \u001b[0msuffix_template\u001b[0m\u001b[0;34m=\u001b[0m\u001b[0msuffix_template\u001b[0m\u001b[0;34m,\u001b[0m\u001b[0;34m\u001b[0m\u001b[0;34m\u001b[0m\u001b[0m\n\u001b[0;32m-> 1644\u001b[0;31m             \u001b[0mnew_fingerprint\u001b[0m\u001b[0;34m=\u001b[0m\u001b[0mnew_fingerprint\u001b[0m\u001b[0;34m,\u001b[0m\u001b[0;34m\u001b[0m\u001b[0;34m\u001b[0m\u001b[0m\n\u001b[0m\u001b[1;32m   1645\u001b[0m         )\n\u001b[1;32m   1646\u001b[0m \u001b[0;34m\u001b[0m\u001b[0m\n",
      "\u001b[0;32m~/hugging/lib/python3.7/site-packages/datasets/arrow_dataset.py\u001b[0m in \u001b[0;36mmap\u001b[0;34m(self, function, with_indices, input_columns, batched, batch_size, drop_last_batch, remove_columns, keep_in_memory, load_from_cache_file, cache_file_name, writer_batch_size, features, disable_nullable, fn_kwargs, num_proc, suffix_template, new_fingerprint)\u001b[0m\n\u001b[1;32m   1237\u001b[0m         \u001b[0mtest_inputs\u001b[0m \u001b[0;34m=\u001b[0m \u001b[0mself\u001b[0m\u001b[0;34m[\u001b[0m\u001b[0;34m:\u001b[0m\u001b[0;36m2\u001b[0m\u001b[0;34m]\u001b[0m \u001b[0;32mif\u001b[0m \u001b[0mbatched\u001b[0m \u001b[0;32melse\u001b[0m \u001b[0mself\u001b[0m\u001b[0;34m[\u001b[0m\u001b[0;36m0\u001b[0m\u001b[0;34m]\u001b[0m\u001b[0;34m\u001b[0m\u001b[0;34m\u001b[0m\u001b[0m\n\u001b[1;32m   1238\u001b[0m         \u001b[0mtest_indices\u001b[0m \u001b[0;34m=\u001b[0m \u001b[0;34m[\u001b[0m\u001b[0;36m0\u001b[0m\u001b[0;34m,\u001b[0m \u001b[0;36m1\u001b[0m\u001b[0;34m]\u001b[0m \u001b[0;32mif\u001b[0m \u001b[0mbatched\u001b[0m \u001b[0;32melse\u001b[0m \u001b[0;36m0\u001b[0m\u001b[0;34m\u001b[0m\u001b[0;34m\u001b[0m\u001b[0m\n\u001b[0;32m-> 1239\u001b[0;31m         \u001b[0mupdate_data\u001b[0m \u001b[0;34m=\u001b[0m \u001b[0mdoes_function_return_dict\u001b[0m\u001b[0;34m(\u001b[0m\u001b[0mtest_inputs\u001b[0m\u001b[0;34m,\u001b[0m \u001b[0mtest_indices\u001b[0m\u001b[0;34m)\u001b[0m\u001b[0;34m\u001b[0m\u001b[0;34m\u001b[0m\u001b[0m\n\u001b[0m\u001b[1;32m   1240\u001b[0m         \u001b[0mlogger\u001b[0m\u001b[0;34m.\u001b[0m\u001b[0minfo\u001b[0m\u001b[0;34m(\u001b[0m\u001b[0;34m\"Testing finished, running the mapping function on the dataset\"\u001b[0m\u001b[0;34m)\u001b[0m\u001b[0;34m\u001b[0m\u001b[0;34m\u001b[0m\u001b[0m\n\u001b[1;32m   1241\u001b[0m \u001b[0;34m\u001b[0m\u001b[0m\n",
      "\u001b[0;32m~/hugging/lib/python3.7/site-packages/datasets/arrow_dataset.py\u001b[0m in \u001b[0;36mdoes_function_return_dict\u001b[0;34m(inputs, indices)\u001b[0m\n\u001b[1;32m   1208\u001b[0m             \u001b[0mfn_args\u001b[0m \u001b[0;34m=\u001b[0m \u001b[0;34m[\u001b[0m\u001b[0minputs\u001b[0m\u001b[0;34m]\u001b[0m \u001b[0;32mif\u001b[0m \u001b[0minput_columns\u001b[0m \u001b[0;32mis\u001b[0m \u001b[0;32mNone\u001b[0m \u001b[0;32melse\u001b[0m \u001b[0;34m[\u001b[0m\u001b[0minputs\u001b[0m\u001b[0;34m[\u001b[0m\u001b[0mcol\u001b[0m\u001b[0;34m]\u001b[0m \u001b[0;32mfor\u001b[0m \u001b[0mcol\u001b[0m \u001b[0;32min\u001b[0m \u001b[0minput_columns\u001b[0m\u001b[0;34m]\u001b[0m\u001b[0;34m\u001b[0m\u001b[0;34m\u001b[0m\u001b[0m\n\u001b[1;32m   1209\u001b[0m             processed_inputs = (\n\u001b[0;32m-> 1210\u001b[0;31m                 \u001b[0mfunction\u001b[0m\u001b[0;34m(\u001b[0m\u001b[0;34m*\u001b[0m\u001b[0mfn_args\u001b[0m\u001b[0;34m,\u001b[0m \u001b[0mindices\u001b[0m\u001b[0;34m,\u001b[0m \u001b[0;34m**\u001b[0m\u001b[0mfn_kwargs\u001b[0m\u001b[0;34m)\u001b[0m \u001b[0;32mif\u001b[0m \u001b[0mwith_indices\u001b[0m \u001b[0;32melse\u001b[0m \u001b[0mfunction\u001b[0m\u001b[0;34m(\u001b[0m\u001b[0;34m*\u001b[0m\u001b[0mfn_args\u001b[0m\u001b[0;34m,\u001b[0m \u001b[0;34m**\u001b[0m\u001b[0mfn_kwargs\u001b[0m\u001b[0;34m)\u001b[0m\u001b[0;34m\u001b[0m\u001b[0;34m\u001b[0m\u001b[0m\n\u001b[0m\u001b[1;32m   1211\u001b[0m             )\n\u001b[1;32m   1212\u001b[0m             \u001b[0mdoes_return_dict\u001b[0m \u001b[0;34m=\u001b[0m \u001b[0misinstance\u001b[0m\u001b[0;34m(\u001b[0m\u001b[0mprocessed_inputs\u001b[0m\u001b[0;34m,\u001b[0m \u001b[0mMapping\u001b[0m\u001b[0;34m)\u001b[0m\u001b[0;34m\u001b[0m\u001b[0;34m\u001b[0m\u001b[0m\n",
      "\u001b[0;32m~/hugging/lib/python3.7/site-packages/datasets/arrow_dataset.py\u001b[0m in \u001b[0;36mmap_function\u001b[0;34m(batch, function, with_indices, *args, **fn_kwargs)\u001b[0m\n\u001b[1;32m   2617\u001b[0m             \u001b[0mkeep_example\u001b[0m \u001b[0;34m=\u001b[0m \u001b[0mfunction\u001b[0m\u001b[0;34m(\u001b[0m\u001b[0;34m*\u001b[0m\u001b[0mfn_args\u001b[0m\u001b[0;34m,\u001b[0m \u001b[0margs\u001b[0m\u001b[0;34m[\u001b[0m\u001b[0;36m0\u001b[0m\u001b[0;34m]\u001b[0m\u001b[0;34m[\u001b[0m\u001b[0mi\u001b[0m\u001b[0;34m]\u001b[0m\u001b[0;34m,\u001b[0m \u001b[0;34m**\u001b[0m\u001b[0mfn_kwargs\u001b[0m\u001b[0;34m)\u001b[0m\u001b[0;34m\u001b[0m\u001b[0;34m\u001b[0m\u001b[0m\n\u001b[1;32m   2618\u001b[0m         \u001b[0;32melse\u001b[0m\u001b[0;34m:\u001b[0m\u001b[0;34m\u001b[0m\u001b[0;34m\u001b[0m\u001b[0m\n\u001b[0;32m-> 2619\u001b[0;31m             \u001b[0mkeep_example\u001b[0m \u001b[0;34m=\u001b[0m \u001b[0mfunction\u001b[0m\u001b[0;34m(\u001b[0m\u001b[0;34m*\u001b[0m\u001b[0mfn_args\u001b[0m\u001b[0;34m,\u001b[0m \u001b[0;34m**\u001b[0m\u001b[0mfn_kwargs\u001b[0m\u001b[0;34m)\u001b[0m\u001b[0;34m\u001b[0m\u001b[0;34m\u001b[0m\u001b[0m\n\u001b[0m\u001b[1;32m   2620\u001b[0m \u001b[0;34m\u001b[0m\u001b[0m\n\u001b[1;32m   2621\u001b[0m         assert isinstance(\n",
      "\u001b[0;31mTypeError\u001b[0m: 'bool' object is not callable"
     ]
    }
   ],
   "source": [
    "dataset['test'].filter( dataset['test']['industry'] == True).shape"
   ]
  },
  {
   "cell_type": "code",
   "execution_count": 7,
   "metadata": {},
   "outputs": [
    {
     "data": {
      "text/plain": [
       "{'altitude': [0.0, 0.0, 0.0, 0.0, 0.0, 0.0, 0.0, 0.0, 0.0, 0.0],\n",
       " 'day': [2, 28, 20, 16, 19, 3, 23, 3, 9, 10],\n",
       " 'desc_translation': ['None',\n",
       "  'Beards. Computers. Videogames. Twitch. Coffee. Magic The Gathering.',\n",
       "  'e-hero, working for @academyhetdorp & @IKONE_NL / Accessibility & Mobility Enthusiast / 👨🏼 he / him / #blacklivesmatter',\n",
       "  'Voiceover (NE + EN, with home studio) #voiceover #voorlezer #stemactrice #luisterboeken #voiceresponse #animatie #elearning',\n",
       "  'Alas! always a little weird and a little strange and a little crazy! but now the world 🌎 upside is I seem suddenly very normal 🙃',\n",
       "  'Swalot is the name\\nShiny is the game\\n\\n° 3 °\\n\\nAnime Alto: https://t.co/U4Ni9SpVmD\\nTwitch: https://t.co/Fo0QMVioy5\\nYoutube: https://t.co/NeziIWtHRT',\n",
       "  'Right cross',\n",
       "  'my bio',\n",
       "  'Economy Philosopher Ghent, Network Economy Howest\\ncomplexity, problem solving, innovation, transition\\n\"Man prefers to believe what he prefers to be true\" (Bacon)',\n",
       "  'positive!'],\n",
       " 'description': ['None',\n",
       "  'Beards. Computers. Videogames. Twitch. Coffee. Magic The Gathering.',\n",
       "  'e-held, werkzaam voor @academyhetdorp & @IKONE_NL / Accessibility & Mobility Enthousiast / 👨🏼 he/him / #blacklivesmatter',\n",
       "  'Voice Over (NE+EN, met home studio) #voiceover #voorlezer #stemactrice #luisterboeken #voiceresponse #animatie #elearning',\n",
       "  'Ach! altijd een beetje raar en een beetje vreemd en een beetje gek ! maar nu de wereld 🌎 op z’n kop staat lijk ik opeens heel normaal 🙃',\n",
       "  'Swalot is the name\\nShiny is the game \\n\\n°3° \\n\\nAnime Alt: https://t.co/U4Ni9SpVmD\\nTwitch: https://t.co/Fo0QMVioy5\\nYoutube: https://t.co/NeziIWtHRT',\n",
       "  'Dwarsrechts',\n",
       "  'My bio',\n",
       "  'Economiefilosoof UGent, Netwerkeconomie Howest\\ncomplexity, problem solving, innovation, transition\\n\"Man prefers to believe what he prefers to be true\" (Bacon)',\n",
       "  'positief!'],\n",
       " 'full_text': ['RT @Grard05542415: WAT EEN EIKEL IS #Grapperhaus \\n\\nWij door Corona \\nGeen ski-vakantie in Oostenrijk\\nGeen huwelijksfeest van onze oudste kle…',\n",
       "  \"Gisteren of eergisteren op @StudioBrussel nummer gehoord met tekst over 'de before times' van 'voor het corona virus', stijl eind 90 - begin 2000 dance/house en ik ben vergeten op te zoeken wie de artiest was toen. Iemand help? :) #stubru\",\n",
       "  'Jij en je netwerk al op de hoogte @Tamardoorduin? https://t.co/VtJ9oOroj7',\n",
       "  \"Er is geen sprake van een 'killervirus'. Besmet worden is daarom, net als bij griep, niet erg. Er hoeft zéker geen dictatuur voor worden ingevoerd. Je snapt nu wel dat het niet meer om een virus gaat maar om een zieke vorm van onderdrukking. https://t.co/GnPYcJF3Gp #coronanl\",\n",
       "  '@NOS Natuurlijk!! Alles er aan doen om de waarheid niet naar buiten te krijgen! Geweldig land China heel normaal en hebben ook geen concentratiekampen en hebben ook niks te maken met de dood van de 2 gezonde artsen',\n",
       "  '@CreamKnight21 Corona Cream\\n\\nIt alliterates so it must happen',\n",
       "  'RT @Martinbosma_pvv: Nog maar 1 nachtje slapen.\\n\\nEn dan hebben we eindelijk weer eens een D66’er bij de NPO!',\n",
       "  'RT @MashableBenelux: Google heeft bevestigd dat al zijn werknemers tot juni 2021 thuis zullen blijven werken...wat vind je van dit \"nieuwe…',\n",
       "  'ooggetuigenverslag van op IZ in Bergamo #justtheflu https://t.co/j8Yj6kSr3V',\n",
       "  '@ndnl @gertjansegers Toeslagen heeft niks met Corona te maken. Men schuift alles op corona!Toeslagen hebben een aanwijsbaar doel. Dat het bij de belastingdienst een zooi is,was allang bekent en heeft niks met toeslagen  te maken.Ze hebben er daar eerst op bezuinigd &amp; nu word er meer van hun verwacht!'],\n",
       " 'hisco_code': ['None',\n",
       "  '16000',\n",
       "  'None',\n",
       "  'None',\n",
       "  '6105',\n",
       "  'None',\n",
       "  'None',\n",
       "  '99900',\n",
       "  '99999',\n",
       "  '55220'],\n",
       " 'hisco_standard': ['None',\n",
       "  'artiest',\n",
       "  'None',\n",
       "  'None',\n",
       "  'arts',\n",
       "  'None',\n",
       "  'None',\n",
       "  'werknemer',\n",
       "  'getuige',\n",
       "  'dienst'],\n",
       " 'industry': [False, True, False, False, True, False, False, True, True, True],\n",
       " 'label': [1, 2, 1, 1, 2, 2, 2, 1, 1, 2],\n",
       " 'latitude': [0.0,\n",
       "  0.0,\n",
       "  52.0056642,\n",
       "  52.0799838,\n",
       "  52.3727598,\n",
       "  52.5001698,\n",
       "  0.0,\n",
       "  0.0,\n",
       "  51.0538286,\n",
       "  0.0],\n",
       " 'location': ['None',\n",
       "  'exxaxltwitch@gmail.com',\n",
       "  'Arnhem',\n",
       "  'Den Haag, Nederland',\n",
       "  'Amsterdam, Nederland',\n",
       "  'The Netherlands',\n",
       "  'None',\n",
       "  'None',\n",
       "  'Gent, België',\n",
       "  'None'],\n",
       " 'longitude': [0.0,\n",
       "  0.0,\n",
       "  5.8762345078,\n",
       "  4.3113461,\n",
       "  4.8936041,\n",
       "  5.7480821,\n",
       "  0.0,\n",
       "  0.0,\n",
       "  3.7250121,\n",
       "  0.0],\n",
       " 'month': [9, 8, 6, 7, 2, 3, 5, 8, 3, 9],\n",
       " 'point': ['None',\n",
       "  'None',\n",
       "  '(52.0056642, 5.8762345077641305, 0.0)',\n",
       "  '(52.0799838, 4.3113461, 0.0)',\n",
       "  '(52.3727598, 4.8936041, 0.0)',\n",
       "  '(52.5001698, 5.7480821, 0.0)',\n",
       "  'None',\n",
       "  'None',\n",
       "  '(51.0538286, 3.7250121, 0.0)',\n",
       "  'None'],\n",
       " 'point_info': ['', '', '', '', '', '', '', '', '', ''],\n",
       " 'province': ['False',\n",
       "  'False',\n",
       "  'Gelderland',\n",
       "  'Zuid-Holland',\n",
       "  'Noord-Holland',\n",
       "  'Flevoland',\n",
       "  'False',\n",
       "  'False',\n",
       "  'False',\n",
       "  'False'],\n",
       " 'screen_name': ['Piederee',\n",
       "  'Exxaxl',\n",
       "  'TimKro',\n",
       "  'Simone_Voice',\n",
       "  'GRAAFFSCHLEBAUM',\n",
       "  'Gew00nBas',\n",
       "  'erik_wijst',\n",
       "  'robhamsterdam',\n",
       "  '_roedel',\n",
       "  'marcobijl3'],\n",
       " 'sentiment_pattern': [0.0,\n",
       "  0.5,\n",
       "  0.0,\n",
       "  -0.03125,\n",
       "  0.3659895833,\n",
       "  0.2,\n",
       "  0.125,\n",
       "  0.0,\n",
       "  0.0,\n",
       "  0.5],\n",
       " 'subjective_pattern': [0.0, 1.0, 0.0, 0.7625, 0.735, 0.5, 0.4, 0.0, 0.0, 0.7],\n",
       " 'text_translation': ['RT @ Grard05542415: WHAT IS AN ACORN #Grapperhaus\\n\\nWe by Corona\\nNo skiing holiday in Austria\\nNo wedding of our oldest co ...',\n",
       "  'Yesterday or the day before on @StudioBrussel song heard with text about \"the before times\\' \\'before the coronavirus\\' style late 90th - early 2000 dance / house and I forgot to look at who the artist was then. Someone help? :) #stubru',\n",
       "  'You and your network already aware @Tamardoorduin? https://t.co/VtJ9oOroj7',\n",
       "  'There is not a killer virus. Be infected, therefore, like the flu, do not mind. It certainly does not enter any of dictatorship. You understand now that it no longer is a virus but a sick form of oppression. https://t.co/GnPYcJF3Gp #coronanl',\n",
       "  '@NOS course !! Everything to do to not get out to the truth! Great country China quite normal and have no concentration camps and have nothing to do with the death of two healthy doctors',\n",
       "  '@ CreamKnight21 Corona Cream\\n\\nIt alliterates so it must happen',\n",
       "  \"RT @Martinbosma_pvv: Just sleep one night.\\n\\nAnd we have finally a D66'er the NPO!\",\n",
       "  'RT @MashableBenelux: Google confirmed that all of its employees will continue to work until June 2021 home ... what do you think of this \"new ...',\n",
       "  'live coverage of the ICU in Bergamo #justtheflu https://t.co/j8Yj6kSr3V',\n",
       "  '@ndnl @gertjansegers Surcharges has nothing to do with Corona to. It pushes everything corona! Supplements have an identifiable target. That the tax office is a mess, was already known and has nothing to do with supplements to maken.Ze have there first to cut & amp; Now get more of their expected!'],\n",
       " 'weekday': [2, 4, 5, 3, 2, 1, 5, 0, 0, 3],\n",
       " 'weekofyear': [36, 35, 25, 29, 8, 10, 21, 32, 11, 37],\n",
       " 'year': [2020, 2020, 2020, 2020, 2020, 2020, 2020, 2020, 2020, 2020]}"
      ]
     },
     "execution_count": 7,
     "metadata": {},
     "output_type": "execute_result"
    }
   ],
   "source": [
    "dataset['test'][:10]"
   ]
  },
  {
   "cell_type": "code",
   "execution_count": null,
   "metadata": {},
   "outputs": [],
   "source": []
  }
 ],
 "metadata": {
  "kernelspec": {
   "display_name": "Python 3",
   "language": "python",
   "name": "python3"
  },
  "language_info": {
   "codemirror_mode": {
    "name": "ipython",
    "version": 3
   },
   "file_extension": ".py",
   "mimetype": "text/x-python",
   "name": "python",
   "nbconvert_exporter": "python",
   "pygments_lexer": "ipython3",
   "version": "3.7.6"
  }
 },
 "nbformat": 4,
 "nbformat_minor": 4
}
