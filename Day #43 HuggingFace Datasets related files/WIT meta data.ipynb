{
 "cells": [
  {
   "cell_type": "code",
   "execution_count": 2,
   "metadata": {},
   "outputs": [
    {
     "name": "stdout",
     "output_type": "stream",
     "text": [
      "Total number of files: 314\n",
      "Total number of languages: 109\n"
     ]
    }
   ],
   "source": [
    "import numpy as np # linear algebra\n",
    "import pandas as pd # data processing, CSV file I/O (e.g. pd.read_csv)\n",
    "\n",
    "import os\n",
    "from collections import Counter\n",
    "\n",
    "filelist = list()\n",
    "langlist = list()\n",
    "for dirname, _, filenames in os.walk('wit/XML_releases'):\n",
    "    for filename in filenames:\n",
    "        if filename.startswith(\"ted_\"):\n",
    "            idx = filename.find('20')-1\n",
    "            lang = filename[4:idx]\n",
    "            \n",
    "            filename = os.path.join(dirname, filename)\n",
    "            filelist.append(filename)\n",
    "            langlist.append(lang)\n",
    "\n",
    "c = Counter(langlist)\n",
    "\n",
    "langlist = list(set(langlist))\n",
    "print(f\"Total number of files: {len(filelist)}\")\n",
    "print(f\"Total number of languages: {len(langlist)}\")\n",
    "\n",
    "#langlist[:15]\n",
    "#c\n",
    "\n",
    "# with open('lang_list.txt', 'w') as f:\n",
    "#     for item in langlist:\n",
    "#         f.write(\"- %s\\n\" % item)\n",
    "\n",
    "#filename.find(\"20\")\n",
    "\n",
    "#filename[17:]\n",
    "\n",
    "#filename\n",
    "\n",
    "# for id in range(20):\n",
    "#     if id == 10:\n",
    "#         pass\n",
    "#     else:\n",
    "#         print(id)\n"
   ]
  },
  {
   "cell_type": "code",
   "execution_count": 3,
   "metadata": {},
   "outputs": [
    {
     "data": {
      "text/plain": [
       "['mr',\n",
       " 'eu',\n",
       " 'hr',\n",
       " 'rup',\n",
       " 'szl',\n",
       " 'lo',\n",
       " 'ms',\n",
       " 'ht',\n",
       " 'hy',\n",
       " 'mg',\n",
       " 'arq',\n",
       " 'uk',\n",
       " 'ku',\n",
       " 'ig',\n",
       " 'sr',\n",
       " 'ug',\n",
       " 'ne',\n",
       " 'pt-br',\n",
       " 'sq',\n",
       " 'af',\n",
       " 'km',\n",
       " 'en',\n",
       " 'tt',\n",
       " 'ja',\n",
       " 'inh',\n",
       " 'mn',\n",
       " 'eo',\n",
       " 'ka',\n",
       " 'nb',\n",
       " 'fil',\n",
       " 'uz',\n",
       " 'fi',\n",
       " 'tl',\n",
       " 'el',\n",
       " 'tg',\n",
       " 'bn',\n",
       " 'si',\n",
       " 'gu',\n",
       " 'sk',\n",
       " 'kn',\n",
       " 'ar',\n",
       " 'hup',\n",
       " 'zh-tw',\n",
       " 'sl',\n",
       " 'be',\n",
       " 'bo',\n",
       " 'fr',\n",
       " 'ps',\n",
       " 'tr',\n",
       " 'ltg',\n",
       " 'la',\n",
       " 'ko',\n",
       " 'lv',\n",
       " 'nl',\n",
       " 'fa',\n",
       " 'ru',\n",
       " 'et',\n",
       " 'vi',\n",
       " 'pa',\n",
       " 'my',\n",
       " 'sw',\n",
       " 'az',\n",
       " 'sv',\n",
       " 'ga',\n",
       " 'sh',\n",
       " 'it',\n",
       " 'da',\n",
       " 'lt',\n",
       " 'kk',\n",
       " 'mk',\n",
       " 'tlh',\n",
       " 'he',\n",
       " 'ceb',\n",
       " 'bg',\n",
       " 'fr-ca',\n",
       " 'ha',\n",
       " 'ml',\n",
       " 'mt',\n",
       " 'as',\n",
       " 'pt',\n",
       " 'zh-cn',\n",
       " 'cnh',\n",
       " 'ro',\n",
       " 'hi',\n",
       " 'es',\n",
       " 'id',\n",
       " 'bs',\n",
       " 'so',\n",
       " 'cs',\n",
       " 'te',\n",
       " 'ky',\n",
       " 'hu',\n",
       " 'th',\n",
       " 'pl',\n",
       " 'nn',\n",
       " 'ca',\n",
       " 'is',\n",
       " 'ta',\n",
       " 'de',\n",
       " 'srp',\n",
       " 'ast',\n",
       " 'bi',\n",
       " 'lb',\n",
       " 'art-x-bork',\n",
       " 'am',\n",
       " 'oc',\n",
       " 'zh',\n",
       " 'ur',\n",
       " 'gl']"
      ]
     },
     "execution_count": 3,
     "metadata": {},
     "output_type": "execute_result"
    }
   ],
   "source": [
    "langlist"
   ]
  },
  {
   "cell_type": "code",
   "execution_count": 4,
   "metadata": {},
   "outputs": [],
   "source": [
    "# Creating a list of all languages by year\n",
    "langlist_2014 = list()\n",
    "langlist_2015 = list()\n",
    "langlist_2016 = list()\n",
    "\n",
    "for file in filelist:\n",
    "    temp = file.split('/')\n",
    "    if '._ted' in temp[-1] or 'wit3.dtd' in temp[-1]:\n",
    "        pass\n",
    "    else:\n",
    "        lang = temp[-1].split('-')[0].replace(\"ted_\", \"\")\n",
    "        if 'xml' in temp:\n",
    "            langlist_2016.append(lang)\n",
    "        elif 'xml-20140120' in temp:\n",
    "            langlist_2014.append(lang)\n",
    "        elif 'xml-20150616' in temp:\n",
    "            langlist_2015.append(lang)"
   ]
  },
  {
   "cell_type": "code",
   "execution_count": 5,
   "metadata": {},
   "outputs": [
    {
     "name": "stdout",
     "output_type": "stream",
     "text": [
      "105\n",
      "100\n",
      "97\n"
     ]
    }
   ],
   "source": [
    "langlist_2016 = set(langlist_2016)\n",
    "langlist_2015 = set(langlist_2015)\n",
    "langlist_2014 = set(langlist_2014)\n",
    "\n",
    "print(len(langlist_2016))\n",
    "print(len(langlist_2015))\n",
    "print(len(langlist_2014))\n"
   ]
  },
  {
   "cell_type": "code",
   "execution_count": 6,
   "metadata": {},
   "outputs": [
    {
     "data": {
      "text/plain": [
       "{'cnh', 'hup', 'ig', 'mt', 'pa', 'ps', 'sh', 'tt'}"
      ]
     },
     "execution_count": 6,
     "metadata": {},
     "output_type": "execute_result"
    }
   ],
   "source": [
    "langlist_2016 - langlist_2014"
   ]
  },
  {
   "cell_type": "code",
   "execution_count": 7,
   "metadata": {},
   "outputs": [
    {
     "name": "stdout",
     "output_type": "stream",
     "text": [
      "97\n"
     ]
    }
   ],
   "source": [
    "temp = langlist_2014 & langlist_2015 & langlist_2016\n",
    "print(len(temp))"
   ]
  },
  {
   "cell_type": "code",
   "execution_count": 8,
   "metadata": {},
   "outputs": [
    {
     "data": {
      "text/plain": [
       "{'af',\n",
       " 'am',\n",
       " 'ar',\n",
       " 'arq',\n",
       " 'art',\n",
       " 'as',\n",
       " 'ast',\n",
       " 'az',\n",
       " 'be',\n",
       " 'bg',\n",
       " 'bi',\n",
       " 'bn',\n",
       " 'bo',\n",
       " 'bs',\n",
       " 'ca',\n",
       " 'ceb',\n",
       " 'cs',\n",
       " 'da',\n",
       " 'de',\n",
       " 'el',\n",
       " 'en',\n",
       " 'eo',\n",
       " 'es',\n",
       " 'et',\n",
       " 'eu',\n",
       " 'fa',\n",
       " 'fi',\n",
       " 'fil',\n",
       " 'fr',\n",
       " 'ga',\n",
       " 'gl',\n",
       " 'gu',\n",
       " 'ha',\n",
       " 'he',\n",
       " 'hi',\n",
       " 'hr',\n",
       " 'ht',\n",
       " 'hu',\n",
       " 'hy',\n",
       " 'id',\n",
       " 'inh',\n",
       " 'is',\n",
       " 'it',\n",
       " 'ja',\n",
       " 'ka',\n",
       " 'kk',\n",
       " 'km',\n",
       " 'kn',\n",
       " 'ko',\n",
       " 'ku',\n",
       " 'ky',\n",
       " 'la',\n",
       " 'lb',\n",
       " 'lo',\n",
       " 'lt',\n",
       " 'ltg',\n",
       " 'lv',\n",
       " 'mg',\n",
       " 'mk',\n",
       " 'ml',\n",
       " 'mn',\n",
       " 'mr',\n",
       " 'ms',\n",
       " 'my',\n",
       " 'nb',\n",
       " 'ne',\n",
       " 'nl',\n",
       " 'nn',\n",
       " 'oc',\n",
       " 'pl',\n",
       " 'pt',\n",
       " 'ro',\n",
       " 'ru',\n",
       " 'rup',\n",
       " 'si',\n",
       " 'sk',\n",
       " 'sl',\n",
       " 'so',\n",
       " 'sq',\n",
       " 'sr',\n",
       " 'srp',\n",
       " 'sv',\n",
       " 'sw',\n",
       " 'szl',\n",
       " 'ta',\n",
       " 'te',\n",
       " 'tg',\n",
       " 'th',\n",
       " 'tl',\n",
       " 'tlh',\n",
       " 'tr',\n",
       " 'ug',\n",
       " 'uk',\n",
       " 'ur',\n",
       " 'uz',\n",
       " 'vi',\n",
       " 'zh'}"
      ]
     },
     "execution_count": 8,
     "metadata": {},
     "output_type": "execute_result"
    }
   ],
   "source": [
    "temp"
   ]
  },
  {
   "cell_type": "code",
   "execution_count": null,
   "metadata": {},
   "outputs": [],
   "source": []
  }
 ],
 "metadata": {
  "kernelspec": {
   "display_name": "Environment (conda_pytorch_p36)",
   "language": "python",
   "name": "conda_pytorch_p36"
  },
  "language_info": {
   "codemirror_mode": {
    "name": "ipython",
    "version": 3
   },
   "file_extension": ".py",
   "mimetype": "text/x-python",
   "name": "python",
   "nbconvert_exporter": "python",
   "pygments_lexer": "ipython3",
   "version": "3.6.10"
  }
 },
 "nbformat": 4,
 "nbformat_minor": 4
}
