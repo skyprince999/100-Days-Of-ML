{
 "cells": [
  {
   "cell_type": "code",
   "execution_count": 1,
   "metadata": {},
   "outputs": [],
   "source": [
    "import xml.dom.minidom\n",
    "import xml.etree.ElementTree as ET\n",
    "\n",
    "import zipfile\n",
    "import os\n",
    "from collections import defaultdict\n",
    "from glob import glob\n",
    "from os.path import join as pjoin"
   ]
  },
  {
   "cell_type": "code",
   "execution_count": 2,
   "metadata": {},
   "outputs": [],
   "source": [
    "filepath_2016 = os.listdir(\"wit/XML_releases/xml/\")\n",
    "filepath_2015 = os.listdir(\"wit/XML_releases/xml-20150616/\")\n",
    "filepath_2014 = os.listdir(\"wit/XML_releases/xml-20140120/\")"
   ]
  },
  {
   "cell_type": "code",
   "execution_count": 3,
   "metadata": {},
   "outputs": [
    {
     "name": "stdout",
     "output_type": "stream",
     "text": [
      "218\n",
      "210\n",
      "204\n"
     ]
    }
   ],
   "source": [
    "print(len(filepath_2016))\n",
    "print(len(filepath_2015))\n",
    "print(len(filepath_2014))"
   ]
  },
  {
   "cell_type": "code",
   "execution_count": 4,
   "metadata": {},
   "outputs": [
    {
     "data": {
      "text/plain": [
       "47306"
      ]
     },
     "execution_count": 4,
     "metadata": {},
     "output_type": "execute_result"
    }
   ],
   "source": [
    "218*217"
   ]
  },
  {
   "cell_type": "code",
   "execution_count": 5,
   "metadata": {},
   "outputs": [],
   "source": [
    "file_en = \"ted_en-20160408.zip\"\n",
    "file_hi = \"ted_hi-20160408.zip\""
   ]
  },
  {
   "cell_type": "code",
   "execution_count": 6,
   "metadata": {},
   "outputs": [
    {
     "name": "stdout",
     "output_type": "stream",
     "text": [
      "2085\n"
     ]
    }
   ],
   "source": [
    "talkid_en = list()\n",
    "with zipfile.ZipFile(\"wit/XML_releases/xml/\" + file_en) as zf_en:\n",
    "    tree = ET.parse(zf_en.open(file_en[:-3]+\"xml\"))\n",
    "    root = tree.getroot()\n",
    "    for elem in root:\n",
    "        talkid_en.append(elem.find('head').find('talkid').text)\n",
    "        \n",
    "print(len(talkid_en))"
   ]
  },
  {
   "cell_type": "code",
   "execution_count": 7,
   "metadata": {},
   "outputs": [
    {
     "name": "stdout",
     "output_type": "stream",
     "text": [
      "257\n"
     ]
    }
   ],
   "source": [
    "talkid_hi = list()\n",
    "with zipfile.ZipFile(\"wit/XML_releases/xml/\" + file_hi) as zf_hi:\n",
    "    tree = ET.parse(zf_hi.open(file_hi[:-3]+\"xml\"))\n",
    "    root = tree.getroot()\n",
    "    for elem in root:\n",
    "        talkid_hi.append(elem.find('head').find('talkid').text)\n",
    "        \n",
    "print(len(talkid_hi))"
   ]
  },
  {
   "cell_type": "code",
   "execution_count": 8,
   "metadata": {},
   "outputs": [],
   "source": [
    "# for file in filepath_2016:\n",
    "#     if file.startswith('._ted'):\n",
    "#         continue\n",
    "#     talkid = list()\n",
    "#     with zipfile.ZipFile(\"wit/XML_releases/xml/\" + file) as zf:\n",
    "#         tree = ET.parse(zf.open(file[:-3]+\"xml\"))\n",
    "#         root = tree.getroot()\n",
    "#         for elem in root:\n",
    "#             talkid.append(elem.find('head').find('talkid').text)\n",
    "#     print(f\"{file} :: {len(talkid)}\")"
   ]
  },
  {
   "cell_type": "code",
   "execution_count": 9,
   "metadata": {},
   "outputs": [
    {
     "name": "stdout",
     "output_type": "stream",
     "text": [
      "ted_hi-20160408.zip :: 257\n",
      "ted_en-20160408.zip :: 2085\n"
     ]
    }
   ],
   "source": [
    "lang1 = \"_en\"\n",
    "lang2 = \"_hi\"\n",
    "talkid_1 = list()\n",
    "talkid_2 = list()\n",
    "    \n",
    "for file in filepath_2016:\n",
    "    if file.startswith('._ted'):\n",
    "        continue\n",
    "    if lang1 in file:\n",
    "        with zipfile.ZipFile(\"wit/XML_releases/xml/\" + file) as zf:\n",
    "            tree = ET.parse(zf.open(file[:-3]+\"xml\"))\n",
    "            root = tree.getroot()\n",
    "            for elem in root:\n",
    "                talkid_1.append(elem.find('head').find('talkid').text)\n",
    "            print(f\"{file} :: {len(talkid_1)}\")\n",
    "            \n",
    "    elif lang2 in file:\n",
    "        with zipfile.ZipFile(\"wit/XML_releases/xml/\" + file) as zf:\n",
    "            tree = ET.parse(zf.open(file[:-3]+\"xml\"))\n",
    "            root = tree.getroot()\n",
    "            for elem in root:\n",
    "                talkid_2.append(elem.find('head').find('talkid').text)\n",
    "            print(f\"{file} :: {len(talkid_2)}\")\n",
    "        "
   ]
  },
  {
   "cell_type": "code",
   "execution_count": 10,
   "metadata": {},
   "outputs": [
    {
     "data": {
      "text/plain": [
       "257"
      ]
     },
     "execution_count": 10,
     "metadata": {},
     "output_type": "execute_result"
    }
   ],
   "source": [
    "len(list(set(talkid_1) & set(talkid_2)))"
   ]
  },
  {
   "cell_type": "code",
   "execution_count": 11,
   "metadata": {},
   "outputs": [
    {
     "data": {
      "text/plain": [
       "'2470'"
      ]
     },
     "execution_count": 11,
     "metadata": {},
     "output_type": "execute_result"
    }
   ],
   "source": [
    "talkid_1[0]"
   ]
  },
  {
   "cell_type": "code",
   "execution_count": null,
   "metadata": {},
   "outputs": [],
   "source": [
    "# with zipfile.ZipFile(\"wit/XML_releases/xml/\" + file) as zf:\n",
    "#     tree = ET.parse(zf.open(file[:-3]+\"xml\"))\n",
    "#     root = tree.getroot()\n",
    "#     for elem in root:\n",
    "#                 talkid_1.append(elem.find('head').find('talkid').text)\n",
    "#             print(f\"{file} :: {len(talkid_1)}\")"
   ]
  },
  {
   "cell_type": "code",
   "execution_count": 54,
   "metadata": {},
   "outputs": [],
   "source": [
    "root = tree.getroot()"
   ]
  },
  {
   "cell_type": "code",
   "execution_count": 55,
   "metadata": {},
   "outputs": [
    {
     "data": {
      "text/plain": [
       "[]"
      ]
     },
     "execution_count": 55,
     "metadata": {},
     "output_type": "execute_result"
    }
   ],
   "source": [
    "root.findall('talkid')"
   ]
  },
  {
   "cell_type": "code",
   "execution_count": 12,
   "metadata": {},
   "outputs": [],
   "source": [
    "import json"
   ]
  },
  {
   "cell_type": "code",
   "execution_count": 13,
   "metadata": {},
   "outputs": [],
   "source": [
    "def et_to_dict(tree):\n",
    "    dct = {tree.tag: {} if tree.attrib else None}\n",
    "    children = list(tree)\n",
    "    if children:\n",
    "        dd = defaultdict(list)\n",
    "        for dc in map(et_to_dict, children):\n",
    "            for k, v in dc.items():\n",
    "                dd[k].append(v)\n",
    "        dct = {tree.tag: dd}\n",
    "    if tree.attrib:\n",
    "        dct[tree.tag].update((k, v) for k, v in tree.attrib.items())\n",
    "    if tree.text:\n",
    "        text = tree.text.strip()\n",
    "        if children or tree.attrib:\n",
    "            if text:\n",
    "                dct[tree.tag][\"text\"] = text\n",
    "        else:\n",
    "            dct[tree.tag] = text\n",
    "    return dct"
   ]
  },
  {
   "cell_type": "code",
   "execution_count": 1,
   "metadata": {},
   "outputs": [],
   "source": [
    "# et_to_dict(root)"
   ]
  },
  {
   "cell_type": "code",
   "execution_count": 67,
   "metadata": {},
   "outputs": [
    {
     "data": {
      "text/plain": [
       "2"
      ]
     },
     "execution_count": 67,
     "metadata": {},
     "output_type": "execute_result"
    }
   ],
   "source": [
    "len(list(root[0]))"
   ]
  },
  {
   "cell_type": "code",
   "execution_count": 70,
   "metadata": {},
   "outputs": [
    {
     "name": "stdout",
     "output_type": "stream",
     "text": [
      "<class 'xml.etree.ElementTree.Element'>\n"
     ]
    }
   ],
   "source": [
    "for item in list(root):\n",
    "    print(type(item))\n",
    "    break"
   ]
  },
  {
   "cell_type": "code",
   "execution_count": 73,
   "metadata": {},
   "outputs": [],
   "source": [
    "dictOP = et_to_dict(item)"
   ]
  },
  {
   "cell_type": "code",
   "execution_count": 81,
   "metadata": {},
   "outputs": [
    {
     "data": {
      "text/plain": [
       "dict"
      ]
     },
     "execution_count": 81,
     "metadata": {},
     "output_type": "execute_result"
    }
   ],
   "source": [
    "type(dictOP)"
   ]
  },
  {
   "cell_type": "code",
   "execution_count": 75,
   "metadata": {},
   "outputs": [
    {
     "data": {
      "text/plain": [
       "collections.defaultdict"
      ]
     },
     "execution_count": 75,
     "metadata": {},
     "output_type": "execute_result"
    }
   ],
   "source": [
    "type(dictOP['file'])"
   ]
  },
  {
   "cell_type": "code",
   "execution_count": 80,
   "metadata": {},
   "outputs": [
    {
     "data": {
      "text/plain": [
       "collections.defaultdict"
      ]
     },
     "execution_count": 80,
     "metadata": {},
     "output_type": "execute_result"
    }
   ],
   "source": [
    "type(dictOP['file']['head'][0])"
   ]
  },
  {
   "cell_type": "code",
   "execution_count": 82,
   "metadata": {},
   "outputs": [
    {
     "data": {
      "text/plain": [
       "dict_keys(['url', 'pagesize', 'dtime', 'encoding', 'content-type', 'keywords', 'speaker', 'talkid', 'videourl', 'videopath', 'date', 'title', 'description', 'transcription', 'wordnum', 'charnum'])"
      ]
     },
     "execution_count": 82,
     "metadata": {},
     "output_type": "execute_result"
    }
   ],
   "source": [
    "dictOP['file']['head'][0].keys()"
   ]
  },
  {
   "cell_type": "code",
   "execution_count": 85,
   "metadata": {},
   "outputs": [
    {
     "data": {
      "text/plain": [
       "list"
      ]
     },
     "execution_count": 85,
     "metadata": {},
     "output_type": "execute_result"
    }
   ],
   "source": [
    "type(dictOP['file']['head'][0]['transcription'][0]['seekvideo'])"
   ]
  },
  {
   "cell_type": "code",
   "execution_count": 86,
   "metadata": {},
   "outputs": [
    {
     "data": {
      "text/plain": [
       "{'id': '1596', 'text': 'Here are two reasons companies fail:'}"
      ]
     },
     "execution_count": 86,
     "metadata": {},
     "output_type": "execute_result"
    }
   ],
   "source": [
    "dictOP['file']['head'][0]['transcription'][0]['seekvideo'][0]"
   ]
  },
  {
   "cell_type": "code",
   "execution_count": 14,
   "metadata": {},
   "outputs": [],
   "source": [
    "for file in filepath_2016:\n",
    "    if file.startswith('._ted'):\n",
    "        continue\n",
    "    if lang1 in file:\n",
    "        with zipfile.ZipFile(\"wit/XML_releases/xml/\" + file) as zf:\n",
    "            tree = ET.parse(zf.open(file[:-3]+\"xml\"))\n",
    "            root = tree.getroot()\n",
    "            lang1_talks = et_to_dict(root)\n",
    "            \n",
    "    elif lang2 in file:\n",
    "        with zipfile.ZipFile(\"wit/XML_releases/xml/\" + file) as zf:\n",
    "            tree = ET.parse(zf.open(file[:-3]+\"xml\"))\n",
    "            root = tree.getroot()\n",
    "            lang2_talks = et_to_dict(root)"
   ]
  },
  {
   "cell_type": "markdown",
   "metadata": {},
   "source": [
    "### Really shitty way of checking the structure of the returned dict/"
   ]
  },
  {
   "cell_type": "code",
   "execution_count": 17,
   "metadata": {},
   "outputs": [
    {
     "data": {
      "text/plain": [
       "collections.defaultdict"
      ]
     },
     "execution_count": 17,
     "metadata": {},
     "output_type": "execute_result"
    }
   ],
   "source": [
    "type(lang1_talks['xml'])"
   ]
  },
  {
   "cell_type": "code",
   "execution_count": 18,
   "metadata": {},
   "outputs": [
    {
     "data": {
      "text/plain": [
       "dict_keys(['file', 'language'])"
      ]
     },
     "execution_count": 18,
     "metadata": {},
     "output_type": "execute_result"
    }
   ],
   "source": [
    "lang1_talks['xml'].keys()"
   ]
  },
  {
   "cell_type": "code",
   "execution_count": 21,
   "metadata": {},
   "outputs": [
    {
     "data": {
      "text/plain": [
       "2085"
      ]
     },
     "execution_count": 21,
     "metadata": {},
     "output_type": "execute_result"
    }
   ],
   "source": [
    "len(lang1_talks['xml']['file'])"
   ]
  },
  {
   "cell_type": "code",
   "execution_count": 22,
   "metadata": {},
   "outputs": [
    {
     "data": {
      "text/plain": [
       "collections.defaultdict"
      ]
     },
     "execution_count": 22,
     "metadata": {},
     "output_type": "execute_result"
    }
   ],
   "source": [
    "type(lang1_talks['xml']['file'][0])"
   ]
  },
  {
   "cell_type": "code",
   "execution_count": 23,
   "metadata": {},
   "outputs": [
    {
     "data": {
      "text/plain": [
       "dict_keys(['head', 'content', 'id'])"
      ]
     },
     "execution_count": 23,
     "metadata": {},
     "output_type": "execute_result"
    }
   ],
   "source": [
    "lang1_talks['xml']['file'][0].keys()"
   ]
  },
  {
   "cell_type": "code",
   "execution_count": null,
   "metadata": {},
   "outputs": [],
   "source": []
  }
 ],
 "metadata": {
  "kernelspec": {
   "display_name": "Environment (conda_pytorch_latest_p37)",
   "language": "python",
   "name": "conda_pytorch_latest_p37"
  },
  "language_info": {
   "codemirror_mode": {
    "name": "ipython",
    "version": 3
   },
   "file_extension": ".py",
   "mimetype": "text/x-python",
   "name": "python",
   "nbconvert_exporter": "python",
   "pygments_lexer": "ipython3",
   "version": "3.7.6"
  }
 },
 "nbformat": 4,
 "nbformat_minor": 4
}
