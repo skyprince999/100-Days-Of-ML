{
 "cells": [
  {
   "cell_type": "code",
   "execution_count": 1,
   "metadata": {},
   "outputs": [],
   "source": [
    "from pattern.nl import sentiment\n"
   ]
  },
  {
   "cell_type": "code",
   "execution_count": 30,
   "metadata": {},
   "outputs": [],
   "source": [
    "from tqdm import tqdm \n",
    "import datetime"
   ]
  },
  {
   "cell_type": "code",
   "execution_count": 2,
   "metadata": {},
   "outputs": [],
   "source": [
    "import pandas as pd\n",
    "import json\n",
    "import os"
   ]
  },
  {
   "cell_type": "code",
   "execution_count": 6,
   "metadata": {
    "collapsed": true
   },
   "outputs": [
    {
     "name": "stdout",
     "output_type": "stream",
     "text": [
      "/home/ubuntu/dutch_tweets_chunk3.xlsx\n",
      "/home/ubuntu/dutch_tweets_chunk1.xlsx\n",
      "/home/ubuntu/dutch_tweets_chunk0.xlsx\n",
      "/home/ubuntu/dutch_tweets_chunk6.xlsx\n",
      "/home/ubuntu/dutch_tweets_chunk2.xlsx\n",
      "/home/ubuntu/dutch_tweets_chunk7.xlsx\n",
      "/home/ubuntu/dutch_tweets_chunk5.xlsx\n",
      "/home/ubuntu/dutch_tweets_chunk9.xlsx\n",
      "/home/ubuntu/dutch_tweets_chunk8.xlsx\n",
      "/home/ubuntu/dutch_tweets_chunk4.xlsx\n"
     ]
    },
    {
     "ename": "KeyboardInterrupt",
     "evalue": "",
     "output_type": "error",
     "traceback": [
      "\u001b[0;31m---------------------------------------------------------------------------\u001b[0m",
      "\u001b[0;31mKeyboardInterrupt\u001b[0m                         Traceback (most recent call last)",
      "\u001b[0;32m<ipython-input-6-76136786541f>\u001b[0m in \u001b[0;36m<module>\u001b[0;34m\u001b[0m\n\u001b[1;32m      1\u001b[0m \u001b[0mfile\u001b[0m \u001b[0;34m=\u001b[0m \u001b[0mlist\u001b[0m\u001b[0;34m(\u001b[0m\u001b[0;34m)\u001b[0m\u001b[0;34m\u001b[0m\u001b[0;34m\u001b[0m\u001b[0m\n\u001b[0;32m----> 2\u001b[0;31m \u001b[0;32mfor\u001b[0m \u001b[0mdirname\u001b[0m\u001b[0;34m,\u001b[0m \u001b[0m_\u001b[0m\u001b[0;34m,\u001b[0m \u001b[0mfilenames\u001b[0m \u001b[0;32min\u001b[0m \u001b[0mos\u001b[0m\u001b[0;34m.\u001b[0m\u001b[0mwalk\u001b[0m\u001b[0;34m(\u001b[0m\u001b[0;34m'/home/ubuntu'\u001b[0m\u001b[0;34m)\u001b[0m\u001b[0;34m:\u001b[0m\u001b[0;34m\u001b[0m\u001b[0;34m\u001b[0m\u001b[0m\n\u001b[0m\u001b[1;32m      3\u001b[0m     \u001b[0;32mfor\u001b[0m \u001b[0mfilename\u001b[0m \u001b[0;32min\u001b[0m \u001b[0mfilenames\u001b[0m\u001b[0;34m:\u001b[0m\u001b[0;34m\u001b[0m\u001b[0;34m\u001b[0m\u001b[0m\n\u001b[1;32m      4\u001b[0m         \u001b[0;32mif\u001b[0m \u001b[0;34m\"dutch_tweets_chunk\"\u001b[0m \u001b[0;32min\u001b[0m \u001b[0mfilename\u001b[0m\u001b[0;34m:\u001b[0m\u001b[0;34m\u001b[0m\u001b[0;34m\u001b[0m\u001b[0m\n\u001b[1;32m      5\u001b[0m             \u001b[0mfile\u001b[0m\u001b[0;34m.\u001b[0m\u001b[0mappend\u001b[0m\u001b[0;34m(\u001b[0m\u001b[0mos\u001b[0m\u001b[0;34m.\u001b[0m\u001b[0mpath\u001b[0m\u001b[0;34m.\u001b[0m\u001b[0mjoin\u001b[0m\u001b[0;34m(\u001b[0m\u001b[0mdirname\u001b[0m\u001b[0;34m,\u001b[0m \u001b[0mfilename\u001b[0m\u001b[0;34m)\u001b[0m\u001b[0;34m)\u001b[0m\u001b[0;34m\u001b[0m\u001b[0;34m\u001b[0m\u001b[0m\n",
      "\u001b[0;32m~/anaconda3/lib/python3.7/os.py\u001b[0m in \u001b[0;36mwalk\u001b[0;34m(top, topdown, onerror, followlinks)\u001b[0m\n\u001b[1;32m    409\u001b[0m             \u001b[0;31m# above.\u001b[0m\u001b[0;34m\u001b[0m\u001b[0;34m\u001b[0m\u001b[0;34m\u001b[0m\u001b[0m\n\u001b[1;32m    410\u001b[0m             \u001b[0;32mif\u001b[0m \u001b[0mfollowlinks\u001b[0m \u001b[0;32mor\u001b[0m \u001b[0;32mnot\u001b[0m \u001b[0mislink\u001b[0m\u001b[0;34m(\u001b[0m\u001b[0mnew_path\u001b[0m\u001b[0;34m)\u001b[0m\u001b[0;34m:\u001b[0m\u001b[0;34m\u001b[0m\u001b[0;34m\u001b[0m\u001b[0m\n\u001b[0;32m--> 411\u001b[0;31m                 \u001b[0;32myield\u001b[0m \u001b[0;32mfrom\u001b[0m \u001b[0mwalk\u001b[0m\u001b[0;34m(\u001b[0m\u001b[0mnew_path\u001b[0m\u001b[0;34m,\u001b[0m \u001b[0mtopdown\u001b[0m\u001b[0;34m,\u001b[0m \u001b[0monerror\u001b[0m\u001b[0;34m,\u001b[0m \u001b[0mfollowlinks\u001b[0m\u001b[0;34m)\u001b[0m\u001b[0;34m\u001b[0m\u001b[0;34m\u001b[0m\u001b[0m\n\u001b[0m\u001b[1;32m    412\u001b[0m     \u001b[0;32melse\u001b[0m\u001b[0;34m:\u001b[0m\u001b[0;34m\u001b[0m\u001b[0;34m\u001b[0m\u001b[0m\n\u001b[1;32m    413\u001b[0m         \u001b[0;31m# Recurse into sub-directories\u001b[0m\u001b[0;34m\u001b[0m\u001b[0;34m\u001b[0m\u001b[0;34m\u001b[0m\u001b[0m\n",
      "\u001b[0;32m~/anaconda3/lib/python3.7/os.py\u001b[0m in \u001b[0;36mwalk\u001b[0;34m(top, topdown, onerror, followlinks)\u001b[0m\n\u001b[1;32m    409\u001b[0m             \u001b[0;31m# above.\u001b[0m\u001b[0;34m\u001b[0m\u001b[0;34m\u001b[0m\u001b[0;34m\u001b[0m\u001b[0m\n\u001b[1;32m    410\u001b[0m             \u001b[0;32mif\u001b[0m \u001b[0mfollowlinks\u001b[0m \u001b[0;32mor\u001b[0m \u001b[0;32mnot\u001b[0m \u001b[0mislink\u001b[0m\u001b[0;34m(\u001b[0m\u001b[0mnew_path\u001b[0m\u001b[0;34m)\u001b[0m\u001b[0;34m:\u001b[0m\u001b[0;34m\u001b[0m\u001b[0;34m\u001b[0m\u001b[0m\n\u001b[0;32m--> 411\u001b[0;31m                 \u001b[0;32myield\u001b[0m \u001b[0;32mfrom\u001b[0m \u001b[0mwalk\u001b[0m\u001b[0;34m(\u001b[0m\u001b[0mnew_path\u001b[0m\u001b[0;34m,\u001b[0m \u001b[0mtopdown\u001b[0m\u001b[0;34m,\u001b[0m \u001b[0monerror\u001b[0m\u001b[0;34m,\u001b[0m \u001b[0mfollowlinks\u001b[0m\u001b[0;34m)\u001b[0m\u001b[0;34m\u001b[0m\u001b[0;34m\u001b[0m\u001b[0m\n\u001b[0m\u001b[1;32m    412\u001b[0m     \u001b[0;32melse\u001b[0m\u001b[0;34m:\u001b[0m\u001b[0;34m\u001b[0m\u001b[0;34m\u001b[0m\u001b[0m\n\u001b[1;32m    413\u001b[0m         \u001b[0;31m# Recurse into sub-directories\u001b[0m\u001b[0;34m\u001b[0m\u001b[0;34m\u001b[0m\u001b[0;34m\u001b[0m\u001b[0m\n",
      "\u001b[0;32m~/anaconda3/lib/python3.7/os.py\u001b[0m in \u001b[0;36mwalk\u001b[0;34m(top, topdown, onerror, followlinks)\u001b[0m\n\u001b[1;32m    409\u001b[0m             \u001b[0;31m# above.\u001b[0m\u001b[0;34m\u001b[0m\u001b[0;34m\u001b[0m\u001b[0;34m\u001b[0m\u001b[0m\n\u001b[1;32m    410\u001b[0m             \u001b[0;32mif\u001b[0m \u001b[0mfollowlinks\u001b[0m \u001b[0;32mor\u001b[0m \u001b[0;32mnot\u001b[0m \u001b[0mislink\u001b[0m\u001b[0;34m(\u001b[0m\u001b[0mnew_path\u001b[0m\u001b[0;34m)\u001b[0m\u001b[0;34m:\u001b[0m\u001b[0;34m\u001b[0m\u001b[0;34m\u001b[0m\u001b[0m\n\u001b[0;32m--> 411\u001b[0;31m                 \u001b[0;32myield\u001b[0m \u001b[0;32mfrom\u001b[0m \u001b[0mwalk\u001b[0m\u001b[0;34m(\u001b[0m\u001b[0mnew_path\u001b[0m\u001b[0;34m,\u001b[0m \u001b[0mtopdown\u001b[0m\u001b[0;34m,\u001b[0m \u001b[0monerror\u001b[0m\u001b[0;34m,\u001b[0m \u001b[0mfollowlinks\u001b[0m\u001b[0;34m)\u001b[0m\u001b[0;34m\u001b[0m\u001b[0;34m\u001b[0m\u001b[0m\n\u001b[0m\u001b[1;32m    412\u001b[0m     \u001b[0;32melse\u001b[0m\u001b[0;34m:\u001b[0m\u001b[0;34m\u001b[0m\u001b[0;34m\u001b[0m\u001b[0m\n\u001b[1;32m    413\u001b[0m         \u001b[0;31m# Recurse into sub-directories\u001b[0m\u001b[0;34m\u001b[0m\u001b[0;34m\u001b[0m\u001b[0;34m\u001b[0m\u001b[0m\n",
      "\u001b[0;32m~/anaconda3/lib/python3.7/os.py\u001b[0m in \u001b[0;36mwalk\u001b[0;34m(top, topdown, onerror, followlinks)\u001b[0m\n\u001b[1;32m    409\u001b[0m             \u001b[0;31m# above.\u001b[0m\u001b[0;34m\u001b[0m\u001b[0;34m\u001b[0m\u001b[0;34m\u001b[0m\u001b[0m\n\u001b[1;32m    410\u001b[0m             \u001b[0;32mif\u001b[0m \u001b[0mfollowlinks\u001b[0m \u001b[0;32mor\u001b[0m \u001b[0;32mnot\u001b[0m \u001b[0mislink\u001b[0m\u001b[0;34m(\u001b[0m\u001b[0mnew_path\u001b[0m\u001b[0;34m)\u001b[0m\u001b[0;34m:\u001b[0m\u001b[0;34m\u001b[0m\u001b[0;34m\u001b[0m\u001b[0m\n\u001b[0;32m--> 411\u001b[0;31m                 \u001b[0;32myield\u001b[0m \u001b[0;32mfrom\u001b[0m \u001b[0mwalk\u001b[0m\u001b[0;34m(\u001b[0m\u001b[0mnew_path\u001b[0m\u001b[0;34m,\u001b[0m \u001b[0mtopdown\u001b[0m\u001b[0;34m,\u001b[0m \u001b[0monerror\u001b[0m\u001b[0;34m,\u001b[0m \u001b[0mfollowlinks\u001b[0m\u001b[0;34m)\u001b[0m\u001b[0;34m\u001b[0m\u001b[0;34m\u001b[0m\u001b[0m\n\u001b[0m\u001b[1;32m    412\u001b[0m     \u001b[0;32melse\u001b[0m\u001b[0;34m:\u001b[0m\u001b[0;34m\u001b[0m\u001b[0;34m\u001b[0m\u001b[0m\n\u001b[1;32m    413\u001b[0m         \u001b[0;31m# Recurse into sub-directories\u001b[0m\u001b[0;34m\u001b[0m\u001b[0;34m\u001b[0m\u001b[0;34m\u001b[0m\u001b[0m\n",
      "\u001b[0;32m~/anaconda3/lib/python3.7/os.py\u001b[0m in \u001b[0;36mwalk\u001b[0;34m(top, topdown, onerror, followlinks)\u001b[0m\n\u001b[1;32m    409\u001b[0m             \u001b[0;31m# above.\u001b[0m\u001b[0;34m\u001b[0m\u001b[0;34m\u001b[0m\u001b[0;34m\u001b[0m\u001b[0m\n\u001b[1;32m    410\u001b[0m             \u001b[0;32mif\u001b[0m \u001b[0mfollowlinks\u001b[0m \u001b[0;32mor\u001b[0m \u001b[0;32mnot\u001b[0m \u001b[0mislink\u001b[0m\u001b[0;34m(\u001b[0m\u001b[0mnew_path\u001b[0m\u001b[0;34m)\u001b[0m\u001b[0;34m:\u001b[0m\u001b[0;34m\u001b[0m\u001b[0;34m\u001b[0m\u001b[0m\n\u001b[0;32m--> 411\u001b[0;31m                 \u001b[0;32myield\u001b[0m \u001b[0;32mfrom\u001b[0m \u001b[0mwalk\u001b[0m\u001b[0;34m(\u001b[0m\u001b[0mnew_path\u001b[0m\u001b[0;34m,\u001b[0m \u001b[0mtopdown\u001b[0m\u001b[0;34m,\u001b[0m \u001b[0monerror\u001b[0m\u001b[0;34m,\u001b[0m \u001b[0mfollowlinks\u001b[0m\u001b[0;34m)\u001b[0m\u001b[0;34m\u001b[0m\u001b[0;34m\u001b[0m\u001b[0m\n\u001b[0m\u001b[1;32m    412\u001b[0m     \u001b[0;32melse\u001b[0m\u001b[0;34m:\u001b[0m\u001b[0;34m\u001b[0m\u001b[0;34m\u001b[0m\u001b[0m\n\u001b[1;32m    413\u001b[0m         \u001b[0;31m# Recurse into sub-directories\u001b[0m\u001b[0;34m\u001b[0m\u001b[0;34m\u001b[0m\u001b[0;34m\u001b[0m\u001b[0m\n",
      "\u001b[0;32m~/anaconda3/lib/python3.7/os.py\u001b[0m in \u001b[0;36mwalk\u001b[0;34m(top, topdown, onerror, followlinks)\u001b[0m\n\u001b[1;32m    409\u001b[0m             \u001b[0;31m# above.\u001b[0m\u001b[0;34m\u001b[0m\u001b[0;34m\u001b[0m\u001b[0;34m\u001b[0m\u001b[0m\n\u001b[1;32m    410\u001b[0m             \u001b[0;32mif\u001b[0m \u001b[0mfollowlinks\u001b[0m \u001b[0;32mor\u001b[0m \u001b[0;32mnot\u001b[0m \u001b[0mislink\u001b[0m\u001b[0;34m(\u001b[0m\u001b[0mnew_path\u001b[0m\u001b[0;34m)\u001b[0m\u001b[0;34m:\u001b[0m\u001b[0;34m\u001b[0m\u001b[0;34m\u001b[0m\u001b[0m\n\u001b[0;32m--> 411\u001b[0;31m                 \u001b[0;32myield\u001b[0m \u001b[0;32mfrom\u001b[0m \u001b[0mwalk\u001b[0m\u001b[0;34m(\u001b[0m\u001b[0mnew_path\u001b[0m\u001b[0;34m,\u001b[0m \u001b[0mtopdown\u001b[0m\u001b[0;34m,\u001b[0m \u001b[0monerror\u001b[0m\u001b[0;34m,\u001b[0m \u001b[0mfollowlinks\u001b[0m\u001b[0;34m)\u001b[0m\u001b[0;34m\u001b[0m\u001b[0;34m\u001b[0m\u001b[0m\n\u001b[0m\u001b[1;32m    412\u001b[0m     \u001b[0;32melse\u001b[0m\u001b[0;34m:\u001b[0m\u001b[0;34m\u001b[0m\u001b[0;34m\u001b[0m\u001b[0m\n\u001b[1;32m    413\u001b[0m         \u001b[0;31m# Recurse into sub-directories\u001b[0m\u001b[0;34m\u001b[0m\u001b[0;34m\u001b[0m\u001b[0;34m\u001b[0m\u001b[0m\n",
      "\u001b[0;32m~/anaconda3/lib/python3.7/os.py\u001b[0m in \u001b[0;36mwalk\u001b[0;34m(top, topdown, onerror, followlinks)\u001b[0m\n\u001b[1;32m    409\u001b[0m             \u001b[0;31m# above.\u001b[0m\u001b[0;34m\u001b[0m\u001b[0;34m\u001b[0m\u001b[0;34m\u001b[0m\u001b[0m\n\u001b[1;32m    410\u001b[0m             \u001b[0;32mif\u001b[0m \u001b[0mfollowlinks\u001b[0m \u001b[0;32mor\u001b[0m \u001b[0;32mnot\u001b[0m \u001b[0mislink\u001b[0m\u001b[0;34m(\u001b[0m\u001b[0mnew_path\u001b[0m\u001b[0;34m)\u001b[0m\u001b[0;34m:\u001b[0m\u001b[0;34m\u001b[0m\u001b[0;34m\u001b[0m\u001b[0m\n\u001b[0;32m--> 411\u001b[0;31m                 \u001b[0;32myield\u001b[0m \u001b[0;32mfrom\u001b[0m \u001b[0mwalk\u001b[0m\u001b[0;34m(\u001b[0m\u001b[0mnew_path\u001b[0m\u001b[0;34m,\u001b[0m \u001b[0mtopdown\u001b[0m\u001b[0;34m,\u001b[0m \u001b[0monerror\u001b[0m\u001b[0;34m,\u001b[0m \u001b[0mfollowlinks\u001b[0m\u001b[0;34m)\u001b[0m\u001b[0;34m\u001b[0m\u001b[0;34m\u001b[0m\u001b[0m\n\u001b[0m\u001b[1;32m    412\u001b[0m     \u001b[0;32melse\u001b[0m\u001b[0;34m:\u001b[0m\u001b[0;34m\u001b[0m\u001b[0;34m\u001b[0m\u001b[0m\n\u001b[1;32m    413\u001b[0m         \u001b[0;31m# Recurse into sub-directories\u001b[0m\u001b[0;34m\u001b[0m\u001b[0;34m\u001b[0m\u001b[0;34m\u001b[0m\u001b[0m\n",
      "\u001b[0;32m~/anaconda3/lib/python3.7/os.py\u001b[0m in \u001b[0;36mwalk\u001b[0;34m(top, topdown, onerror, followlinks)\u001b[0m\n\u001b[1;32m    409\u001b[0m             \u001b[0;31m# above.\u001b[0m\u001b[0;34m\u001b[0m\u001b[0;34m\u001b[0m\u001b[0;34m\u001b[0m\u001b[0m\n\u001b[1;32m    410\u001b[0m             \u001b[0;32mif\u001b[0m \u001b[0mfollowlinks\u001b[0m \u001b[0;32mor\u001b[0m \u001b[0;32mnot\u001b[0m \u001b[0mislink\u001b[0m\u001b[0;34m(\u001b[0m\u001b[0mnew_path\u001b[0m\u001b[0;34m)\u001b[0m\u001b[0;34m:\u001b[0m\u001b[0;34m\u001b[0m\u001b[0;34m\u001b[0m\u001b[0m\n\u001b[0;32m--> 411\u001b[0;31m                 \u001b[0;32myield\u001b[0m \u001b[0;32mfrom\u001b[0m \u001b[0mwalk\u001b[0m\u001b[0;34m(\u001b[0m\u001b[0mnew_path\u001b[0m\u001b[0;34m,\u001b[0m \u001b[0mtopdown\u001b[0m\u001b[0;34m,\u001b[0m \u001b[0monerror\u001b[0m\u001b[0;34m,\u001b[0m \u001b[0mfollowlinks\u001b[0m\u001b[0;34m)\u001b[0m\u001b[0;34m\u001b[0m\u001b[0;34m\u001b[0m\u001b[0m\n\u001b[0m\u001b[1;32m    412\u001b[0m     \u001b[0;32melse\u001b[0m\u001b[0;34m:\u001b[0m\u001b[0;34m\u001b[0m\u001b[0;34m\u001b[0m\u001b[0m\n\u001b[1;32m    413\u001b[0m         \u001b[0;31m# Recurse into sub-directories\u001b[0m\u001b[0;34m\u001b[0m\u001b[0;34m\u001b[0m\u001b[0;34m\u001b[0m\u001b[0m\n",
      "\u001b[0;32m~/anaconda3/lib/python3.7/os.py\u001b[0m in \u001b[0;36mwalk\u001b[0;34m(top, topdown, onerror, followlinks)\u001b[0m\n\u001b[1;32m    348\u001b[0m         \u001b[0;31m# Note that scandir is global in this module due\u001b[0m\u001b[0;34m\u001b[0m\u001b[0;34m\u001b[0m\u001b[0;34m\u001b[0m\u001b[0m\n\u001b[1;32m    349\u001b[0m         \u001b[0;31m# to earlier import-*.\u001b[0m\u001b[0;34m\u001b[0m\u001b[0;34m\u001b[0m\u001b[0;34m\u001b[0m\u001b[0m\n\u001b[0;32m--> 350\u001b[0;31m         \u001b[0mscandir_it\u001b[0m \u001b[0;34m=\u001b[0m \u001b[0mscandir\u001b[0m\u001b[0;34m(\u001b[0m\u001b[0mtop\u001b[0m\u001b[0;34m)\u001b[0m\u001b[0;34m\u001b[0m\u001b[0;34m\u001b[0m\u001b[0m\n\u001b[0m\u001b[1;32m    351\u001b[0m     \u001b[0;32mexcept\u001b[0m \u001b[0mOSError\u001b[0m \u001b[0;32mas\u001b[0m \u001b[0merror\u001b[0m\u001b[0;34m:\u001b[0m\u001b[0;34m\u001b[0m\u001b[0;34m\u001b[0m\u001b[0m\n\u001b[1;32m    352\u001b[0m         \u001b[0;32mif\u001b[0m \u001b[0monerror\u001b[0m \u001b[0;32mis\u001b[0m \u001b[0;32mnot\u001b[0m \u001b[0;32mNone\u001b[0m\u001b[0;34m:\u001b[0m\u001b[0;34m\u001b[0m\u001b[0;34m\u001b[0m\u001b[0m\n",
      "\u001b[0;31mKeyboardInterrupt\u001b[0m: "
     ]
    }
   ],
   "source": [
    "file = list()\n",
    "for dirname, _, filenames in os.walk('/home/ubuntu'):\n",
    "    for filename in filenames:\n",
    "        if \"dutch_tweets_chunk\" in filename:\n",
    "            file.append(os.path.join(dirname, filename))\n",
    "            print(os.path.join(dirname, filename))\n",
    "            if len(file) > 10:\n",
    "                break"
   ]
  },
  {
   "cell_type": "code",
   "execution_count": 8,
   "metadata": {
    "collapsed": true
   },
   "outputs": [
    {
     "name": "stdout",
     "output_type": "stream",
     "text": [
      "(27112, 20)\n"
     ]
    },
    {
     "data": {
      "text/html": [
       "<div>\n",
       "<style scoped>\n",
       "    .dataframe tbody tr th:only-of-type {\n",
       "        vertical-align: middle;\n",
       "    }\n",
       "\n",
       "    .dataframe tbody tr th {\n",
       "        vertical-align: top;\n",
       "    }\n",
       "\n",
       "    .dataframe thead th {\n",
       "        text-align: right;\n",
       "    }\n",
       "</style>\n",
       "<table border=\"1\" class=\"dataframe\">\n",
       "  <thead>\n",
       "    <tr style=\"text-align: right;\">\n",
       "      <th></th>\n",
       "      <th>full_text</th>\n",
       "      <th>text Translation</th>\n",
       "      <th>created_at</th>\n",
       "      <th>screen_name</th>\n",
       "      <th>description</th>\n",
       "      <th>desc Translation</th>\n",
       "      <th>location</th>\n",
       "      <th>Weekday</th>\n",
       "      <th>Month</th>\n",
       "      <th>Year</th>\n",
       "      <th>Day</th>\n",
       "      <th>point_info</th>\n",
       "      <th>point</th>\n",
       "      <th>latitude</th>\n",
       "      <th>longitude</th>\n",
       "      <th>altitude</th>\n",
       "      <th>Province</th>\n",
       "      <th>hisco_standard</th>\n",
       "      <th>hisco_code</th>\n",
       "      <th>Industry</th>\n",
       "    </tr>\n",
       "  </thead>\n",
       "  <tbody>\n",
       "    <tr>\n",
       "      <th>0</th>\n",
       "      <td>RT @patricksavalle: Vrijwel alle #SARSCoV2 kit...</td>\n",
       "      <td>RT @patricksavalle: Virtually all # SARSCoV2 k...</td>\n",
       "      <td>Mon Sep 21 18:22:11 +0000 2020</td>\n",
       "      <td>LontAddy</td>\n",
       "      <td>NaN</td>\n",
       "      <td>NaN</td>\n",
       "      <td>NaN</td>\n",
       "      <td>0.0</td>\n",
       "      <td>9.0</td>\n",
       "      <td>2020.0</td>\n",
       "      <td>21.0</td>\n",
       "      <td>NaN</td>\n",
       "      <td>NaN</td>\n",
       "      <td>NaN</td>\n",
       "      <td>NaN</td>\n",
       "      <td>0.0</td>\n",
       "      <td>False</td>\n",
       "      <td>NaN</td>\n",
       "      <td>NaN</td>\n",
       "      <td>False</td>\n",
       "    </tr>\n",
       "    <tr>\n",
       "      <th>1</th>\n",
       "      <td>RT @patricksavalle: Vrijwel alle #SARSCoV2 kit...</td>\n",
       "      <td>RT @patricksavalle: Virtually all # SARSCoV2 k...</td>\n",
       "      <td>Mon Sep 21 18:22:11 +0000 2020</td>\n",
       "      <td>LontAddy</td>\n",
       "      <td>NaN</td>\n",
       "      <td>NaN</td>\n",
       "      <td>NaN</td>\n",
       "      <td>0.0</td>\n",
       "      <td>9.0</td>\n",
       "      <td>2020.0</td>\n",
       "      <td>21.0</td>\n",
       "      <td>NaN</td>\n",
       "      <td>NaN</td>\n",
       "      <td>NaN</td>\n",
       "      <td>NaN</td>\n",
       "      <td>0.0</td>\n",
       "      <td>False</td>\n",
       "      <td>NaN</td>\n",
       "      <td>NaN</td>\n",
       "      <td>False</td>\n",
       "    </tr>\n",
       "    <tr>\n",
       "      <th>2</th>\n",
       "      <td>RT @vries_hugo: Zweden heeft zonder lockdown d...</td>\n",
       "      <td>RT @vries_hugo: Sweden has reached the herd im...</td>\n",
       "      <td>Mon Sep 21 18:22:13 +0000 2020</td>\n",
       "      <td>fampoes</td>\n",
       "      <td>De enige zonde die niet vergeven kan worden is...</td>\n",
       "      <td>The only sin that can not be forgiven is hypoc...</td>\n",
       "      <td>Volendam</td>\n",
       "      <td>0.0</td>\n",
       "      <td>9.0</td>\n",
       "      <td>2020.0</td>\n",
       "      <td>21.0</td>\n",
       "      <td>Volendam, Edam-Volendam, Noord-Holland, Nederland</td>\n",
       "      <td>(52.500513999999995, 5.077832966704906, 0.0)</td>\n",
       "      <td>52.500514</td>\n",
       "      <td>5.077833</td>\n",
       "      <td>0.0</td>\n",
       "      <td>Noord-Holland</td>\n",
       "      <td>NaN</td>\n",
       "      <td>NaN</td>\n",
       "      <td>False</td>\n",
       "    </tr>\n",
       "    <tr>\n",
       "      <th>3</th>\n",
       "      <td>EenVandaag met O.a.: Veel middelbare scholiere...</td>\n",
       "      <td>EenVandaag with i.a. .: Many high school stude...</td>\n",
       "      <td>Mon Sep 21 18:22:19 +0000 2020</td>\n",
       "      <td>GerrieBijl</td>\n",
       "      <td>Gepensioneerd.</td>\n",
       "      <td>Retired.</td>\n",
       "      <td>Hollandscheveld</td>\n",
       "      <td>0.0</td>\n",
       "      <td>9.0</td>\n",
       "      <td>2020.0</td>\n",
       "      <td>21.0</td>\n",
       "      <td>Hollandscheveld, Hoogeveen, Drenthe, Nederland</td>\n",
       "      <td>(52.686948799999996, 6.524990639272454, 0.0)</td>\n",
       "      <td>52.686949</td>\n",
       "      <td>6.524991</td>\n",
       "      <td>0.0</td>\n",
       "      <td>Drenthe</td>\n",
       "      <td>scholier, scholiere</td>\n",
       "      <td>-1, -1</td>\n",
       "      <td>True</td>\n",
       "    </tr>\n",
       "    <tr>\n",
       "      <th>4</th>\n",
       "      <td>RT @drsmichakat: ALLEEN BIJ MICHA! DE TRIALS V...</td>\n",
       "      <td>RT @drsmichakat ONLY BY MICAH! THE TRIALS OF V...</td>\n",
       "      <td>Mon Sep 21 18:22:20 +0000 2020</td>\n",
       "      <td>paslagter</td>\n",
       "      <td>NaN</td>\n",
       "      <td>NaN</td>\n",
       "      <td>Middelburg, Nederland</td>\n",
       "      <td>0.0</td>\n",
       "      <td>9.0</td>\n",
       "      <td>2020.0</td>\n",
       "      <td>21.0</td>\n",
       "      <td>Middelburg, Zeeland, Nederland</td>\n",
       "      <td>(51.50529485, 3.6100710049422853, 0.0)</td>\n",
       "      <td>51.505295</td>\n",
       "      <td>3.610071</td>\n",
       "      <td>0.0</td>\n",
       "      <td>Zeeland</td>\n",
       "      <td>NaN</td>\n",
       "      <td>NaN</td>\n",
       "      <td>False</td>\n",
       "    </tr>\n",
       "  </tbody>\n",
       "</table>\n",
       "</div>"
      ],
      "text/plain": [
       "                                           full_text  \\\n",
       "0  RT @patricksavalle: Vrijwel alle #SARSCoV2 kit...   \n",
       "1  RT @patricksavalle: Vrijwel alle #SARSCoV2 kit...   \n",
       "2  RT @vries_hugo: Zweden heeft zonder lockdown d...   \n",
       "3  EenVandaag met O.a.: Veel middelbare scholiere...   \n",
       "4  RT @drsmichakat: ALLEEN BIJ MICHA! DE TRIALS V...   \n",
       "\n",
       "                                    text Translation  \\\n",
       "0  RT @patricksavalle: Virtually all # SARSCoV2 k...   \n",
       "1  RT @patricksavalle: Virtually all # SARSCoV2 k...   \n",
       "2  RT @vries_hugo: Sweden has reached the herd im...   \n",
       "3  EenVandaag with i.a. .: Many high school stude...   \n",
       "4  RT @drsmichakat ONLY BY MICAH! THE TRIALS OF V...   \n",
       "\n",
       "                       created_at screen_name  \\\n",
       "0  Mon Sep 21 18:22:11 +0000 2020    LontAddy   \n",
       "1  Mon Sep 21 18:22:11 +0000 2020    LontAddy   \n",
       "2  Mon Sep 21 18:22:13 +0000 2020     fampoes   \n",
       "3  Mon Sep 21 18:22:19 +0000 2020  GerrieBijl   \n",
       "4  Mon Sep 21 18:22:20 +0000 2020   paslagter   \n",
       "\n",
       "                                         description  \\\n",
       "0                                                NaN   \n",
       "1                                                NaN   \n",
       "2  De enige zonde die niet vergeven kan worden is...   \n",
       "3                                     Gepensioneerd.   \n",
       "4                                                NaN   \n",
       "\n",
       "                                    desc Translation               location  \\\n",
       "0                                                NaN                    NaN   \n",
       "1                                                NaN                    NaN   \n",
       "2  The only sin that can not be forgiven is hypoc...               Volendam   \n",
       "3                                           Retired.        Hollandscheveld   \n",
       "4                                                NaN  Middelburg, Nederland   \n",
       "\n",
       "   Weekday  Month    Year   Day  \\\n",
       "0      0.0    9.0  2020.0  21.0   \n",
       "1      0.0    9.0  2020.0  21.0   \n",
       "2      0.0    9.0  2020.0  21.0   \n",
       "3      0.0    9.0  2020.0  21.0   \n",
       "4      0.0    9.0  2020.0  21.0   \n",
       "\n",
       "                                          point_info  \\\n",
       "0                                                NaN   \n",
       "1                                                NaN   \n",
       "2  Volendam, Edam-Volendam, Noord-Holland, Nederland   \n",
       "3     Hollandscheveld, Hoogeveen, Drenthe, Nederland   \n",
       "4                     Middelburg, Zeeland, Nederland   \n",
       "\n",
       "                                          point   latitude  longitude  \\\n",
       "0                                           NaN        NaN        NaN   \n",
       "1                                           NaN        NaN        NaN   \n",
       "2  (52.500513999999995, 5.077832966704906, 0.0)  52.500514   5.077833   \n",
       "3  (52.686948799999996, 6.524990639272454, 0.0)  52.686949   6.524991   \n",
       "4        (51.50529485, 3.6100710049422853, 0.0)  51.505295   3.610071   \n",
       "\n",
       "   altitude       Province       hisco_standard hisco_code  Industry  \n",
       "0       0.0          False                  NaN        NaN     False  \n",
       "1       0.0          False                  NaN        NaN     False  \n",
       "2       0.0  Noord-Holland                  NaN        NaN     False  \n",
       "3       0.0        Drenthe  scholier, scholiere     -1, -1      True  \n",
       "4       0.0        Zeeland                  NaN        NaN     False  "
      ]
     },
     "execution_count": 8,
     "metadata": {},
     "output_type": "execute_result"
    }
   ],
   "source": [
    "dutch_tweet = pd.read_excel(file[0])\n",
    "print(dutch_tweet.shape)\n",
    "dutch_tweet.head()"
   ]
  },
  {
   "cell_type": "code",
   "execution_count": 41,
   "metadata": {},
   "outputs": [
    {
     "data": {
      "text/plain": [
       "'/home/ubuntu/dutch-tweets/dutch-twjson'"
      ]
     },
     "execution_count": 41,
     "metadata": {},
     "output_type": "execute_result"
    }
   ],
   "source": [
    "file_comp = file[0].split('/')\n",
    "file_comp[-1] = 'dutch-tweets'\n",
    "file_comp.append(file_comp[-1][:-4] + 'json')\n",
    "\n",
    "\"/\".join(file_comp)"
   ]
  },
  {
   "cell_type": "code",
   "execution_count": null,
   "metadata": {},
   "outputs": [],
   "source": []
  },
  {
   "cell_type": "code",
   "execution_count": 15,
   "metadata": {},
   "outputs": [
    {
     "name": "stdout",
     "output_type": "stream",
     "text": [
      "CPU times: user 11.1 s, sys: 0 ns, total: 11.1 s\n",
      "Wall time: 11.1 s\n"
     ]
    }
   ],
   "source": [
    "%%time\n",
    "dutch_tweet[\"Sentiment_pattern.nl\"] = dutch_tweet['full_text'].apply(lambda x: sentiment(x) )"
   ]
  },
  {
   "cell_type": "code",
   "execution_count": 17,
   "metadata": {},
   "outputs": [
    {
     "name": "stdout",
     "output_type": "stream",
     "text": [
      "CPU times: user 30.1 ms, sys: 0 ns, total: 30.1 ms\n",
      "Wall time: 30.7 ms\n"
     ]
    }
   ],
   "source": [
    "%%time\n",
    "dutch_tweet[\"Subjective_pattern.nl\"] = dutch_tweet[\"Sentiment_pattern.nl\"].apply(lambda x: x[1])\n",
    "dutch_tweet[\"Sentiment_pattern.nl\"] = dutch_tweet[\"Sentiment_pattern.nl\"].apply(lambda x: x[0])"
   ]
  },
  {
   "cell_type": "code",
   "execution_count": 27,
   "metadata": {},
   "outputs": [
    {
     "data": {
      "text/html": [
       "<div>\n",
       "<style scoped>\n",
       "    .dataframe tbody tr th:only-of-type {\n",
       "        vertical-align: middle;\n",
       "    }\n",
       "\n",
       "    .dataframe tbody tr th {\n",
       "        vertical-align: top;\n",
       "    }\n",
       "\n",
       "    .dataframe thead th {\n",
       "        text-align: right;\n",
       "    }\n",
       "</style>\n",
       "<table border=\"1\" class=\"dataframe\">\n",
       "  <thead>\n",
       "    <tr style=\"text-align: right;\">\n",
       "      <th></th>\n",
       "      <th>full_text</th>\n",
       "      <th>text Translation</th>\n",
       "      <th>created_at</th>\n",
       "      <th>screen_name</th>\n",
       "      <th>description</th>\n",
       "      <th>desc Translation</th>\n",
       "      <th>location</th>\n",
       "      <th>Weekday</th>\n",
       "      <th>Month</th>\n",
       "      <th>Year</th>\n",
       "      <th>...</th>\n",
       "      <th>point</th>\n",
       "      <th>latitude</th>\n",
       "      <th>longitude</th>\n",
       "      <th>altitude</th>\n",
       "      <th>Province</th>\n",
       "      <th>hisco_standard</th>\n",
       "      <th>hisco_code</th>\n",
       "      <th>Industry</th>\n",
       "      <th>Sentiment_pattern.nl</th>\n",
       "      <th>Subjective_pattern.nl</th>\n",
       "    </tr>\n",
       "  </thead>\n",
       "  <tbody>\n",
       "    <tr>\n",
       "      <th>0</th>\n",
       "      <td>RT @chrisilluminati: Much like the pandemic, t...</td>\n",
       "      <td>RT @chrisilluminati: Much like the pandemic, t...</td>\n",
       "      <td>Tue Jun 30 15:28:25 +0000 2020</td>\n",
       "      <td>hejost67</td>\n",
       "      <td>Sports, nature, climate, food...</td>\n",
       "      <td>Sports, nature, climate, food ...</td>\n",
       "      <td>The netherlands</td>\n",
       "      <td>1.0</td>\n",
       "      <td>6.0</td>\n",
       "      <td>2020.0</td>\n",
       "      <td>...</td>\n",
       "      <td>(52.5001698, 5.7480821, 0.0)</td>\n",
       "      <td>52.500170</td>\n",
       "      <td>5.748082</td>\n",
       "      <td>0.0</td>\n",
       "      <td>Flevoland</td>\n",
       "      <td>min</td>\n",
       "      <td>7410</td>\n",
       "      <td>True</td>\n",
       "      <td>0.0000</td>\n",
       "      <td>0.000</td>\n",
       "    </tr>\n",
       "    <tr>\n",
       "      <th>1</th>\n",
       "      <td>RT @Dirk_Lauwers: Visie van collega @KBoussauw...</td>\n",
       "      <td>RT @Dirk_Lauwers: Vision @KBoussauw colleagues...</td>\n",
       "      <td>Thu Jul 02 06:47:54 +0000 2020</td>\n",
       "      <td>KarelBrits</td>\n",
       "      <td>If people are not laughing at your goals, your...</td>\n",
       "      <td>If people are not laughing at your goals, your...</td>\n",
       "      <td>Dendermonde, Belgium</td>\n",
       "      <td>3.0</td>\n",
       "      <td>7.0</td>\n",
       "      <td>2020.0</td>\n",
       "      <td>...</td>\n",
       "      <td>(51.0312293, 4.098112, 0.0)</td>\n",
       "      <td>51.031229</td>\n",
       "      <td>4.098112</td>\n",
       "      <td>0.0</td>\n",
       "      <td>False</td>\n",
       "      <td>NaN</td>\n",
       "      <td>NaN</td>\n",
       "      <td>False</td>\n",
       "      <td>0.3000</td>\n",
       "      <td>0.500</td>\n",
       "    </tr>\n",
       "    <tr>\n",
       "      <th>2</th>\n",
       "      <td>夏は、甘いのが人気！\\n　　　　#stay home\\nブ\\n　 ラ\\n　 ッ\\n　 　 ク...</td>\n",
       "      <td>Summer, sweet popular!\\n#stay home\\nBreakfast\\...</td>\n",
       "      <td>Thu Jul 02 06:47:55 +0000 2020</td>\n",
       "      <td>BlackDe74164200</td>\n",
       "      <td>Black Devil 👿再び降臨‼️ 「BLACK DEVIL（ブラックデビル）」は、🇳🇱...</td>\n",
       "      <td>Black Devil 👿 again descended! ️ \"BLACK DEVIL ...</td>\n",
       "      <td>The Netherlands</td>\n",
       "      <td>3.0</td>\n",
       "      <td>7.0</td>\n",
       "      <td>2020.0</td>\n",
       "      <td>...</td>\n",
       "      <td>(52.5001698, 5.7480821, 0.0)</td>\n",
       "      <td>52.500170</td>\n",
       "      <td>5.748082</td>\n",
       "      <td>0.0</td>\n",
       "      <td>Flevoland</td>\n",
       "      <td>NaN</td>\n",
       "      <td>NaN</td>\n",
       "      <td>False</td>\n",
       "      <td>0.0000</td>\n",
       "      <td>0.000</td>\n",
       "    </tr>\n",
       "    <tr>\n",
       "      <th>3</th>\n",
       "      <td>Corona, het mooiste excuus om ons elke nog tas...</td>\n",
       "      <td>Corona, the best excuse to take us any more ta...</td>\n",
       "      <td>Tue Jun 30 15:28:28 +0000 2020</td>\n",
       "      <td>Chasidiyah</td>\n",
       "      <td>Je weet nooit wat je voor n ander betekent. Li...</td>\n",
       "      <td>You never know what you mean to one another. I...</td>\n",
       "      <td>Ontheemd valt wel mee op Texel</td>\n",
       "      <td>1.0</td>\n",
       "      <td>6.0</td>\n",
       "      <td>2020.0</td>\n",
       "      <td>...</td>\n",
       "      <td>NaN</td>\n",
       "      <td>NaN</td>\n",
       "      <td>NaN</td>\n",
       "      <td>NaN</td>\n",
       "      <td>False</td>\n",
       "      <td>dienst</td>\n",
       "      <td>55220</td>\n",
       "      <td>True</td>\n",
       "      <td>0.0625</td>\n",
       "      <td>0.275</td>\n",
       "    </tr>\n",
       "    <tr>\n",
       "      <th>4</th>\n",
       "      <td>@mevrouwadvocaat De Chinesetomatensoep wordt d...</td>\n",
       "      <td>@mevrouwadvocaat Chinese Tomato caught twice. ...</td>\n",
       "      <td>Sat Feb 08 15:00:53 +0000 2020</td>\n",
       "      <td>Glijn1</td>\n",
       "      <td>Zoon van de ouwe Glijn en trotse vader van Gli...</td>\n",
       "      <td>Son of the old Glijn and proud father of Glijn...</td>\n",
       "      <td>NaN</td>\n",
       "      <td>5.0</td>\n",
       "      <td>2.0</td>\n",
       "      <td>2020.0</td>\n",
       "      <td>...</td>\n",
       "      <td>NaN</td>\n",
       "      <td>NaN</td>\n",
       "      <td>NaN</td>\n",
       "      <td>0.0</td>\n",
       "      <td>False</td>\n",
       "      <td>advocaat</td>\n",
       "      <td>12110</td>\n",
       "      <td>True</td>\n",
       "      <td>0.0000</td>\n",
       "      <td>0.000</td>\n",
       "    </tr>\n",
       "  </tbody>\n",
       "</table>\n",
       "<p>5 rows × 22 columns</p>\n",
       "</div>"
      ],
      "text/plain": [
       "                                           full_text  \\\n",
       "0  RT @chrisilluminati: Much like the pandemic, t...   \n",
       "1  RT @Dirk_Lauwers: Visie van collega @KBoussauw...   \n",
       "2  夏は、甘いのが人気！\\n　　　　#stay home\\nブ\\n　 ラ\\n　 ッ\\n　 　 ク...   \n",
       "3  Corona, het mooiste excuus om ons elke nog tas...   \n",
       "4  @mevrouwadvocaat De Chinesetomatensoep wordt d...   \n",
       "\n",
       "                                    text Translation  \\\n",
       "0  RT @chrisilluminati: Much like the pandemic, t...   \n",
       "1  RT @Dirk_Lauwers: Vision @KBoussauw colleagues...   \n",
       "2  Summer, sweet popular!\\n#stay home\\nBreakfast\\...   \n",
       "3  Corona, the best excuse to take us any more ta...   \n",
       "4  @mevrouwadvocaat Chinese Tomato caught twice. ...   \n",
       "\n",
       "                       created_at      screen_name  \\\n",
       "0  Tue Jun 30 15:28:25 +0000 2020         hejost67   \n",
       "1  Thu Jul 02 06:47:54 +0000 2020       KarelBrits   \n",
       "2  Thu Jul 02 06:47:55 +0000 2020  BlackDe74164200   \n",
       "3  Tue Jun 30 15:28:28 +0000 2020       Chasidiyah   \n",
       "4  Sat Feb 08 15:00:53 +0000 2020           Glijn1   \n",
       "\n",
       "                                         description  \\\n",
       "0                   Sports, nature, climate, food...   \n",
       "1  If people are not laughing at your goals, your...   \n",
       "2  Black Devil 👿再び降臨‼️ 「BLACK DEVIL（ブラックデビル）」は、🇳🇱...   \n",
       "3  Je weet nooit wat je voor n ander betekent. Li...   \n",
       "4  Zoon van de ouwe Glijn en trotse vader van Gli...   \n",
       "\n",
       "                                    desc Translation  \\\n",
       "0                  Sports, nature, climate, food ...   \n",
       "1  If people are not laughing at your goals, your...   \n",
       "2  Black Devil 👿 again descended! ️ \"BLACK DEVIL ...   \n",
       "3  You never know what you mean to one another. I...   \n",
       "4  Son of the old Glijn and proud father of Glijn...   \n",
       "\n",
       "                         location  Weekday  Month    Year  ...  \\\n",
       "0                 The netherlands      1.0    6.0  2020.0  ...   \n",
       "1            Dendermonde, Belgium      3.0    7.0  2020.0  ...   \n",
       "2                 The Netherlands      3.0    7.0  2020.0  ...   \n",
       "3  Ontheemd valt wel mee op Texel      1.0    6.0  2020.0  ...   \n",
       "4                             NaN      5.0    2.0  2020.0  ...   \n",
       "\n",
       "                          point   latitude longitude  altitude   Province  \\\n",
       "0  (52.5001698, 5.7480821, 0.0)  52.500170  5.748082       0.0  Flevoland   \n",
       "1   (51.0312293, 4.098112, 0.0)  51.031229  4.098112       0.0      False   \n",
       "2  (52.5001698, 5.7480821, 0.0)  52.500170  5.748082       0.0  Flevoland   \n",
       "3                           NaN        NaN       NaN       NaN      False   \n",
       "4                           NaN        NaN       NaN       0.0      False   \n",
       "\n",
       "   hisco_standard hisco_code Industry Sentiment_pattern.nl  \\\n",
       "0             min       7410     True               0.0000   \n",
       "1             NaN        NaN    False               0.3000   \n",
       "2             NaN        NaN    False               0.0000   \n",
       "3          dienst      55220     True               0.0625   \n",
       "4        advocaat      12110     True               0.0000   \n",
       "\n",
       "   Subjective_pattern.nl  \n",
       "0                  0.000  \n",
       "1                  0.500  \n",
       "2                  0.000  \n",
       "3                  0.275  \n",
       "4                  0.000  \n",
       "\n",
       "[5 rows x 22 columns]"
      ]
     },
     "execution_count": 27,
     "metadata": {},
     "output_type": "execute_result"
    }
   ],
   "source": [
    "dutch_tweet.head()"
   ]
  },
  {
   "cell_type": "code",
   "execution_count": 102,
   "metadata": {},
   "outputs": [
    {
     "data": {
      "text/plain": [
       "['/home/ubuntu/dutch_tweets_chunk3.xlsx',\n",
       " '/home/ubuntu/dutch_tweets_chunk1.xlsx',\n",
       " '/home/ubuntu/dutch_tweets_chunk0.xlsx',\n",
       " '/home/ubuntu/dutch_tweets_chunk6.xlsx',\n",
       " '/home/ubuntu/dutch_tweets_chunk2.xlsx',\n",
       " '/home/ubuntu/dutch_tweets_chunk7.xlsx',\n",
       " '/home/ubuntu/dutch_tweets_chunk5.xlsx',\n",
       " '/home/ubuntu/dutch_tweets_chunk9.xlsx',\n",
       " '/home/ubuntu/dutch_tweets_chunk8.xlsx',\n",
       " '/home/ubuntu/dutch_tweets_chunk4.xlsx']"
      ]
     },
     "execution_count": 102,
     "metadata": {},
     "output_type": "execute_result"
    }
   ],
   "source": [
    "file"
   ]
  },
  {
   "cell_type": "code",
   "execution_count": 105,
   "metadata": {},
   "outputs": [
    {
     "name": "stdout",
     "output_type": "stream",
     "text": [
      "Processing file:  /home/ubuntu/dutch_tweets_chunk3.xlsx\n",
      "(27112, 20)\n"
     ]
    },
    {
     "ename": "ValueError",
     "evalue": "DataFrame columns must be unique for orient='records'.",
     "output_type": "error",
     "traceback": [
      "\u001b[0;31m---------------------------------------------------------------------------\u001b[0m",
      "\u001b[0;31mValueError\u001b[0m                                Traceback (most recent call last)",
      "\u001b[0;32m<timed exec>\u001b[0m in \u001b[0;36m<module>\u001b[0;34m\u001b[0m\n",
      "\u001b[0;32m~/anaconda3/lib/python3.7/site-packages/pandas/core/generic.py\u001b[0m in \u001b[0;36mto_json\u001b[0;34m(self, path_or_buf, orient, date_format, double_precision, force_ascii, date_unit, default_handler, lines, compression, index, indent)\u001b[0m\n\u001b[1;32m   2362\u001b[0m             \u001b[0mcompression\u001b[0m\u001b[0;34m=\u001b[0m\u001b[0mcompression\u001b[0m\u001b[0;34m,\u001b[0m\u001b[0;34m\u001b[0m\u001b[0;34m\u001b[0m\u001b[0m\n\u001b[1;32m   2363\u001b[0m             \u001b[0mindex\u001b[0m\u001b[0;34m=\u001b[0m\u001b[0mindex\u001b[0m\u001b[0;34m,\u001b[0m\u001b[0;34m\u001b[0m\u001b[0;34m\u001b[0m\u001b[0m\n\u001b[0;32m-> 2364\u001b[0;31m             \u001b[0mindent\u001b[0m\u001b[0;34m=\u001b[0m\u001b[0mindent\u001b[0m\u001b[0;34m,\u001b[0m\u001b[0;34m\u001b[0m\u001b[0;34m\u001b[0m\u001b[0m\n\u001b[0m\u001b[1;32m   2365\u001b[0m         )\n\u001b[1;32m   2366\u001b[0m \u001b[0;34m\u001b[0m\u001b[0m\n",
      "\u001b[0;32m~/anaconda3/lib/python3.7/site-packages/pandas/io/json/_json.py\u001b[0m in \u001b[0;36mto_json\u001b[0;34m(path_or_buf, obj, orient, date_format, double_precision, force_ascii, date_unit, default_handler, lines, compression, index, indent)\u001b[0m\n\u001b[1;32m     83\u001b[0m         \u001b[0mdefault_handler\u001b[0m\u001b[0;34m=\u001b[0m\u001b[0mdefault_handler\u001b[0m\u001b[0;34m,\u001b[0m\u001b[0;34m\u001b[0m\u001b[0;34m\u001b[0m\u001b[0m\n\u001b[1;32m     84\u001b[0m         \u001b[0mindex\u001b[0m\u001b[0;34m=\u001b[0m\u001b[0mindex\u001b[0m\u001b[0;34m,\u001b[0m\u001b[0;34m\u001b[0m\u001b[0;34m\u001b[0m\u001b[0m\n\u001b[0;32m---> 85\u001b[0;31m         \u001b[0mindent\u001b[0m\u001b[0;34m=\u001b[0m\u001b[0mindent\u001b[0m\u001b[0;34m,\u001b[0m\u001b[0;34m\u001b[0m\u001b[0;34m\u001b[0m\u001b[0m\n\u001b[0m\u001b[1;32m     86\u001b[0m     ).write()\n\u001b[1;32m     87\u001b[0m \u001b[0;34m\u001b[0m\u001b[0m\n",
      "\u001b[0;32m~/anaconda3/lib/python3.7/site-packages/pandas/io/json/_json.py\u001b[0m in \u001b[0;36m__init__\u001b[0;34m(self, obj, orient, date_format, double_precision, ensure_ascii, date_unit, index, default_handler, indent)\u001b[0m\n\u001b[1;32m    129\u001b[0m \u001b[0;34m\u001b[0m\u001b[0m\n\u001b[1;32m    130\u001b[0m         \u001b[0mself\u001b[0m\u001b[0;34m.\u001b[0m\u001b[0mis_copy\u001b[0m \u001b[0;34m=\u001b[0m \u001b[0;32mNone\u001b[0m\u001b[0;34m\u001b[0m\u001b[0;34m\u001b[0m\u001b[0m\n\u001b[0;32m--> 131\u001b[0;31m         \u001b[0mself\u001b[0m\u001b[0;34m.\u001b[0m\u001b[0m_format_axes\u001b[0m\u001b[0;34m(\u001b[0m\u001b[0;34m)\u001b[0m\u001b[0;34m\u001b[0m\u001b[0;34m\u001b[0m\u001b[0m\n\u001b[0m\u001b[1;32m    132\u001b[0m \u001b[0;34m\u001b[0m\u001b[0m\n\u001b[1;32m    133\u001b[0m     \u001b[0;32mdef\u001b[0m \u001b[0m_format_axes\u001b[0m\u001b[0;34m(\u001b[0m\u001b[0mself\u001b[0m\u001b[0;34m)\u001b[0m\u001b[0;34m:\u001b[0m\u001b[0;34m\u001b[0m\u001b[0;34m\u001b[0m\u001b[0m\n",
      "\u001b[0;32m~/anaconda3/lib/python3.7/site-packages/pandas/io/json/_json.py\u001b[0m in \u001b[0;36m_format_axes\u001b[0;34m(self)\u001b[0m\n\u001b[1;32m    218\u001b[0m         ):\n\u001b[1;32m    219\u001b[0m             raise ValueError(\n\u001b[0;32m--> 220\u001b[0;31m                 \u001b[0;34mf\"DataFrame columns must be unique for orient='{self.orient}'.\"\u001b[0m\u001b[0;34m\u001b[0m\u001b[0;34m\u001b[0m\u001b[0m\n\u001b[0m\u001b[1;32m    221\u001b[0m             )\n\u001b[1;32m    222\u001b[0m \u001b[0;34m\u001b[0m\u001b[0m\n",
      "\u001b[0;31mValueError\u001b[0m: DataFrame columns must be unique for orient='records'."
     ]
    }
   ],
   "source": [
    "%%time\n",
    "for filen in file:\n",
    "    print(\"Processing file: \", filen)\n",
    "    \n",
    "    # Read file\n",
    "    dutch_tweet = pd.read_excel(filen)\n",
    "    print(dutch_tweet.shape)\n",
    "    \n",
    "    # Update the sentiment & subjectivity scores\n",
    "    dutch_tweet[\"Sentiment_pattern.nl\"] = dutch_tweet['full_text'].apply(lambda x: sentiment(x) )\n",
    "\n",
    "    dutch_tweet[\"Subjective_pattern.nl\"] = dutch_tweet[\"Sentiment_pattern.nl\"].apply(lambda x: x[1])\n",
    "    dutch_tweet[\"Sentiment_pattern.nl\"] = dutch_tweet[\"Sentiment_pattern.nl\"].apply(lambda x: x[0])\n",
    "    \n",
    "    # Update the week of year & day (incase its missing)\n",
    "    dutch_tweet['weekofyear'] = dutch_tweet['created_at'].apply(lambda x: datetime.datetime.strptime(x, '%a %b %d %H:%M:%S %z %Y').isocalendar()[1] if (isinstance(x, str) and '2020' in x) else None)\n",
    "    dutch_tweet['day'] = dutch_tweet['created_at'].apply(lambda x: datetime.datetime.strptime(x, '%a %b %d %H:%M:%S %z %Y').day if (isinstance(x, str) and '2020' in x) else None)\n",
    "    \n",
    "    # Reaad all the columns & replace space with '_' and make all column names in smallcase\n",
    "    colnames = dutch_tweet.columns\n",
    "    colnames = [col.lower().replace(\" \", \"_\").replace(\".nl\", \"\") for col in colnames]\n",
    "    dutch_tweet.columns = colnames\n",
    "    \n",
    "    #Write the excel file\n",
    "    dutch_tweet.to_excel(filen, index=False)\n",
    "    \n",
    "    #convert to json format\n",
    "    result = dutch_tweet.to_json(orient=\"records\")\n",
    "    parsed = json.loads(result)\n",
    "    \n",
    "    # Create the json filename\n",
    "    file_comp = filen.split('/')\n",
    "    file_comp.append(file_comp[-1][:-4] + 'json')\n",
    "    file_comp[-2] = 'dutch-tweets'\n",
    "    json_filename = \"/\".join(file_comp)\n",
    "    print(\"Output file: \", json_filename)\n",
    "    \n",
    "    with open(json_filename, 'w') as outfile:\n",
    "        json.dump(parsed, outfile)"
   ]
  },
  {
   "cell_type": "code",
   "execution_count": 99,
   "metadata": {},
   "outputs": [],
   "source": [
    "file_comp = filen.split('/')\n",
    "file_comp.append(file_comp[-1][:-4] + 'json')\n",
    "file_comp[-2] = 'dutch-tweets'"
   ]
  },
  {
   "cell_type": "code",
   "execution_count": 100,
   "metadata": {},
   "outputs": [
    {
     "name": "stdout",
     "output_type": "stream",
     "text": [
      "Input file:  /home/ubuntu/dutch-tweets/dutch_tweets_chunk1.json\n",
      "Output file:  /home/ubuntu/dutch-tweets/dutch_tweets_chunk1.json\n"
     ]
    }
   ],
   "source": [
    "json_filename = \"/\".join(file_comp)\n",
    "print(\"Input file: \", json_filename)\n",
    "print(\"Output file: \", json_filename)"
   ]
  },
  {
   "cell_type": "code",
   "execution_count": 33,
   "metadata": {},
   "outputs": [
    {
     "name": "stdout",
     "output_type": "stream",
     "text": [
      "Tue Jun 30 15:28:25 +0000 2020\n"
     ]
    }
   ],
   "source": [
    "import datetime\n",
    "\n",
    "date_time_str = dutch_tweet['created_at'][0]#dutch['created_at'][0][:-11] + dutch['created_at'][0][-5:] \n",
    "print(date_time_str) \n",
    "\n",
    "# Format taken from \n",
    "# https://www.journaldev.com/23365/python-string-to-datetime-strptime\n",
    "date_time_obj = datetime.datetime.strptime(date_time_str, '%a %b %d %H:%M:%S %z %Y') # E MMM d HH:mm:ss Z yyyy  # %Y-%m-%d %H:%M:%S.%f\n"
   ]
  },
  {
   "cell_type": "code",
   "execution_count": 34,
   "metadata": {},
   "outputs": [
    {
     "data": {
      "text/plain": [
       "datetime.datetime(2020, 6, 30, 15, 28, 25, tzinfo=datetime.timezone.utc)"
      ]
     },
     "execution_count": 34,
     "metadata": {},
     "output_type": "execute_result"
    }
   ],
   "source": [
    "date_time_obj"
   ]
  },
  {
   "cell_type": "code",
   "execution_count": 35,
   "metadata": {},
   "outputs": [
    {
     "data": {
      "text/plain": [
       "27"
      ]
     },
     "execution_count": 35,
     "metadata": {},
     "output_type": "execute_result"
    }
   ],
   "source": [
    "date_time_obj.isocalendar()[1]"
   ]
  },
  {
   "cell_type": "code",
   "execution_count": 38,
   "metadata": {},
   "outputs": [],
   "source": [
    "dutch_tweet['weekOfYear'] = dutch_tweet['created_at'].apply(lambda x: datetime.datetime.strptime(x, '%a %b %d %H:%M:%S %z %Y').isocalendar()[1] if isinstance(x, str) else None)"
   ]
  },
  {
   "cell_type": "code",
   "execution_count": 75,
   "metadata": {},
   "outputs": [
    {
     "data": {
      "text/plain": [
       "30"
      ]
     },
     "execution_count": 75,
     "metadata": {},
     "output_type": "execute_result"
    }
   ],
   "source": [
    "date_time_obj.day"
   ]
  },
  {
   "cell_type": "code",
   "execution_count": 39,
   "metadata": {},
   "outputs": [
    {
     "data": {
      "text/plain": [
       "Index(['full_text', 'text Translation', 'created_at', 'screen_name',\n",
       "       'description', 'desc Translation', 'location', 'Weekday', 'Month',\n",
       "       'Year', 'Day', 'point_info', 'point', 'latitude', 'longitude',\n",
       "       'altitude', 'Province', 'hisco_standard', 'hisco_code', 'Industry',\n",
       "       'Sentiment_pattern.nl', 'Subjective_pattern.nl', 'weekOfYear'],\n",
       "      dtype='object')"
      ]
     },
     "execution_count": 39,
     "metadata": {},
     "output_type": "execute_result"
    }
   ],
   "source": [
    "dutch_tweet.columns"
   ]
  },
  {
   "cell_type": "code",
   "execution_count": 40,
   "metadata": {},
   "outputs": [
    {
     "data": {
      "text/html": [
       "<div>\n",
       "<style scoped>\n",
       "    .dataframe tbody tr th:only-of-type {\n",
       "        vertical-align: middle;\n",
       "    }\n",
       "\n",
       "    .dataframe tbody tr th {\n",
       "        vertical-align: top;\n",
       "    }\n",
       "\n",
       "    .dataframe thead th {\n",
       "        text-align: right;\n",
       "    }\n",
       "</style>\n",
       "<table border=\"1\" class=\"dataframe\">\n",
       "  <thead>\n",
       "    <tr style=\"text-align: right;\">\n",
       "      <th></th>\n",
       "      <th>full_text</th>\n",
       "      <th>text Translation</th>\n",
       "      <th>created_at</th>\n",
       "      <th>screen_name</th>\n",
       "      <th>description</th>\n",
       "      <th>desc Translation</th>\n",
       "      <th>location</th>\n",
       "      <th>Weekday</th>\n",
       "      <th>Month</th>\n",
       "      <th>Year</th>\n",
       "      <th>...</th>\n",
       "      <th>latitude</th>\n",
       "      <th>longitude</th>\n",
       "      <th>altitude</th>\n",
       "      <th>Province</th>\n",
       "      <th>hisco_standard</th>\n",
       "      <th>hisco_code</th>\n",
       "      <th>Industry</th>\n",
       "      <th>Sentiment_pattern.nl</th>\n",
       "      <th>Subjective_pattern.nl</th>\n",
       "      <th>weekOfYear</th>\n",
       "    </tr>\n",
       "  </thead>\n",
       "  <tbody>\n",
       "    <tr>\n",
       "      <th>0</th>\n",
       "      <td>RT @chrisilluminati: Much like the pandemic, t...</td>\n",
       "      <td>RT @chrisilluminati: Much like the pandemic, t...</td>\n",
       "      <td>Tue Jun 30 15:28:25 +0000 2020</td>\n",
       "      <td>hejost67</td>\n",
       "      <td>Sports, nature, climate, food...</td>\n",
       "      <td>Sports, nature, climate, food ...</td>\n",
       "      <td>The netherlands</td>\n",
       "      <td>1.0</td>\n",
       "      <td>6.0</td>\n",
       "      <td>2020.0</td>\n",
       "      <td>...</td>\n",
       "      <td>52.500170</td>\n",
       "      <td>5.748082</td>\n",
       "      <td>0.0</td>\n",
       "      <td>Flevoland</td>\n",
       "      <td>min</td>\n",
       "      <td>7410</td>\n",
       "      <td>True</td>\n",
       "      <td>0.0000</td>\n",
       "      <td>0.000</td>\n",
       "      <td>27.0</td>\n",
       "    </tr>\n",
       "    <tr>\n",
       "      <th>1</th>\n",
       "      <td>RT @Dirk_Lauwers: Visie van collega @KBoussauw...</td>\n",
       "      <td>RT @Dirk_Lauwers: Vision @KBoussauw colleagues...</td>\n",
       "      <td>Thu Jul 02 06:47:54 +0000 2020</td>\n",
       "      <td>KarelBrits</td>\n",
       "      <td>If people are not laughing at your goals, your...</td>\n",
       "      <td>If people are not laughing at your goals, your...</td>\n",
       "      <td>Dendermonde, Belgium</td>\n",
       "      <td>3.0</td>\n",
       "      <td>7.0</td>\n",
       "      <td>2020.0</td>\n",
       "      <td>...</td>\n",
       "      <td>51.031229</td>\n",
       "      <td>4.098112</td>\n",
       "      <td>0.0</td>\n",
       "      <td>False</td>\n",
       "      <td>NaN</td>\n",
       "      <td>NaN</td>\n",
       "      <td>False</td>\n",
       "      <td>0.3000</td>\n",
       "      <td>0.500</td>\n",
       "      <td>27.0</td>\n",
       "    </tr>\n",
       "    <tr>\n",
       "      <th>2</th>\n",
       "      <td>夏は、甘いのが人気！\\n　　　　#stay home\\nブ\\n　 ラ\\n　 ッ\\n　 　 ク...</td>\n",
       "      <td>Summer, sweet popular!\\n#stay home\\nBreakfast\\...</td>\n",
       "      <td>Thu Jul 02 06:47:55 +0000 2020</td>\n",
       "      <td>BlackDe74164200</td>\n",
       "      <td>Black Devil 👿再び降臨‼️ 「BLACK DEVIL（ブラックデビル）」は、🇳🇱...</td>\n",
       "      <td>Black Devil 👿 again descended! ️ \"BLACK DEVIL ...</td>\n",
       "      <td>The Netherlands</td>\n",
       "      <td>3.0</td>\n",
       "      <td>7.0</td>\n",
       "      <td>2020.0</td>\n",
       "      <td>...</td>\n",
       "      <td>52.500170</td>\n",
       "      <td>5.748082</td>\n",
       "      <td>0.0</td>\n",
       "      <td>Flevoland</td>\n",
       "      <td>NaN</td>\n",
       "      <td>NaN</td>\n",
       "      <td>False</td>\n",
       "      <td>0.0000</td>\n",
       "      <td>0.000</td>\n",
       "      <td>27.0</td>\n",
       "    </tr>\n",
       "    <tr>\n",
       "      <th>3</th>\n",
       "      <td>Corona, het mooiste excuus om ons elke nog tas...</td>\n",
       "      <td>Corona, the best excuse to take us any more ta...</td>\n",
       "      <td>Tue Jun 30 15:28:28 +0000 2020</td>\n",
       "      <td>Chasidiyah</td>\n",
       "      <td>Je weet nooit wat je voor n ander betekent. Li...</td>\n",
       "      <td>You never know what you mean to one another. I...</td>\n",
       "      <td>Ontheemd valt wel mee op Texel</td>\n",
       "      <td>1.0</td>\n",
       "      <td>6.0</td>\n",
       "      <td>2020.0</td>\n",
       "      <td>...</td>\n",
       "      <td>NaN</td>\n",
       "      <td>NaN</td>\n",
       "      <td>NaN</td>\n",
       "      <td>False</td>\n",
       "      <td>dienst</td>\n",
       "      <td>55220</td>\n",
       "      <td>True</td>\n",
       "      <td>0.0625</td>\n",
       "      <td>0.275</td>\n",
       "      <td>27.0</td>\n",
       "    </tr>\n",
       "    <tr>\n",
       "      <th>4</th>\n",
       "      <td>@mevrouwadvocaat De Chinesetomatensoep wordt d...</td>\n",
       "      <td>@mevrouwadvocaat Chinese Tomato caught twice. ...</td>\n",
       "      <td>Sat Feb 08 15:00:53 +0000 2020</td>\n",
       "      <td>Glijn1</td>\n",
       "      <td>Zoon van de ouwe Glijn en trotse vader van Gli...</td>\n",
       "      <td>Son of the old Glijn and proud father of Glijn...</td>\n",
       "      <td>NaN</td>\n",
       "      <td>5.0</td>\n",
       "      <td>2.0</td>\n",
       "      <td>2020.0</td>\n",
       "      <td>...</td>\n",
       "      <td>NaN</td>\n",
       "      <td>NaN</td>\n",
       "      <td>0.0</td>\n",
       "      <td>False</td>\n",
       "      <td>advocaat</td>\n",
       "      <td>12110</td>\n",
       "      <td>True</td>\n",
       "      <td>0.0000</td>\n",
       "      <td>0.000</td>\n",
       "      <td>6.0</td>\n",
       "    </tr>\n",
       "  </tbody>\n",
       "</table>\n",
       "<p>5 rows × 23 columns</p>\n",
       "</div>"
      ],
      "text/plain": [
       "                                           full_text  \\\n",
       "0  RT @chrisilluminati: Much like the pandemic, t...   \n",
       "1  RT @Dirk_Lauwers: Visie van collega @KBoussauw...   \n",
       "2  夏は、甘いのが人気！\\n　　　　#stay home\\nブ\\n　 ラ\\n　 ッ\\n　 　 ク...   \n",
       "3  Corona, het mooiste excuus om ons elke nog tas...   \n",
       "4  @mevrouwadvocaat De Chinesetomatensoep wordt d...   \n",
       "\n",
       "                                    text Translation  \\\n",
       "0  RT @chrisilluminati: Much like the pandemic, t...   \n",
       "1  RT @Dirk_Lauwers: Vision @KBoussauw colleagues...   \n",
       "2  Summer, sweet popular!\\n#stay home\\nBreakfast\\...   \n",
       "3  Corona, the best excuse to take us any more ta...   \n",
       "4  @mevrouwadvocaat Chinese Tomato caught twice. ...   \n",
       "\n",
       "                       created_at      screen_name  \\\n",
       "0  Tue Jun 30 15:28:25 +0000 2020         hejost67   \n",
       "1  Thu Jul 02 06:47:54 +0000 2020       KarelBrits   \n",
       "2  Thu Jul 02 06:47:55 +0000 2020  BlackDe74164200   \n",
       "3  Tue Jun 30 15:28:28 +0000 2020       Chasidiyah   \n",
       "4  Sat Feb 08 15:00:53 +0000 2020           Glijn1   \n",
       "\n",
       "                                         description  \\\n",
       "0                   Sports, nature, climate, food...   \n",
       "1  If people are not laughing at your goals, your...   \n",
       "2  Black Devil 👿再び降臨‼️ 「BLACK DEVIL（ブラックデビル）」は、🇳🇱...   \n",
       "3  Je weet nooit wat je voor n ander betekent. Li...   \n",
       "4  Zoon van de ouwe Glijn en trotse vader van Gli...   \n",
       "\n",
       "                                    desc Translation  \\\n",
       "0                  Sports, nature, climate, food ...   \n",
       "1  If people are not laughing at your goals, your...   \n",
       "2  Black Devil 👿 again descended! ️ \"BLACK DEVIL ...   \n",
       "3  You never know what you mean to one another. I...   \n",
       "4  Son of the old Glijn and proud father of Glijn...   \n",
       "\n",
       "                         location  Weekday  Month    Year  ...   latitude  \\\n",
       "0                 The netherlands      1.0    6.0  2020.0  ...  52.500170   \n",
       "1            Dendermonde, Belgium      3.0    7.0  2020.0  ...  51.031229   \n",
       "2                 The Netherlands      3.0    7.0  2020.0  ...  52.500170   \n",
       "3  Ontheemd valt wel mee op Texel      1.0    6.0  2020.0  ...        NaN   \n",
       "4                             NaN      5.0    2.0  2020.0  ...        NaN   \n",
       "\n",
       "  longitude altitude   Province  hisco_standard  hisco_code Industry  \\\n",
       "0  5.748082      0.0  Flevoland             min        7410     True   \n",
       "1  4.098112      0.0      False             NaN         NaN    False   \n",
       "2  5.748082      0.0  Flevoland             NaN         NaN    False   \n",
       "3       NaN      NaN      False          dienst       55220     True   \n",
       "4       NaN      0.0      False        advocaat       12110     True   \n",
       "\n",
       "  Sentiment_pattern.nl Subjective_pattern.nl  weekOfYear  \n",
       "0               0.0000                 0.000        27.0  \n",
       "1               0.3000                 0.500        27.0  \n",
       "2               0.0000                 0.000        27.0  \n",
       "3               0.0625                 0.275        27.0  \n",
       "4               0.0000                 0.000         6.0  \n",
       "\n",
       "[5 rows x 23 columns]"
      ]
     },
     "execution_count": 40,
     "metadata": {},
     "output_type": "execute_result"
    }
   ],
   "source": [
    "dutch_tweet.head()"
   ]
  },
  {
   "cell_type": "code",
   "execution_count": 62,
   "metadata": {},
   "outputs": [
    {
     "name": "stdout",
     "output_type": "stream",
     "text": [
      "Processing file:  /home/ubuntu/dutch_tweets_chunk8.xlsx\n",
      "Processing file:  /home/ubuntu/dutch_tweets_chunk4.xlsx\n",
      "CPU times: user 42.2 s, sys: 347 ms, total: 42.5 s\n",
      "Wall time: 45.3 s\n"
     ]
    }
   ],
   "source": [
    "%%time\n",
    "for filen in file[8:]:\n",
    "    print(\"Processing file: \", filen)\n",
    "    dutch_tweet = pd.read_excel(filen)\n",
    "    \n",
    "    dutch_tweet['weekOfYear'] = dutch_tweet['created_at'].apply(lambda x: datetime.datetime.strptime(x, '%a %b %d %H:%M:%S %z %Y').isocalendar()[1] if (isinstance(x, str) and '2020' in x) else None)\n",
    "    \n",
    "#     print(\"None values: \")\n",
    "#     print(dutch_tweet.isnull().sum())\n",
    "#     \n",
    "    \n",
    "    dutch_tweet.columns = ['full_text', 'text_translation', 'created_at', 'screen_name',\n",
    "       'description', 'desc_translation', 'location', 'weekday', 'month', 'year', \n",
    "        'day', 'point_info', 'point', 'latitude', 'longitude', 'altitude', 'province', \n",
    "        'hisco_standard', 'hisco_code', 'industry', 'sentiment_pattern', 'subjective_pattern', 'weekofyear']\n",
    "    \n",
    "    dutch_tweet = dutch_tweet[['full_text', 'text_translation', 'created_at', 'screen_name',\n",
    "       'description', 'desc_translation', 'location', 'weekofyear', 'weekday', 'month', 'year', \n",
    "        'day', 'point_info', 'point', 'latitude', 'longitude', 'altitude', 'province', \n",
    "        'hisco_standard', 'hisco_code', 'industry', 'sentiment_pattern', 'subjective_pattern']]\n",
    "    dutch_tweet.to_excel(filen, index=False)\n",
    "    \n",
    "    result = dutch_tweet.to_json(orient=\"records\")\n",
    "    parsed = json.loads(result)\n",
    "    \n",
    "    file_comp = filen.split('/')\n",
    "    file_comp[-1] = 'dutch-tweets'\n",
    "    file_comp.append(file_comp[-1][:-4] + 'json')\n",
    "    json_filename = \"/\".join(file_comp)\n",
    "    \n",
    "    with open(json_filename, 'w') as outfile:\n",
    "        json.dump(parsed, outfile)"
   ]
  },
  {
   "cell_type": "code",
   "execution_count": 61,
   "metadata": {},
   "outputs": [
    {
     "data": {
      "text/plain": [
       "['/home/ubuntu/dutch_tweets_chunk8.xlsx',\n",
       " '/home/ubuntu/dutch_tweets_chunk4.xlsx']"
      ]
     },
     "execution_count": 61,
     "metadata": {},
     "output_type": "execute_result"
    }
   ],
   "source": [
    "file[8:]"
   ]
  },
  {
   "cell_type": "code",
   "execution_count": 85,
   "metadata": {},
   "outputs": [],
   "source": [
    "# Following files could not be processed chunk7 & chunk9 \n",
    "# working on it with single files\n",
    "filen = '/home/ubuntu/dutch_tweets_chunk9.xlsx'\n",
    "dutch_tweet = pd.read_excel(filen)"
   ]
  },
  {
   "cell_type": "code",
   "execution_count": 86,
   "metadata": {},
   "outputs": [],
   "source": [
    "dutch_tweet['weekOfYear'] = dutch_tweet['created_at'].apply(lambda x: datetime.datetime.strptime(x, '%a %b %d %H:%M:%S %z %Y').isocalendar()[1] if (isinstance(x, str) and '2020' in x) else None)\n",
    "dutch_tweet['day'] = dutch_tweet['created_at'].apply(lambda x: datetime.datetime.strptime(x, '%a %b %d %H:%M:%S %z %Y').day if (isinstance(x, str) and '2020' in x) else None)\n"
   ]
  },
  {
   "cell_type": "code",
   "execution_count": 87,
   "metadata": {},
   "outputs": [
    {
     "data": {
      "text/plain": [
       "Index(['full_text', 'text Translation', 'created_at', 'screen_name',\n",
       "       'description', 'desc Translation', 'location', 'Weekday', 'Month',\n",
       "       'Year', 'point_info', 'point', 'latitude', 'longitude', 'altitude',\n",
       "       'Province', 'hisco_standard', 'hisco_code', 'Industry',\n",
       "       'Sentiment_pattern.nl', 'Subjective_pattern.nl', 'weekOfYear', 'day'],\n",
       "      dtype='object')"
      ]
     },
     "execution_count": 87,
     "metadata": {},
     "output_type": "execute_result"
    }
   ],
   "source": [
    "dutch_tweet.columns"
   ]
  },
  {
   "cell_type": "code",
   "execution_count": 88,
   "metadata": {},
   "outputs": [],
   "source": [
    "dutch_tweet.columns = ['full_text', 'text_translation', 'created_at', 'screen_name',\n",
    "       'description', 'desc_translation', 'location', 'weekday', 'month', 'year', \n",
    "        'point_info', 'point', 'latitude', 'longitude', 'altitude', 'province', \n",
    "        'hisco_standard', 'hisco_code', 'industry', 'sentiment_pattern', 'subjective_pattern', 'weekofyear', 'day']\n",
    "\n",
    "dutch_tweet = dutch_tweet[['full_text', 'text_translation', 'created_at', 'screen_name',\n",
    "       'description', 'desc_translation', 'location', 'weekofyear', 'weekday', 'month', 'year', \n",
    "        'day', 'point_info', 'point', 'latitude', 'longitude', 'altitude', 'province', \n",
    "        'hisco_standard', 'hisco_code', 'industry', 'sentiment_pattern', 'subjective_pattern']]\n",
    "dutch_tweet.to_excel(filen, index=False)"
   ]
  },
  {
   "cell_type": "code",
   "execution_count": null,
   "metadata": {},
   "outputs": [],
   "source": [
    "result = dutch_tweet.to_json(orient=\"records\")\n",
    "parsed = json.loads(result)\n",
    "    \n",
    "file_comp = filen.split('/')\n",
    "file_comp[-1] = 'dutch-tweets'\n",
    "file_comp.append(file_comp[-1][:-4] + 'json')\n",
    "json_filename = \"/\".join(file_comp)\n",
    "    \n",
    "with open(json_filename, 'w') as outfile:\n",
    "    json.dump(parsed, outfile)"
   ]
  },
  {
   "cell_type": "code",
   "execution_count": 89,
   "metadata": {},
   "outputs": [],
   "source": [
    "colnames= dutch_tweet.columns "
   ]
  },
  {
   "cell_type": "code",
   "execution_count": 91,
   "metadata": {},
   "outputs": [
    {
     "data": {
      "text/plain": [
       "'full_text'"
      ]
     },
     "execution_count": 91,
     "metadata": {},
     "output_type": "execute_result"
    }
   ],
   "source": [
    "colnames[0].lower().replace(\" \", \"_\")"
   ]
  },
  {
   "cell_type": "code",
   "execution_count": 92,
   "metadata": {},
   "outputs": [
    {
     "data": {
      "text/plain": [
       "['full_text',\n",
       " 'text_translation',\n",
       " 'created_at',\n",
       " 'screen_name',\n",
       " 'description',\n",
       " 'desc_translation',\n",
       " 'location',\n",
       " 'weekofyear',\n",
       " 'weekday',\n",
       " 'month',\n",
       " 'year',\n",
       " 'day',\n",
       " 'point_info',\n",
       " 'point',\n",
       " 'latitude',\n",
       " 'longitude',\n",
       " 'altitude',\n",
       " 'province',\n",
       " 'hisco_standard',\n",
       " 'hisco_code',\n",
       " 'industry',\n",
       " 'sentiment_pattern',\n",
       " 'subjective_pattern']"
      ]
     },
     "execution_count": 92,
     "metadata": {},
     "output_type": "execute_result"
    }
   ],
   "source": [
    "\n",
    "\n",
    "colnames"
   ]
  },
  {
   "cell_type": "code",
   "execution_count": null,
   "metadata": {},
   "outputs": [],
   "source": []
  }
 ],
 "metadata": {
  "kernelspec": {
   "display_name": "Python 3",
   "language": "python",
   "name": "python3"
  },
  "language_info": {
   "codemirror_mode": {
    "name": "ipython",
    "version": 3
   },
   "file_extension": ".py",
   "mimetype": "text/x-python",
   "name": "python",
   "nbconvert_exporter": "python",
   "pygments_lexer": "ipython3",
   "version": "3.7.6"
  }
 },
 "nbformat": 4,
 "nbformat_minor": 4
}
