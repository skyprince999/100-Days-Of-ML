{
 "cells": [
  {
   "cell_type": "code",
   "execution_count": 1,
   "metadata": {},
   "outputs": [],
   "source": [
    "import os\n",
    "import io\n",
    "import json\n",
    "\n",
    "import pandas as pd\n",
    "import numpy as np\n",
    "\n",
    "import os\n",
    "import sys\n",
    "\n",
    "sys.path.append(\"./hugging/lib/python3.7/site-packages\")\n",
    "#sys.path.append(\"./datasets/lib/python3.7/site-packages\")\n",
    "\n",
    "from datasets import load_dataset"
   ]
  },
  {
   "cell_type": "code",
   "execution_count": 10,
   "metadata": {},
   "outputs": [
    {
     "name": "stdout",
     "output_type": "stream",
     "text": [
      "Downloading and preparing dataset humicroedit/subtask-2 (download: 1.55 MiB, generated: 3.58 MiB, post-processed: Unknown size, total: 5.13 MiB) to /home/ubuntu/.cache/huggingface/datasets/humicroedit/subtask-2/0.0.0/3152f04eee119d9ea13e781570acb161910fb023ba40e43d0df66c0629e93337...\n"
     ]
    },
    {
     "data": {
      "application/vnd.jupyter.widget-view+json": {
       "model_id": "",
       "version_major": 2,
       "version_minor": 0
      },
      "text/plain": [
       "HBox(children=(FloatProgress(value=1.0, bar_style='info', max=1.0), HTML(value='')))"
      ]
     },
     "metadata": {},
     "output_type": "display_data"
    },
    {
     "data": {
      "application/vnd.jupyter.widget-view+json": {
       "model_id": "",
       "version_major": 2,
       "version_minor": 0
      },
      "text/plain": [
       "HBox(children=(FloatProgress(value=1.0, bar_style='info', max=1.0), HTML(value='')))"
      ]
     },
     "metadata": {},
     "output_type": "display_data"
    },
    {
     "data": {
      "application/vnd.jupyter.widget-view+json": {
       "model_id": "",
       "version_major": 2,
       "version_minor": 0
      },
      "text/plain": [
       "HBox(children=(FloatProgress(value=1.0, bar_style='info', max=1.0), HTML(value='')))"
      ]
     },
     "metadata": {},
     "output_type": "display_data"
    },
    {
     "data": {
      "application/vnd.jupyter.widget-view+json": {
       "model_id": "",
       "version_major": 2,
       "version_minor": 0
      },
      "text/plain": [
       "HBox(children=(FloatProgress(value=1.0, bar_style='info', max=1.0), HTML(value='')))"
      ]
     },
     "metadata": {},
     "output_type": "display_data"
    },
    {
     "name": "stdout",
     "output_type": "stream",
     "text": [
      "Dataset humicroedit downloaded and prepared to /home/ubuntu/.cache/huggingface/datasets/humicroedit/subtask-2/0.0.0/3152f04eee119d9ea13e781570acb161910fb023ba40e43d0df66c0629e93337. Subsequent calls will reuse this data.\n"
     ]
    }
   ],
   "source": [
    "dataset = load_dataset('./review/datasets/datasets/humicroedit', \"subtask-2\")"
   ]
  },
  {
   "cell_type": "code",
   "execution_count": 11,
   "metadata": {},
   "outputs": [
    {
     "data": {
      "text/plain": [
       "DatasetDict({\n",
       "    train: Dataset({\n",
       "        features: ['id', 'original1', 'edit1', 'grades1', 'meanGrade1', 'original2', 'edit2', 'grades2', 'meanGrade2', 'label'],\n",
       "        num_rows: 9381\n",
       "    })\n",
       "    test: Dataset({\n",
       "        features: ['id', 'original1', 'edit1', 'grades1', 'meanGrade1', 'original2', 'edit2', 'grades2', 'meanGrade2', 'label'],\n",
       "        num_rows: 2960\n",
       "    })\n",
       "    validation: Dataset({\n",
       "        features: ['id', 'original1', 'edit1', 'grades1', 'meanGrade1', 'original2', 'edit2', 'grades2', 'meanGrade2', 'label'],\n",
       "        num_rows: 2355\n",
       "    })\n",
       "    funlines: Dataset({\n",
       "        features: ['id', 'original1', 'edit1', 'grades1', 'meanGrade1', 'original2', 'edit2', 'grades2', 'meanGrade2', 'label'],\n",
       "        num_rows: 1958\n",
       "    })\n",
       "})"
      ]
     },
     "execution_count": 11,
     "metadata": {},
     "output_type": "execute_result"
    }
   ],
   "source": [
    "dataset"
   ]
  },
  {
   "cell_type": "code",
   "execution_count": null,
   "metadata": {},
   "outputs": [],
   "source": []
  }
 ],
 "metadata": {
  "kernelspec": {
   "display_name": "Environment (conda_pytorch_p36)",
   "language": "python",
   "name": "conda_pytorch_p36"
  },
  "language_info": {
   "codemirror_mode": {
    "name": "ipython",
    "version": 3
   },
   "file_extension": ".py",
   "mimetype": "text/x-python",
   "name": "python",
   "nbconvert_exporter": "python",
   "pygments_lexer": "ipython3",
   "version": "3.6.10"
  }
 },
 "nbformat": 4,
 "nbformat_minor": 4
}
