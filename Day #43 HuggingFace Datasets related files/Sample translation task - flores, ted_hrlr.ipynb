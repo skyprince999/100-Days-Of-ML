{
 "cells": [
  {
   "cell_type": "code",
   "execution_count": 2,
   "metadata": {},
   "outputs": [
    {
     "name": "stdout",
     "output_type": "stream",
     "text": [
      "Downloading and preparing dataset flores/neen (download: 1.47 MiB, generated: 1.77 MiB, post-processed: Unknown size, total: 3.24 MiB) to /home/ubuntu/.cache/huggingface/datasets/flores/neen/1.1.0/c935ad2fc1d0e7b23fb6024d5812cff96ed06aa3c20686a0b34b772039cd667f...\n"
     ]
    },
    {
     "data": {
      "application/vnd.jupyter.widget-view+json": {
       "model_id": "1d1f0250c8e248029130b6d5a237c411",
       "version_major": 2,
       "version_minor": 0
      },
      "text/plain": [
       "HBox(children=(FloatProgress(value=0.0, description='Downloading', max=1542781.0, style=ProgressStyle(descript…"
      ]
     },
     "metadata": {},
     "output_type": "display_data"
    },
    {
     "name": "stdout",
     "output_type": "stream",
     "text": [
      "\n"
     ]
    },
    {
     "data": {
      "application/vnd.jupyter.widget-view+json": {
       "model_id": "",
       "version_major": 2,
       "version_minor": 0
      },
      "text/plain": [
       "HBox(children=(FloatProgress(value=1.0, bar_style='info', max=1.0), HTML(value='')))"
      ]
     },
     "metadata": {},
     "output_type": "display_data"
    },
    {
     "name": "stdout",
     "output_type": "stream",
     "text": [
      "\r"
     ]
    },
    {
     "data": {
      "application/vnd.jupyter.widget-view+json": {
       "model_id": "",
       "version_major": 2,
       "version_minor": 0
      },
      "text/plain": [
       "HBox(children=(FloatProgress(value=1.0, bar_style='info', max=1.0), HTML(value='')))"
      ]
     },
     "metadata": {},
     "output_type": "display_data"
    },
    {
     "name": "stdout",
     "output_type": "stream",
     "text": [
      "\r",
      "Dataset flores downloaded and prepared to /home/ubuntu/.cache/huggingface/datasets/flores/neen/1.1.0/c935ad2fc1d0e7b23fb6024d5812cff96ed06aa3c20686a0b34b772039cd667f. Subsequent calls will reuse this data.\n"
     ]
    },
    {
     "data": {
      "text/plain": [
       "DatasetDict({\n",
       "    validation: Dataset({\n",
       "        features: ['translation'],\n",
       "        num_rows: 2560\n",
       "    })\n",
       "    test: Dataset({\n",
       "        features: ['translation'],\n",
       "        num_rows: 2836\n",
       "    })\n",
       "})"
      ]
     },
     "execution_count": 2,
     "metadata": {},
     "output_type": "execute_result"
    }
   ],
   "source": [
    "from datasets import load_dataset\n",
    "\n",
    "dataset = load_dataset('flores', 'neen')\n",
    "\n",
    "dataset"
   ]
  },
  {
   "cell_type": "code",
   "execution_count": 4,
   "metadata": {},
   "outputs": [
    {
     "data": {
      "text/plain": [
       "{'translation': {'en': \"Putin has his own bike rider gang names 'Night Wolves'.\",\n",
       "  'ne': \"पुटिनको आफ्नै 'नाइट उल्भ्स' नामको बाइक राइडर ग्याङ पनि छ ।\"}}"
      ]
     },
     "execution_count": 4,
     "metadata": {},
     "output_type": "execute_result"
    }
   ],
   "source": [
    "dataset['validation'][0]"
   ]
  },
  {
   "cell_type": "code",
   "execution_count": 6,
   "metadata": {},
   "outputs": [
    {
     "name": "stdout",
     "output_type": "stream",
     "text": [
      "Downloading and preparing dataset ted_hrlr/az_to_en (download: 124.94 MiB, generated: 1.46 MiB, post-processed: Unknown size, total: 126.40 MiB) to /home/ubuntu/.cache/huggingface/datasets/ted_hrlr/az_to_en/1.0.0/6a3461c5a431658035e38e90e4bd1840803e6c1f6e949761d14b8b48fcbbbe6b...\n"
     ]
    },
    {
     "data": {
      "application/vnd.jupyter.widget-view+json": {
       "model_id": "a485e8b6f24446aab9ff961fb42990cf",
       "version_major": 2,
       "version_minor": 0
      },
      "text/plain": [
       "HBox(children=(FloatProgress(value=0.0, description='Downloading', max=131005909.0, style=ProgressStyle(descri…"
      ]
     },
     "metadata": {},
     "output_type": "display_data"
    },
    {
     "name": "stdout",
     "output_type": "stream",
     "text": [
      "\n"
     ]
    },
    {
     "data": {
      "application/vnd.jupyter.widget-view+json": {
       "model_id": "",
       "version_major": 2,
       "version_minor": 0
      },
      "text/plain": [
       "HBox(children=(FloatProgress(value=1.0, bar_style='info', max=1.0), HTML(value='')))"
      ]
     },
     "metadata": {},
     "output_type": "display_data"
    },
    {
     "name": "stdout",
     "output_type": "stream",
     "text": [
      "\r"
     ]
    },
    {
     "data": {
      "application/vnd.jupyter.widget-view+json": {
       "model_id": "",
       "version_major": 2,
       "version_minor": 0
      },
      "text/plain": [
       "HBox(children=(FloatProgress(value=1.0, bar_style='info', max=1.0), HTML(value='')))"
      ]
     },
     "metadata": {},
     "output_type": "display_data"
    },
    {
     "name": "stdout",
     "output_type": "stream",
     "text": [
      "\r"
     ]
    },
    {
     "data": {
      "application/vnd.jupyter.widget-view+json": {
       "model_id": "",
       "version_major": 2,
       "version_minor": 0
      },
      "text/plain": [
       "HBox(children=(FloatProgress(value=1.0, bar_style='info', max=1.0), HTML(value='')))"
      ]
     },
     "metadata": {},
     "output_type": "display_data"
    },
    {
     "name": "stdout",
     "output_type": "stream",
     "text": [
      "\r",
      "Dataset ted_hrlr downloaded and prepared to /home/ubuntu/.cache/huggingface/datasets/ted_hrlr/az_to_en/1.0.0/6a3461c5a431658035e38e90e4bd1840803e6c1f6e949761d14b8b48fcbbbe6b. Subsequent calls will reuse this data.\n"
     ]
    }
   ],
   "source": [
    "dataset_ted_hrlr = load_dataset('ted_hrlr', 'az_to_en')"
   ]
  },
  {
   "cell_type": "code",
   "execution_count": 7,
   "metadata": {},
   "outputs": [
    {
     "data": {
      "text/plain": [
       "DatasetDict({\n",
       "    train: Dataset({\n",
       "        features: ['translation'],\n",
       "        num_rows: 5947\n",
       "    })\n",
       "    validation: Dataset({\n",
       "        features: ['translation'],\n",
       "        num_rows: 672\n",
       "    })\n",
       "    test: Dataset({\n",
       "        features: ['translation'],\n",
       "        num_rows: 904\n",
       "    })\n",
       "})"
      ]
     },
     "execution_count": 7,
     "metadata": {},
     "output_type": "execute_result"
    }
   ],
   "source": [
    "dataset_ted_hrlr"
   ]
  },
  {
   "cell_type": "code",
   "execution_count": 8,
   "metadata": {},
   "outputs": [
    {
     "data": {
      "text/plain": [
       "{'translation': {'az': 'zəhmət olmasa , sizə xitab edən sözlər eşidəndə əlinizi qaldırın .',\n",
       "  'en': 'please raise your hand if something applies to you .'}}"
      ]
     },
     "execution_count": 8,
     "metadata": {},
     "output_type": "execute_result"
    }
   ],
   "source": [
    "dataset_ted_hrlr['train'][0]"
   ]
  },
  {
   "cell_type": "code",
   "execution_count": 11,
   "metadata": {},
   "outputs": [],
   "source": [
    "# This requires local downloads (manual download)\n",
    "#dataset_ted_iwlst2013 = load_dataset('ted_iwlst2013', 'en-es')"
   ]
  },
  {
   "cell_type": "code",
   "execution_count": 12,
   "metadata": {},
   "outputs": [
    {
     "data": {
      "application/vnd.jupyter.widget-view+json": {
       "model_id": "ab0f285f79514610b109460791266fc6",
       "version_major": 2,
       "version_minor": 0
      },
      "text/plain": [
       "HBox(children=(FloatProgress(value=0.0, description='Downloading', max=2346.0, style=ProgressStyle(description…"
      ]
     },
     "metadata": {},
     "output_type": "display_data"
    },
    {
     "name": "stdout",
     "output_type": "stream",
     "text": [
      "\n"
     ]
    },
    {
     "data": {
      "application/vnd.jupyter.widget-view+json": {
       "model_id": "52708695dbe249728a2500b782e4a2c5",
       "version_major": 2,
       "version_minor": 0
      },
      "text/plain": [
       "HBox(children=(FloatProgress(value=0.0, description='Downloading', max=1526.0, style=ProgressStyle(description…"
      ]
     },
     "metadata": {},
     "output_type": "display_data"
    },
    {
     "name": "stdout",
     "output_type": "stream",
     "text": [
      "\n",
      "Downloading and preparing dataset ted_multi_translate/plain_text (download: 335.91 MiB, generated: 754.37 MiB, post-processed: Unknown size, total: 1.06 GiB) to /home/ubuntu/.cache/huggingface/datasets/ted_multi_translate/plain_text/1.0.0/7a971d7e0a0ff960e3670bdfd8cdcfc1f5a54d8794fac77e87b150e80b5c7794...\n"
     ]
    },
    {
     "data": {
      "application/vnd.jupyter.widget-view+json": {
       "model_id": "1ee358e6626841c5b9d288b068ed824a",
       "version_major": 2,
       "version_minor": 0
      },
      "text/plain": [
       "HBox(children=(FloatProgress(value=0.0, description='Downloading', max=352222045.0, style=ProgressStyle(descri…"
      ]
     },
     "metadata": {},
     "output_type": "display_data"
    },
    {
     "name": "stdout",
     "output_type": "stream",
     "text": [
      "\n"
     ]
    },
    {
     "data": {
      "application/vnd.jupyter.widget-view+json": {
       "model_id": "",
       "version_major": 2,
       "version_minor": 0
      },
      "text/plain": [
       "HBox(children=(FloatProgress(value=1.0, bar_style='info', max=1.0), HTML(value='')))"
      ]
     },
     "metadata": {},
     "output_type": "display_data"
    },
    {
     "name": "stdout",
     "output_type": "stream",
     "text": [
      "\r"
     ]
    },
    {
     "data": {
      "application/vnd.jupyter.widget-view+json": {
       "model_id": "",
       "version_major": 2,
       "version_minor": 0
      },
      "text/plain": [
       "HBox(children=(FloatProgress(value=1.0, bar_style='info', max=1.0), HTML(value='')))"
      ]
     },
     "metadata": {},
     "output_type": "display_data"
    },
    {
     "name": "stdout",
     "output_type": "stream",
     "text": [
      "\r"
     ]
    },
    {
     "data": {
      "application/vnd.jupyter.widget-view+json": {
       "model_id": "",
       "version_major": 2,
       "version_minor": 0
      },
      "text/plain": [
       "HBox(children=(FloatProgress(value=1.0, bar_style='info', max=1.0), HTML(value='')))"
      ]
     },
     "metadata": {},
     "output_type": "display_data"
    },
    {
     "name": "stdout",
     "output_type": "stream",
     "text": [
      "\r",
      "Dataset ted_multi_translate downloaded and prepared to /home/ubuntu/.cache/huggingface/datasets/ted_multi_translate/plain_text/1.0.0/7a971d7e0a0ff960e3670bdfd8cdcfc1f5a54d8794fac77e87b150e80b5c7794. Subsequent calls will reuse this data.\n"
     ]
    }
   ],
   "source": [
    "dataset_multi = load_dataset('ted_multi')"
   ]
  },
  {
   "cell_type": "code",
   "execution_count": 13,
   "metadata": {},
   "outputs": [
    {
     "data": {
      "text/plain": [
       "DatasetDict({\n",
       "    train: Dataset({\n",
       "        features: ['translations', 'talk_name'],\n",
       "        num_rows: 258098\n",
       "    })\n",
       "    validation: Dataset({\n",
       "        features: ['translations', 'talk_name'],\n",
       "        num_rows: 6049\n",
       "    })\n",
       "    test: Dataset({\n",
       "        features: ['translations', 'talk_name'],\n",
       "        num_rows: 7213\n",
       "    })\n",
       "})"
      ]
     },
     "execution_count": 13,
     "metadata": {},
     "output_type": "execute_result"
    }
   ],
   "source": [
    "dataset_multi"
   ]
  },
  {
   "cell_type": "code",
   "execution_count": 14,
   "metadata": {},
   "outputs": [
    {
     "data": {
      "text/plain": [
       "{'talk_name': 'jonas_gahr_store_in_defense_of_dialogue',\n",
       " 'translations': {'language': ['ar',\n",
       "   'bg',\n",
       "   'de',\n",
       "   'el',\n",
       "   'en',\n",
       "   'es',\n",
       "   'eu',\n",
       "   'fa',\n",
       "   'fr',\n",
       "   'fr-ca',\n",
       "   'he',\n",
       "   'hr',\n",
       "   'hu',\n",
       "   'it',\n",
       "   'ja',\n",
       "   'ko',\n",
       "   'nb',\n",
       "   'nl',\n",
       "   'pl',\n",
       "   'pt',\n",
       "   'pt-br',\n",
       "   'ro',\n",
       "   'ru',\n",
       "   'sq',\n",
       "   'tr',\n",
       "   'vi',\n",
       "   'zh-cn',\n",
       "   'zh-tw'],\n",
       "  'translation': ['من ضمن جميع المثبطات المقلقة التي نعاني منها اليوم نفكر في المقام الاول في الامور المالية والاقتصادية واكثر ما يهمني بشكل اكثر هو عجز الحوار السياسي — قدرتنا على فهم الصراعات الحديثة على ماهي عليه , بالذهاب الى اصلها الفعلي وعلى فهم اللاعبين الرئيسيين وعلى التعامل معهم',\n",
       "   'Наред с всички обезпокоителни дефицити , с които се сблъскваме днес - ние основно мислим за финансовите и икономическите - този , който ме безпокои най-вече е липсата на политически диалог - нашата способност да подходим към съвременните конфликти както те присъстват , да стигнем до източника на това , от което те произтичат и да разберем ключовите участници и да се разберем с тях .',\n",
       "   'Unter den schwierigen Problemen , mit denen wir heutzutage ringen – wir denken hier in erster Linie an finanzielle und ökonomische Probleme – dasjenige , das mich am meisten beunruhigt , ist der Mangel an politischem Dialog : Unsere Fähigkeit , mit modernen Konflikten umzugehen , zur ihrer eigentlichen Quelle zu gehen , die Hauptakteure zu verstehen , und mit ihnen umzugehen .',\n",
       "   'Ανάμεσα σε όλα τα ανησυχητικά ελλείμματα που αντιμετωπίζουμε σήμερα - σκεφτόμαστε το πολιτικό και οικονομικό έλλειμμα αρχικά - αυτό που με ανησυχεί περισσότερο είναι το έλλειμμα του πολιτικού διαλόγου , η ικανότητά μας να αντιμετωπίσουμε σύγχρονες συγκρούσεις όπως είναι , να πάμε στην πηγή της αιτίας τους και να καταλάβουμε τους παίκτες-κλειδιά και να τους αντιμετωπίσουμε .',\n",
       "   'Amongst all the troubling deficits we struggle with today — we think of financial and economic primarily — the ones that concern me most is the deficit of political dialogue — our ability to address modern conflicts as they are , to go to the source of what they &apos;re all about and to understand the key players and to deal with them .',\n",
       "   'De todos los déficits preocupantes a los que nos enfrentamos hoy , pensamos principalmente en el financiero y en el económico . Pero el que más me preocupa es el déficit del diálogo político , nuestra capacidad para tratar conflictos modernos tal y como son , ir a la raíz de por qué existen y entender a los actores principales y tratar con ellos .',\n",
       "   'Gaur egun aurrean ditugun gabezia kezkagarri guztietatik , nagusiki finantza eta ekonomian pentsatzen dugu , ni gehien kezkatzen nauena elkarrizketa politiko falta da ordea . Gatazka modernoak direna bezala jorratzeko gaitasuna , gatazkaren errora iristea eta aktore nagusiak ulertzea eta haiekin tratatzea .',\n",
       "   'از میان همه کاستی های نگران کننده ای که امروزه با آنها درگیریم — بیشتر اوقات ذهنمان معطوف جنبه های مالی و اقتصادی است — آنچه مرا بیش از همه نگران می کند کمبود گفتگوی سیاسی است — یعنی توانایی ما در پرداختن به درگیری های مدرن آنگونه که هستند ، در ریشه یابی آنها و شناخت و درک بازیگران کلیدی و پرداختن به آنها .',\n",
       "   'Parmi tous les déficits inquiétants contre lesquels nous luttons aujourd&apos; hui — surtout en matière économique et financière — celui qui me préoccupe le plus est le déficit du dialogue politique — notre capacité à résoudre les conflits modernes tels qu&apos; ils sont , d&apos; aller à la source de ce qu&apos; ils sont et d&apos; identifier les principaux acteurs et de traiter avec eux .',\n",
       "   'Parmi tous les déficits que nous accusons aujourd &apos; hui , et même si l &apos; on pense qu &apos; ils sont surtout d &apos; ordre financier et économique , celui qui me préoccupe le plus , c &apos; est le déficit du dialogue politique ; C &apos; est-à-dire notre capacité à gérer les conflits modernes tels qu &apos; ils sont , de pouvoir comprendre leur source même et les acteurs clés qui les composent , pour ensuite s &apos; en occuper .',\n",
       "   'מתוך מכלול הגרעונות המציקים שעמם אנחנו מתמודדים היום אנחנו חושבים בראש וראשונה על הגרעון הפיננסי והכלכלי — הגרעון שמדאיג אותי יותר מכל הוא המחסור או ההעדר בדיאלוג פוליטי — שמשפיע על היכולת שלנו להתמודד עם סכסוכים מודרניים כמו שהם , לרדת לשורש העניין , להבין מי הם השחקנים העיקריים ולהתמודד איתם .',\n",
       "   'Među svim zabrinjavajućim problemima s kojima se danas susrećemo , tu prvenstveno mislimo na ekonomske i financijske , ali oni koji me najviše zabrinjavaju nedostatci su političkog dijaloga , naše sposobnosti da se nosimo s modernim sukobima kao takvima , da doprijemo do njihove biti i da shvatimo ključne igrače te da se s njima obračunamo .',\n",
       "   'Az összes aggasztó hiány közül , amikkel ma küszködünk — — elsősorban pénzügyi és a gazdasági hiányra gondolunk — engem leginkább a politikai párbeszéd hiánya aggaszt — azé a képességünké , hogy a modern konfliktusokat , annak vegyük , amik , hogy visszamenjünk az eredetükig , amiről valójában szólnak , és hogy megértsük a kulcsszereplőket és kezeljük őket .',\n",
       "   'Tra tutti i problematici disavanzi contro i quali combattiamo oggi — principalmente pensiamo a quelli finanziari o economici — quello che mi preoccupa maggiormente è il deficit del dialogo politico — la nostra capacità di indirizzarci ai conflitti moderni nel modo in cui sono , per andare alla fonte di ciò che riguardano , per capire chi sono i giocatori chiave e per trattare con loro .',\n",
       "   '我々が今日直面している 様々な機能不全のなかで — 財政や経済が最初に思いつきますが — 私が一番 憂慮しているのは 政治的対話の欠乏です 我々が 近年の紛争において 状況を把握し その根本原因を探り 中心人物を理解し 彼らと交渉をする能力です',\n",
       "   '오늘날 우리가 겪고 있는 문제를 야기하는 모든 결핍들 중에서 우리는 주로 재정과 경제를 생각합니다만 , 제가 가장 우려하는 것들은 정치적 대화의 결핍입니다 . 우리가 현대의 갈등들을 그 자체로서 논하고 , 그 갈등들이 진정 무엇에 관한것이었는지 그 근원을 알아보고 , 그 핵심 인물들을 이해하고 , 그리고 그들을 상대하는 능력말입니다 .',\n",
       "   'Blant alle de urovekkende manglene vi strever med i dag — vi tenker primært på finansielle og økonomiske — de som bekymrer meg mest er mangelen på politisk dialog — vår evne til å adressere moderne konflikter slik de er , å finne kilden for det de egentlig handler om og å forstå nøkkelspillerne og å forholde seg til dem .',\n",
       "   'Van al onze verontrustende tekorten tegenwoordig — als eerste denk je aan financiële en economische — is het meest belangrijke voor mij het tekort aan politieke dialoog : ons onvermogen met moderne conflicten om te gaan , naar de kern te gaan en de sleutelfiguren te begrijpen , en ze aan te pakken .',\n",
       "   'Wśród problemów z jakimi zmagamy się dziś , mamy na myśli przede wszystkim te finansowe i ekonomiczne . Problemem , który mnie interesuje najbardziej jest deficyt politycznego dialogu , brak umiejętności odniesienia się do współczesnych konfliktów , dotarcia do ich źródła i zrozumienia kim są ich kluczowi gracze i jak z nimi postępować .',\n",
       "   'Entre todas as grandes privações com que nos debatemos hoje — pensamos em financeiras e económicas primeiro — aquela que mais me preocupa é a falta de diálogo político — a nossa capacidade de abordar conflitos modernos como eles são , de ir à raiz do que eles são e perceber os agentes-chave e lidar com eles .',\n",
       "   'Entre todos os déficits preocupantes com que lidamos hoje — nós pensamos principalmente nos financeiros ou econômicos — o que me preocupa mais é a falta de diálogo político — nossa habilidade de lidar com os conflitos modernos como eles são , ir à fonte do que eles tratam , entender os atores chave e lidar com eles',\n",
       "   'Printre toate deficitele îngrijorătoare cu care ne luptăm azi — ne gândim la cele financiare şi economice în primul rând — cel care mă preocupă cel mai mult este deficitul dialogului politic — abilitatea noastră de a aborda conflictele moderne aşa cum se prezintă , de a ajunge la sursa care le provoacă să înţelegem jucătorii cheie şi să le facem faţă .',\n",
       "   'Среди всех дефицитов , беспокоящих нас сегодня — прежде всего финансового и экономического — меня больше всего волнует дефицит политического диалога : нашей способности реагировать на современные конфликты в их настоящем виде , осознавать , что лежит в их основе , кто является ключевыми игроками , и как с ними работать .',\n",
       "   'Midis gjithe problemeve me deficite ne luftojme me te sotmen — ne kryesisht mendojme per financa dhe ekonomi — per te cilat shqetsohemi me shume eshte deficiti i dialogu politike — aftesia jone per te adresuar konflikte moderne ashtu sic ato jane , për të shkuar tek burimi dhe per te kuptuar lojtaret kyç dhe te merremi me ta .',\n",
       "   'Günümüzde mücadele ettiğimiz bütün eksiklikler arasında — öncelikle finansal ve ekonomik olanları düşünüyoruz — beni en çok ilgilendireni politik diyalog eksikliği — modern çatışmaları oldukları haliyle irdeleme becerimiz , varoluş nedeninin kaynağına gitmek ve kilit oyuncuları anlamak ve onlarla anlaşmak .',\n",
       "   'Trong số tất cả những thâm hụt phiền phức mà chúng ta đang phải vật lộn để vượt qua — thường thì chúng ta chủ yếu nghĩ về tài chính và kinh tế — điều khiến tôi quan tâm nhất là sự thâm hụt trong đối thoại chính trị — khả năng chúng ta giải quyết các cuộc xung đột hiện đại đúng với bản chất của chúng , để đi tới nguồn gốc của vấn đề và để hiểu những nhân vật chủ chốt trong cuộc xung đột để có cách giải quyết với họ .',\n",
       "   '当今我们与之斗争的所有不足中 大家认为经济和金融缺陷是最紧要的 但最使我担忧的 是政治对话的不足 - 包括我们处理实际上的 现代冲突的能力 ， 追溯到这些冲突问题本源的能力 ， 以及理解关键人物 ， 并与他们沟通的能力 。',\n",
       "   '在所有今日世人仍然必需去努力實現的種種令人憂心的缺點之中 — - 我們認為金融和經濟是最根本主要的 — 但是我最關心的是 是政治上對話的不足 — 我們有能力應付現今的衝突 實際上就是 ， 找到事情發生的原因 了解關鍵人物 再和他們打交道 。']}}"
      ]
     },
     "execution_count": 14,
     "metadata": {},
     "output_type": "execute_result"
    }
   ],
   "source": [
    "dataset_multi['train'][0]"
   ]
  },
  {
   "cell_type": "code",
   "execution_count": null,
   "metadata": {},
   "outputs": [],
   "source": []
  }
 ],
 "metadata": {
  "kernelspec": {
   "display_name": "Environment (conda_pytorch_latest_p37)",
   "language": "python",
   "name": "conda_pytorch_latest_p37"
  },
  "language_info": {
   "codemirror_mode": {
    "name": "ipython",
    "version": 3
   },
   "file_extension": ".py",
   "mimetype": "text/x-python",
   "name": "python",
   "nbconvert_exporter": "python",
   "pygments_lexer": "ipython3",
   "version": "3.7.6"
  }
 },
 "nbformat": 4,
 "nbformat_minor": 4
}
