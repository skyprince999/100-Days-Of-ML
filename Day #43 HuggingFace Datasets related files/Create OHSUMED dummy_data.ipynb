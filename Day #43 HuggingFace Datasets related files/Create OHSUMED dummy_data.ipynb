{
 "cells": [
  {
   "cell_type": "code",
   "execution_count": 1,
   "metadata": {},
   "outputs": [],
   "source": [
    "import os\n",
    "import json\n",
    "\n",
    "import pandas as pd\n",
    "import numpy as np\n",
    "\n",
    "import random"
   ]
  },
  {
   "cell_type": "code",
   "execution_count": 4,
   "metadata": {},
   "outputs": [],
   "source": [
    "train_file = \"ohsumed-preprocessed/data/train.jsonl\"\n",
    "test_file = \"ohsumed-preprocessed/data/test.jsonl\" "
   ]
  },
  {
   "cell_type": "code",
   "execution_count": 5,
   "metadata": {},
   "outputs": [],
   "source": [
    "# filepath = \"datasets/dummy_data/ohsumed.zip/\"\n",
    "# os.listdir(filepath)"
   ]
  },
  {
   "cell_type": "code",
   "execution_count": 6,
   "metadata": {},
   "outputs": [
    {
     "name": "stdout",
     "output_type": "stream",
     "text": [
      "54710\n",
      "Writing to file ohsumed-preprocessed/dummy_data/ohsumed.zip/train.jsonl...\n"
     ]
    }
   ],
   "source": [
    "with open(train_file, encoding=\"utf-8\") as f:\n",
    "    abstracts = json.load(f)\n",
    "    print(len(abstracts))\n",
    "    abstracts_dummy = random.sample(abstracts, 2)\n",
    "    result = pd.DataFrame(abstracts_dummy).to_json(orient=\"records\")\n",
    "    parsed = json.loads(result)\n",
    "    filename = \"ohsumed-preprocessed/dummy_data/ohsumed.zip/train.jsonl\"\n",
    "    with open(filename, 'w') as outfile:\n",
    "        print(f\"Writing to file {filename}...\")\n",
    "        json.dump(parsed, outfile)\n",
    "    "
   ]
  },
  {
   "cell_type": "code",
   "execution_count": 7,
   "metadata": {},
   "outputs": [
    {
     "name": "stdout",
     "output_type": "stream",
     "text": [
      "348567\n",
      "Writing to file ohsumed-preprocessed/dummy_data/ohsumed.zip/test.jsonl...\n"
     ]
    }
   ],
   "source": [
    "with open(test_file, encoding=\"utf-8\") as f:\n",
    "    abstracts = json.load(f)\n",
    "    print(len(abstracts))\n",
    "    abstracts_dummy = random.sample(abstracts, 6)\n",
    "    result = pd.DataFrame(abstracts_dummy).to_json(orient=\"records\")\n",
    "    parsed = json.loads(result)\n",
    "    filename = \"ohsumed-preprocessed/dummy_data/ohsumed.zip/test.jsonl\"\n",
    "    with open(filename, 'w') as outfile:\n",
    "        print(f\"Writing to file {filename}...\")\n",
    "        json.dump(parsed, outfile)\n",
    "    "
   ]
  },
  {
   "cell_type": "code",
   "execution_count": null,
   "metadata": {},
   "outputs": [],
   "source": [
    "348567/54710"
   ]
  },
  {
   "cell_type": "code",
   "execution_count": null,
   "metadata": {},
   "outputs": [],
   "source": [
    "!pwd"
   ]
  },
  {
   "cell_type": "code",
   "execution_count": 5,
   "metadata": {},
   "outputs": [],
   "source": [
    "dict_sam = {\"seq_id\": \"7770\", \"medline_ui\": \"87120420\", \"mesh_terms\": \"Adult; Aged; Aneurysm/CO; Arteriovenous Fistula/*TH; Carotid Arteries; Case Report; Female; Human; Jugular Veins; Male; Methods; Middle Age; Neck/*BS; Vertebral Artery.\", \"title\": \"Arteriovenous fistulas of the large vessels of the neck: nonsurgical percutaneous occlusion.\", \"publication_type\": \"JOURNAL ARTICLE.\", \"abstract\": \"We describe the nonsurgical treatment of arteriovenous fistulas of the large vessels in the neck using three different means of endovascular occlusion of these large lesions, which are surgically difficult to approach and treat.\", \"author\": \"Vitek JJ; Keller FS.\", \"source\": \"South Med J 8705; 80(2):196-200\"}, {\"seq_id\": \"12856\", \"medline_ui\": \"87159161\", \"mesh_terms\": \"Agammaglobulinemia/*IM; Aged; Aged, 80 and over; Antineoplastic Agents, Combined/TU; Comparative Study; Female; Human; Immunoglobulins/*AN; Middle Age; Multiple Myeloma/BL/DT/*IM; Plasma Cells/UL; Proteinuria/UR.\", \"title\": \"Nonsecretory multiple myeloma.\", \"publication_type\": \"JOURNAL ARTICLE.\", \"abstract\": \"Among 186 patients with multiple myeloma (MM), five women were diagnosed as having MM without M-component in serum and or urine at the diagnosis and along the evolution. Bone marrow plasmacytosis at greater than 30% was found in all patients and bone x-rays showed lytic lesions in all but one case, osteoporosis in all, and pathologic fractures in two. Serum electrophoresis showed a striking hypogammaglobulinemia in all, and polyclonal immunoglobulin levels were markedly reduced. The immunofluorescence of plasma cells in bone marrow was positive for monoclonal light chain polypeptides in four patients, and the ultrastructure showed mature plasmocytes with a wide rough endoplasmic reticulum (RER) and an intact Golgi apparatus. In three patients, therapy with melphalan plus prednisone was started. The remaining two were treated with an M-2 protocol. Death was an early event in two patients; the response was good in the remaining patients, without differences regarding secretory MM. Despite some reports stressing an unfavourable prognosis in MM without M-component, in our series it is roughly the same as in MM with secretion.\", \"author\": \"Rubio-Felix D; Giralt M; Giraldo MP; Martinez-Penuela JM; Oyarzabal F; Sala F; Raichs A.\", \"source\": \"Cancer 8707; 59(10):1847-52\"}"
   ]
  },
  {
   "cell_type": "code",
   "execution_count": 6,
   "metadata": {},
   "outputs": [
    {
     "data": {
      "text/plain": [
       "({'seq_id': '7770',\n",
       "  'medline_ui': '87120420',\n",
       "  'mesh_terms': 'Adult; Aged; Aneurysm/CO; Arteriovenous Fistula/*TH; Carotid Arteries; Case Report; Female; Human; Jugular Veins; Male; Methods; Middle Age; Neck/*BS; Vertebral Artery.',\n",
       "  'title': 'Arteriovenous fistulas of the large vessels of the neck: nonsurgical percutaneous occlusion.',\n",
       "  'publication_type': 'JOURNAL ARTICLE.',\n",
       "  'abstract': 'We describe the nonsurgical treatment of arteriovenous fistulas of the large vessels in the neck using three different means of endovascular occlusion of these large lesions, which are surgically difficult to approach and treat.',\n",
       "  'author': 'Vitek JJ; Keller FS.',\n",
       "  'source': 'South Med J 8705; 80(2):196-200'},\n",
       " {'seq_id': '12856',\n",
       "  'medline_ui': '87159161',\n",
       "  'mesh_terms': 'Agammaglobulinemia/*IM; Aged; Aged, 80 and over; Antineoplastic Agents, Combined/TU; Comparative Study; Female; Human; Immunoglobulins/*AN; Middle Age; Multiple Myeloma/BL/DT/*IM; Plasma Cells/UL; Proteinuria/UR.',\n",
       "  'title': 'Nonsecretory multiple myeloma.',\n",
       "  'publication_type': 'JOURNAL ARTICLE.',\n",
       "  'abstract': 'Among 186 patients with multiple myeloma (MM), five women were diagnosed as having MM without M-component in serum and or urine at the diagnosis and along the evolution. Bone marrow plasmacytosis at greater than 30% was found in all patients and bone x-rays showed lytic lesions in all but one case, osteoporosis in all, and pathologic fractures in two. Serum electrophoresis showed a striking hypogammaglobulinemia in all, and polyclonal immunoglobulin levels were markedly reduced. The immunofluorescence of plasma cells in bone marrow was positive for monoclonal light chain polypeptides in four patients, and the ultrastructure showed mature plasmocytes with a wide rough endoplasmic reticulum (RER) and an intact Golgi apparatus. In three patients, therapy with melphalan plus prednisone was started. The remaining two were treated with an M-2 protocol. Death was an early event in two patients; the response was good in the remaining patients, without differences regarding secretory MM. Despite some reports stressing an unfavourable prognosis in MM without M-component, in our series it is roughly the same as in MM with secretion.',\n",
       "  'author': 'Rubio-Felix D; Giralt M; Giraldo MP; Martinez-Penuela JM; Oyarzabal F; Sala F; Raichs A.',\n",
       "  'source': 'Cancer 8707; 59(10):1847-52'})"
      ]
     },
     "execution_count": 6,
     "metadata": {},
     "output_type": "execute_result"
    }
   ],
   "source": [
    "dict_sam"
   ]
  },
  {
   "cell_type": "code",
   "execution_count": null,
   "metadata": {},
   "outputs": [],
   "source": []
  }
 ],
 "metadata": {
  "kernelspec": {
   "display_name": "Environment (conda_pytorch_p36)",
   "language": "python",
   "name": "conda_pytorch_p36"
  },
  "language_info": {
   "codemirror_mode": {
    "name": "ipython",
    "version": 3
   },
   "file_extension": ".py",
   "mimetype": "text/x-python",
   "name": "python",
   "nbconvert_exporter": "python",
   "pygments_lexer": "ipython3",
   "version": "3.6.10"
  }
 },
 "nbformat": 4,
 "nbformat_minor": 4
}
