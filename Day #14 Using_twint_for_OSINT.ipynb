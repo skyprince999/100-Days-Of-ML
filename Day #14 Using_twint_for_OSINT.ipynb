{
 "cells": [
  {
   "cell_type": "markdown",
   "metadata": {
    "colab_type": "text",
    "id": "view-in-github"
   },
   "source": [
    "<a href=\"https://colab.research.google.com/github/skyprince999/100-Days-Of-ML/blob/master/Day_14_Using_twint_for_OSINT.ipynb\" target=\"_parent\"><img src=\"https://colab.research.google.com/assets/colab-badge.svg\" alt=\"Open In Colab\"/></a>"
   ]
  },
  {
   "cell_type": "markdown",
   "metadata": {
    "colab_type": "text",
    "id": "-j1UCPW3Bc_k"
   },
   "source": [
    "This notebook walks you over the twint package. Covering some of the basic tools & functions used to gather information"
   ]
  },
  {
   "cell_type": "code",
   "execution_count": 0,
   "metadata": {
    "colab": {},
    "colab_type": "code",
    "id": "Ednu-FNXBCC7"
   },
   "outputs": [],
   "source": [
    "!pip install twint"
   ]
  },
  {
   "cell_type": "code",
   "execution_count": 0,
   "metadata": {
    "colab": {},
    "colab_type": "code",
    "id": "jobsZax_BXSu"
   },
   "outputs": [],
   "source": [
    "import twint"
   ]
  },
  {
   "cell_type": "code",
   "execution_count": 0,
   "metadata": {
    "colab": {},
    "colab_type": "code",
    "id": "VNMXgCkwqIdm"
   },
   "outputs": [],
   "source": [
    "c = twint.Config() # Initalizes the twint object"
   ]
  },
  {
   "cell_type": "code",
   "execution_count": 0,
   "metadata": {
    "colab": {},
    "colab_type": "code",
    "id": "jf1jxEroBYpq"
   },
   "outputs": [],
   "source": [
    "c.Username = \"pmoindia\" \n",
    "c.Search = \"trump\"# This searches for a specific keyword within the twitter handle \n",
    "c.Store_object = True\n",
    "c.Hide_output = True \n",
    "twint.run.Search(c)"
   ]
  },
  {
   "cell_type": "code",
   "execution_count": 5,
   "metadata": {
    "colab": {
     "base_uri": "https://localhost:8080/",
     "height": 51
    },
    "colab_type": "code",
    "id": "2xtZ7N98CqBE",
    "outputId": "55386351-e65e-469d-860a-38b6dbfb6a18"
   },
   "outputs": [
    {
     "name": "stdout",
     "output_type": "stream",
     "text": [
      "<class 'list'>\n",
      "25\n"
     ]
    }
   ],
   "source": [
    "tweets = twint.output.tweets_list # Get tweet list & check number of tweets extracted\n",
    "print(type(tweets))\n",
    "print(len(tweets))"
   ]
  },
  {
   "cell_type": "code",
   "execution_count": 0,
   "metadata": {
    "colab": {},
    "colab_type": "code",
    "id": "wW3or81mCVGe"
   },
   "outputs": [],
   "source": [
    "#Get a particular handles list of followers\n",
    "\n",
    "c = twint.Config()\n",
    "c.Username = \"aksgupta123\"\n",
    "twint.run.Followers(c)"
   ]
  },
  {
   "cell_type": "markdown",
   "metadata": {
    "colab_type": "text",
    "id": "7fz_uN1EqYZk"
   },
   "source": [
    "Find followers of a user who have atleast 100 followers "
   ]
  },
  {
   "cell_type": "code",
   "execution_count": 0,
   "metadata": {
    "colab": {},
    "colab_type": "code",
    "id": "_wPHATNSGlK8"
   },
   "outputs": [],
   "source": [
    "import twint\n",
    "\n",
    "# get the followers first\n",
    "c = twint.Config()\n",
    "c.Username = \"aksgupta123\"\n",
    "c.Store_object = True\n",
    "c.User_full = True #This creates as slower more detailed search"
   ]
  },
  {
   "cell_type": "code",
   "execution_count": 0,
   "metadata": {
    "colab": {},
    "colab_type": "code",
    "id": "j48AmNX7qpfc"
   },
   "outputs": [],
   "source": [
    "twint.run.Followers(c)\n",
    "\n",
    "# save them in a list\n",
    "target_followers = twint.output.users_list"
   ]
  },
  {
   "cell_type": "code",
   "execution_count": 0,
   "metadata": {
    "colab": {},
    "colab_type": "code",
    "id": "ueGlso5eqwo8"
   },
   "outputs": [],
   "source": [
    "len(target_followers)"
   ]
  },
  {
   "cell_type": "code",
   "execution_count": 0,
   "metadata": {
    "colab": {},
    "colab_type": "code",
    "id": "-4TZYZ5KrSCW"
   },
   "outputs": [],
   "source": [
    "target_followers[:5]"
   ]
  },
  {
   "cell_type": "code",
   "execution_count": 11,
   "metadata": {
    "colab": {
     "base_uri": "https://localhost:8080/",
     "height": 34
    },
    "colab_type": "code",
    "id": "eXct451mrd5m",
    "outputId": "89ab269c-5762-4991-e572-488e0ca8bdf4"
   },
   "outputs": [
    {
     "name": "stdout",
     "output_type": "stream",
     "text": [
      "62\n"
     ]
    }
   ],
   "source": [
    "# iterate over them and save in a new list\n",
    "K_followers = []\n",
    "\n",
    "for user in target_followers:\n",
    "    if user.followers >= 100:\n",
    "        K_followers.append(user)\n",
    "\n",
    "print(len(K_followers))"
   ]
  },
  {
   "cell_type": "code",
   "execution_count": 0,
   "metadata": {
    "colab": {},
    "colab_type": "code",
    "id": "hS1dt56Rrozh"
   },
   "outputs": [],
   "source": [
    "# now we can save them in an CSV file, for example\n",
    "with open('K_followers.csv', 'w') as output:\n",
    "    output.write('id,username,followers, following\\n')\n",
    "    for u in K_followers:\n",
    "        output.write('{},{},{},{}\\n'.format(u.id, u.username, u.followers, u.following))"
   ]
  },
  {
   "cell_type": "code",
   "execution_count": 18,
   "metadata": {
    "colab": {
     "base_uri": "https://localhost:8080/",
     "height": 51
    },
    "colab_type": "code",
    "id": "hpI7OtcIrywU",
    "outputId": "2f52a361-a3e4-4af7-a2c6-b1923647ab96"
   },
   "outputs": [
    {
     "name": "stdout",
     "output_type": "stream",
     "text": [
      "For user id: 335244658 which has the username: \n",
      "Number of tweets are:  292\n"
     ]
    }
   ],
   "source": [
    "# The returned object contains information about the user, and we can use it to find other details like the number of tweets, avatar etc.\n",
    "print(\"For user id: {} which has the username: \".format(u.id, u.username) )\n",
    "print(\"Number of tweets are: \",u.tweets)"
   ]
  },
  {
   "cell_type": "code",
   "execution_count": 19,
   "metadata": {
    "colab": {
     "base_uri": "https://localhost:8080/",
     "height": 71
    },
    "colab_type": "code",
    "id": "b4N2L844r3QA",
    "outputId": "6ec9a1f6-db9c-4abc-e10a-3a2c3c8378f0"
   },
   "outputs": [
    {
     "name": "stdout",
     "output_type": "stream",
     "text": [
      "from:gpucollective OR from:b13akash OR from:wcwcwcwcwc888 OR from:cnvrg_io OR from:hisxlnc4u OR from:larrykim OR from:BrucCatherine OR from:cloud_haxor OR from:DumpDeonar OR from:SamsoniteTrades OR from:RoadsOfMumbai OR from:marcialove911 OR from:educator OR from:speshio OR from:analyticspeaks OR from:RapiDels_IN OR from:DataScienceBe OR from:culture_startup OR from:hemantsatamMT OR from:chikakuworld OR from:kidzik OR from:xchangekaro OR from:noramayc OR from:randal_olson OR from:mmalohlava OR from:BrandonCorman OR from:Alchetron OR from:urstartups OR from:NDMicrosystems OR from:Zuchedge OR from:CCRAProgram OR from:HappyAnalytics OR from:ariffatehi OR from:DataconomyJobs OR from:dhruvbhushan OR from:ITMKS OR from:EzraPenland OR from:invpire OR from:Shukranpune OR from:sin_c_here OR from:AnvitAwasthee OR from:cahemantacharya OR from:GSBeachResort OR from:smart_mumbaikar OR from:volvopackages OR from:bala_83 OR from:vineetpatawari OR from:pranavten OR from:deadpresident OR from:stevenplace OR from:acaaccounting OR from:GetYourStocks OR from:RealValuestocks OR from:JingStation5 OR from:Stocktwits OR from:thinkgeek OR from:ar_nisha OR from:mallikasherawat OR from:ImMugdha OR from:Ellora_Shirdi OR from:SoniaMegha OR from:Daisydl4 OR \n",
      "from:gpucollective OR from:b13akash OR from:wcwcwcwcwc888 OR from:cnvrg_io OR from:hisxlnc4u OR from:larrykim OR from:BrucCatherine OR from:cloud_haxor OR from:DumpDeonar OR from:SamsoniteTrades OR from:RoadsOfMumbai OR from:marcialove911 OR from:educator OR from:speshio OR from:analyticspeaks OR from:RapiDels_IN OR from:DataScienceBe OR from:culture_startup OR from:hemantsatamMT OR from:chikakuworld OR from:kidzik OR from:xchangekaro OR from:noramayc OR from:randal_olson OR from:mmalohlava OR from:BrandonCorman OR from:Alchetron OR from:urstartups OR from:NDMicrosystems OR from:Zuchedge OR from:CCRAProgram OR from:HappyAnalytics OR from:ariffatehi OR from:DataconomyJobs OR from:dhruvbhushan OR from:ITMKS OR from:EzraPenland OR from:invpire OR from:Shukranpune OR from:sin_c_here OR from:AnvitAwasthee OR from:cahemantacharya OR from:GSBeachResort OR from:smart_mumbaikar OR from:volvopackages OR from:bala_83 OR from:vineetpatawari OR from:pranavten OR from:deadpresident OR from:stevenplace OR from:acaaccounting OR from:GetYourStocks OR from:RealValuestocks OR from:JingStation5 OR from:Stocktwits OR from:thinkgeek OR from:ar_nisha OR from:mallikasherawat OR from:ImMugdha OR from:Ellora_Shirdi OR from:SoniaMegha OR from:Daisydl4\n"
     ]
    }
   ],
   "source": [
    "import twint\n",
    "\n",
    "custom_query = \"\"\n",
    "hashtags = {}\n",
    "\n",
    "with open('K_followers.csv', 'r') as input:\n",
    "    # we can ignore the first row\n",
    "    input.readline()\n",
    "    line = input.readline()\n",
    "    while line:\n",
    "        user = line.split(',')[1]\n",
    "        hashtags.update({user: {}})\n",
    "        custom_query += \"from:{} OR \".format(user)\n",
    "        line = input.readline()\n",
    "    print(custom_query)\n",
    "    custom_query = custom_query[:-4]\n",
    "    print(custom_query)"
   ]
  },
  {
   "cell_type": "code",
   "execution_count": 0,
   "metadata": {
    "colab": {},
    "colab_type": "code",
    "id": "XpGOaTH8tUGd"
   },
   "outputs": [],
   "source": [
    "c = twint.Config()\n",
    "c.Custom_query = custom_query\n",
    "c.Store_object = True\n",
    "c.Store_csv = True\n",
    "c.Output = \"tweets.csv\"\n",
    "\n",
    "# we want to hide the output, there will be a lot of tweets and the terminal might crash\n",
    "c.Hide_output = True"
   ]
  },
  {
   "cell_type": "code",
   "execution_count": 0,
   "metadata": {
    "colab": {},
    "colab_type": "code",
    "id": "4BD86QvdtrpU"
   },
   "outputs": [],
   "source": [
    "print(hashtags)"
   ]
  },
  {
   "cell_type": "code",
   "execution_count": 0,
   "metadata": {
    "colab": {},
    "colab_type": "code",
    "id": "rmECIkC_tdCH"
   },
   "outputs": [],
   "source": [
    "twint.run.Search(c) # Run the search & store the tweets in a list\n",
    "\n",
    "tweets = twint.output.tweets_list\n",
    "print(len(tweets))\n",
    "tweets[:5]"
   ]
  },
  {
   "cell_type": "code",
   "execution_count": 0,
   "metadata": {
    "colab": {},
    "colab_type": "code",
    "id": "rpxdVaVTt2Uw"
   },
   "outputs": [],
   "source": [
    "# now we have all the tweets, let's elaborate the data\n",
    "\n",
    "# first iterate over the tweets\n",
    "for t in tweets:\n",
    "    # then iterate over the hashtags of that single tweet\n",
    "    for h in t.hashtags:\n",
    "        # increment the count if the hashtag already exists, otherwise initialize it to 1\n",
    "        try:\n",
    "            hashtags[t.username][h] += 1\n",
    "        except KeyError:\n",
    "            print(t.username)\n",
    "            continue\n",
    "            #hashtags[t.username].update({h: 1})\n",
    "            "
   ]
  },
  {
   "cell_type": "code",
   "execution_count": 0,
   "metadata": {
    "colab": {},
    "colab_type": "code",
    "id": "EHqK7Q-9uAth"
   },
   "outputs": [],
   "source": [
    "# now save the data\n",
    "with open('hashtags.csv', 'w') as output:\n",
    "    output.write('username,hashtag,count\\n')\n",
    "    for user in hashtags:\n",
    "        for h in hashtags[user]:\n",
    "            output.write('{},{},{}\\n'.format(user, h, hashtags[user][h]))"
   ]
  },
  {
   "cell_type": "code",
   "execution_count": 0,
   "metadata": {
    "colab": {},
    "colab_type": "code",
    "id": "nHtEaH8quJMO"
   },
   "outputs": [],
   "source": []
  }
 ],
 "metadata": {
  "colab": {
   "authorship_tag": "ABX9TyP+KhZ9u8Xva09P5b3TkiUq",
   "collapsed_sections": [],
   "include_colab_link": true,
   "name": "Day 14# Using twint for OSINT.ipynb",
   "provenance": []
  },
  "kernelspec": {
   "display_name": "Python 3",
   "language": "python",
   "name": "python3"
  },
  "language_info": {
   "codemirror_mode": {
    "name": "ipython",
    "version": 3
   },
   "file_extension": ".py",
   "mimetype": "text/x-python",
   "name": "python",
   "nbconvert_exporter": "python",
   "pygments_lexer": "ipython3",
   "version": "3.7.6"
  }
 },
 "nbformat": 4,
 "nbformat_minor": 1
}
