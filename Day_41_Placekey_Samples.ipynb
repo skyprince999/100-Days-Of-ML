{
  "nbformat": 4,
  "nbformat_minor": 0,
  "metadata": {
    "colab": {
      "name": "Day 41# Placekey Samples.ipynb",
      "provenance": [],
      "collapsed_sections": [],
      "authorship_tag": "ABX9TyOGjnxSpi/Ab3iAuRKiR/wF",
      "include_colab_link": true
    },
    "kernelspec": {
      "name": "python3",
      "display_name": "Python 3"
    }
  },
  "cells": [
    {
      "cell_type": "markdown",
      "metadata": {
        "id": "view-in-github",
        "colab_type": "text"
      },
      "source": [
        "<a href=\"https://colab.research.google.com/github/skyprince999/100-Days-Of-ML/blob/master/Day_41_Placekey_Samples.ipynb\" target=\"_parent\"><img src=\"https://colab.research.google.com/assets/colab-badge.svg\" alt=\"Open In Colab\"/></a>"
      ]
    },
    {
      "cell_type": "markdown",
      "metadata": {
        "id": "mdR3d99RCHux"
      },
      "source": [
        "Samples copied from the following notebooks: \n",
        "\n",
        "https://github.com/Placekey/placekey-py\n",
        "\n",
        "https://placekey.github.io/placekey-notebooks/basic_functionality.html\n",
        "\n",
        "https://placekey.github.io/placekey-notebooks/advanced_functionality.html\n",
        "\n",
        "https://github.com/Placekey/placekey-notebooks/blob/main/notebooks/Adding_Placekey_to_your_POI_dataset_using_python_and_the_Placekey_API.ipynb\n",
        "\n",
        "\n",
        "Placekey API: ##########################"
      ]
    },
    {
      "cell_type": "code",
      "metadata": {
        "id": "I4uliqk2BNej",
        "outputId": "1a5a24dc-ebb2-46b3-e381-960525502fed",
        "colab": {
          "base_uri": "https://localhost:8080/",
          "height": 173
        }
      },
      "source": [
        "!pip install placekey"
      ],
      "execution_count": 1,
      "outputs": [
        {
          "output_type": "stream",
          "text": [
            "Collecting placekey\n",
            "  Downloading https://files.pythonhosted.org/packages/41/29/deb0504e1b5189084933341cce094fe92d569c5c9b641ae4e905e19ed13f/placekey-0.0.4-py3-none-any.whl\n",
            "Collecting h3\n",
            "\u001b[?25l  Downloading https://files.pythonhosted.org/packages/62/9b/426e47f1a569dd37a6b6026b61a7926557d5c3222da28bcc991618a66a17/h3-3.7.0-cp36-cp36m-manylinux2010_x86_64.whl (792kB)\n",
            "\u001b[K     |████████████████████████████████| 798kB 3.9MB/s \n",
            "\u001b[?25hRequirement already satisfied: shapely in /usr/local/lib/python3.6/dist-packages (from placekey) (1.7.1)\n",
            "Installing collected packages: h3, placekey\n",
            "Successfully installed h3-3.7.0 placekey-0.0.4\n"
          ],
          "name": "stdout"
        }
      ]
    },
    {
      "cell_type": "code",
      "metadata": {
        "id": "aLJc0zVUBqxP",
        "outputId": "c7aefddd-ee4b-4465-bf8a-1471bddddc39",
        "colab": {
          "base_uri": "https://localhost:8080/",
          "height": 119
        }
      },
      "source": [
        "!git clone https://github.com/Placekey/placekey-notebooks"
      ],
      "execution_count": 2,
      "outputs": [
        {
          "output_type": "stream",
          "text": [
            "Cloning into 'placekey-notebooks'...\n",
            "remote: Enumerating objects: 39, done.\u001b[K\n",
            "remote: Counting objects: 100% (39/39), done.\u001b[K\n",
            "remote: Compressing objects: 100% (27/27), done.\u001b[K\n",
            "remote: Total 39 (delta 15), reused 26 (delta 9), pack-reused 0\u001b[K\n",
            "Unpacking objects: 100% (39/39), done.\n"
          ],
          "name": "stdout"
        }
      ]
    },
    {
      "cell_type": "code",
      "metadata": {
        "id": "mEAYzXnEB65O"
      },
      "source": [
        "import placekey as pk"
      ],
      "execution_count": 3,
      "outputs": []
    },
    {
      "cell_type": "code",
      "metadata": {
        "id": "kfEvCcU8CcvW",
        "outputId": "da40338f-98ca-4ae4-813b-4dbd176b3ea6",
        "colab": {
          "base_uri": "https://localhost:8080/",
          "height": 34
        }
      },
      "source": [
        "lat, long = 0.0, 0.0\n",
        "\n",
        "print(pk.geo_to_placekey(lat, long))"
      ],
      "execution_count": 6,
      "outputs": [
        {
          "output_type": "stream",
          "text": [
            "@dvt-smp-tvz\n"
          ],
          "name": "stdout"
        }
      ]
    },
    {
      "cell_type": "code",
      "metadata": {
        "id": "Q5437p0kClzb",
        "outputId": "39422556-5359-4043-86b7-3d68a6481cb6",
        "colab": {
          "base_uri": "https://localhost:8080/",
          "height": 34
        }
      },
      "source": [
        "pk.placekey_to_geo('@dvt-smp-tvz')"
      ],
      "execution_count": 7,
      "outputs": [
        {
          "output_type": "execute_result",
          "data": {
            "text/plain": [
              "(0.00018033323813651316, -0.00018985758738881587)"
            ]
          },
          "metadata": {
            "tags": []
          },
          "execution_count": 7
        }
      ]
    },
    {
      "cell_type": "code",
      "metadata": {
        "id": "AL0DWu7wCpQF",
        "outputId": "6aaa5c5e-7045-4d53-c682-70f4bd107f65",
        "colab": {
          "base_uri": "https://localhost:8080/",
          "height": 35
        }
      },
      "source": [
        "pk.placekey_to_h3('@dvt-smp-tvz')"
      ],
      "execution_count": 8,
      "outputs": [
        {
          "output_type": "execute_result",
          "data": {
            "application/vnd.google.colaboratory.intrinsic+json": {
              "type": "string"
            },
            "text/plain": [
              "'8a754e64992ffff'"
            ]
          },
          "metadata": {
            "tags": []
          },
          "execution_count": 8
        }
      ]
    },
    {
      "cell_type": "code",
      "metadata": {
        "id": "HpL6Rv62C2Bz",
        "outputId": "e4502800-4593-4c33-c6b9-42a23be7cce6",
        "colab": {
          "base_uri": "https://localhost:8080/",
          "height": 35
        }
      },
      "source": [
        "pk.h3_to_placekey('8a754e64992ffff')"
      ],
      "execution_count": 9,
      "outputs": [
        {
          "output_type": "execute_result",
          "data": {
            "application/vnd.google.colaboratory.intrinsic+json": {
              "type": "string"
            },
            "text/plain": [
              "'@dvt-smp-tvz'"
            ]
          },
          "metadata": {
            "tags": []
          },
          "execution_count": 9
        }
      ]
    },
    {
      "cell_type": "code",
      "metadata": {
        "id": "1L7KpDWKDkIC",
        "outputId": "4768f8e4-17e5-452d-a4b4-aebfef1a36f1",
        "colab": {
          "base_uri": "https://localhost:8080/",
          "height": 34
        }
      },
      "source": [
        "pk.placekey_distance('@dvt-smp-tvz', '@5vg-7gq-tjv')"
      ],
      "execution_count": 10,
      "outputs": [
        {
          "output_type": "execute_result",
          "data": {
            "text/plain": [
              "12795124.895573696"
            ]
          },
          "metadata": {
            "tags": []
          },
          "execution_count": 10
        }
      ]
    },
    {
      "cell_type": "code",
      "metadata": {
        "id": "2GkbINxsDnQ3",
        "outputId": "fc99b342-30e7-4fc9-d059-5e06f39c0d89",
        "colab": {
          "base_uri": "https://localhost:8080/",
          "height": 187
        }
      },
      "source": [
        " pk.get_prefix_distance_dict()"
      ],
      "execution_count": 11,
      "outputs": [
        {
          "output_type": "execute_result",
          "data": {
            "text/plain": [
              "{0: 20040000.0,\n",
              " 1: 20040000.0,\n",
              " 2: 2777000.0,\n",
              " 3: 1065000.0,\n",
              " 4: 152400.0,\n",
              " 5: 21770.0,\n",
              " 6: 8227.0,\n",
              " 7: 1176.0,\n",
              " 8: 444.3,\n",
              " 9: 63.47}"
            ]
          },
          "metadata": {
            "tags": []
          },
          "execution_count": 11
        }
      ]
    },
    {
      "cell_type": "code",
      "metadata": {
        "id": "22yUEI8HEEwp",
        "outputId": "9db10cfa-67e2-4495-afb9-68e9fb67e22b",
        "colab": {
          "base_uri": "https://localhost:8080/",
          "height": 34
        }
      },
      "source": [
        "pk.placekey_format_is_valid('222-227@dvt-smp-tvz')"
      ],
      "execution_count": 12,
      "outputs": [
        {
          "output_type": "execute_result",
          "data": {
            "text/plain": [
              "True"
            ]
          },
          "metadata": {
            "tags": []
          },
          "execution_count": 12
        }
      ]
    },
    {
      "cell_type": "code",
      "metadata": {
        "id": "dRW5C-7fEQOw",
        "outputId": "3829a065-485a-4d90-cfb2-b57521e41132",
        "colab": {
          "base_uri": "https://localhost:8080/",
          "height": 34
        }
      },
      "source": [
        "pk.placekey_format_is_valid('@123-456-789')"
      ],
      "execution_count": 13,
      "outputs": [
        {
          "output_type": "execute_result",
          "data": {
            "text/plain": [
              "False"
            ]
          },
          "metadata": {
            "tags": []
          },
          "execution_count": 13
        }
      ]
    },
    {
      "cell_type": "code",
      "metadata": {
        "id": "o9fNUY0IET1G",
        "outputId": "67646bc1-739e-4a9f-af5f-a62442f46e30",
        "colab": {
          "base_uri": "https://localhost:8080/",
          "height": 1000
        }
      },
      "source": [
        "!pip install -r placekey-notebooks/requirements.txt"
      ],
      "execution_count": 4,
      "outputs": [
        {
          "output_type": "stream",
          "text": [
            "Requirement already satisfied: placekey in /usr/local/lib/python3.6/dist-packages (from -r placekey-notebooks/requirements.txt (line 1)) (0.0.4)\n",
            "Requirement already satisfied: jupyter in /usr/local/lib/python3.6/dist-packages (from -r placekey-notebooks/requirements.txt (line 2)) (1.0.0)\n",
            "Requirement already satisfied: folium in /usr/local/lib/python3.6/dist-packages (from -r placekey-notebooks/requirements.txt (line 3)) (0.8.3)\n",
            "Requirement already satisfied: shapely in /usr/local/lib/python3.6/dist-packages (from -r placekey-notebooks/requirements.txt (line 4)) (1.7.1)\n",
            "Collecting geopandas\n",
            "\u001b[?25l  Downloading https://files.pythonhosted.org/packages/f7/a4/e66aafbefcbb717813bf3a355c8c4fc3ed04ea1dd7feb2920f2f4f868921/geopandas-0.8.1-py2.py3-none-any.whl (962kB)\n",
            "\u001b[K     |████████████████████████████████| 972kB 2.8MB/s \n",
            "\u001b[?25hRequirement already satisfied: numpy in /usr/local/lib/python3.6/dist-packages (from -r placekey-notebooks/requirements.txt (line 6)) (1.18.5)\n",
            "Requirement already satisfied: h3 in /usr/local/lib/python3.6/dist-packages (from placekey->-r placekey-notebooks/requirements.txt (line 1)) (3.7.0)\n",
            "Requirement already satisfied: qtconsole in /usr/local/lib/python3.6/dist-packages (from jupyter->-r placekey-notebooks/requirements.txt (line 2)) (4.7.7)\n",
            "Requirement already satisfied: notebook in /usr/local/lib/python3.6/dist-packages (from jupyter->-r placekey-notebooks/requirements.txt (line 2)) (5.3.1)\n",
            "Requirement already satisfied: jupyter-console in /usr/local/lib/python3.6/dist-packages (from jupyter->-r placekey-notebooks/requirements.txt (line 2)) (5.2.0)\n",
            "Requirement already satisfied: ipywidgets in /usr/local/lib/python3.6/dist-packages (from jupyter->-r placekey-notebooks/requirements.txt (line 2)) (7.5.1)\n",
            "Requirement already satisfied: ipykernel in /usr/local/lib/python3.6/dist-packages (from jupyter->-r placekey-notebooks/requirements.txt (line 2)) (4.10.1)\n",
            "Requirement already satisfied: nbconvert in /usr/local/lib/python3.6/dist-packages (from jupyter->-r placekey-notebooks/requirements.txt (line 2)) (5.6.1)\n",
            "Requirement already satisfied: requests in /usr/local/lib/python3.6/dist-packages (from folium->-r placekey-notebooks/requirements.txt (line 3)) (2.23.0)\n",
            "Requirement already satisfied: branca>=0.3.0 in /usr/local/lib/python3.6/dist-packages (from folium->-r placekey-notebooks/requirements.txt (line 3)) (0.4.1)\n",
            "Requirement already satisfied: jinja2 in /usr/local/lib/python3.6/dist-packages (from folium->-r placekey-notebooks/requirements.txt (line 3)) (2.11.2)\n",
            "Requirement already satisfied: six in /usr/local/lib/python3.6/dist-packages (from folium->-r placekey-notebooks/requirements.txt (line 3)) (1.15.0)\n",
            "Collecting fiona\n",
            "\u001b[?25l  Downloading https://files.pythonhosted.org/packages/36/8b/e8b2c11bed5373c8e98edb85ce891b09aa1f4210fd451d0fb3696b7695a2/Fiona-1.8.17-cp36-cp36m-manylinux1_x86_64.whl (14.8MB)\n",
            "\u001b[K     |████████████████████████████████| 14.8MB 297kB/s \n",
            "\u001b[?25hRequirement already satisfied: pandas>=0.23.0 in /usr/local/lib/python3.6/dist-packages (from geopandas->-r placekey-notebooks/requirements.txt (line 5)) (1.1.2)\n",
            "Collecting pyproj>=2.2.0\n",
            "\u001b[?25l  Downloading https://files.pythonhosted.org/packages/e5/c3/071e080230ac4b6c64f1a2e2f9161c9737a2bc7b683d2c90b024825000c0/pyproj-2.6.1.post1-cp36-cp36m-manylinux2010_x86_64.whl (10.9MB)\n",
            "\u001b[K     |████████████████████████████████| 10.9MB 17.1MB/s \n",
            "\u001b[?25hRequirement already satisfied: jupyter-client>=4.1 in /usr/local/lib/python3.6/dist-packages (from qtconsole->jupyter->-r placekey-notebooks/requirements.txt (line 2)) (5.3.5)\n",
            "Requirement already satisfied: qtpy in /usr/local/lib/python3.6/dist-packages (from qtconsole->jupyter->-r placekey-notebooks/requirements.txt (line 2)) (1.9.0)\n",
            "Requirement already satisfied: ipython-genutils in /usr/local/lib/python3.6/dist-packages (from qtconsole->jupyter->-r placekey-notebooks/requirements.txt (line 2)) (0.2.0)\n",
            "Requirement already satisfied: pyzmq>=17.1 in /usr/local/lib/python3.6/dist-packages (from qtconsole->jupyter->-r placekey-notebooks/requirements.txt (line 2)) (19.0.2)\n",
            "Requirement already satisfied: traitlets in /usr/local/lib/python3.6/dist-packages (from qtconsole->jupyter->-r placekey-notebooks/requirements.txt (line 2)) (4.3.3)\n",
            "Requirement already satisfied: jupyter-core in /usr/local/lib/python3.6/dist-packages (from qtconsole->jupyter->-r placekey-notebooks/requirements.txt (line 2)) (4.6.3)\n",
            "Requirement already satisfied: pygments in /usr/local/lib/python3.6/dist-packages (from qtconsole->jupyter->-r placekey-notebooks/requirements.txt (line 2)) (2.6.1)\n",
            "Requirement already satisfied: Send2Trash in /usr/local/lib/python3.6/dist-packages (from notebook->jupyter->-r placekey-notebooks/requirements.txt (line 2)) (1.5.0)\n",
            "Requirement already satisfied: terminado>=0.8.1 in /usr/local/lib/python3.6/dist-packages (from notebook->jupyter->-r placekey-notebooks/requirements.txt (line 2)) (0.9.1)\n",
            "Requirement already satisfied: nbformat in /usr/local/lib/python3.6/dist-packages (from notebook->jupyter->-r placekey-notebooks/requirements.txt (line 2)) (5.0.7)\n",
            "Requirement already satisfied: tornado>=4 in /usr/local/lib/python3.6/dist-packages (from notebook->jupyter->-r placekey-notebooks/requirements.txt (line 2)) (5.1.1)\n",
            "Requirement already satisfied: ipython in /usr/local/lib/python3.6/dist-packages (from jupyter-console->jupyter->-r placekey-notebooks/requirements.txt (line 2)) (5.5.0)\n",
            "Requirement already satisfied: prompt-toolkit<2.0.0,>=1.0.0 in /usr/local/lib/python3.6/dist-packages (from jupyter-console->jupyter->-r placekey-notebooks/requirements.txt (line 2)) (1.0.18)\n",
            "Requirement already satisfied: widgetsnbextension~=3.5.0 in /usr/local/lib/python3.6/dist-packages (from ipywidgets->jupyter->-r placekey-notebooks/requirements.txt (line 2)) (3.5.1)\n",
            "Requirement already satisfied: mistune<2,>=0.8.1 in /usr/local/lib/python3.6/dist-packages (from nbconvert->jupyter->-r placekey-notebooks/requirements.txt (line 2)) (0.8.4)\n",
            "Requirement already satisfied: entrypoints>=0.2.2 in /usr/local/lib/python3.6/dist-packages (from nbconvert->jupyter->-r placekey-notebooks/requirements.txt (line 2)) (0.3)\n",
            "Requirement already satisfied: defusedxml in /usr/local/lib/python3.6/dist-packages (from nbconvert->jupyter->-r placekey-notebooks/requirements.txt (line 2)) (0.6.0)\n",
            "Requirement already satisfied: bleach in /usr/local/lib/python3.6/dist-packages (from nbconvert->jupyter->-r placekey-notebooks/requirements.txt (line 2)) (3.2.1)\n",
            "Requirement already satisfied: pandocfilters>=1.4.1 in /usr/local/lib/python3.6/dist-packages (from nbconvert->jupyter->-r placekey-notebooks/requirements.txt (line 2)) (1.4.2)\n",
            "Requirement already satisfied: testpath in /usr/local/lib/python3.6/dist-packages (from nbconvert->jupyter->-r placekey-notebooks/requirements.txt (line 2)) (0.4.4)\n",
            "Requirement already satisfied: chardet<4,>=3.0.2 in /usr/local/lib/python3.6/dist-packages (from requests->folium->-r placekey-notebooks/requirements.txt (line 3)) (3.0.4)\n",
            "Requirement already satisfied: idna<3,>=2.5 in /usr/local/lib/python3.6/dist-packages (from requests->folium->-r placekey-notebooks/requirements.txt (line 3)) (2.10)\n",
            "Requirement already satisfied: certifi>=2017.4.17 in /usr/local/lib/python3.6/dist-packages (from requests->folium->-r placekey-notebooks/requirements.txt (line 3)) (2020.6.20)\n",
            "Requirement already satisfied: urllib3!=1.25.0,!=1.25.1,<1.26,>=1.21.1 in /usr/local/lib/python3.6/dist-packages (from requests->folium->-r placekey-notebooks/requirements.txt (line 3)) (1.24.3)\n",
            "Requirement already satisfied: MarkupSafe>=0.23 in /usr/local/lib/python3.6/dist-packages (from jinja2->folium->-r placekey-notebooks/requirements.txt (line 3)) (1.1.1)\n",
            "Requirement already satisfied: attrs>=17 in /usr/local/lib/python3.6/dist-packages (from fiona->geopandas->-r placekey-notebooks/requirements.txt (line 5)) (20.2.0)\n",
            "Collecting click-plugins>=1.0\n",
            "  Downloading https://files.pythonhosted.org/packages/e9/da/824b92d9942f4e472702488857914bdd50f73021efea15b4cad9aca8ecef/click_plugins-1.1.1-py2.py3-none-any.whl\n",
            "Requirement already satisfied: click<8,>=4.0 in /usr/local/lib/python3.6/dist-packages (from fiona->geopandas->-r placekey-notebooks/requirements.txt (line 5)) (7.1.2)\n",
            "Collecting munch\n",
            "  Downloading https://files.pythonhosted.org/packages/cc/ab/85d8da5c9a45e072301beb37ad7f833cd344e04c817d97e0cc75681d248f/munch-2.5.0-py2.py3-none-any.whl\n",
            "Collecting cligj>=0.5\n",
            "  Downloading https://files.pythonhosted.org/packages/e4/be/30a58b4b0733850280d01f8bd132591b4668ed5c7046761098d665ac2174/cligj-0.5.0-py3-none-any.whl\n",
            "Requirement already satisfied: pytz>=2017.2 in /usr/local/lib/python3.6/dist-packages (from pandas>=0.23.0->geopandas->-r placekey-notebooks/requirements.txt (line 5)) (2018.9)\n",
            "Requirement already satisfied: python-dateutil>=2.7.3 in /usr/local/lib/python3.6/dist-packages (from pandas>=0.23.0->geopandas->-r placekey-notebooks/requirements.txt (line 5)) (2.8.1)\n",
            "Requirement already satisfied: decorator in /usr/local/lib/python3.6/dist-packages (from traitlets->qtconsole->jupyter->-r placekey-notebooks/requirements.txt (line 2)) (4.4.2)\n",
            "Requirement already satisfied: ptyprocess; os_name != \"nt\" in /usr/local/lib/python3.6/dist-packages (from terminado>=0.8.1->notebook->jupyter->-r placekey-notebooks/requirements.txt (line 2)) (0.6.0)\n",
            "Requirement already satisfied: jsonschema!=2.5.0,>=2.4 in /usr/local/lib/python3.6/dist-packages (from nbformat->notebook->jupyter->-r placekey-notebooks/requirements.txt (line 2)) (2.6.0)\n",
            "Requirement already satisfied: pexpect; sys_platform != \"win32\" in /usr/local/lib/python3.6/dist-packages (from ipython->jupyter-console->jupyter->-r placekey-notebooks/requirements.txt (line 2)) (4.8.0)\n",
            "Requirement already satisfied: simplegeneric>0.8 in /usr/local/lib/python3.6/dist-packages (from ipython->jupyter-console->jupyter->-r placekey-notebooks/requirements.txt (line 2)) (0.8.1)\n",
            "Requirement already satisfied: pickleshare in /usr/local/lib/python3.6/dist-packages (from ipython->jupyter-console->jupyter->-r placekey-notebooks/requirements.txt (line 2)) (0.7.5)\n",
            "Requirement already satisfied: setuptools>=18.5 in /usr/local/lib/python3.6/dist-packages (from ipython->jupyter-console->jupyter->-r placekey-notebooks/requirements.txt (line 2)) (50.3.0)\n",
            "Requirement already satisfied: wcwidth in /usr/local/lib/python3.6/dist-packages (from prompt-toolkit<2.0.0,>=1.0.0->jupyter-console->jupyter->-r placekey-notebooks/requirements.txt (line 2)) (0.2.5)\n",
            "Requirement already satisfied: webencodings in /usr/local/lib/python3.6/dist-packages (from bleach->nbconvert->jupyter->-r placekey-notebooks/requirements.txt (line 2)) (0.5.1)\n",
            "Requirement already satisfied: packaging in /usr/local/lib/python3.6/dist-packages (from bleach->nbconvert->jupyter->-r placekey-notebooks/requirements.txt (line 2)) (20.4)\n",
            "Requirement already satisfied: pyparsing>=2.0.2 in /usr/local/lib/python3.6/dist-packages (from packaging->bleach->nbconvert->jupyter->-r placekey-notebooks/requirements.txt (line 2)) (2.4.7)\n",
            "Installing collected packages: click-plugins, munch, cligj, fiona, pyproj, geopandas\n",
            "Successfully installed click-plugins-1.1.1 cligj-0.5.0 fiona-1.8.17 geopandas-0.8.1 munch-2.5.0 pyproj-2.6.1.post1\n"
          ],
          "name": "stdout"
        }
      ]
    },
    {
      "cell_type": "markdown",
      "metadata": {
        "id": "_Pg3IVY8KHm2"
      },
      "source": [
        "#######################################################################################################"
      ]
    },
    {
      "cell_type": "code",
      "metadata": {
        "id": "XNh9YpSxEtJe"
      },
      "source": [
        "import placekey as pk\n",
        "import h3 as h3"
      ],
      "execution_count": 5,
      "outputs": []
    },
    {
      "cell_type": "code",
      "metadata": {
        "id": "RhgCBvAYE3z2",
        "outputId": "3c1cd106-dd25-4cee-e852-43be31378b0f",
        "colab": {
          "base_uri": "https://localhost:8080/",
          "height": 51
        }
      },
      "source": [
        "geo = (37.779351, -122.418655)  # The front door of SF City Hall\n",
        "\n",
        "placekey = pk.geo_to_placekey(*geo)\n",
        "print('The Placekey for the location of SF City Hall is \"{}\".'.format(placekey))\n",
        "\n",
        "centroid_lat, centroid_long = pk.placekey_to_geo(placekey)\n",
        "print('The latitude and longitude for the center of \"{}\" is ({}, {}).'.format(placekey, centroid_lat, centroid_long))"
      ],
      "execution_count": 6,
      "outputs": [
        {
          "output_type": "stream",
          "text": [
            "The Placekey for the location of SF City Hall is \"@5vg-7gq-tjv\".\n",
            "The latitude and longitude for the center of \"@5vg-7gq-tjv\" is (37.77988951810222, -122.41864762076004).\n"
          ],
          "name": "stdout"
        }
      ]
    },
    {
      "cell_type": "code",
      "metadata": {
        "id": "4VwMHzXhFApo",
        "outputId": "99ca1b87-0ee5-4f41-acd8-934a1ead6a8c",
        "colab": {
          "base_uri": "https://localhost:8080/",
          "height": 68
        }
      },
      "source": [
        "h3_for_placekey = pk.placekey_to_h3(placekey)\n",
        "print('The H3 index corresponding to \"{}\" is \"{}\".'.format(placekey, h3_for_placekey))\n",
        "print('\"{}\" has resolution {}.'.format(h3_for_placekey, h3.h3_get_resolution(h3_for_placekey)))\n",
        "\n",
        "h3_int_for_placekey = pk.placekey_to_h3_int(placekey)\n",
        "print('The integer H3 index corresponding to \"{}\" is {}.'.format(placekey, h3_int_for_placekey))"
      ],
      "execution_count": 7,
      "outputs": [
        {
          "output_type": "stream",
          "text": [
            "The H3 index corresponding to \"@5vg-7gq-tjv\" is \"8a2830828747fff\".\n",
            "\"8a2830828747fff\" has resolution 10.\n",
            "The integer H3 index corresponding to \"@5vg-7gq-tjv\" is 622203769592250367.\n"
          ],
          "name": "stdout"
        }
      ]
    },
    {
      "cell_type": "code",
      "metadata": {
        "id": "m32_3zuVHaQr",
        "outputId": "cd1c4b16-527a-4d63-8a6c-d48f5722581c",
        "colab": {
          "base_uri": "https://localhost:8080/",
          "height": 119
        }
      },
      "source": [
        "pk.placekey_to_hex_boundary(placekey)"
      ],
      "execution_count": 8,
      "outputs": [
        {
          "output_type": "execute_result",
          "data": {
            "text/plain": [
              "((37.77921928451977, -122.41844077039543),\n",
              " (37.77972548542876, -122.41780166521563),\n",
              " (37.78039571852498, -122.41800851332172),\n",
              " (37.780559746916104, -122.41885447351558),\n",
              " (37.78005354361958, -122.41949357434298),\n",
              " (37.77938331431949, -122.41928671932915))"
            ]
          },
          "metadata": {
            "tags": []
          },
          "execution_count": 8
        }
      ]
    },
    {
      "cell_type": "code",
      "metadata": {
        "id": "PKgMdIkkJfjt",
        "outputId": "42bf2887-67a4-4c93-e254-bb1ecdd23409",
        "colab": {
          "base_uri": "https://localhost:8080/",
          "height": 52
        }
      },
      "source": [
        "pk.placekey_to_wkt(placekey)"
      ],
      "execution_count": 9,
      "outputs": [
        {
          "output_type": "execute_result",
          "data": {
            "application/vnd.google.colaboratory.intrinsic+json": {
              "type": "string"
            },
            "text/plain": [
              "'POLYGON ((37.77921928451977 -122.4184407703954, 37.77938331431949 -122.4192867193292, 37.78005354361958 -122.419493574343, 37.7805597469161 -122.4188544735156, 37.78039571852498 -122.4180085133217, 37.77972548542876 -122.4178016652156, 37.77921928451977 -122.4184407703954))'"
            ]
          },
          "metadata": {
            "tags": []
          },
          "execution_count": 9
        }
      ]
    },
    {
      "cell_type": "code",
      "metadata": {
        "id": "OmELXNSkJm3U",
        "outputId": "58ac57fd-7334-4e6f-f63c-b5cefdeb15f0",
        "colab": {
          "base_uri": "https://localhost:8080/",
          "height": 153
        }
      },
      "source": [
        "pk.placekey_to_geojson(placekey)"
      ],
      "execution_count": 10,
      "outputs": [
        {
          "output_type": "execute_result",
          "data": {
            "text/plain": [
              "{'coordinates': (((-122.41844077039543, 37.77921928451977),\n",
              "   (-122.41780166521563, 37.77972548542876),\n",
              "   (-122.41800851332172, 37.78039571852498),\n",
              "   (-122.41885447351558, 37.780559746916104),\n",
              "   (-122.41949357434298, 37.78005354361958),\n",
              "   (-122.41928671932915, 37.77938331431949),\n",
              "   (-122.41844077039543, 37.77921928451977)),),\n",
              " 'type': 'Polygon'}"
            ]
          },
          "metadata": {
            "tags": []
          },
          "execution_count": 10
        }
      ]
    },
    {
      "cell_type": "code",
      "metadata": {
        "id": "_B3U1SbtJwki",
        "outputId": "e5659b1d-a5ce-4171-dbc8-92787627e18b",
        "colab": {
          "base_uri": "https://localhost:8080/",
          "height": 121
        }
      },
      "source": [
        "pk.placekey_to_polygon(placekey)"
      ],
      "execution_count": 11,
      "outputs": [
        {
          "output_type": "execute_result",
          "data": {
            "text/plain": [
              "<shapely.geometry.polygon.Polygon at 0x7f0e3e694c50>"
            ],
            "image/svg+xml": "<svg xmlns=\"http://www.w3.org/2000/svg\" xmlns:xlink=\"http://www.w3.org/1999/xlink\" width=\"100.0\" height=\"100.0\" viewBox=\"37.77915160815468 -122.41956125070807 0.0014758151265183983 0.0018272618575281285\" preserveAspectRatio=\"xMinYMin meet\"><g transform=\"matrix(1,0,0,-1,0,-244.8372952395586)\"><path fill-rule=\"evenodd\" fill=\"#66cc99\" stroke=\"#555555\" stroke-width=\"3.654523715056257e-05\" opacity=\"0.6\" d=\"M 37.77921928451977,-122.41844077039543 L 37.77938331431949,-122.41928671932915 L 37.78005354361958,-122.41949357434298 L 37.780559746916104,-122.41885447351558 L 37.78039571852498,-122.41800851332172 L 37.77972548542876,-122.41780166521563 L 37.77921928451977,-122.41844077039543 z\" /></g></svg>"
          },
          "metadata": {
            "tags": []
          },
          "execution_count": 11
        }
      ]
    },
    {
      "cell_type": "markdown",
      "metadata": {
        "id": "eZNfIRytJ-0f"
      },
      "source": [
        "#######################################################################################################"
      ]
    },
    {
      "cell_type": "code",
      "metadata": {
        "id": "DY4SNWyuJ402"
      },
      "source": [
        "import placekey as pk\n",
        "import geopandas as gpd\n",
        "import numpy as np\n",
        "import folium"
      ],
      "execution_count": 12,
      "outputs": []
    },
    {
      "cell_type": "code",
      "metadata": {
        "id": "-biYl7AiJ8tU",
        "outputId": "917c49f4-537e-4f39-f433-a42b2c540289",
        "colab": {
          "base_uri": "https://localhost:8080/",
          "height": 235
        }
      },
      "source": [
        "cbgs = gpd.read_file('placekey-notebooks/data/CA_2019_census_block_groups_sample/').set_index('GEOID')\n",
        "cbgs.head()"
      ],
      "execution_count": 16,
      "outputs": [
        {
          "output_type": "execute_result",
          "data": {
            "text/html": [
              "<div>\n",
              "<style scoped>\n",
              "    .dataframe tbody tr th:only-of-type {\n",
              "        vertical-align: middle;\n",
              "    }\n",
              "\n",
              "    .dataframe tbody tr th {\n",
              "        vertical-align: top;\n",
              "    }\n",
              "\n",
              "    .dataframe thead th {\n",
              "        text-align: right;\n",
              "    }\n",
              "</style>\n",
              "<table border=\"1\" class=\"dataframe\">\n",
              "  <thead>\n",
              "    <tr style=\"text-align: right;\">\n",
              "      <th></th>\n",
              "      <th>STATEFP</th>\n",
              "      <th>COUNTYFP</th>\n",
              "      <th>TRACTCE</th>\n",
              "      <th>BLKGRPCE</th>\n",
              "      <th>NAMELSAD</th>\n",
              "      <th>MTFCC</th>\n",
              "      <th>FUNCSTAT</th>\n",
              "      <th>ALAND</th>\n",
              "      <th>AWATER</th>\n",
              "      <th>INTPTLAT</th>\n",
              "      <th>INTPTLON</th>\n",
              "      <th>geometry</th>\n",
              "    </tr>\n",
              "    <tr>\n",
              "      <th>GEOID</th>\n",
              "      <th></th>\n",
              "      <th></th>\n",
              "      <th></th>\n",
              "      <th></th>\n",
              "      <th></th>\n",
              "      <th></th>\n",
              "      <th></th>\n",
              "      <th></th>\n",
              "      <th></th>\n",
              "      <th></th>\n",
              "      <th></th>\n",
              "      <th></th>\n",
              "    </tr>\n",
              "  </thead>\n",
              "  <tbody>\n",
              "    <tr>\n",
              "      <th>060750122012</th>\n",
              "      <td>06</td>\n",
              "      <td>075</td>\n",
              "      <td>012201</td>\n",
              "      <td>2</td>\n",
              "      <td>Block Group 2</td>\n",
              "      <td>G5030</td>\n",
              "      <td>S</td>\n",
              "      <td>30528</td>\n",
              "      <td>0</td>\n",
              "      <td>+37.7849116</td>\n",
              "      <td>-122.4161659</td>\n",
              "      <td>POLYGON ((-122.41790 37.78517, -122.41626 37.7...</td>\n",
              "    </tr>\n",
              "    <tr>\n",
              "      <th>060750124012</th>\n",
              "      <td>06</td>\n",
              "      <td>075</td>\n",
              "      <td>012401</td>\n",
              "      <td>2</td>\n",
              "      <td>Block Group 2</td>\n",
              "      <td>G5030</td>\n",
              "      <td>S</td>\n",
              "      <td>45978</td>\n",
              "      <td>0</td>\n",
              "      <td>+37.7831562</td>\n",
              "      <td>-122.4149685</td>\n",
              "      <td>POLYGON ((-122.41607 37.78445, -122.41478 37.7...</td>\n",
              "    </tr>\n",
              "    <tr>\n",
              "      <th>060750124023</th>\n",
              "      <td>06</td>\n",
              "      <td>075</td>\n",
              "      <td>012402</td>\n",
              "      <td>3</td>\n",
              "      <td>Block Group 3</td>\n",
              "      <td>G5030</td>\n",
              "      <td>S</td>\n",
              "      <td>62826</td>\n",
              "      <td>0</td>\n",
              "      <td>+37.7830940</td>\n",
              "      <td>-122.4192115</td>\n",
              "      <td>POLYGON ((-122.42107 37.78382, -122.42093 37.7...</td>\n",
              "    </tr>\n",
              "    <tr>\n",
              "      <th>060750126021</th>\n",
              "      <td>06</td>\n",
              "      <td>075</td>\n",
              "      <td>012602</td>\n",
              "      <td>1</td>\n",
              "      <td>Block Group 1</td>\n",
              "      <td>G5030</td>\n",
              "      <td>S</td>\n",
              "      <td>248192</td>\n",
              "      <td>544217</td>\n",
              "      <td>+37.8064743</td>\n",
              "      <td>-122.4356584</td>\n",
              "      <td>POLYGON ((-122.44308 37.80973, -122.43008 37.8...</td>\n",
              "    </tr>\n",
              "    <tr>\n",
              "      <th>060750129011</th>\n",
              "      <td>06</td>\n",
              "      <td>075</td>\n",
              "      <td>012901</td>\n",
              "      <td>1</td>\n",
              "      <td>Block Group 1</td>\n",
              "      <td>G5030</td>\n",
              "      <td>S</td>\n",
              "      <td>90524</td>\n",
              "      <td>0</td>\n",
              "      <td>+37.8010280</td>\n",
              "      <td>-122.4270595</td>\n",
              "      <td>POLYGON ((-122.42967 37.80165, -122.42802 37.8...</td>\n",
              "    </tr>\n",
              "  </tbody>\n",
              "</table>\n",
              "</div>"
            ],
            "text/plain": [
              "             STATEFP  ...                                           geometry\n",
              "GEOID                 ...                                                   \n",
              "060750122012      06  ...  POLYGON ((-122.41790 37.78517, -122.41626 37.7...\n",
              "060750124012      06  ...  POLYGON ((-122.41607 37.78445, -122.41478 37.7...\n",
              "060750124023      06  ...  POLYGON ((-122.42107 37.78382, -122.42093 37.7...\n",
              "060750126021      06  ...  POLYGON ((-122.44308 37.80973, -122.43008 37.8...\n",
              "060750129011      06  ...  POLYGON ((-122.42967 37.80165, -122.42802 37.8...\n",
              "\n",
              "[5 rows x 12 columns]"
            ]
          },
          "metadata": {
            "tags": []
          },
          "execution_count": 16
        }
      ]
    },
    {
      "cell_type": "code",
      "metadata": {
        "id": "k1TGB7GTKfPp",
        "outputId": "0491d096-9d5a-41ad-c2bd-dc8be1132ca4",
        "colab": {
          "base_uri": "https://localhost:8080/",
          "height": 121
        }
      },
      "source": [
        "cbg_geometry = cbgs.loc['060750124022']['geometry']\n",
        "cbg_geometry"
      ],
      "execution_count": 17,
      "outputs": [
        {
          "output_type": "execute_result",
          "data": {
            "text/plain": [
              "<shapely.geometry.polygon.Polygon at 0x7f0e36f9bfd0>"
            ],
            "image/svg+xml": "<svg xmlns=\"http://www.w3.org/2000/svg\" xmlns:xlink=\"http://www.w3.org/1999/xlink\" width=\"100.0\" height=\"100.0\" viewBox=\"-122.42097575999999 37.77492324 0.0049705199999863225 0.007742520000000752\" preserveAspectRatio=\"xMinYMin meet\"><g transform=\"matrix(1,0,0,-1,0,75.55758900000001)\"><path fill-rule=\"evenodd\" fill=\"#66cc99\" stroke=\"#555555\" stroke-width=\"0.00015485040000001504\" opacity=\"0.6\" d=\"M -122.420689,37.781954999999996 L -122.420541,37.781973 L -122.418993,37.782168999999996 L -122.417339,37.782379 L -122.417146,37.781447 L -122.41694799999999,37.78047 L -122.41676799999999,37.779584 L -122.41658,37.778658 L -122.41640100000001,37.777723 L -122.416292,37.777494 L -122.417615,37.7766 L -122.41870399999999,37.775645 L -122.419219,37.775316 L -122.41931,37.775233 L -122.41933399999999,37.77521 L -122.419359,37.775431999999995 L -122.419432,37.775908 L -122.419542,37.776364 L -122.419765,37.777291 L -122.419788,37.777387 L -122.41985700000001,37.777732 L -122.419934,37.77812 L -122.419943,37.778238 L -122.420358,37.780072 L -122.420542,37.781017999999996 L -122.420689,37.781954999999996 z\" /></g></svg>"
          },
          "metadata": {
            "tags": []
          },
          "execution_count": 17
        }
      ]
    },
    {
      "cell_type": "code",
      "metadata": {
        "id": "bq4ljXTAYuRR",
        "outputId": "2df421cd-d895-403b-af75-bf8fc6220df1",
        "colab": {
          "base_uri": "https://localhost:8080/",
          "height": 811
        }
      },
      "source": [
        "cbg_centroid = next(zip(*cbg_geometry.centroid.xy))  # This is a (long, lat) tuple\n",
        "cbg_map = folium.Map(cbg_centroid[::-1], zoom_start=16, tiles='cartodbpositron')\n",
        "folium.GeoJson(cbg_geometry).add_to(cbg_map)\n",
        "cbg_map"
      ],
      "execution_count": 18,
      "outputs": [
        {
          "output_type": "execute_result",
          "data": {
            "text/html": [
              "<div style=\"width:100%;\"><div style=\"position:relative;width:100%;height:0;padding-bottom:60%;\"><span style=\"color:#565656\">Make this Notebook Trusted to load map: File -> Trust Notebook</span><iframe src=\"about:blank\" style=\"position:absolute;width:100%;height:100%;left:0;top:0;border:none !important;\" data-html=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 onload=\"this.contentDocument.open();this.contentDocument.write(atob(this.getAttribute('data-html')));this.contentDocument.close();\" allowfullscreen webkitallowfullscreen mozallowfullscreen></iframe></div></div>"
            ],
            "text/plain": [
              "<folium.folium.Map at 0x7f0e3e694a90>"
            ]
          },
          "metadata": {
            "tags": []
          },
          "execution_count": 18
        }
      ]
    },
    {
      "cell_type": "code",
      "metadata": {
        "id": "wYBulklEY5vW",
        "outputId": "b5efdb66-7714-4927-c67b-4d043be7fb0f",
        "colab": {
          "base_uri": "https://localhost:8080/",
          "height": 391
        }
      },
      "source": [
        "covering_placekeys = pk.polygon_to_placekeys(cbg_geometry, geo_json=True)\n",
        "covering_placekeys"
      ],
      "execution_count": 20,
      "outputs": [
        {
          "output_type": "execute_result",
          "data": {
            "text/plain": [
              "{'boundary': ('@5vg-7gq-t7q',\n",
              "  '@5vg-7gq-7wk',\n",
              "  '@5vg-7gq-7kf',\n",
              "  '@5vg-7gq-r8v',\n",
              "  '@5vg-7gq-tn5',\n",
              "  '@5vg-7gq-qpv',\n",
              "  '@5vg-7gq-ty9',\n",
              "  '@5vg-7gq-t9z',\n",
              "  '@5vg-7gq-syv',\n",
              "  '@5vg-7gq-7yv',\n",
              "  '@5vg-7gq-rff',\n",
              "  '@5vg-7gq-tqf',\n",
              "  '@5vg-7gq-dn5',\n",
              "  '@5vg-7gq-d9z',\n",
              "  '@5vg-7gq-gx5',\n",
              "  '@5vg-7gq-7nq',\n",
              "  '@5vg-7gq-7qz'),\n",
              " 'interior': ('@5vg-7gq-tvz',\n",
              "  '@5vg-7gq-tjv',\n",
              "  '@5vg-7gq-v2k',\n",
              "  '@5vg-7gq-tsq',\n",
              "  '@5vg-7gq-7t9')}"
            ]
          },
          "metadata": {
            "tags": []
          },
          "execution_count": 20
        }
      ]
    },
    {
      "cell_type": "code",
      "metadata": {
        "id": "Yb0hdjcaZDYU"
      },
      "source": [
        "def draw_placekeys(placekey_values, zoom_start=18, folium_map=None, hex_color='lightblue', weight=2, labels=False):\n",
        "    \"\"\"\n",
        "    :param placekey_values: A list of Placekey strings\n",
        "    :param zoom_start: Folium zoom level. 18 is suitable for neighboring resolution 10 H3s.\n",
        "    :folium_map: A Folium map object to add the Placekeys to\n",
        "    :labels: Whether or not to add labels for Placekeys\n",
        "    :return: a Folium map object\n",
        "    \n",
        "    \"\"\"\n",
        "    geos = [pk.placekey_to_geo(p) for p in placekey_values]\n",
        "    hexagons = [pk.placekey_to_hex_boundary(p) for p in placekey_values]\n",
        "\n",
        "    if folium_map is None:\n",
        "        centroid = np.mean(geos, axis=0)\n",
        "        folium_map = folium.Map((centroid[0], centroid[1]), zoom_start=zoom_start, tiles='cartodbpositron')\n",
        "\n",
        "    for h in hexagons:\n",
        "        folium.Polygon(\n",
        "            locations=h,\n",
        "            weight=weight,\n",
        "            color=hex_color\n",
        "        ).add_to(folium_map)\n",
        "        \n",
        "    if labels:\n",
        "        for p, g in zip(placekey_values, geos):\n",
        "            icon = folium.features.DivIcon(\n",
        "                icon_size=(120, 36),\n",
        "                icon_anchor=(60, 15),\n",
        "                html='<div style=\"align: center; font-size: 12pt; background-color: lightblue; border-radius: 5px; padding: 2px\">{}</div>'.format(p),\n",
        "            )\n",
        "            \n",
        "            folium.map.Marker(\n",
        "                [g[0], g[1]],\n",
        "                icon=icon\n",
        "            ).add_to(folium_map)\n",
        "        \n",
        "    return folium_map"
      ],
      "execution_count": 21,
      "outputs": []
    },
    {
      "cell_type": "code",
      "metadata": {
        "id": "IE_3pltvZQX7",
        "outputId": "8a685a3d-c834-4bf9-9b93-1ba816367a91",
        "colab": {
          "base_uri": "https://localhost:8080/",
          "height": 811
        }
      },
      "source": [
        "pk_cbg_map = draw_placekeys(covering_placekeys['boundary'], folium_map=cbg_map, hex_color='orange')\n",
        "pk_cbg_map = draw_placekeys(covering_placekeys['interior'], folium_map=pk_cbg_map, hex_color='red')\n",
        "\n",
        "pk_cbg_map"
      ],
      "execution_count": 22,
      "outputs": [
        {
          "output_type": "execute_result",
          "data": {
            "text/html": [
              "<div style=\"width:100%;\"><div style=\"position:relative;width:100%;height:0;padding-bottom:60%;\"><span style=\"color:#565656\">Make this Notebook Trusted to load map: File -> Trust Notebook</span><iframe src=\"about:blank\" style=\"position:absolute;width:100%;height:100%;left:0;top:0;border:none !important;\" data-html=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 onload=\"this.contentDocument.open();this.contentDocument.write(atob(this.getAttribute('data-html')));this.contentDocument.close();\" allowfullscreen webkitallowfullscreen mozallowfullscreen></iframe></div></div>"
            ],
            "text/plain": [
              "<folium.folium.Map at 0x7f0e3e694a90>"
            ]
          },
          "metadata": {
            "tags": []
          },
          "execution_count": 22
        }
      ]
    },
    {
      "cell_type": "code",
      "metadata": {
        "id": "DnL5GKIGZTRx",
        "outputId": "0c253415-1658-4ed6-c946-b1f943a53f3e",
        "colab": {
          "base_uri": "https://localhost:8080/",
          "height": 811
        }
      },
      "source": [
        "draw_placekeys(\n",
        "    covering_placekeys['interior'] + covering_placekeys['boundary'],\n",
        "    zoom_start=17, labels=True\n",
        ")"
      ],
      "execution_count": 23,
      "outputs": [
        {
          "output_type": "execute_result",
          "data": {
            "text/html": [
              "<div style=\"width:100%;\"><div style=\"position:relative;width:100%;height:0;padding-bottom:60%;\"><span style=\"color:#565656\">Make this Notebook Trusted to load map: File -> Trust Notebook</span><iframe src=\"about:blank\" style=\"position:absolute;width:100%;height:100%;left:0;top:0;border:none !important;\" data-html=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 onload=\"this.contentDocument.open();this.contentDocument.write(atob(this.getAttribute('data-html')));this.contentDocument.close();\" allowfullscreen webkitallowfullscreen mozallowfullscreen></iframe></div></div>"
            ],
            "text/plain": [
              "<folium.folium.Map at 0x7f0e37035080>"
            ]
          },
          "metadata": {
            "tags": []
          },
          "execution_count": 23
        }
      ]
    },
    {
      "cell_type": "code",
      "metadata": {
        "id": "4tAZn4vOZfSf",
        "outputId": "31705396-f5a6-4656-bd21-4cc4c975bfa6",
        "colab": {
          "base_uri": "https://localhost:8080/",
          "height": 34
        }
      },
      "source": [
        "pk.placekey_distance('@5vg-7gq-dn5', '@5vg-7gq-t9z')"
      ],
      "execution_count": 24,
      "outputs": [
        {
          "output_type": "execute_result",
          "data": {
            "text/plain": [
              "473.5610104598311"
            ]
          },
          "metadata": {
            "tags": []
          },
          "execution_count": 24
        }
      ]
    },
    {
      "cell_type": "code",
      "metadata": {
        "id": "_Gt0o5V-ZjMl",
        "outputId": "1f7fa6f4-4e2b-4e8b-ee07-d03cbaa33624",
        "colab": {
          "base_uri": "https://localhost:8080/",
          "height": 187
        }
      },
      "source": [
        "pk.get_prefix_distance_dict()"
      ],
      "execution_count": 25,
      "outputs": [
        {
          "output_type": "execute_result",
          "data": {
            "text/plain": [
              "{0: 20040000.0,\n",
              " 1: 20040000.0,\n",
              " 2: 2777000.0,\n",
              " 3: 1065000.0,\n",
              " 4: 152400.0,\n",
              " 5: 21770.0,\n",
              " 6: 8227.0,\n",
              " 7: 1176.0,\n",
              " 8: 444.3,\n",
              " 9: 63.47}"
            ]
          },
          "metadata": {
            "tags": []
          },
          "execution_count": 25
        }
      ]
    },
    {
      "cell_type": "code",
      "metadata": {
        "id": "unZ-JjsQZmyn",
        "outputId": "7f2c83ec-9ba5-43f8-8dce-87c3365546a4",
        "colab": {
          "base_uri": "https://localhost:8080/",
          "height": 119
        }
      },
      "source": [
        "pk.placekey_to_hex_boundary('@5vg-7gq-tjv')"
      ],
      "execution_count": 26,
      "outputs": [
        {
          "output_type": "execute_result",
          "data": {
            "text/plain": [
              "((37.77921928451977, -122.41844077039543),\n",
              " (37.77972548542876, -122.41780166521563),\n",
              " (37.78039571852498, -122.41800851332172),\n",
              " (37.780559746916104, -122.41885447351558),\n",
              " (37.78005354361958, -122.41949357434298),\n",
              " (37.77938331431949, -122.41928671932915))"
            ]
          },
          "metadata": {
            "tags": []
          },
          "execution_count": 26
        }
      ]
    },
    {
      "cell_type": "code",
      "metadata": {
        "id": "t8WERyeMZzGP",
        "outputId": "fdca5ffb-665f-49e1-a22a-efed8aa7b513",
        "colab": {
          "base_uri": "https://localhost:8080/",
          "height": 136
        }
      },
      "source": [
        "pk.placekey_to_hex_boundary('@5vg-7gq-tjv', geo_json=True)"
      ],
      "execution_count": 27,
      "outputs": [
        {
          "output_type": "execute_result",
          "data": {
            "text/plain": [
              "((-122.41844077039543, 37.77921928451977),\n",
              " (-122.41780166521563, 37.77972548542876),\n",
              " (-122.41800851332172, 37.78039571852498),\n",
              " (-122.41885447351558, 37.780559746916104),\n",
              " (-122.41949357434298, 37.78005354361958),\n",
              " (-122.41928671932915, 37.77938331431949),\n",
              " (-122.41844077039543, 37.77921928451977))"
            ]
          },
          "metadata": {
            "tags": []
          },
          "execution_count": 27
        }
      ]
    },
    {
      "cell_type": "code",
      "metadata": {
        "id": "9VJcQcqraONn",
        "outputId": "73c588fb-2cab-46fc-c00c-3db2cf438748",
        "colab": {
          "base_uri": "https://localhost:8080/",
          "height": 121
        }
      },
      "source": [
        "pk.placekey_to_polygon('@5vg-7gq-tjv')"
      ],
      "execution_count": 28,
      "outputs": [
        {
          "output_type": "execute_result",
          "data": {
            "text/plain": [
              "<shapely.geometry.polygon.Polygon at 0x7f0e37035588>"
            ],
            "image/svg+xml": "<svg xmlns=\"http://www.w3.org/2000/svg\" xmlns:xlink=\"http://www.w3.org/1999/xlink\" width=\"100.0\" height=\"100.0\" viewBox=\"37.77915160815468 -122.41956125070807 0.0014758151265183983 0.0018272618575281285\" preserveAspectRatio=\"xMinYMin meet\"><g transform=\"matrix(1,0,0,-1,0,-244.8372952395586)\"><path fill-rule=\"evenodd\" fill=\"#66cc99\" stroke=\"#555555\" stroke-width=\"3.654523715056257e-05\" opacity=\"0.6\" d=\"M 37.77921928451977,-122.41844077039543 L 37.77938331431949,-122.41928671932915 L 37.78005354361958,-122.41949357434298 L 37.780559746916104,-122.41885447351558 L 37.78039571852498,-122.41800851332172 L 37.77972548542876,-122.41780166521563 L 37.77921928451977,-122.41844077039543 z\" /></g></svg>"
          },
          "metadata": {
            "tags": []
          },
          "execution_count": 28
        }
      ]
    },
    {
      "cell_type": "code",
      "metadata": {
        "id": "uh65EtrOaSD5",
        "outputId": "1a6c4e80-5bb2-4896-ce31-3d01d4916987",
        "colab": {
          "base_uri": "https://localhost:8080/",
          "height": 52
        }
      },
      "source": [
        "pk.placekey_to_wkt('@5vg-7gq-tjv')"
      ],
      "execution_count": 29,
      "outputs": [
        {
          "output_type": "execute_result",
          "data": {
            "application/vnd.google.colaboratory.intrinsic+json": {
              "type": "string"
            },
            "text/plain": [
              "'POLYGON ((37.77921928451977 -122.4184407703954, 37.77938331431949 -122.4192867193292, 37.78005354361958 -122.419493574343, 37.7805597469161 -122.4188544735156, 37.78039571852498 -122.4180085133217, 37.77972548542876 -122.4178016652156, 37.77921928451977 -122.4184407703954))'"
            ]
          },
          "metadata": {
            "tags": []
          },
          "execution_count": 29
        }
      ]
    },
    {
      "cell_type": "code",
      "metadata": {
        "id": "vudZ1c3LaUMM",
        "outputId": "1c3cc8e0-ab29-4a37-b7a3-b991c1b2343a",
        "colab": {
          "base_uri": "https://localhost:8080/",
          "height": 153
        }
      },
      "source": [
        "pk.placekey_to_geojson('@5vg-7gq-tjv')"
      ],
      "execution_count": 30,
      "outputs": [
        {
          "output_type": "execute_result",
          "data": {
            "text/plain": [
              "{'coordinates': (((-122.41844077039543, 37.77921928451977),\n",
              "   (-122.41780166521563, 37.77972548542876),\n",
              "   (-122.41800851332172, 37.78039571852498),\n",
              "   (-122.41885447351558, 37.780559746916104),\n",
              "   (-122.41949357434298, 37.78005354361958),\n",
              "   (-122.41928671932915, 37.77938331431949),\n",
              "   (-122.41844077039543, 37.77921928451977)),),\n",
              " 'type': 'Polygon'}"
            ]
          },
          "metadata": {
            "tags": []
          },
          "execution_count": 30
        }
      ]
    },
    {
      "cell_type": "code",
      "metadata": {
        "id": "n1xM_9uOaWLC",
        "outputId": "4b517e7c-6d46-4420-8c2e-410d44300c54",
        "colab": {
          "base_uri": "https://localhost:8080/",
          "height": 34
        }
      },
      "source": [
        "pk.placekey_format_is_valid(\"223-227@5vg-7gq-tjv\")"
      ],
      "execution_count": 31,
      "outputs": [
        {
          "output_type": "execute_result",
          "data": {
            "text/plain": [
              "True"
            ]
          },
          "metadata": {
            "tags": []
          },
          "execution_count": 31
        }
      ]
    },
    {
      "cell_type": "code",
      "metadata": {
        "id": "_9DQeT_xaaXU",
        "outputId": "d4c69239-7573-463a-bd0d-ce6c3a1aeaaa",
        "colab": {
          "base_uri": "https://localhost:8080/",
          "height": 34
        }
      },
      "source": [
        "pk.placekey_format_is_valid(\"223-227@ima-bad-key\")"
      ],
      "execution_count": 32,
      "outputs": [
        {
          "output_type": "execute_result",
          "data": {
            "text/plain": [
              "False"
            ]
          },
          "metadata": {
            "tags": []
          },
          "execution_count": 32
        }
      ]
    },
    {
      "cell_type": "code",
      "metadata": {
        "id": "XIBFCBugack9",
        "outputId": "a228a027-f9aa-4a48-f975-13f85587e5e4",
        "colab": {
          "base_uri": "https://localhost:8080/",
          "height": 34
        }
      },
      "source": [
        "import pandas as pd\n",
        "dutch_tweets = pd.read_excel(\"Dutch tweets.xlsx\")\n",
        "dutch_tweets.shape"
      ],
      "execution_count": 36,
      "outputs": [
        {
          "output_type": "execute_result",
          "data": {
            "text/plain": [
              "(1000, 11)"
            ]
          },
          "metadata": {
            "tags": []
          },
          "execution_count": 36
        }
      ]
    },
    {
      "cell_type": "code",
      "metadata": {
        "id": "eYkMLWSPalLr",
        "outputId": "3be9fc9a-f007-4ca8-d097-c497102479c2",
        "colab": {
          "base_uri": "https://localhost:8080/",
          "height": 68
        }
      },
      "source": [
        "dutch_tweets.columns"
      ],
      "execution_count": 37,
      "outputs": [
        {
          "output_type": "execute_result",
          "data": {
            "text/plain": [
              "Index(['full_text', 'created_at', 'screen_name', 'description', 'location',\n",
              "       'Industry', 'text Translation', 'Day', 'Weekday', 'Month', 'Year'],\n",
              "      dtype='object')"
            ]
          },
          "metadata": {
            "tags": []
          },
          "execution_count": 37
        }
      ]
    },
    {
      "cell_type": "code",
      "metadata": {
        "id": "Lh4B6dJgaqzp"
      },
      "source": [
        "pk."
      ],
      "execution_count": null,
      "outputs": []
    }
  ]
}