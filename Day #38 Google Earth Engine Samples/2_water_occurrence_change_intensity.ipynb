{
  "nbformat": 4,
  "nbformat_minor": 0,
  "metadata": {
    "anaconda-cloud": {},
    "kernelspec": {
      "display_name": "Python 3",
      "language": "python",
      "name": "python3"
    },
    "language_info": {
      "codemirror_mode": {
        "name": "ipython",
        "version": 3
      },
      "file_extension": ".py",
      "mimetype": "text/x-python",
      "name": "python",
      "nbconvert_exporter": "python",
      "pygments_lexer": "ipython3",
      "version": "3.6.1"
    },
    "colab": {
      "name": "2_water_occurrence_change_intensity.ipynb",
      "provenance": []
    }
  },
  "cells": [
    {
      "cell_type": "markdown",
      "metadata": {
        "id": "4eLurlWdD_3w",
        "colab_type": "text"
      },
      "source": [
        "<table class=\"ee-notebook-buttons\" align=\"left\">\n",
        "    <td><a target=\"_blank\"  href=\"https://github.com/giswqs/earthengine-py-notebooks/tree/master/Tutorials/GlobalSurfaceWater/2_water_occurrence_change_intensity.ipynb\"><img width=32px src=\"https://www.tensorflow.org/images/GitHub-Mark-32px.png\" /> View source on GitHub</a></td>\n",
        "    <td><a target=\"_blank\"  href=\"https://nbviewer.jupyter.org/github/giswqs/earthengine-py-notebooks/blob/master/Tutorials/GlobalSurfaceWater/2_water_occurrence_change_intensity.ipynb\"><img width=26px src=\"https://upload.wikimedia.org/wikipedia/commons/thumb/3/38/Jupyter_logo.svg/883px-Jupyter_logo.svg.png\" />Notebook Viewer</a></td>\n",
        "    <td><a target=\"_blank\"  href=\"https://colab.research.google.com/github/giswqs/earthengine-py-notebooks/blob/master/Tutorials/GlobalSurfaceWater/2_water_occurrence_change_intensity.ipynb\"><img src=\"https://www.tensorflow.org/images/colab_logo_32px.png\" /> Run in Google Colab</a></td>\n",
        "</table>"
      ]
    },
    {
      "cell_type": "markdown",
      "metadata": {
        "id": "9zdU9pXdD_3z",
        "colab_type": "text"
      },
      "source": [
        "## Install Earth Engine API and geemap\n",
        "Install the [Earth Engine Python API](https://developers.google.com/earth-engine/python_install) and [geemap](https://github.com/giswqs/geemap). The **geemap** Python package is built upon the [ipyleaflet](https://github.com/jupyter-widgets/ipyleaflet) and [folium](https://github.com/python-visualization/folium) packages and implements several methods for interacting with Earth Engine data layers, such as `Map.addLayer()`, `Map.setCenter()`, and `Map.centerObject()`.\n",
        "The following script checks if the geemap package has been installed. If not, it will install geemap, which automatically installs its [dependencies](https://github.com/giswqs/geemap#dependencies), including earthengine-api, folium, and ipyleaflet.\n",
        "\n",
        "**Important note**: A key difference between folium and ipyleaflet is that ipyleaflet is built upon ipywidgets and allows bidirectional communication between the front-end and the backend enabling the use of the map to capture user input, while folium is meant for displaying static data only ([source](https://blog.jupyter.org/interactive-gis-in-jupyter-with-ipyleaflet-52f9657fa7a)). Note that [Google Colab](https://colab.research.google.com/) currently does not support ipyleaflet ([source](https://github.com/googlecolab/colabtools/issues/60#issuecomment-596225619)). Therefore, if you are using geemap with Google Colab, you should use [`import geemap.eefolium`](https://github.com/giswqs/geemap/blob/master/geemap/eefolium.py). If you are using geemap with [binder](https://mybinder.org/) or a local Jupyter notebook server, you can use [`import geemap`](https://github.com/giswqs/geemap/blob/master/geemap/geemap.py), which provides more functionalities for capturing user input (e.g., mouse-clicking and moving)."
      ]
    },
    {
      "cell_type": "code",
      "metadata": {
        "id": "RVYmh7aRD_30",
        "colab_type": "code",
        "colab": {}
      },
      "source": [
        "# Installs geemap package\n",
        "import subprocess\n",
        "\n",
        "try:\n",
        "    import geemap\n",
        "except ImportError:\n",
        "    print('geemap package not installed. Installing ...')\n",
        "    subprocess.check_call([\"python\", '-m', 'pip', 'install', 'geemap'])\n",
        "\n",
        "# Checks whether this notebook is running on Google Colab\n",
        "try:\n",
        "    import google.colab\n",
        "    import geemap.eefolium as geemap\n",
        "except:\n",
        "    import geemap\n",
        "\n",
        "# Authenticates and initializes Earth Engine\n",
        "import ee\n",
        "\n",
        "try:\n",
        "    ee.Initialize()\n",
        "except Exception as e:\n",
        "    ee.Authenticate()\n",
        "    ee.Initialize()  "
      ],
      "execution_count": null,
      "outputs": []
    },
    {
      "cell_type": "markdown",
      "metadata": {
        "id": "si_IolTaD_3-",
        "colab_type": "text"
      },
      "source": [
        "## Create an interactive map \n",
        "The default basemap is `Google Maps`. [Additional basemaps](https://github.com/giswqs/geemap/blob/master/geemap/basemaps.py) can be added using the `Map.add_basemap()` function. "
      ]
    },
    {
      "cell_type": "code",
      "metadata": {
        "id": "KO9ND7heD_4A",
        "colab_type": "code",
        "colab": {}
      },
      "source": [
        "Map = geemap.Map(center=[40,-100], zoom=4)\n",
        "Map"
      ],
      "execution_count": null,
      "outputs": []
    },
    {
      "cell_type": "markdown",
      "metadata": {
        "id": "LcU6-g5WD_4I",
        "colab_type": "text"
      },
      "source": [
        "## Add Earth Engine Python script "
      ]
    },
    {
      "cell_type": "code",
      "metadata": {
        "id": "GpRqxgGSD_4K",
        "colab_type": "code",
        "colab": {}
      },
      "source": [
        "# Add Earth Engine dataset\n",
        "###############################\n",
        "# Asset List\n",
        "###############################\n",
        "\n",
        "gsw = ee.Image('JRC/GSW1_1/GlobalSurfaceWater')\n",
        "occurrence = gsw.select('occurrence')\n",
        "change = gsw.select(\"change_abs\")\n",
        "roi = ee.Geometry.Polygon(\n",
        "        [[[-74.17213, -8.65569],\n",
        "          [-74.17419, -8.39222],\n",
        "          [-74.38362, -8.36980],\n",
        "          [-74.43031, -8.61293]]])\n",
        "\n",
        "###############################\n",
        "# Constants\n",
        "###############################\n",
        "\n",
        "VIS_OCCURRENCE = {\n",
        "    'min':0,\n",
        "    'max':100,\n",
        "    'palette': ['red', 'blue']\n",
        "}\n",
        "VIS_CHANGE = {\n",
        "    'min':-50,\n",
        "    'max':50,\n",
        "    'palette': ['red', 'black', 'limegreen']\n",
        "}\n",
        "VIS_WATER_MASK = {\n",
        "  'palette': ['white', 'black']\n",
        "}\n",
        "\n",
        "###############################\n",
        "# Calculations\n",
        "###############################\n",
        "\n",
        "# Create a water mask layer, and set the image mask so that non-water areas are transparent.\n",
        "water_mask = occurrence.gt(90).mask(1)\n",
        "\n",
        "# # Generate a histogram object and print it to the console tab.\n",
        "# histogram = ui.Chart.image.histogram({\n",
        "#   'image': change,\n",
        "#   'region': roi,\n",
        "#   'scale': 30,\n",
        "#   'minBucketWidth': 10\n",
        "# })\n",
        "# histogram.setOptions({\n",
        "#   title: 'Histogram of surface water change intensity.'\n",
        "# })\n",
        "# print(histogram)\n",
        "\n",
        "###############################\n",
        "# Initialize Map Location\n",
        "###############################\n",
        "\n",
        "# Uncomment one of the following statements to center the map on\n",
        "# a particular location.\n",
        "# Map.setCenter(-90.162, 29.8597, 10)   # New Orleans, USA\n",
        "# Map.setCenter(-114.9774, 31.9254, 10) # Mouth of the Colorado River, Mexico\n",
        "# Map.setCenter(-111.1871, 37.0963, 11) # Lake Powell, USA\n",
        "# Map.setCenter(149.412, -35.0789, 11)  # Lake George, Australia\n",
        "# Map.setCenter(105.26, 11.2134, 9)     # Mekong River Basin, SouthEast Asia\n",
        "# Map.setCenter(90.6743, 22.7382, 10)   # Meghna River, Bangladesh\n",
        "# Map.setCenter(81.2714, 16.5079, 11)   # Godavari River Basin Irrigation Project, India\n",
        "# Map.setCenter(14.7035, 52.0985, 12)   # River Oder, Germany & Poland\n",
        "# Map.setCenter(-59.1696, -33.8111, 9)  # Buenos Aires, Argentina\\\n",
        "Map.setCenter(-74.4557, -8.4289, 11)  # Ucayali River, Peru\n",
        "\n",
        "###############################\n",
        "# Map Layers\n",
        "###############################\n",
        "\n",
        "Map.addLayer(water_mask, VIS_WATER_MASK, '90% occurrence water mask', False)\n",
        "Map.addLayer(occurrence.updateMask(occurrence.divide(100)),  VIS_OCCURRENCE, \"Water Occurrence (1984-2015)\")\n",
        "Map.addLayer(change, VIS_CHANGE,'occurrence change intensity')\n"
      ],
      "execution_count": null,
      "outputs": []
    },
    {
      "cell_type": "markdown",
      "metadata": {
        "id": "ca-TJFa7D_4e",
        "colab_type": "text"
      },
      "source": [
        "## Display Earth Engine data layers "
      ]
    },
    {
      "cell_type": "code",
      "metadata": {
        "id": "lAEhzI6aD_4g",
        "colab_type": "code",
        "colab": {}
      },
      "source": [
        "Map.addLayerControl() # This line is not needed for ipyleaflet-based Map.\n",
        "Map"
      ],
      "execution_count": null,
      "outputs": []
    }
  ]
}