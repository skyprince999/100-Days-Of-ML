{
  "nbformat": 4,
  "nbformat_minor": 0,
  "metadata": {
    "colab": {
      "name": "Google Earth Engine_Sample_code.ipynb",
      "provenance": []
    },
    "kernelspec": {
      "name": "python3",
      "display_name": "Python 3"
    }
  },
  "cells": [
    {
      "cell_type": "markdown",
      "metadata": {
        "id": "h_4VBTubyuBt",
        "colab_type": "text"
      },
      "source": [
        "## Initializing the Google Earth Engine"
      ]
    },
    {
      "cell_type": "code",
      "metadata": {
        "id": "h8AIsYk_xGpI",
        "colab_type": "code",
        "colab": {
          "base_uri": "https://localhost:8080/",
          "height": 171
        },
        "outputId": "cb3526e4-d284-4fe9-ee8a-a598540258dd"
      },
      "source": [
        "import ee\n",
        "\n",
        "# Trigger the authentication flow.\n",
        "ee.Authenticate()\n",
        "\n",
        "# Initialize the library.\n",
        "ee.Initialize()"
      ],
      "execution_count": null,
      "outputs": [
        {
          "output_type": "stream",
          "text": [
            "To authorize access needed by Earth Engine, open the following URL in a web browser and follow the instructions. If the web browser does not start automatically, please manually browse the URL below.\n",
            "\n",
            "    https://accounts.google.com/o/oauth2/auth?client_id=517222506229-vsmmajv00ul0bs7p89v5m89qs8eb9359.apps.googleusercontent.com&scope=https%3A%2F%2Fwww.googleapis.com%2Fauth%2Fearthengine+https%3A%2F%2Fwww.googleapis.com%2Fauth%2Fdevstorage.full_control&redirect_uri=urn%3Aietf%3Awg%3Aoauth%3A2.0%3Aoob&response_type=code&code_challenge=RRjiEREMHLzi2-evWt9eIwkrdNC0G0W7CWKYycFuKJI&code_challenge_method=S256\n",
            "\n",
            "The authorization workflow will generate a code, which you should paste in the box below. \n",
            "Enter verification code: 4/2QF6VF7mPyWezN5r3r9081ns7hIHz77X4kRjloOU4OtTwoItzcd7tAQ\n",
            "\n",
            "Successfully saved authorization token.\n"
          ],
          "name": "stdout"
        }
      ]
    },
    {
      "cell_type": "markdown",
      "metadata": {
        "id": "8vQ_hz1EOaxA",
        "colab_type": "text"
      },
      "source": [
        "# Image Examples"
      ]
    },
    {
      "cell_type": "markdown",
      "metadata": {
        "id": "RUQaWwZ0xkfx",
        "colab_type": "text"
      },
      "source": [
        "## Downloading a Dataset\n",
        "\n"
      ]
    },
    {
      "cell_type": "code",
      "metadata": {
        "id": "keoZOhMvG7c-",
        "colab_type": "code",
        "colab": {
          "base_uri": "https://localhost:8080/",
          "height": 54
        },
        "outputId": "5726f576-c6e1-4e49-cec0-0a18d542948c"
      },
      "source": [
        "# Get a download URL for an image.\n",
        "image1 = ee.Image('CGIAR/SRTM90_V4')\n",
        "path = image1.getDownloadUrl({\n",
        "    'scale': 30,\n",
        "    'crs': 'EPSG:4326',\n",
        "    'region': '[[-120, 35], [-119, 35], [-119, 34], [-120, 34]]'\n",
        "})\n",
        "print(path)"
      ],
      "execution_count": null,
      "outputs": [
        {
          "output_type": "stream",
          "text": [
            "https://earthengine.googleapis.com/v1alpha/projects/earthengine-legacy/thumbnails/71d18b67c93051d02931c5cf15d2b857-106f2573e8be70520c2290c6c5c01dd9:getPixels\n"
          ],
          "name": "stdout"
        }
      ]
    },
    {
      "cell_type": "markdown",
      "metadata": {
        "id": "ClzW46NXHnwI",
        "colab_type": "text"
      },
      "source": [
        "## Display an image given a ID"
      ]
    },
    {
      "cell_type": "code",
      "metadata": {
        "id": "pz7qsI7QHTTg",
        "colab_type": "code",
        "colab": {}
      },
      "source": [
        "\"\"\"Display an image given its ID.\"\"\"\n",
        "\n",
        "import ee\n",
        "import ee.mapclient\n",
        "\n",
        "image = ee.Image('CGIAR/SRTM90_V4')\n",
        "ee.mapclient.addToMap(image, {'min': 0, 'max': 3000})"
      ],
      "execution_count": null,
      "outputs": []
    },
    {
      "cell_type": "markdown",
      "metadata": {
        "id": "aXr4PMj8H02G",
        "colab_type": "text"
      },
      "source": [
        "## HDR Landsat.\n",
        "Display portions of an image with different dynamic ranges.\n",
        "The land areas are displayed normally, but the water areas\n",
        "are streched to show more details.\n"
      ]
    },
    {
      "cell_type": "code",
      "metadata": {
        "id": "lLe8c4nyHqoZ",
        "colab_type": "code",
        "colab": {}
      },
      "source": [
        "import datetime\n",
        "import ee\n",
        "import ee.mapclient"
      ],
      "execution_count": null,
      "outputs": []
    },
    {
      "cell_type": "code",
      "metadata": {
        "id": "jO3dxp5LH-p4",
        "colab_type": "code",
        "colab": {}
      },
      "source": [
        "ee.mapclient.centerMap(-95.738, 18.453, 9)"
      ],
      "execution_count": null,
      "outputs": []
    },
    {
      "cell_type": "code",
      "metadata": {
        "id": "lNclUjQcICgz",
        "colab_type": "code",
        "colab": {}
      },
      "source": [
        "# Filter the LE7 collection to a single date.\n",
        "collection = (ee.ImageCollection('LANDSAT/LE07/C01/T1')\n",
        "              .filterDate(datetime.datetime(2002, 11, 8),\n",
        "                          datetime.datetime(2002, 11, 9)))\n",
        "image = collection.mosaic().select('B3', 'B2', 'B1')"
      ],
      "execution_count": null,
      "outputs": []
    },
    {
      "cell_type": "code",
      "metadata": {
        "id": "o1Fdc3gLIUHt",
        "colab_type": "code",
        "colab": {}
      },
      "source": [
        "# Display the image normally.\n",
        "ee.mapclient.addToMap(image, {'gain': '1.6, 1.4, 1.1'}, 'Land')\n"
      ],
      "execution_count": null,
      "outputs": []
    },
    {
      "cell_type": "code",
      "metadata": {
        "id": "ViXzYP1lIXNg",
        "colab_type": "code",
        "colab": {}
      },
      "source": [
        "# Add and stretch the water.  Once where the elevation is masked,\n",
        "# and again where the elevation is zero.\n",
        "elev = ee.Image('CGIAR/SRTM90_V4')"
      ],
      "execution_count": null,
      "outputs": []
    },
    {
      "cell_type": "code",
      "metadata": {
        "id": "SbeuPXnMIci8",
        "colab_type": "code",
        "colab": {}
      },
      "source": [
        "mask1 = elev.mask().eq(0).And(image.mask())\n",
        "mask2 = elev.eq(0).And(image.mask())"
      ],
      "execution_count": null,
      "outputs": []
    },
    {
      "cell_type": "code",
      "metadata": {
        "id": "wTxzhs4LIjF6",
        "colab_type": "code",
        "colab": {}
      },
      "source": [
        "ee.mapclient.addToMap(\n",
        "    image.mask(mask1), {'gain': 6.0, 'bias': -200}, 'Water: Masked')\n",
        "ee.mapclient.addToMap(\n",
        "    image.mask(mask2), {'gain': 6.0, 'bias': -200}, 'Water: Elev 0')"
      ],
      "execution_count": null,
      "outputs": []
    },
    {
      "cell_type": "markdown",
      "metadata": {
        "id": "c3B8YJkiIsvf",
        "colab_type": "text"
      },
      "source": [
        "## Compute hillshade from elevation"
      ]
    },
    {
      "cell_type": "code",
      "metadata": {
        "id": "SVBu2_sAIraI",
        "colab_type": "code",
        "colab": {}
      },
      "source": [
        "import math\n",
        "import ee\n",
        "import ee.mapclient"
      ],
      "execution_count": null,
      "outputs": []
    },
    {
      "cell_type": "code",
      "metadata": {
        "id": "nYU55EpYI3I9",
        "colab_type": "code",
        "colab": {}
      },
      "source": [
        "ee.mapclient.centerMap(-121.767, 46.852, 11)"
      ],
      "execution_count": null,
      "outputs": []
    },
    {
      "cell_type": "code",
      "metadata": {
        "id": "ABTvN1xhI5PG",
        "colab_type": "code",
        "colab": {}
      },
      "source": [
        "def Radians(img):\n",
        "  return img.toFloat().multiply(math.pi).divide(180)\n"
      ],
      "execution_count": null,
      "outputs": []
    },
    {
      "cell_type": "code",
      "metadata": {
        "id": "-c6ut9TII7rg",
        "colab_type": "code",
        "colab": {}
      },
      "source": [
        "def Hillshade(az, ze, slope, aspect):\n",
        "  \"\"\"Compute hillshade for the given illumination az, el.\"\"\"\n",
        "  azimuth = Radians(ee.Image(az))\n",
        "  zenith = Radians(ee.Image(ze))\n",
        "  # Hillshade = cos(Azimuth - Aspect) * sin(Slope) * sin(Zenith) +\n",
        "  #     cos(Zenith) * cos(Slope)\n",
        "  return (azimuth.subtract(aspect).cos()\n",
        "          .multiply(slope.sin())\n",
        "          .multiply(zenith.sin())\n",
        "          .add(\n",
        "              zenith.cos().multiply(slope.cos())))\n"
      ],
      "execution_count": null,
      "outputs": []
    },
    {
      "cell_type": "code",
      "metadata": {
        "id": "BfSl8oETI_h4",
        "colab_type": "code",
        "colab": {}
      },
      "source": [
        "terrain = ee.Algorithms.Terrain(ee.Image('CGIAR/SRTM90_V4'))\n",
        "slope_img = Radians(terrain.select('slope'))\n",
        "aspect_img = Radians(terrain.select('aspect'))"
      ],
      "execution_count": null,
      "outputs": []
    },
    {
      "cell_type": "code",
      "metadata": {
        "id": "h6XgIuP8JCU8",
        "colab_type": "code",
        "colab": {}
      },
      "source": [
        "# Add 1 hillshade at az=0, el=60.\n",
        "ee.mapclient.addToMap(Hillshade(0, 60, slope_img, aspect_img))"
      ],
      "execution_count": null,
      "outputs": []
    },
    {
      "cell_type": "markdown",
      "metadata": {
        "id": "G_Br832qJO33",
        "colab_type": "text"
      },
      "source": [
        "## HSV-based Pan-Sharpening example"
      ]
    },
    {
      "cell_type": "code",
      "metadata": {
        "id": "bkoZenpDJFCZ",
        "colab_type": "code",
        "colab": {}
      },
      "source": [
        "# There are many fine places to look here is one.  Comment\n",
        "# this out if you want to twiddle knobs while panning around.\n",
        "ee.mapclient.centerMap(-61.61625, -11.64273, 14)\n"
      ],
      "execution_count": null,
      "outputs": []
    },
    {
      "cell_type": "code",
      "metadata": {
        "id": "tlYlyz__JWOy",
        "colab_type": "code",
        "colab": {}
      },
      "source": [
        "# Grab a sample L7 image and pull out the RGB and pan bands\n",
        "# in the range (0, 1).  (The range of the pan band values was\n",
        "# chosen to roughly match the other bands.)\n",
        "image1 = ee.Image('LANDSAT/LE07/C01/T1/LE07_230068_19990815')\n"
      ],
      "execution_count": null,
      "outputs": []
    },
    {
      "cell_type": "code",
      "metadata": {
        "id": "Jfuk2OYNJY0f",
        "colab_type": "code",
        "colab": {}
      },
      "source": [
        "rgb = image1.select('B3', 'B2', 'B1').unitScale(0, 255)\n",
        "gray = image1.select('B8').unitScale(0, 155)"
      ],
      "execution_count": null,
      "outputs": []
    },
    {
      "cell_type": "code",
      "metadata": {
        "id": "frpDp3RSJtv1",
        "colab_type": "code",
        "colab": {}
      },
      "source": [
        "# Convert to HSV, swap in the pan band, and convert back to RGB.\n",
        "huesat = rgb.rgbToHsv().select('hue', 'saturation')\n",
        "upres = ee.Image.cat(huesat, gray).hsvToRgb()\n"
      ],
      "execution_count": null,
      "outputs": []
    },
    {
      "cell_type": "code",
      "metadata": {
        "id": "07-7nISCJvQA",
        "colab_type": "code",
        "colab": {}
      },
      "source": [
        "# Display before and after layers using the same vis parameters.\n",
        "visparams = {'min': [.15, .15, .25], 'max': [1, .9, .9], 'gamma': 1.6}\n",
        "ee.mapclient.addToMap(rgb, visparams, 'Orignal')\n",
        "ee.mapclient.addToMap(upres, visparams, 'Pansharpened')"
      ],
      "execution_count": null,
      "outputs": []
    },
    {
      "cell_type": "markdown",
      "metadata": {
        "id": "M8tv6_eEJxpz",
        "colab_type": "text"
      },
      "source": [
        "## Landcover cleanup\n",
        "\n",
        "Display the MODIS land cover classification image with appropriate colors"
      ]
    },
    {
      "cell_type": "code",
      "metadata": {
        "id": "9ypN8wSqJwe8",
        "colab_type": "code",
        "colab": {}
      },
      "source": [
        "ee.mapclient.centerMap(-113.41842, 40.055489, 6)"
      ],
      "execution_count": null,
      "outputs": []
    },
    {
      "cell_type": "code",
      "metadata": {
        "id": "NqYTXMd1J6zl",
        "colab_type": "code",
        "colab": {}
      },
      "source": [
        "# Force projection of 500 meters/pixel, which is the native MODIS resolution.\n",
        "VECTORIZATION_SCALE = 500\n",
        "\n",
        "image1 = ee.Image('MODIS/051/MCD12Q1/2001_01_01')\n",
        "image2 = image1.select(['Land_Cover_Type_1'])\n",
        "image3 = image2.reproject('EPSG:4326', None, 500)\n",
        "image4 = image3.focal_mode()\n",
        "image5 = image4.focal_max(3).focal_min(5).focal_max(3)\n",
        "image6 = image5.reproject('EPSG:4326', None, 500)"
      ],
      "execution_count": null,
      "outputs": []
    },
    {
      "cell_type": "code",
      "metadata": {
        "id": "ZrUs3QA8J-sa",
        "colab_type": "code",
        "colab": {}
      },
      "source": [
        "PALETTE = [\n",
        "    'aec3d4',  # water\n",
        "    '152106', '225129', '369b47', '30eb5b', '387242',  # forest\n",
        "    '6a2325', 'c3aa69', 'b76031', 'd9903d', '91af40',  # shrub, grass, savannah\n",
        "    '111149',  # wetlands\n",
        "    'cdb33b',  # croplands\n",
        "    'cc0013',  # urban\n",
        "    '33280d',  # crop mosaic\n",
        "    'd7cdcc',  # snow and ice\n",
        "    'f7e084',  # barren\n",
        "    '6f6f6f'   # tundra\n",
        "    ]"
      ],
      "execution_count": null,
      "outputs": []
    },
    {
      "cell_type": "code",
      "metadata": {
        "id": "qdEaMFeYKElC",
        "colab_type": "code",
        "colab": {}
      },
      "source": [
        "vis_params = {'min': 0, 'max': 17, 'palette': PALETTE}\n",
        "\n",
        "ee.mapclient.addToMap(image2, vis_params, 'IGBP classification')\n",
        "ee.mapclient.addToMap(image3, vis_params, 'Reprojected')\n",
        "ee.mapclient.addToMap(image4, vis_params, 'Mode')\n",
        "ee.mapclient.addToMap(image5, vis_params, 'Smooth')\n",
        "ee.mapclient.addToMap(image6, vis_params, 'Smooth')"
      ],
      "execution_count": null,
      "outputs": []
    },
    {
      "cell_type": "markdown",
      "metadata": {
        "id": "J80j2Bc_KLPb",
        "colab_type": "text"
      },
      "source": [
        "## Example of *Where* operator\n",
        "\n",
        "Select the forest classes from the MODIS land cover image and intersect them\n",
        "with elevations above 1000m."
      ]
    },
    {
      "cell_type": "code",
      "metadata": {
        "id": "Cr0L4onJKHPG",
        "colab_type": "code",
        "colab": {}
      },
      "source": [
        "ee.mapclient.centerMap(-113.41842, 40.055489, 6)"
      ],
      "execution_count": null,
      "outputs": []
    },
    {
      "cell_type": "code",
      "metadata": {
        "id": "2gL_cIOLKe1N",
        "colab_type": "code",
        "colab": {}
      },
      "source": [
        "elev = ee.Image('CGIAR/SRTM90_V4')\n",
        "cover = ee.Image('MODIS/051/MCD12Q1/2001_01_01').select('Land_Cover_Type_1')\n",
        "blank = ee.Image(0)\n"
      ],
      "execution_count": null,
      "outputs": []
    },
    {
      "cell_type": "code",
      "metadata": {
        "id": "UwBMmq1OKlFt",
        "colab_type": "code",
        "colab": {}
      },
      "source": [
        "# Where (1 <= cover <= 4) and (elev > 1000), set the output to 1.\n",
        "output = blank.where(\n",
        "    cover.lte(4).And(cover.gte(1)).And(elev.gt(1000)),\n",
        "    1)"
      ],
      "execution_count": null,
      "outputs": []
    },
    {
      "cell_type": "code",
      "metadata": {
        "id": "tTPr0GgdLECR",
        "colab_type": "code",
        "colab": {}
      },
      "source": [
        "# Output contains 0s and 1s.  Mask it with itself to get rid of the 0s.\n",
        "result = output.mask(output)\n",
        "\n",
        "ee.mapclient.addToMap(result, {'palette': '00AA00'})"
      ],
      "execution_count": null,
      "outputs": []
    },
    {
      "cell_type": "markdown",
      "metadata": {
        "id": "2kX0coL8Oice",
        "colab_type": "text"
      },
      "source": [
        "# ImageCollection"
      ]
    },
    {
      "cell_type": "markdown",
      "metadata": {
        "id": "nyqSvL6RL7NA",
        "colab_type": "text"
      },
      "source": [
        "## Composite an image collection and clip it to a boundary from a fusion table\n",
        "\n",
        "See also: Filtered Seasonal Composite, which filters the\n",
        "collection by bounds instead"
      ]
    },
    {
      "cell_type": "code",
      "metadata": {
        "id": "IiKXccDZLNvQ",
        "colab_type": "code",
        "colab": {}
      },
      "source": [
        "import datetime"
      ],
      "execution_count": null,
      "outputs": []
    },
    {
      "cell_type": "code",
      "metadata": {
        "id": "CAsw3-GmMFKW",
        "colab_type": "code",
        "colab": {}
      },
      "source": [
        "ee.mapclient.centerMap(-120, 37, 6)"
      ],
      "execution_count": null,
      "outputs": []
    },
    {
      "cell_type": "code",
      "metadata": {
        "id": "Ot34Z8X4MHck",
        "colab_type": "code",
        "colab": {}
      },
      "source": [
        "# Create a Landsat 7, median-pixel composite for Spring of 2000.\n",
        "collection = (ee.ImageCollection('LANDSAT/LE07/C01/T1')\n",
        "              .filterDate(datetime.datetime(2000, 4, 1),\n",
        "                          datetime.datetime(2000, 7, 1)))\n",
        "image1 = collection.median()"
      ],
      "execution_count": null,
      "outputs": []
    },
    {
      "cell_type": "code",
      "metadata": {
        "id": "TBBWzCFTMLdX",
        "colab_type": "code",
        "colab": {}
      },
      "source": [
        "# Clip to the output image to the California state boundary.\n",
        "fc = (ee.FeatureCollection('TIGER/2018/States')\n",
        "      .filter(ee.Filter().eq('NAME', 'California')))\n",
        "image2 = image1.clipToCollection(fc)"
      ],
      "execution_count": null,
      "outputs": []
    },
    {
      "cell_type": "code",
      "metadata": {
        "id": "-8WgY-t2MQ2l",
        "colab_type": "code",
        "colab": {}
      },
      "source": [
        "# Select the red, green and blue bands.\n",
        "image = image2.select('B3', 'B2', 'B1')\n",
        "ee.mapclient.addToMap(image, {'gain': [1.4, 1.4, 1.1]})"
      ],
      "execution_count": null,
      "outputs": []
    },
    {
      "cell_type": "markdown",
      "metadata": {
        "id": "qvvjwG2iMVoG",
        "colab_type": "text"
      },
      "source": [
        "## Map an expression\n",
        "\n",
        "Computes the mean NDVI and SAVI by mapping an expression over a collection\n",
        "and taking the mean.  This intentionally exercises both variants of\n",
        "Image.expression."
      ]
    },
    {
      "cell_type": "code",
      "metadata": {
        "id": "k0HlmFB9MUi6",
        "colab_type": "code",
        "colab": {}
      },
      "source": [
        "# Filter the L7 collection to a single month.\n",
        "collection = (ee.ImageCollection('LANDSAT/LE07/C01/T1_TOA')\n",
        "              .filterDate(datetime.datetime(2002, 11, 1),\n",
        "                          datetime.datetime(2002, 12, 1)))\n"
      ],
      "execution_count": null,
      "outputs": []
    },
    {
      "cell_type": "code",
      "metadata": {
        "id": "CCCyIJMJMhfZ",
        "colab_type": "code",
        "colab": {}
      },
      "source": [
        "def NDVI(image):\n",
        "  \"\"\"A function to compute NDVI.\"\"\"\n",
        "  return image.expression('float(b(\"B4\") - b(\"B3\")) / (b(\"B4\") + b(\"B3\"))')\n"
      ],
      "execution_count": null,
      "outputs": []
    },
    {
      "cell_type": "code",
      "metadata": {
        "id": "Rf-UMHrTMkH_",
        "colab_type": "code",
        "colab": {}
      },
      "source": [
        "def SAVI(image):\n",
        "  \"\"\"A function to compute Soil Adjusted Vegetation Index.\"\"\"\n",
        "  return ee.Image(0).expression(\n",
        "      '(1 + L) * float(nir - red)/ (nir + red + L)',\n",
        "      {\n",
        "          'nir': image.select('B4'),\n",
        "          'red': image.select('B3'),\n",
        "          'L': 0.2\n",
        "      })\n"
      ],
      "execution_count": null,
      "outputs": []
    },
    {
      "cell_type": "code",
      "metadata": {
        "id": "rRILpgi1MovB",
        "colab_type": "code",
        "colab": {}
      },
      "source": [
        "vis = {\n",
        "    'min': 0,\n",
        "    'max': 1,\n",
        "    'palette': [\n",
        "        'FFFFFF', 'CE7E45', 'DF923D', 'F1B555', 'FCD163',\n",
        "        '99B718', '74A901', '66A000', '529400', '3E8601',\n",
        "        '207401', '056201', '004C00', '023B01', '012E01',\n",
        "        '011D01', '011301'\n",
        "    ]}"
      ],
      "execution_count": null,
      "outputs": []
    },
    {
      "cell_type": "code",
      "metadata": {
        "id": "OzavDeTnMsu6",
        "colab_type": "code",
        "colab": {}
      },
      "source": [
        "ee.mapclient.centerMap(-93.7848, 30.3252, 11)\n",
        "ee.mapclient.addToMap(collection.map(NDVI).mean(), vis)\n",
        "ee.mapclient.addToMap(collection.map(SAVI).mean(), vis)"
      ],
      "execution_count": null,
      "outputs": []
    },
    {
      "cell_type": "markdown",
      "metadata": {
        "id": "ZnPTNWflMwcN",
        "colab_type": "text"
      },
      "source": [
        "## Filter an image collection by date and region to make a median composite\n",
        "\n",
        "See also: Clipped composite, which crops the output image\n",
        "instead of filtering the input collection."
      ]
    },
    {
      "cell_type": "code",
      "metadata": {
        "id": "WgL0vZjgMvul",
        "colab_type": "code",
        "colab": {}
      },
      "source": [
        "ee.mapclient.centerMap(-110, 40, 5)"
      ],
      "execution_count": null,
      "outputs": []
    },
    {
      "cell_type": "code",
      "metadata": {
        "id": "_nBMItJiM5nF",
        "colab_type": "code",
        "colab": {}
      },
      "source": [
        "# Filter to only include images within the colorado and utah boundaries.\n",
        "polygon = ee.Geometry.Polygon([[\n",
        "    [-109.05, 37.0], [-102.05, 37.0], [-102.05, 41.0],   # colorado\n",
        "    [-109.05, 41.0], [-111.05, 41.0], [-111.05, 42.0],   # utah\n",
        "    [-114.05, 42.0], [-114.05, 37.0], [-109.05, 37.0]]])\n"
      ],
      "execution_count": null,
      "outputs": []
    },
    {
      "cell_type": "code",
      "metadata": {
        "id": "TnEdupeQM8fI",
        "colab_type": "code",
        "colab": {}
      },
      "source": [
        "# Create a Landsat 7 composite for Spring of 2000, and filter by\n",
        "# the bounds of the FeatureCollection.\n",
        "collection = (ee.ImageCollection('LANDSAT/LE07/C01/T1')\n",
        "              .filterDate(datetime.datetime(2000, 4, 1),\n",
        "                          datetime.datetime(2000, 7, 1))\n",
        "              .filterBounds(polygon))"
      ],
      "execution_count": null,
      "outputs": []
    },
    {
      "cell_type": "code",
      "metadata": {
        "id": "kDi0dHzWNBkD",
        "colab_type": "code",
        "colab": {}
      },
      "source": [
        "# Select the median pixel.\n",
        "image1 = collection.median()\n"
      ],
      "execution_count": null,
      "outputs": []
    },
    {
      "cell_type": "code",
      "metadata": {
        "id": "hHKNcf5KND2g",
        "colab_type": "code",
        "colab": {}
      },
      "source": [
        "# Select the red, green and blue bands.\n",
        "image = image1.select('B3', 'B2', 'B1')\n",
        "ee.mapclient.addToMap(image, {'gain': [1.4, 1.4, 1.1]})"
      ],
      "execution_count": null,
      "outputs": []
    },
    {
      "cell_type": "markdown",
      "metadata": {
        "id": "FrjkKaz7OrPS",
        "colab_type": "text"
      },
      "source": [
        "# FeatureCollection"
      ]
    },
    {
      "cell_type": "markdown",
      "metadata": {
        "id": "TLFCrYFrN1k-",
        "colab_type": "text"
      },
      "source": [
        "## Buffer Example \n",
        "\n",
        "Display the area within 2 kilometers of any San Francisco BART station."
      ]
    },
    {
      "cell_type": "code",
      "metadata": {
        "id": "cC0XQx7ENF8a",
        "colab_type": "code",
        "colab": {}
      },
      "source": [
        "ee.mapclient.centerMap(-122.4, 37.7, 11)"
      ],
      "execution_count": null,
      "outputs": []
    },
    {
      "cell_type": "code",
      "metadata": {
        "id": "cW0rTUkJN-IK",
        "colab_type": "code",
        "colab": {}
      },
      "source": [
        "\n",
        "bart_stations = ee.FeatureCollection('GOOGLE/EE/DEMOS/bart-locations')\n",
        "buffered = bart_stations.map(lambda f: f.buffer(2000))\n",
        "unioned = buffered.union()\n",
        "\n",
        "ee.mapclient.addToMap(unioned, {'color': '800080'})"
      ],
      "execution_count": null,
      "outputs": []
    },
    {
      "cell_type": "markdown",
      "metadata": {
        "id": "SGwn8Kd_OAtU",
        "colab_type": "text"
      },
      "source": [
        "## Computed area filter example.\n",
        "\n",
        "Find US counties smaller than 3k square kilometers in area."
      ]
    },
    {
      "cell_type": "code",
      "metadata": {
        "id": "5PuoaHAaN_tb",
        "colab_type": "code",
        "colab": {}
      },
      "source": [
        "ee.mapclient.centerMap(-119.7, 38.26, 7)\n",
        "\n",
        "counties = ee.FeatureCollection('TIGER/2018/Counties')\n",
        "counties_with_area = counties.map(lambda f: f.set({'area': f.area()}))\n",
        "small_counties = counties_with_area.filterMetadata('area', 'less_than', 3e9)\n",
        "\n",
        "ee.mapclient.addToMap(small_counties, {'color': '900000'})"
      ],
      "execution_count": null,
      "outputs": []
    },
    {
      "cell_type": "markdown",
      "metadata": {
        "id": "WUHQdk-hO0nc",
        "colab_type": "text"
      },
      "source": [
        "## Count feature example\n",
        "\n",
        "Count Panoramio photos near SF that mention bridges."
      ]
    },
    {
      "cell_type": "code",
      "metadata": {
        "id": "yM3iLl5-OMdD",
        "colab_type": "code",
        "colab": {}
      },
      "source": [
        "from __future__ import print_function"
      ],
      "execution_count": null,
      "outputs": []
    },
    {
      "cell_type": "code",
      "metadata": {
        "id": "nvucRwLjPEhL",
        "colab_type": "code",
        "colab": {}
      },
      "source": [
        "ee.mapclient.centerMap(-122.39, 37.7857, 12)\n",
        "\n",
        "photos_near_sf = ee.FeatureCollection('GOOGLE/EE/DEMOS/sf-photo-locations')"
      ],
      "execution_count": null,
      "outputs": []
    },
    {
      "cell_type": "code",
      "metadata": {
        "id": "9X3hTVdcPLSS",
        "colab_type": "code",
        "colab": {}
      },
      "source": [
        "bridge_photos = photos_near_sf.filter(\n",
        "    ee.Filter().Or(ee.Filter.stringContains('title', 'Bridge'),\n",
        "                   ee.Filter.stringContains('title', 'bridge')))"
      ],
      "execution_count": null,
      "outputs": []
    },
    {
      "cell_type": "code",
      "metadata": {
        "id": "IgUg8uT1POTY",
        "colab_type": "code",
        "colab": {}
      },
      "source": [
        "ee.mapclient.addToMap(photos_near_sf, {'color': '0040b0'})\n",
        "ee.mapclient.addToMap(bridge_photos, {'color': 'e02070'})"
      ],
      "execution_count": null,
      "outputs": []
    },
    {
      "cell_type": "code",
      "metadata": {
        "id": "oHJmgprlPRVp",
        "colab_type": "code",
        "colab": {
          "base_uri": "https://localhost:8080/",
          "height": 34
        },
        "outputId": "7f06fc5e-1a49-4c9b-ae20-6811e59777cd"
      },
      "source": [
        "print('There are {} bridge photos around SF.'\n",
        "      .format(bridge_photos.size().getInfo()))"
      ],
      "execution_count": null,
      "outputs": [
        {
          "output_type": "stream",
          "text": [
            "There are 168 bridge photos around SF.\n"
          ],
          "name": "stdout"
        }
      ]
    },
    {
      "cell_type": "markdown",
      "metadata": {
        "id": "X4rAviaSPXo6",
        "colab_type": "text"
      },
      "source": [
        "## Create and render a feature collection from polygons"
      ]
    },
    {
      "cell_type": "code",
      "metadata": {
        "id": "kpc3XHcXPUsR",
        "colab_type": "code",
        "colab": {}
      },
      "source": [
        "ee.mapclient.centerMap(-107, 41, 6)\n",
        "\n",
        "fc = ee.FeatureCollection([\n",
        "    ee.Feature(\n",
        "        ee.Geometry.Polygon(\n",
        "            [[-109.05, 41], [-109.05, 37], [-102.05, 37], [-102.05, 41]]),\n",
        "        {'name': 'Colorado', 'fill': 1}),\n",
        "    ee.Feature(\n",
        "        ee.Geometry.Polygon(\n",
        "            [[-114.05, 37.0], [-109.05, 37.0], [-109.05, 41.0],\n",
        "             [-111.05, 41.0], [-111.05, 42.0], [-114.05, 42.0]]),\n",
        "        {'name': 'Utah', 'fill': 2})\n",
        "    ])\n"
      ],
      "execution_count": null,
      "outputs": []
    },
    {
      "cell_type": "code",
      "metadata": {
        "id": "_fIpmD8pPjt1",
        "colab_type": "code",
        "colab": {}
      },
      "source": [
        "# Fill, then outline the polygons into a blank image.\n",
        "image1 = ee.Image(0).mask(0)\n",
        "image2 = image1.paint(fc, 'fill')  # Get color from property named 'fill'\n",
        "image3 = image2.paint(fc, 3, 5)    # Outline using color 3, width 5.\n",
        "image4 = image3.toByte()"
      ],
      "execution_count": null,
      "outputs": []
    },
    {
      "cell_type": "code",
      "metadata": {
        "id": "3bSeYJ03PoVk",
        "colab_type": "code",
        "colab": {}
      },
      "source": [
        "ee.mapclient.addToMap(image4, {\n",
        "    'palette': ['000000', 'FF0000', '00FF00', '0000FF'],\n",
        "    'max': 3,\n",
        "    'opacity': 0.5\n",
        "})"
      ],
      "execution_count": null,
      "outputs": []
    },
    {
      "cell_type": "markdown",
      "metadata": {
        "id": "B6bwuV5OPr0n",
        "colab_type": "text"
      },
      "source": [
        "## FeatureCollection Join example.\n",
        "\n",
        "Show parks in San Francisco within 2 kilometers of a BART station."
      ]
    },
    {
      "cell_type": "code",
      "metadata": {
        "id": "iv5SSlTuPq6i",
        "colab_type": "code",
        "colab": {}
      },
      "source": [
        "ee.mapclient.centerMap(-122.45, 37.75, 13)"
      ],
      "execution_count": null,
      "outputs": []
    },
    {
      "cell_type": "code",
      "metadata": {
        "id": "CyOl8XJqP3A5",
        "colab_type": "code",
        "colab": {}
      },
      "source": [
        "\n",
        "bart = ee.FeatureCollection('GOOGLE/EE/DEMOS/bart-locations')\n",
        "parks = ee.FeatureCollection('GOOGLE/EE/DEMOS/sf-parks')\n",
        "buffered_bart = bart.map(lambda f: f.buffer(2000))\n"
      ],
      "execution_count": null,
      "outputs": []
    },
    {
      "cell_type": "code",
      "metadata": {
        "id": "rLmVJ5yZP6FW",
        "colab_type": "code",
        "colab": {}
      },
      "source": [
        "join_filter = ee.Filter.withinDistance(2000, '.geo', None, '.geo')\n",
        "close_parks = ee.Join.simple().apply(parks, bart, join_filter)\n"
      ],
      "execution_count": null,
      "outputs": []
    },
    {
      "cell_type": "code",
      "metadata": {
        "id": "fj1QspnAP-fo",
        "colab_type": "code",
        "colab": {}
      },
      "source": [
        "ee.mapclient.addToMap(buffered_bart, {'color': 'b0b0b0'})\n",
        "ee.mapclient.addToMap(close_parks, {'color': '008000'})"
      ],
      "execution_count": null,
      "outputs": []
    },
    {
      "cell_type": "markdown",
      "metadata": {
        "id": "6EkHVbJXQC_i",
        "colab_type": "text"
      },
      "source": [
        "## Reverse mask a region\n",
        "\n",
        "Create an image that masks everything except for the specified polygon."
      ]
    },
    {
      "cell_type": "code",
      "metadata": {
        "id": "oUldRUEdQAEX",
        "colab_type": "code",
        "colab": {}
      },
      "source": [
        "ee.mapclient.centerMap(-115, 39, 5)"
      ],
      "execution_count": null,
      "outputs": []
    },
    {
      "cell_type": "code",
      "metadata": {
        "id": "UxvT1rJfQNbr",
        "colab_type": "code",
        "colab": {}
      },
      "source": [
        "fc = (ee.FeatureCollection('RESOLVE/ECOREGIONS/2017')\n",
        "      .filter(ee.Filter().eq('ECO_NAME', 'Great Basin shrub steppe')))"
      ],
      "execution_count": null,
      "outputs": []
    },
    {
      "cell_type": "code",
      "metadata": {
        "id": "IvMXHv80QRsq",
        "colab_type": "code",
        "colab": {}
      },
      "source": [
        "# Start with a black image.\n",
        "empty = ee.Image(0).toByte()\n",
        "# Fill and outline the polygons in two colors\n",
        "filled = empty.paint(fc, 2)\n",
        "both = filled.paint(fc, 1, 5)\n",
        "# Mask off everything that matches the fill color.\n",
        "result = both.mask(filled.neq(2))"
      ],
      "execution_count": null,
      "outputs": []
    },
    {
      "cell_type": "code",
      "metadata": {
        "id": "-t819_LcQT-5",
        "colab_type": "code",
        "colab": {}
      },
      "source": [
        "ee.mapclient.addToMap(result, {\n",
        "    'palette': '000000,FF0000',\n",
        "    'max': 1,\n",
        "    'opacity': 0.5\n",
        "})"
      ],
      "execution_count": null,
      "outputs": []
    },
    {
      "cell_type": "code",
      "metadata": {
        "id": "PpynaY2iQUx7",
        "colab_type": "code",
        "colab": {}
      },
      "source": [
        ""
      ],
      "execution_count": null,
      "outputs": []
    }
  ]
}