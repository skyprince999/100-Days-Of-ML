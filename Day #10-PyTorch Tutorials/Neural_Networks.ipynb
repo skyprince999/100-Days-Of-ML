{
  "nbformat": 4,
  "nbformat_minor": 0,
  "metadata": {
    "colab": {
      "name": "Neural Networks.ipynb",
      "provenance": [],
      "collapsed_sections": [],
      "authorship_tag": "ABX9TyPFBAPYaGQDNNtsLSLZ0fcN",
      "include_colab_link": true
    },
    "kernelspec": {
      "name": "python3",
      "display_name": "Python 3"
    },
    "accelerator": "GPU",
    "widgets": {
      "application/vnd.jupyter.widget-state+json": {
        "fb7df56c9447457b93072753c8858519": {
          "model_module": "@jupyter-widgets/controls",
          "model_name": "HBoxModel",
          "state": {
            "_view_name": "HBoxView",
            "_dom_classes": [],
            "_model_name": "HBoxModel",
            "_view_module": "@jupyter-widgets/controls",
            "_model_module_version": "1.5.0",
            "_view_count": null,
            "_view_module_version": "1.5.0",
            "box_style": "",
            "layout": "IPY_MODEL_b1dcfb90a864444e857e5bec58c04e53",
            "_model_module": "@jupyter-widgets/controls",
            "children": [
              "IPY_MODEL_23002964755d4e17b8620556bd89a97e",
              "IPY_MODEL_de4f5705dbe14073aa189472fe5f048e"
            ]
          }
        },
        "b1dcfb90a864444e857e5bec58c04e53": {
          "model_module": "@jupyter-widgets/base",
          "model_name": "LayoutModel",
          "state": {
            "_view_name": "LayoutView",
            "grid_template_rows": null,
            "right": null,
            "justify_content": null,
            "_view_module": "@jupyter-widgets/base",
            "overflow": null,
            "_model_module_version": "1.2.0",
            "_view_count": null,
            "flex_flow": null,
            "width": null,
            "min_width": null,
            "border": null,
            "align_items": null,
            "bottom": null,
            "_model_module": "@jupyter-widgets/base",
            "top": null,
            "grid_column": null,
            "overflow_y": null,
            "overflow_x": null,
            "grid_auto_flow": null,
            "grid_area": null,
            "grid_template_columns": null,
            "flex": null,
            "_model_name": "LayoutModel",
            "justify_items": null,
            "grid_row": null,
            "max_height": null,
            "align_content": null,
            "visibility": null,
            "align_self": null,
            "height": null,
            "min_height": null,
            "padding": null,
            "grid_auto_rows": null,
            "grid_gap": null,
            "max_width": null,
            "order": null,
            "_view_module_version": "1.2.0",
            "grid_template_areas": null,
            "object_position": null,
            "object_fit": null,
            "grid_auto_columns": null,
            "margin": null,
            "display": null,
            "left": null
          }
        },
        "23002964755d4e17b8620556bd89a97e": {
          "model_module": "@jupyter-widgets/controls",
          "model_name": "IntProgressModel",
          "state": {
            "_view_name": "ProgressView",
            "style": "IPY_MODEL_7fa73d56a43e4f58ba86bdc9e44e5d36",
            "_dom_classes": [],
            "description": "",
            "_model_name": "IntProgressModel",
            "bar_style": "info",
            "max": 1,
            "_view_module": "@jupyter-widgets/controls",
            "_model_module_version": "1.5.0",
            "value": 1,
            "_view_count": null,
            "_view_module_version": "1.5.0",
            "orientation": "horizontal",
            "min": 0,
            "description_tooltip": null,
            "_model_module": "@jupyter-widgets/controls",
            "layout": "IPY_MODEL_a10aa1315829469cbb0b0c2d913083ef"
          }
        },
        "de4f5705dbe14073aa189472fe5f048e": {
          "model_module": "@jupyter-widgets/controls",
          "model_name": "HTMLModel",
          "state": {
            "_view_name": "HTMLView",
            "style": "IPY_MODEL_83ee12a039ff45588a6b958b03c68ed0",
            "_dom_classes": [],
            "description": "",
            "_model_name": "HTMLModel",
            "placeholder": "​",
            "_view_module": "@jupyter-widgets/controls",
            "_model_module_version": "1.5.0",
            "value": "170500096it [00:30, 14621620.41it/s]",
            "_view_count": null,
            "_view_module_version": "1.5.0",
            "description_tooltip": null,
            "_model_module": "@jupyter-widgets/controls",
            "layout": "IPY_MODEL_ce5b48a2c51647b6a28d1b5f68bb1238"
          }
        },
        "7fa73d56a43e4f58ba86bdc9e44e5d36": {
          "model_module": "@jupyter-widgets/controls",
          "model_name": "ProgressStyleModel",
          "state": {
            "_view_name": "StyleView",
            "_model_name": "ProgressStyleModel",
            "description_width": "",
            "_view_module": "@jupyter-widgets/base",
            "_model_module_version": "1.5.0",
            "_view_count": null,
            "_view_module_version": "1.2.0",
            "bar_color": null,
            "_model_module": "@jupyter-widgets/controls"
          }
        },
        "a10aa1315829469cbb0b0c2d913083ef": {
          "model_module": "@jupyter-widgets/base",
          "model_name": "LayoutModel",
          "state": {
            "_view_name": "LayoutView",
            "grid_template_rows": null,
            "right": null,
            "justify_content": null,
            "_view_module": "@jupyter-widgets/base",
            "overflow": null,
            "_model_module_version": "1.2.0",
            "_view_count": null,
            "flex_flow": null,
            "width": null,
            "min_width": null,
            "border": null,
            "align_items": null,
            "bottom": null,
            "_model_module": "@jupyter-widgets/base",
            "top": null,
            "grid_column": null,
            "overflow_y": null,
            "overflow_x": null,
            "grid_auto_flow": null,
            "grid_area": null,
            "grid_template_columns": null,
            "flex": null,
            "_model_name": "LayoutModel",
            "justify_items": null,
            "grid_row": null,
            "max_height": null,
            "align_content": null,
            "visibility": null,
            "align_self": null,
            "height": null,
            "min_height": null,
            "padding": null,
            "grid_auto_rows": null,
            "grid_gap": null,
            "max_width": null,
            "order": null,
            "_view_module_version": "1.2.0",
            "grid_template_areas": null,
            "object_position": null,
            "object_fit": null,
            "grid_auto_columns": null,
            "margin": null,
            "display": null,
            "left": null
          }
        },
        "83ee12a039ff45588a6b958b03c68ed0": {
          "model_module": "@jupyter-widgets/controls",
          "model_name": "DescriptionStyleModel",
          "state": {
            "_view_name": "StyleView",
            "_model_name": "DescriptionStyleModel",
            "description_width": "",
            "_view_module": "@jupyter-widgets/base",
            "_model_module_version": "1.5.0",
            "_view_count": null,
            "_view_module_version": "1.2.0",
            "_model_module": "@jupyter-widgets/controls"
          }
        },
        "ce5b48a2c51647b6a28d1b5f68bb1238": {
          "model_module": "@jupyter-widgets/base",
          "model_name": "LayoutModel",
          "state": {
            "_view_name": "LayoutView",
            "grid_template_rows": null,
            "right": null,
            "justify_content": null,
            "_view_module": "@jupyter-widgets/base",
            "overflow": null,
            "_model_module_version": "1.2.0",
            "_view_count": null,
            "flex_flow": null,
            "width": null,
            "min_width": null,
            "border": null,
            "align_items": null,
            "bottom": null,
            "_model_module": "@jupyter-widgets/base",
            "top": null,
            "grid_column": null,
            "overflow_y": null,
            "overflow_x": null,
            "grid_auto_flow": null,
            "grid_area": null,
            "grid_template_columns": null,
            "flex": null,
            "_model_name": "LayoutModel",
            "justify_items": null,
            "grid_row": null,
            "max_height": null,
            "align_content": null,
            "visibility": null,
            "align_self": null,
            "height": null,
            "min_height": null,
            "padding": null,
            "grid_auto_rows": null,
            "grid_gap": null,
            "max_width": null,
            "order": null,
            "_view_module_version": "1.2.0",
            "grid_template_areas": null,
            "object_position": null,
            "object_fit": null,
            "grid_auto_columns": null,
            "margin": null,
            "display": null,
            "left": null
          }
        }
      }
    }
  },
  "cells": [
    {
      "cell_type": "markdown",
      "metadata": {
        "id": "view-in-github",
        "colab_type": "text"
      },
      "source": [
        "<a href=\"https://colab.research.google.com/github/skyprince999/100-Days-Of-ML/blob/master/Neural_Networks.ipynb\" target=\"_parent\"><img src=\"https://colab.research.google.com/assets/colab-badge.svg\" alt=\"Open In Colab\"/></a>"
      ]
    },
    {
      "cell_type": "code",
      "metadata": {
        "id": "pKnz8beJPC_j",
        "colab_type": "code",
        "colab": {}
      },
      "source": [
        "import torch\n",
        "import torch.nn as nn\n",
        "import torch.nn.functional as F"
      ],
      "execution_count": 0,
      "outputs": []
    },
    {
      "cell_type": "code",
      "metadata": {
        "id": "ijbC3ufoVLm0",
        "colab_type": "code",
        "colab": {}
      },
      "source": [
        "class Net(nn.Module):\n",
        "\n",
        "    def __init__(self):\n",
        "        super(Net, self).__init__()\n",
        "        # 1 input image channel, 6 output channels, 3x3 square convolution\n",
        "        # kernel\n",
        "        self.conv1 = nn.Conv2d(1, 6, 3)\n",
        "        self.conv2 = nn.Conv2d(6, 16, 3)\n",
        "        # an affine operation: y = Wx + b\n",
        "        self.fc1 = nn.Linear(16 * 6 * 6, 120)  # 6*6 from image dimension\n",
        "        self.fc2 = nn.Linear(120, 84)\n",
        "        self.fc3 = nn.Linear(84, 10)\n",
        "\n",
        "    def forward(self, x):\n",
        "        # Max pooling over a (2, 2) window\n",
        "        x = F.max_pool2d(F.relu(self.conv1(x)), (2, 2))\n",
        "        # If the size is a square you can only specify a single number\n",
        "        x = F.max_pool2d(F.relu(self.conv2(x)), 2)\n",
        "        x = x.view(-1, self.num_flat_features(x))\n",
        "        x = F.relu(self.fc1(x))\n",
        "        x = F.relu(self.fc2(x))\n",
        "        x = self.fc3(x)\n",
        "        return x\n",
        "\n",
        "    def num_flat_features(self, x):\n",
        "        size = x.size()[1:]  # all dimensions except the batch dimension\n",
        "        num_features = 1\n",
        "        for s in size:\n",
        "            num_features *= s\n",
        "        return num_features"
      ],
      "execution_count": 0,
      "outputs": []
    },
    {
      "cell_type": "code",
      "metadata": {
        "id": "aa07MuOEXQ_W",
        "colab_type": "code",
        "colab": {
          "base_uri": "https://localhost:8080/",
          "height": 136
        },
        "outputId": "75ee3704-15d5-416d-8b5c-7347844d3757"
      },
      "source": [
        "net = Net()\n",
        "print(net)"
      ],
      "execution_count": 4,
      "outputs": [
        {
          "output_type": "stream",
          "text": [
            "Net(\n",
            "  (conv1): Conv2d(1, 6, kernel_size=(3, 3), stride=(1, 1))\n",
            "  (conv2): Conv2d(6, 16, kernel_size=(3, 3), stride=(1, 1))\n",
            "  (fc1): Linear(in_features=576, out_features=120, bias=True)\n",
            "  (fc2): Linear(in_features=120, out_features=84, bias=True)\n",
            "  (fc3): Linear(in_features=84, out_features=10, bias=True)\n",
            ")\n"
          ],
          "name": "stdout"
        }
      ]
    },
    {
      "cell_type": "code",
      "metadata": {
        "id": "4_htTfVRXUUM",
        "colab_type": "code",
        "colab": {
          "base_uri": "https://localhost:8080/",
          "height": 51
        },
        "outputId": "a4561f75-0965-41ce-aea7-64f0b0987c2c"
      },
      "source": [
        "params = list(net.parameters()) # learnable parameters of the model\n",
        "print(len(params))\n",
        "print(params[0].size())  # conv1's .weight"
      ],
      "execution_count": 5,
      "outputs": [
        {
          "output_type": "stream",
          "text": [
            "10\n",
            "torch.Size([6, 1, 3, 3])\n"
          ],
          "name": "stdout"
        }
      ]
    },
    {
      "cell_type": "code",
      "metadata": {
        "id": "sK5nNaA4Xg78",
        "colab_type": "code",
        "colab": {
          "base_uri": "https://localhost:8080/",
          "height": 51
        },
        "outputId": "7972b711-3097-4e5e-987d-4b25e2dae580"
      },
      "source": [
        "input = torch.randn(1, 1, 32, 32)\n",
        "out = net(input)\n",
        "print(out)"
      ],
      "execution_count": 6,
      "outputs": [
        {
          "output_type": "stream",
          "text": [
            "tensor([[ 0.0962, -0.1044, -0.0781, -0.0681,  0.0040,  0.0912, -0.0790, -0.0209,\n",
            "         -0.1435,  0.0150]], grad_fn=<AddmmBackward>)\n"
          ],
          "name": "stdout"
        }
      ]
    },
    {
      "cell_type": "code",
      "metadata": {
        "id": "pabAGXTKXraD",
        "colab_type": "code",
        "colab": {}
      },
      "source": [
        "net.zero_grad() # zero-fy all the gradients\n",
        "\n",
        "out.backward(torch.randn(1, 10)) # populate all bckward prop parameters with random weights"
      ],
      "execution_count": 0,
      "outputs": []
    },
    {
      "cell_type": "markdown",
      "metadata": {
        "id": "g313jyNdYRAe",
        "colab_type": "text"
      },
      "source": [
        "torch.nn only supports mini-batches. The entire torch.nn package only supports inputs that are a mini-batch of samples, and not a single sample.\n",
        "\n",
        "For example, nn.Conv2d will take in a 4D Tensor of nSamples x nChannels x Height x Width.\n",
        "\n",
        "If you have a single sample, just use input.unsqueeze(0) to add a fake batch dimension."
      ]
    },
    {
      "cell_type": "code",
      "metadata": {
        "id": "GL6PgKsAYG1d",
        "colab_type": "code",
        "colab": {
          "base_uri": "https://localhost:8080/",
          "height": 34
        },
        "outputId": "4eed71c2-6b5d-4179-a876-f0ac2247a4ca"
      },
      "source": [
        "output = net(input)\n",
        "target = torch.randn(10)  # a dummy target, for example\n",
        "target = target.view(1, -1)  # make it the same shape as output\n",
        "criterion = nn.MSELoss()\n",
        "\n",
        "loss = criterion(output, target)\n",
        "print(loss)"
      ],
      "execution_count": 8,
      "outputs": [
        {
          "output_type": "stream",
          "text": [
            "tensor(0.6882, grad_fn=<MseLossBackward>)\n"
          ],
          "name": "stdout"
        }
      ]
    },
    {
      "cell_type": "code",
      "metadata": {
        "id": "UPVgLstUev_x",
        "colab_type": "code",
        "colab": {
          "base_uri": "https://localhost:8080/",
          "height": 68
        },
        "outputId": "156683dd-fd94-4a68-f24f-9635a8d6270d"
      },
      "source": [
        "print(loss.grad_fn)  # MSELoss\n",
        "print(loss.grad_fn.next_functions[0][0])  # Linear\n",
        "print(loss.grad_fn.next_functions[0][0].next_functions[0][0])  # ReLU"
      ],
      "execution_count": 9,
      "outputs": [
        {
          "output_type": "stream",
          "text": [
            "<MseLossBackward object at 0x7fc0f74d3b70>\n",
            "<AddmmBackward object at 0x7fc0f74d3b00>\n",
            "<AccumulateGrad object at 0x7fc0f74d3b70>\n"
          ],
          "name": "stdout"
        }
      ]
    },
    {
      "cell_type": "code",
      "metadata": {
        "id": "L6uu9CtMfG6S",
        "colab_type": "code",
        "colab": {
          "base_uri": "https://localhost:8080/",
          "height": 85
        },
        "outputId": "a5c307b6-397e-4039-c93d-8320ca143e02"
      },
      "source": [
        "net.zero_grad()     # zeroes the gradient buffers of all parameters\n",
        "\n",
        "print('conv1.bias.grad before backward')\n",
        "print(net.conv1.bias.grad)\n",
        "\n",
        "loss.backward()\n",
        "\n",
        "print('conv1.bias.grad after backward')\n",
        "print(net.conv1.bias.grad)"
      ],
      "execution_count": 10,
      "outputs": [
        {
          "output_type": "stream",
          "text": [
            "conv1.bias.grad before backward\n",
            "tensor([0., 0., 0., 0., 0., 0.])\n",
            "conv1.bias.grad after backward\n",
            "tensor([-0.0099, -0.0150, -0.0025, -0.0073, -0.0037,  0.0086])\n"
          ],
          "name": "stdout"
        }
      ]
    },
    {
      "cell_type": "code",
      "metadata": {
        "id": "Y0jPfZHCfTbn",
        "colab_type": "code",
        "colab": {}
      },
      "source": [
        "learning_rate = 0.01 # Updating the weights using SGD - Stochastic Gradient descent \n",
        "for f in net.parameters():\n",
        "    f.data.sub_(f.grad.data * learning_rate)"
      ],
      "execution_count": 0,
      "outputs": []
    },
    {
      "cell_type": "code",
      "metadata": {
        "id": "uLe9188BfmCs",
        "colab_type": "code",
        "colab": {
          "base_uri": "https://localhost:8080/",
          "height": 1000
        },
        "outputId": "c3fced03-5f52-4d58-8352-6e78779efda9"
      },
      "source": [
        "for f in net.parameters():\n",
        "  print(f)"
      ],
      "execution_count": 12,
      "outputs": [
        {
          "output_type": "stream",
          "text": [
            "Parameter containing:\n",
            "tensor([[[[-0.0403, -0.2509,  0.2039],\n",
            "          [ 0.2695,  0.2875,  0.1314],\n",
            "          [ 0.0495, -0.1852,  0.0204]]],\n",
            "\n",
            "\n",
            "        [[[ 0.0088, -0.2980,  0.1891],\n",
            "          [-0.2994, -0.1509,  0.2161],\n",
            "          [-0.2391, -0.2419,  0.2981]]],\n",
            "\n",
            "\n",
            "        [[[ 0.2011,  0.1321,  0.2517],\n",
            "          [ 0.0253, -0.2289,  0.0757],\n",
            "          [-0.2415, -0.0801, -0.1236]]],\n",
            "\n",
            "\n",
            "        [[[ 0.1038,  0.0831,  0.3121],\n",
            "          [-0.3009,  0.1306, -0.1773],\n",
            "          [-0.2855,  0.0431, -0.1962]]],\n",
            "\n",
            "\n",
            "        [[[ 0.1103, -0.0521, -0.1923],\n",
            "          [-0.1159, -0.1225,  0.2292],\n",
            "          [-0.2351,  0.0835,  0.2807]]],\n",
            "\n",
            "\n",
            "        [[[-0.2103,  0.0991,  0.2963],\n",
            "          [-0.1925,  0.2499, -0.2745],\n",
            "          [-0.2112,  0.0464,  0.2388]]]], requires_grad=True)\n",
            "Parameter containing:\n",
            "tensor([-0.2900, -0.0019, -0.0413, -0.3240, -0.2606, -0.0230],\n",
            "       requires_grad=True)\n",
            "Parameter containing:\n",
            "tensor([[[[-1.1370e-01, -8.8005e-02, -5.8358e-02],\n",
            "          [ 1.3507e-01, -1.0970e-01,  9.3921e-03],\n",
            "          [ 1.1464e-01, -1.2240e-01,  1.6862e-03]],\n",
            "\n",
            "         [[ 3.1892e-02, -1.4791e-02, -2.1961e-02],\n",
            "          [ 2.5598e-02,  1.1046e-01,  1.1828e-01],\n",
            "          [-3.6155e-02,  1.7643e-02,  6.3168e-02]],\n",
            "\n",
            "         [[-5.8742e-02, -1.5839e-02,  1.8207e-02],\n",
            "          [-7.7938e-02, -3.1249e-02,  1.1339e-01],\n",
            "          [ 6.0410e-02, -4.2613e-02,  1.3108e-01]],\n",
            "\n",
            "         [[ 7.8950e-03,  2.9314e-02, -3.0825e-03],\n",
            "          [ 1.1406e-01,  6.1847e-02,  1.5440e-02],\n",
            "          [-3.4592e-02,  5.3051e-02, -1.2390e-01]],\n",
            "\n",
            "         [[ 1.1221e-01, -5.2743e-02,  8.8044e-02],\n",
            "          [ 1.1031e-01, -9.1340e-02, -2.0644e-02],\n",
            "          [ 3.6473e-02, -1.0517e-01,  4.6069e-02]],\n",
            "\n",
            "         [[-1.0766e-01,  4.5160e-02,  1.1309e-01],\n",
            "          [-8.2306e-02, -1.2677e-01,  7.3743e-03],\n",
            "          [ 1.7743e-02,  1.2692e-02,  7.4698e-02]]],\n",
            "\n",
            "\n",
            "        [[[-3.2118e-02, -1.1546e-01,  3.4630e-02],\n",
            "          [ 6.5301e-02,  4.0847e-02,  1.2108e-01],\n",
            "          [ 4.4220e-02,  3.3766e-03,  8.7510e-02]],\n",
            "\n",
            "         [[-1.3484e-02, -6.1854e-02,  6.6687e-02],\n",
            "          [-5.9343e-03,  4.9554e-02, -2.1458e-02],\n",
            "          [ 3.3232e-02,  6.3952e-02, -1.3208e-01]],\n",
            "\n",
            "         [[-5.3824e-02, -5.3190e-02, -4.6999e-03],\n",
            "          [ 8.6904e-02, -6.3670e-03,  1.2497e-01],\n",
            "          [ 8.7000e-02, -1.1964e-02, -9.5765e-02]],\n",
            "\n",
            "         [[ 8.9884e-02,  9.6875e-02,  1.3172e-01],\n",
            "          [ 7.5817e-02,  7.4762e-02,  7.5606e-02],\n",
            "          [ 3.5176e-02, -7.3934e-02,  7.1015e-04]],\n",
            "\n",
            "         [[-1.2401e-01, -1.7954e-02, -7.5132e-02],\n",
            "          [ 4.6745e-02, -1.3163e-01,  6.3178e-02],\n",
            "          [-7.2762e-02, -7.2941e-02,  7.2435e-02]],\n",
            "\n",
            "         [[-1.2305e-01,  9.3350e-02, -3.4036e-03],\n",
            "          [ 2.5579e-02,  2.6816e-02,  1.2015e-02],\n",
            "          [-3.4537e-02,  1.0938e-02, -1.2798e-01]]],\n",
            "\n",
            "\n",
            "        [[[ 9.5096e-02,  9.9368e-03, -7.3410e-02],\n",
            "          [-4.6353e-02,  9.9705e-03,  4.9895e-02],\n",
            "          [ 6.1703e-02, -7.1693e-02, -5.4595e-02]],\n",
            "\n",
            "         [[-5.0350e-02,  9.7532e-04, -4.1769e-03],\n",
            "          [ 1.1527e-01,  7.5421e-02, -8.8626e-02],\n",
            "          [ 1.0747e-01, -5.0023e-02,  8.8740e-02]],\n",
            "\n",
            "         [[-3.5854e-02,  1.3586e-02,  5.3400e-02],\n",
            "          [ 1.2734e-01, -6.0810e-03,  6.1755e-03],\n",
            "          [-4.5973e-02, -2.0934e-02, -7.9225e-02]],\n",
            "\n",
            "         [[ 5.3980e-03, -5.6272e-02, -1.2567e-01],\n",
            "          [-7.3622e-02, -1.1415e-01,  2.7224e-02],\n",
            "          [ 1.2130e-01, -5.4887e-02,  2.2872e-02]],\n",
            "\n",
            "         [[ 1.1527e-01,  2.5931e-03,  1.2237e-02],\n",
            "          [-1.1639e-01, -9.5983e-02, -1.0613e-01],\n",
            "          [-1.0079e-01, -8.5021e-02,  4.6265e-03]],\n",
            "\n",
            "         [[ 2.4614e-02,  1.2554e-01, -6.1488e-02],\n",
            "          [ 1.1972e-01,  4.4258e-02,  7.1419e-02],\n",
            "          [ 2.2741e-02,  1.1916e-01,  1.1808e-01]]],\n",
            "\n",
            "\n",
            "        [[[ 9.8225e-02, -5.8892e-02,  2.9121e-02],\n",
            "          [-4.2721e-02, -6.4031e-02,  6.3985e-03],\n",
            "          [-8.1371e-04, -4.8889e-02, -2.3396e-02]],\n",
            "\n",
            "         [[-9.9562e-02, -2.3364e-02,  7.1455e-03],\n",
            "          [ 5.7700e-03,  1.0531e-01, -9.4448e-02],\n",
            "          [ 4.7828e-02, -4.4609e-02,  6.5463e-03]],\n",
            "\n",
            "         [[-7.9763e-02,  1.3134e-01, -1.4185e-02],\n",
            "          [-6.6154e-02,  4.5050e-02, -1.9968e-02],\n",
            "          [-3.4945e-02, -2.0859e-02, -7.9946e-02]],\n",
            "\n",
            "         [[-9.4194e-02,  8.7171e-03,  1.9585e-02],\n",
            "          [-1.2654e-01, -9.2716e-03, -1.4691e-02],\n",
            "          [-6.6806e-04,  1.0921e-01, -5.2151e-02]],\n",
            "\n",
            "         [[ 1.2007e-01,  1.1438e-02,  4.1130e-03],\n",
            "          [ 1.0386e-01, -1.2496e-01,  3.9878e-02],\n",
            "          [-1.0502e-01,  1.0054e-01, -4.3228e-02]],\n",
            "\n",
            "         [[-1.2833e-02,  8.9624e-02, -7.6777e-02],\n",
            "          [ 1.2744e-01,  1.2431e-01, -5.1881e-02],\n",
            "          [-9.2704e-02,  2.3648e-02, -1.1259e-01]]],\n",
            "\n",
            "\n",
            "        [[[-7.2030e-02,  5.8179e-02,  5.4538e-02],\n",
            "          [-4.2816e-02,  1.3540e-01, -2.8074e-02],\n",
            "          [-1.2791e-01, -8.7834e-02, -6.7919e-04]],\n",
            "\n",
            "         [[ 8.3375e-02, -1.3167e-01,  1.1406e-01],\n",
            "          [ 2.8828e-02, -9.5472e-02,  6.4929e-02],\n",
            "          [ 8.2833e-02,  7.7155e-02,  7.2566e-02]],\n",
            "\n",
            "         [[-4.8133e-02, -3.5575e-02,  1.0592e-01],\n",
            "          [ 6.7838e-02,  6.9274e-03,  5.0738e-02],\n",
            "          [ 5.0981e-02,  3.5278e-02,  8.2870e-02]],\n",
            "\n",
            "         [[-5.2550e-02, -1.1953e-01, -8.6270e-02],\n",
            "          [-3.6988e-02, -2.3870e-02, -7.3915e-02],\n",
            "          [-1.3138e-03, -1.2158e-01,  1.9957e-03]],\n",
            "\n",
            "         [[-1.4787e-02,  1.4577e-02, -4.1715e-02],\n",
            "          [ 2.7556e-02, -8.5298e-02, -7.6078e-02],\n",
            "          [-3.5111e-02,  1.5477e-02,  8.2075e-02]],\n",
            "\n",
            "         [[-5.5154e-02, -1.1496e-01,  9.7660e-02],\n",
            "          [-1.3583e-01,  1.0963e-01,  6.9879e-02],\n",
            "          [-3.7534e-02, -1.0604e-01, -9.0636e-02]]],\n",
            "\n",
            "\n",
            "        [[[ 2.2108e-02, -5.6219e-03,  3.0114e-02],\n",
            "          [ 3.6444e-02,  1.2806e-02, -9.1236e-02],\n",
            "          [ 3.1658e-02, -1.3493e-01, -1.1298e-01]],\n",
            "\n",
            "         [[ 8.3177e-02,  1.0276e-01, -9.3968e-02],\n",
            "          [ 1.0261e-01, -9.1988e-02, -2.2021e-02],\n",
            "          [-1.0332e-01,  6.5623e-02, -3.9750e-02]],\n",
            "\n",
            "         [[-8.1879e-03, -6.5990e-02,  1.2582e-01],\n",
            "          [-7.0252e-02,  1.0622e-01, -1.9924e-02],\n",
            "          [ 9.7547e-02, -1.0650e-01, -8.9460e-04]],\n",
            "\n",
            "         [[ 2.8721e-02, -1.1853e-01, -1.1601e-01],\n",
            "          [-1.3334e-01,  5.1580e-02, -9.8668e-02],\n",
            "          [-1.2186e-01, -2.0070e-02,  7.4522e-02]],\n",
            "\n",
            "         [[-6.3324e-02,  1.0138e-01,  9.6508e-02],\n",
            "          [ 5.5869e-02,  4.0614e-02,  2.6636e-02],\n",
            "          [ 8.5120e-02,  5.6384e-02,  1.1820e-01]],\n",
            "\n",
            "         [[-6.8670e-02, -2.0394e-02, -1.9568e-02],\n",
            "          [-1.2455e-01,  7.7632e-02, -1.3171e-01],\n",
            "          [ 8.6401e-02, -4.4074e-02, -1.4837e-03]]],\n",
            "\n",
            "\n",
            "        [[[ 9.2775e-03, -9.2354e-02,  2.2598e-02],\n",
            "          [ 6.7038e-02, -2.2749e-04, -1.6260e-02],\n",
            "          [ 4.1194e-02, -3.8895e-02,  6.5301e-02]],\n",
            "\n",
            "         [[ 5.2882e-02,  6.2920e-02,  2.0462e-02],\n",
            "          [-6.4145e-02, -1.3367e-01, -2.0739e-02],\n",
            "          [-1.2991e-01,  5.9423e-02,  1.1924e-01]],\n",
            "\n",
            "         [[ 1.1402e-02, -5.9246e-02, -3.8551e-02],\n",
            "          [ 1.0431e-02,  4.4584e-02, -5.3941e-02],\n",
            "          [-5.0577e-02,  1.3069e-01,  1.1612e-01]],\n",
            "\n",
            "         [[ 6.3625e-02,  9.3542e-02, -3.7618e-02],\n",
            "          [ 6.7897e-02, -2.3882e-02, -3.4408e-02],\n",
            "          [-1.6100e-02, -4.3441e-03,  5.0260e-02]],\n",
            "\n",
            "         [[-4.5500e-02,  8.9156e-02,  3.9407e-02],\n",
            "          [ 1.1503e-01,  1.3191e-01, -9.2115e-03],\n",
            "          [-1.2939e-01,  7.9125e-02,  1.0004e-01]],\n",
            "\n",
            "         [[-7.1420e-02, -3.9182e-02, -1.1572e-02],\n",
            "          [ 8.5293e-02, -3.5632e-02, -1.7555e-02],\n",
            "          [ 9.2901e-02, -5.2902e-02, -4.8146e-02]]],\n",
            "\n",
            "\n",
            "        [[[ 1.1156e-01,  5.2922e-02,  7.8287e-02],\n",
            "          [ 6.3622e-02, -5.2673e-02,  5.9791e-02],\n",
            "          [-1.0162e-01,  1.1711e-01,  1.0791e-01]],\n",
            "\n",
            "         [[ 8.0878e-02, -1.9035e-02, -6.8980e-02],\n",
            "          [-1.3544e-01, -1.1403e-01,  9.1361e-02],\n",
            "          [-3.4647e-02,  1.2139e-01,  4.3031e-02]],\n",
            "\n",
            "         [[ 4.4606e-02, -6.8497e-03, -7.2079e-02],\n",
            "          [ 3.3899e-02, -6.7371e-02,  7.8274e-02],\n",
            "          [ 1.5058e-02,  1.0128e-01,  9.3147e-02]],\n",
            "\n",
            "         [[ 6.6322e-02, -2.0349e-03,  6.3986e-02],\n",
            "          [ 5.5899e-02, -1.1587e-01,  6.5096e-03],\n",
            "          [-1.5853e-02,  4.7482e-02,  7.3231e-03]],\n",
            "\n",
            "         [[ 8.5338e-02, -2.3719e-02,  8.9461e-02],\n",
            "          [ 6.4758e-04, -1.0638e-02, -6.1429e-03],\n",
            "          [ 4.7360e-02,  1.3394e-01,  1.3104e-01]],\n",
            "\n",
            "         [[-9.1591e-02, -1.1352e-01, -2.6039e-02],\n",
            "          [ 1.1401e-01, -1.1873e-01, -4.0806e-02],\n",
            "          [ 8.2977e-02,  2.7134e-02,  1.2524e-01]]],\n",
            "\n",
            "\n",
            "        [[[ 1.3404e-01,  1.2229e-02,  1.7233e-02],\n",
            "          [ 1.9491e-02,  6.6329e-02,  8.3059e-02],\n",
            "          [-2.2837e-02,  2.7290e-02,  8.6159e-02]],\n",
            "\n",
            "         [[-5.8286e-02,  1.1955e-01,  1.0595e-01],\n",
            "          [-4.7249e-02, -2.7015e-02, -1.9432e-02],\n",
            "          [ 1.2944e-01,  1.2938e-01, -1.1275e-02]],\n",
            "\n",
            "         [[-1.3576e-01, -6.7584e-02, -9.5512e-02],\n",
            "          [ 1.1493e-01,  9.8379e-02, -5.2878e-02],\n",
            "          [ 9.4681e-03,  1.3379e-01,  8.8214e-02]],\n",
            "\n",
            "         [[ 7.3389e-02,  1.1265e-02, -3.3850e-02],\n",
            "          [ 1.0207e-01,  1.2006e-01,  9.1871e-02],\n",
            "          [-1.3031e-01, -1.1071e-01,  1.1652e-02]],\n",
            "\n",
            "         [[ 3.4169e-02,  1.1197e-01, -4.1560e-02],\n",
            "          [ 6.9913e-02, -8.1032e-02, -6.1079e-02],\n",
            "          [-1.1244e-01,  1.2100e-01,  1.1764e-01]],\n",
            "\n",
            "         [[ 8.9464e-02,  6.8136e-02, -9.8151e-02],\n",
            "          [-2.0173e-02, -9.4614e-03,  5.3887e-02],\n",
            "          [-1.0426e-01, -2.4436e-02,  8.0107e-02]]],\n",
            "\n",
            "\n",
            "        [[[ 3.0301e-02,  1.2920e-01, -5.2147e-02],\n",
            "          [ 8.4496e-02, -1.2355e-01,  1.0674e-01],\n",
            "          [ 7.0153e-03,  2.9162e-03,  9.9491e-02]],\n",
            "\n",
            "         [[ 1.1386e-01, -8.9721e-02, -4.4879e-02],\n",
            "          [-3.4102e-02,  1.2353e-01, -3.5971e-02],\n",
            "          [-1.2535e-01,  7.6722e-02,  5.4855e-02]],\n",
            "\n",
            "         [[ 1.3101e-01,  5.8794e-02,  7.4266e-03],\n",
            "          [-1.0232e-01,  1.0719e-01, -6.3422e-03],\n",
            "          [ 1.0061e-01,  6.5181e-02, -3.7590e-03]],\n",
            "\n",
            "         [[ 1.0432e-01, -3.1958e-02,  8.2347e-02],\n",
            "          [ 3.5948e-02, -3.5677e-02,  5.9014e-02],\n",
            "          [-1.1990e-04, -1.0181e-01, -1.1437e-02]],\n",
            "\n",
            "         [[ 1.4224e-02, -3.7106e-02,  1.0589e-02],\n",
            "          [-7.0509e-02, -1.3089e-01, -1.1629e-01],\n",
            "          [-2.2577e-02,  1.8179e-02, -2.1500e-02]],\n",
            "\n",
            "         [[-2.7284e-02, -5.1708e-02,  1.9203e-02],\n",
            "          [ 3.7062e-02, -1.0732e-01,  6.1072e-03],\n",
            "          [ 6.9128e-02,  5.5611e-02, -6.2026e-04]]],\n",
            "\n",
            "\n",
            "        [[[ 1.3183e-01,  1.1194e-01, -9.5482e-02],\n",
            "          [-8.9484e-02,  9.4041e-02, -8.9024e-03],\n",
            "          [ 2.5413e-02, -1.0073e-01,  3.8577e-02]],\n",
            "\n",
            "         [[ 9.2210e-02,  3.1596e-02,  1.3205e-01],\n",
            "          [-1.3492e-01,  7.6409e-02,  1.6860e-02],\n",
            "          [ 3.5227e-02,  1.2274e-01, -1.0186e-01]],\n",
            "\n",
            "         [[-6.9686e-02,  7.5705e-02, -6.5408e-02],\n",
            "          [-2.3123e-02, -5.0597e-02,  1.0429e-01],\n",
            "          [ 1.2281e-01,  5.0059e-02, -9.3705e-03]],\n",
            "\n",
            "         [[ 2.1734e-02,  7.4583e-02,  1.3069e-01],\n",
            "          [-3.7385e-02, -7.3928e-02,  2.8475e-02],\n",
            "          [-1.1792e-01,  3.0856e-02, -9.9723e-02]],\n",
            "\n",
            "         [[-1.2001e-01,  2.3922e-02,  1.0695e-01],\n",
            "          [ 1.0948e-01, -8.7648e-03, -2.8473e-02],\n",
            "          [-1.4856e-02,  8.4040e-02, -1.1088e-01]],\n",
            "\n",
            "         [[ 1.5907e-02,  8.8849e-02,  1.2902e-01],\n",
            "          [ 1.2464e-01, -9.5831e-02, -9.3251e-02],\n",
            "          [-4.0536e-02,  5.2589e-02,  1.0163e-01]]],\n",
            "\n",
            "\n",
            "        [[[ 3.0711e-02, -9.9655e-02,  9.3752e-02],\n",
            "          [ 1.0367e-01, -5.0847e-02,  9.2094e-02],\n",
            "          [-6.7483e-02,  1.0573e-01, -9.5042e-03]],\n",
            "\n",
            "         [[ 4.0637e-02,  2.1376e-02,  1.3388e-01],\n",
            "          [-1.1632e-01, -4.2846e-02, -4.5092e-02],\n",
            "          [ 1.2006e-01,  5.4876e-02, -7.3076e-02]],\n",
            "\n",
            "         [[ 9.8165e-02,  2.5221e-02, -1.2080e-01],\n",
            "          [-1.2395e-01,  4.7817e-02, -3.1982e-03],\n",
            "          [ 1.1779e-01,  4.2427e-02, -1.2241e-01]],\n",
            "\n",
            "         [[ 9.6979e-02,  1.1709e-01, -1.2614e-02],\n",
            "          [-5.8997e-02,  9.3371e-02, -1.3559e-01],\n",
            "          [-9.7630e-02,  5.3230e-02, -7.3556e-02]],\n",
            "\n",
            "         [[ 2.7657e-02, -7.9805e-02,  6.6917e-02],\n",
            "          [ 7.7654e-02, -1.2724e-01, -4.8193e-02],\n",
            "          [-1.3516e-01, -1.0639e-01,  8.5330e-02]],\n",
            "\n",
            "         [[ 9.2911e-02, -1.1546e-02, -2.2396e-02],\n",
            "          [-3.6324e-02, -6.0210e-03,  1.4513e-02],\n",
            "          [-1.1298e-01,  2.6559e-02, -1.0232e-01]]],\n",
            "\n",
            "\n",
            "        [[[ 4.5105e-03, -3.8751e-02, -2.5944e-02],\n",
            "          [ 1.1696e-01, -7.4409e-02,  1.2794e-01],\n",
            "          [-1.7127e-02,  1.2602e-01,  2.8280e-02]],\n",
            "\n",
            "         [[-1.1342e-01,  1.2105e-01,  3.6929e-02],\n",
            "          [ 1.3117e-01,  1.2521e-01,  6.7360e-02],\n",
            "          [-6.0361e-02, -1.0297e-02, -1.2866e-01]],\n",
            "\n",
            "         [[-7.2923e-02, -2.5642e-02, -5.4641e-02],\n",
            "          [-1.0202e-01,  3.9222e-02, -9.3917e-02],\n",
            "          [ 1.0691e-01, -1.1080e-01,  6.0492e-02]],\n",
            "\n",
            "         [[-8.4417e-02,  6.6696e-02,  7.9129e-02],\n",
            "          [ 3.3277e-02, -6.4999e-04,  8.8535e-02],\n",
            "          [-7.8824e-02, -3.4002e-02,  3.1265e-02]],\n",
            "\n",
            "         [[ 1.0478e-02, -5.4854e-03,  7.5405e-02],\n",
            "          [-1.8024e-02,  9.5280e-02, -1.2626e-01],\n",
            "          [-4.7489e-02,  1.2119e-01, -1.2370e-01]],\n",
            "\n",
            "         [[ 9.0539e-02,  7.7177e-03,  7.2134e-02],\n",
            "          [ 1.2560e-01, -1.1181e-01, -2.0579e-02],\n",
            "          [-8.5873e-02,  4.3858e-02, -6.8128e-02]]],\n",
            "\n",
            "\n",
            "        [[[-8.3482e-02,  7.6903e-02,  1.2885e-01],\n",
            "          [ 1.2516e-01, -4.7682e-02, -7.3659e-02],\n",
            "          [ 3.7170e-02,  4.8117e-02, -3.8959e-02]],\n",
            "\n",
            "         [[ 2.2671e-02,  1.8388e-02, -1.4079e-02],\n",
            "          [-3.2709e-02,  2.2379e-02, -5.8524e-02],\n",
            "          [-4.6348e-02, -4.8055e-02,  5.7729e-02]],\n",
            "\n",
            "         [[ 6.9035e-02, -1.2049e-01, -1.2859e-01],\n",
            "          [-1.8935e-02, -2.7720e-02,  3.4803e-02],\n",
            "          [ 1.1046e-01, -4.9593e-02,  1.2181e-02]],\n",
            "\n",
            "         [[ 7.9502e-02,  5.0440e-02,  3.1245e-02],\n",
            "          [-5.6729e-02, -5.6260e-02,  9.5814e-02],\n",
            "          [-2.1954e-02,  1.0441e-01,  2.3664e-02]],\n",
            "\n",
            "         [[-1.2418e-01, -9.3463e-02, -4.7638e-02],\n",
            "          [-3.7539e-02, -1.0040e-01, -6.4190e-02],\n",
            "          [-6.0574e-02, -8.4910e-02,  6.5270e-02]],\n",
            "\n",
            "         [[-1.1222e-01, -1.2654e-01,  1.1740e-01],\n",
            "          [ 1.4588e-02, -5.6708e-02, -1.3942e-02],\n",
            "          [ 2.9090e-02,  1.2259e-01, -1.5787e-02]]],\n",
            "\n",
            "\n",
            "        [[[-1.6516e-02, -3.0123e-03,  1.1294e-01],\n",
            "          [ 6.5180e-03, -3.6136e-02,  1.2100e-01],\n",
            "          [ 1.0319e-02, -2.3986e-02, -5.6666e-02]],\n",
            "\n",
            "         [[ 1.1784e-01,  8.3020e-02,  6.8024e-02],\n",
            "          [-6.0578e-02,  7.1246e-02,  9.5824e-02],\n",
            "          [-4.1397e-02, -3.5729e-02,  2.1198e-02]],\n",
            "\n",
            "         [[-1.0503e-01,  8.0705e-02, -5.5932e-02],\n",
            "          [ 4.8432e-02,  1.3172e-01, -1.0877e-01],\n",
            "          [ 2.6282e-02,  4.1258e-02,  1.2077e-01]],\n",
            "\n",
            "         [[-1.0336e-02,  3.8775e-02,  4.4693e-02],\n",
            "          [ 7.3352e-02,  1.1174e-01,  1.0935e-02],\n",
            "          [-1.6229e-02, -6.0837e-02,  9.4842e-02]],\n",
            "\n",
            "         [[ 7.2485e-02, -9.3434e-02, -2.0612e-02],\n",
            "          [-9.8393e-02, -4.0343e-02, -8.3586e-02],\n",
            "          [ 3.3803e-02, -6.7654e-02, -6.5371e-02]],\n",
            "\n",
            "         [[-7.6899e-02, -1.1712e-02,  3.9978e-02],\n",
            "          [ 7.8997e-02, -2.4765e-02, -2.1574e-02],\n",
            "          [ 1.1854e-01, -2.2479e-02, -8.8253e-02]]],\n",
            "\n",
            "\n",
            "        [[[-2.3769e-02,  1.1073e-01,  1.3236e-01],\n",
            "          [-3.2465e-02, -3.4742e-02, -9.4631e-02],\n",
            "          [ 1.2686e-01, -6.6610e-03,  1.1410e-01]],\n",
            "\n",
            "         [[ 9.9989e-02, -1.2218e-01, -7.3828e-03],\n",
            "          [ 1.2837e-03,  5.5025e-02, -1.2312e-01],\n",
            "          [-2.0390e-03,  3.6292e-02, -1.9301e-02]],\n",
            "\n",
            "         [[ 5.0922e-03, -8.6249e-02,  3.7266e-02],\n",
            "          [ 1.1192e-02,  7.3618e-02,  1.1438e-01],\n",
            "          [ 9.7512e-02, -2.9091e-02, -1.1431e-01]],\n",
            "\n",
            "         [[ 6.1219e-02,  8.9530e-02,  1.1960e-01],\n",
            "          [-8.7630e-02,  5.1885e-02, -5.5781e-02],\n",
            "          [-9.6758e-03, -4.3876e-02,  2.7219e-02]],\n",
            "\n",
            "         [[ 1.3389e-01, -1.3519e-02, -7.1188e-02],\n",
            "          [-1.0723e-02, -1.1247e-01, -5.5465e-02],\n",
            "          [ 1.1302e-01,  1.2101e-01,  9.5208e-02]],\n",
            "\n",
            "         [[-4.7107e-02,  9.3800e-02, -1.0742e-01],\n",
            "          [ 7.9541e-02,  6.9273e-02,  1.2233e-01],\n",
            "          [ 1.1063e-01,  8.0743e-02,  2.1451e-02]]]], requires_grad=True)\n",
            "Parameter containing:\n",
            "tensor([ 0.0420,  0.0894, -0.0834, -0.0319,  0.1305,  0.0147, -0.0221,  0.0515,\n",
            "        -0.1104, -0.0704, -0.0603, -0.0217, -0.1160, -0.1022, -0.1064, -0.0449],\n",
            "       requires_grad=True)\n",
            "Parameter containing:\n",
            "tensor([[-0.0396,  0.0374,  0.0046,  ..., -0.0341, -0.0019, -0.0358],\n",
            "        [ 0.0261,  0.0188,  0.0072,  ..., -0.0366, -0.0359, -0.0377],\n",
            "        [-0.0037,  0.0221,  0.0108,  ...,  0.0090, -0.0040,  0.0063],\n",
            "        ...,\n",
            "        [-0.0310, -0.0220, -0.0146,  ...,  0.0043,  0.0377, -0.0013],\n",
            "        [-0.0100,  0.0271,  0.0204,  ...,  0.0401,  0.0070,  0.0076],\n",
            "        [ 0.0088,  0.0092,  0.0166,  ..., -0.0382, -0.0394,  0.0076]],\n",
            "       requires_grad=True)\n",
            "Parameter containing:\n",
            "tensor([-0.0218,  0.0210, -0.0193, -0.0311, -0.0398,  0.0293,  0.0054,  0.0017,\n",
            "        -0.0201,  0.0226,  0.0375,  0.0261, -0.0342,  0.0397, -0.0177, -0.0273,\n",
            "        -0.0160,  0.0280,  0.0002, -0.0057,  0.0006,  0.0133, -0.0091, -0.0091,\n",
            "        -0.0217, -0.0318, -0.0055,  0.0159, -0.0393,  0.0294, -0.0321, -0.0342,\n",
            "         0.0265,  0.0143,  0.0320, -0.0398,  0.0343,  0.0017,  0.0266, -0.0171,\n",
            "         0.0388, -0.0267,  0.0004, -0.0403,  0.0295,  0.0012, -0.0265, -0.0389,\n",
            "         0.0261,  0.0281,  0.0300,  0.0133,  0.0001, -0.0289, -0.0240, -0.0097,\n",
            "         0.0106, -0.0077,  0.0108,  0.0273,  0.0243, -0.0003, -0.0368, -0.0031,\n",
            "        -0.0221,  0.0055,  0.0227, -0.0177,  0.0046, -0.0172, -0.0183,  0.0041,\n",
            "         0.0265,  0.0303,  0.0366, -0.0319,  0.0099,  0.0234,  0.0043, -0.0269,\n",
            "        -0.0052, -0.0057, -0.0122,  0.0095, -0.0306,  0.0321, -0.0230,  0.0309,\n",
            "        -0.0271,  0.0066,  0.0377, -0.0324,  0.0133, -0.0334,  0.0337, -0.0071,\n",
            "         0.0322, -0.0126, -0.0347,  0.0414, -0.0305, -0.0347,  0.0181,  0.0097,\n",
            "        -0.0294,  0.0058, -0.0049, -0.0246, -0.0363, -0.0302, -0.0105,  0.0416,\n",
            "        -0.0086, -0.0167,  0.0408,  0.0167,  0.0115,  0.0221, -0.0271,  0.0140],\n",
            "       requires_grad=True)\n",
            "Parameter containing:\n",
            "tensor([[ 0.0818,  0.0017,  0.0857,  ..., -0.0355,  0.0587,  0.0755],\n",
            "        [ 0.0295, -0.0657, -0.0658,  ...,  0.0161, -0.0141,  0.0736],\n",
            "        [ 0.0510, -0.0868,  0.0112,  ...,  0.0353,  0.0433,  0.0024],\n",
            "        ...,\n",
            "        [ 0.0459,  0.0846, -0.0696,  ...,  0.0255,  0.0851, -0.0489],\n",
            "        [-0.0660, -0.0044,  0.0900,  ...,  0.0097, -0.0333, -0.0384],\n",
            "        [-0.0682,  0.0520,  0.0777,  ...,  0.0680, -0.0383, -0.0412]],\n",
            "       requires_grad=True)\n",
            "Parameter containing:\n",
            "tensor([-0.0249, -0.0815,  0.0549, -0.0865, -0.0024,  0.0496, -0.0780, -0.0182,\n",
            "         0.0301, -0.0047, -0.0015,  0.0723,  0.0430,  0.0169,  0.0703,  0.0031,\n",
            "         0.0570,  0.0560,  0.0889, -0.0698,  0.0086, -0.0700,  0.0545,  0.0889,\n",
            "         0.0831, -0.0399, -0.0492, -0.0681,  0.0064,  0.0576, -0.0243, -0.0913,\n",
            "        -0.0108,  0.0166, -0.0109,  0.0741, -0.0649, -0.0013,  0.0586,  0.0530,\n",
            "         0.0547,  0.0318, -0.0671, -0.0475,  0.0231, -0.0685, -0.0640, -0.0492,\n",
            "        -0.0025,  0.0344,  0.0504, -0.0362,  0.0546, -0.0152, -0.0792,  0.0401,\n",
            "         0.0144,  0.0045, -0.0132,  0.0901,  0.0709, -0.0203,  0.0028, -0.0352,\n",
            "        -0.0399,  0.0413, -0.0720,  0.0609, -0.0691,  0.0332, -0.0432, -0.0818,\n",
            "         0.0543, -0.0536,  0.0630, -0.0027, -0.0783, -0.0814, -0.0414,  0.0881,\n",
            "        -0.0203,  0.0015, -0.0339,  0.0104], requires_grad=True)\n",
            "Parameter containing:\n",
            "tensor([[-0.0048,  0.0658, -0.0484, -0.0751,  0.0994,  0.0779,  0.0163, -0.0734,\n",
            "          0.0279,  0.0962,  0.1081,  0.0713,  0.0027, -0.0274, -0.0493,  0.0607,\n",
            "         -0.0561, -0.0005, -0.0011,  0.0122,  0.0150, -0.0569, -0.0350,  0.0321,\n",
            "          0.0549,  0.0780,  0.0606,  0.0743,  0.0843,  0.0812, -0.0216,  0.0262,\n",
            "          0.0659, -0.0194, -0.0482,  0.0287, -0.0901, -0.0369, -0.0538,  0.0798,\n",
            "          0.0227,  0.0204, -0.0003, -0.0409,  0.0789, -0.0668,  0.0103, -0.1034,\n",
            "          0.0296, -0.0407,  0.0406,  0.0321,  0.0079,  0.0355,  0.0371, -0.0707,\n",
            "          0.0306, -0.0678,  0.0436,  0.0714, -0.0682,  0.0425,  0.0015,  0.0206,\n",
            "          0.0507,  0.0246, -0.0068, -0.0661,  0.0411,  0.1072,  0.1000, -0.0490,\n",
            "          0.1009,  0.0590,  0.0793,  0.1082, -0.0550,  0.0257,  0.0162, -0.0621,\n",
            "         -0.0297,  0.0888, -0.0266, -0.0034],\n",
            "        [ 0.0880, -0.0105, -0.0628, -0.0339,  0.0615, -0.0571, -0.0714,  0.1018,\n",
            "          0.1072,  0.1030, -0.0801, -0.0489,  0.0702, -0.0650,  0.0013,  0.0918,\n",
            "         -0.0176, -0.0562, -0.0380,  0.0915,  0.0665,  0.0278, -0.0573,  0.0450,\n",
            "          0.0243,  0.0010, -0.1045, -0.0499,  0.0430,  0.0606,  0.0658,  0.0294,\n",
            "         -0.0239,  0.0411,  0.0566,  0.0246,  0.0225, -0.1091, -0.0515, -0.0864,\n",
            "          0.0416,  0.0090,  0.0312,  0.0420, -0.0353,  0.0541, -0.0347, -0.0350,\n",
            "          0.0680, -0.0668,  0.0115,  0.0930, -0.0609, -0.0268,  0.0099, -0.0738,\n",
            "         -0.1078, -0.0169, -0.0214, -0.0865, -0.0251, -0.1035,  0.0562, -0.0628,\n",
            "          0.0468,  0.1053, -0.0897, -0.0799, -0.0387,  0.0125, -0.0153, -0.0923,\n",
            "         -0.0454, -0.0478,  0.1014,  0.0332,  0.0371,  0.0819,  0.0956, -0.0055,\n",
            "          0.0120, -0.0571, -0.0598, -0.0391],\n",
            "        [-0.0358, -0.0409, -0.0623, -0.0688,  0.0184,  0.0836,  0.1078, -0.0360,\n",
            "          0.0698,  0.0854,  0.0776,  0.0544,  0.1025,  0.0758, -0.0991,  0.0813,\n",
            "         -0.0844, -0.0095,  0.0018,  0.0899, -0.0833, -0.0381,  0.0380, -0.0070,\n",
            "         -0.0344, -0.0759, -0.0530, -0.0642,  0.0283, -0.0294,  0.0382, -0.0348,\n",
            "          0.0008,  0.0072,  0.0830, -0.0218,  0.0518, -0.0081, -0.1015,  0.0475,\n",
            "         -0.0113,  0.1044,  0.0426,  0.0744,  0.0609, -0.0610, -0.0225, -0.0720,\n",
            "         -0.0645, -0.0669,  0.0866, -0.0972,  0.0843, -0.0116, -0.0878,  0.0702,\n",
            "         -0.1017, -0.0405,  0.0028,  0.0404, -0.0214, -0.0969,  0.0672, -0.0606,\n",
            "          0.0815,  0.0517,  0.0480,  0.0646, -0.0344,  0.0954, -0.0331,  0.0863,\n",
            "         -0.0429,  0.0281,  0.0385, -0.0650, -0.0696, -0.0607, -0.0065,  0.0697,\n",
            "          0.0802,  0.1025, -0.0648, -0.0339],\n",
            "        [-0.0791, -0.0307, -0.0085,  0.0870, -0.0819,  0.0386, -0.0936,  0.0469,\n",
            "         -0.0480, -0.1002, -0.0894, -0.0747,  0.0334,  0.0321,  0.0091, -0.0483,\n",
            "          0.0672, -0.0006,  0.0756,  0.0562, -0.0402, -0.0464, -0.1065, -0.1052,\n",
            "         -0.0533,  0.0253, -0.0136, -0.0063, -0.0313, -0.0926, -0.0266, -0.0916,\n",
            "          0.0741, -0.0323,  0.1038, -0.0820, -0.0103,  0.0237,  0.0349,  0.1013,\n",
            "          0.1038,  0.0569,  0.1072, -0.0559, -0.0927, -0.0537, -0.0412,  0.1034,\n",
            "         -0.0202, -0.0445, -0.0653, -0.0044, -0.0291,  0.1024,  0.0718,  0.0911,\n",
            "         -0.0237,  0.0591,  0.0569, -0.0329,  0.1077,  0.0190, -0.0404, -0.0349,\n",
            "         -0.0161,  0.0440, -0.0163, -0.0559,  0.0671,  0.0189, -0.0434,  0.0032,\n",
            "         -0.0514,  0.0932,  0.0202, -0.0112,  0.0159, -0.1033, -0.0383, -0.0813,\n",
            "          0.0327,  0.0892, -0.0895, -0.1029],\n",
            "        [ 0.0255, -0.0809, -0.0916, -0.0334,  0.0317,  0.0162,  0.0387, -0.0707,\n",
            "          0.0453, -0.0488, -0.0748,  0.0452, -0.0927,  0.0083, -0.0324, -0.0459,\n",
            "         -0.0559,  0.0311,  0.0908, -0.0799,  0.0820,  0.0900,  0.0998,  0.0129,\n",
            "         -0.0062, -0.0632, -0.0449,  0.0875,  0.0345, -0.0608,  0.0735, -0.0505,\n",
            "         -0.0961, -0.0876,  0.0505, -0.0471,  0.0988, -0.0976, -0.0573,  0.0552,\n",
            "          0.0131, -0.0996, -0.0634, -0.0592,  0.0498,  0.0926,  0.0657,  0.0959,\n",
            "         -0.0731,  0.0713, -0.0531, -0.0733, -0.0782, -0.0744, -0.0142,  0.0236,\n",
            "          0.0248,  0.0390,  0.0848, -0.0665,  0.0584,  0.0846,  0.0724,  0.0301,\n",
            "         -0.0743,  0.0073, -0.0663,  0.0744,  0.0418, -0.0680,  0.0802, -0.0515,\n",
            "          0.0524,  0.0698,  0.0133,  0.0121, -0.0625,  0.0410,  0.0412, -0.0848,\n",
            "          0.0699, -0.0032, -0.1033, -0.0286],\n",
            "        [ 0.0384,  0.0554, -0.0288, -0.0431, -0.0912,  0.0406,  0.0643,  0.0990,\n",
            "         -0.0376,  0.0731, -0.0718, -0.0851,  0.0675,  0.0096,  0.1012,  0.0514,\n",
            "         -0.0817, -0.0079, -0.0109,  0.0670,  0.0781, -0.0739,  0.0351, -0.0618,\n",
            "          0.1044, -0.0304,  0.0343, -0.0814, -0.0625, -0.0457, -0.0829,  0.0458,\n",
            "          0.0141,  0.0338, -0.0649,  0.0135, -0.0468, -0.0388,  0.0850, -0.0511,\n",
            "          0.0661,  0.0268,  0.0967,  0.0842,  0.0678, -0.0787,  0.0925,  0.1016,\n",
            "         -0.0826, -0.0519, -0.0776, -0.0318,  0.0913,  0.0320,  0.0758, -0.1023,\n",
            "         -0.0132, -0.0653,  0.0255,  0.0579,  0.0416,  0.0357,  0.0907,  0.0012,\n",
            "         -0.0488,  0.0565,  0.0557,  0.0980,  0.0508,  0.0962, -0.0123, -0.0295,\n",
            "         -0.1030,  0.0763,  0.0798,  0.0749,  0.0556, -0.0250, -0.0796,  0.0841,\n",
            "         -0.0159, -0.0840, -0.0936, -0.0670],\n",
            "        [ 0.0877,  0.0266, -0.0620, -0.0279,  0.0340, -0.0603,  0.0027,  0.0189,\n",
            "         -0.0015,  0.0952,  0.0408, -0.0402, -0.0044, -0.0290, -0.1075,  0.0575,\n",
            "         -0.1045,  0.0613,  0.0315, -0.0542, -0.1087,  0.0278, -0.0710, -0.0547,\n",
            "         -0.0819,  0.0988, -0.0991,  0.0271,  0.1056,  0.1067, -0.0825, -0.0118,\n",
            "         -0.0792,  0.0650, -0.0708, -0.0420,  0.0353,  0.0972,  0.0919,  0.0065,\n",
            "          0.0434,  0.0834,  0.0792,  0.0858,  0.0428, -0.0569, -0.1035,  0.0007,\n",
            "          0.0372,  0.0631,  0.0861,  0.0140,  0.0153,  0.1009, -0.0762,  0.0144,\n",
            "         -0.0673, -0.0727, -0.0578, -0.0236,  0.0908,  0.0225,  0.0883, -0.0805,\n",
            "         -0.0936,  0.0699,  0.0221,  0.1041, -0.0649, -0.0872, -0.0413,  0.0542,\n",
            "         -0.0535,  0.0786, -0.0416,  0.0879, -0.1049, -0.1045, -0.0177, -0.0377,\n",
            "         -0.0911, -0.0074, -0.1038, -0.0472],\n",
            "        [ 0.0164,  0.0020, -0.0927,  0.0978,  0.0167, -0.0159,  0.0705,  0.0556,\n",
            "          0.0572, -0.0642,  0.0678, -0.0981, -0.0728,  0.0102, -0.0758,  0.0900,\n",
            "          0.0166,  0.0017,  0.0385,  0.0882,  0.0772,  0.0125,  0.0665, -0.0064,\n",
            "         -0.0956,  0.0171,  0.0700, -0.0005,  0.1009, -0.0337, -0.0865, -0.0640,\n",
            "          0.0053,  0.0945, -0.0716, -0.0386, -0.0293, -0.0096, -0.0927,  0.0621,\n",
            "         -0.0755, -0.0765, -0.0279, -0.0662, -0.0563, -0.0478,  0.0707, -0.0942,\n",
            "         -0.1001,  0.0898,  0.0778, -0.0209,  0.0119, -0.0901, -0.1013,  0.0009,\n",
            "         -0.0863,  0.0754,  0.1069,  0.0317, -0.0373,  0.0905,  0.0290,  0.0125,\n",
            "         -0.0222, -0.0572, -0.0034,  0.0730, -0.0057, -0.0564,  0.1050,  0.0399,\n",
            "         -0.0828, -0.0570, -0.0776,  0.0619, -0.0025,  0.0352, -0.0312, -0.0496,\n",
            "          0.0928,  0.0160,  0.0125, -0.0444],\n",
            "        [ 0.0068, -0.0297,  0.0176,  0.0125,  0.0693, -0.0476,  0.0953,  0.0549,\n",
            "          0.0793,  0.0464, -0.0019,  0.0956, -0.0821, -0.1072,  0.0768, -0.0896,\n",
            "         -0.0541, -0.0876, -0.0856,  0.0161,  0.0007,  0.0833,  0.0007,  0.0117,\n",
            "         -0.0717, -0.0411,  0.0517,  0.0194, -0.0967, -0.0176,  0.0784,  0.0335,\n",
            "          0.0031, -0.0983,  0.0891,  0.0772,  0.1038, -0.0573, -0.0571,  0.0316,\n",
            "         -0.0633,  0.0542,  0.0174, -0.0815,  0.0674, -0.1009,  0.0313,  0.0486,\n",
            "          0.0477, -0.0951,  0.0538,  0.0887, -0.0683, -0.0162,  0.0273, -0.0409,\n",
            "         -0.0549,  0.1088, -0.0010,  0.0892,  0.0562,  0.1067, -0.0229, -0.0206,\n",
            "          0.0177,  0.0457, -0.0314, -0.0391, -0.0768,  0.1090, -0.1025, -0.1054,\n",
            "          0.0057,  0.0207, -0.0336,  0.0286, -0.0315,  0.0470,  0.1014, -0.0593,\n",
            "         -0.1021,  0.0760, -0.0580, -0.0886],\n",
            "        [ 0.0447, -0.0106,  0.0283, -0.0264, -0.0798,  0.0050, -0.0348,  0.1017,\n",
            "          0.0693, -0.0175,  0.0551, -0.0797, -0.0401,  0.0999, -0.0230,  0.0578,\n",
            "          0.1061, -0.0005,  0.0954, -0.0830, -0.1044, -0.1040, -0.0957, -0.0214,\n",
            "          0.0076,  0.0457,  0.0896, -0.1031, -0.1054, -0.0394, -0.1064,  0.0062,\n",
            "         -0.1007, -0.0656,  0.0751, -0.0330, -0.0926, -0.0215, -0.0555,  0.0588,\n",
            "         -0.0360,  0.0486,  0.0722, -0.0138,  0.0835,  0.0347, -0.0721, -0.0660,\n",
            "         -0.0038,  0.0874,  0.0695, -0.0819,  0.0573,  0.0318,  0.0833,  0.0790,\n",
            "         -0.0211,  0.0270,  0.0860,  0.0024, -0.0639,  0.0394, -0.0866, -0.0563,\n",
            "         -0.0769, -0.0586,  0.0862,  0.0264,  0.0781,  0.0964, -0.0686,  0.0554,\n",
            "         -0.0459,  0.0790, -0.0452,  0.0967, -0.0535,  0.0428,  0.0215,  0.0302,\n",
            "         -0.0452, -0.0589,  0.0934,  0.0232]], requires_grad=True)\n",
            "Parameter containing:\n",
            "tensor([ 0.0244, -0.0592, -0.0707, -0.0207, -0.0152,  0.0919, -0.0365, -0.0641,\n",
            "        -0.0881, -0.0279], requires_grad=True)\n"
          ],
          "name": "stdout"
        }
      ]
    },
    {
      "cell_type": "markdown",
      "metadata": {
        "id": "SznDA9tVgALg",
        "colab_type": "text"
      },
      "source": [
        "However, as you use neural networks, you want to use various different update rules such as SGD, Nesterov-SGD, Adam, RMSProp, etc. To enable this, we built a small package: torch.optim that implements all these methods. Using it is very simple:"
      ]
    },
    {
      "cell_type": "code",
      "metadata": {
        "id": "tRn2EzZffpWD",
        "colab_type": "code",
        "colab": {}
      },
      "source": [
        "import torch.optim as optim\n",
        "\n",
        "# create your optimizer\n",
        "optimizer = optim.SGD(net.parameters(), lr=0.01)\n",
        "\n",
        "# in your training loop:\n",
        "optimizer.zero_grad()   # zero the gradient buffers\n",
        "output = net(input)\n",
        "loss = criterion(output, target)\n",
        "loss.backward()\n",
        "optimizer.step()    # Does the update"
      ],
      "execution_count": 0,
      "outputs": []
    },
    {
      "cell_type": "markdown",
      "metadata": {
        "id": "D6-_iMx-hAO5",
        "colab_type": "text"
      },
      "source": [
        "################################################################################\n",
        "\n",
        "We will now create an image classifier\n"
      ]
    },
    {
      "cell_type": "code",
      "metadata": {
        "id": "3sH2l-QvgDB2",
        "colab_type": "code",
        "colab": {}
      },
      "source": [
        "import torch\n",
        "import torchvision\n",
        "import torchvision.transforms as transforms"
      ],
      "execution_count": 0,
      "outputs": []
    },
    {
      "cell_type": "code",
      "metadata": {
        "id": "Gw95jdm1hN7P",
        "colab_type": "code",
        "colab": {
          "base_uri": "https://localhost:8080/",
          "height": 100,
          "referenced_widgets": [
            "fb7df56c9447457b93072753c8858519",
            "b1dcfb90a864444e857e5bec58c04e53",
            "23002964755d4e17b8620556bd89a97e",
            "de4f5705dbe14073aa189472fe5f048e",
            "7fa73d56a43e4f58ba86bdc9e44e5d36",
            "a10aa1315829469cbb0b0c2d913083ef",
            "83ee12a039ff45588a6b958b03c68ed0",
            "ce5b48a2c51647b6a28d1b5f68bb1238"
          ]
        },
        "outputId": "0da28f95-ff29-43a8-f1bc-a49f6b6aef9e"
      },
      "source": [
        "#The output of torchvision datasets are PILImage images of range [0, 1]. We transform them to Tensors of normalized range [-1, 1].\n",
        "\n",
        "transform = transforms.Compose(\n",
        "    [transforms.ToTensor(),\n",
        "     transforms.Normalize((0.5, 0.5, 0.5), (0.5, 0.5, 0.5))])\n",
        "\n",
        "trainset = torchvision.datasets.CIFAR10(root='./data', train=True,\n",
        "                                        download=True, transform=transform)\n",
        "trainloader = torch.utils.data.DataLoader(trainset, batch_size=4,\n",
        "                                          shuffle=True, num_workers=2)\n",
        "\n",
        "testset = torchvision.datasets.CIFAR10(root='./data', train=False,\n",
        "                                       download=True, transform=transform)\n",
        "testloader = torch.utils.data.DataLoader(testset, batch_size=4,\n",
        "                                         shuffle=False, num_workers=2)\n",
        "\n",
        "classes = ('plane', 'car', 'bird', 'cat',\n",
        "           'deer', 'dog', 'frog', 'horse', 'ship', 'truck')"
      ],
      "execution_count": 15,
      "outputs": [
        {
          "output_type": "stream",
          "text": [
            "Downloading https://www.cs.toronto.edu/~kriz/cifar-10-python.tar.gz to ./data/cifar-10-python.tar.gz\n"
          ],
          "name": "stdout"
        },
        {
          "output_type": "display_data",
          "data": {
            "application/vnd.jupyter.widget-view+json": {
              "model_id": "fb7df56c9447457b93072753c8858519",
              "version_minor": 0,
              "version_major": 2
            },
            "text/plain": [
              "HBox(children=(IntProgress(value=1, bar_style='info', max=1), HTML(value='')))"
            ]
          },
          "metadata": {
            "tags": []
          }
        },
        {
          "output_type": "stream",
          "text": [
            "Extracting ./data/cifar-10-python.tar.gz to ./data\n",
            "Files already downloaded and verified\n"
          ],
          "name": "stdout"
        }
      ]
    },
    {
      "cell_type": "code",
      "metadata": {
        "id": "300BRPVWhh2a",
        "colab_type": "code",
        "colab": {
          "base_uri": "https://localhost:8080/",
          "height": 51
        },
        "outputId": "bff666d0-54de-4e01-d299-7f733e9ca928"
      },
      "source": [
        "!ls data/cifar-10-batches-py/"
      ],
      "execution_count": 16,
      "outputs": [
        {
          "output_type": "stream",
          "text": [
            "batches.meta  data_batch_2  data_batch_4  readme.html\n",
            "data_batch_1  data_batch_3  data_batch_5  test_batch\n"
          ],
          "name": "stdout"
        }
      ]
    },
    {
      "cell_type": "code",
      "metadata": {
        "id": "mPQoCNjvhmtA",
        "colab_type": "code",
        "colab": {}
      },
      "source": [
        "import matplotlib.pyplot as plt\n",
        "import numpy as np\n",
        "\n",
        "# functions to show an image\n",
        "\n",
        "\n",
        "def imshow(img):\n",
        "    img = img / 2 + 0.5     # unnormalize\n",
        "    npimg = img.numpy()\n",
        "    plt.imshow(np.transpose(npimg, (1, 2, 0)))\n",
        "    plt.show()"
      ],
      "execution_count": 0,
      "outputs": []
    },
    {
      "cell_type": "code",
      "metadata": {
        "id": "1eD-uK_jh3xe",
        "colab_type": "code",
        "colab": {}
      },
      "source": [
        "# get some random training images\n",
        "dataiter = iter(trainloader)\n",
        "images, labels = dataiter.next()\n"
      ],
      "execution_count": 0,
      "outputs": []
    },
    {
      "cell_type": "code",
      "metadata": {
        "id": "C-aWXJV8iBbK",
        "colab_type": "code",
        "colab": {
          "base_uri": "https://localhost:8080/",
          "height": 155
        },
        "outputId": "47273a2f-20a0-4936-adfb-b076945774ed"
      },
      "source": [
        "# show images\n",
        "imshow(torchvision.utils.make_grid(images))\n",
        "# print labels\n",
        "print(' '.join('%5s' % classes[labels[j]] for j in range(4)))"
      ],
      "execution_count": 19,
      "outputs": [
        {
          "output_type": "display_data",
          "data": {
            "image/png": "[encoded data removed]",
            "text/plain": [
              "<Figure size 432x288 with 1 Axes>"
            ]
          },
          "metadata": {
            "tags": []
          }
        },
        {
          "output_type": "stream",
          "text": [
            "horse  ship  bird plane\n"
          ],
          "name": "stdout"
        }
      ]
    },
    {
      "cell_type": "code",
      "metadata": {
        "id": "GSbzCvB7iEjO",
        "colab_type": "code",
        "colab": {}
      },
      "source": [
        "import torch.nn as nn\n",
        "import torch.nn.functional as F\n",
        "\n",
        "\n",
        "class Net(nn.Module):\n",
        "    def __init__(self):\n",
        "        super(Net, self).__init__()\n",
        "        self.conv1 = nn.Conv2d(3, 6, 5)\n",
        "        self.pool = nn.MaxPool2d(2, 2)\n",
        "        self.conv2 = nn.Conv2d(6, 16, 5)\n",
        "        self.fc1 = nn.Linear(16 * 5 * 5, 120)\n",
        "        self.fc2 = nn.Linear(120, 84)\n",
        "        self.fc3 = nn.Linear(84, 10)\n",
        "\n",
        "    def forward(self, x):\n",
        "        x = self.pool(F.relu(self.conv1(x)))\n",
        "        x = self.pool(F.relu(self.conv2(x)))\n",
        "        x = x.view(-1, 16 * 5 * 5)\n",
        "        x = F.relu(self.fc1(x))\n",
        "        x = F.relu(self.fc2(x))\n",
        "        x = self.fc3(x)\n",
        "        return x\n",
        "\n",
        "\n",
        "net = Net()"
      ],
      "execution_count": 0,
      "outputs": []
    },
    {
      "cell_type": "code",
      "metadata": {
        "id": "Wn6ac5sZiqsW",
        "colab_type": "code",
        "colab": {}
      },
      "source": [
        "import torch.optim as optim\n",
        "\n",
        "criterion = nn.CrossEntropyLoss()\n",
        "optimizer = optim.SGD(net.parameters(), lr=0.001, momentum=0.9)"
      ],
      "execution_count": 0,
      "outputs": []
    },
    {
      "cell_type": "code",
      "metadata": {
        "id": "9fBxE2n4jh5K",
        "colab_type": "code",
        "colab": {
          "base_uri": "https://localhost:8080/",
          "height": 238
        },
        "outputId": "12b78dda-54ba-4bf2-e227-46b9d8ea0249"
      },
      "source": [
        "for epoch in range(2):  # loop over the dataset multiple times\n",
        "\n",
        "    running_loss = 0.0\n",
        "    for i, data in enumerate(trainloader, 0):\n",
        "        # get the inputs; data is a list of [inputs, labels]\n",
        "        inputs, labels = data\n",
        "\n",
        "        # zero the parameter gradients\n",
        "        optimizer.zero_grad()\n",
        "\n",
        "        # forward + backward + optimize\n",
        "        outputs = net(inputs)\n",
        "        loss = criterion(outputs, labels)\n",
        "        loss.backward()\n",
        "        optimizer.step()\n",
        "\n",
        "        # print statistics\n",
        "        running_loss += loss.item()\n",
        "        if i % 2000 == 1999:    # print every 2000 mini-batches\n",
        "            print('[%d, %5d] loss: %.3f' %\n",
        "                  (epoch + 1, i + 1, running_loss / 2000))\n",
        "            running_loss = 0.0\n",
        "\n",
        "print('Finished Training')"
      ],
      "execution_count": 22,
      "outputs": [
        {
          "output_type": "stream",
          "text": [
            "[1,  2000] loss: 2.215\n",
            "[1,  4000] loss: 1.845\n",
            "[1,  6000] loss: 1.688\n",
            "[1,  8000] loss: 1.606\n",
            "[1, 10000] loss: 1.501\n",
            "[1, 12000] loss: 1.454\n",
            "[2,  2000] loss: 1.377\n",
            "[2,  4000] loss: 1.339\n",
            "[2,  6000] loss: 1.331\n",
            "[2,  8000] loss: 1.280\n",
            "[2, 10000] loss: 1.290\n",
            "[2, 12000] loss: 1.244\n",
            "Finished Training\n"
          ],
          "name": "stdout"
        }
      ]
    },
    {
      "cell_type": "code",
      "metadata": {
        "id": "1cmOLtdFlAKF",
        "colab_type": "code",
        "colab": {}
      },
      "source": [
        "# Saving the model\n",
        "PATH = './cifar_net.pth'\n",
        "torch.save(net.state_dict(), PATH)"
      ],
      "execution_count": 0,
      "outputs": []
    },
    {
      "cell_type": "code",
      "metadata": {
        "id": "Yfl6fJ4ZlLs9",
        "colab_type": "code",
        "colab": {
          "base_uri": "https://localhost:8080/",
          "height": 155
        },
        "outputId": "4bd80a54-250f-4287-d3ba-9aadd023111f"
      },
      "source": [
        "dataiter = iter(testloader)\n",
        "images, labels = dataiter.next()\n",
        "\n",
        "# print images\n",
        "imshow(torchvision.utils.make_grid(images))\n",
        "print('GroundTruth: ', ' '.join('%5s' % classes[labels[j]] for j in range(4)))"
      ],
      "execution_count": 24,
      "outputs": [
        {
          "output_type": "display_data",
          "data": {
            "image/png": "[encoded data removed]",
            "text/plain": [
              "<Figure size 432x288 with 1 Axes>"
            ]
          },
          "metadata": {
            "tags": []
          }
        },
        {
          "output_type": "stream",
          "text": [
            "GroundTruth:    cat  ship  ship plane\n"
          ],
          "name": "stdout"
        }
      ]
    },
    {
      "cell_type": "code",
      "metadata": {
        "id": "ray-wa0Blbyb",
        "colab_type": "code",
        "colab": {
          "base_uri": "https://localhost:8080/",
          "height": 34
        },
        "outputId": "f1aee4ec-4c09-4664-d579-e41f170ddcec"
      },
      "source": [
        "net = Net()\n",
        "net.load_state_dict(torch.load(PATH))"
      ],
      "execution_count": 25,
      "outputs": [
        {
          "output_type": "execute_result",
          "data": {
            "text/plain": [
              "<All keys matched successfully>"
            ]
          },
          "metadata": {
            "tags": []
          },
          "execution_count": 25
        }
      ]
    },
    {
      "cell_type": "code",
      "metadata": {
        "id": "_RZT9I6gljI8",
        "colab_type": "code",
        "colab": {}
      },
      "source": [
        "outputs = net(images)"
      ],
      "execution_count": 0,
      "outputs": []
    },
    {
      "cell_type": "code",
      "metadata": {
        "id": "X_yal6EYlpgy",
        "colab_type": "code",
        "colab": {
          "base_uri": "https://localhost:8080/",
          "height": 34
        },
        "outputId": "c8b9c249-e52b-4378-e81b-dafff4b5b3a8"
      },
      "source": [
        "_, predicted = torch.max(outputs, 1)\n",
        "\n",
        "print('Predicted: ', ' '.join('%5s' % classes[predicted[j]]\n",
        "                              for j in range(4)))\n"
      ],
      "execution_count": 27,
      "outputs": [
        {
          "output_type": "stream",
          "text": [
            "Predicted:    cat  ship  ship plane\n"
          ],
          "name": "stdout"
        }
      ]
    },
    {
      "cell_type": "code",
      "metadata": {
        "id": "qT0kl7yHlx1q",
        "colab_type": "code",
        "colab": {
          "base_uri": "https://localhost:8080/",
          "height": 34
        },
        "outputId": "435564d5-07e3-4dff-a080-35e29088c91c"
      },
      "source": [
        "correct = 0\n",
        "total = 0\n",
        "with torch.no_grad():\n",
        "    for data in testloader:\n",
        "        images, labels = data\n",
        "        outputs = net(images)\n",
        "        _, predicted = torch.max(outputs.data, 1)\n",
        "        total += labels.size(0)\n",
        "        correct += (predicted == labels).sum().item()\n",
        "\n",
        "print('Accuracy of the network on the 10000 test images: %d %%' % (\n",
        "    100 * correct / total))"
      ],
      "execution_count": 28,
      "outputs": [
        {
          "output_type": "stream",
          "text": [
            "Accuracy of the network on the 10000 test images: 56 %\n"
          ],
          "name": "stdout"
        }
      ]
    },
    {
      "cell_type": "code",
      "metadata": {
        "id": "rltbLN9WmEmH",
        "colab_type": "code",
        "colab": {
          "base_uri": "https://localhost:8080/",
          "height": 187
        },
        "outputId": "f80e0ada-da24-46c9-a480-8408b532ef83"
      },
      "source": [
        "class_correct = list(0. for i in range(10))\n",
        "class_total = list(0. for i in range(10))\n",
        "with torch.no_grad():\n",
        "    for data in testloader:\n",
        "        images, labels = data\n",
        "        outputs = net(images)\n",
        "        _, predicted = torch.max(outputs, 1)\n",
        "        c = (predicted == labels).squeeze()\n",
        "        for i in range(4):\n",
        "            label = labels[i]\n",
        "            class_correct[label] += c[i].item()\n",
        "            class_total[label] += 1\n",
        "\n",
        "\n",
        "for i in range(10):\n",
        "    print('Accuracy of %5s : %2d %%' % (\n",
        "        classes[i], 100 * class_correct[i] / class_total[i]))"
      ],
      "execution_count": 29,
      "outputs": [
        {
          "output_type": "stream",
          "text": [
            "Accuracy of plane : 67 %\n",
            "Accuracy of   car : 78 %\n",
            "Accuracy of  bird : 38 %\n",
            "Accuracy of   cat : 25 %\n",
            "Accuracy of  deer : 51 %\n",
            "Accuracy of   dog : 39 %\n",
            "Accuracy of  frog : 78 %\n",
            "Accuracy of horse : 63 %\n",
            "Accuracy of  ship : 67 %\n",
            "Accuracy of truck : 49 %\n"
          ],
          "name": "stdout"
        }
      ]
    },
    {
      "cell_type": "code",
      "metadata": {
        "id": "iDwm1pqkmacK",
        "colab_type": "code",
        "colab": {
          "base_uri": "https://localhost:8080/",
          "height": 34
        },
        "outputId": "c2be54ae-c096-43d8-e6bf-be372d6eb35c"
      },
      "source": [
        "10+2"
      ],
      "execution_count": 30,
      "outputs": [
        {
          "output_type": "execute_result",
          "data": {
            "text/plain": [
              "12"
            ]
          },
          "metadata": {
            "tags": []
          },
          "execution_count": 30
        }
      ]
    },
    {
      "cell_type": "code",
      "metadata": {
        "id": "rXKd1PhPmx-7",
        "colab_type": "code",
        "colab": {
          "base_uri": "https://localhost:8080/",
          "height": 34
        },
        "outputId": "f777fcea-6ad8-4667-ffb9-da2d345780ac"
      },
      "source": [
        "device = torch.device(\"cuda:0\" if torch.cuda.is_available() else \"cpu\")\n",
        "\n",
        "# Assuming that we are on a CUDA machine, this should print a CUDA device:\n",
        "\n",
        "print(device)"
      ],
      "execution_count": 31,
      "outputs": [
        {
          "output_type": "stream",
          "text": [
            "cuda:0\n"
          ],
          "name": "stdout"
        }
      ]
    },
    {
      "cell_type": "code",
      "metadata": {
        "id": "QXM0elMym5lU",
        "colab_type": "code",
        "colab": {
          "base_uri": "https://localhost:8080/",
          "height": 153
        },
        "outputId": "e10777ae-26db-4ede-f8fc-b1807a69312a"
      },
      "source": [
        "net.to(device)"
      ],
      "execution_count": 32,
      "outputs": [
        {
          "output_type": "execute_result",
          "data": {
            "text/plain": [
              "Net(\n",
              "  (conv1): Conv2d(3, 6, kernel_size=(5, 5), stride=(1, 1))\n",
              "  (pool): MaxPool2d(kernel_size=2, stride=2, padding=0, dilation=1, ceil_mode=False)\n",
              "  (conv2): Conv2d(6, 16, kernel_size=(5, 5), stride=(1, 1))\n",
              "  (fc1): Linear(in_features=400, out_features=120, bias=True)\n",
              "  (fc2): Linear(in_features=120, out_features=84, bias=True)\n",
              "  (fc3): Linear(in_features=84, out_features=10, bias=True)\n",
              ")"
            ]
          },
          "metadata": {
            "tags": []
          },
          "execution_count": 32
        }
      ]
    },
    {
      "cell_type": "code",
      "metadata": {
        "id": "9mnQg5zmocVn",
        "colab_type": "code",
        "colab": {}
      },
      "source": [
        "inputs, labels = data[0].to(device), data[1].to(device)"
      ],
      "execution_count": 0,
      "outputs": []
    },
    {
      "cell_type": "code",
      "metadata": {
        "id": "jzlBwiXloe5X",
        "colab_type": "code",
        "colab": {
          "base_uri": "https://localhost:8080/",
          "height": 238
        },
        "outputId": "7f63660d-01a1-4374-fd69-1830b562b6f8"
      },
      "source": [
        "for epoch in range(2):  # loop over the dataset multiple times\n",
        "\n",
        "    running_loss = 0.0\n",
        "    for i, data in enumerate(trainloader, 0):\n",
        "        # get the inputs; data is a list of [inputs, labels]\n",
        "        inputs, labels = data[0].to(device), data[1].to(device)\n",
        "\n",
        "        # zero the parameter gradients\n",
        "        optimizer.zero_grad()\n",
        "\n",
        "        # forward + backward + optimize\n",
        "        outputs = net(inputs)\n",
        "        loss = criterion(outputs, labels)\n",
        "        loss.backward()\n",
        "        optimizer.step()\n",
        "\n",
        "        # print statistics\n",
        "        running_loss += loss.item()\n",
        "        if i % 2000 == 1999:    # print every 2000 mini-batches\n",
        "            print('[%d, %5d] loss: %.3f' %\n",
        "                  (epoch + 1, i + 1, running_loss / 2000))\n",
        "            running_loss = 0.0\n",
        "\n",
        "print('Finished Training')"
      ],
      "execution_count": 34,
      "outputs": [
        {
          "output_type": "stream",
          "text": [
            "[1,  2000] loss: 1.198\n",
            "[1,  4000] loss: 1.175\n",
            "[1,  6000] loss: 1.197\n",
            "[1,  8000] loss: 1.180\n",
            "[1, 10000] loss: 1.157\n",
            "[1, 12000] loss: 1.186\n",
            "[2,  2000] loss: 1.179\n",
            "[2,  4000] loss: 1.191\n",
            "[2,  6000] loss: 1.192\n",
            "[2,  8000] loss: 1.172\n",
            "[2, 10000] loss: 1.178\n",
            "[2, 12000] loss: 1.175\n",
            "Finished Training\n"
          ],
          "name": "stdout"
        }
      ]
    },
    {
      "cell_type": "code",
      "metadata": {
        "id": "yJSjpXHcomWU",
        "colab_type": "code",
        "colab": {}
      },
      "source": [
        ""
      ],
      "execution_count": 0,
      "outputs": []
    }
  ]
}