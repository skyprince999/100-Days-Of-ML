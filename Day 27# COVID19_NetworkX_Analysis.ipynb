{
  "nbformat": 4,
  "nbformat_minor": 0,
  "metadata": {
    "colab": {
      "name": "COVID19_NetworkX_Analysis.ipynb",
      "provenance": [],
      "collapsed_sections": [],
      "include_colab_link": true
    },
    "kernelspec": {
      "name": "python3",
      "display_name": "Python 3"
    },
    "accelerator": "GPU"
  },
  "cells": [
    {
      "cell_type": "markdown",
      "metadata": {
        "id": "view-in-github",
        "colab_type": "text"
      },
      "source": [
        "<a href=\"https://colab.research.google.com/github/skyprince999/100-Days-Of-ML/blob/master/Day%2027%23%20COVID19_NetworkX_Analysis.ipynb\" target=\"_parent\"><img src=\"https://colab.research.google.com/assets/colab-badge.svg\" alt=\"Open In Colab\"/></a>"
      ]
    },
    {
      "cell_type": "markdown",
      "metadata": {
        "id": "PgTBFfHu_Yx5",
        "colab_type": "text"
      },
      "source": [
        "Notebook used to analyze the Twitter social network"
      ]
    },
    {
      "cell_type": "code",
      "metadata": {
        "id": "queI0QZEf4a8",
        "colab_type": "code",
        "colab": {}
      },
      "source": [
        "from google.colab import drive\n",
        "drive.mount('/content/drive')"
      ],
      "execution_count": null,
      "outputs": []
    },
    {
      "cell_type": "code",
      "metadata": {
        "id": "IGj1y2khgP4A",
        "colab_type": "code",
        "colab": {}
      },
      "source": [
        "import os\n",
        "import gzip\n",
        "import json\n",
        "from datetime import datetime\n",
        "import pandas as pd\n",
        "import numpy as np\n",
        "from scipy import stats\n",
        "from operator import itemgetter\n",
        "#handling plots\n",
        "import matplotlib.pyplot as plt\n",
        "import seaborn as sns\n",
        "\n",
        "#for network creation\n",
        "import networkx as nx"
      ],
      "execution_count": null,
      "outputs": []
    },
    {
      "cell_type": "code",
      "metadata": {
        "id": "a_p4cpoGgANg",
        "colab_type": "code",
        "colab": {
          "base_uri": "https://localhost:8080/",
          "height": 34
        },
        "outputId": "6fc72be3-6b2c-4818-c0f8-ae2c9e0d2627"
      },
      "source": [
        "cd /content/drive/My Drive/\"SPARK+AI Hackathon 2020\"/\"SPARK-2020-05\""
      ],
      "execution_count": null,
      "outputs": [
        {
          "output_type": "stream",
          "text": [
            "/content/drive/My Drive/SPARK+AI Hackathon 2020/SPARK-2020-05\n"
          ],
          "name": "stdout"
        }
      ]
    },
    {
      "cell_type": "code",
      "metadata": {
        "id": "8mWa8-o7gTN8",
        "colab_type": "code",
        "colab": {}
      },
      "source": [
        "zip_file_path = os.getcwd()\n",
        "zip_file_path\n",
        "file_list = os.listdir(zip_file_path)\n",
        "abs_path = []\n",
        "count = 0\n",
        "for a in file_list:\n",
        "    x = zip_file_path+'/'+a\n",
        "    abs_path.append(x)"
      ],
      "execution_count": null,
      "outputs": []
    },
    {
      "cell_type": "code",
      "metadata": {
        "id": "SWXVGB5ugXp2",
        "colab_type": "code",
        "colab": {
          "base_uri": "https://localhost:8080/",
          "height": 101
        },
        "outputId": "586210c7-17a9-4ad1-e02f-7912ce12cd47"
      },
      "source": [
        "abs_path[:5]"
      ],
      "execution_count": null,
      "outputs": [
        {
          "output_type": "execute_result",
          "data": {
            "text/plain": [
              "['/content/drive/My Drive/SPARK+AI Hackathon 2020/SPARK-2020-05/coronavirus-tweet-id-2020-05-05-02.jsonl.gz',\n",
              " '/content/drive/My Drive/SPARK+AI Hackathon 2020/SPARK-2020-05/coronavirus-tweet-id-2020-05-05-08.jsonl.gz',\n",
              " '/content/drive/My Drive/SPARK+AI Hackathon 2020/SPARK-2020-05/coronavirus-tweet-id-2020-05-07-07.jsonl.gz',\n",
              " '/content/drive/My Drive/SPARK+AI Hackathon 2020/SPARK-2020-05/coronavirus-tweet-id-2020-05-08-10.jsonl.gz',\n",
              " '/content/drive/My Drive/SPARK+AI Hackathon 2020/SPARK-2020-05/coronavirus-tweet-id-2020-05-06-10.jsonl.gz']"
            ]
          },
          "metadata": {
            "tags": []
          },
          "execution_count": 8
        }
      ]
    },
    {
      "cell_type": "code",
      "metadata": {
        "id": "Zop370PEgZmE",
        "colab_type": "code",
        "colab": {
          "base_uri": "https://localhost:8080/",
          "height": 34
        },
        "outputId": "777409fd-4c96-4779-c5a5-51e35b7be00b"
      },
      "source": [
        "count = 0\n",
        "lno = 0\n",
        "for f in abs_path:\n",
        "    if count == 0:\n",
        "        ext = os.path.splitext(f)[-1].lower()\n",
        "        if ext == '.gz':\n",
        "            print(f)\n",
        "            with gzip.open(f, \"rb\") as gf:\n",
        "                #for line in gf:\n",
        "                  #print(lno)\n",
        "                  #lno = lno+1\n",
        "                  #tweet = json.loads(line)\n",
        "                tweet = pd.read_json(gf,lines=True)\n",
        "            count = count + 1"
      ],
      "execution_count": null,
      "outputs": [
        {
          "output_type": "stream",
          "text": [
            "/content/drive/My Drive/SPARK+AI Hackathon 2020/SPARK-2020-05/coronavirus-tweet-id-2020-05-05-02.jsonl.gz\n"
          ],
          "name": "stdout"
        }
      ]
    },
    {
      "cell_type": "code",
      "metadata": {
        "id": "RX1kVPUSiZrS",
        "colab_type": "code",
        "colab": {
          "base_uri": "https://localhost:8080/",
          "height": 185
        },
        "outputId": "d4660195-7983-4ecf-920a-d45a18d6ca11"
      },
      "source": [
        "tweet.columns"
      ],
      "execution_count": null,
      "outputs": [
        {
          "output_type": "execute_result",
          "data": {
            "text/plain": [
              "Index(['created_at', 'id', 'id_str', 'full_text', 'truncated',\n",
              "       'display_text_range', 'entities', 'source', 'in_reply_to_status_id',\n",
              "       'in_reply_to_status_id_str', 'in_reply_to_user_id',\n",
              "       'in_reply_to_user_id_str', 'in_reply_to_screen_name', 'user', 'geo',\n",
              "       'coordinates', 'place', 'contributors', 'is_quote_status',\n",
              "       'quoted_status_id', 'quoted_status_id_str', 'quoted_status_permalink',\n",
              "       'quoted_status', 'retweet_count', 'favorite_count', 'favorited',\n",
              "       'retweeted', 'possibly_sensitive', 'lang', 'extended_entities',\n",
              "       'retweeted_status', 'withheld_in_countries', 'withheld_scope'],\n",
              "      dtype='object')"
            ]
          },
          "metadata": {
            "tags": []
          },
          "execution_count": 10
        }
      ]
    },
    {
      "cell_type": "code",
      "metadata": {
        "id": "MoGYPBhJUNDK",
        "colab_type": "code",
        "colab": {
          "base_uri": "https://localhost:8080/",
          "height": 34
        },
        "outputId": "7669f735-d514-4d5b-89a8-2fb9e20851b1"
      },
      "source": [
        "tweet.shape"
      ],
      "execution_count": null,
      "outputs": [
        {
          "output_type": "execute_result",
          "data": {
            "text/plain": [
              "(45063, 33)"
            ]
          },
          "metadata": {
            "tags": []
          },
          "execution_count": 11
        }
      ]
    },
    {
      "cell_type": "code",
      "metadata": {
        "id": "UTFu2RmDiI4w",
        "colab_type": "code",
        "colab": {}
      },
      "source": [
        "tweets_final = pd.DataFrame(columns = [\"created_at\", \"id\", \"in_reply_to_screen_name\", \"in_reply_to_status_id\", \"in_reply_to_user_id\",\n",
        "                                      \"retweeted_id\", \"retweeted_screen_name\", \"user_mentions_screen_name\", \"user_mentions_id\", \n",
        "                                       \"full_text\", \"user_id\", \"screen_name\", \"followers_count\"])"
      ],
      "execution_count": null,
      "outputs": []
    },
    {
      "cell_type": "code",
      "metadata": {
        "id": "fMaedkSXqZVo",
        "colab_type": "code",
        "colab": {}
      },
      "source": [
        "# Columns that are going to be the same\n",
        "equal_columns = [\"created_at\", \"id\", \"full_text\"]\n",
        "tweets_final[equal_columns] = tweet[equal_columns]"
      ],
      "execution_count": null,
      "outputs": []
    },
    {
      "cell_type": "code",
      "metadata": {
        "id": "nf0v3xKmkdRk",
        "colab_type": "code",
        "colab": {}
      },
      "source": [
        "def get_basics(tweets_final):\n",
        "    tweets_final[\"screen_name\"] = tweet['user'].apply(lambda x: x['screen_name'])\n",
        "    tweets_final[\"user_id\"] = tweet[\"user\"].apply(lambda x: x[\"id\"])\n",
        "    tweets_final[\"followers_count\"] = tweet[\"user\"].apply(lambda x: x[\"followers_count\"])\n",
        "    return tweets_final"
      ],
      "execution_count": null,
      "outputs": []
    },
    {
      "cell_type": "code",
      "metadata": {
        "id": "7xkeHwwWk1R0",
        "colab_type": "code",
        "colab": {}
      },
      "source": [
        "# Get the user mentions \n",
        "def get_usermentions(tweets_final):\n",
        "    \n",
        "    tweets_final[\"user_mentions_screen_name\"] = tweet[\"entities\"].apply(lambda x: x[\"user_mentions\"][0][\"screen_name\"] if x[\"user_mentions\"] else np.nan)\n",
        "    tweets_final[\"user_mentions_id\"] = tweet[\"entities\"].apply(lambda x: x[\"user_mentions\"][0][\"id_str\"] if x[\"user_mentions\"] else np.nan)\n",
        "    return tweets_final"
      ],
      "execution_count": null,
      "outputs": []
    },
    {
      "cell_type": "code",
      "metadata": {
        "id": "n8tQ7Le3oQ27",
        "colab_type": "code",
        "colab": {}
      },
      "source": [
        "def get_retweets(tweets_final):\n",
        "     \n",
        "    tweets_final[\"retweeted_screen_name\"] = tweet[\"retweeted_status\"].apply(lambda x: x[\"user\"][\"screen_name\"] if x is not np.nan else np.nan)\n",
        "    tweets_final[\"retweeted_id\"] = tweet[\"retweeted_status\"].apply(lambda x: x[\"user\"][\"id_str\"] if x is not np.nan else np.nan)\n",
        "    return tweets_final"
      ],
      "execution_count": null,
      "outputs": []
    },
    {
      "cell_type": "code",
      "metadata": {
        "id": "_Nty--rXogOK",
        "colab_type": "code",
        "colab": {}
      },
      "source": [
        "def get_in_reply(tweets_final):\n",
        "    tweets_final[\"in_reply_to_screen_name\"] = tweet[\"in_reply_to_screen_name\"]\n",
        "    tweets_final[\"in_reply_to_status_id\"] = tweet[\"in_reply_to_status_id\"]\n",
        "    tweets_final[\"in_reply_to_user_id\"]= tweet[\"in_reply_to_user_id\"]\n",
        "    return tweets_final"
      ],
      "execution_count": null,
      "outputs": []
    },
    {
      "cell_type": "code",
      "metadata": {
        "id": "ILW028JjooO5",
        "colab_type": "code",
        "colab": {}
      },
      "source": [
        "def fill_df(tweets_final):\n",
        "    get_basics(tweets_final)\n",
        "    get_usermentions(tweets_final)\n",
        "    get_retweets(tweets_final)\n",
        "    get_in_reply(tweets_final)\n",
        "    return tweets_final"
      ],
      "execution_count": null,
      "outputs": []
    },
    {
      "cell_type": "code",
      "metadata": {
        "id": "SpLYeNVKor4k",
        "colab_type": "code",
        "colab": {}
      },
      "source": [
        "# Get the interactions between the different users\n",
        "def get_interactions(row):\n",
        "    \n",
        "    user = row[\"user_id\"], row[\"screen_name\"]\n",
        "    if user[0] is None:\n",
        "        return (None, None), []\n",
        "    \n",
        "    interactions = set()\n",
        "    \n",
        "    \n",
        "    interactions.add((row[\"in_reply_to_user_id\"], row[\"in_reply_to_screen_name\"]))\n",
        "    interactions.add((row[\"retweeted_id\"], row[\"retweeted_screen_name\"]))\n",
        "    interactions.add((row[\"user_mentions_id\"], row[\"user_mentions_screen_name\"]))\n",
        "    \n",
        "    interactions.discard((row[\"user_id\"], row[\"screen_name\"]))\n",
        "    interactions.discard((None, None))\n",
        "    return user, interactions"
      ],
      "execution_count": null,
      "outputs": []
    },
    {
      "cell_type": "code",
      "metadata": {
        "id": "daF5g-Qto-5Q",
        "colab_type": "code",
        "colab": {}
      },
      "source": [
        "tweets_final = fill_df(tweets_final)"
      ],
      "execution_count": null,
      "outputs": []
    },
    {
      "cell_type": "code",
      "metadata": {
        "id": "fC-DgVTEpD9E",
        "colab_type": "code",
        "colab": {}
      },
      "source": [
        "tweets_final = tweets_final.where((pd.notnull(tweets_final)), None)"
      ],
      "execution_count": null,
      "outputs": []
    },
    {
      "cell_type": "code",
      "metadata": {
        "id": "mCTgX2u3rNxT",
        "colab_type": "code",
        "colab": {
          "base_uri": "https://localhost:8080/",
          "height": 450
        },
        "outputId": "6e639961-0778-4c57-863d-65d112013e84"
      },
      "source": [
        "tweets_final.head(5)"
      ],
      "execution_count": null,
      "outputs": [
        {
          "output_type": "execute_result",
          "data": {
            "text/html": [
              "<div>\n",
              "<style scoped>\n",
              "    .dataframe tbody tr th:only-of-type {\n",
              "        vertical-align: middle;\n",
              "    }\n",
              "\n",
              "    .dataframe tbody tr th {\n",
              "        vertical-align: top;\n",
              "    }\n",
              "\n",
              "    .dataframe thead th {\n",
              "        text-align: right;\n",
              "    }\n",
              "</style>\n",
              "<table border=\"1\" class=\"dataframe\">\n",
              "  <thead>\n",
              "    <tr style=\"text-align: right;\">\n",
              "      <th></th>\n",
              "      <th>created_at</th>\n",
              "      <th>id</th>\n",
              "      <th>in_reply_to_screen_name</th>\n",
              "      <th>in_reply_to_status_id</th>\n",
              "      <th>in_reply_to_user_id</th>\n",
              "      <th>retweeted_id</th>\n",
              "      <th>retweeted_screen_name</th>\n",
              "      <th>user_mentions_screen_name</th>\n",
              "      <th>user_mentions_id</th>\n",
              "      <th>full_text</th>\n",
              "      <th>user_id</th>\n",
              "      <th>screen_name</th>\n",
              "      <th>followers_count</th>\n",
              "    </tr>\n",
              "  </thead>\n",
              "  <tbody>\n",
              "    <tr>\n",
              "      <th>0</th>\n",
              "      <td>2020-05-05 02:03:19+00:00</td>\n",
              "      <td>1257491031630786561</td>\n",
              "      <td>None</td>\n",
              "      <td>None</td>\n",
              "      <td>None</td>\n",
              "      <td>None</td>\n",
              "      <td>None</td>\n",
              "      <td>None</td>\n",
              "      <td>None</td>\n",
              "      <td>Muslims must live by American laws or they mus...</td>\n",
              "      <td>986630456849453057</td>\n",
              "      <td>DreamerSeriespu</td>\n",
              "      <td>1602</td>\n",
              "    </tr>\n",
              "    <tr>\n",
              "      <th>1</th>\n",
              "      <td>2020-05-05 02:03:19+00:00</td>\n",
              "      <td>1257491031777370118</td>\n",
              "      <td>AndrewScheer</td>\n",
              "      <td>1.25747e+18</td>\n",
              "      <td>2.56361e+08</td>\n",
              "      <td>None</td>\n",
              "      <td>None</td>\n",
              "      <td>AndrewScheer</td>\n",
              "      <td>256360738</td>\n",
              "      <td>@AndrewScheer Trudeau announces more investmen...</td>\n",
              "      <td>4499430739</td>\n",
              "      <td>Learning2GetBy</td>\n",
              "      <td>6691</td>\n",
              "    </tr>\n",
              "    <tr>\n",
              "      <th>2</th>\n",
              "      <td>2020-05-05 02:03:19+00:00</td>\n",
              "      <td>1257491031794253824</td>\n",
              "      <td>clayden_luke</td>\n",
              "      <td>1.25749e+18</td>\n",
              "      <td>1.22944e+18</td>\n",
              "      <td>None</td>\n",
              "      <td>None</td>\n",
              "      <td>None</td>\n",
              "      <td>None</td>\n",
              "      <td>As I suspected #covid19 #coronavirus https://t...</td>\n",
              "      <td>1229440370544717824</td>\n",
              "      <td>clayden_luke</td>\n",
              "      <td>55</td>\n",
              "    </tr>\n",
              "    <tr>\n",
              "      <th>3</th>\n",
              "      <td>2020-05-05 02:03:19+00:00</td>\n",
              "      <td>1257491031806754816</td>\n",
              "      <td>None</td>\n",
              "      <td>None</td>\n",
              "      <td>None</td>\n",
              "      <td>67109577</td>\n",
              "      <td>BrainHarrington</td>\n",
              "      <td>BrainHarrington</td>\n",
              "      <td>67109577</td>\n",
              "      <td>RT @BrainHarrington: Lol they are just making ...</td>\n",
              "      <td>20884752</td>\n",
              "      <td>snadp</td>\n",
              "      <td>1303</td>\n",
              "    </tr>\n",
              "    <tr>\n",
              "      <th>4</th>\n",
              "      <td>2020-05-05 02:03:19+00:00</td>\n",
              "      <td>1257491031945338883</td>\n",
              "      <td>None</td>\n",
              "      <td>None</td>\n",
              "      <td>None</td>\n",
              "      <td>None</td>\n",
              "      <td>None</td>\n",
              "      <td>None</td>\n",
              "      <td>None</td>\n",
              "      <td>Nothing about protecting corporations from bei...</td>\n",
              "      <td>3170869955</td>\n",
              "      <td>debmacp1</td>\n",
              "      <td>2305</td>\n",
              "    </tr>\n",
              "  </tbody>\n",
              "</table>\n",
              "</div>"
            ],
            "text/plain": [
              "                 created_at  ...  followers_count\n",
              "0 2020-05-05 02:03:19+00:00  ...             1602\n",
              "1 2020-05-05 02:03:19+00:00  ...             6691\n",
              "2 2020-05-05 02:03:19+00:00  ...               55\n",
              "3 2020-05-05 02:03:19+00:00  ...             1303\n",
              "4 2020-05-05 02:03:19+00:00  ...             2305\n",
              "\n",
              "[5 rows x 13 columns]"
            ]
          },
          "metadata": {
            "tags": []
          },
          "execution_count": 22
        }
      ]
    },
    {
      "cell_type": "code",
      "metadata": {
        "id": "8o417RzZrRDx",
        "colab_type": "code",
        "colab": {}
      },
      "source": [
        "graph = nx.Graph()"
      ],
      "execution_count": null,
      "outputs": []
    },
    {
      "cell_type": "code",
      "metadata": {
        "id": "QHClzu8_tU58",
        "colab_type": "code",
        "colab": {}
      },
      "source": [
        "for index, tweets in tweets_final.iterrows():\n",
        "    user, interactions = get_interactions(tweets)\n",
        "    user_id, user_name = user\n",
        "    tweet_id = tweets[\"id\"]\n",
        "    #tweet_sent = tweet[\"sentiment\"]\n",
        "    for interaction in interactions:\n",
        "        int_id, int_name = interaction\n",
        "        graph.add_edge(user_id, int_id, tweet_id=tweet_id)\n",
        "        \n",
        "\n",
        "        graph.nodes[user_id][\"name\"] = user_name\n",
        "        graph.nodes[int_id][\"name\"] = int_name"
      ],
      "execution_count": null,
      "outputs": []
    },
    {
      "cell_type": "code",
      "metadata": {
        "id": "gcVKwCuStnB9",
        "colab_type": "code",
        "colab": {
          "base_uri": "https://localhost:8080/",
          "height": 34
        },
        "outputId": "4bd83311-60db-45af-b320-fae11857b671"
      },
      "source": [
        "print(f\"There are {graph.number_of_nodes()} nodes and {graph.number_of_edges()} edges present in the Graph\")"
      ],
      "execution_count": null,
      "outputs": [
        {
          "output_type": "stream",
          "text": [
            "There are 48637 nodes and 39943 edges present in the Graph\n"
          ],
          "name": "stdout"
        }
      ]
    },
    {
      "cell_type": "code",
      "metadata": {
        "id": "_9zudKJIuGyr",
        "colab_type": "code",
        "colab": {}
      },
      "source": [
        "degrees = [val for (node, val) in graph.degree()]"
      ],
      "execution_count": null,
      "outputs": []
    },
    {
      "cell_type": "code",
      "metadata": {
        "id": "txJUtIG6uNo2",
        "colab_type": "code",
        "colab": {
          "base_uri": "https://localhost:8080/",
          "height": 50
        },
        "outputId": "8bdcbe14-fa51-44b9-a83d-67387c251dc6"
      },
      "source": [
        "print(f\"The maximum degree of the Graph is {np.max(degrees)}\")   \n",
        "print(f\"The minimum degree of the Graph is {np.min(degrees)}\")"
      ],
      "execution_count": null,
      "outputs": [
        {
          "output_type": "stream",
          "text": [
            "The maximum degree of the Graph is 593\n",
            "The minimum degree of the Graph is 1\n"
          ],
          "name": "stdout"
        }
      ]
    },
    {
      "cell_type": "code",
      "metadata": {
        "id": "iK7gCTuZuSxf",
        "colab_type": "code",
        "colab": {
          "base_uri": "https://localhost:8080/",
          "height": 50
        },
        "outputId": "07622a39-d1f6-4764-9139-d52379274763"
      },
      "source": [
        "print(f\"The average degree of the nodes in the Graph is {np.mean(degrees):.1f}\")  \n",
        "print(f\"The most frequent degree of the nodes found in the Graph is {stats.mode(degrees)[0][0]}\")"
      ],
      "execution_count": null,
      "outputs": [
        {
          "output_type": "stream",
          "text": [
            "The average degree of the nodes in the Graph is 1.6\n",
            "The most frequent degree of the nodes found in the Graph is 1\n"
          ],
          "name": "stdout"
        }
      ]
    },
    {
      "cell_type": "code",
      "metadata": {
        "id": "sQTjqm-LuYMv",
        "colab_type": "code",
        "colab": {
          "base_uri": "https://localhost:8080/",
          "height": 34
        },
        "outputId": "26268629-3396-43c7-dc3b-246aa443ed55"
      },
      "source": [
        "if nx.is_connected(graph):\n",
        "    print(\"The graph is connected\")\n",
        "else:\n",
        "    print(\"The graph is not connected\")"
      ],
      "execution_count": null,
      "outputs": [
        {
          "output_type": "stream",
          "text": [
            "The graph is not connected\n"
          ],
          "name": "stdout"
        }
      ]
    },
    {
      "cell_type": "code",
      "metadata": {
        "id": "t5Wx1Fj0vArG",
        "colab_type": "code",
        "colab": {
          "base_uri": "https://localhost:8080/",
          "height": 34
        },
        "outputId": "2b389631-ccfa-4d6e-ee73-b992d02838ae"
      },
      "source": [
        "\n",
        "print(f\"There are {nx.number_connected_components(graph)} connected components in the Graph\")"
      ],
      "execution_count": null,
      "outputs": [
        {
          "output_type": "stream",
          "text": [
            "There are 10818 connected components in the Graph\n"
          ],
          "name": "stdout"
        }
      ]
    },
    {
      "cell_type": "code",
      "metadata": {
        "id": "TdXOcGG6vGZo",
        "colab_type": "code",
        "colab": {}
      },
      "source": [
        "largest_subgraph = max((graph.subgraph(c) for c in nx.connected_components(graph)), key=len)"
      ],
      "execution_count": null,
      "outputs": []
    },
    {
      "cell_type": "code",
      "metadata": {
        "id": "lF0cmemyvKTs",
        "colab_type": "code",
        "colab": {
          "base_uri": "https://localhost:8080/",
          "height": 34
        },
        "outputId": "d66d37f4-2def-4a70-c591-6a2f52777f47"
      },
      "source": [
        "print(f\"There are {largest_subgraph.number_of_nodes()} nodes and {largest_subgraph.number_of_edges()} \\\n",
        "edges present in the largest component of the Graph\")"
      ],
      "execution_count": null,
      "outputs": [
        {
          "output_type": "stream",
          "text": [
            "There are 14499 nodes and 16274 edges present in the largest component of the Graph\n"
          ],
          "name": "stdout"
        }
      ]
    },
    {
      "cell_type": "code",
      "metadata": {
        "id": "8nXg7VeI8ZDs",
        "colab_type": "code",
        "colab": {
          "base_uri": "https://localhost:8080/",
          "height": 34
        },
        "outputId": "eba82c91-ea82-449c-e0ed-96e175088fdd"
      },
      "source": [
        "if nx.is_connected(largest_subgraph):\n",
        "    print(\"The graph is connected\")\n",
        "else:\n",
        "    print(\"The graph is not connected\")"
      ],
      "execution_count": null,
      "outputs": [
        {
          "output_type": "stream",
          "text": [
            "The graph is connected\n"
          ],
          "name": "stdout"
        }
      ]
    },
    {
      "cell_type": "code",
      "metadata": {
        "id": "GTaSLXu-8iB_",
        "colab_type": "code",
        "colab": {
          "base_uri": "https://localhost:8080/",
          "height": 50
        },
        "outputId": "12126872-e812-47af-b8c6-7f03c8694715"
      },
      "source": [
        "\n",
        "print(f\"The average clustering coefficient is {nx.average_clustering(largest_subgraph)} in the largest subgraph\")\n",
        "print(f\"The transitivity of the largest subgraph is {nx.transitivity(largest_subgraph)}\")"
      ],
      "execution_count": null,
      "outputs": [
        {
          "output_type": "stream",
          "text": [
            "The average clustering coefficient is 0.0 in the largest subgraph\n",
            "The transitivity of the largest subgraph is 0\n"
          ],
          "name": "stdout"
        }
      ]
    },
    {
      "cell_type": "code",
      "metadata": {
        "id": "TEkGJH5-80xw",
        "colab_type": "code",
        "colab": {
          "base_uri": "https://localhost:8080/",
          "height": 50
        },
        "outputId": "849dfb6d-809a-43f8-e080-b49eb4b26ae0"
      },
      "source": [
        "print(f\"The diameter of our Graph is {nx.diameter(largest_subgraph)}\")\n",
        "print(f\"The average distance between any two nodes is {nx.average_shortest_path_length(largest_subgraph):.2f}\")"
      ],
      "execution_count": null,
      "outputs": [
        {
          "output_type": "stream",
          "text": [
            "The diameter of our Graph is 37\n",
            "The average distance between any two nodes is 9.69\n"
          ],
          "name": "stdout"
        }
      ]
    },
    {
      "cell_type": "code",
      "metadata": {
        "id": "J0t1BzGI9FWv",
        "colab_type": "code",
        "colab": {}
      },
      "source": [
        "graph_centrality = nx.degree_centrality(largest_subgraph)"
      ],
      "execution_count": null,
      "outputs": []
    },
    {
      "cell_type": "code",
      "metadata": {
        "id": "m5Uo9a-j-trL",
        "colab_type": "code",
        "colab": {}
      },
      "source": [
        "max_de = max(graph_centrality.items(), key=itemgetter(1))"
      ],
      "execution_count": null,
      "outputs": []
    },
    {
      "cell_type": "code",
      "metadata": {
        "id": "PQtAX2Cv-wnH",
        "colab_type": "code",
        "colab": {}
      },
      "source": [
        "graph_closeness = nx.closeness_centrality(largest_subgraph)"
      ],
      "execution_count": null,
      "outputs": []
    },
    {
      "cell_type": "code",
      "metadata": {
        "id": "ar_wYfn--znu",
        "colab_type": "code",
        "colab": {}
      },
      "source": [
        "max_clo = max(graph_closeness.items(), key=itemgetter(1))"
      ],
      "execution_count": null,
      "outputs": []
    },
    {
      "cell_type": "code",
      "metadata": {
        "id": "2i0RidCp-2bD",
        "colab_type": "code",
        "colab": {}
      },
      "source": [
        "graph_betweenness = nx.betweenness_centrality(largest_subgraph, normalized=True, endpoints=False)"
      ],
      "execution_count": null,
      "outputs": []
    },
    {
      "cell_type": "code",
      "metadata": {
        "id": "BuP7XCd4-5N9",
        "colab_type": "code",
        "colab": {}
      },
      "source": [
        "max_bet = max(graph_betweenness.items(), key=itemgetter(1))"
      ],
      "execution_count": null,
      "outputs": []
    },
    {
      "cell_type": "code",
      "metadata": {
        "id": "GyE6fObU_Aop",
        "colab_type": "code",
        "colab": {
          "base_uri": "https://localhost:8080/",
          "height": 67
        },
        "outputId": "0a48452b-c0c1-4054-8566-b961b58ad437"
      },
      "source": [
        "print(f\"the node with id {max_de[0]} has a degree centrality of {max_de[1]:.2f} which is the maximum of the Graph\")\n",
        "print(f\"the node with id {max_clo[0]} has a closeness centrality of {max_clo[1]:.2f} which is the maximum of the Graph\")\n",
        "print(f\"the node with id {max_bet[0]} has a betweenness centrality of {max_bet[1]:.2f} which is the maximum of the Graph\")"
      ],
      "execution_count": null,
      "outputs": [
        {
          "output_type": "stream",
          "text": [
            "the node with id 25073877 has a degree centrality of 0.04 which is the maximum of the Graph\n",
            "the node with id 25073877 has a closeness centrality of 0.16 which is the maximum of the Graph\n",
            "the node with id 25073877 has a betweenness centrality of 0.28 which is the maximum of the Graph\n"
          ],
          "name": "stdout"
        }
      ]
    },
    {
      "cell_type": "code",
      "metadata": {
        "id": "Q8QwFs_aDQxd",
        "colab_type": "code",
        "colab": {}
      },
      "source": [
        "node_and_degree = largest_subgraph.degree()\n",
        "colors_central_nodes = ['orange', 'red']\n",
        "central_nodes = ['28785486', '267695291']"
      ],
      "execution_count": null,
      "outputs": []
    },
    {
      "cell_type": "code",
      "metadata": {
        "id": "1tsXj5DBDVrh",
        "colab_type": "code",
        "colab": {}
      },
      "source": [
        "pos = nx.spring_layout(largest_subgraph, k=0.05)"
      ],
      "execution_count": null,
      "outputs": []
    },
    {
      "cell_type": "code",
      "metadata": {
        "id": "2s4Ft0vDDaKn",
        "colab_type": "code",
        "colab": {}
      },
      "source": [
        "plt.figure(figsize = (20,20))\n",
        "nx.draw(largest_subgraph, pos=pos, node_color=range(5927), cmap=plt.cm.PiYG, edge_color=\"black\", linewidths=0.3, node_size=60, alpha=0.6, with_labels=False)\n",
        "nx.draw_networkx_nodes(largest_subgraph, pos=pos, nodelist=central_nodes, node_size=300, node_color=colors_central_nodes)\n",
        "plt.savefig('graphfinal.png')\n",
        "plt.show()"
      ],
      "execution_count": null,
      "outputs": []
    },
    {
      "cell_type": "code",
      "metadata": {
        "id": "OmNqitvcfiCy",
        "colab_type": "code",
        "colab": {}
      },
      "source": [
        ""
      ],
      "execution_count": null,
      "outputs": []
    }
  ]
}