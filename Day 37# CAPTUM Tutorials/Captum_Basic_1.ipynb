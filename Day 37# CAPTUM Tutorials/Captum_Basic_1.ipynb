{
  "nbformat": 4,
  "nbformat_minor": 0,
  "metadata": {
    "colab": {
      "name": "Captum_Basic_1.ipynb",
      "provenance": []
    },
    "kernelspec": {
      "name": "python3",
      "display_name": "Python 3"
    }
  },
  "cells": [
    {
      "cell_type": "code",
      "metadata": {
        "id": "xCbukJ0PFyx1",
        "colab_type": "code",
        "colab": {}
      },
      "source": [
        "!pip install torch torchvision"
      ],
      "execution_count": null,
      "outputs": []
    },
    {
      "cell_type": "code",
      "metadata": {
        "id": "iNW1j76sGBp9",
        "colab_type": "code",
        "colab": {}
      },
      "source": [
        "!pip install captum"
      ],
      "execution_count": null,
      "outputs": []
    },
    {
      "cell_type": "code",
      "metadata": {
        "id": "9Z8Rzzd3GHIO",
        "colab_type": "code",
        "colab": {}
      },
      "source": [
        "# Initial imports\n",
        "import numpy as np\n",
        "\n",
        "import torch\n",
        "\n",
        "from captum.attr import IntegratedGradients\n",
        "from captum.attr import LayerConductance\n",
        "from captum.attr import NeuronConductance\n",
        "\n",
        "import matplotlib\n",
        "import matplotlib.pyplot as plt\n",
        "%matplotlib inline\n",
        "\n",
        "from scipy import stats\n",
        "import pandas as pd"
      ],
      "execution_count": 3,
      "outputs": []
    },
    {
      "cell_type": "code",
      "metadata": {
        "id": "YynFuTTbGL_m",
        "colab_type": "code",
        "colab": {
          "base_uri": "https://localhost:8080/",
          "height": 204
        },
        "outputId": "0078aa46-8685-4b0a-a262-7363f5942d9e"
      },
      "source": [
        "!wget http://biostat.mc.vanderbilt.edu/wiki/pub/Main/DataSets/titanic3.csv"
      ],
      "execution_count": 4,
      "outputs": [
        {
          "output_type": "stream",
          "text": [
            "--2020-07-30 19:01:16--  http://biostat.mc.vanderbilt.edu/wiki/pub/Main/DataSets/titanic3.csv\n",
            "Resolving biostat.mc.vanderbilt.edu (biostat.mc.vanderbilt.edu)... 160.129.37.119\n",
            "Connecting to biostat.mc.vanderbilt.edu (biostat.mc.vanderbilt.edu)|160.129.37.119|:80... connected.\n",
            "HTTP request sent, awaiting response... 200 OK\n",
            "Length: 116752 (114K) [text/csv]\n",
            "Saving to: ‘titanic3.csv’\n",
            "\n",
            "titanic3.csv        100%[===================>] 114.02K   120KB/s    in 0.9s    \n",
            "\n",
            "2020-07-30 19:01:19 (120 KB/s) - ‘titanic3.csv’ saved [116752/116752]\n",
            "\n"
          ],
          "name": "stdout"
        }
      ]
    },
    {
      "cell_type": "code",
      "metadata": {
        "id": "8EDhPn57GREr",
        "colab_type": "code",
        "colab": {}
      },
      "source": [
        "dataset_path = \"titanic3.csv\""
      ],
      "execution_count": 5,
      "outputs": []
    },
    {
      "cell_type": "code",
      "metadata": {
        "id": "jBqdy9eMGV1_",
        "colab_type": "code",
        "colab": {}
      },
      "source": [
        "\n",
        "\n",
        "# Read dataset from csv file.\n",
        "titanic_data = pd.read_csv(dataset_path)"
      ],
      "execution_count": 6,
      "outputs": []
    },
    {
      "cell_type": "code",
      "metadata": {
        "id": "xO8WixcdGX-G",
        "colab_type": "code",
        "colab": {}
      },
      "source": [
        "# Convert to categorical variables\n",
        "titanic_data = pd.concat([titanic_data,\n",
        "                          pd.get_dummies(titanic_data['sex']),\n",
        "                          pd.get_dummies(titanic_data['embarked'],prefix=\"embark\"),\n",
        "                          pd.get_dummies(titanic_data['pclass'],prefix=\"class\")], axis=1)"
      ],
      "execution_count": 7,
      "outputs": []
    },
    {
      "cell_type": "code",
      "metadata": {
        "id": "AnWGps7BG1xp",
        "colab_type": "code",
        "colab": {
          "base_uri": "https://localhost:8080/",
          "height": 255
        },
        "outputId": "9b49e02e-e6eb-455c-e9f9-619e305235c1"
      },
      "source": [
        "titanic_data.tail()"
      ],
      "execution_count": 9,
      "outputs": [
        {
          "output_type": "execute_result",
          "data": {
            "text/html": [
              "<div>\n",
              "<style scoped>\n",
              "    .dataframe tbody tr th:only-of-type {\n",
              "        vertical-align: middle;\n",
              "    }\n",
              "\n",
              "    .dataframe tbody tr th {\n",
              "        vertical-align: top;\n",
              "    }\n",
              "\n",
              "    .dataframe thead th {\n",
              "        text-align: right;\n",
              "    }\n",
              "</style>\n",
              "<table border=\"1\" class=\"dataframe\">\n",
              "  <thead>\n",
              "    <tr style=\"text-align: right;\">\n",
              "      <th></th>\n",
              "      <th>pclass</th>\n",
              "      <th>survived</th>\n",
              "      <th>name</th>\n",
              "      <th>sex</th>\n",
              "      <th>age</th>\n",
              "      <th>sibsp</th>\n",
              "      <th>parch</th>\n",
              "      <th>ticket</th>\n",
              "      <th>fare</th>\n",
              "      <th>cabin</th>\n",
              "      <th>embarked</th>\n",
              "      <th>boat</th>\n",
              "      <th>body</th>\n",
              "      <th>home.dest</th>\n",
              "      <th>female</th>\n",
              "      <th>male</th>\n",
              "      <th>embark_C</th>\n",
              "      <th>embark_Q</th>\n",
              "      <th>embark_S</th>\n",
              "      <th>class_1</th>\n",
              "      <th>class_2</th>\n",
              "      <th>class_3</th>\n",
              "    </tr>\n",
              "  </thead>\n",
              "  <tbody>\n",
              "    <tr>\n",
              "      <th>1304</th>\n",
              "      <td>3</td>\n",
              "      <td>0</td>\n",
              "      <td>Zabour, Miss. Hileni</td>\n",
              "      <td>female</td>\n",
              "      <td>14.5</td>\n",
              "      <td>1</td>\n",
              "      <td>0</td>\n",
              "      <td>2665</td>\n",
              "      <td>14.4542</td>\n",
              "      <td>NaN</td>\n",
              "      <td>C</td>\n",
              "      <td>NaN</td>\n",
              "      <td>328.0</td>\n",
              "      <td>NaN</td>\n",
              "      <td>1</td>\n",
              "      <td>0</td>\n",
              "      <td>1</td>\n",
              "      <td>0</td>\n",
              "      <td>0</td>\n",
              "      <td>0</td>\n",
              "      <td>0</td>\n",
              "      <td>1</td>\n",
              "    </tr>\n",
              "    <tr>\n",
              "      <th>1305</th>\n",
              "      <td>3</td>\n",
              "      <td>0</td>\n",
              "      <td>Zabour, Miss. Thamine</td>\n",
              "      <td>female</td>\n",
              "      <td>NaN</td>\n",
              "      <td>1</td>\n",
              "      <td>0</td>\n",
              "      <td>2665</td>\n",
              "      <td>14.4542</td>\n",
              "      <td>NaN</td>\n",
              "      <td>C</td>\n",
              "      <td>NaN</td>\n",
              "      <td>NaN</td>\n",
              "      <td>NaN</td>\n",
              "      <td>1</td>\n",
              "      <td>0</td>\n",
              "      <td>1</td>\n",
              "      <td>0</td>\n",
              "      <td>0</td>\n",
              "      <td>0</td>\n",
              "      <td>0</td>\n",
              "      <td>1</td>\n",
              "    </tr>\n",
              "    <tr>\n",
              "      <th>1306</th>\n",
              "      <td>3</td>\n",
              "      <td>0</td>\n",
              "      <td>Zakarian, Mr. Mapriededer</td>\n",
              "      <td>male</td>\n",
              "      <td>26.5</td>\n",
              "      <td>0</td>\n",
              "      <td>0</td>\n",
              "      <td>2656</td>\n",
              "      <td>7.2250</td>\n",
              "      <td>NaN</td>\n",
              "      <td>C</td>\n",
              "      <td>NaN</td>\n",
              "      <td>304.0</td>\n",
              "      <td>NaN</td>\n",
              "      <td>0</td>\n",
              "      <td>1</td>\n",
              "      <td>1</td>\n",
              "      <td>0</td>\n",
              "      <td>0</td>\n",
              "      <td>0</td>\n",
              "      <td>0</td>\n",
              "      <td>1</td>\n",
              "    </tr>\n",
              "    <tr>\n",
              "      <th>1307</th>\n",
              "      <td>3</td>\n",
              "      <td>0</td>\n",
              "      <td>Zakarian, Mr. Ortin</td>\n",
              "      <td>male</td>\n",
              "      <td>27.0</td>\n",
              "      <td>0</td>\n",
              "      <td>0</td>\n",
              "      <td>2670</td>\n",
              "      <td>7.2250</td>\n",
              "      <td>NaN</td>\n",
              "      <td>C</td>\n",
              "      <td>NaN</td>\n",
              "      <td>NaN</td>\n",
              "      <td>NaN</td>\n",
              "      <td>0</td>\n",
              "      <td>1</td>\n",
              "      <td>1</td>\n",
              "      <td>0</td>\n",
              "      <td>0</td>\n",
              "      <td>0</td>\n",
              "      <td>0</td>\n",
              "      <td>1</td>\n",
              "    </tr>\n",
              "    <tr>\n",
              "      <th>1308</th>\n",
              "      <td>3</td>\n",
              "      <td>0</td>\n",
              "      <td>Zimmerman, Mr. Leo</td>\n",
              "      <td>male</td>\n",
              "      <td>29.0</td>\n",
              "      <td>0</td>\n",
              "      <td>0</td>\n",
              "      <td>315082</td>\n",
              "      <td>7.8750</td>\n",
              "      <td>NaN</td>\n",
              "      <td>S</td>\n",
              "      <td>NaN</td>\n",
              "      <td>NaN</td>\n",
              "      <td>NaN</td>\n",
              "      <td>0</td>\n",
              "      <td>1</td>\n",
              "      <td>0</td>\n",
              "      <td>0</td>\n",
              "      <td>1</td>\n",
              "      <td>0</td>\n",
              "      <td>0</td>\n",
              "      <td>1</td>\n",
              "    </tr>\n",
              "  </tbody>\n",
              "</table>\n",
              "</div>"
            ],
            "text/plain": [
              "      pclass  survived                       name  ... class_1  class_2  class_3\n",
              "1304       3         0       Zabour, Miss. Hileni  ...       0        0        1\n",
              "1305       3         0      Zabour, Miss. Thamine  ...       0        0        1\n",
              "1306       3         0  Zakarian, Mr. Mapriededer  ...       0        0        1\n",
              "1307       3         0        Zakarian, Mr. Ortin  ...       0        0        1\n",
              "1308       3         0         Zimmerman, Mr. Leo  ...       0        0        1\n",
              "\n",
              "[5 rows x 22 columns]"
            ]
          },
          "metadata": {
            "tags": []
          },
          "execution_count": 9
        }
      ]
    },
    {
      "cell_type": "code",
      "metadata": {
        "id": "TgUlPzpvGrNE",
        "colab_type": "code",
        "colab": {}
      },
      "source": [
        "# Fill missing values\n",
        "titanic_data[\"age\"] = titanic_data[\"age\"].fillna(titanic_data[\"age\"].mean())\n",
        "titanic_data[\"fare\"] = titanic_data[\"fare\"].fillna(titanic_data[\"fare\"].mean())\n",
        "\n",
        "# Remove the originating columns & other information\n",
        "titanic_data = titanic_data.drop(['name','ticket','cabin','boat','body','home.dest','sex','embarked','pclass'], axis=1)"
      ],
      "execution_count": 10,
      "outputs": []
    },
    {
      "cell_type": "code",
      "metadata": {
        "id": "CdEY876gHFi5",
        "colab_type": "code",
        "colab": {}
      },
      "source": [
        "# Set random seed for reproducibility.\n",
        "np.random.seed(131254)\n",
        "\n",
        "# Convert features and labels to numpy arrays.\n",
        "labels = titanic_data[\"survived\"].to_numpy()\n",
        "titanic_data = titanic_data.drop(['survived'], axis=1)\n",
        "feature_names = list(titanic_data.columns)\n",
        "data = titanic_data.to_numpy()"
      ],
      "execution_count": 11,
      "outputs": []
    },
    {
      "cell_type": "code",
      "metadata": {
        "id": "urLf-mGsHtIR",
        "colab_type": "code",
        "colab": {
          "base_uri": "https://localhost:8080/",
          "height": 34
        },
        "outputId": "3b7ddf88-627c-42ed-c805-f37a2442256d"
      },
      "source": [
        "titanic_data.shape"
      ],
      "execution_count": 14,
      "outputs": [
        {
          "output_type": "execute_result",
          "data": {
            "text/plain": [
              "(1309, 12)"
            ]
          },
          "metadata": {
            "tags": []
          },
          "execution_count": 14
        }
      ]
    },
    {
      "cell_type": "code",
      "metadata": {
        "id": "6kWovMR3HTcx",
        "colab_type": "code",
        "colab": {}
      },
      "source": [
        "# Separate training and test sets using \n",
        "train_indices = np.random.choice(len(labels), int(0.7*len(labels)), replace=False)\n",
        "test_indices = list(set(range(len(labels))) - set(train_indices))\n",
        "train_features = data[train_indices]\n",
        "train_labels = labels[train_indices]\n",
        "test_features = data[test_indices]\n",
        "test_labels = labels[test_indices]"
      ],
      "execution_count": 12,
      "outputs": []
    },
    {
      "cell_type": "code",
      "metadata": {
        "id": "jsOran56Hgto",
        "colab_type": "code",
        "colab": {}
      },
      "source": [
        "import torch\n",
        "import torch.nn as nn\n",
        "torch.manual_seed(1)  # Set seed for reproducibility.\n",
        "class TitanicSimpleNNModel(nn.Module):\n",
        "    def __init__(self):\n",
        "        super().__init__()\n",
        "        self.linear1 = nn.Linear(12, 12)\n",
        "        self.sigmoid1 = nn.Sigmoid()\n",
        "        self.linear2 = nn.Linear(12, 8)\n",
        "        self.sigmoid2 = nn.Sigmoid()\n",
        "        self.linear3 = nn.Linear(8, 2)\n",
        "        self.softmax = nn.Softmax(dim=1)\n",
        "\n",
        "    def forward(self, x):\n",
        "        lin1_out = self.linear1(x)\n",
        "        sigmoid_out1 = self.sigmoid1(lin1_out)\n",
        "        sigmoid_out2 = self.sigmoid2(self.linear2(sigmoid_out1))\n",
        "        return self.softmax(self.linear3(sigmoid_out2))"
      ],
      "execution_count": 15,
      "outputs": []
    },
    {
      "cell_type": "code",
      "metadata": {
        "id": "QbKflhGWIRBC",
        "colab_type": "code",
        "colab": {
          "base_uri": "https://localhost:8080/",
          "height": 289
        },
        "outputId": "cdde3bcb-3152-4ab0-c0c3-7bba1333ccfc"
      },
      "source": [
        "!wget https://github.com/pytorch/captum/raw/master/tutorials/models/cifar_torchvision.pt"
      ],
      "execution_count": 17,
      "outputs": [
        {
          "output_type": "stream",
          "text": [
            "--2020-07-30 19:12:23--  https://github.com/pytorch/captum/raw/master/tutorials/models/cifar_torchvision.pt\n",
            "Resolving github.com (github.com)... 140.82.113.4\n",
            "Connecting to github.com (github.com)|140.82.113.4|:443... connected.\n",
            "HTTP request sent, awaiting response... 302 Found\n",
            "Location: https://raw.githubusercontent.com/pytorch/captum/master/tutorials/models/cifar_torchvision.pt [following]\n",
            "--2020-07-30 19:12:24--  https://raw.githubusercontent.com/pytorch/captum/master/tutorials/models/cifar_torchvision.pt\n",
            "Resolving raw.githubusercontent.com (raw.githubusercontent.com)... 151.101.0.133, 151.101.64.133, 151.101.128.133, ...\n",
            "Connecting to raw.githubusercontent.com (raw.githubusercontent.com)|151.101.0.133|:443... connected.\n",
            "HTTP request sent, awaiting response... 200 OK\n",
            "Length: 249703 (244K) [application/octet-stream]\n",
            "Saving to: ‘cifar_torchvision.pt.1’\n",
            "\n",
            "cifar_torchvision.p 100%[===================>] 243.85K  --.-KB/s    in 0.05s   \n",
            "\n",
            "2020-07-30 19:12:25 (4.35 MB/s) - ‘cifar_torchvision.pt.1’ saved [249703/249703]\n",
            "\n"
          ],
          "name": "stdout"
        }
      ]
    },
    {
      "cell_type": "code",
      "metadata": {
        "id": "mAQdEftkIXPy",
        "colab_type": "code",
        "colab": {
          "base_uri": "https://localhost:8080/",
          "height": 187
        },
        "outputId": "9ea8c7a8-236a-4723-93e9-1e424c66965b"
      },
      "source": [
        "net = TitanicSimpleNNModel()\n",
        "USE_PRETRAINED_MODEL = False\n",
        "\n",
        "if USE_PRETRAINED_MODEL:\n",
        "    net.load_state_dict(torch.load('titanic_model.pt'))\n",
        "    print(\"Model Loaded!\")\n",
        "else:\n",
        "    criterion = nn.CrossEntropyLoss()\n",
        "    num_epochs = 200\n",
        "\n",
        "    optimizer = torch.optim.Adam(net.parameters(), lr=0.1)\n",
        "    input_tensor = torch.from_numpy(train_features).type(torch.FloatTensor)\n",
        "    label_tensor = torch.from_numpy(train_labels)\n",
        "    for epoch in range(num_epochs):    \n",
        "        output = net(input_tensor)\n",
        "        loss = criterion(output, label_tensor)\n",
        "        optimizer.zero_grad()\n",
        "        loss.backward()\n",
        "        optimizer.step()\n",
        "        if epoch % 20 == 0:\n",
        "            print ('Epoch {}/{} => Loss: {:.2f}'.format(epoch+1, num_epochs, loss.item()))\n",
        "\n",
        "    torch.save(net.state_dict(), 'titanic_model_2.pt')"
      ],
      "execution_count": 23,
      "outputs": [
        {
          "output_type": "stream",
          "text": [
            "Epoch 1/200 => Loss: 0.75\n",
            "Epoch 21/200 => Loss: 0.58\n",
            "Epoch 41/200 => Loss: 0.52\n",
            "Epoch 61/200 => Loss: 0.52\n",
            "Epoch 81/200 => Loss: 0.50\n",
            "Epoch 101/200 => Loss: 0.49\n",
            "Epoch 121/200 => Loss: 0.49\n",
            "Epoch 141/200 => Loss: 0.49\n",
            "Epoch 161/200 => Loss: 0.49\n",
            "Epoch 181/200 => Loss: 0.48\n"
          ],
          "name": "stdout"
        }
      ]
    },
    {
      "cell_type": "code",
      "metadata": {
        "id": "1cklsZliJVBz",
        "colab_type": "code",
        "colab": {
          "base_uri": "https://localhost:8080/",
          "height": 34
        },
        "outputId": "49e9d60b-7cbb-4321-f735-a8a9dba89ef6"
      },
      "source": [
        "out_probs = net(input_tensor).detach().numpy()\n",
        "out_classes = np.argmax(out_probs, axis=1)\n",
        "print(\"Train Accuracy:\", sum(out_classes == train_labels) / len(train_labels))"
      ],
      "execution_count": 24,
      "outputs": [
        {
          "output_type": "stream",
          "text": [
            "Train Accuracy: 0.8209606986899564\n"
          ],
          "name": "stdout"
        }
      ]
    },
    {
      "cell_type": "code",
      "metadata": {
        "id": "635fzDA4KDAx",
        "colab_type": "code",
        "colab": {
          "base_uri": "https://localhost:8080/",
          "height": 34
        },
        "outputId": "9a117dcf-98c4-4f22-c46f-1144907d66e3"
      },
      "source": [
        "test_input_tensor = torch.from_numpy(test_features).type(torch.FloatTensor)\n",
        "out_probs = net(test_input_tensor).detach().numpy()\n",
        "out_classes = np.argmax(out_probs, axis=1)\n",
        "print(\"Test Accuracy:\", sum(out_classes == test_labels) / len(test_labels))\n"
      ],
      "execution_count": 26,
      "outputs": [
        {
          "output_type": "stream",
          "text": [
            "Test Accuracy: 0.8193384223918575\n"
          ],
          "name": "stdout"
        }
      ]
    },
    {
      "cell_type": "code",
      "metadata": {
        "id": "1DvUVZFrKIxW",
        "colab_type": "code",
        "colab": {}
      },
      "source": [
        "ig = IntegratedGradients(net)"
      ],
      "execution_count": 27,
      "outputs": []
    },
    {
      "cell_type": "code",
      "metadata": {
        "id": "5vWv-Xi-Kf1T",
        "colab_type": "code",
        "colab": {}
      },
      "source": [
        "\n",
        "test_input_tensor.requires_grad_()\n",
        "attr, delta = ig.attribute(test_input_tensor,target=1, return_convergence_delta=True)\n",
        "attr = attr.detach().numpy()"
      ],
      "execution_count": 28,
      "outputs": []
    },
    {
      "cell_type": "code",
      "metadata": {
        "id": "GF8XYHBBK_Qm",
        "colab_type": "code",
        "colab": {
          "base_uri": "https://localhost:8080/",
          "height": 626
        },
        "outputId": "d0766ea9-23f6-4e2f-8e6a-c51fe98bdda8"
      },
      "source": [
        "# Helper method to print importances and visualize distribution\n",
        "def visualize_importances(feature_names, importances, title=\"Average Feature Importances\", plot=True, axis_title=\"Features\"):\n",
        "    print(title)\n",
        "    for i in range(len(feature_names)):\n",
        "        print(feature_names[i], \": \", '%.3f'%(importances[i]))\n",
        "    x_pos = (np.arange(len(feature_names)))\n",
        "    if plot:\n",
        "        plt.figure(figsize=(12,6))\n",
        "        plt.bar(x_pos, importances, align='center')\n",
        "        plt.xticks(x_pos, feature_names, wrap=True)\n",
        "        plt.xlabel(axis_title)\n",
        "        plt.title(title)\n",
        "visualize_importances(feature_names, np.mean(attr, axis=0))"
      ],
      "execution_count": 29,
      "outputs": [
        {
          "output_type": "stream",
          "text": [
            "Average Feature Importances\n",
            "age :  -0.563\n",
            "sibsp :  -0.078\n",
            "parch :  -0.012\n",
            "fare :  0.068\n",
            "female :  0.309\n",
            "male :  -0.348\n",
            "embark_C :  0.084\n",
            "embark_Q :  0.007\n",
            "embark_S :  -0.079\n",
            "class_1 :  0.098\n",
            "class_2 :  0.064\n",
            "class_3 :  -0.296\n"
          ],
          "name": "stdout"
        },
        {
          "output_type": "display_data",
          "data": {
            "image/png": "[encoded data removed]",
            "text/plain": [
              "<Figure size 864x432 with 1 Axes>"
            ]
          },
          "metadata": {
            "tags": [],
            "needs_background": "light"
          }
        }
      ]
    },
    {
      "cell_type": "code",
      "metadata": {
        "id": "NUd6gSeSLE5B",
        "colab_type": "code",
        "colab": {
          "base_uri": "https://localhost:8080/",
          "height": 281
        },
        "outputId": "ec038340-e4cb-4237-a7b3-a8ce0b44105e"
      },
      "source": [
        "plt.hist(attr[:,1], 100);\n",
        "plt.title(\"Distribution of Sibsp Attribution Values\");"
      ],
      "execution_count": 30,
      "outputs": [
        {
          "output_type": "display_data",
          "data": {
            "image/png": "[encoded data removed]",
            "text/plain": [
              "<Figure size 432x288 with 1 Axes>"
            ]
          },
          "metadata": {
            "tags": [],
            "needs_background": "light"
          }
        }
      ]
    },
    {
      "cell_type": "code",
      "metadata": {
        "id": "BD3NctE5LiHZ",
        "colab_type": "code",
        "colab": {
          "base_uri": "https://localhost:8080/",
          "height": 279
        },
        "outputId": "7434ed1c-7cdf-4844-b3ef-3cf9a51711f6"
      },
      "source": [
        "bin_means, bin_edges, _ = stats.binned_statistic(test_features[:,1], attr[:,1], statistic='mean', bins=6)\n",
        "bin_count, _, _ = stats.binned_statistic(test_features[:,1], attr[:,1], statistic='count', bins=6)\n",
        "\n",
        "bin_width = (bin_edges[1] - bin_edges[0])\n",
        "bin_centers = bin_edges[1:] - bin_width/2\n",
        "plt.scatter(bin_centers, bin_means, s=bin_count)\n",
        "plt.xlabel(\"Average Sibsp Feature Value\");\n",
        "plt.ylabel(\"Average Attribution\");"
      ],
      "execution_count": 31,
      "outputs": [
        {
          "output_type": "display_data",
          "data": {
            "image/png": "[encoded data removed]",
            "text/plain": [
              "<Figure size 432x288 with 1 Axes>"
            ]
          },
          "metadata": {
            "tags": [],
            "needs_background": "light"
          }
        }
      ]
    },
    {
      "cell_type": "code",
      "metadata": {
        "id": "V-vV0PPrLvvU",
        "colab_type": "code",
        "colab": {}
      },
      "source": [
        "cond = LayerConductance(net, net.sigmoid1)"
      ],
      "execution_count": 32,
      "outputs": []
    },
    {
      "cell_type": "code",
      "metadata": {
        "id": "6HB1ihiGMQ03",
        "colab_type": "code",
        "colab": {}
      },
      "source": [
        "cond_vals = cond.attribute(test_input_tensor,target=1)\n",
        "cond_vals = cond_vals.detach().numpy()"
      ],
      "execution_count": 33,
      "outputs": []
    },
    {
      "cell_type": "code",
      "metadata": {
        "id": "0Wj5zzbJMS44",
        "colab_type": "code",
        "colab": {
          "base_uri": "https://localhost:8080/",
          "height": 625
        },
        "outputId": "fb704259-303c-4cd9-f2e5-710bc5b599c1"
      },
      "source": [
        "visualize_importances(range(12),np.mean(cond_vals, axis=0),title=\"Average Neuron Importances\", axis_title=\"Neurons\")"
      ],
      "execution_count": 34,
      "outputs": [
        {
          "output_type": "stream",
          "text": [
            "Average Neuron Importances\n",
            "0 :  -0.006\n",
            "1 :  0.002\n",
            "2 :  -0.008\n",
            "3 :  -0.129\n",
            "4 :  -0.002\n",
            "5 :  -0.005\n",
            "6 :  -0.009\n",
            "7 :  -0.152\n",
            "8 :  -0.237\n",
            "9 :  -0.157\n",
            "10 :  -0.001\n",
            "11 :  -0.001\n"
          ],
          "name": "stdout"
        },
        {
          "output_type": "display_data",
          "data": {
            "image/png": "[encoded data removed]",
            "text/plain": [
              "<Figure size 864x432 with 1 Axes>"
            ]
          },
          "metadata": {
            "tags": [],
            "needs_background": "light"
          }
        }
      ]
    },
    {
      "cell_type": "code",
      "metadata": {
        "id": "0FsN2L7jMyOM",
        "colab_type": "code",
        "colab": {
          "base_uri": "https://localhost:8080/",
          "height": 545
        },
        "outputId": "1792ab7a-78b2-4cb9-8f7d-44c7192c1550"
      },
      "source": [
        "plt.hist(cond_vals[:,9], 100);\n",
        "plt.title(\"Neuron 9 Distribution\")\n",
        "plt.figure()\n",
        "plt.hist(cond_vals[:,7], 100);\n",
        "plt.title(\"Neuron 7 Distribution\");"
      ],
      "execution_count": 35,
      "outputs": [
        {
          "output_type": "display_data",
          "data": {
            "image/png": "[encoded data removed]",
            "text/plain": [
              "<Figure size 432x288 with 1 Axes>"
            ]
          },
          "metadata": {
            "tags": [],
            "needs_background": "light"
          }
        },
        {
          "output_type": "display_data",
          "data": {
            "image/png": "[encoded data removed]",
            "text/plain": [
              "<Figure size 432x288 with 1 Axes>"
            ]
          },
          "metadata": {
            "tags": [],
            "needs_background": "light"
          }
        }
      ]
    },
    {
      "cell_type": "code",
      "metadata": {
        "id": "nYYEn6xZM7Cc",
        "colab_type": "code",
        "colab": {
          "base_uri": "https://localhost:8080/",
          "height": 545
        },
        "outputId": "196eaf18-afa1-4d09-97c7-8ddfd2aa75b9"
      },
      "source": [
        "plt.hist(cond_vals[:,1], 100);\n",
        "plt.title(\"Neuron 1 Distribution\")\n",
        "plt.figure()\n",
        "plt.hist(cond_vals[:,4], 100);\n",
        "plt.title(\"Neuron 4 Distribution\");"
      ],
      "execution_count": 37,
      "outputs": [
        {
          "output_type": "display_data",
          "data": {
            "image/png": "[encoded data removed]",
            "text/plain": [
              "<Figure size 432x288 with 1 Axes>"
            ]
          },
          "metadata": {
            "tags": [],
            "needs_background": "light"
          }
        },
        {
          "output_type": "display_data",
          "data": {
            "image/png": "[encoded data removed]",
            "text/plain": [
              "<Figure size 432x288 with 1 Axes>"
            ]
          },
          "metadata": {
            "tags": [],
            "needs_background": "light"
          }
        }
      ]
    },
    {
      "cell_type": "code",
      "metadata": {
        "id": "vgl5B5_WNDsw",
        "colab_type": "code",
        "colab": {}
      },
      "source": [
        "neuron_cond = NeuronConductance(net, net.sigmoid1)"
      ],
      "execution_count": 38,
      "outputs": []
    },
    {
      "cell_type": "code",
      "metadata": {
        "id": "xj5u5N4bNbxt",
        "colab_type": "code",
        "colab": {}
      },
      "source": [
        "neuron_cond_vals_7 = neuron_cond.attribute(test_input_tensor, neuron_index=7, target=1)\n",
        "\n",
        "neuron_cond_vals_9 = neuron_cond.attribute(test_input_tensor, neuron_index=9, target=1)"
      ],
      "execution_count": 39,
      "outputs": []
    },
    {
      "cell_type": "code",
      "metadata": {
        "id": "i7fEMY6UNqBx",
        "colab_type": "code",
        "colab": {
          "base_uri": "https://localhost:8080/",
          "height": 626
        },
        "outputId": "f0c57223-336b-4b9b-d4e6-03bcba571723"
      },
      "source": [
        "visualize_importances(feature_names, neuron_cond_vals_7.mean(dim=0).detach().numpy(), title=\"Average Feature Importances for Neuron 7\")"
      ],
      "execution_count": 40,
      "outputs": [
        {
          "output_type": "stream",
          "text": [
            "Average Feature Importances for Neuron 7\n",
            "age :  -0.251\n",
            "sibsp :  -0.028\n",
            "parch :  0.023\n",
            "fare :  0.055\n",
            "female :  0.000\n",
            "male :  0.013\n",
            "embark_C :  0.004\n",
            "embark_Q :  -0.001\n",
            "embark_S :  0.003\n",
            "class_1 :  0.001\n",
            "class_2 :  0.015\n",
            "class_3 :  -0.028\n"
          ],
          "name": "stdout"
        },
        {
          "output_type": "display_data",
          "data": {
            "image/png": "[encoded data removed]",
            "text/plain": [
              "<Figure size 864x432 with 1 Axes>"
            ]
          },
          "metadata": {
            "tags": [],
            "needs_background": "light"
          }
        }
      ]
    },
    {
      "cell_type": "code",
      "metadata": {
        "id": "fBNXFwBNN2Gy",
        "colab_type": "code",
        "colab": {
          "base_uri": "https://localhost:8080/",
          "height": 626
        },
        "outputId": "80de47d6-3410-43b9-df1b-90b2b0dc8880"
      },
      "source": [
        "visualize_importances(feature_names, neuron_cond_vals_9.mean(dim=0).detach().numpy(), title=\"Average Feature Importances for Neuron 9\")"
      ],
      "execution_count": 41,
      "outputs": [
        {
          "output_type": "stream",
          "text": [
            "Average Feature Importances for Neuron 9\n",
            "age :  0.076\n",
            "sibsp :  -0.012\n",
            "parch :  -0.019\n",
            "fare :  -0.040\n",
            "female :  0.171\n",
            "male :  -0.245\n",
            "embark_C :  0.035\n",
            "embark_Q :  0.000\n",
            "embark_S :  -0.033\n",
            "class_1 :  0.076\n",
            "class_2 :  0.012\n",
            "class_3 :  -0.171\n"
          ],
          "name": "stdout"
        },
        {
          "output_type": "display_data",
          "data": {
            "image/png": "[encoded data removed]",
            "text/plain": [
              "<Figure size 864x432 with 1 Axes>"
            ]
          },
          "metadata": {
            "tags": [],
            "needs_background": "light"
          }
        }
      ]
    },
    {
      "cell_type": "code",
      "metadata": {
        "id": "uDIdbzraN5DM",
        "colab_type": "code",
        "colab": {}
      },
      "source": [
        ""
      ],
      "execution_count": null,
      "outputs": []
    }
  ]
}